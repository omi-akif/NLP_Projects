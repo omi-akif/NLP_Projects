{
 "cells": [
  {
   "cell_type": "markdown",
   "metadata": {},
   "source": [
    "# Discrepancy in the Data"
   ]
  },
  {
   "cell_type": "markdown",
   "metadata": {},
   "source": [
    "### Data Upload and Primary Analysis"
   ]
  },
  {
   "cell_type": "markdown",
   "metadata": {},
   "source": [
    "##### Import Libraries"
   ]
  },
  {
   "cell_type": "code",
   "execution_count": 1,
   "metadata": {},
   "outputs": [],
   "source": [
    "import pandas as pd\n",
    "import datetime as dt\n",
    "import numpy as np\n",
    "from IPython.display import display"
   ]
  },
  {
   "cell_type": "markdown",
   "metadata": {},
   "source": [
    "##### Load Dataset"
   ]
  },
  {
   "cell_type": "code",
   "execution_count": 2,
   "metadata": {},
   "outputs": [],
   "source": [
    "UNIQUE_DF = pd.read_csv('2022_05260526_CD.csv')"
   ]
  },
  {
   "cell_type": "markdown",
   "metadata": {},
   "source": [
    "### Data Analysis "
   ]
  },
  {
   "cell_type": "markdown",
   "metadata": {},
   "source": [
    "##### Peeking into the data"
   ]
  },
  {
   "cell_type": "code",
   "execution_count": 3,
   "metadata": {},
   "outputs": [
    {
     "data": {
      "text/html": [
       "<div>\n",
       "<style scoped>\n",
       "    .dataframe tbody tr th:only-of-type {\n",
       "        vertical-align: middle;\n",
       "    }\n",
       "\n",
       "    .dataframe tbody tr th {\n",
       "        vertical-align: top;\n",
       "    }\n",
       "\n",
       "    .dataframe thead th {\n",
       "        text-align: right;\n",
       "    }\n",
       "</style>\n",
       "<table border=\"1\" class=\"dataframe\">\n",
       "  <thead>\n",
       "    <tr style=\"text-align: right;\">\n",
       "      <th></th>\n",
       "      <th>Create Date</th>\n",
       "      <th>tenant_name</th>\n",
       "      <th>robot_code</th>\n",
       "      <th>robot_name</th>\n",
       "      <th>from_id</th>\n",
       "      <th>from_name</th>\n",
       "      <th>Session_id</th>\n",
       "      <th>Intention</th>\n",
       "      <th>user_id</th>\n",
       "      <th>Seller id (X-space)</th>\n",
       "      <th>...</th>\n",
       "      <th>Feedback Card Response</th>\n",
       "      <th>is_chat_recommend</th>\n",
       "      <th>is_chat_no answer</th>\n",
       "      <th>is_chat_pre/post match</th>\n",
       "      <th>live agent_session_id</th>\n",
       "      <th>Last Query Before Live Agent Session</th>\n",
       "      <th>Live Agent User Query</th>\n",
       "      <th>Live Agent Response</th>\n",
       "      <th>Feedback Type</th>\n",
       "      <th>Unsatisfied Reason</th>\n",
       "    </tr>\n",
       "  </thead>\n",
       "  <tbody>\n",
       "    <tr>\n",
       "      <th>0</th>\n",
       "      <td>2022-05-26 00:00:00</td>\n",
       "      <td>Alime-DRZ-CC-BD</td>\n",
       "      <td>l2Cgc9psxK</td>\n",
       "      <td>BD-Daz-EN</td>\n",
       "      <td>2QpojyCHcD</td>\n",
       "      <td>BD-Daz-EN-DD-App</td>\n",
       "      <td>2b04a77a2c7549838b49329c10275390</td>\n",
       "      <td>route_daraz_others</td>\n",
       "      <td>2101100065520413</td>\n",
       "      <td>1774726</td>\n",
       "      <td>...</td>\n",
       "      <td>NaN</td>\n",
       "      <td>N</td>\n",
       "      <td>N</td>\n",
       "      <td>N</td>\n",
       "      <td>NaN</td>\n",
       "      <td>NaN</td>\n",
       "      <td>NaN</td>\n",
       "      <td>NaN</td>\n",
       "      <td>NaN</td>\n",
       "      <td>NaN</td>\n",
       "    </tr>\n",
       "    <tr>\n",
       "      <th>1</th>\n",
       "      <td>2022-05-26 00:00:00</td>\n",
       "      <td>Alime-DRZ-CC-BD</td>\n",
       "      <td>l2Cgc9psxK</td>\n",
       "      <td>BD-Daz-EN</td>\n",
       "      <td>2QpojyCHcD</td>\n",
       "      <td>BD-Daz-EN-DD-App</td>\n",
       "      <td>2b04a77a2c7549838b49329c10275390</td>\n",
       "      <td>route_daraz_others</td>\n",
       "      <td>2101100065520413</td>\n",
       "      <td>1774726</td>\n",
       "      <td>...</td>\n",
       "      <td>NaN</td>\n",
       "      <td>N</td>\n",
       "      <td>N</td>\n",
       "      <td>N</td>\n",
       "      <td>NaN</td>\n",
       "      <td>NaN</td>\n",
       "      <td>NaN</td>\n",
       "      <td>NaN</td>\n",
       "      <td>NaN</td>\n",
       "      <td>NaN</td>\n",
       "    </tr>\n",
       "  </tbody>\n",
       "</table>\n",
       "<p>2 rows × 42 columns</p>\n",
       "</div>"
      ],
      "text/plain": [
       "           Create Date      tenant_name  robot_code robot_name     from_id  \\\n",
       "0  2022-05-26 00:00:00  Alime-DRZ-CC-BD  l2Cgc9psxK  BD-Daz-EN  2QpojyCHcD   \n",
       "1  2022-05-26 00:00:00  Alime-DRZ-CC-BD  l2Cgc9psxK  BD-Daz-EN  2QpojyCHcD   \n",
       "\n",
       "          from_name                        Session_id           Intention  \\\n",
       "0  BD-Daz-EN-DD-App  2b04a77a2c7549838b49329c10275390  route_daraz_others   \n",
       "1  BD-Daz-EN-DD-App  2b04a77a2c7549838b49329c10275390  route_daraz_others   \n",
       "\n",
       "            user_id  Seller id (X-space)  ... Feedback Card Response  \\\n",
       "0  2101100065520413              1774726  ...                    NaN   \n",
       "1  2101100065520413              1774726  ...                    NaN   \n",
       "\n",
       "  is_chat_recommend is_chat_no answer is_chat_pre/post match  \\\n",
       "0                 N                 N                      N   \n",
       "1                 N                 N                      N   \n",
       "\n",
       "  live agent_session_id Last Query Before Live Agent Session  \\\n",
       "0                   NaN                                  NaN   \n",
       "1                   NaN                                  NaN   \n",
       "\n",
       "  Live Agent User Query Live Agent Response  Feedback Type Unsatisfied Reason  \n",
       "0                   NaN                 NaN            NaN                NaN  \n",
       "1                   NaN                 NaN            NaN                NaN  \n",
       "\n",
       "[2 rows x 42 columns]"
      ]
     },
     "execution_count": 3,
     "metadata": {},
     "output_type": "execute_result"
    }
   ],
   "source": [
    "UNIQUE_DF.head(2)"
   ]
  },
  {
   "cell_type": "code",
   "execution_count": 4,
   "metadata": {},
   "outputs": [
    {
     "data": {
      "text/html": [
       "<div>\n",
       "<style scoped>\n",
       "    .dataframe tbody tr th:only-of-type {\n",
       "        vertical-align: middle;\n",
       "    }\n",
       "\n",
       "    .dataframe tbody tr th {\n",
       "        vertical-align: top;\n",
       "    }\n",
       "\n",
       "    .dataframe thead th {\n",
       "        text-align: right;\n",
       "    }\n",
       "</style>\n",
       "<table border=\"1\" class=\"dataframe\">\n",
       "  <thead>\n",
       "    <tr style=\"text-align: right;\">\n",
       "      <th></th>\n",
       "      <th>Create Date</th>\n",
       "      <th>tenant_name</th>\n",
       "      <th>robot_code</th>\n",
       "      <th>robot_name</th>\n",
       "      <th>from_id</th>\n",
       "      <th>from_name</th>\n",
       "      <th>Session_id</th>\n",
       "      <th>Intention</th>\n",
       "      <th>user_id</th>\n",
       "      <th>Seller id (X-space)</th>\n",
       "      <th>...</th>\n",
       "      <th>Feedback Card Response</th>\n",
       "      <th>is_chat_recommend</th>\n",
       "      <th>is_chat_no answer</th>\n",
       "      <th>is_chat_pre/post match</th>\n",
       "      <th>live agent_session_id</th>\n",
       "      <th>Last Query Before Live Agent Session</th>\n",
       "      <th>Live Agent User Query</th>\n",
       "      <th>Live Agent Response</th>\n",
       "      <th>Feedback Type</th>\n",
       "      <th>Unsatisfied Reason</th>\n",
       "    </tr>\n",
       "  </thead>\n",
       "  <tbody>\n",
       "    <tr>\n",
       "      <th>24527</th>\n",
       "      <td>2022-05-26 00:00:00</td>\n",
       "      <td>Alime-DRZ-CC-BD</td>\n",
       "      <td>l2Cgc9psxK</td>\n",
       "      <td>BD-Daz-EN</td>\n",
       "      <td>V3EasrtOgs</td>\n",
       "      <td>BD-Daz-EN-HC-App</td>\n",
       "      <td>fe67805a660b4d9ca98de4698e3cc1ca</td>\n",
       "      <td>route_daraz_others</td>\n",
       "      <td>2101100018554091</td>\n",
       "      <td>700006908793</td>\n",
       "      <td>...</td>\n",
       "      <td>NaN</td>\n",
       "      <td>N</td>\n",
       "      <td>N</td>\n",
       "      <td>Y</td>\n",
       "      <td>NaN</td>\n",
       "      <td>NaN</td>\n",
       "      <td>NaN</td>\n",
       "      <td>NaN</td>\n",
       "      <td>NaN</td>\n",
       "      <td>NaN</td>\n",
       "    </tr>\n",
       "    <tr>\n",
       "      <th>24528</th>\n",
       "      <td>2022-05-26 00:00:00</td>\n",
       "      <td>Alime-DRZ-CC-BD</td>\n",
       "      <td>l2Cgc9psxK</td>\n",
       "      <td>BD-Daz-EN</td>\n",
       "      <td>V3EasrtOgs</td>\n",
       "      <td>BD-Daz-EN-HC-App</td>\n",
       "      <td>fe67805a660b4d9ca98de4698e3cc1ca</td>\n",
       "      <td>route_daraz_others</td>\n",
       "      <td>2101100018554091</td>\n",
       "      <td>700006908793</td>\n",
       "      <td>...</td>\n",
       "      <td>NaN</td>\n",
       "      <td>N</td>\n",
       "      <td>N</td>\n",
       "      <td>Y</td>\n",
       "      <td>NaN</td>\n",
       "      <td>NaN</td>\n",
       "      <td>NaN</td>\n",
       "      <td>NaN</td>\n",
       "      <td>NaN</td>\n",
       "      <td>NaN</td>\n",
       "    </tr>\n",
       "  </tbody>\n",
       "</table>\n",
       "<p>2 rows × 42 columns</p>\n",
       "</div>"
      ],
      "text/plain": [
       "               Create Date      tenant_name  robot_code robot_name  \\\n",
       "24527  2022-05-26 00:00:00  Alime-DRZ-CC-BD  l2Cgc9psxK  BD-Daz-EN   \n",
       "24528  2022-05-26 00:00:00  Alime-DRZ-CC-BD  l2Cgc9psxK  BD-Daz-EN   \n",
       "\n",
       "          from_id         from_name                        Session_id  \\\n",
       "24527  V3EasrtOgs  BD-Daz-EN-HC-App  fe67805a660b4d9ca98de4698e3cc1ca   \n",
       "24528  V3EasrtOgs  BD-Daz-EN-HC-App  fe67805a660b4d9ca98de4698e3cc1ca   \n",
       "\n",
       "                Intention           user_id  Seller id (X-space)  ...  \\\n",
       "24527  route_daraz_others  2101100018554091         700006908793  ...   \n",
       "24528  route_daraz_others  2101100018554091         700006908793  ...   \n",
       "\n",
       "      Feedback Card Response is_chat_recommend is_chat_no answer  \\\n",
       "24527                    NaN                 N                 N   \n",
       "24528                    NaN                 N                 N   \n",
       "\n",
       "      is_chat_pre/post match live agent_session_id  \\\n",
       "24527                      Y                   NaN   \n",
       "24528                      Y                   NaN   \n",
       "\n",
       "      Last Query Before Live Agent Session Live Agent User Query  \\\n",
       "24527                                  NaN                   NaN   \n",
       "24528                                  NaN                   NaN   \n",
       "\n",
       "      Live Agent Response  Feedback Type Unsatisfied Reason  \n",
       "24527                 NaN            NaN                NaN  \n",
       "24528                 NaN            NaN                NaN  \n",
       "\n",
       "[2 rows x 42 columns]"
      ]
     },
     "execution_count": 4,
     "metadata": {},
     "output_type": "execute_result"
    }
   ],
   "source": [
    "UNIQUE_DF.tail(2)"
   ]
  },
  {
   "cell_type": "markdown",
   "metadata": {},
   "source": [
    "##### Number of data"
   ]
  },
  {
   "cell_type": "code",
   "execution_count": 5,
   "metadata": {},
   "outputs": [
    {
     "data": {
      "text/plain": [
       "24529"
      ]
     },
     "execution_count": 5,
     "metadata": {},
     "output_type": "execute_result"
    }
   ],
   "source": [
    "UNIQUE_DF.shape[0]"
   ]
  },
  {
   "cell_type": "markdown",
   "metadata": {},
   "source": [
    "##### Beautifying data"
   ]
  },
  {
   "cell_type": "code",
   "execution_count": 6,
   "metadata": {},
   "outputs": [],
   "source": [
    "UNIQUE_DF['Seller id (X-space)'] = UNIQUE_DF['Seller id (X-space)'].apply(lambda x: '%.0f' % x).astype(str)"
   ]
  },
  {
   "cell_type": "code",
   "execution_count": 7,
   "metadata": {},
   "outputs": [],
   "source": [
    "UNIQUE_NOTNA_DF = UNIQUE_DF[UNIQUE_DF['live agent_session_id'].notna()].reset_index()"
   ]
  },
  {
   "cell_type": "markdown",
   "metadata": {},
   "source": [
    "##### Number of data after beautifying"
   ]
  },
  {
   "cell_type": "code",
   "execution_count": 8,
   "metadata": {},
   "outputs": [
    {
     "data": {
      "text/plain": [
       "6346"
      ]
     },
     "execution_count": 8,
     "metadata": {},
     "output_type": "execute_result"
    }
   ],
   "source": [
    "UNIQUE_NOTNA_DF.shape[0]"
   ]
  },
  {
   "cell_type": "markdown",
   "metadata": {},
   "source": [
    "##### Finding unique session ids"
   ]
  },
  {
   "cell_type": "code",
   "execution_count": 9,
   "metadata": {},
   "outputs": [],
   "source": [
    "UNIQUE_NOTNA_DF_NO_DUPLICATES = UNIQUE_NOTNA_DF.drop_duplicates(subset='live agent_session_id', keep = 'first')"
   ]
  },
  {
   "cell_type": "code",
   "execution_count": 10,
   "metadata": {},
   "outputs": [
    {
     "data": {
      "text/plain": [
       "1443"
      ]
     },
     "execution_count": 10,
     "metadata": {},
     "output_type": "execute_result"
    }
   ],
   "source": [
    "UNIQUE_NOTNA_DF_NO_DUPLICATES.shape[0]"
   ]
  },
  {
   "cell_type": "code",
   "execution_count": 11,
   "metadata": {},
   "outputs": [],
   "source": [
    "UNIQUE_NOTNA_DF_NO_DUPLICATES.reset_index(inplace=True)"
   ]
  },
  {
   "cell_type": "code",
   "execution_count": 12,
   "metadata": {},
   "outputs": [],
   "source": [
    "#### A random seller ID for testing purpose\n",
    "#UNIQUE_RANDOM_VALUES = UNIQUE_NOTNA_DF_NO_DUPLICATES.sample(axis=0)\n",
    "#a_random_seller_id = UNIQUE_RANDOM_VALUES['Seller id (X-space)'].to_list()[0]"
   ]
  },
  {
   "cell_type": "code",
   "execution_count": 13,
   "metadata": {},
   "outputs": [],
   "source": [
    "UNIQUE__TABLE = UNIQUE_NOTNA_DF_NO_DUPLICATES.groupby(as_index = False, by =['Seller id (X-space)']).count()"
   ]
  },
  {
   "cell_type": "markdown",
   "metadata": {},
   "source": [
    "#### Choosing a random data with three sessions"
   ]
  },
  {
   "cell_type": "code",
   "execution_count": 14,
   "metadata": {},
   "outputs": [
    {
     "data": {
      "text/plain": [
       "28           1261150\n",
       "53           1441335\n",
       "106          1656586\n",
       "195     700000436326\n",
       "249     700001314608\n",
       "281     700003014984\n",
       "290     700003482320\n",
       "298     700003902641\n",
       "328     700004973049\n",
       "499     700014453857\n",
       "502     700014528102\n",
       "506     700014864196\n",
       "550     700017795191\n",
       "583     700019199540\n",
       "597     700020021670\n",
       "598     700020030800\n",
       "662     700024593600\n",
       "712     700028385708\n",
       "761     700032501575\n",
       "763     700032636750\n",
       "828     700036596953\n",
       "836     700037022555\n",
       "851     700037877818\n",
       "860     700038177756\n",
       "861     700038240538\n",
       "862     700038252552\n",
       "938     700045257423\n",
       "940     700045317618\n",
       "1001    700510785876\n",
       "1026    700512297752\n",
       "1046    700513467020\n",
       "1134    700516065519\n",
       "Name: Seller id (X-space), dtype: object"
      ]
     },
     "execution_count": 14,
     "metadata": {},
     "output_type": "execute_result"
    }
   ],
   "source": [
    "UNIQUE__TABLE[UNIQUE__TABLE['live agent_session_id']  == 3]['Seller id (X-space)']"
   ]
  },
  {
   "cell_type": "code",
   "execution_count": 17,
   "metadata": {},
   "outputs": [],
   "source": [
    "UNIQUE__TABLE[['Seller id (X-space)', 'live agent_session_id']].to_clipboard()"
   ]
  },
  {
   "cell_type": "markdown",
   "metadata": {},
   "source": [
    "#### Choosing a random data"
   ]
  },
  {
   "cell_type": "code",
   "execution_count": 27,
   "metadata": {},
   "outputs": [],
   "source": [
    "X = UNIQUE_NOTNA_DF_NO_DUPLICATES[UNIQUE_NOTNA_DF_NO_DUPLICATES['Seller id (X-space)'] == '700000594210'].sample(n=1, axis=0)['Seller id (X-space)']"
   ]
  },
  {
   "cell_type": "code",
   "execution_count": 28,
   "metadata": {},
   "outputs": [],
   "source": [
    "X = X.to_list()[0]"
   ]
  },
  {
   "cell_type": "markdown",
   "metadata": {},
   "source": [
    "##### Randomly select a single value from the live agent "
   ]
  },
  {
   "cell_type": "code",
   "execution_count": 29,
   "metadata": {},
   "outputs": [
    {
     "data": {
      "text/plain": [
       "438     b137f40612fe45ac81722dd6911fd8b6\n",
       "943     37eb1fd8a7b140fb8de0dc642c615a1e\n",
       "1381    dffa071f37034ca0b9c5a5a5e09780a9\n",
       "Name: live agent_session_id, dtype: object"
      ]
     },
     "execution_count": 29,
     "metadata": {},
     "output_type": "execute_result"
    }
   ],
   "source": [
    "UNIQUE_NOTNA_DF_NO_DUPLICATES[UNIQUE_NOTNA_DF_NO_DUPLICATES['Seller id (X-space)'] == X]['live agent_session_id']"
   ]
  }
 ],
 "metadata": {
  "interpreter": {
   "hash": "0606053452435824a427f0ea93d6ae20786397642025bcc66bfe96b66155d44b"
  },
  "kernelspec": {
   "display_name": "Python 3.9.7 ('base')",
   "language": "python",
   "name": "python3"
  },
  "language_info": {
   "codemirror_mode": {
    "name": "ipython",
    "version": 3
   },
   "file_extension": ".py",
   "mimetype": "text/x-python",
   "name": "python",
   "nbconvert_exporter": "python",
   "pygments_lexer": "ipython3",
   "version": "3.9.7"
  },
  "orig_nbformat": 4
 },
 "nbformat": 4,
 "nbformat_minor": 2
}
