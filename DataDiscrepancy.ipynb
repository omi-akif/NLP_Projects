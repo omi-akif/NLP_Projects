{
 "cells": [
  {
   "cell_type": "code",
   "execution_count": 358,
   "metadata": {},
   "outputs": [],
   "source": [
    "import pandas as pd"
   ]
  },
  {
   "cell_type": "code",
   "execution_count": 359,
   "metadata": {},
   "outputs": [],
   "source": [
    "data_df = pd.read_csv('2022_05230530_CD.csv')"
   ]
  },
  {
   "cell_type": "code",
   "execution_count": 360,
   "metadata": {},
   "outputs": [
    {
     "data": {
      "text/plain": [
       "Index(['Create Date', 'tenant_name', 'robot_code', 'robot_name', 'from_id',\n",
       "       'from_name', 'Session_id', 'Intention', 'user_id',\n",
       "       'Seller id (X-space)', 'user_nick', 'create_time', 'chat_uuid',\n",
       "       'Enter Type', 'query', 'Question Type', 'sopname', 'answer_type',\n",
       "       'SOP_Solution_id', 'SOP_Solution_Name', 'Standard Knowledge Title',\n",
       "       'Knowledge_id', 'knowledge_cate_1_name', 'knowledge_cate_2_name',\n",
       "       'knowledge_cate_3_name', 'is_session_unsatisfied',\n",
       "       'is_session_last_no answer', 'call_agent_by_click_shortcut',\n",
       "       'is_session_last_recommend no click', 'call_agent_by_intention',\n",
       "       'is_session_direct_liveagent', ' Contacted live agent on same day',\n",
       "       'Feedback Card Response', 'is_chat_recommend', 'is_chat_no answer',\n",
       "       'is_chat_pre/post match', 'live agent_session_id',\n",
       "       'Last Query Before Live Agent Session', 'Live Agent User Query',\n",
       "       'Live Agent Response', 'Feedback Type', 'Unsatisfied Reason'],\n",
       "      dtype='object')"
      ]
     },
     "execution_count": 360,
     "metadata": {},
     "output_type": "execute_result"
    }
   ],
   "source": [
    "data_df.columns"
   ]
  },
  {
   "cell_type": "code",
   "execution_count": 361,
   "metadata": {},
   "outputs": [],
   "source": [
    "# call_agent_by_click_shortcut\n",
    "# call_agent_by_intention\n",
    "# is_session_direct_liveagent"
   ]
  },
  {
   "cell_type": "code",
   "execution_count": 362,
   "metadata": {},
   "outputs": [
    {
     "data": {
      "text/plain": [
       "N    85484\n",
       "Y    14516\n",
       "Name: call_agent_by_click_shortcut, dtype: int64"
      ]
     },
     "execution_count": 362,
     "metadata": {},
     "output_type": "execute_result"
    }
   ],
   "source": [
    "data_df['call_agent_by_click_shortcut'].value_counts()"
   ]
  },
  {
   "cell_type": "code",
   "execution_count": 363,
   "metadata": {},
   "outputs": [
    {
     "data": {
      "text/plain": [
       "N    88452\n",
       "Y    11548\n",
       "Name: call_agent_by_intention, dtype: int64"
      ]
     },
     "execution_count": 363,
     "metadata": {},
     "output_type": "execute_result"
    }
   ],
   "source": [
    "data_df['call_agent_by_intention'].value_counts()"
   ]
  },
  {
   "cell_type": "code",
   "execution_count": 364,
   "metadata": {},
   "outputs": [
    {
     "data": {
      "text/plain": [
       "N    98047\n",
       "Y     1953\n",
       "Name: is_session_direct_liveagent, dtype: int64"
      ]
     },
     "execution_count": 364,
     "metadata": {},
     "output_type": "execute_result"
    }
   ],
   "source": [
    "data_df['is_session_direct_liveagent'].value_counts()"
   ]
  },
  {
   "cell_type": "code",
   "execution_count": 365,
   "metadata": {},
   "outputs": [
    {
     "data": {
      "text/plain": [
       "(100000, 42)"
      ]
     },
     "execution_count": 365,
     "metadata": {},
     "output_type": "execute_result"
    }
   ],
   "source": [
    "data_df.shape"
   ]
  },
  {
   "cell_type": "code",
   "execution_count": 366,
   "metadata": {},
   "outputs": [],
   "source": [
    "data_df_not_switched = data_df[(data_df['call_agent_by_click_shortcut'] == 'N') & (data_df['call_agent_by_intention'] == 'N') & (data_df['is_session_direct_liveagent'] == 'N')]"
   ]
  },
  {
   "cell_type": "code",
   "execution_count": 367,
   "metadata": {},
   "outputs": [
    {
     "data": {
      "text/plain": [
       "(74438, 42)"
      ]
     },
     "execution_count": 367,
     "metadata": {},
     "output_type": "execute_result"
    }
   ],
   "source": [
    "data_df_not_switched.shape"
   ]
  },
  {
   "cell_type": "code",
   "execution_count": 368,
   "metadata": {},
   "outputs": [],
   "source": [
    "#There is a liveagent session ID for not null values\n",
    "df=data_df_not_switched[data_df_not_switched['live agent_session_id'].notnull()].drop_duplicates('live agent_session_id', keep='first')"
   ]
  },
  {
   "cell_type": "code",
   "execution_count": 369,
   "metadata": {},
   "outputs": [],
   "source": [
    "df.to_clipboard()"
   ]
  },
  {
   "cell_type": "code",
   "execution_count": 370,
   "metadata": {},
   "outputs": [
    {
     "data": {
      "text/plain": [
       "748      Please share your queries so that I may assist...\n",
       "2882     Our warmest welcome from Daraz! Hope you are e...\n",
       "21785    Dukkhito sir , Bkash payment a 500 taka paymen...\n",
       "57788    Dukkhito sir, ager theke nirdishto delivery ti...\n",
       "68963    Ji, sir. Ekhane bola hoyeche je jodi ponne kon...\n",
       "Name: Live Agent Response, dtype: object"
      ]
     },
     "execution_count": 370,
     "metadata": {},
     "output_type": "execute_result"
    }
   ],
   "source": [
    "df['Live Agent Response']"
   ]
  },
  {
   "cell_type": "code",
   "execution_count": 371,
   "metadata": {},
   "outputs": [
    {
     "data": {
      "text/plain": [
       "Index(['Create Date', 'tenant_name', 'robot_code', 'robot_name', 'from_id',\n",
       "       'from_name', 'Session_id', 'Intention', 'user_id',\n",
       "       'Seller id (X-space)', 'user_nick', 'create_time', 'chat_uuid',\n",
       "       'Enter Type', 'query', 'Question Type', 'sopname', 'answer_type',\n",
       "       'SOP_Solution_id', 'SOP_Solution_Name', 'Standard Knowledge Title',\n",
       "       'Knowledge_id', 'knowledge_cate_1_name', 'knowledge_cate_2_name',\n",
       "       'knowledge_cate_3_name', 'is_session_unsatisfied',\n",
       "       'is_session_last_no answer', 'call_agent_by_click_shortcut',\n",
       "       'is_session_last_recommend no click', 'call_agent_by_intention',\n",
       "       'is_session_direct_liveagent', ' Contacted live agent on same day',\n",
       "       'Feedback Card Response', 'is_chat_recommend', 'is_chat_no answer',\n",
       "       'is_chat_pre/post match', 'live agent_session_id',\n",
       "       'Last Query Before Live Agent Session', 'Live Agent User Query',\n",
       "       'Live Agent Response', 'Feedback Type', 'Unsatisfied Reason'],\n",
       "      dtype='object')"
      ]
     },
     "execution_count": 371,
     "metadata": {},
     "output_type": "execute_result"
    }
   ],
   "source": [
    "df.columns"
   ]
  },
  {
   "cell_type": "code",
   "execution_count": 372,
   "metadata": {},
   "outputs": [
    {
     "data": {
      "text/html": [
       "<div>\n",
       "<style scoped>\n",
       "    .dataframe tbody tr th:only-of-type {\n",
       "        vertical-align: middle;\n",
       "    }\n",
       "\n",
       "    .dataframe tbody tr th {\n",
       "        vertical-align: top;\n",
       "    }\n",
       "\n",
       "    .dataframe thead th {\n",
       "        text-align: right;\n",
       "    }\n",
       "</style>\n",
       "<table border=\"1\" class=\"dataframe\">\n",
       "  <thead>\n",
       "    <tr style=\"text-align: right;\">\n",
       "      <th></th>\n",
       "      <th>call_agent_by_click_shortcut</th>\n",
       "      <th>call_agent_by_intention</th>\n",
       "      <th>is_session_direct_liveagent</th>\n",
       "      <th>live agent_session_id</th>\n",
       "    </tr>\n",
       "  </thead>\n",
       "  <tbody>\n",
       "    <tr>\n",
       "      <th>748</th>\n",
       "      <td>N</td>\n",
       "      <td>N</td>\n",
       "      <td>N</td>\n",
       "      <td>c32545b77ee94a79a1ca0f988b46ee0c</td>\n",
       "    </tr>\n",
       "    <tr>\n",
       "      <th>2882</th>\n",
       "      <td>N</td>\n",
       "      <td>N</td>\n",
       "      <td>N</td>\n",
       "      <td>068987cea3634981b40376e480ec8168</td>\n",
       "    </tr>\n",
       "    <tr>\n",
       "      <th>21785</th>\n",
       "      <td>N</td>\n",
       "      <td>N</td>\n",
       "      <td>N</td>\n",
       "      <td>9c57c3a67e6544fda84bf099c300e229</td>\n",
       "    </tr>\n",
       "    <tr>\n",
       "      <th>57788</th>\n",
       "      <td>N</td>\n",
       "      <td>N</td>\n",
       "      <td>N</td>\n",
       "      <td>8b0aceed6d52458ea7b390e44e527cc9</td>\n",
       "    </tr>\n",
       "    <tr>\n",
       "      <th>68963</th>\n",
       "      <td>N</td>\n",
       "      <td>N</td>\n",
       "      <td>N</td>\n",
       "      <td>2e4f1944b8f1479388072fd26b26c0cd</td>\n",
       "    </tr>\n",
       "  </tbody>\n",
       "</table>\n",
       "</div>"
      ],
      "text/plain": [
       "      call_agent_by_click_shortcut call_agent_by_intention  \\\n",
       "748                              N                       N   \n",
       "2882                             N                       N   \n",
       "21785                            N                       N   \n",
       "57788                            N                       N   \n",
       "68963                            N                       N   \n",
       "\n",
       "      is_session_direct_liveagent             live agent_session_id  \n",
       "748                             N  c32545b77ee94a79a1ca0f988b46ee0c  \n",
       "2882                            N  068987cea3634981b40376e480ec8168  \n",
       "21785                           N  9c57c3a67e6544fda84bf099c300e229  \n",
       "57788                           N  8b0aceed6d52458ea7b390e44e527cc9  \n",
       "68963                           N  2e4f1944b8f1479388072fd26b26c0cd  "
      ]
     },
     "execution_count": 372,
     "metadata": {},
     "output_type": "execute_result"
    }
   ],
   "source": [
    "# call_agent_by_click_shortcut\n",
    "# call_agent_by_intention\n",
    "# is_session_direct_liveagent\n",
    "\n",
    "df[['call_agent_by_click_shortcut', 'call_agent_by_intention', 'is_session_direct_liveagent', 'live agent_session_id']]"
   ]
  },
  {
   "cell_type": "code",
   "execution_count": 373,
   "metadata": {},
   "outputs": [],
   "source": [
    "#There is a liveagent session ID\n",
    "data_df_not_switched[data_df_not_switched['live agent_session_id'].notnull()].drop_duplicates('live agent_session_id', keep='first').to_clipboard()"
   ]
  },
  {
   "cell_type": "code",
   "execution_count": 374,
   "metadata": {},
   "outputs": [],
   "source": [
    "#2022_05280528_CD found\n",
    "#"
   ]
  }
 ],
 "metadata": {
  "interpreter": {
   "hash": "0606053452435824a427f0ea93d6ae20786397642025bcc66bfe96b66155d44b"
  },
  "kernelspec": {
   "display_name": "Python 3.9.7 ('base')",
   "language": "python",
   "name": "python3"
  },
  "language_info": {
   "codemirror_mode": {
    "name": "ipython",
    "version": 3
   },
   "file_extension": ".py",
   "mimetype": "text/x-python",
   "name": "python",
   "nbconvert_exporter": "python",
   "pygments_lexer": "ipython3",
   "version": "3.9.7"
  },
  "orig_nbformat": 4
 },
 "nbformat": 4,
 "nbformat_minor": 2
}
