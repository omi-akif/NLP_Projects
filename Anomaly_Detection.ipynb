{
 "cells": [
  {
   "cell_type": "code",
   "execution_count": 1,
   "metadata": {},
   "outputs": [],
   "source": [
    "#Libraries\n",
    "\n",
    "import pandas as pd\n",
    "import numpy as np\n",
    "from numpy import linalg as LA\n",
    "import matplotlib.pyplot as plt\n",
    "import seaborn as sns\n",
    "from googletrans import Translator\n",
    "from IPython.display import display\n",
    "\n",
    "# from sklearn.impute import SimpleImputer"
   ]
  },
  {
   "cell_type": "code",
   "execution_count": 7,
   "metadata": {},
   "outputs": [],
   "source": [
    "dda_ = pd.read_csv(r'C:\\Users\\Daraz\\Documents\\ddda\\ChatDetailsDataset\\2022_09130913_CD.csv')\n",
    "# DDA_LC_APP_28 = pd.read_csv('2022_05280528_DDA_LC_APP.csv')"
   ]
  },
  {
   "cell_type": "code",
   "execution_count": 3,
   "metadata": {},
   "outputs": [
    {
     "data": {
      "text/plain": [
       "(30774, 42)"
      ]
     },
     "execution_count": 3,
     "metadata": {},
     "output_type": "execute_result"
    }
   ],
   "source": [
    "# display(DDA_LC_APP_25.shape)\n",
    "# # display(DDA_LC_APP_28.shape)\n",
    "DDA_0619.shape"
   ]
  },
  {
   "cell_type": "code",
   "execution_count": 3,
   "metadata": {},
   "outputs": [
    {
     "data": {
      "text/plain": [
       "42"
      ]
     },
     "execution_count": 3,
     "metadata": {},
     "output_type": "execute_result"
    }
   ],
   "source": [
    "len(DDA_0619.columns)"
   ]
  },
  {
   "cell_type": "code",
   "execution_count": 5,
   "metadata": {},
   "outputs": [
    {
     "data": {
      "text/plain": [
       "Index(['Create Date', 'tenant_name', 'robot_code', 'robot_name', 'from_id',\n",
       "       'from_name', 'Session_id', 'Intention', 'user_id',\n",
       "       'Seller id (X-space)', 'user_nick', 'create_time', 'chat_uuid',\n",
       "       'Enter Type', 'query', 'Question Type', 'sopname', 'answer_type',\n",
       "       'SOP_Solution_id', 'SOP_Solution_Name', 'Standard Knowledge Title',\n",
       "       'Knowledge_id', 'knowledge_cate_1_name', 'knowledge_cate_2_name',\n",
       "       'knowledge_cate_3_name', 'is_session_unsatisfied',\n",
       "       'is_session_last_no answer', 'call_agent_by_click_shortcut',\n",
       "       'is_session_last_recommend no click', 'call_agent_by_intention',\n",
       "       'is_session_direct_liveagent', 'Contacted live agent on same day',\n",
       "       'Feedback Card Response', 'is_chat_recommend', 'is_chat_no answer',\n",
       "       'is_chat_pre/post match', 'live agent_session_id',\n",
       "       'Last Query Before Live Agent Session', 'Live Agent User Query',\n",
       "       'Live Agent Response', 'Feedback Type', 'Unsatisfied Reason'],\n",
       "      dtype='object')"
      ]
     },
     "execution_count": 5,
     "metadata": {},
     "output_type": "execute_result"
    }
   ],
   "source": [
    "DDA_0619.columns"
   ]
  },
  {
   "cell_type": "code",
   "execution_count": 6,
   "metadata": {},
   "outputs": [
    {
     "data": {
      "text/plain": [
       "UNSATISFIED    516\n",
       "SATISFIED      460\n",
       "Name: Feedback Type, dtype: int64"
      ]
     },
     "execution_count": 6,
     "metadata": {},
     "output_type": "execute_result"
    }
   ],
   "source": [
    "DDA_0619['Feedback Type'].value_counts()"
   ]
  },
  {
   "cell_type": "code",
   "execution_count": 4,
   "metadata": {},
   "outputs": [
    {
     "data": {
      "text/plain": [
       "Create Date                                 0\n",
       "tenant_name                                 0\n",
       "robot_code                                  0\n",
       "robot_name                                  0\n",
       "from_id                                     0\n",
       "from_name                                   0\n",
       "Session_id                                  0\n",
       "Intention                                8385\n",
       "user_id                                     0\n",
       "Seller id (X-space)                         0\n",
       "user_nick                                   0\n",
       "create_time                                 0\n",
       "chat_uuid                                   0\n",
       "Enter Type                              16379\n",
       "query                                       0\n",
       "Question Type                               0\n",
       "sopname                                 21229\n",
       "answer_type                               140\n",
       "SOP_Solution_id                         24854\n",
       "SOP_Solution_Name                       24494\n",
       "Standard Knowledge Title                 7845\n",
       "Knowledge_id                             5147\n",
       "knowledge_cate_1_name                    5147\n",
       "knowledge_cate_2_name                    5152\n",
       "knowledge_cate_3_name                   13308\n",
       "is_session_unsatisfied                      0\n",
       "is_session_last_no answer                   0\n",
       "call_agent_by_click_shortcut                0\n",
       "is_session_last_recommend no click          0\n",
       "call_agent_by_intention                     0\n",
       "is_session_direct_liveagent                 0\n",
       "Contacted live agent on same day            0\n",
       "Feedback Card Response                  29798\n",
       "is_chat_recommend                           0\n",
       "is_chat_no answer                           0\n",
       "is_chat_pre/post match                      0\n",
       "live agent_session_id                   23106\n",
       "Last Query Before Live Agent Session    23106\n",
       "Live Agent User Query                   23574\n",
       "Live Agent Response                     23225\n",
       "Feedback Type                           29798\n",
       "Unsatisfied Reason                      30529\n",
       "dtype: int64"
      ]
     },
     "execution_count": 4,
     "metadata": {},
     "output_type": "execute_result"
    }
   ],
   "source": [
    "DDA_0619.isna().sum()"
   ]
  },
  {
   "cell_type": "code",
   "execution_count": 6,
   "metadata": {},
   "outputs": [
    {
     "data": {
      "text/plain": [
       "BD-Daz-EN    22306\n",
       "BD-Daz-LC     8468\n",
       "Name: robot_name, dtype: int64"
      ]
     },
     "execution_count": 6,
     "metadata": {},
     "output_type": "execute_result"
    }
   ],
   "source": [
    "DDA_0619['robot_name'].value_counts()"
   ]
  },
  {
   "cell_type": "code",
   "execution_count": 7,
   "metadata": {},
   "outputs": [],
   "source": [
    "DDA_0619_EN = DDA_0619[DDA_0619['robot_name'] == 'BD-Daz-EN']\n",
    "DDA_0619_LC = DDA_0619[DDA_0619['robot_name'] == 'BD-Daz-LC']"
   ]
  },
  {
   "cell_type": "code",
   "execution_count": 8,
   "metadata": {},
   "outputs": [
    {
     "data": {
      "text/plain": [
       "(22306, 42)"
      ]
     },
     "execution_count": 8,
     "metadata": {},
     "output_type": "execute_result"
    }
   ],
   "source": [
    "DDA_0619_EN.shape"
   ]
  },
  {
   "cell_type": "code",
   "execution_count": 9,
   "metadata": {},
   "outputs": [
    {
     "data": {
      "text/plain": [
       "(8468, 42)"
      ]
     },
     "execution_count": 9,
     "metadata": {},
     "output_type": "execute_result"
    }
   ],
   "source": [
    "DDA_0619_LC.shape"
   ]
  },
  {
   "cell_type": "code",
   "execution_count": 10,
   "metadata": {},
   "outputs": [
    {
     "data": {
      "text/plain": [
       "Index(['Create Date', 'tenant_name', 'robot_code', 'robot_name', 'from_id',\n",
       "       'from_name', 'Session_id', 'Intention', 'user_id',\n",
       "       'Seller id (X-space)', 'user_nick', 'create_time', 'chat_uuid',\n",
       "       'Enter Type', 'query', 'Question Type', 'sopname', 'answer_type',\n",
       "       'SOP_Solution_id', 'SOP_Solution_Name', 'Standard Knowledge Title',\n",
       "       'Knowledge_id', 'knowledge_cate_1_name', 'knowledge_cate_2_name',\n",
       "       'knowledge_cate_3_name', 'is_session_unsatisfied',\n",
       "       'is_session_last_no answer', 'call_agent_by_click_shortcut',\n",
       "       'is_session_last_recommend no click', 'call_agent_by_intention',\n",
       "       'is_session_direct_liveagent', 'Contacted live agent on same day',\n",
       "       'Feedback Card Response', 'is_chat_recommend', 'is_chat_no answer',\n",
       "       'is_chat_pre/post match', 'live agent_session_id',\n",
       "       'Last Query Before Live Agent Session', 'Live Agent User Query',\n",
       "       'Live Agent Response', 'Feedback Type', 'Unsatisfied Reason'],\n",
       "      dtype='object')"
      ]
     },
     "execution_count": 10,
     "metadata": {},
     "output_type": "execute_result"
    }
   ],
   "source": [
    "DDA_0619.columns"
   ]
  },
  {
   "cell_type": "markdown",
   "metadata": {},
   "source": [
    "##### Total number of EN chats"
   ]
  },
  {
   "cell_type": "code",
   "execution_count": 11,
   "metadata": {},
   "outputs": [
    {
     "data": {
      "text/plain": [
       "N    22306\n",
       "Name: is_chat_no answer, dtype: int64"
      ]
     },
     "execution_count": 11,
     "metadata": {},
     "output_type": "execute_result"
    }
   ],
   "source": [
    "#axis = 1 vertical\n",
    "#axis = 0 horizontal\n",
    "# DDA_LC_APP_CONCAT_25_28.drop(columns='index', axis=1, inplace=True)\n",
    "\n",
    "DDA_0619_EN['is_chat_no answer'].value_counts()"
   ]
  },
  {
   "cell_type": "code",
   "execution_count": 12,
   "metadata": {},
   "outputs": [
    {
     "data": {
      "text/plain": [
       "N    8328\n",
       "Y     140\n",
       "Name: is_chat_no answer, dtype: int64"
      ]
     },
     "execution_count": 12,
     "metadata": {},
     "output_type": "execute_result"
    }
   ],
   "source": [
    "DDA_0619_LC['is_chat_no answer'].value_counts()"
   ]
  },
  {
   "cell_type": "code",
   "execution_count": 13,
   "metadata": {},
   "outputs": [
    {
     "data": {
      "text/plain": [
       "8a4045fc031c4627841ff6309f5ab816    152\n",
       "dc2d5c1aff18435f9d2fa107befc5bbd     46\n",
       "828611be4a064ca8a39812f6ca8d6ceb     40\n",
       "a9019500c87949e7a3bfce9b7d7ab792     40\n",
       "fac94dad072d45cda7253f7d6cb4f1e9     38\n",
       "                                   ... \n",
       "2791ac93054f4c4dbb6df865192cc9fb      1\n",
       "23f0d7a0b6794aa6b5fa7ba047d40493      1\n",
       "23712c747b274a60a418f51cc3066bf2      1\n",
       "ca1291988bc2407db3e024aaa107ee85      1\n",
       "45dd62b0bf9d449b95f6601592db7a08      1\n",
       "Name: Session_id, Length: 5505, dtype: int64"
      ]
     },
     "execution_count": 13,
     "metadata": {},
     "output_type": "execute_result"
    }
   ],
   "source": [
    "DDA_0619_EN['Session_id'].value_counts()"
   ]
  },
  {
   "cell_type": "code",
   "execution_count": 14,
   "metadata": {},
   "outputs": [],
   "source": [
    "DDA_0619_EN_drop_duplicates = DDA_0619_EN.drop_duplicates(subset=['Session_id'], keep='last')\n",
    "DDA_0619_LC_drop_duplicates = DDA_0619_LC.drop_duplicates(subset=['Session_id'], keep='last')"
   ]
  },
  {
   "cell_type": "code",
   "execution_count": 15,
   "metadata": {},
   "outputs": [
    {
     "data": {
      "text/plain": [
       "(5505, 42)"
      ]
     },
     "metadata": {},
     "output_type": "display_data"
    },
    {
     "data": {
      "text/plain": [
       "(2885, 42)"
      ]
     },
     "metadata": {},
     "output_type": "display_data"
    }
   ],
   "source": [
    "display(DDA_0619_EN_drop_duplicates.shape)\n",
    "display(DDA_0619_LC_drop_duplicates.shape)"
   ]
  },
  {
   "cell_type": "code",
   "execution_count": 16,
   "metadata": {},
   "outputs": [],
   "source": [
    "DDA_0619_EN_drop_duplicates.reset_index(inplace=True)\n",
    "DDA_0619_LC_drop_duplicates.reset_index(inplace=True)"
   ]
  },
  {
   "cell_type": "code",
   "execution_count": 17,
   "metadata": {},
   "outputs": [
    {
     "name": "stderr",
     "output_type": "stream",
     "text": [
      "C:\\Users\\Daraz\\AppData\\Local\\Temp/ipykernel_35564/509692275.py:1: SettingWithCopyWarning: \n",
      "A value is trying to be set on a copy of a slice from a DataFrame\n",
      "\n",
      "See the caveats in the documentation: https://pandas.pydata.org/pandas-docs/stable/user_guide/indexing.html#returning-a-view-versus-a-copy\n",
      "  DDA_0619_EN_drop_duplicates['Standard Knowledge Title'].dropna(inplace=True)\n",
      "C:\\Users\\Daraz\\AppData\\Local\\Temp/ipykernel_35564/509692275.py:2: SettingWithCopyWarning: \n",
      "A value is trying to be set on a copy of a slice from a DataFrame\n",
      "\n",
      "See the caveats in the documentation: https://pandas.pydata.org/pandas-docs/stable/user_guide/indexing.html#returning-a-view-versus-a-copy\n",
      "  DDA_0619_LC_drop_duplicates['Standard Knowledge Title'].dropna(inplace=True)\n"
     ]
    }
   ],
   "source": [
    "DDA_0619_EN_drop_duplicates['Standard Knowledge Title'].dropna(inplace=True)\n",
    "DDA_0619_LC_drop_duplicates['Standard Knowledge Title'].dropna(inplace=True)"
   ]
  },
  {
   "cell_type": "code",
   "execution_count": 18,
   "metadata": {},
   "outputs": [],
   "source": [
    "DDA_0619_EN_drop_duplicates['Standard Knowledge Title'].value_counts().to_clipboard()\n",
    "# DDA_0619_LC_drop_duplicates['Standard Knowledge Title'].value_counts().to_clipboard()"
   ]
  },
  {
   "cell_type": "code",
   "execution_count": 19,
   "metadata": {},
   "outputs": [],
   "source": [
    "DDA_0619_EN_drop_nan = DDA_0619_EN_drop_duplicates[DDA_0619_EN_drop_duplicates['Live Agent User Query'].notna()]\n",
    "DDA_0619_LC_drop_nan = DDA_0619_LC_drop_duplicates[DDA_0619_LC_drop_duplicates['Live Agent User Query'].notna()]"
   ]
  },
  {
   "cell_type": "code",
   "execution_count": 20,
   "metadata": {},
   "outputs": [],
   "source": [
    "DDA_0619_EN_drop_nan.reset_index(inplace=True)\n",
    "DDA_0619_LC_drop_nan.reset_index(inplace=True)"
   ]
  },
  {
   "cell_type": "code",
   "execution_count": 21,
   "metadata": {},
   "outputs": [
    {
     "name": "stderr",
     "output_type": "stream",
     "text": [
      "C:\\Users\\Daraz\\AppData\\Local\\Temp/ipykernel_35564/285115638.py:1: SettingWithCopyWarning: \n",
      "A value is trying to be set on a copy of a slice from a DataFrame\n",
      "\n",
      "See the caveats in the documentation: https://pandas.pydata.org/pandas-docs/stable/user_guide/indexing.html#returning-a-view-versus-a-copy\n",
      "  DDA_0619_EN_drop_nan.drop(labels=['level_0', 'index'], axis = 1, inplace=True)\n",
      "C:\\Users\\Daraz\\AppData\\Local\\Temp/ipykernel_35564/285115638.py:2: SettingWithCopyWarning: \n",
      "A value is trying to be set on a copy of a slice from a DataFrame\n",
      "\n",
      "See the caveats in the documentation: https://pandas.pydata.org/pandas-docs/stable/user_guide/indexing.html#returning-a-view-versus-a-copy\n",
      "  DDA_0619_LC_drop_nan.drop(labels=['level_0', 'index'], axis = 1, inplace=True)\n"
     ]
    }
   ],
   "source": [
    "DDA_0619_EN_drop_nan.drop(labels=['level_0', 'index'], axis = 1, inplace=True)\n",
    "DDA_0619_LC_drop_nan.drop(labels=['level_0', 'index'], axis = 1, inplace=True)"
   ]
  },
  {
   "cell_type": "code",
   "execution_count": 47,
   "metadata": {},
   "outputs": [],
   "source": [
    "DDA_0619_LC_drop_nan['Standard Knowledge Title'].value_counts().to_clipboard()\n",
    "# DDA_0619_EN_drop_nan['Standard Knowledge Title'].value_counts().to_clipboard()\n"
   ]
  },
  {
   "cell_type": "code",
   "execution_count": 39,
   "metadata": {},
   "outputs": [
    {
     "name": "stdout",
     "output_type": "stream",
     "text": [
      "Standard Knowledge Title\n"
     ]
    },
    {
     "data": {
      "text/plain": [
       "'আমার অর্ডার আসতে দেরি হচ্ছে কেন ?'"
      ]
     },
     "metadata": {},
     "output_type": "display_data"
    },
    {
     "name": "stdout",
     "output_type": "stream",
     "text": [
      "Last Query Before Live Agent Session\n"
     ]
    },
    {
     "data": {
      "text/plain": [
       "'আমার অর্ডার আসতে দেরি হচ্ছে কেন'"
      ]
     },
     "metadata": {},
     "output_type": "display_data"
    },
    {
     "name": "stdout",
     "output_type": "stream",
     "text": [
      "Live Agent User Query\n"
     ]
    },
    {
     "data": {
      "text/plain": [
       "'Amar order akhono asheni keno'"
      ]
     },
     "metadata": {},
     "output_type": "display_data"
    },
    {
     "name": "stdout",
     "output_type": "stream",
     "text": [
      "Live Agent Response\n"
     ]
    },
    {
     "data": {
      "text/plain": [
       "'Onugroho kore apnar order number ti share korben . Ami order er details check kore janacchi.  |||Apni ki amader shathe achen?  |||Ami dukkhito sir bishoy tir jonno.|||Hi there! Welcome to Daraz Bangladesh. Hope you’re doing fine by the grace of the Almighty. How can I assist you?'"
      ]
     },
     "metadata": {},
     "output_type": "display_data"
    }
   ],
   "source": [
    "kt = 'আমার অর্ডার আসতে দেরি হচ্ছে কেন ?'\n",
    "# n = 0\n",
    "n = np.random.randint(20)\n",
    "\n",
    "DDA_EN_KT = DDA_0619_LC_drop_nan[DDA_0619_LC_drop_nan['Standard Knowledge Title'] == kt]\n",
    "DDA_EN_KT.reset_index(inplace=True)\n",
    "\n",
    "\n",
    "print('Standard Knowledge Title')\n",
    "\n",
    "display(DDA_EN_KT['Standard Knowledge Title'][n])\n",
    "\n",
    "print('Last Query Before Live Agent Session')\n",
    "\n",
    "display(DDA_EN_KT['Last Query Before Live Agent Session'][n])\n",
    "\n",
    "print('Live Agent User Query')\n",
    "\n",
    "display(DDA_EN_KT['Live Agent User Query'][n])\n",
    "\n",
    "print('Live Agent Response')\n",
    "\n",
    "display(DDA_EN_KT['Live Agent Response'][n])"
   ]
  },
  {
   "cell_type": "code",
   "execution_count": 40,
   "metadata": {},
   "outputs": [],
   "source": [
    "DDA_EN_KT_selected = DDA_EN_KT[['query', 'Standard Knowledge Title', 'Live Agent User Query', 'Live Agent Response']]"
   ]
  },
  {
   "cell_type": "code",
   "execution_count": 41,
   "metadata": {},
   "outputs": [
    {
     "data": {
      "text/html": [
       "<div>\n",
       "<style scoped>\n",
       "    .dataframe tbody tr th:only-of-type {\n",
       "        vertical-align: middle;\n",
       "    }\n",
       "\n",
       "    .dataframe tbody tr th {\n",
       "        vertical-align: top;\n",
       "    }\n",
       "\n",
       "    .dataframe thead th {\n",
       "        text-align: right;\n",
       "    }\n",
       "</style>\n",
       "<table border=\"1\" class=\"dataframe\">\n",
       "  <thead>\n",
       "    <tr style=\"text-align: right;\">\n",
       "      <th></th>\n",
       "      <th>query</th>\n",
       "      <th>Standard Knowledge Title</th>\n",
       "      <th>Live Agent User Query</th>\n",
       "      <th>Live Agent Response</th>\n",
       "    </tr>\n",
       "  </thead>\n",
       "  <tbody>\n",
       "  </tbody>\n",
       "</table>\n",
       "</div>"
      ],
      "text/plain": [
       "Empty DataFrame\n",
       "Columns: [query, Standard Knowledge Title, Live Agent User Query, Live Agent Response]\n",
       "Index: []"
      ]
     },
     "execution_count": 41,
     "metadata": {},
     "output_type": "execute_result"
    }
   ],
   "source": [
    "DDA_EN_KT_selected[DDA_EN_KT_selected['Standard Knowledge Title'] == 'Need help']"
   ]
  },
  {
   "cell_type": "markdown",
   "metadata": {},
   "source": [
    "### Conclusion\n",
    "\n",
    "15/25 -> Different Questions\n",
    "6/25 -> Repeatitive Questions\n",
    "1/25 -> Red marked\n",
    "\n"
   ]
  },
  {
   "cell_type": "code",
   "execution_count": 170,
   "metadata": {},
   "outputs": [],
   "source": [
    "df_test = DDA_0619_LC_drop_nan[DDA_0619_LC_drop_nan['Standard Knowledge Title'] == 'রিটার্ন সংক্রান্ত প্রশ্ন'][['query', 'Standard Knowledge Title', 'Live Agent User Query', 'Live Agent Response']]"
   ]
  },
  {
   "cell_type": "code",
   "execution_count": 171,
   "metadata": {},
   "outputs": [
    {
     "data": {
      "text/html": [
       "<div>\n",
       "<style scoped>\n",
       "    .dataframe tbody tr th:only-of-type {\n",
       "        vertical-align: middle;\n",
       "    }\n",
       "\n",
       "    .dataframe tbody tr th {\n",
       "        vertical-align: top;\n",
       "    }\n",
       "\n",
       "    .dataframe thead th {\n",
       "        text-align: right;\n",
       "    }\n",
       "</style>\n",
       "<table border=\"1\" class=\"dataframe\">\n",
       "  <thead>\n",
       "    <tr style=\"text-align: right;\">\n",
       "      <th></th>\n",
       "      <th>query</th>\n",
       "      <th>Standard Knowledge Title</th>\n",
       "      <th>Live Agent User Query</th>\n",
       "      <th>Live Agent Response</th>\n",
       "    </tr>\n",
       "  </thead>\n",
       "  <tbody>\n",
       "    <tr>\n",
       "      <th>84</th>\n",
       "      <td>রিটার্ন সংক্রান্ত প্রশ্ন</td>\n",
       "      <td>রিটার্ন সংক্রান্ত প্রশ্ন</td>\n",
       "      <td>hmm|||Amar Ekta percel.. Return korbi|||&lt;img s...</td>\n",
       "      <td>Hello!  Warm Welcome to Daraz live chat suppor...</td>\n",
       "    </tr>\n",
       "    <tr>\n",
       "      <th>229</th>\n",
       "      <td>রিটার্ন সংক্রান্ত প্রশ্ন</td>\n",
       "      <td>রিটার্ন সংক্রান্ত প্রশ্ন</td>\n",
       "      <td>Hi|||Ok|||Ata amar home ar akane asbe naki bah...</td>\n",
       "      <td>Apni jodi aaj amar service ti pocchondo kore t...</td>\n",
       "    </tr>\n",
       "    <tr>\n",
       "      <th>313</th>\n",
       "      <td>রিটার্ন সংক্রান্ত প্রশ্ন</td>\n",
       "      <td>রিটার্ন সংক্রান্ত প্রশ্ন</td>\n",
       "      <td>চেক করব|||&lt;img src='https://alime-customer-upl...</td>\n",
       "      <td>স্যার দেখতে পাচ্ছি আপনার রিফান্ড টি প্রসেসিং এ...</td>\n",
       "    </tr>\n",
       "    <tr>\n",
       "      <th>392</th>\n",
       "      <td>রিটার্ন সংক্রান্ত প্রশ্ন</td>\n",
       "      <td>রিটার্ন সংক্রান্ত প্রশ্ন</td>\n",
       "      <td>রিটার্ন প্রোসেস কি শেষ হয়েছে?|||আমার রিটার্ন প...</td>\n",
       "      <td>স্যার ভাউচার কোডটি কপি পেস্ট করে আমার সাথে শেয়...</td>\n",
       "    </tr>\n",
       "  </tbody>\n",
       "</table>\n",
       "</div>"
      ],
      "text/plain": [
       "                        query  Standard Knowledge Title  \\\n",
       "84   রিটার্ন সংক্রান্ত প্রশ্ন  রিটার্ন সংক্রান্ত প্রশ্ন   \n",
       "229  রিটার্ন সংক্রান্ত প্রশ্ন  রিটার্ন সংক্রান্ত প্রশ্ন   \n",
       "313  রিটার্ন সংক্রান্ত প্রশ্ন  রিটার্ন সংক্রান্ত প্রশ্ন   \n",
       "392  রিটার্ন সংক্রান্ত প্রশ্ন  রিটার্ন সংক্রান্ত প্রশ্ন   \n",
       "\n",
       "                                 Live Agent User Query  \\\n",
       "84   hmm|||Amar Ekta percel.. Return korbi|||<img s...   \n",
       "229  Hi|||Ok|||Ata amar home ar akane asbe naki bah...   \n",
       "313  চেক করব|||<img src='https://alime-customer-upl...   \n",
       "392  রিটার্ন প্রোসেস কি শেষ হয়েছে?|||আমার রিটার্ন প...   \n",
       "\n",
       "                                   Live Agent Response  \n",
       "84   Hello!  Warm Welcome to Daraz live chat suppor...  \n",
       "229  Apni jodi aaj amar service ti pocchondo kore t...  \n",
       "313  স্যার দেখতে পাচ্ছি আপনার রিফান্ড টি প্রসেসিং এ...  \n",
       "392  স্যার ভাউচার কোডটি কপি পেস্ট করে আমার সাথে শেয়...  "
      ]
     },
     "execution_count": 171,
     "metadata": {},
     "output_type": "execute_result"
    }
   ],
   "source": [
    "df_test"
   ]
  },
  {
   "cell_type": "code",
   "execution_count": 172,
   "metadata": {},
   "outputs": [],
   "source": [
    "df_test.reset_index(inplace=True)"
   ]
  },
  {
   "cell_type": "code",
   "execution_count": 173,
   "metadata": {},
   "outputs": [],
   "source": [
    "df_test.drop(labels='index', axis = 1, inplace = True)"
   ]
  },
  {
   "cell_type": "code",
   "execution_count": 174,
   "metadata": {},
   "outputs": [
    {
     "data": {
      "text/plain": [
       "(4, 4)"
      ]
     },
     "execution_count": 174,
     "metadata": {},
     "output_type": "execute_result"
    }
   ],
   "source": [
    "df_test.shape"
   ]
  },
  {
   "cell_type": "code",
   "execution_count": 167,
   "metadata": {},
   "outputs": [
    {
     "data": {
      "text/html": [
       "<div>\n",
       "<style scoped>\n",
       "    .dataframe tbody tr th:only-of-type {\n",
       "        vertical-align: middle;\n",
       "    }\n",
       "\n",
       "    .dataframe tbody tr th {\n",
       "        vertical-align: top;\n",
       "    }\n",
       "\n",
       "    .dataframe thead th {\n",
       "        text-align: right;\n",
       "    }\n",
       "</style>\n",
       "<table border=\"1\" class=\"dataframe\">\n",
       "  <thead>\n",
       "    <tr style=\"text-align: right;\">\n",
       "      <th></th>\n",
       "      <th>query</th>\n",
       "      <th>Standard Knowledge Title</th>\n",
       "      <th>Live Agent User Query</th>\n",
       "      <th>Live Agent Response</th>\n",
       "    </tr>\n",
       "  </thead>\n",
       "  <tbody>\n",
       "    <tr>\n",
       "      <th>2</th>\n",
       "      <td>শিপিং এবং ডেলিভেরি সক্রান্ত প্রশ্ন</td>\n",
       "      <td>শিপিং এবং ডেলিভেরি সক্রান্ত প্রশ্ন</td>\n",
       "      <td>&lt;img src='https://alime-customer-upload-lazada...</td>\n",
       "      <td>স্যার অর্ডার নম্বর টি এখানে শেয়ার করুন|||আন্তর...</td>\n",
       "    </tr>\n",
       "  </tbody>\n",
       "</table>\n",
       "</div>"
      ],
      "text/plain": [
       "                                query            Standard Knowledge Title  \\\n",
       "2  শিপিং এবং ডেলিভেরি সক্রান্ত প্রশ্ন  শিপিং এবং ডেলিভেরি সক্রান্ত প্রশ্ন   \n",
       "\n",
       "                               Live Agent User Query  \\\n",
       "2  <img src='https://alime-customer-upload-lazada...   \n",
       "\n",
       "                                 Live Agent Response  \n",
       "2  স্যার অর্ডার নম্বর টি এখানে শেয়ার করুন|||আন্তর...  "
      ]
     },
     "execution_count": 167,
     "metadata": {},
     "output_type": "execute_result"
    }
   ],
   "source": [
    "n = np.random.randint(df_test.shape[0] - 1)\n",
    "df_test.iloc[[n]]"
   ]
  },
  {
   "cell_type": "code",
   "execution_count": 168,
   "metadata": {},
   "outputs": [],
   "source": [
    "df_test.iloc[[n]].to_clipboard(excel=True, sep=None, index=False, header=None)"
   ]
  },
  {
   "cell_type": "code",
   "execution_count": 169,
   "metadata": {},
   "outputs": [],
   "source": [
    "df_test.to_clipboard(excel=True, sep=None, index=False, header=None)"
   ]
  },
  {
   "cell_type": "code",
   "execution_count": 129,
   "metadata": {},
   "outputs": [],
   "source": [
    "lc_df = pd.read_excel(r'DDA 17th July (1).xlsx', sheet_name='LC')"
   ]
  },
  {
   "cell_type": "code",
   "execution_count": 128,
   "metadata": {},
   "outputs": [],
   "source": [
    "en_df  = pd.read_excel(r'DDA 17th July (1).xlsx', sheet_name='EN')"
   ]
  },
  {
   "cell_type": "code",
   "execution_count": 135,
   "metadata": {},
   "outputs": [],
   "source": [
    "en_df['Remark'].value_counts().to_clipboard()"
   ]
  },
  {
   "cell_type": "code",
   "execution_count": 134,
   "metadata": {},
   "outputs": [
    {
     "data": {
      "text/plain": [
       "47"
      ]
     },
     "execution_count": 134,
     "metadata": {},
     "output_type": "execute_result"
    }
   ],
   "source": [
    "lc_df['Remark'].value_counts().sum()"
   ]
  },
  {
   "cell_type": "code",
   "execution_count": 132,
   "metadata": {},
   "outputs": [
    {
     "data": {
      "text/html": [
       "<div>\n",
       "<style scoped>\n",
       "    .dataframe tbody tr th:only-of-type {\n",
       "        vertical-align: middle;\n",
       "    }\n",
       "\n",
       "    .dataframe tbody tr th {\n",
       "        vertical-align: top;\n",
       "    }\n",
       "\n",
       "    .dataframe thead th {\n",
       "        text-align: right;\n",
       "    }\n",
       "</style>\n",
       "<table border=\"1\" class=\"dataframe\">\n",
       "  <thead>\n",
       "    <tr style=\"text-align: right;\">\n",
       "      <th></th>\n",
       "      <th>Query</th>\n",
       "      <th>Standard Knowledge Title</th>\n",
       "      <th>Live Agent User Query</th>\n",
       "      <th>Live Agent Response</th>\n",
       "      <th>Remark</th>\n",
       "    </tr>\n",
       "  </thead>\n",
       "  <tbody>\n",
       "    <tr>\n",
       "      <th>0</th>\n",
       "      <td>How can I track my order'</td>\n",
       "      <td>How can I track my order'</td>\n",
       "      <td>I had ordered a piano from chittagong in 7th j...</td>\n",
       "      <td>\"We can see the issue has been forwarded to ou...</td>\n",
       "      <td>order delay</td>\n",
       "    </tr>\n",
       "    <tr>\n",
       "      <th>1</th>\n",
       "      <td>How can I track my order'</td>\n",
       "      <td>How can I track my order'</td>\n",
       "      <td>Naki be Nebo Ata at pabo na|||Amar ai order ti...</td>\n",
       "      <td>Please share your query in details with us, so...</td>\n",
       "      <td>order delay</td>\n",
       "    </tr>\n",
       "    <tr>\n",
       "      <th>2</th>\n",
       "      <td>Where is my order'</td>\n",
       "      <td>How can I track my order'</td>\n",
       "      <td>DEX-BDN-CB-0000693055|||Please give me the upd...</td>\n",
       "      <td>Kindly allow me some time. |||Good day! Welcom...</td>\n",
       "      <td>order delay</td>\n",
       "    </tr>\n",
       "    <tr>\n",
       "      <th>3</th>\n",
       "      <td>How can I track my order'</td>\n",
       "      <td>How can I track my order'</td>\n",
       "      <td>\"When I'm gonna get my product?|||ok thanks|||...</td>\n",
       "      <td>Hello! Welcome to Daraz live chat support. 😊 H...</td>\n",
       "      <td>order delay</td>\n",
       "    </tr>\n",
       "    <tr>\n",
       "      <th>4</th>\n",
       "      <td>How can I track my order'</td>\n",
       "      <td>How can I track my order'</td>\n",
       "      <td>\"629074632994006|||Sure |||Amar ei order ta as...</td>\n",
       "      <td>Sir ami ki kichuta somoy pete pari, check kora...</td>\n",
       "      <td>order delay</td>\n",
       "    </tr>\n",
       "    <tr>\n",
       "      <th>5</th>\n",
       "      <td>How can I track my order'</td>\n",
       "      <td>How can I track my order'</td>\n",
       "      <td>Dcoin|||আর চালু হবে না? |||😭|||আর কোন আপডেট হব...</td>\n",
       "      <td>পেয়ে থাকবেন|||না স্যার|||Hello sir|||মিশন কমপ্...</td>\n",
       "      <td>different question to agent</td>\n",
       "    </tr>\n",
       "    <tr>\n",
       "      <th>6</th>\n",
       "      <td>How can I track my order'</td>\n",
       "      <td>How can I track my order'</td>\n",
       "      <td>:ok thanks, duruto delivery diben pls|||amr or...</td>\n",
       "      <td>Sir, Bishoyti amader concern team er kache jan...</td>\n",
       "      <td>delivery attempt failed</td>\n",
       "    </tr>\n",
       "    <tr>\n",
       "      <th>7</th>\n",
       "      <td>How can I track my order'</td>\n",
       "      <td>How can I track my order'</td>\n",
       "      <td>Paperfly basar samne ashe na |||Eigula ki dhor...</td>\n",
       "      <td>sir asha korchi apnar shathe punoray delivery ...</td>\n",
       "      <td>failed delivery</td>\n",
       "    </tr>\n",
       "    <tr>\n",
       "      <th>8</th>\n",
       "      <td>How can I track my order'</td>\n",
       "      <td>How can I track my order'</td>\n",
       "      <td>订单号:628373899747135|||Then complain korar por ...</td>\n",
       "      <td>订单号:628373899747135|||Then complain korar por ...</td>\n",
       "      <td>refund delay</td>\n",
       "    </tr>\n",
       "    <tr>\n",
       "      <th>9</th>\n",
       "      <td>How can I track my order'</td>\n",
       "      <td>How can I track my order'</td>\n",
       "      <td>This is the third time am contacting with dara...</td>\n",
       "      <td>Hello Mam😊|||Sure, Mam 😊|||Good Day!! I hope y...</td>\n",
       "      <td>order delay\\nwants to know rider number</td>\n",
       "    </tr>\n",
       "    <tr>\n",
       "      <th>10</th>\n",
       "      <td>My order is delayed. What should I do</td>\n",
       "      <td>My order is delayed. What should I do</td>\n",
       "      <td>\"My parcel reached at warehouse 2 days ago!|||...</td>\n",
       "      <td>Please share your query in details with us, so...</td>\n",
       "      <td>order delay</td>\n",
       "    </tr>\n",
       "    <tr>\n",
       "      <th>11</th>\n",
       "      <td>My order is delayed. What should I do'</td>\n",
       "      <td>My order is delayed. What should I do'</td>\n",
       "      <td>\"Yap,but ajkeo wrong job done. Delivery issue ...</td>\n",
       "      <td>Hello!! Welcome to Daraz Live Chat session. Ho...</td>\n",
       "      <td>order delay</td>\n",
       "    </tr>\n",
       "    <tr>\n",
       "      <th>12</th>\n",
       "      <td>My order is delayed. What should I do'</td>\n",
       "      <td>My order is delayed. What should I do</td>\n",
       "      <td>Kono miss call or sms o pai nai|||Amar sathe k...</td>\n",
       "      <td>Sir onugroho kore amake kichuta shomoy diye so...</td>\n",
       "      <td>order failed</td>\n",
       "    </tr>\n",
       "    <tr>\n",
       "      <th>13</th>\n",
       "      <td>My order is delayed. What should I do'</td>\n",
       "      <td>My order is delayed. What should I do'</td>\n",
       "      <td>12 tarikhe order korsilam kono progress nai|||...</td>\n",
       "      <td>Amader end theke ki kono call kora hoyechilo s...</td>\n",
       "      <td>order delay</td>\n",
       "    </tr>\n",
       "    <tr>\n",
       "      <th>14</th>\n",
       "      <td>I have another overseas order. That order reac...</td>\n",
       "      <td>My order is delayed. What should I do'</td>\n",
       "      <td>Are you sending by Air? Or Ship?|||订单号:6284232...</td>\n",
       "      <td>Is there anything else I can assist you with?|...</td>\n",
       "      <td>CB order delay</td>\n",
       "    </tr>\n",
       "    <tr>\n",
       "      <th>15</th>\n",
       "      <td>My order is delayed. What should I do?'</td>\n",
       "      <td>My order is delayed. What should I do'</td>\n",
       "      <td>\"Booking Address:  Atikul islam Sundarban Cour...</td>\n",
       "      <td>Can I give you any more information?|||In that...</td>\n",
       "      <td>collection point issue/ order delay</td>\n",
       "    </tr>\n",
       "    <tr>\n",
       "      <th>16</th>\n",
       "      <td>My order is delayed. What should I do</td>\n",
       "      <td>My order is delayed. What should I do'</td>\n",
       "      <td>Okay thanks |||Okay |||This order is delayed. ...</td>\n",
       "      <td>Sir, rider is out for delivery, .Hope you will...</td>\n",
       "      <td>order delay</td>\n",
       "    </tr>\n",
       "    <tr>\n",
       "      <th>17</th>\n",
       "      <td>My order is delayed. What should I do</td>\n",
       "      <td>My order is delayed. What should I do'</td>\n",
       "      <td>asen kew?|||amak bola hoyclo 17 Tarik parcel p...</td>\n",
       "      <td>Hello! Welcome to Daraz live chat support. 😊 H...</td>\n",
       "      <td>order delay</td>\n",
       "    </tr>\n",
       "    <tr>\n",
       "      <th>18</th>\n",
       "      <td>My order is delayed. What should I do</td>\n",
       "      <td>My order is delayed. What should I do'</td>\n",
       "      <td>\"&lt;img src='https://alime-customer-upload-lazad...</td>\n",
       "      <td>Ji sir|||Asha korchi apni oti druto delivery m...</td>\n",
       "      <td>order tracking</td>\n",
       "    </tr>\n",
       "    <tr>\n",
       "      <th>19</th>\n",
       "      <td>My order is delayed. What should I do</td>\n",
       "      <td>My order is delayed. What should I do'</td>\n",
       "      <td>Hello atik|||But it isn’t even packed yet|||Ok...</td>\n",
       "      <td>Hello!! Welcome to Daraz Live Chat session. Ho...</td>\n",
       "      <td>order delay</td>\n",
       "    </tr>\n",
       "    <tr>\n",
       "      <th>20</th>\n",
       "      <td>Need help</td>\n",
       "      <td>Need help</td>\n",
       "      <td>My order is delayed. What should I do?|||Unfor...</td>\n",
       "      <td>Thank you for contacting Daraz live chat. It w...</td>\n",
       "      <td>ordery delay</td>\n",
       "    </tr>\n",
       "    <tr>\n",
       "      <th>21</th>\n",
       "      <td>Need help</td>\n",
       "      <td>Need help</td>\n",
       "      <td>订单号:629130206950317|||Why is failing to delive...</td>\n",
       "      <td>Kindly share your query in details so that I c...</td>\n",
       "      <td>delivery attempt failed</td>\n",
       "    </tr>\n",
       "    <tr>\n",
       "      <th>22</th>\n",
       "      <td>Need help</td>\n",
       "      <td>Need help</td>\n",
       "      <td>Hlw|||订单号:629495925635757|||订单号:62949592573575...</td>\n",
       "      <td>Welcome mam.😊|||I hope it will redelivery to y...</td>\n",
       "      <td>delivery attempt failed</td>\n",
       "    </tr>\n",
       "    <tr>\n",
       "      <th>23</th>\n",
       "      <td>Need help</td>\n",
       "      <td>Need help</td>\n",
       "      <td>Since the delivery is failed,but i already pai...</td>\n",
       "      <td>mam please share your query with us|||mam plea...</td>\n",
       "      <td>delivery attempt failed &amp; refund</td>\n",
       "    </tr>\n",
       "    <tr>\n",
       "      <th>24</th>\n",
       "      <td>Need help</td>\n",
       "      <td>Need help</td>\n",
       "      <td>Ji dicoins|||Ok . Thanks |||daily check in , a...</td>\n",
       "      <td>Mam Ki dcoins er kotha bolchen ?|||Good day ma...</td>\n",
       "      <td>dicoins &amp; add cart</td>\n",
       "    </tr>\n",
       "    <tr>\n",
       "      <th>25</th>\n",
       "      <td>Need help</td>\n",
       "      <td>Need help</td>\n",
       "      <td>Ok||| ??|||Hi amr Oder ta koba pabo??|||订单号:62...</td>\n",
       "      <td>dhonnobad sir|||Good Day!! I hope you are doin...</td>\n",
       "      <td>Order delay</td>\n",
       "    </tr>\n",
       "    <tr>\n",
       "      <th>26</th>\n",
       "      <td>Need help</td>\n",
       "      <td>Need help</td>\n",
       "      <td>#ERROR!</td>\n",
       "      <td>Please share your query in details with us, so...</td>\n",
       "      <td>No query</td>\n",
       "    </tr>\n",
       "    <tr>\n",
       "      <th>27</th>\n",
       "      <td>Need help</td>\n",
       "      <td>Need help</td>\n",
       "      <td>https://www.daraz.com.bd/products/rigs-3-in-1-...</td>\n",
       "      <td>The offer is given by the seller and there is ...</td>\n",
       "      <td>Extra Help</td>\n",
       "    </tr>\n",
       "    <tr>\n",
       "      <th>28</th>\n",
       "      <td>Need help</td>\n",
       "      <td>Need help</td>\n",
       "      <td>Ji dicoins|||Ok . Thanks |||daily check in , a...</td>\n",
       "      <td>Mam Ki dcoins er kotha bolchen ?|||Good day ma...</td>\n",
       "      <td>DCoins, Add Cart</td>\n",
       "    </tr>\n",
       "    <tr>\n",
       "      <th>29</th>\n",
       "      <td>Need help</td>\n",
       "      <td>Need help</td>\n",
       "      <td>অস্বাভাবিক স্লো এটি৷ |||আমার ৭ তারিখের একটা অর...</td>\n",
       "      <td>আমরা দেখতে পারছি যে আপনার বিষয়টি আমাদের কনসার্...</td>\n",
       "      <td>Angry Customer</td>\n",
       "    </tr>\n",
       "    <tr>\n",
       "      <th>30</th>\n",
       "      <td>NaN</td>\n",
       "      <td>NaN</td>\n",
       "      <td>NaN</td>\n",
       "      <td>NaN</td>\n",
       "      <td>NaN</td>\n",
       "    </tr>\n",
       "    <tr>\n",
       "      <th>31</th>\n",
       "      <td>NaN</td>\n",
       "      <td>NaN</td>\n",
       "      <td>NaN</td>\n",
       "      <td>NaN</td>\n",
       "      <td>NaN</td>\n",
       "    </tr>\n",
       "    <tr>\n",
       "      <th>32</th>\n",
       "      <td>NaN</td>\n",
       "      <td>NaN</td>\n",
       "      <td>NaN</td>\n",
       "      <td>NaN</td>\n",
       "      <td>NaN</td>\n",
       "    </tr>\n",
       "    <tr>\n",
       "      <th>33</th>\n",
       "      <td>NaN</td>\n",
       "      <td>NaN</td>\n",
       "      <td>NaN</td>\n",
       "      <td>NaN</td>\n",
       "      <td>NaN</td>\n",
       "    </tr>\n",
       "    <tr>\n",
       "      <th>34</th>\n",
       "      <td>NaN</td>\n",
       "      <td>NaN</td>\n",
       "      <td>NaN</td>\n",
       "      <td>NaN</td>\n",
       "      <td>NaN</td>\n",
       "    </tr>\n",
       "    <tr>\n",
       "      <th>35</th>\n",
       "      <td>How long is the refund process</td>\n",
       "      <td>How long is the refund process</td>\n",
       "      <td>Hello |||Ok check not coming back my money |||...</td>\n",
       "      <td>Please give me some time to check your order, ...</td>\n",
       "      <td>refund delay</td>\n",
       "    </tr>\n",
       "    <tr>\n",
       "      <th>36</th>\n",
       "      <td>How long is the refund process</td>\n",
       "      <td>How long is the refund process</td>\n",
       "      <td>আরো একটা অর্ডার ক্যানসেল হয়েছে সিস্টেম ইরর এর ...</td>\n",
       "      <td>আর কোনভাবে সহযোগিতা করতে পারি কি, স্যার? :)  |...</td>\n",
       "      <td>wants to cancel order and get refund</td>\n",
       "    </tr>\n",
       "    <tr>\n",
       "      <th>37</th>\n",
       "      <td>How long is the refund process</td>\n",
       "      <td>How long is the refund process</td>\n",
       "      <td>&lt;img src='https://alime-customer-upload-lazada...</td>\n",
       "      <td>Dhonnobad sir.|||Ar kono tottho diye sohojogit...</td>\n",
       "      <td>refund delay</td>\n",
       "    </tr>\n",
       "    <tr>\n",
       "      <th>38</th>\n",
       "      <td>NaN</td>\n",
       "      <td>NaN</td>\n",
       "      <td>629206685057960|||&lt;img src='https://alime-cust...</td>\n",
       "      <td>Hope concern team will contact you soon sir|||...</td>\n",
       "      <td>return item</td>\n",
       "    </tr>\n",
       "    <tr>\n",
       "      <th>39</th>\n",
       "      <td>NaN</td>\n",
       "      <td>NaN</td>\n",
       "      <td>Hello, Can you check the order please? In orde...</td>\n",
       "      <td>I\\'m very sorry for your occurrence sir. I hav...</td>\n",
       "      <td>refund not received</td>\n",
       "    </tr>\n",
       "    <tr>\n",
       "      <th>40</th>\n",
       "      <td>NaN</td>\n",
       "      <td>NaN</td>\n",
       "      <td>Hello |||Why not refund my money</td>\n",
       "      <td>We feel extremely sorry for the difficulties y...</td>\n",
       "      <td>refund delay</td>\n",
       "    </tr>\n",
       "    <tr>\n",
       "      <th>41</th>\n",
       "      <td>NaN</td>\n",
       "      <td>NaN</td>\n",
       "      <td>Hello, Can you check the order please? In orde...</td>\n",
       "      <td>I\\'m very sorry for your occurrence sir. I hav...</td>\n",
       "      <td>refund not received</td>\n",
       "    </tr>\n",
       "    <tr>\n",
       "      <th>42</th>\n",
       "      <td>NaN</td>\n",
       "      <td>NaN</td>\n",
       "      <td>In the delivery |||I want to order something a...</td>\n",
       "      <td>Please be informed, global products, SourceCo ...</td>\n",
       "      <td>delivery issue, pickup point</td>\n",
       "    </tr>\n",
       "    <tr>\n",
       "      <th>43</th>\n",
       "      <td>NaN</td>\n",
       "      <td>NaN</td>\n",
       "      <td>What do you mean by soon?|||Do I have to file ...</td>\n",
       "      <td>Sir amra khub e dukkhito apnar ei kharap obhig...</td>\n",
       "      <td>refund delay</td>\n",
       "    </tr>\n",
       "    <tr>\n",
       "      <th>44</th>\n",
       "      <td>NaN</td>\n",
       "      <td>NaN</td>\n",
       "      <td>订单号:629089513103441||| Hello |||Na ekhono tk a...</td>\n",
       "      <td>Apnake bank account chek kore deklhar jonno on...</td>\n",
       "      <td>refund delay</td>\n",
       "    </tr>\n",
       "    <tr>\n",
       "      <th>45</th>\n",
       "      <td>NaN</td>\n",
       "      <td>NaN</td>\n",
       "      <td>Hello |||Ok check not coming back my money |||...</td>\n",
       "      <td>Please give me some time to check your order, ...</td>\n",
       "      <td>refund delay</td>\n",
       "    </tr>\n",
       "    <tr>\n",
       "      <th>46</th>\n",
       "      <td>Order related query</td>\n",
       "      <td>Order related query</td>\n",
       "      <td>订单号:629032244416226|||acha product ta ki ami a...</td>\n",
       "      <td>Apni apnar proyojon onushare je shomoyshimati ...</td>\n",
       "      <td>delivery delay</td>\n",
       "    </tr>\n",
       "    <tr>\n",
       "      <th>47</th>\n",
       "      <td>order related query</td>\n",
       "      <td>NaN</td>\n",
       "      <td>It's a daraz mall product|||And how long this ...</td>\n",
       "      <td>IF not then contact with us|||Sir this won't t...</td>\n",
       "      <td>warranty paper</td>\n",
       "    </tr>\n",
       "    <tr>\n",
       "      <th>48</th>\n",
       "      <td>order related query</td>\n",
       "      <td>NaN</td>\n",
       "      <td>কারণ আমি গতকাল একটা প্রোডাক্ট রিসিভ করেছি। আজক...</td>\n",
       "      <td>অনাকাঙ্খিত অসুবিধার জন্য আমরা আন্তরিকভাবে দুঃখ...</td>\n",
       "      <td>delivery delay</td>\n",
       "    </tr>\n",
       "    <tr>\n",
       "      <th>49</th>\n",
       "      <td>NaN</td>\n",
       "      <td>NaN</td>\n",
       "      <td>&lt;img src='https://alime-customer-upload-lazada...</td>\n",
       "      <td>Sathe thakun apnar kajti korchi|||Hello! Welco...</td>\n",
       "      <td>delivery delay</td>\n",
       "    </tr>\n",
       "    <tr>\n",
       "      <th>50</th>\n",
       "      <td>NaN</td>\n",
       "      <td>NaN</td>\n",
       "      <td>আমাকে ১৪ তারিখে ফোন করা হয়েছিল যে আজকে আপনার ...</td>\n",
       "      <td>স্যার অনুগ্রহ করে আপনার অর্ডার নম্বর টি শেয়ার ...</td>\n",
       "      <td>delivery delay</td>\n",
       "    </tr>\n",
       "    <tr>\n",
       "      <th>51</th>\n",
       "      <td>NaN</td>\n",
       "      <td>NaN</td>\n",
       "      <td>yeah.. but i waited so many times.. i think th...</td>\n",
       "      <td>It's in delivery processing|||Sir it is in del...</td>\n",
       "      <td>rider number</td>\n",
       "    </tr>\n",
       "    <tr>\n",
       "      <th>52</th>\n",
       "      <td>NaN</td>\n",
       "      <td>NaN</td>\n",
       "      <td>Do that|||Can you look at the previous convers...</td>\n",
       "      <td>Hello! Welcome to Daraz live chat support. Hop...</td>\n",
       "      <td>order issue</td>\n",
       "    </tr>\n",
       "    <tr>\n",
       "      <th>53</th>\n",
       "      <td>NaN</td>\n",
       "      <td>NaN</td>\n",
       "      <td>订单号:629032244416226|||acha product ta ki ami a...</td>\n",
       "      <td>Apni apnar proyojon onushare je shomoyshimati ...</td>\n",
       "      <td>delivery delay</td>\n",
       "    </tr>\n",
       "    <tr>\n",
       "      <th>54</th>\n",
       "      <td>NaN</td>\n",
       "      <td>NaN</td>\n",
       "      <td>Eid r ase order kora kono sms ooh ase nai abar...</td>\n",
       "      <td>Onugrohopurbok apnar order numberti share koru...</td>\n",
       "      <td>delivery delay</td>\n",
       "    </tr>\n",
       "    <tr>\n",
       "      <th>55</th>\n",
       "      <td>NaN</td>\n",
       "      <td>NaN</td>\n",
       "      <td>2nd attempt neinai|||recently amr 1ta order ca...</td>\n",
       "      <td>Shomoy diye shohojogita korar jonno Dhonnobad....</td>\n",
       "      <td>failed delivery</td>\n",
       "    </tr>\n",
       "    <tr>\n",
       "      <th>56</th>\n",
       "      <td>NaN</td>\n",
       "      <td>NaN</td>\n",
       "      <td>My daraz account please check |||Ei image nise...</td>\n",
       "      <td>Please share your order number with us, so tha...</td>\n",
       "      <td>order cancellation issue</td>\n",
       "    </tr>\n",
       "  </tbody>\n",
       "</table>\n",
       "</div>"
      ],
      "text/plain": [
       "                                                Query  \\\n",
       "0                           How can I track my order'   \n",
       "1                           How can I track my order'   \n",
       "2                                  Where is my order'   \n",
       "3                           How can I track my order'   \n",
       "4                           How can I track my order'   \n",
       "5                           How can I track my order'   \n",
       "6                           How can I track my order'   \n",
       "7                           How can I track my order'   \n",
       "8                           How can I track my order'   \n",
       "9                           How can I track my order'   \n",
       "10              My order is delayed. What should I do   \n",
       "11             My order is delayed. What should I do'   \n",
       "12             My order is delayed. What should I do'   \n",
       "13             My order is delayed. What should I do'   \n",
       "14  I have another overseas order. That order reac...   \n",
       "15            My order is delayed. What should I do?'   \n",
       "16              My order is delayed. What should I do   \n",
       "17              My order is delayed. What should I do   \n",
       "18              My order is delayed. What should I do   \n",
       "19              My order is delayed. What should I do   \n",
       "20                                          Need help   \n",
       "21                                          Need help   \n",
       "22                                          Need help   \n",
       "23                                          Need help   \n",
       "24                                          Need help   \n",
       "25                                          Need help   \n",
       "26                                          Need help   \n",
       "27                                          Need help   \n",
       "28                                          Need help   \n",
       "29                                          Need help   \n",
       "30                                                NaN   \n",
       "31                                                NaN   \n",
       "32                                                NaN   \n",
       "33                                                NaN   \n",
       "34                                                NaN   \n",
       "35                     How long is the refund process   \n",
       "36                     How long is the refund process   \n",
       "37                     How long is the refund process   \n",
       "38                                                NaN   \n",
       "39                                                NaN   \n",
       "40                                                NaN   \n",
       "41                                                NaN   \n",
       "42                                                NaN   \n",
       "43                                                NaN   \n",
       "44                                                NaN   \n",
       "45                                                NaN   \n",
       "46                                Order related query   \n",
       "47                                order related query   \n",
       "48                                order related query   \n",
       "49                                                NaN   \n",
       "50                                                NaN   \n",
       "51                                                NaN   \n",
       "52                                                NaN   \n",
       "53                                                NaN   \n",
       "54                                                NaN   \n",
       "55                                                NaN   \n",
       "56                                                NaN   \n",
       "\n",
       "                  Standard Knowledge Title  \\\n",
       "0                How can I track my order'   \n",
       "1                How can I track my order'   \n",
       "2                How can I track my order'   \n",
       "3                How can I track my order'   \n",
       "4                How can I track my order'   \n",
       "5                How can I track my order'   \n",
       "6                How can I track my order'   \n",
       "7                How can I track my order'   \n",
       "8                How can I track my order'   \n",
       "9                How can I track my order'   \n",
       "10   My order is delayed. What should I do   \n",
       "11  My order is delayed. What should I do'   \n",
       "12   My order is delayed. What should I do   \n",
       "13  My order is delayed. What should I do'   \n",
       "14  My order is delayed. What should I do'   \n",
       "15  My order is delayed. What should I do'   \n",
       "16  My order is delayed. What should I do'   \n",
       "17  My order is delayed. What should I do'   \n",
       "18  My order is delayed. What should I do'   \n",
       "19  My order is delayed. What should I do'   \n",
       "20                               Need help   \n",
       "21                               Need help   \n",
       "22                               Need help   \n",
       "23                               Need help   \n",
       "24                               Need help   \n",
       "25                               Need help   \n",
       "26                               Need help   \n",
       "27                               Need help   \n",
       "28                               Need help   \n",
       "29                               Need help   \n",
       "30                                     NaN   \n",
       "31                                     NaN   \n",
       "32                                     NaN   \n",
       "33                                     NaN   \n",
       "34                                     NaN   \n",
       "35          How long is the refund process   \n",
       "36          How long is the refund process   \n",
       "37          How long is the refund process   \n",
       "38                                     NaN   \n",
       "39                                     NaN   \n",
       "40                                     NaN   \n",
       "41                                     NaN   \n",
       "42                                     NaN   \n",
       "43                                     NaN   \n",
       "44                                     NaN   \n",
       "45                                     NaN   \n",
       "46                     Order related query   \n",
       "47                                     NaN   \n",
       "48                                     NaN   \n",
       "49                                     NaN   \n",
       "50                                     NaN   \n",
       "51                                     NaN   \n",
       "52                                     NaN   \n",
       "53                                     NaN   \n",
       "54                                     NaN   \n",
       "55                                     NaN   \n",
       "56                                     NaN   \n",
       "\n",
       "                                Live Agent User Query  \\\n",
       "0   I had ordered a piano from chittagong in 7th j...   \n",
       "1   Naki be Nebo Ata at pabo na|||Amar ai order ti...   \n",
       "2   DEX-BDN-CB-0000693055|||Please give me the upd...   \n",
       "3   \"When I'm gonna get my product?|||ok thanks|||...   \n",
       "4   \"629074632994006|||Sure |||Amar ei order ta as...   \n",
       "5   Dcoin|||আর চালু হবে না? |||😭|||আর কোন আপডেট হব...   \n",
       "6   :ok thanks, duruto delivery diben pls|||amr or...   \n",
       "7   Paperfly basar samne ashe na |||Eigula ki dhor...   \n",
       "8   订单号:628373899747135|||Then complain korar por ...   \n",
       "9   This is the third time am contacting with dara...   \n",
       "10  \"My parcel reached at warehouse 2 days ago!|||...   \n",
       "11  \"Yap,but ajkeo wrong job done. Delivery issue ...   \n",
       "12  Kono miss call or sms o pai nai|||Amar sathe k...   \n",
       "13  12 tarikhe order korsilam kono progress nai|||...   \n",
       "14  Are you sending by Air? Or Ship?|||订单号:6284232...   \n",
       "15  \"Booking Address:  Atikul islam Sundarban Cour...   \n",
       "16  Okay thanks |||Okay |||This order is delayed. ...   \n",
       "17  asen kew?|||amak bola hoyclo 17 Tarik parcel p...   \n",
       "18  \"<img src='https://alime-customer-upload-lazad...   \n",
       "19  Hello atik|||But it isn’t even packed yet|||Ok...   \n",
       "20  My order is delayed. What should I do?|||Unfor...   \n",
       "21  订单号:629130206950317|||Why is failing to delive...   \n",
       "22  Hlw|||订单号:629495925635757|||订单号:62949592573575...   \n",
       "23  Since the delivery is failed,but i already pai...   \n",
       "24  Ji dicoins|||Ok . Thanks |||daily check in , a...   \n",
       "25  Ok||| ??|||Hi amr Oder ta koba pabo??|||订单号:62...   \n",
       "26                                            #ERROR!   \n",
       "27  https://www.daraz.com.bd/products/rigs-3-in-1-...   \n",
       "28  Ji dicoins|||Ok . Thanks |||daily check in , a...   \n",
       "29  অস্বাভাবিক স্লো এটি৷ |||আমার ৭ তারিখের একটা অর...   \n",
       "30                                                NaN   \n",
       "31                                                NaN   \n",
       "32                                                NaN   \n",
       "33                                                NaN   \n",
       "34                                                NaN   \n",
       "35  Hello |||Ok check not coming back my money |||...   \n",
       "36  আরো একটা অর্ডার ক্যানসেল হয়েছে সিস্টেম ইরর এর ...   \n",
       "37  <img src='https://alime-customer-upload-lazada...   \n",
       "38  629206685057960|||<img src='https://alime-cust...   \n",
       "39  Hello, Can you check the order please? In orde...   \n",
       "40                   Hello |||Why not refund my money   \n",
       "41  Hello, Can you check the order please? In orde...   \n",
       "42  In the delivery |||I want to order something a...   \n",
       "43  What do you mean by soon?|||Do I have to file ...   \n",
       "44  订单号:629089513103441||| Hello |||Na ekhono tk a...   \n",
       "45  Hello |||Ok check not coming back my money |||...   \n",
       "46  订单号:629032244416226|||acha product ta ki ami a...   \n",
       "47  It's a daraz mall product|||And how long this ...   \n",
       "48  কারণ আমি গতকাল একটা প্রোডাক্ট রিসিভ করেছি। আজক...   \n",
       "49  <img src='https://alime-customer-upload-lazada...   \n",
       "50  আমাকে ১৪ তারিখে ফোন করা হয়েছিল যে আজকে আপনার ...   \n",
       "51  yeah.. but i waited so many times.. i think th...   \n",
       "52  Do that|||Can you look at the previous convers...   \n",
       "53  订单号:629032244416226|||acha product ta ki ami a...   \n",
       "54  Eid r ase order kora kono sms ooh ase nai abar...   \n",
       "55  2nd attempt neinai|||recently amr 1ta order ca...   \n",
       "56  My daraz account please check |||Ei image nise...   \n",
       "\n",
       "                                  Live Agent Response  \\\n",
       "0   \"We can see the issue has been forwarded to ou...   \n",
       "1   Please share your query in details with us, so...   \n",
       "2   Kindly allow me some time. |||Good day! Welcom...   \n",
       "3   Hello! Welcome to Daraz live chat support. 😊 H...   \n",
       "4   Sir ami ki kichuta somoy pete pari, check kora...   \n",
       "5   পেয়ে থাকবেন|||না স্যার|||Hello sir|||মিশন কমপ্...   \n",
       "6   Sir, Bishoyti amader concern team er kache jan...   \n",
       "7   sir asha korchi apnar shathe punoray delivery ...   \n",
       "8   订单号:628373899747135|||Then complain korar por ...   \n",
       "9   Hello Mam😊|||Sure, Mam 😊|||Good Day!! I hope y...   \n",
       "10  Please share your query in details with us, so...   \n",
       "11  Hello!! Welcome to Daraz Live Chat session. Ho...   \n",
       "12  Sir onugroho kore amake kichuta shomoy diye so...   \n",
       "13  Amader end theke ki kono call kora hoyechilo s...   \n",
       "14  Is there anything else I can assist you with?|...   \n",
       "15  Can I give you any more information?|||In that...   \n",
       "16  Sir, rider is out for delivery, .Hope you will...   \n",
       "17  Hello! Welcome to Daraz live chat support. 😊 H...   \n",
       "18  Ji sir|||Asha korchi apni oti druto delivery m...   \n",
       "19  Hello!! Welcome to Daraz Live Chat session. Ho...   \n",
       "20  Thank you for contacting Daraz live chat. It w...   \n",
       "21  Kindly share your query in details so that I c...   \n",
       "22  Welcome mam.😊|||I hope it will redelivery to y...   \n",
       "23  mam please share your query with us|||mam plea...   \n",
       "24  Mam Ki dcoins er kotha bolchen ?|||Good day ma...   \n",
       "25  dhonnobad sir|||Good Day!! I hope you are doin...   \n",
       "26  Please share your query in details with us, so...   \n",
       "27  The offer is given by the seller and there is ...   \n",
       "28  Mam Ki dcoins er kotha bolchen ?|||Good day ma...   \n",
       "29  আমরা দেখতে পারছি যে আপনার বিষয়টি আমাদের কনসার্...   \n",
       "30                                                NaN   \n",
       "31                                                NaN   \n",
       "32                                                NaN   \n",
       "33                                                NaN   \n",
       "34                                                NaN   \n",
       "35  Please give me some time to check your order, ...   \n",
       "36  আর কোনভাবে সহযোগিতা করতে পারি কি, স্যার? :)  |...   \n",
       "37  Dhonnobad sir.|||Ar kono tottho diye sohojogit...   \n",
       "38  Hope concern team will contact you soon sir|||...   \n",
       "39  I\\'m very sorry for your occurrence sir. I hav...   \n",
       "40  We feel extremely sorry for the difficulties y...   \n",
       "41  I\\'m very sorry for your occurrence sir. I hav...   \n",
       "42  Please be informed, global products, SourceCo ...   \n",
       "43  Sir amra khub e dukkhito apnar ei kharap obhig...   \n",
       "44  Apnake bank account chek kore deklhar jonno on...   \n",
       "45  Please give me some time to check your order, ...   \n",
       "46  Apni apnar proyojon onushare je shomoyshimati ...   \n",
       "47  IF not then contact with us|||Sir this won't t...   \n",
       "48  অনাকাঙ্খিত অসুবিধার জন্য আমরা আন্তরিকভাবে দুঃখ...   \n",
       "49  Sathe thakun apnar kajti korchi|||Hello! Welco...   \n",
       "50  স্যার অনুগ্রহ করে আপনার অর্ডার নম্বর টি শেয়ার ...   \n",
       "51  It's in delivery processing|||Sir it is in del...   \n",
       "52  Hello! Welcome to Daraz live chat support. Hop...   \n",
       "53  Apni apnar proyojon onushare je shomoyshimati ...   \n",
       "54  Onugrohopurbok apnar order numberti share koru...   \n",
       "55  Shomoy diye shohojogita korar jonno Dhonnobad....   \n",
       "56  Please share your order number with us, so tha...   \n",
       "\n",
       "                                     Remark  \n",
       "0                               order delay  \n",
       "1                               order delay  \n",
       "2                               order delay  \n",
       "3                               order delay  \n",
       "4                               order delay  \n",
       "5               different question to agent  \n",
       "6                   delivery attempt failed  \n",
       "7                           failed delivery  \n",
       "8                              refund delay  \n",
       "9   order delay\\nwants to know rider number  \n",
       "10                              order delay  \n",
       "11                              order delay  \n",
       "12                             order failed  \n",
       "13                              order delay  \n",
       "14                           CB order delay  \n",
       "15      collection point issue/ order delay  \n",
       "16                              order delay  \n",
       "17                              order delay  \n",
       "18                           order tracking  \n",
       "19                              order delay  \n",
       "20                             ordery delay  \n",
       "21                  delivery attempt failed  \n",
       "22                  delivery attempt failed  \n",
       "23         delivery attempt failed & refund  \n",
       "24                       dicoins & add cart  \n",
       "25                              Order delay  \n",
       "26                                 No query  \n",
       "27                               Extra Help  \n",
       "28                         DCoins, Add Cart  \n",
       "29                           Angry Customer  \n",
       "30                                      NaN  \n",
       "31                                      NaN  \n",
       "32                                      NaN  \n",
       "33                                      NaN  \n",
       "34                                      NaN  \n",
       "35                             refund delay  \n",
       "36     wants to cancel order and get refund  \n",
       "37                             refund delay  \n",
       "38                              return item  \n",
       "39                      refund not received  \n",
       "40                             refund delay  \n",
       "41                      refund not received  \n",
       "42             delivery issue, pickup point  \n",
       "43                             refund delay  \n",
       "44                             refund delay  \n",
       "45                             refund delay  \n",
       "46                           delivery delay  \n",
       "47                           warranty paper  \n",
       "48                           delivery delay  \n",
       "49                           delivery delay  \n",
       "50                           delivery delay  \n",
       "51                             rider number  \n",
       "52                              order issue  \n",
       "53                           delivery delay  \n",
       "54                           delivery delay  \n",
       "55                          failed delivery  \n",
       "56                 order cancellation issue  "
      ]
     },
     "execution_count": 132,
     "metadata": {},
     "output_type": "execute_result"
    }
   ],
   "source": [
    "en_df"
   ]
  },
  {
   "cell_type": "code",
   "execution_count": null,
   "metadata": {},
   "outputs": [],
   "source": []
  }
 ],
 "metadata": {
  "interpreter": {
   "hash": "0606053452435824a427f0ea93d6ae20786397642025bcc66bfe96b66155d44b"
  },
  "kernelspec": {
   "display_name": "Python 3.9.7 ('base')",
   "language": "python",
   "name": "python3"
  },
  "language_info": {
   "codemirror_mode": {
    "name": "ipython",
    "version": 3
   },
   "file_extension": ".py",
   "mimetype": "text/x-python",
   "name": "python",
   "nbconvert_exporter": "python",
   "pygments_lexer": "ipython3",
   "version": "3.9.7"
  },
  "orig_nbformat": 4
 },
 "nbformat": 4,
 "nbformat_minor": 2
}
