{
 "metadata": {
  "language_info": {
   "codemirror_mode": {
    "name": "ipython",
    "version": 3
   },
   "file_extension": ".py",
   "mimetype": "text/x-python",
   "name": "python",
   "nbconvert_exporter": "python",
   "pygments_lexer": "ipython3",
   "version": "3.7.3-final"
  },
  "orig_nbformat": 2,
  "kernelspec": {
   "name": "python3",
   "display_name": "Python 3"
  }
 },
 "nbformat": 4,
 "nbformat_minor": 2,
 "cells": [
  {
   "cell_type": "code",
   "execution_count": null,
   "metadata": {},
   "outputs": [],
   "source": []
  },
  {
   "cell_type": "code",
   "execution_count": 58,
   "metadata": {
    "tags": []
   },
   "outputs": [
    {
     "output_type": "stream",
     "name": "stdout",
     "text": "1\n2\nFuzz\n4\nBuzz\nFuzz\n7\n8\nFuzz\nBuzz\n11\nFuzz\n13\n14\nFuzzBuzz\n16\n17\nFuzz\n19\nBuzz\nFuzz\n22\n23\nFuzz\nBuzz\n26\nFuzz\n28\n29\nFuzzBuzz\n31\n32\nFuzz\n34\nBuzz\nFuzz\n37\n38\nFuzz\nBuzz\n41\nFuzz\n43\n44\nFuzzBuzz\n46\n47\nFuzz\n49\nBuzz\nFuzz\n52\n53\nFuzz\nBuzz\n56\nFuzz\n58\n59\nFuzzBuzz\n61\n62\nFuzz\n64\nBuzz\nFuzz\n67\n68\nFuzz\nBuzz\n71\nFuzz\n73\n74\nFuzzBuzz\n76\n77\nFuzz\n79\nBuzz\nFuzz\n82\n83\nFuzz\nBuzz\n86\nFuzz\n88\n89\nFuzzBuzz\n91\n92\nFuzz\n94\nBuzz\nFuzz\n97\n98\nFuzz\n--- 0.003996372222900391 seconds ---\n"
    }
   ],
   "source": [
    "import time\n",
    "start_time = time.time()\n",
    "\n",
    "for i in range(1, 100):\n",
    "    if (i%3==0 and i%5==0):\n",
    "        print('FuzzBuzz')\n",
    "    elif i%3 ==0:\n",
    "        print('Fuzz')\n",
    "    elif (i%5==0):\n",
    "        print('Buzz')\n",
    "    else:\n",
    "        print(i)\n",
    "\n",
    "print(\"--- %s seconds ---\" % (time.time() - start_time))"
   ]
  },
  {
   "cell_type": "code",
   "execution_count": 23,
   "metadata": {
    "tags": []
   },
   "outputs": [
    {
     "output_type": "stream",
     "name": "stdout",
     "text": "[3, 6, 9, 12, 15, 18, 21, 24, 27, 30, 33, 36, 39, 42, 45, 48, 51, 54, 57, 60, 63, 66, 69, 72, 75, 78, 81, 84, 87, 90, 93, 96, 99]\n"
    }
   ],
   "source": [
    "print(list(l))"
   ]
  },
  {
   "cell_type": "code",
   "execution_count": 51,
   "metadata": {},
   "outputs": [],
   "source": [
    "x = 1\n",
    "y = 2\n",
    "for i in range(1,100):\n",
    "    'FBUUZZZZ'[i%3==0::2] + 'FBUUZZZZ'[i%5==0::2]"
   ]
  },
  {
   "cell_type": "code",
   "execution_count": 53,
   "metadata": {},
   "outputs": [],
   "source": [
    "for i in range(1,100):\n",
    "    m = 'FBUUZZZZ'[(i%3==0)::2]"
   ]
  },
  {
   "cell_type": "code",
   "execution_count": 54,
   "metadata": {},
   "outputs": [
    {
     "output_type": "execute_result",
     "data": {
      "text/plain": "'BUZZ'"
     },
     "metadata": {},
     "execution_count": 54
    }
   ],
   "source": [
    "m"
   ]
  },
  {
   "cell_type": "code",
   "execution_count": 55,
   "metadata": {},
   "outputs": [
    {
     "output_type": "execute_result",
     "data": {
      "text/plain": "'BUZZFUZZ'"
     },
     "metadata": {},
     "execution_count": 55
    }
   ],
   "source": [
    "'FBUUZZZZ'[i%3==0::2] + 'FBUUZZZZ'[i%5==0::2]"
   ]
  },
  {
   "cell_type": "code",
   "execution_count": 56,
   "metadata": {},
   "outputs": [
    {
     "output_type": "execute_result",
     "data": {
      "text/plain": "'BUZZFUZZ'"
     },
     "metadata": {},
     "execution_count": 56
    }
   ],
   "source": [
    "'FBUUZZZZ'[i%3==0::2] + 'FBUUZZZZ'[i%5==0::2]"
   ]
  },
  {
   "cell_type": "code",
   "execution_count": 57,
   "metadata": {},
   "outputs": [
    {
     "output_type": "execute_result",
     "data": {
      "text/plain": "'BUZZFUZZ'"
     },
     "metadata": {},
     "execution_count": 57
    }
   ],
   "source": [
    "'FBUUZZZZ'[i%3==0::2] + 'FBUUZZZZ'[i%5==0::2]"
   ]
  },
  {
   "cell_type": "code",
   "execution_count": 79,
   "metadata": {
    "tags": []
   },
   "outputs": [
    {
     "output_type": "stream",
     "name": "stdout",
     "text": "FUZZFUZZ\nFUZZFUZZ\nBUZZFUZZ\nFUZZFUZZ\nFUZZBUZZ\nBUZZFUZZ\nFUZZFUZZ\nFUZZFUZZ\nBUZZFUZZ\nFUZZBUZZ\nFUZZFUZZ\nBUZZFUZZ\nFUZZFUZZ\nFUZZFUZZ\nBUZZBUZZ\nFUZZFUZZ\nFUZZFUZZ\nBUZZFUZZ\nFUZZFUZZ\nFUZZBUZZ\nBUZZFUZZ\nFUZZFUZZ\nFUZZFUZZ\nBUZZFUZZ\nFUZZBUZZ\nFUZZFUZZ\nBUZZFUZZ\nFUZZFUZZ\nFUZZFUZZ\nBUZZBUZZ\nFUZZFUZZ\nFUZZFUZZ\nBUZZFUZZ\nFUZZFUZZ\nFUZZBUZZ\nBUZZFUZZ\nFUZZFUZZ\nFUZZFUZZ\nBUZZFUZZ\nFUZZBUZZ\nFUZZFUZZ\nBUZZFUZZ\nFUZZFUZZ\nFUZZFUZZ\nBUZZBUZZ\nFUZZFUZZ\nFUZZFUZZ\nBUZZFUZZ\nFUZZFUZZ\nFUZZBUZZ\nBUZZFUZZ\nFUZZFUZZ\nFUZZFUZZ\nBUZZFUZZ\nFUZZBUZZ\nFUZZFUZZ\nBUZZFUZZ\nFUZZFUZZ\nFUZZFUZZ\nBUZZBUZZ\nFUZZFUZZ\nFUZZFUZZ\nBUZZFUZZ\nFUZZFUZZ\nFUZZBUZZ\nBUZZFUZZ\nFUZZFUZZ\nFUZZFUZZ\nBUZZFUZZ\nFUZZBUZZ\nFUZZFUZZ\nBUZZFUZZ\nFUZZFUZZ\nFUZZFUZZ\nBUZZBUZZ\nFUZZFUZZ\nFUZZFUZZ\nBUZZFUZZ\nFUZZFUZZ\nFUZZBUZZ\nBUZZFUZZ\nFUZZFUZZ\nFUZZFUZZ\nBUZZFUZZ\nFUZZBUZZ\nFUZZFUZZ\nBUZZFUZZ\nFUZZFUZZ\nFUZZFUZZ\nBUZZBUZZ\nFUZZFUZZ\nFUZZFUZZ\nBUZZFUZZ\nFUZZFUZZ\nFUZZBUZZ\nBUZZFUZZ\nFUZZFUZZ\nFUZZFUZZ\nBUZZFUZZ\n"
    }
   ],
   "source": [
    "for i in range(1,100):\n",
    "    print('FBUUZZZZ'[(i%3==0)::2 or i] + 'FBUUZZZZ'[(i%5==0)::2 or i])"
   ]
  },
  {
   "cell_type": "code",
   "execution_count": 75,
   "metadata": {},
   "outputs": [
    {
     "output_type": "execute_result",
     "data": {
      "text/plain": "'Fuzz'"
     },
     "metadata": {},
     "execution_count": 75
    }
   ],
   "source": [
    "'FuzzBuzz'[0:4:1]"
   ]
  },
  {
   "cell_type": "code",
   "execution_count": 52,
   "metadata": {},
   "outputs": [
    {
     "output_type": "execute_result",
     "data": {
      "text/plain": "''"
     },
     "metadata": {},
     "execution_count": 52
    }
   ],
   "source": [
    "i = 2\n",
    "'FuzzBuzz'[0:0]"
   ]
  },
  {
   "cell_type": "code",
   "execution_count": 28,
   "metadata": {},
   "outputs": [],
   "source": [
    "for i in range(1,100):\n",
    "    'FuzzBuzz'[0:4]"
   ]
  },
  {
   "cell_type": "code",
   "execution_count": 4,
   "metadata": {
    "tags": []
   },
   "outputs": [
    {
     "output_type": "stream",
     "name": "stdout",
     "text": "\n\nF\n\n\nF\n\n\nF\n\n\nF\n\n\n\n\n\nF\n\n\nF\n\n\nF\n\n\nF\n\n\n\n\n\nF\n\n\nF\n\n\nF\n\n\nF\n\n\n\n\n\nF\n\n\nF\n\n\nF\n\n\nF\n\n\n\n\n\nF\n\n\nF\n\n\nF\n\n\nF\n\n\n\n\n\nF\n\n\nF\n\n\nF\n\n\nF\n\n\n\n\n\nF\n\n\nF\n\n\nF\n"
    }
   ],
   "source": [
    "for i in range(1, 100):\n",
    "    print('FuzzBuzz'[(i%5==0)*4:(i%3==0)*4])"
   ]
  },
  {
   "cell_type": "code",
   "execution_count": 42,
   "metadata": {},
   "outputs": [
    {
     "output_type": "execute_result",
     "data": {
      "text/plain": "'Buzz'"
     },
     "metadata": {},
     "execution_count": 42
    }
   ],
   "source": [
    "'FuzzBuzz'[4:]"
   ]
  },
  {
   "cell_type": "code",
   "execution_count": 3,
   "metadata": {
    "tags": []
   },
   "outputs": [
    {
     "output_type": "stream",
     "name": "stdout",
     "text": "FuzzBuzz\nFuzzBuzz\nFuzz\nFuzzBuzz\nBuzz\nFuzz\nFuzzBuzz\nFuzzBuzz\nFuzz\nBuzz\nFuzzBuzz\nFuzz\nFuzzBuzz\nFuzzBuzz\n\nFuzzBuzz\nFuzzBuzz\nFuzz\nFuzzBuzz\nBuzz\nFuzz\nFuzzBuzz\nFuzzBuzz\nFuzz\nBuzz\nFuzzBuzz\nFuzz\nFuzzBuzz\nFuzzBuzz\n\nFuzzBuzz\nFuzzBuzz\nFuzz\nFuzzBuzz\nBuzz\nFuzz\nFuzzBuzz\nFuzzBuzz\nFuzz\nBuzz\nFuzzBuzz\nFuzz\nFuzzBuzz\nFuzzBuzz\n\nFuzzBuzz\nFuzzBuzz\nFuzz\nFuzzBuzz\nBuzz\nFuzz\nFuzzBuzz\nFuzzBuzz\nFuzz\nBuzz\nFuzzBuzz\nFuzz\nFuzzBuzz\nFuzzBuzz\n\nFuzzBuzz\nFuzzBuzz\nFuzz\nFuzzBuzz\nBuzz\nFuzz\nFuzzBuzz\nFuzzBuzz\nFuzz\nBuzz\nFuzzBuzz\nFuzz\nFuzzBuzz\nFuzzBuzz\n\nFuzzBuzz\nFuzzBuzz\nFuzz\nFuzzBuzz\nBuzz\nFuzz\nFuzzBuzz\nFuzzBuzz\nFuzz\nBuzz\nFuzzBuzz\nFuzz\nFuzzBuzz\nFuzzBuzz\n\nFuzzBuzz\nFuzzBuzz\nFuzz\nFuzzBuzz\nBuzz\nFuzz\nFuzzBuzz\nFuzzBuzz\nFuzz\n"
    }
   ],
   "source": [
    "for i in range(1, 100):\n",
    "    print('FuzzBuzz'[(4 if i%5==0 else None):(4 if i%3==0 else None)])"
   ]
  },
  {
   "cell_type": "code",
   "execution_count": 5,
   "metadata": {
    "tags": []
   },
   "outputs": [
    {
     "output_type": "stream",
     "name": "stdout",
     "text": "1\n2\nFuzz\n4\nBuzz\nFuzz\n7\n8\nFuzz\nBuzz\n11\nFuzz\n13\n14\nFuzzBuzz\n16\n17\nFuzz\n19\nBuzz\nFuzz\n22\n23\nFuzz\nBuzz\n26\nFuzz\n28\n29\nFuzzBuzz\n31\n32\nFuzz\n34\nBuzz\nFuzz\n37\n38\nFuzz\nBuzz\n41\nFuzz\n43\n44\nFuzzBuzz\n46\n47\nFuzz\n49\nBuzz\nFuzz\n52\n53\nFuzz\nBuzz\n56\nFuzz\n58\n59\nFuzzBuzz\n61\n62\nFuzz\n64\nBuzz\nFuzz\n67\n68\nFuzz\nBuzz\n71\nFuzz\n73\n74\nFuzzBuzz\n76\n77\nFuzz\n79\nBuzz\nFuzz\n82\n83\nFuzz\nBuzz\n86\nFuzz\n88\n89\nFuzzBuzz\n91\n92\nFuzz\n94\nBuzz\nFuzz\n97\n98\nFuzz\nBuzz\n"
    }
   ],
   "source": [
    "for i in range(1, 101):\n",
    "    if i%3==0 and i%5==0:\n",
    "        print('FuzzBuzz')\n",
    "    elif i%3==0:\n",
    "        print('Fuzz')\n",
    "    elif i%5==0:\n",
    "        print('Buzz')\n",
    "    else:\n",
    "        print(i)"
   ]
  },
  {
   "cell_type": "code",
   "execution_count": 6,
   "metadata": {
    "tags": []
   },
   "outputs": [
    {
     "output_type": "stream",
     "name": "stdout",
     "text": "[1, 2, 'Fizz', 4, 'Buzz', 'Fizz', 7, 8, 'Fizz', 'Buzz', 11, 'Fizz', 13, 14, 'FizzBuzz']\n"
    }
   ],
   "source": [
    "print([\n",
    "  (not (i % 3) and not (i % 5) and \"FizzBuzz\") or\n",
    "  (not (i % 3) and \"Fizz\") or\n",
    "  (not (i % 5) and \"Buzz\") or\n",
    "  i\n",
    "  for i in range(1,16)])"
   ]
  },
  {
   "cell_type": "code",
   "execution_count": 9,
   "metadata": {},
   "outputs": [],
   "source": [
    "def fizz_buzz(max):\n",
    "    return [\n",
    "        \"fizz\" * (not n % 3) + \"buzz\" * (not n % 5) or str(n)\n",
    "        for n in range(max + 1)\n",
    "    ]"
   ]
  },
  {
   "cell_type": "code",
   "execution_count": 10,
   "metadata": {},
   "outputs": [
    {
     "output_type": "execute_result",
     "data": {
      "text/plain": "['fizzbuzz',\n '1',\n '2',\n 'fizz',\n '4',\n 'buzz',\n 'fizz',\n '7',\n '8',\n 'fizz',\n 'buzz',\n '11',\n 'fizz',\n '13',\n '14',\n 'fizzbuzz',\n '16',\n '17',\n 'fizz',\n '19',\n 'buzz',\n 'fizz',\n '22',\n '23',\n 'fizz',\n 'buzz',\n '26',\n 'fizz',\n '28',\n '29',\n 'fizzbuzz',\n '31',\n '32',\n 'fizz',\n '34',\n 'buzz',\n 'fizz',\n '37',\n '38',\n 'fizz',\n 'buzz',\n '41',\n 'fizz',\n '43',\n '44',\n 'fizzbuzz',\n '46',\n '47',\n 'fizz',\n '49',\n 'buzz',\n 'fizz',\n '52',\n '53',\n 'fizz',\n 'buzz',\n '56',\n 'fizz',\n '58',\n '59',\n 'fizzbuzz',\n '61',\n '62',\n 'fizz',\n '64',\n 'buzz',\n 'fizz',\n '67',\n '68',\n 'fizz',\n 'buzz',\n '71',\n 'fizz',\n '73',\n '74',\n 'fizzbuzz',\n '76',\n '77',\n 'fizz',\n '79',\n 'buzz',\n 'fizz',\n '82',\n '83',\n 'fizz',\n 'buzz',\n '86',\n 'fizz',\n '88',\n '89',\n 'fizzbuzz',\n '91',\n '92',\n 'fizz',\n '94',\n 'buzz',\n 'fizz',\n '97',\n '98',\n 'fizz',\n 'buzz']"
     },
     "metadata": {},
     "execution_count": 10
    }
   ],
   "source": [
    "fizz_buzz(100)"
   ]
  },
  {
   "cell_type": "code",
   "execution_count": 12,
   "metadata": {
    "tags": []
   },
   "outputs": [
    {
     "output_type": "stream",
     "name": "stdout",
     "text": "Fuzz\nFuzzFuzz\n\nFuzz\nFuzzFuzz\n\nFuzz\nFuzzFuzz\n\nFuzz\nFuzzFuzz\n\nFuzz\nFuzzFuzz\n\nFuzz\nFuzzFuzz\n\nFuzz\nFuzzFuzz\n\nFuzz\nFuzzFuzz\n\nFuzz\nFuzzFuzz\n\nFuzz\nFuzzFuzz\n\nFuzz\nFuzzFuzz\n\nFuzz\nFuzzFuzz\n\nFuzz\nFuzzFuzz\n\nFuzz\nFuzzFuzz\n\nFuzz\nFuzzFuzz\n\nFuzz\nFuzzFuzz\n\nFuzz\nFuzzFuzz\n\nFuzz\nFuzzFuzz\n\nFuzz\nFuzzFuzz\n\nFuzz\nFuzzFuzz\n\nFuzz\nFuzzFuzz\n\nFuzz\nFuzzFuzz\n\nFuzz\nFuzzFuzz\n\nFuzz\nFuzzFuzz\n\nFuzz\nFuzzFuzz\n\nFuzz\nFuzzFuzz\n\nFuzz\nFuzzFuzz\n\nFuzz\nFuzzFuzz\n\nFuzz\nFuzzFuzz\n\nFuzz\nFuzzFuzz\n\nFuzz\nFuzzFuzz\n\nFuzz\nFuzzFuzz\n\nFuzz\nFuzzFuzz\n\n"
    }
   ],
   "source": [
    "for i in range(1, 100):\n",
    "    print('Fuzz' * (i%3))"
   ]
  },
  {
   "cell_type": "code",
   "execution_count": 25,
   "metadata": {
    "tags": []
   },
   "outputs": [
    {
     "output_type": "stream",
     "name": "stdout",
     "text": "\n\nFuz\nuzz\n\nF\nu\nz\nFuzz\n\n\nFu\nuz\nzz\n\n\n\nFuz\nuzz\n\nF\nu\nz\nFuzz\n\n\nFu\nuz\nzz\n\n\n\nFuz\nuzz\n\nF\nu\nz\nFuzz\n\n\nFu\nuz\nzz\n\n\n\nFuz\nuzz\n\nF\nu\nz\nFuzz\n\n\nFu\nuz\nzz\n\n\n\nFuz\nuzz\n\nF\nu\nz\nFuzz\n\n\nFu\nuz\nzz\n\n\n\nFuz\nuzz\n\nF\nu\nz\nFuzz\n\n\nFu\nuz\nzz\n\n\n\nFuz\nuzz\n\nF\nu\nz\nFuzz\n"
    }
   ],
   "source": [
    "for i in range(1, 100):\n",
    "    "
   ]
  },
  {
   "cell_type": "code",
   "execution_count": 54,
   "metadata": {},
   "outputs": [
    {
     "output_type": "execute_result",
     "data": {
      "text/plain": "True"
     },
     "metadata": {},
     "execution_count": 54
    }
   ],
   "source": [
    "i = 6\n",
    "bool(i%3==0)"
   ]
  },
  {
   "cell_type": "code",
   "execution_count": 53,
   "metadata": {
    "tags": []
   },
   "outputs": [
    {
     "output_type": "stream",
     "name": "stdout",
     "text": "Buzz\n"
    }
   ],
   "source": [
    "print('Fuzz' * bool(i%3==0) + 'Buzz' * bool(i%5==0) or int(i))"
   ]
  },
  {
   "cell_type": "code",
   "execution_count": 62,
   "metadata": {
    "tags": []
   },
   "outputs": [
    {
     "output_type": "stream",
     "name": "stdout",
     "text": "1\n2\nFuzz\n4\nBuzz\nFuzz\n7\n8\nFuzz\nBuzz\n11\nFuzz\n13\n14\nFuzzBuzz\n16\n17\nFuzz\n19\nBuzz\nFuzz\n22\n23\nFuzz\nBuzz\n26\nFuzz\n28\n29\nFuzzBuzz\n31\n32\nFuzz\n34\nBuzz\nFuzz\n37\n38\nFuzz\nBuzz\n41\nFuzz\n43\n44\nFuzzBuzz\n46\n47\nFuzz\n49\nBuzz\nFuzz\n52\n53\nFuzz\nBuzz\n56\nFuzz\n58\n59\nFuzzBuzz\n61\n62\nFuzz\n64\nBuzz\nFuzz\n67\n68\nFuzz\nBuzz\n71\nFuzz\n73\n74\nFuzzBuzz\n76\n77\nFuzz\n79\nBuzz\nFuzz\n82\n83\nFuzz\nBuzz\n86\nFuzz\n88\n89\nFuzzBuzz\n91\n92\nFuzz\n94\nBuzz\nFuzz\n97\n98\nFuzz\nBuzz\n--- 0.003994941711425781 seconds ---\n"
    }
   ],
   "source": [
    "import time\n",
    "start_time = time.time()\n",
    "\n",
    "for i in range(1, 101):\n",
    "    print('Fuzz' * bool(i%3==0) + 'Buzz' * bool(i%5==0) or int(i))\n",
    "\n",
    "print(\"--- %s seconds ---\" % (time.time() - start_time))"
   ]
  },
  {
   "cell_type": "code",
   "execution_count": null,
   "metadata": {},
   "outputs": [],
   "source": []
  }
 ]
}