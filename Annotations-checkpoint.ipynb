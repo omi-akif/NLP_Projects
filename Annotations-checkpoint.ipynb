{
 "cells": [
  {
   "cell_type": "code",
   "execution_count": 49,
   "metadata": {},
   "outputs": [
    {
     "data": {
      "application/vnd.jupyter.widget-view+json": {
       "model_id": "5d6fc110f0c74c2c852cac05e7393c77",
       "version_major": 2,
       "version_minor": 0
      },
      "text/plain": [
       "HTML(value='0 of 10 Examples annotated, Current Position: 0 ')"
      ]
     },
     "metadata": {},
     "output_type": "display_data"
    },
    {
     "data": {
      "application/vnd.jupyter.widget-view+json": {
       "model_id": "63459568d49847da8edfce0514e8f091",
       "version_major": 2,
       "version_minor": 0
      },
      "text/plain": [
       "VBox(children=(HBox(children=(ToggleButton(value=False, description='Yes'), ToggleButton(value=False, descript…"
      ]
     },
     "metadata": {},
     "output_type": "display_data"
    },
    {
     "data": {
      "application/vnd.jupyter.widget-view+json": {
       "model_id": "edf89e40a9e442228f0e6c4d1a463d8b",
       "version_major": 2,
       "version_minor": 0
      },
      "text/plain": [
       "Output()"
      ]
     },
     "metadata": {},
     "output_type": "display_data"
    }
   ],
   "source": [
    "import pandas as pd\n",
    "import pigeonXT as pixt\n",
    "\n",
    "df = pd.DataFrame([\n",
    "    {'example': 'Star wars'},    \n",
    "    {'example': 'The Positively True Adventures of the Alleged Texas Cheerleader-Murdering Mom'},\n",
    "    {'example': 'Eternal Sunshine of the Spotless Mind'},\n",
    "    {'example': 'Dr. Strangelove or: How I Learned to Stop Worrying and Love the Bomb'},    \n",
    "    {'example': 'Killer klowns from outer space'},\n",
    "    {'anotherexample' : 'is a movie'},\n",
    "    {'anotherexample' : 'This is the second movie '},\n",
    "    {'anotherexample' : 'What is this?'},\n",
    "    {'anotherexample' : 'What to do when something goes wrong'},\n",
    "    {'anotherexample' : 'This is the final example'} \n",
    "])\n",
    "\n",
    "labels = ['Yes', 'No', 'Unclear']\n",
    "\n",
    "annotations = pixt.annotate(\n",
    "    df, \n",
    "    options=labels, \n",
    "    task_type='multilabel-classification',\n",
    "    buttons_in_a_row=3,\n",
    "    reset_buttons_after_click=True,\n",
    "    include_next=True,\n",
    "    include_back=True,\n",
    ")  "
   ]
  },
  {
   "cell_type": "code",
   "execution_count": 47,
   "metadata": {},
   "outputs": [
    {
     "data": {
      "text/html": [
       "<div>\n",
       "<style scoped>\n",
       "    .dataframe tbody tr th:only-of-type {\n",
       "        vertical-align: middle;\n",
       "    }\n",
       "\n",
       "    .dataframe tbody tr th {\n",
       "        vertical-align: top;\n",
       "    }\n",
       "\n",
       "    .dataframe thead th {\n",
       "        text-align: right;\n",
       "    }\n",
       "</style>\n",
       "<table border=\"1\" class=\"dataframe\">\n",
       "  <thead>\n",
       "    <tr style=\"text-align: right;\">\n",
       "      <th></th>\n",
       "      <th>example</th>\n",
       "      <th>anotherexample</th>\n",
       "    </tr>\n",
       "  </thead>\n",
       "  <tbody>\n",
       "    <tr>\n",
       "      <th>0</th>\n",
       "      <td>Star wars</td>\n",
       "      <td>NaN</td>\n",
       "    </tr>\n",
       "    <tr>\n",
       "      <th>1</th>\n",
       "      <td>The Positively True Adventures of the Alleged ...</td>\n",
       "      <td>NaN</td>\n",
       "    </tr>\n",
       "    <tr>\n",
       "      <th>2</th>\n",
       "      <td>Eternal Sunshine of the Spotless Mind</td>\n",
       "      <td>NaN</td>\n",
       "    </tr>\n",
       "    <tr>\n",
       "      <th>3</th>\n",
       "      <td>Dr. Strangelove or: How I Learned to Stop Worr...</td>\n",
       "      <td>NaN</td>\n",
       "    </tr>\n",
       "    <tr>\n",
       "      <th>4</th>\n",
       "      <td>Killer klowns from outer space</td>\n",
       "      <td>NaN</td>\n",
       "    </tr>\n",
       "    <tr>\n",
       "      <th>5</th>\n",
       "      <td>NaN</td>\n",
       "      <td>is a movie</td>\n",
       "    </tr>\n",
       "    <tr>\n",
       "      <th>6</th>\n",
       "      <td>NaN</td>\n",
       "      <td>This is the second movie</td>\n",
       "    </tr>\n",
       "    <tr>\n",
       "      <th>7</th>\n",
       "      <td>NaN</td>\n",
       "      <td>What is this?</td>\n",
       "    </tr>\n",
       "    <tr>\n",
       "      <th>8</th>\n",
       "      <td>NaN</td>\n",
       "      <td>What to do when something goes wrong</td>\n",
       "    </tr>\n",
       "    <tr>\n",
       "      <th>9</th>\n",
       "      <td>NaN</td>\n",
       "      <td>This is the final example</td>\n",
       "    </tr>\n",
       "  </tbody>\n",
       "</table>\n",
       "</div>"
      ],
      "text/plain": [
       "                                             example  \\\n",
       "0                                          Star wars   \n",
       "1  The Positively True Adventures of the Alleged ...   \n",
       "2              Eternal Sunshine of the Spotless Mind   \n",
       "3  Dr. Strangelove or: How I Learned to Stop Worr...   \n",
       "4                     Killer klowns from outer space   \n",
       "5                                                NaN   \n",
       "6                                                NaN   \n",
       "7                                                NaN   \n",
       "8                                                NaN   \n",
       "9                                                NaN   \n",
       "\n",
       "                         anotherexample  \n",
       "0                                   NaN  \n",
       "1                                   NaN  \n",
       "2                                   NaN  \n",
       "3                                   NaN  \n",
       "4                                   NaN  \n",
       "5                            is a movie  \n",
       "6             This is the second movie   \n",
       "7                         What is this?  \n",
       "8  What to do when something goes wrong  \n",
       "9             This is the final example  "
      ]
     },
     "execution_count": 47,
     "metadata": {},
     "output_type": "execute_result"
    }
   ],
   "source": [
    "df"
   ]
  },
  {
   "cell_type": "code",
   "execution_count": 31,
   "metadata": {},
   "outputs": [
    {
     "data": {
      "text/html": [
       "<div>\n",
       "<style scoped>\n",
       "    .dataframe tbody tr th:only-of-type {\n",
       "        vertical-align: middle;\n",
       "    }\n",
       "\n",
       "    .dataframe tbody tr th {\n",
       "        vertical-align: top;\n",
       "    }\n",
       "\n",
       "    .dataframe thead th {\n",
       "        text-align: right;\n",
       "    }\n",
       "</style>\n",
       "<table border=\"1\" class=\"dataframe\">\n",
       "  <thead>\n",
       "    <tr style=\"text-align: right;\">\n",
       "      <th></th>\n",
       "      <th>example</th>\n",
       "      <th>changed</th>\n",
       "      <th>Yes</th>\n",
       "      <th>No</th>\n",
       "      <th>Unclear</th>\n",
       "    </tr>\n",
       "  </thead>\n",
       "  <tbody>\n",
       "    <tr>\n",
       "      <th>0</th>\n",
       "      <td>Star wars</td>\n",
       "      <td>True</td>\n",
       "      <td>True</td>\n",
       "      <td>False</td>\n",
       "      <td>False</td>\n",
       "    </tr>\n",
       "    <tr>\n",
       "      <th>1</th>\n",
       "      <td>The Positively True Adventures of the Alleged ...</td>\n",
       "      <td>True</td>\n",
       "      <td>False</td>\n",
       "      <td>True</td>\n",
       "      <td>False</td>\n",
       "    </tr>\n",
       "    <tr>\n",
       "      <th>2</th>\n",
       "      <td>Eternal Sunshine of the Spotless Mind</td>\n",
       "      <td>True</td>\n",
       "      <td>False</td>\n",
       "      <td>False</td>\n",
       "      <td>True</td>\n",
       "    </tr>\n",
       "    <tr>\n",
       "      <th>3</th>\n",
       "      <td>Dr. Strangelove or: How I Learned to Stop Worr...</td>\n",
       "      <td>True</td>\n",
       "      <td>True</td>\n",
       "      <td>False</td>\n",
       "      <td>False</td>\n",
       "    </tr>\n",
       "    <tr>\n",
       "      <th>4</th>\n",
       "      <td>Killer klowns from outer space</td>\n",
       "      <td>True</td>\n",
       "      <td>False</td>\n",
       "      <td>True</td>\n",
       "      <td>False</td>\n",
       "    </tr>\n",
       "  </tbody>\n",
       "</table>\n",
       "</div>"
      ],
      "text/plain": [
       "                                             example  changed    Yes     No  \\\n",
       "0                                          Star wars     True   True  False   \n",
       "1  The Positively True Adventures of the Alleged ...     True  False   True   \n",
       "2              Eternal Sunshine of the Spotless Mind     True  False  False   \n",
       "3  Dr. Strangelove or: How I Learned to Stop Worr...     True   True  False   \n",
       "4                     Killer klowns from outer space     True  False   True   \n",
       "\n",
       "   Unclear  \n",
       "0    False  \n",
       "1    False  \n",
       "2     True  \n",
       "3    False  \n",
       "4    False  "
      ]
     },
     "execution_count": 31,
     "metadata": {},
     "output_type": "execute_result"
    }
   ],
   "source": [
    "annotations"
   ]
  },
  {
   "cell_type": "code",
   "execution_count": 32,
   "metadata": {},
   "outputs": [],
   "source": [
    "annotationsNo = annotations[annotations['No'] == True].drop(['changed', 'Yes', 'Unclear'], axis = 1)"
   ]
  },
  {
   "cell_type": "code",
   "execution_count": 33,
   "metadata": {},
   "outputs": [
    {
     "data": {
      "text/html": [
       "<div>\n",
       "<style scoped>\n",
       "    .dataframe tbody tr th:only-of-type {\n",
       "        vertical-align: middle;\n",
       "    }\n",
       "\n",
       "    .dataframe tbody tr th {\n",
       "        vertical-align: top;\n",
       "    }\n",
       "\n",
       "    .dataframe thead th {\n",
       "        text-align: right;\n",
       "    }\n",
       "</style>\n",
       "<table border=\"1\" class=\"dataframe\">\n",
       "  <thead>\n",
       "    <tr style=\"text-align: right;\">\n",
       "      <th></th>\n",
       "      <th>example</th>\n",
       "      <th>No</th>\n",
       "    </tr>\n",
       "  </thead>\n",
       "  <tbody>\n",
       "    <tr>\n",
       "      <th>1</th>\n",
       "      <td>The Positively True Adventures of the Alleged ...</td>\n",
       "      <td>True</td>\n",
       "    </tr>\n",
       "    <tr>\n",
       "      <th>4</th>\n",
       "      <td>Killer klowns from outer space</td>\n",
       "      <td>True</td>\n",
       "    </tr>\n",
       "  </tbody>\n",
       "</table>\n",
       "</div>"
      ],
      "text/plain": [
       "                                             example    No\n",
       "1  The Positively True Adventures of the Alleged ...  True\n",
       "4                     Killer klowns from outer space  True"
      ]
     },
     "execution_count": 33,
     "metadata": {},
     "output_type": "execute_result"
    }
   ],
   "source": [
    "annotationsNo"
   ]
  },
  {
   "cell_type": "code",
   "execution_count": 35,
   "metadata": {},
   "outputs": [
    {
     "data": {
      "application/vnd.jupyter.widget-view+json": {
       "model_id": "08037c8ddf5449f1881ec781f34d7769",
       "version_major": 2,
       "version_minor": 0
      },
      "text/plain": [
       "HTML(value='0 of 2 Examples annotated, Current Position: 0 ')"
      ]
     },
     "metadata": {},
     "output_type": "display_data"
    },
    {
     "data": {
      "application/vnd.jupyter.widget-view+json": {
       "model_id": "1c04115b80d3483dbd0017fe209586ef",
       "version_major": 2,
       "version_minor": 0
      },
      "text/plain": [
       "VBox(children=(HBox(children=(ToggleButton(value=False, description='No knowledge in KB'), ToggleButton(value=…"
      ]
     },
     "metadata": {},
     "output_type": "display_data"
    },
    {
     "data": {
      "application/vnd.jupyter.widget-view+json": {
       "model_id": "30769a9e8d78496ab69dd17310e7e6b1",
       "version_major": 2,
       "version_minor": 0
      },
      "text/plain": [
       "Output()"
      ]
     },
     "metadata": {},
     "output_type": "display_data"
    }
   ],
   "source": [
    "labels = ['No knowledge in KB', 'Existing KT but wrong match', 'chitchat', 'meaningless', 'spelling mistake']\n",
    "\n",
    "annotationsDF = pixt.annotate(\n",
    "    annotationsNo,\n",
    "    example_column = 'example',\n",
    "    value_column = 'label',\n",
    "    options=labels, \n",
    "    task_type='multilabel-classification',\n",
    "    buttons_in_a_row=5,\n",
    "    reset_buttons_after_click=True,\n",
    "    include_next=True,\n",
    "    include_back=True,\n",
    ")"
   ]
  },
  {
   "cell_type": "code",
   "execution_count": 36,
   "metadata": {},
   "outputs": [
    {
     "data": {
      "text/html": [
       "<div>\n",
       "<style scoped>\n",
       "    .dataframe tbody tr th:only-of-type {\n",
       "        vertical-align: middle;\n",
       "    }\n",
       "\n",
       "    .dataframe tbody tr th {\n",
       "        vertical-align: top;\n",
       "    }\n",
       "\n",
       "    .dataframe thead th {\n",
       "        text-align: right;\n",
       "    }\n",
       "</style>\n",
       "<table border=\"1\" class=\"dataframe\">\n",
       "  <thead>\n",
       "    <tr style=\"text-align: right;\">\n",
       "      <th></th>\n",
       "      <th>example</th>\n",
       "      <th>No</th>\n",
       "      <th>changed</th>\n",
       "      <th>No knowledge in KB</th>\n",
       "      <th>Existing KT but wrong match</th>\n",
       "      <th>chitchat</th>\n",
       "      <th>meaningless</th>\n",
       "      <th>spelling mistake</th>\n",
       "    </tr>\n",
       "  </thead>\n",
       "  <tbody>\n",
       "    <tr>\n",
       "      <th>1</th>\n",
       "      <td>The Positively True Adventures of the Alleged ...</td>\n",
       "      <td>True</td>\n",
       "      <td>True</td>\n",
       "      <td>False</td>\n",
       "      <td>False</td>\n",
       "      <td>True</td>\n",
       "      <td>False</td>\n",
       "      <td>False</td>\n",
       "    </tr>\n",
       "    <tr>\n",
       "      <th>4</th>\n",
       "      <td>Killer klowns from outer space</td>\n",
       "      <td>True</td>\n",
       "      <td>True</td>\n",
       "      <td>True</td>\n",
       "      <td>False</td>\n",
       "      <td>False</td>\n",
       "      <td>False</td>\n",
       "      <td>False</td>\n",
       "    </tr>\n",
       "  </tbody>\n",
       "</table>\n",
       "</div>"
      ],
      "text/plain": [
       "                                             example    No  changed  \\\n",
       "1  The Positively True Adventures of the Alleged ...  True     True   \n",
       "4                     Killer klowns from outer space  True     True   \n",
       "\n",
       "   No knowledge in KB  Existing KT but wrong match  chitchat  meaningless  \\\n",
       "1               False                        False      True        False   \n",
       "4                True                        False     False        False   \n",
       "\n",
       "   spelling mistake  \n",
       "1             False  \n",
       "4             False  "
      ]
     },
     "execution_count": 36,
     "metadata": {},
     "output_type": "execute_result"
    }
   ],
   "source": [
    "annotationsDF"
   ]
  },
  {
   "cell_type": "code",
   "execution_count": 37,
   "metadata": {},
   "outputs": [],
   "source": [
    "import ipyannotations.text"
   ]
  },
  {
   "cell_type": "code",
   "execution_count": 38,
   "metadata": {},
   "outputs": [],
   "source": [
    "widget = ipyannotations.text.ClassLabeller(\n",
    "    options=['spam', 'not spam'], allow_freetext=False)"
   ]
  },
  {
   "cell_type": "code",
   "execution_count": 39,
   "metadata": {},
   "outputs": [
    {
     "data": {
      "application/vnd.jupyter.widget-view+json": {
       "model_id": "6cb702b9b3f0408f94114f5ebcc21d83",
       "version_major": 2,
       "version_minor": 0
      },
      "text/plain": [
       "ClassLabeller(children=(Box(children=(Output(layout=Layout(margin='auto', min_height='50px')),), layout=Layout…"
      ]
     },
     "metadata": {},
     "output_type": "display_data"
    }
   ],
   "source": [
    "widget.display(\n",
    "    \"Greetings! Your esteemed research would be suitable \"\n",
    "    \"for publication in our scientific journal.\")\n",
    "widget"
   ]
  },
  {
   "cell_type": "code",
   "execution_count": 40,
   "metadata": {},
   "outputs": [
    {
     "data": {
      "application/vnd.jupyter.widget-view+json": {
       "model_id": "7d6892668b054982ba54331f6411f0fe",
       "version_major": 2,
       "version_minor": 0
      },
      "text/plain": [
       "TextTagger(children=(TextTaggerCore(classes=['Insult', 'Compliment'], palette=['#8dd3c7', '#ffffb3', '#bebada'…"
      ]
     },
     "metadata": {},
     "output_type": "display_data"
    }
   ],
   "source": [
    "widget = ipyannotations.text.TextTagger(classes=[\"Insult\", \"Compliment\"])\n",
    "widget.display(\"You are annoying, but I like you.\")\n",
    "widget"
   ]
  },
  {
   "cell_type": "code",
   "execution_count": 42,
   "metadata": {},
   "outputs": [
    {
     "data": {
      "text/plain": [
       "[(0, 4, 'Compliment')]"
      ]
     },
     "execution_count": 42,
     "metadata": {},
     "output_type": "execute_result"
    }
   ],
   "source": [
    "widget.data"
   ]
  },
  {
   "cell_type": "code",
   "execution_count": 43,
   "metadata": {},
   "outputs": [
    {
     "data": {
      "application/vnd.jupyter.widget-view+json": {
       "model_id": "ea565fa7119a4db3b12dddc39b582031",
       "version_major": 2,
       "version_minor": 0
      },
      "text/plain": [
       "MulticlassLabeller(children=(Box(children=(Output(layout=Layout(margin='auto', min_height='50px')),), layout=L…"
      ]
     },
     "metadata": {},
     "output_type": "display_data"
    }
   ],
   "source": [
    "import ipyannotations.text\n",
    "\n",
    "widget = ipyannotations.text.MulticlassLabeller(\n",
    "    options=['spam', 'academia', 'not spam', 'industry'],\n",
    "    max_buttons=12,\n",
    "    allow_freetext=True,\n",
    ")\n",
    "widget.display(\n",
    "    \"Greetings! Your esteemed research would be suitable \"\n",
    "    \"for publication in our scientific journal.\")\n",
    "widget"
   ]
  },
  {
   "cell_type": "code",
   "execution_count": 51,
   "metadata": {},
   "outputs": [
    {
     "data": {
      "application/vnd.jupyter.widget-view+json": {
       "model_id": "37890746fb284083a13898c34437ec00",
       "version_major": 2,
       "version_minor": 0
      },
      "text/plain": [
       "HBox(children=(VBox(children=(Button(style=ButtonStyle()), Button(description='click', style=ButtonStyle()), B…"
      ]
     },
     "metadata": {},
     "output_type": "display_data"
    }
   ],
   "source": [
    "import pandas as pd\n",
    "from IPython.display import display, HTML\n",
    "from ipywidgets import Button, HBox, VBox,widgets\n",
    "import ipywidgets\n",
    "\n",
    "\n",
    "df = pd.DataFrame([[1,'car'],[2,'bus'],[3,'train']])\n",
    "\n",
    "click_list = []\n",
    "\n",
    "button = widgets.Button(description='click')\n",
    "def obc(b):\n",
    "    click_list.append((pd.to_datetime('now'),1)) \n",
    "button.on_click(obc)\n",
    "\n",
    "button2 = widgets.Button(description='click')\n",
    "def obc2(b):\n",
    "    click_list.append((pd.to_datetime('now'),2))\n",
    "button2.on_click(obc2)\n",
    "\n",
    "button3 = widgets.Button(description='click')\n",
    "def obc3(b):\n",
    "    click_list.append((pd.to_datetime('now'),3)) \n",
    "button3.on_click(obc3)\n",
    "\n",
    "display(HBox([VBox([widgets.Button(description=''),button,button2,button3]),ipywidgets.\n",
    "                    HTML(df.style.set_table_attributes('class=\"table\"').render())]))"
   ]
  },
  {
   "cell_type": "code",
   "execution_count": 52,
   "metadata": {},
   "outputs": [],
   "source": [
    "import ipywidgets as widgets"
   ]
  },
  {
   "cell_type": "code",
   "execution_count": 55,
   "metadata": {},
   "outputs": [
    {
     "data": {
      "application/vnd.jupyter.widget-view+json": {
       "model_id": "6f20a4ed68ab4c5586eadf237402ca18",
       "version_major": 2,
       "version_minor": 0
      },
      "text/plain": [
       "IntProgress(value=2, description='Loading:', max=10, style=ProgressStyle(bar_color='maroon'))"
      ]
     },
     "metadata": {},
     "output_type": "display_data"
    }
   ],
   "source": [
    "widgets.IntProgress(\n",
    "    value=2,\n",
    "    min=0,\n",
    "    max=10,\n",
    "    description='Loading:',\n",
    "    bar_style='', # 'success', 'info', 'warning', 'danger' or ''\n",
    "    style={'bar_color': 'maroon'},\n",
    "    orientation='horizontal'\n",
    ")"
   ]
  },
  {
   "cell_type": "code",
   "execution_count": 62,
   "metadata": {},
   "outputs": [
    {
     "data": {
      "application/vnd.jupyter.widget-view+json": {
       "model_id": "5ef4a5dda70d46d989c5a032a7d2d344",
       "version_major": 2,
       "version_minor": 0
      },
      "text/plain": [
       "ToggleButtons(description='Speed:', options=('Slow', 'Regular', 'Fast'), tooltips=('Description of slow', 'Des…"
      ]
     },
     "metadata": {},
     "output_type": "display_data"
    }
   ],
   "source": [
    "widgets.ToggleButtons(\n",
    "    options=['Slow', 'Regular', 'Fast'],\n",
    "    description='Speed:',\n",
    "    disabled=False,\n",
    "    button_style='', # 'success', 'info', 'warning', 'danger' or ''\n",
    "    tooltips=['Description of slow', 'Description of regular', 'Description of fast'],\n",
    "#     icons=['check'] * 3\n",
    ")\n"
   ]
  },
  {
   "cell_type": "code",
   "execution_count": 59,
   "metadata": {},
   "outputs": [],
   "source": [
    "sentences = [\"i like to eat food\", \"i like to play hockey\", \"food is the best thing that can be on earth\", \"do you know how to play chess\"] "
   ]
  },
  {
   "cell_type": "code",
   "execution_count": 60,
   "metadata": {},
   "outputs": [],
   "source": [
    "cols = ['sentence', 'label']  \n",
    "df = pd.DataFrame(columns=cols, index=range(len(sentences)))"
   ]
  },
  {
   "cell_type": "code",
   "execution_count": 66,
   "metadata": {},
   "outputs": [],
   "source": [
    "BATCH = 10"
   ]
  },
  {
   "cell_type": "code",
   "execution_count": 67,
   "metadata": {},
   "outputs": [
    {
     "data": {
      "application/vnd.jupyter.widget-view+json": {
       "model_id": "82bc01dae3f3402dbb2c68e50f18a55b",
       "version_major": 2,
       "version_minor": 0
      },
      "text/plain": [
       "SelectMultiple(description='Sentences', layout=Layout(width='50%'), options=('i like to eat food', 'i like to …"
      ]
     },
     "metadata": {},
     "output_type": "display_data"
    }
   ],
   "source": [
    "sentence_widget = widgets.SelectMultiple(  \n",
    "   options=sentences,  \n",
    "   rows=BATCH,  \n",
    "   description='Sentences',  \n",
    "   disabled=False,  \n",
    "   layout= widgets.Layout(width='50%')  \n",
    " )  \n",
    "display(sentence_widget)"
   ]
  },
  {
   "cell_type": "code",
   "execution_count": 68,
   "metadata": {},
   "outputs": [
    {
     "data": {
      "application/vnd.jupyter.widget-view+json": {
       "model_id": "0f734f3709794a86ae7b755db51bcca8",
       "version_major": 2,
       "version_minor": 0
      },
      "text/plain": [
       "Text(value='', description='Label')"
      ]
     },
     "metadata": {},
     "output_type": "display_data"
    },
    {
     "data": {
      "application/vnd.jupyter.widget-view+json": {
       "model_id": "38373badb3d141c2871350315b2bc933",
       "version_major": 2,
       "version_minor": 0
      },
      "text/plain": [
       "Button(button_style='success', description='Annotate', style=ButtonStyle(), tooltip='Annotate')"
      ]
     },
     "metadata": {},
     "output_type": "display_data"
    },
    {
     "data": {
      "application/vnd.jupyter.widget-view+json": {
       "model_id": "a0fb60b98e224f83a092006f493b2408",
       "version_major": 2,
       "version_minor": 0
      },
      "text/plain": [
       "Output()"
      ]
     },
     "metadata": {},
     "output_type": "display_data"
    }
   ],
   "source": [
    "label = widgets.Text(description=\"Label\", value='')  \n",
    "display(label)  \n",
    "# button placeholder  \n",
    "button = widgets.Button(description=\"Annotate\", disabled=False, button_style=\"success\", tooltip=\"Annotate\")  \n",
    "output = widgets.Output()  \n",
    "display(button, output) "
   ]
  },
  {
   "cell_type": "code",
   "execution_count": 69,
   "metadata": {},
   "outputs": [
    {
     "data": {
      "application/vnd.jupyter.widget-view+json": {
       "model_id": "b49c9bf962b64667b432771eb043bc88",
       "version_major": 2,
       "version_minor": 0
      },
      "text/plain": [
       "IntProgress(value=0, description='Progress:', layout=Layout(width='20%'), max=4)"
      ]
     },
     "metadata": {},
     "output_type": "display_data"
    }
   ],
   "source": []
  },
  {
   "cell_type": "code",
   "execution_count": 71,
   "metadata": {},
   "outputs": [
    {
     "data": {
      "application/vnd.jupyter.widget-view+json": {
       "model_id": "398546d06ad04e63b8847455042115ac",
       "version_major": 2,
       "version_minor": 0
      },
      "text/plain": [
       "SelectMultiple(description='Sentences', layout=Layout(width='50%'), options=('i like to eat food', 'i like to …"
      ]
     },
     "metadata": {},
     "output_type": "display_data"
    },
    {
     "data": {
      "application/vnd.jupyter.widget-view+json": {
       "model_id": "6884020be39245c99695ea1f11bfa3e1",
       "version_major": 2,
       "version_minor": 0
      },
      "text/plain": [
       "IntProgress(value=0, description='Progress:', layout=Layout(width='20%'), max=4)"
      ]
     },
     "metadata": {},
     "output_type": "display_data"
    }
   ],
   "source": [
    "\n",
    "\n",
    "\n",
    "\n",
    "sentence_widget = widgets.SelectMultiple(  \n",
    "   options=sentences,  \n",
    "   rows=BATCH,  \n",
    "   description='Sentences',  \n",
    "   disabled=False,  \n",
    "   layout= widgets.Layout(width='50%')  \n",
    " )  \n",
    "display(sentence_widget)\n",
    "\n",
    "\n",
    "\n",
    "progress = widgets.IntProgress(  \n",
    "   min=0,  \n",
    "   max=len(sentences),  \n",
    "   step=1,  \n",
    "   description='Progress:',  \n",
    "   orientation='horizontal',  \n",
    "   layout= widgets.Layout(width='20%')  \n",
    " )  \n",
    "display(progress)\n",
    "\n",
    "\n",
    "\n",
    "\n",
    "counter = 0 #keep count of progress in dataframe  \n",
    "def annotate(_):  \n",
    "    \n",
    "    global counter  \n",
    "\n",
    "    with output:  \n",
    "        label_value = label.value  \n",
    "        selected_sentence = sentence_widget.value  \n",
    "        \n",
    "        if not len(selected_sentence):  \n",
    "            print(\"No sentence selected!\")  \n",
    "            return  \n",
    "        if not label_value:  \n",
    "            print(\"No class name selected!\")  \n",
    "            return  \n",
    "        \n",
    "        progress.value += len(selected_sentence)  \n",
    "\n",
    "        for i in selected_sentence:  \n",
    "            df.loc[counter].sentence = i  \n",
    "            df.loc[counter].label = label_value  \n",
    "            counter += 1  \n",
    "\n",
    "button.on_click(annotate)"
   ]
  },
  {
   "cell_type": "code",
   "execution_count": 63,
   "metadata": {},
   "outputs": [
    {
     "data": {
      "text/html": [
       "<div>\n",
       "<style scoped>\n",
       "    .dataframe tbody tr th:only-of-type {\n",
       "        vertical-align: middle;\n",
       "    }\n",
       "\n",
       "    .dataframe tbody tr th {\n",
       "        vertical-align: top;\n",
       "    }\n",
       "\n",
       "    .dataframe thead th {\n",
       "        text-align: right;\n",
       "    }\n",
       "</style>\n",
       "<table border=\"1\" class=\"dataframe\">\n",
       "  <thead>\n",
       "    <tr style=\"text-align: right;\">\n",
       "      <th></th>\n",
       "      <th>sentence</th>\n",
       "      <th>label</th>\n",
       "    </tr>\n",
       "  </thead>\n",
       "  <tbody>\n",
       "    <tr>\n",
       "      <th>0</th>\n",
       "      <td>NaN</td>\n",
       "      <td>NaN</td>\n",
       "    </tr>\n",
       "    <tr>\n",
       "      <th>1</th>\n",
       "      <td>NaN</td>\n",
       "      <td>NaN</td>\n",
       "    </tr>\n",
       "    <tr>\n",
       "      <th>2</th>\n",
       "      <td>NaN</td>\n",
       "      <td>NaN</td>\n",
       "    </tr>\n",
       "    <tr>\n",
       "      <th>3</th>\n",
       "      <td>NaN</td>\n",
       "      <td>NaN</td>\n",
       "    </tr>\n",
       "  </tbody>\n",
       "</table>\n",
       "</div>"
      ],
      "text/plain": [
       "  sentence label\n",
       "0      NaN   NaN\n",
       "1      NaN   NaN\n",
       "2      NaN   NaN\n",
       "3      NaN   NaN"
      ]
     },
     "execution_count": 63,
     "metadata": {},
     "output_type": "execute_result"
    }
   ],
   "source": [
    "df"
   ]
  },
  {
   "cell_type": "code",
   "execution_count": 1,
   "metadata": {},
   "outputs": [],
   "source": [
    "import ipywidgets as widgets\n",
    "import pandas as pd"
   ]
  },
  {
   "cell_type": "code",
   "execution_count": 2,
   "metadata": {},
   "outputs": [],
   "source": [
    "AnnotationsDF = pd.read_csv(r'C:\\Users\\Daraz\\Downloads\\Testing_widgets.csv')"
   ]
  },
  {
   "cell_type": "code",
   "execution_count": 3,
   "metadata": {},
   "outputs": [
    {
     "data": {
      "text/html": [
       "<div>\n",
       "<style scoped>\n",
       "    .dataframe tbody tr th:only-of-type {\n",
       "        vertical-align: middle;\n",
       "    }\n",
       "\n",
       "    .dataframe tbody tr th {\n",
       "        vertical-align: top;\n",
       "    }\n",
       "\n",
       "    .dataframe thead th {\n",
       "        text-align: right;\n",
       "    }\n",
       "</style>\n",
       "<table border=\"1\" class=\"dataframe\">\n",
       "  <thead>\n",
       "    <tr style=\"text-align: right;\">\n",
       "      <th></th>\n",
       "      <th>question</th>\n",
       "      <th>knowledge_title</th>\n",
       "      <th>IsCorrect</th>\n",
       "      <th>standard_knowledge_title</th>\n",
       "      <th>error_type</th>\n",
       "    </tr>\n",
       "  </thead>\n",
       "  <tbody>\n",
       "    <tr>\n",
       "      <th>0</th>\n",
       "      <td>jokhon amar ordar kora jinis nia asben ...</td>\n",
       "      <td>Delivery dewer jonno phn korecilo but kothay g...</td>\n",
       "      <td>NaN</td>\n",
       "      <td>Delivery purbe ki jogajog kora hobe</td>\n",
       "      <td>NaN</td>\n",
       "    </tr>\n",
       "  </tbody>\n",
       "</table>\n",
       "</div>"
      ],
      "text/plain": [
       "                                            question  \\\n",
       "0         jokhon amar ordar kora jinis nia asben ...   \n",
       "\n",
       "                                     knowledge_title IsCorrect  \\\n",
       "0  Delivery dewer jonno phn korecilo but kothay g...       NaN   \n",
       "\n",
       "              standard_knowledge_title error_type  \n",
       "0  Delivery purbe ki jogajog kora hobe        NaN  "
      ]
     },
     "execution_count": 3,
     "metadata": {},
     "output_type": "execute_result"
    }
   ],
   "source": [
    "AnnotationsDF.head(1)"
   ]
  },
  {
   "cell_type": "code",
   "execution_count": 4,
   "metadata": {},
   "outputs": [],
   "source": [
    "AnnotationsDF = AnnotationsDF.rename(columns={'question': 'query','knowledge_title' : 'similar question'})"
   ]
  },
  {
   "cell_type": "code",
   "execution_count": 5,
   "metadata": {},
   "outputs": [
    {
     "data": {
      "text/html": [
       "<div>\n",
       "<style scoped>\n",
       "    .dataframe tbody tr th:only-of-type {\n",
       "        vertical-align: middle;\n",
       "    }\n",
       "\n",
       "    .dataframe tbody tr th {\n",
       "        vertical-align: top;\n",
       "    }\n",
       "\n",
       "    .dataframe thead th {\n",
       "        text-align: right;\n",
       "    }\n",
       "</style>\n",
       "<table border=\"1\" class=\"dataframe\">\n",
       "  <thead>\n",
       "    <tr style=\"text-align: right;\">\n",
       "      <th></th>\n",
       "      <th>query</th>\n",
       "      <th>similar question</th>\n",
       "      <th>IsCorrect</th>\n",
       "      <th>standard_knowledge_title</th>\n",
       "      <th>error_type</th>\n",
       "    </tr>\n",
       "  </thead>\n",
       "  <tbody>\n",
       "    <tr>\n",
       "      <th>0</th>\n",
       "      <td>jokhon amar ordar kora jinis nia asben ...</td>\n",
       "      <td>Delivery dewer jonno phn korecilo but kothay g...</td>\n",
       "      <td>NaN</td>\n",
       "      <td>Delivery purbe ki jogajog kora hobe</td>\n",
       "      <td>NaN</td>\n",
       "    </tr>\n",
       "    <tr>\n",
       "      <th>1</th>\n",
       "      <td>পূনের চেয়ে যদি ডেলিভারি চাজ এ বেশি হয় ত...</td>\n",
       "      <td>sir amr sofa ti khub drkar chilo apni ektu try...</td>\n",
       "      <td>NaN</td>\n",
       "      <td>Daraz ki home delivery kore</td>\n",
       "      <td>NaN</td>\n",
       "    </tr>\n",
       "    <tr>\n",
       "      <th>2</th>\n",
       "      <td>আমার টাকা এখনো জমা করেন নাই</td>\n",
       "      <td>Amar product ta track kora jaccena kno</td>\n",
       "      <td>NaN</td>\n",
       "      <td>Amar order kibhabe track korte parbo</td>\n",
       "      <td>NaN</td>\n",
       "    </tr>\n",
       "    <tr>\n",
       "      <th>3</th>\n",
       "      <td>আমার পার্সেল আসেনি</td>\n",
       "      <td>amar parcel ti ki konovabe tracking possible</td>\n",
       "      <td>NaN</td>\n",
       "      <td>Amar order kibhabe track korte parbo</td>\n",
       "      <td>NaN</td>\n",
       "    </tr>\n",
       "    <tr>\n",
       "      <th>4</th>\n",
       "      <td>পার্সেল কখুন আসবে</td>\n",
       "      <td>Order kkn pabo</td>\n",
       "      <td>NaN</td>\n",
       "      <td>Amar ponno delivery hote kotodin lagbe</td>\n",
       "      <td>NaN</td>\n",
       "    </tr>\n",
       "    <tr>\n",
       "      <th>...</th>\n",
       "      <td>...</td>\n",
       "      <td>...</td>\n",
       "      <td>...</td>\n",
       "      <td>...</td>\n",
       "      <td>...</td>\n",
       "    </tr>\n",
       "    <tr>\n",
       "      <th>4995</th>\n",
       "      <td>Amar voucher kaj kore nah</td>\n",
       "      <td>Voucher kamne kaj kore</td>\n",
       "      <td>NaN</td>\n",
       "      <td>Ami amar voucher ti bebohar korte parchina keno</td>\n",
       "      <td>NaN</td>\n",
       "    </tr>\n",
       "    <tr>\n",
       "      <th>4996</th>\n",
       "      <td>Amar voucher kaj,korche na kno</td>\n",
       "      <td>dmat voucher kaj korche na</td>\n",
       "      <td>NaN</td>\n",
       "      <td>kono voucher ache dmart er product er jonno</td>\n",
       "      <td>NaN</td>\n",
       "    </tr>\n",
       "    <tr>\n",
       "      <th>4997</th>\n",
       "      <td>Amar voucher keno kaj korteche na</td>\n",
       "      <td>Voucher code kaj korche na</td>\n",
       "      <td>NaN</td>\n",
       "      <td>Ami amar voucher ti bebohar korte parchina keno</td>\n",
       "      <td>NaN</td>\n",
       "    </tr>\n",
       "    <tr>\n",
       "      <th>4998</th>\n",
       "      <td>Amar voucher kn ashche na ?  New account khull...</td>\n",
       "      <td>Ami 1st time oder er voucher collecte krchilam...</td>\n",
       "      <td>NaN</td>\n",
       "      <td>Kibhabe amar vouchers er details dekhte pabo</td>\n",
       "      <td>NaN</td>\n",
       "    </tr>\n",
       "    <tr>\n",
       "      <th>4999</th>\n",
       "      <td>Amar voucher koi</td>\n",
       "      <td>wonder voucher koi</td>\n",
       "      <td>NaN</td>\n",
       "      <td>Wonder voucher er bistarito tottho</td>\n",
       "      <td>NaN</td>\n",
       "    </tr>\n",
       "  </tbody>\n",
       "</table>\n",
       "<p>5000 rows × 5 columns</p>\n",
       "</div>"
      ],
      "text/plain": [
       "                                                  query  \\\n",
       "0            jokhon amar ordar kora jinis nia asben ...   \n",
       "1            পূনের চেয়ে যদি ডেলিভারি চাজ এ বেশি হয় ত...   \n",
       "2                          আমার টাকা এখনো জমা করেন নাই    \n",
       "3                                   আমার পার্সেল আসেনি    \n",
       "4                                     পার্সেল কখুন আসবে   \n",
       "...                                                 ...   \n",
       "4995                         Amar voucher kaj kore nah    \n",
       "4996                     Amar voucher kaj,korche na kno   \n",
       "4997                  Amar voucher keno kaj korteche na   \n",
       "4998  Amar voucher kn ashche na ?  New account khull...   \n",
       "4999                                   Amar voucher koi   \n",
       "\n",
       "                                       similar question IsCorrect  \\\n",
       "0     Delivery dewer jonno phn korecilo but kothay g...       NaN   \n",
       "1     sir amr sofa ti khub drkar chilo apni ektu try...       NaN   \n",
       "2                Amar product ta track kora jaccena kno       NaN   \n",
       "3          amar parcel ti ki konovabe tracking possible       NaN   \n",
       "4                                        Order kkn pabo       NaN   \n",
       "...                                                 ...       ...   \n",
       "4995                            Voucher kamne kaj kore        NaN   \n",
       "4996                         dmat voucher kaj korche na       NaN   \n",
       "4997                         Voucher code kaj korche na       NaN   \n",
       "4998  Ami 1st time oder er voucher collecte krchilam...       NaN   \n",
       "4999                                 wonder voucher koi       NaN   \n",
       "\n",
       "                             standard_knowledge_title error_type  \n",
       "0                 Delivery purbe ki jogajog kora hobe        NaN  \n",
       "1                         Daraz ki home delivery kore        NaN  \n",
       "2                Amar order kibhabe track korte parbo        NaN  \n",
       "3                Amar order kibhabe track korte parbo        NaN  \n",
       "4              Amar ponno delivery hote kotodin lagbe        NaN  \n",
       "...                                               ...        ...  \n",
       "4995  Ami amar voucher ti bebohar korte parchina keno        NaN  \n",
       "4996      kono voucher ache dmart er product er jonno        NaN  \n",
       "4997  Ami amar voucher ti bebohar korte parchina keno        NaN  \n",
       "4998     Kibhabe amar vouchers er details dekhte pabo        NaN  \n",
       "4999               Wonder voucher er bistarito tottho        NaN  \n",
       "\n",
       "[5000 rows x 5 columns]"
      ]
     },
     "execution_count": 5,
     "metadata": {},
     "output_type": "execute_result"
    }
   ],
   "source": [
    "AnnotationsDF"
   ]
  },
  {
   "cell_type": "code",
   "execution_count": 6,
   "metadata": {},
   "outputs": [],
   "source": [
    "Query = AnnotationsDF['query'].to_list()"
   ]
  },
  {
   "cell_type": "code",
   "execution_count": 7,
   "metadata": {},
   "outputs": [
    {
     "data": {
      "application/vnd.jupyter.widget-view+json": {
       "model_id": "0138a405b821492eb49edd1a3dc8241a",
       "version_major": 2,
       "version_minor": 0
      },
      "text/plain": [
       "HTML(value=\"\\n    <h1>Welcome to the <font color='maroon'> Sentence Annotator</font></h1>\\n    <p>It's an in-l…"
      ]
     },
     "metadata": {},
     "output_type": "display_data"
    },
    {
     "data": {
      "application/vnd.jupyter.widget-view+json": {
       "model_id": "fe89669f6b9a4be38916a74dfa7c0062",
       "version_major": 2,
       "version_minor": 0
      },
      "text/plain": [
       "SelectMultiple(description='Sentences', layout=Layout(width='70%'), options=('       jokhon amar ordar kora ji…"
      ]
     },
     "metadata": {},
     "output_type": "display_data"
    },
    {
     "data": {
      "application/vnd.jupyter.widget-view+json": {
       "model_id": "42c4ba5e1952443cbe778078fce98f03",
       "version_major": 2,
       "version_minor": 0
      },
      "text/plain": [
       "ToggleButtons(description='Speed:', options=('Slow', 'Regular', 'Fast'), tooltips=('Description of slow', 'Des…"
      ]
     },
     "metadata": {},
     "output_type": "display_data"
    },
    {
     "data": {
      "application/vnd.jupyter.widget-view+json": {
       "model_id": "abb1ac71c201428eb9cfeef44782dc90",
       "version_major": 2,
       "version_minor": 0
      },
      "text/plain": [
       "Button(button_style='success', description='Annotate', style=ButtonStyle(), tooltip='Annotate')"
      ]
     },
     "metadata": {},
     "output_type": "display_data"
    },
    {
     "data": {
      "application/vnd.jupyter.widget-view+json": {
       "model_id": "813201f94a40466c8f781e3a5a7e7a2d",
       "version_major": 2,
       "version_minor": 0
      },
      "text/plain": [
       "Output()"
      ]
     },
     "metadata": {},
     "output_type": "display_data"
    },
    {
     "data": {
      "application/vnd.jupyter.widget-view+json": {
       "model_id": "c369a3b7636845ed9ed8feb3e4793852",
       "version_major": 2,
       "version_minor": 0
      },
      "text/plain": [
       "IntProgress(value=0, description='Progress:', layout=Layout(width='20%'), max=5000)"
      ]
     },
     "metadata": {},
     "output_type": "display_data"
    }
   ],
   "source": [
    "# data for text classification annotation\n",
    "sentences = Query\n",
    "####################################################################################################\n",
    "# Instead of list you can take input from your LFS or Drive and transform data in the list format\n",
    "####################################################################################################\n",
    "\n",
    "#to be shown at a time\n",
    "BATCH = 10\n",
    "\n",
    "# output datafram\n",
    "cols = ['sentence', 'label']\n",
    "df = pd.DataFrame(columns=cols, index=range(len(sentences)))\n",
    "\n",
    "title_widget = widgets.HTML(\n",
    "    value=\"\"\"\n",
    "    <h1>Welcome to the <font color='maroon'> Sentence Annotator</font></h1>\n",
    "    <p>It's an in-line annotation tool that let's you annotate sentences with their respective tags</p>\n",
    "    <p>Below are the set of instructions for the annotator to follow - </p>\n",
    "    <ol>\n",
    "      <li>Select sentence from the <b>sentences</b> area shown in the annotation area</li>\n",
    "      <li>You can select multiple sentences by pressing ctl+mouseclick</li>\n",
    "      <li><b>Label</b> area where you type the tags that are relevant for the given sentence</li>\n",
    "      <li>Progress let's you track the progress made so far in the annotation cycle</li>\n",
    "    </ol>\n",
    "    <p><font color='green'>P.S. Incase of multiple labels for any sentence. Use comma (,) as a seperator</font></p>\"\"\",\n",
    ")\n",
    "display(title_widget)\n",
    "\n",
    "# sentence placeholder\n",
    "sentence_widget = widgets.SelectMultiple(\n",
    "    options=sentences,\n",
    "    rows=BATCH,\n",
    "    description='Sentences',\n",
    "    disabled=False,\n",
    "    layout= widgets.Layout(width='70%')\n",
    ")\n",
    "display(sentence_widget)\n",
    "\n",
    "# class placeholder\n",
    "# label = widgets.Text(description=\"Label\", value='')\n",
    "\n",
    "\n",
    "label = widgets.ToggleButtons(\n",
    "    options=['Slow', 'Regular', 'Fast'],\n",
    "    description='Speed:',\n",
    "    disabled=False,\n",
    "    button_style='', # 'success', 'info', 'warning', 'danger' or ''\n",
    "    tooltips=['Description of slow', 'Description of regular', 'Description of fast'],\n",
    "#     icons=['check'] * 3\n",
    ")\n",
    "\n",
    "display(label)\n",
    "\n",
    "# button placeholder\n",
    "button = widgets.Button(description=\"Annotate\", disabled=False, button_style=\"success\", tooltip=\"Annotate\")\n",
    "output = widgets.Output()\n",
    "display(button, output)\n",
    "\n",
    "# progress bar placeholder\n",
    "progress = widgets.IntProgress(\n",
    "    min=0,\n",
    "    max=len(sentences),\n",
    "    step=1,\n",
    "    description='Progress:',\n",
    "    orientation='horizontal',\n",
    "    layout= widgets.Layout(width='20%')\n",
    ")\n",
    "display(progress)\n",
    "\n",
    "counter = 0 #keep count of progress in dataframe\n",
    "def annotate(_):\n",
    "    \n",
    "    global counter\n",
    "\n",
    "    with output:\n",
    "        label_value = label.value\n",
    "        selected_sentence = sentence_widget.value\n",
    "        \n",
    "        if not len(selected_sentence):\n",
    "            print(\"Error: You haven't selected any sentence\")\n",
    "            return\n",
    "        if not label_value:\n",
    "            print(\"Error: Please enter the classs name under which these messages should be categorized.\")\n",
    "            return\n",
    "        \n",
    "        progress.value += len(selected_sentence)\n",
    "\n",
    "        for i in selected_sentence:\n",
    "          df.loc[counter].sentence = i\n",
    "          df.loc[counter].label = label_value\n",
    "          counter += 1\n",
    "\n",
    "button.on_click(annotate)"
   ]
  },
  {
   "cell_type": "code",
   "execution_count": 5,
   "metadata": {},
   "outputs": [
    {
     "data": {
      "text/html": [
       "<div>\n",
       "<style scoped>\n",
       "    .dataframe tbody tr th:only-of-type {\n",
       "        vertical-align: middle;\n",
       "    }\n",
       "\n",
       "    .dataframe tbody tr th {\n",
       "        vertical-align: top;\n",
       "    }\n",
       "\n",
       "    .dataframe thead th {\n",
       "        text-align: right;\n",
       "    }\n",
       "</style>\n",
       "<table border=\"1\" class=\"dataframe\">\n",
       "  <thead>\n",
       "    <tr style=\"text-align: right;\">\n",
       "      <th></th>\n",
       "      <th>sentence</th>\n",
       "      <th>label</th>\n",
       "    </tr>\n",
       "  </thead>\n",
       "  <tbody>\n",
       "    <tr>\n",
       "      <th>0</th>\n",
       "      <td>i like to eat food</td>\n",
       "      <td>Regular</td>\n",
       "    </tr>\n",
       "    <tr>\n",
       "      <th>1</th>\n",
       "      <td>i like to play hockey</td>\n",
       "      <td>Slow</td>\n",
       "    </tr>\n",
       "    <tr>\n",
       "      <th>2</th>\n",
       "      <td>food is the best thing that can be on earth</td>\n",
       "      <td>Regular</td>\n",
       "    </tr>\n",
       "    <tr>\n",
       "      <th>3</th>\n",
       "      <td>do you know how to play chess</td>\n",
       "      <td>Fast</td>\n",
       "    </tr>\n",
       "  </tbody>\n",
       "</table>\n",
       "</div>"
      ],
      "text/plain": [
       "                                      sentence    label\n",
       "0                           i like to eat food  Regular\n",
       "1                        i like to play hockey     Slow\n",
       "2  food is the best thing that can be on earth  Regular\n",
       "3                do you know how to play chess     Fast"
      ]
     },
     "execution_count": 5,
     "metadata": {},
     "output_type": "execute_result"
    }
   ],
   "source": [
    "df"
   ]
  },
  {
   "cell_type": "code",
   "execution_count": 5,
   "metadata": {},
   "outputs": [
    {
     "data": {
      "application/vnd.jupyter.widget-view+json": {
       "model_id": "55b27aea8b5241138da474d87d7e20af",
       "version_major": 2,
       "version_minor": 0
      },
      "text/plain": [
       "Tab(children=(Accordion(children=(IntSlider(value=0), Text(value=''))), Accordion(children=(IntSlider(value=0)…"
      ]
     },
     "metadata": {},
     "output_type": "display_data"
    }
   ],
   "source": [
    "tab_nest = widgets.Tab()\n",
    "tab_nest.children = [accordion, accordion]\n",
    "tab_nest.titles = ('An accordion', 'Copy of the accordion')\n",
    "tab_nest"
   ]
  },
  {
   "cell_type": "code",
   "execution_count": 43,
   "metadata": {},
   "outputs": [],
   "source": [
    "# accordion = widgets.Accordion(children=[(widgets.RadioButtons(\n",
    "#             options=[\n",
    "#                 'pepperoni',\n",
    "#                 'pineapple',\n",
    "#                 'anchovies',\n",
    "#                 'and the long name that will fit fine and the long name that will fit fine and the long name that will fit fine '\n",
    "#             ],\n",
    "#             layout={'width': 'max-content'}\n",
    "#         )), widgets.Box()], titles=('Test', 'Text'))\n",
    "# accordion\n",
    "\n",
    "# #https://ipywidgets.readthedocs.io/en/latest/examples/Widget%20List.html"
   ]
  },
  {
   "cell_type": "code",
   "execution_count": 42,
   "metadata": {},
   "outputs": [],
   "source": [
    "# accordion = widgets.Accordion(children=[widgets.IntSlider(), widgets.Text()])\n",
    "# accordion.set_title=(0, 'Yes')\n",
    "# accordion.set_title=(1, 'No')\n",
    "# # accordion.set_title=(2, 'Yes')\n"
   ]
  },
  {
   "cell_type": "code",
   "execution_count": 78,
   "metadata": {},
   "outputs": [
    {
     "data": {
      "text/html": [
       "<style type=\"text/css\">\n",
       "</style>\n",
       "<table id=\"T_33b88_\">\n",
       "  <thead>\n",
       "    <tr>\n",
       "      <th class=\"blank level0\" >&nbsp;</th>\n",
       "      <th class=\"col_heading level0 col0\" >0</th>\n",
       "    </tr>\n",
       "  </thead>\n",
       "  <tbody>\n",
       "    <tr>\n",
       "      <th id=\"T_33b88_level0_row0\" class=\"row_heading level0 row0\" >0</th>\n",
       "      <td id=\"T_33b88_row0_col0\" class=\"data row0 col0\" ><a href=\"http://google.com\">http://google.com</a></td>\n",
       "    </tr>\n",
       "    <tr>\n",
       "      <th id=\"T_33b88_level0_row1\" class=\"row_heading level0 row1\" >1</th>\n",
       "      <td id=\"T_33b88_row1_col0\" class=\"data row1 col0\" ><a href=\"http://duckduckgo.com\">http://duckduckgo.com</a></td>\n",
       "    </tr>\n",
       "  </tbody>\n",
       "</table>\n"
      ],
      "text/plain": [
       "<pandas.io.formats.style.Styler at 0x1bc6b055e50>"
      ]
     },
     "execution_count": 78,
     "metadata": {},
     "output_type": "execute_result"
    }
   ],
   "source": [
    "df = pd.DataFrame(['http://google.com', 'http://duckduckgo.com'])\n",
    "\n",
    "def make_clickable(val):\n",
    "    return '<a href=\"{}\">{}</a>'.format(val,val)\n",
    "\n",
    "df.style.format(make_clickable)"
   ]
  },
  {
   "cell_type": "code",
   "execution_count": 40,
   "metadata": {},
   "outputs": [],
   "source": [
    "accordion = widgets.Accordion(children=[widgets.RadioButtons(\n",
    "            options=[\n",
    "                'pepperoni',\n",
    "                'pineapple',\n",
    "                'anchovies',\n",
    "            ],\n",
    "            layout={'width': 'max-content'}\n",
    "        ), widgets.Text()])\n",
    "accordion.set_title(0, 'Yes')\n",
    "accordion.set_title(1, 'Text')"
   ]
  },
  {
   "cell_type": "code",
   "execution_count": 41,
   "metadata": {},
   "outputs": [
    {
     "data": {
      "application/vnd.jupyter.widget-view+json": {
       "model_id": "a52c89753d134e78a8fefac6e532153d",
       "version_major": 2,
       "version_minor": 0
      },
      "text/plain": [
       "Accordion(children=(RadioButtons(layout=Layout(width='max-content'), options=('pepperoni', 'pineapple', 'ancho…"
      ]
     },
     "metadata": {},
     "output_type": "display_data"
    }
   ],
   "source": [
    "accordion"
   ]
  },
  {
   "cell_type": "code",
   "execution_count": 29,
   "metadata": {},
   "outputs": [
    {
     "data": {
      "application/vnd.jupyter.widget-view+json": {
       "model_id": "4c14f01387dd40859d284bcadef65538",
       "version_major": 2,
       "version_minor": 0
      },
      "text/plain": [
       "Box(children=(Label(value='Is answer correct:'), RadioButtons(layout=Layout(width='max-content'), options=('Ye…"
      ]
     },
     "metadata": {},
     "output_type": "display_data"
    }
   ],
   "source": [
    "\n",
    "widgets.Box(\n",
    "    [\n",
    "        widgets.Label(value='Is answer correct:'),\n",
    "        widgets.RadioButtons(\n",
    "            options=[\n",
    "                'Yes', 'No', 'Unclear'\n",
    "            ],\n",
    "            layout={'width': 'max-content'}\n",
    "        )\n",
    "    ]\n",
    ")"
   ]
  },
  {
   "cell_type": "code",
   "execution_count": 26,
   "metadata": {},
   "outputs": [
    {
     "name": "stdout",
     "output_type": "stream",
     "text": [
      "7.6.5\n"
     ]
    }
   ],
   "source": [
    "print(widgets.__version__)"
   ]
  },
  {
   "cell_type": "code",
   "execution_count": 27,
   "metadata": {},
   "outputs": [
    {
     "data": {
      "application/vnd.jupyter.widget-view+json": {
       "model_id": "d520883f1f1e467cb30e4a01400507e9",
       "version_major": 2,
       "version_minor": 0
      },
      "text/plain": [
       "Box(children=(Label(value='Pizza topping with a very long label:'), RadioButtons(layout=Layout(width='max-cont…"
      ]
     },
     "metadata": {},
     "output_type": "display_data"
    }
   ],
   "source": [
    "Box"
   ]
  },
  {
   "cell_type": "code",
   "execution_count": null,
   "metadata": {},
   "outputs": [],
   "source": []
  }
 ],
 "metadata": {
  "interpreter": {
   "hash": "0606053452435824a427f0ea93d6ae20786397642025bcc66bfe96b66155d44b"
  },
  "kernelspec": {
   "display_name": "Python 3 (ipykernel)",
   "language": "python",
   "name": "python3"
  },
  "language_info": {
   "codemirror_mode": {
    "name": "ipython",
    "version": 3
   },
   "file_extension": ".py",
   "mimetype": "text/x-python",
   "name": "python",
   "nbconvert_exporter": "python",
   "pygments_lexer": "ipython3",
   "version": "3.9.7"
  }
 },
 "nbformat": 4,
 "nbformat_minor": 2
}
