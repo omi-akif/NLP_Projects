{
 "cells": [
  {
   "cell_type": "code",
   "execution_count": 3,
   "metadata": {},
   "outputs": [],
   "source": [
    "\n",
    "import pandas as pd\n",
    "import numpy as np\n",
    "import matplotlib.pyplot as plt\n",
    "from IPython.display import display, display_html\n",
    "import plotly.graph_objects as go"
   ]
  },
  {
   "cell_type": "markdown",
   "metadata": {},
   "source": [
    "### Upload CPR acccording to the week"
   ]
  },
  {
   "cell_type": "code",
   "execution_count": 3,
   "metadata": {},
   "outputs": [],
   "source": [
    "CPR_df16 = pd.read_csv('2022_04180424_CPR_W16.csv') \n",
    "CPR_df17 = pd.read_csv('2022_04250501_CPR_W17.csv')"
   ]
  },
  {
   "cell_type": "code",
   "execution_count": 4,
   "metadata": {},
   "outputs": [
    {
     "data": {
      "text/html": [
       "<div>\n",
       "<style scoped>\n",
       "    .dataframe tbody tr th:only-of-type {\n",
       "        vertical-align: middle;\n",
       "    }\n",
       "\n",
       "    .dataframe tbody tr th {\n",
       "        vertical-align: top;\n",
       "    }\n",
       "\n",
       "    .dataframe thead th {\n",
       "        text-align: right;\n",
       "    }\n",
       "</style>\n",
       "<table border=\"1\" class=\"dataframe\">\n",
       "  <thead>\n",
       "    <tr style=\"text-align: right;\">\n",
       "      <th></th>\n",
       "      <th>date_id</th>\n",
       "      <th>tenant_name</th>\n",
       "      <th>robot_code_name</th>\n",
       "      <th>from_name</th>\n",
       "      <th>Knowledge Type</th>\n",
       "      <th>Knowledge Id</th>\n",
       "      <th>Knowledge Name</th>\n",
       "      <th>Solution Id</th>\n",
       "      <th>Solution Name</th>\n",
       "      <th>Chats</th>\n",
       "      <th>sid_cnt</th>\n",
       "      <th>Session_Resolved_Rate</th>\n",
       "      <th>Switch_to_Live_Agent_Rate</th>\n",
       "      <th>Survey_Response_Rate</th>\n",
       "      <th>Chat_Unsatisfied_Rate</th>\n",
       "    </tr>\n",
       "  </thead>\n",
       "  <tbody>\n",
       "    <tr>\n",
       "      <th>0</th>\n",
       "      <td>20220424</td>\n",
       "      <td>Alime-DRZ-CC-BD</td>\n",
       "      <td>BD-Daz-EN</td>\n",
       "      <td>BD-Daz-EN-HC-App</td>\n",
       "      <td>大招</td>\n",
       "      <td>1000068200</td>\n",
       "      <td>Need help</td>\n",
       "      <td>NaN</td>\n",
       "      <td>NaN</td>\n",
       "      <td>1497</td>\n",
       "      <td>922</td>\n",
       "      <td>0.655098</td>\n",
       "      <td>0.300434</td>\n",
       "      <td>0.0</td>\n",
       "      <td>NaN</td>\n",
       "    </tr>\n",
       "    <tr>\n",
       "      <th>1</th>\n",
       "      <td>20220418</td>\n",
       "      <td>Alime-DRZ-CC-BD</td>\n",
       "      <td>BD-Daz-EN</td>\n",
       "      <td>BD-Daz-EN-HC-App</td>\n",
       "      <td>小招</td>\n",
       "      <td>1000055995</td>\n",
       "      <td>Greeting</td>\n",
       "      <td>NaN</td>\n",
       "      <td>NaN</td>\n",
       "      <td>1332</td>\n",
       "      <td>748</td>\n",
       "      <td>0.779273</td>\n",
       "      <td>0.188425</td>\n",
       "      <td>0.0</td>\n",
       "      <td>NaN</td>\n",
       "    </tr>\n",
       "    <tr>\n",
       "      <th>2</th>\n",
       "      <td>20220424</td>\n",
       "      <td>Alime-DRZ-CC-BD</td>\n",
       "      <td>BD-Daz-EN</td>\n",
       "      <td>BD-Daz-EN-DD-App</td>\n",
       "      <td>FAQ</td>\n",
       "      <td>1000015459</td>\n",
       "      <td>How can I track my order</td>\n",
       "      <td>NaN</td>\n",
       "      <td>NaN</td>\n",
       "      <td>1241</td>\n",
       "      <td>1128</td>\n",
       "      <td>0.931738</td>\n",
       "      <td>0.038121</td>\n",
       "      <td>0.0</td>\n",
       "      <td>NaN</td>\n",
       "    </tr>\n",
       "    <tr>\n",
       "      <th>3</th>\n",
       "      <td>20220423</td>\n",
       "      <td>Alime-DRZ-CC-BD</td>\n",
       "      <td>BD-Daz-EN</td>\n",
       "      <td>BD-Daz-EN-HC-App</td>\n",
       "      <td>大招</td>\n",
       "      <td>1000068200</td>\n",
       "      <td>Need help</td>\n",
       "      <td>NaN</td>\n",
       "      <td>NaN</td>\n",
       "      <td>1211</td>\n",
       "      <td>831</td>\n",
       "      <td>0.596871</td>\n",
       "      <td>0.328520</td>\n",
       "      <td>0.0</td>\n",
       "      <td>NaN</td>\n",
       "    </tr>\n",
       "    <tr>\n",
       "      <th>4</th>\n",
       "      <td>20220419</td>\n",
       "      <td>Alime-DRZ-CC-BD</td>\n",
       "      <td>BD-Daz-EN</td>\n",
       "      <td>BD-Daz-EN-HC-App</td>\n",
       "      <td>大招</td>\n",
       "      <td>1000068200</td>\n",
       "      <td>Need help</td>\n",
       "      <td>NaN</td>\n",
       "      <td>NaN</td>\n",
       "      <td>1178</td>\n",
       "      <td>808</td>\n",
       "      <td>0.583643</td>\n",
       "      <td>0.369269</td>\n",
       "      <td>0.0</td>\n",
       "      <td>NaN</td>\n",
       "    </tr>\n",
       "  </tbody>\n",
       "</table>\n",
       "</div>"
      ],
      "text/plain": [
       "    date_id      tenant_name robot_code_name         from_name Knowledge Type  \\\n",
       "0  20220424  Alime-DRZ-CC-BD       BD-Daz-EN  BD-Daz-EN-HC-App             大招   \n",
       "1  20220418  Alime-DRZ-CC-BD       BD-Daz-EN  BD-Daz-EN-HC-App             小招   \n",
       "2  20220424  Alime-DRZ-CC-BD       BD-Daz-EN  BD-Daz-EN-DD-App            FAQ   \n",
       "3  20220423  Alime-DRZ-CC-BD       BD-Daz-EN  BD-Daz-EN-HC-App             大招   \n",
       "4  20220419  Alime-DRZ-CC-BD       BD-Daz-EN  BD-Daz-EN-HC-App             大招   \n",
       "\n",
       "   Knowledge Id            Knowledge Name  Solution Id Solution Name  Chats  \\\n",
       "0    1000068200                 Need help          NaN           NaN   1497   \n",
       "1    1000055995                  Greeting          NaN           NaN   1332   \n",
       "2    1000015459  How can I track my order          NaN           NaN   1241   \n",
       "3    1000068200                 Need help          NaN           NaN   1211   \n",
       "4    1000068200                 Need help          NaN           NaN   1178   \n",
       "\n",
       "   sid_cnt  Session_Resolved_Rate  Switch_to_Live_Agent_Rate  \\\n",
       "0      922               0.655098                   0.300434   \n",
       "1      748               0.779273                   0.188425   \n",
       "2     1128               0.931738                   0.038121   \n",
       "3      831               0.596871                   0.328520   \n",
       "4      808               0.583643                   0.369269   \n",
       "\n",
       "   Survey_Response_Rate  Chat_Unsatisfied_Rate  \n",
       "0                   0.0                    NaN  \n",
       "1                   0.0                    NaN  \n",
       "2                   0.0                    NaN  \n",
       "3                   0.0                    NaN  \n",
       "4                   0.0                    NaN  "
      ]
     },
     "metadata": {},
     "output_type": "display_data"
    },
    {
     "data": {
      "text/html": [
       "<div>\n",
       "<style scoped>\n",
       "    .dataframe tbody tr th:only-of-type {\n",
       "        vertical-align: middle;\n",
       "    }\n",
       "\n",
       "    .dataframe tbody tr th {\n",
       "        vertical-align: top;\n",
       "    }\n",
       "\n",
       "    .dataframe thead th {\n",
       "        text-align: right;\n",
       "    }\n",
       "</style>\n",
       "<table border=\"1\" class=\"dataframe\">\n",
       "  <thead>\n",
       "    <tr style=\"text-align: right;\">\n",
       "      <th></th>\n",
       "      <th>date_id</th>\n",
       "      <th>tenant_name</th>\n",
       "      <th>robot_code_name</th>\n",
       "      <th>from_name</th>\n",
       "      <th>Knowledge Type</th>\n",
       "      <th>Knowledge Id</th>\n",
       "      <th>Knowledge Name</th>\n",
       "      <th>Solution Id</th>\n",
       "      <th>Solution Name</th>\n",
       "      <th>Chats</th>\n",
       "      <th>sid_cnt</th>\n",
       "      <th>Session_Resolved_Rate</th>\n",
       "      <th>Switch_to_Live_Agent_Rate</th>\n",
       "      <th>Survey_Response_Rate</th>\n",
       "      <th>Chat_Unsatisfied_Rate</th>\n",
       "    </tr>\n",
       "  </thead>\n",
       "  <tbody>\n",
       "    <tr>\n",
       "      <th>0</th>\n",
       "      <td>20220426</td>\n",
       "      <td>Alime-DRZ-CC-BD</td>\n",
       "      <td>BD-Daz-EN</td>\n",
       "      <td>BD-Daz-EN-DD-App</td>\n",
       "      <td>FAQ</td>\n",
       "      <td>1000015459</td>\n",
       "      <td>How can I track my order</td>\n",
       "      <td>NaN</td>\n",
       "      <td>NaN</td>\n",
       "      <td>1543</td>\n",
       "      <td>1385</td>\n",
       "      <td>0.927076</td>\n",
       "      <td>0.036101</td>\n",
       "      <td>0.000000</td>\n",
       "      <td>NaN</td>\n",
       "    </tr>\n",
       "    <tr>\n",
       "      <th>1</th>\n",
       "      <td>20220429</td>\n",
       "      <td>Alime-DRZ-CC-BD</td>\n",
       "      <td>BD-Daz-LC</td>\n",
       "      <td>BD-Daz-LC-DD-App</td>\n",
       "      <td>FAQ</td>\n",
       "      <td>1000069823</td>\n",
       "      <td>আমার অর্ডার কিভাবে ট্র্যাক করতে পারবো?</td>\n",
       "      <td>193869.0</td>\n",
       "      <td>Item don't delivered(with estimated date) (Local)</td>\n",
       "      <td>1498</td>\n",
       "      <td>1082</td>\n",
       "      <td>0.896488</td>\n",
       "      <td>0.033272</td>\n",
       "      <td>0.127503</td>\n",
       "      <td>0.230366</td>\n",
       "    </tr>\n",
       "    <tr>\n",
       "      <th>2</th>\n",
       "      <td>20220427</td>\n",
       "      <td>Alime-DRZ-CC-BD</td>\n",
       "      <td>BD-Daz-EN</td>\n",
       "      <td>BD-Daz-EN-DD-App</td>\n",
       "      <td>FAQ</td>\n",
       "      <td>1000015459</td>\n",
       "      <td>How can I track my order</td>\n",
       "      <td>NaN</td>\n",
       "      <td>NaN</td>\n",
       "      <td>1485</td>\n",
       "      <td>1348</td>\n",
       "      <td>0.917656</td>\n",
       "      <td>0.043769</td>\n",
       "      <td>0.000000</td>\n",
       "      <td>NaN</td>\n",
       "    </tr>\n",
       "    <tr>\n",
       "      <th>3</th>\n",
       "      <td>20220428</td>\n",
       "      <td>Alime-DRZ-CC-BD</td>\n",
       "      <td>BD-Daz-EN</td>\n",
       "      <td>BD-Daz-EN-DD-App</td>\n",
       "      <td>FAQ</td>\n",
       "      <td>1000015459</td>\n",
       "      <td>How can I track my order</td>\n",
       "      <td>NaN</td>\n",
       "      <td>NaN</td>\n",
       "      <td>1482</td>\n",
       "      <td>1349</td>\n",
       "      <td>0.935508</td>\n",
       "      <td>0.036323</td>\n",
       "      <td>0.000000</td>\n",
       "      <td>NaN</td>\n",
       "    </tr>\n",
       "    <tr>\n",
       "      <th>4</th>\n",
       "      <td>20220501</td>\n",
       "      <td>Alime-DRZ-CC-BD</td>\n",
       "      <td>BD-Daz-EN</td>\n",
       "      <td>BD-Daz-EN-HC-App</td>\n",
       "      <td>大招</td>\n",
       "      <td>1000068200</td>\n",
       "      <td>Need help</td>\n",
       "      <td>NaN</td>\n",
       "      <td>NaN</td>\n",
       "      <td>1359</td>\n",
       "      <td>670</td>\n",
       "      <td>0.864179</td>\n",
       "      <td>0.000000</td>\n",
       "      <td>0.000000</td>\n",
       "      <td>NaN</td>\n",
       "    </tr>\n",
       "  </tbody>\n",
       "</table>\n",
       "</div>"
      ],
      "text/plain": [
       "    date_id      tenant_name robot_code_name         from_name Knowledge Type  \\\n",
       "0  20220426  Alime-DRZ-CC-BD       BD-Daz-EN  BD-Daz-EN-DD-App            FAQ   \n",
       "1  20220429  Alime-DRZ-CC-BD       BD-Daz-LC  BD-Daz-LC-DD-App            FAQ   \n",
       "2  20220427  Alime-DRZ-CC-BD       BD-Daz-EN  BD-Daz-EN-DD-App            FAQ   \n",
       "3  20220428  Alime-DRZ-CC-BD       BD-Daz-EN  BD-Daz-EN-DD-App            FAQ   \n",
       "4  20220501  Alime-DRZ-CC-BD       BD-Daz-EN  BD-Daz-EN-HC-App             大招   \n",
       "\n",
       "   Knowledge Id                          Knowledge Name  Solution Id  \\\n",
       "0    1000015459                How can I track my order          NaN   \n",
       "1    1000069823  আমার অর্ডার কিভাবে ট্র্যাক করতে পারবো?     193869.0   \n",
       "2    1000015459                How can I track my order          NaN   \n",
       "3    1000015459                How can I track my order          NaN   \n",
       "4    1000068200                               Need help          NaN   \n",
       "\n",
       "                                       Solution Name  Chats  sid_cnt  \\\n",
       "0                                                NaN   1543     1385   \n",
       "1  Item don't delivered(with estimated date) (Local)   1498     1082   \n",
       "2                                                NaN   1485     1348   \n",
       "3                                                NaN   1482     1349   \n",
       "4                                                NaN   1359      670   \n",
       "\n",
       "   Session_Resolved_Rate  Switch_to_Live_Agent_Rate  Survey_Response_Rate  \\\n",
       "0               0.927076                   0.036101              0.000000   \n",
       "1               0.896488                   0.033272              0.127503   \n",
       "2               0.917656                   0.043769              0.000000   \n",
       "3               0.935508                   0.036323              0.000000   \n",
       "4               0.864179                   0.000000              0.000000   \n",
       "\n",
       "   Chat_Unsatisfied_Rate  \n",
       "0                    NaN  \n",
       "1               0.230366  \n",
       "2                    NaN  \n",
       "3                    NaN  \n",
       "4                    NaN  "
      ]
     },
     "metadata": {},
     "output_type": "display_data"
    }
   ],
   "source": [
    "display(CPR_df16.head())\n",
    "display(CPR_df17.head())"
   ]
  },
  {
   "cell_type": "code",
   "execution_count": 5,
   "metadata": {},
   "outputs": [
    {
     "data": {
      "text/html": [
       "<div>\n",
       "<style scoped>\n",
       "    .dataframe tbody tr th:only-of-type {\n",
       "        vertical-align: middle;\n",
       "    }\n",
       "\n",
       "    .dataframe tbody tr th {\n",
       "        vertical-align: top;\n",
       "    }\n",
       "\n",
       "    .dataframe thead th {\n",
       "        text-align: right;\n",
       "    }\n",
       "</style>\n",
       "<table border=\"1\" class=\"dataframe\">\n",
       "  <thead>\n",
       "    <tr style=\"text-align: right;\">\n",
       "      <th></th>\n",
       "      <th>date_id</th>\n",
       "      <th>tenant_name</th>\n",
       "      <th>robot_code_name</th>\n",
       "      <th>from_name</th>\n",
       "      <th>Knowledge Type</th>\n",
       "      <th>Knowledge Id</th>\n",
       "      <th>Knowledge Name</th>\n",
       "      <th>Solution Id</th>\n",
       "      <th>Solution Name</th>\n",
       "      <th>Chats</th>\n",
       "      <th>sid_cnt</th>\n",
       "      <th>Session_Resolved_Rate</th>\n",
       "      <th>Switch_to_Live_Agent_Rate</th>\n",
       "      <th>Survey_Response_Rate</th>\n",
       "      <th>Chat_Unsatisfied_Rate</th>\n",
       "    </tr>\n",
       "  </thead>\n",
       "  <tbody>\n",
       "    <tr>\n",
       "      <th>1</th>\n",
       "      <td>20220429</td>\n",
       "      <td>Alime-DRZ-CC-BD</td>\n",
       "      <td>BD-Daz-LC</td>\n",
       "      <td>BD-Daz-LC-DD-App</td>\n",
       "      <td>FAQ</td>\n",
       "      <td>1000069823</td>\n",
       "      <td>আমার অর্ডার কিভাবে ট্র্যাক করতে পারবো?</td>\n",
       "      <td>193869.0</td>\n",
       "      <td>Item don't delivered(with estimated date) (Local)</td>\n",
       "      <td>1498</td>\n",
       "      <td>1082</td>\n",
       "      <td>0.896488</td>\n",
       "      <td>0.033272</td>\n",
       "      <td>0.127503</td>\n",
       "      <td>0.230366</td>\n",
       "    </tr>\n",
       "    <tr>\n",
       "      <th>8</th>\n",
       "      <td>20220501</td>\n",
       "      <td>Alime-DRZ-CC-BD</td>\n",
       "      <td>BD-Daz-LC</td>\n",
       "      <td>BD-Daz-LC-DD-App</td>\n",
       "      <td>FAQ</td>\n",
       "      <td>1000069823</td>\n",
       "      <td>আমার অর্ডার কিভাবে ট্র্যাক করতে পারবো?</td>\n",
       "      <td>193869.0</td>\n",
       "      <td>Item don't delivered(with estimated date) (Local)</td>\n",
       "      <td>1256</td>\n",
       "      <td>903</td>\n",
       "      <td>0.903654</td>\n",
       "      <td>0.000000</td>\n",
       "      <td>0.138535</td>\n",
       "      <td>0.310345</td>\n",
       "    </tr>\n",
       "    <tr>\n",
       "      <th>9</th>\n",
       "      <td>20220430</td>\n",
       "      <td>Alime-DRZ-CC-BD</td>\n",
       "      <td>BD-Daz-LC</td>\n",
       "      <td>BD-Daz-LC-DD-App</td>\n",
       "      <td>FAQ</td>\n",
       "      <td>1000069823</td>\n",
       "      <td>আমার অর্ডার কিভাবে ট্র্যাক করতে পারবো?</td>\n",
       "      <td>193869.0</td>\n",
       "      <td>Item don't delivered(with estimated date) (Local)</td>\n",
       "      <td>1244</td>\n",
       "      <td>932</td>\n",
       "      <td>0.881974</td>\n",
       "      <td>0.025751</td>\n",
       "      <td>0.127814</td>\n",
       "      <td>0.295597</td>\n",
       "    </tr>\n",
       "    <tr>\n",
       "      <th>20</th>\n",
       "      <td>20220429</td>\n",
       "      <td>Alime-DRZ-CC-BD</td>\n",
       "      <td>BD-Daz-LC</td>\n",
       "      <td>BD-Daz-LC-DD-App</td>\n",
       "      <td>FAQ</td>\n",
       "      <td>1000071050</td>\n",
       "      <td>আমার সাহায্য লাগবে</td>\n",
       "      <td>NaN</td>\n",
       "      <td>NaN</td>\n",
       "      <td>933</td>\n",
       "      <td>830</td>\n",
       "      <td>0.827711</td>\n",
       "      <td>0.091566</td>\n",
       "      <td>0.000000</td>\n",
       "      <td>NaN</td>\n",
       "    </tr>\n",
       "    <tr>\n",
       "      <th>22</th>\n",
       "      <td>20220430</td>\n",
       "      <td>Alime-DRZ-CC-BD</td>\n",
       "      <td>BD-Daz-LC</td>\n",
       "      <td>BD-Daz-LC-DD-App</td>\n",
       "      <td>FAQ</td>\n",
       "      <td>1000071050</td>\n",
       "      <td>আমার সাহায্য লাগবে</td>\n",
       "      <td>NaN</td>\n",
       "      <td>NaN</td>\n",
       "      <td>907</td>\n",
       "      <td>795</td>\n",
       "      <td>0.827673</td>\n",
       "      <td>0.098113</td>\n",
       "      <td>0.000000</td>\n",
       "      <td>NaN</td>\n",
       "    </tr>\n",
       "  </tbody>\n",
       "</table>\n",
       "</div>"
      ],
      "text/plain": [
       "     date_id      tenant_name robot_code_name         from_name  \\\n",
       "1   20220429  Alime-DRZ-CC-BD       BD-Daz-LC  BD-Daz-LC-DD-App   \n",
       "8   20220501  Alime-DRZ-CC-BD       BD-Daz-LC  BD-Daz-LC-DD-App   \n",
       "9   20220430  Alime-DRZ-CC-BD       BD-Daz-LC  BD-Daz-LC-DD-App   \n",
       "20  20220429  Alime-DRZ-CC-BD       BD-Daz-LC  BD-Daz-LC-DD-App   \n",
       "22  20220430  Alime-DRZ-CC-BD       BD-Daz-LC  BD-Daz-LC-DD-App   \n",
       "\n",
       "   Knowledge Type  Knowledge Id                          Knowledge Name  \\\n",
       "1             FAQ    1000069823  আমার অর্ডার কিভাবে ট্র্যাক করতে পারবো?   \n",
       "8             FAQ    1000069823  আমার অর্ডার কিভাবে ট্র্যাক করতে পারবো?   \n",
       "9             FAQ    1000069823  আমার অর্ডার কিভাবে ট্র্যাক করতে পারবো?   \n",
       "20            FAQ    1000071050                      আমার সাহায্য লাগবে   \n",
       "22            FAQ    1000071050                      আমার সাহায্য লাগবে   \n",
       "\n",
       "    Solution Id                                      Solution Name  Chats  \\\n",
       "1      193869.0  Item don't delivered(with estimated date) (Local)   1498   \n",
       "8      193869.0  Item don't delivered(with estimated date) (Local)   1256   \n",
       "9      193869.0  Item don't delivered(with estimated date) (Local)   1244   \n",
       "20          NaN                                                NaN    933   \n",
       "22          NaN                                                NaN    907   \n",
       "\n",
       "    sid_cnt  Session_Resolved_Rate  Switch_to_Live_Agent_Rate  \\\n",
       "1      1082               0.896488                   0.033272   \n",
       "8       903               0.903654                   0.000000   \n",
       "9       932               0.881974                   0.025751   \n",
       "20      830               0.827711                   0.091566   \n",
       "22      795               0.827673                   0.098113   \n",
       "\n",
       "    Survey_Response_Rate  Chat_Unsatisfied_Rate  \n",
       "1               0.127503               0.230366  \n",
       "8               0.138535               0.310345  \n",
       "9               0.127814               0.295597  \n",
       "20              0.000000                    NaN  \n",
       "22              0.000000                    NaN  "
      ]
     },
     "execution_count": 5,
     "metadata": {},
     "output_type": "execute_result"
    }
   ],
   "source": [
    "CPR_df17[CPR_df17['robot_code_name'] == 'BD-Daz-LC'].head()"
   ]
  },
  {
   "cell_type": "code",
   "execution_count": 6,
   "metadata": {},
   "outputs": [],
   "source": [
    "#Week16\n",
    "CPR_df_LC16 = CPR_df16[CPR_df16['robot_code_name'] == 'BD-Daz-LC']\n",
    "CPR_df_EN16 = CPR_df16[CPR_df16['robot_code_name'] == 'BD-Daz-EN']"
   ]
  },
  {
   "cell_type": "code",
   "execution_count": 7,
   "metadata": {},
   "outputs": [],
   "source": [
    "#Week17\n",
    "CPR_df_LC17 = CPR_df17[CPR_df17['robot_code_name'] == 'BD-Daz-LC']\n",
    "CPR_df_EN17 = CPR_df17[CPR_df17['robot_code_name'] == 'BD-Daz-EN']"
   ]
  },
  {
   "cell_type": "code",
   "execution_count": 8,
   "metadata": {},
   "outputs": [],
   "source": [
    "#Week16\n",
    "CPR_df_LC16 = CPR_df_LC16.reset_index()\n",
    "CPR_df_EN16 = CPR_df_EN16.reset_index()"
   ]
  },
  {
   "cell_type": "code",
   "execution_count": 9,
   "metadata": {},
   "outputs": [],
   "source": [
    "#Week17\n",
    "CPR_df_LC17 = CPR_df_LC17.reset_index()\n",
    "CPR_df_EN17 = CPR_df_EN17.reset_index()"
   ]
  },
  {
   "cell_type": "code",
   "execution_count": 10,
   "metadata": {},
   "outputs": [],
   "source": [
    "#Week16\n",
    "CPR_df_LC16 = CPR_df_LC16.drop('index', axis=1)\n",
    "CPR_df_EN16 = CPR_df_EN16.drop('index', axis=1)"
   ]
  },
  {
   "cell_type": "code",
   "execution_count": 11,
   "metadata": {},
   "outputs": [],
   "source": [
    "#Week17\n",
    "CPR_df_LC17 = CPR_df_LC17.drop('index', axis=1)\n",
    "CPR_df_EN17 = CPR_df_EN17.drop('index', axis=1)"
   ]
  },
  {
   "cell_type": "code",
   "execution_count": 12,
   "metadata": {},
   "outputs": [
    {
     "data": {
      "text/html": [
       "<div>\n",
       "<style scoped>\n",
       "    .dataframe tbody tr th:only-of-type {\n",
       "        vertical-align: middle;\n",
       "    }\n",
       "\n",
       "    .dataframe tbody tr th {\n",
       "        vertical-align: top;\n",
       "    }\n",
       "\n",
       "    .dataframe thead th {\n",
       "        text-align: right;\n",
       "    }\n",
       "</style>\n",
       "<table border=\"1\" class=\"dataframe\">\n",
       "  <thead>\n",
       "    <tr style=\"text-align: right;\">\n",
       "      <th></th>\n",
       "      <th>date_id</th>\n",
       "      <th>tenant_name</th>\n",
       "      <th>robot_code_name</th>\n",
       "      <th>from_name</th>\n",
       "      <th>Knowledge Type</th>\n",
       "      <th>Knowledge Id</th>\n",
       "      <th>Knowledge Name</th>\n",
       "      <th>Solution Id</th>\n",
       "      <th>Solution Name</th>\n",
       "      <th>Chats</th>\n",
       "      <th>sid_cnt</th>\n",
       "      <th>Session_Resolved_Rate</th>\n",
       "      <th>Switch_to_Live_Agent_Rate</th>\n",
       "      <th>Survey_Response_Rate</th>\n",
       "      <th>Chat_Unsatisfied_Rate</th>\n",
       "    </tr>\n",
       "  </thead>\n",
       "  <tbody>\n",
       "    <tr>\n",
       "      <th>0</th>\n",
       "      <td>20220424</td>\n",
       "      <td>Alime-DRZ-CC-BD</td>\n",
       "      <td>BD-Daz-LC</td>\n",
       "      <td>BD-Daz-LC-HC-App</td>\n",
       "      <td>FAQ</td>\n",
       "      <td>1000068818</td>\n",
       "      <td>আমার অর্ডার কোথায়?</td>\n",
       "      <td>NaN</td>\n",
       "      <td>NaN</td>\n",
       "      <td>341</td>\n",
       "      <td>289</td>\n",
       "      <td>0.726644</td>\n",
       "      <td>0.16263</td>\n",
       "      <td>0.005865</td>\n",
       "      <td>0.0</td>\n",
       "    </tr>\n",
       "    <tr>\n",
       "      <th>1</th>\n",
       "      <td>20220419</td>\n",
       "      <td>Alime-DRZ-CC-BD</td>\n",
       "      <td>BD-Daz-LC</td>\n",
       "      <td>BD-Daz-LC-HC-App</td>\n",
       "      <td>FAQ</td>\n",
       "      <td>1000068818</td>\n",
       "      <td>আমার অর্ডার কোথায়?</td>\n",
       "      <td>NaN</td>\n",
       "      <td>NaN</td>\n",
       "      <td>313</td>\n",
       "      <td>264</td>\n",
       "      <td>0.670455</td>\n",
       "      <td>0.19697</td>\n",
       "      <td>0.000000</td>\n",
       "      <td>NaN</td>\n",
       "    </tr>\n",
       "  </tbody>\n",
       "</table>\n",
       "</div>"
      ],
      "text/plain": [
       "    date_id      tenant_name robot_code_name         from_name Knowledge Type  \\\n",
       "0  20220424  Alime-DRZ-CC-BD       BD-Daz-LC  BD-Daz-LC-HC-App            FAQ   \n",
       "1  20220419  Alime-DRZ-CC-BD       BD-Daz-LC  BD-Daz-LC-HC-App            FAQ   \n",
       "\n",
       "   Knowledge Id      Knowledge Name  Solution Id Solution Name  Chats  \\\n",
       "0    1000068818  আমার অর্ডার কোথায়?          NaN           NaN    341   \n",
       "1    1000068818  আমার অর্ডার কোথায়?          NaN           NaN    313   \n",
       "\n",
       "   sid_cnt  Session_Resolved_Rate  Switch_to_Live_Agent_Rate  \\\n",
       "0      289               0.726644                    0.16263   \n",
       "1      264               0.670455                    0.19697   \n",
       "\n",
       "   Survey_Response_Rate  Chat_Unsatisfied_Rate  \n",
       "0              0.005865                    0.0  \n",
       "1              0.000000                    NaN  "
      ]
     },
     "metadata": {},
     "output_type": "display_data"
    },
    {
     "data": {
      "text/html": [
       "<div>\n",
       "<style scoped>\n",
       "    .dataframe tbody tr th:only-of-type {\n",
       "        vertical-align: middle;\n",
       "    }\n",
       "\n",
       "    .dataframe tbody tr th {\n",
       "        vertical-align: top;\n",
       "    }\n",
       "\n",
       "    .dataframe thead th {\n",
       "        text-align: right;\n",
       "    }\n",
       "</style>\n",
       "<table border=\"1\" class=\"dataframe\">\n",
       "  <thead>\n",
       "    <tr style=\"text-align: right;\">\n",
       "      <th></th>\n",
       "      <th>date_id</th>\n",
       "      <th>tenant_name</th>\n",
       "      <th>robot_code_name</th>\n",
       "      <th>from_name</th>\n",
       "      <th>Knowledge Type</th>\n",
       "      <th>Knowledge Id</th>\n",
       "      <th>Knowledge Name</th>\n",
       "      <th>Solution Id</th>\n",
       "      <th>Solution Name</th>\n",
       "      <th>Chats</th>\n",
       "      <th>sid_cnt</th>\n",
       "      <th>Session_Resolved_Rate</th>\n",
       "      <th>Switch_to_Live_Agent_Rate</th>\n",
       "      <th>Survey_Response_Rate</th>\n",
       "      <th>Chat_Unsatisfied_Rate</th>\n",
       "    </tr>\n",
       "  </thead>\n",
       "  <tbody>\n",
       "    <tr>\n",
       "      <th>0</th>\n",
       "      <td>20220424</td>\n",
       "      <td>Alime-DRZ-CC-BD</td>\n",
       "      <td>BD-Daz-EN</td>\n",
       "      <td>BD-Daz-EN-HC-App</td>\n",
       "      <td>大招</td>\n",
       "      <td>1000068200</td>\n",
       "      <td>Need help</td>\n",
       "      <td>NaN</td>\n",
       "      <td>NaN</td>\n",
       "      <td>1497</td>\n",
       "      <td>922</td>\n",
       "      <td>0.655098</td>\n",
       "      <td>0.300434</td>\n",
       "      <td>0.0</td>\n",
       "      <td>NaN</td>\n",
       "    </tr>\n",
       "    <tr>\n",
       "      <th>1</th>\n",
       "      <td>20220418</td>\n",
       "      <td>Alime-DRZ-CC-BD</td>\n",
       "      <td>BD-Daz-EN</td>\n",
       "      <td>BD-Daz-EN-HC-App</td>\n",
       "      <td>小招</td>\n",
       "      <td>1000055995</td>\n",
       "      <td>Greeting</td>\n",
       "      <td>NaN</td>\n",
       "      <td>NaN</td>\n",
       "      <td>1332</td>\n",
       "      <td>748</td>\n",
       "      <td>0.779273</td>\n",
       "      <td>0.188425</td>\n",
       "      <td>0.0</td>\n",
       "      <td>NaN</td>\n",
       "    </tr>\n",
       "  </tbody>\n",
       "</table>\n",
       "</div>"
      ],
      "text/plain": [
       "    date_id      tenant_name robot_code_name         from_name Knowledge Type  \\\n",
       "0  20220424  Alime-DRZ-CC-BD       BD-Daz-EN  BD-Daz-EN-HC-App             大招   \n",
       "1  20220418  Alime-DRZ-CC-BD       BD-Daz-EN  BD-Daz-EN-HC-App             小招   \n",
       "\n",
       "   Knowledge Id Knowledge Name  Solution Id Solution Name  Chats  sid_cnt  \\\n",
       "0    1000068200      Need help          NaN           NaN   1497      922   \n",
       "1    1000055995       Greeting          NaN           NaN   1332      748   \n",
       "\n",
       "   Session_Resolved_Rate  Switch_to_Live_Agent_Rate  Survey_Response_Rate  \\\n",
       "0               0.655098                   0.300434                   0.0   \n",
       "1               0.779273                   0.188425                   0.0   \n",
       "\n",
       "   Chat_Unsatisfied_Rate  \n",
       "0                    NaN  \n",
       "1                    NaN  "
      ]
     },
     "metadata": {},
     "output_type": "display_data"
    },
    {
     "data": {
      "text/html": [
       "<div>\n",
       "<style scoped>\n",
       "    .dataframe tbody tr th:only-of-type {\n",
       "        vertical-align: middle;\n",
       "    }\n",
       "\n",
       "    .dataframe tbody tr th {\n",
       "        vertical-align: top;\n",
       "    }\n",
       "\n",
       "    .dataframe thead th {\n",
       "        text-align: right;\n",
       "    }\n",
       "</style>\n",
       "<table border=\"1\" class=\"dataframe\">\n",
       "  <thead>\n",
       "    <tr style=\"text-align: right;\">\n",
       "      <th></th>\n",
       "      <th>date_id</th>\n",
       "      <th>tenant_name</th>\n",
       "      <th>robot_code_name</th>\n",
       "      <th>from_name</th>\n",
       "      <th>Knowledge Type</th>\n",
       "      <th>Knowledge Id</th>\n",
       "      <th>Knowledge Name</th>\n",
       "      <th>Solution Id</th>\n",
       "      <th>Solution Name</th>\n",
       "      <th>Chats</th>\n",
       "      <th>sid_cnt</th>\n",
       "      <th>Session_Resolved_Rate</th>\n",
       "      <th>Switch_to_Live_Agent_Rate</th>\n",
       "      <th>Survey_Response_Rate</th>\n",
       "      <th>Chat_Unsatisfied_Rate</th>\n",
       "    </tr>\n",
       "  </thead>\n",
       "  <tbody>\n",
       "    <tr>\n",
       "      <th>0</th>\n",
       "      <td>20220429</td>\n",
       "      <td>Alime-DRZ-CC-BD</td>\n",
       "      <td>BD-Daz-LC</td>\n",
       "      <td>BD-Daz-LC-DD-App</td>\n",
       "      <td>FAQ</td>\n",
       "      <td>1000069823</td>\n",
       "      <td>আমার অর্ডার কিভাবে ট্র্যাক করতে পারবো?</td>\n",
       "      <td>193869.0</td>\n",
       "      <td>Item don't delivered(with estimated date) (Local)</td>\n",
       "      <td>1498</td>\n",
       "      <td>1082</td>\n",
       "      <td>0.896488</td>\n",
       "      <td>0.033272</td>\n",
       "      <td>0.127503</td>\n",
       "      <td>0.230366</td>\n",
       "    </tr>\n",
       "    <tr>\n",
       "      <th>1</th>\n",
       "      <td>20220501</td>\n",
       "      <td>Alime-DRZ-CC-BD</td>\n",
       "      <td>BD-Daz-LC</td>\n",
       "      <td>BD-Daz-LC-DD-App</td>\n",
       "      <td>FAQ</td>\n",
       "      <td>1000069823</td>\n",
       "      <td>আমার অর্ডার কিভাবে ট্র্যাক করতে পারবো?</td>\n",
       "      <td>193869.0</td>\n",
       "      <td>Item don't delivered(with estimated date) (Local)</td>\n",
       "      <td>1256</td>\n",
       "      <td>903</td>\n",
       "      <td>0.903654</td>\n",
       "      <td>0.000000</td>\n",
       "      <td>0.138535</td>\n",
       "      <td>0.310345</td>\n",
       "    </tr>\n",
       "  </tbody>\n",
       "</table>\n",
       "</div>"
      ],
      "text/plain": [
       "    date_id      tenant_name robot_code_name         from_name Knowledge Type  \\\n",
       "0  20220429  Alime-DRZ-CC-BD       BD-Daz-LC  BD-Daz-LC-DD-App            FAQ   \n",
       "1  20220501  Alime-DRZ-CC-BD       BD-Daz-LC  BD-Daz-LC-DD-App            FAQ   \n",
       "\n",
       "   Knowledge Id                          Knowledge Name  Solution Id  \\\n",
       "0    1000069823  আমার অর্ডার কিভাবে ট্র্যাক করতে পারবো?     193869.0   \n",
       "1    1000069823  আমার অর্ডার কিভাবে ট্র্যাক করতে পারবো?     193869.0   \n",
       "\n",
       "                                       Solution Name  Chats  sid_cnt  \\\n",
       "0  Item don't delivered(with estimated date) (Local)   1498     1082   \n",
       "1  Item don't delivered(with estimated date) (Local)   1256      903   \n",
       "\n",
       "   Session_Resolved_Rate  Switch_to_Live_Agent_Rate  Survey_Response_Rate  \\\n",
       "0               0.896488                   0.033272              0.127503   \n",
       "1               0.903654                   0.000000              0.138535   \n",
       "\n",
       "   Chat_Unsatisfied_Rate  \n",
       "0               0.230366  \n",
       "1               0.310345  "
      ]
     },
     "metadata": {},
     "output_type": "display_data"
    },
    {
     "data": {
      "text/html": [
       "<div>\n",
       "<style scoped>\n",
       "    .dataframe tbody tr th:only-of-type {\n",
       "        vertical-align: middle;\n",
       "    }\n",
       "\n",
       "    .dataframe tbody tr th {\n",
       "        vertical-align: top;\n",
       "    }\n",
       "\n",
       "    .dataframe thead th {\n",
       "        text-align: right;\n",
       "    }\n",
       "</style>\n",
       "<table border=\"1\" class=\"dataframe\">\n",
       "  <thead>\n",
       "    <tr style=\"text-align: right;\">\n",
       "      <th></th>\n",
       "      <th>date_id</th>\n",
       "      <th>tenant_name</th>\n",
       "      <th>robot_code_name</th>\n",
       "      <th>from_name</th>\n",
       "      <th>Knowledge Type</th>\n",
       "      <th>Knowledge Id</th>\n",
       "      <th>Knowledge Name</th>\n",
       "      <th>Solution Id</th>\n",
       "      <th>Solution Name</th>\n",
       "      <th>Chats</th>\n",
       "      <th>sid_cnt</th>\n",
       "      <th>Session_Resolved_Rate</th>\n",
       "      <th>Switch_to_Live_Agent_Rate</th>\n",
       "      <th>Survey_Response_Rate</th>\n",
       "      <th>Chat_Unsatisfied_Rate</th>\n",
       "    </tr>\n",
       "  </thead>\n",
       "  <tbody>\n",
       "    <tr>\n",
       "      <th>0</th>\n",
       "      <td>20220426</td>\n",
       "      <td>Alime-DRZ-CC-BD</td>\n",
       "      <td>BD-Daz-EN</td>\n",
       "      <td>BD-Daz-EN-DD-App</td>\n",
       "      <td>FAQ</td>\n",
       "      <td>1000015459</td>\n",
       "      <td>How can I track my order</td>\n",
       "      <td>NaN</td>\n",
       "      <td>NaN</td>\n",
       "      <td>1543</td>\n",
       "      <td>1385</td>\n",
       "      <td>0.927076</td>\n",
       "      <td>0.036101</td>\n",
       "      <td>0.0</td>\n",
       "      <td>NaN</td>\n",
       "    </tr>\n",
       "    <tr>\n",
       "      <th>1</th>\n",
       "      <td>20220427</td>\n",
       "      <td>Alime-DRZ-CC-BD</td>\n",
       "      <td>BD-Daz-EN</td>\n",
       "      <td>BD-Daz-EN-DD-App</td>\n",
       "      <td>FAQ</td>\n",
       "      <td>1000015459</td>\n",
       "      <td>How can I track my order</td>\n",
       "      <td>NaN</td>\n",
       "      <td>NaN</td>\n",
       "      <td>1485</td>\n",
       "      <td>1348</td>\n",
       "      <td>0.917656</td>\n",
       "      <td>0.043769</td>\n",
       "      <td>0.0</td>\n",
       "      <td>NaN</td>\n",
       "    </tr>\n",
       "  </tbody>\n",
       "</table>\n",
       "</div>"
      ],
      "text/plain": [
       "    date_id      tenant_name robot_code_name         from_name Knowledge Type  \\\n",
       "0  20220426  Alime-DRZ-CC-BD       BD-Daz-EN  BD-Daz-EN-DD-App            FAQ   \n",
       "1  20220427  Alime-DRZ-CC-BD       BD-Daz-EN  BD-Daz-EN-DD-App            FAQ   \n",
       "\n",
       "   Knowledge Id            Knowledge Name  Solution Id Solution Name  Chats  \\\n",
       "0    1000015459  How can I track my order          NaN           NaN   1543   \n",
       "1    1000015459  How can I track my order          NaN           NaN   1485   \n",
       "\n",
       "   sid_cnt  Session_Resolved_Rate  Switch_to_Live_Agent_Rate  \\\n",
       "0     1385               0.927076                   0.036101   \n",
       "1     1348               0.917656                   0.043769   \n",
       "\n",
       "   Survey_Response_Rate  Chat_Unsatisfied_Rate  \n",
       "0                   0.0                    NaN  \n",
       "1                   0.0                    NaN  "
      ]
     },
     "metadata": {},
     "output_type": "display_data"
    }
   ],
   "source": [
    "display(CPR_df_LC16.head(2))\n",
    "display(CPR_df_EN16.head(2))\n",
    "\n",
    "display(CPR_df_LC17.head(2))\n",
    "display(CPR_df_EN17.head(2))"
   ]
  },
  {
   "cell_type": "markdown",
   "metadata": {},
   "source": [
    "#### Total Session Resolved"
   ]
  },
  {
   "cell_type": "markdown",
   "metadata": {},
   "source": [
    "##### Week 16"
   ]
  },
  {
   "cell_type": "markdown",
   "metadata": {},
   "source": [
    "##### LC"
   ]
  },
  {
   "cell_type": "code",
   "execution_count": 13,
   "metadata": {},
   "outputs": [
    {
     "name": "stderr",
     "output_type": "stream",
     "text": [
      "C:\\Users\\Daraz\\AppData\\Local\\Temp/ipykernel_21712/3891984318.py:3: SettingWithCopyWarning:\n",
      "\n",
      "\n",
      "A value is trying to be set on a copy of a slice from a DataFrame\n",
      "\n",
      "See the caveats in the documentation: https://pandas.pydata.org/pandas-docs/stable/user_guide/indexing.html#returning-a-view-versus-a-copy\n",
      "\n"
     ]
    }
   ],
   "source": [
    "CPR_df_LC16['total_session_resolved'] = 0\n",
    "for i in range(len(CPR_df_LC16)):\n",
    "    CPR_df_LC16['total_session_resolved'][i] = CPR_df_LC16['sid_cnt'][i]*CPR_df_LC16['Session_Resolved_Rate'][i]"
   ]
  },
  {
   "cell_type": "markdown",
   "metadata": {},
   "source": [
    "##### EN"
   ]
  },
  {
   "cell_type": "code",
   "execution_count": 14,
   "metadata": {},
   "outputs": [
    {
     "name": "stderr",
     "output_type": "stream",
     "text": [
      "C:\\Users\\Daraz\\AppData\\Local\\Temp/ipykernel_21712/3625430700.py:3: SettingWithCopyWarning:\n",
      "\n",
      "\n",
      "A value is trying to be set on a copy of a slice from a DataFrame\n",
      "\n",
      "See the caveats in the documentation: https://pandas.pydata.org/pandas-docs/stable/user_guide/indexing.html#returning-a-view-versus-a-copy\n",
      "\n"
     ]
    }
   ],
   "source": [
    "CPR_df_EN16['total_session_resolved'] = 0\n",
    "for i in range(len(CPR_df_EN16)):\n",
    "    CPR_df_EN16['total_session_resolved'][i] = CPR_df_EN16['sid_cnt'][i]*CPR_df_EN16['Session_Resolved_Rate'][i]"
   ]
  },
  {
   "cell_type": "markdown",
   "metadata": {},
   "source": [
    "##### Week 17"
   ]
  },
  {
   "cell_type": "markdown",
   "metadata": {},
   "source": [
    "##### LC"
   ]
  },
  {
   "cell_type": "code",
   "execution_count": 15,
   "metadata": {},
   "outputs": [
    {
     "name": "stderr",
     "output_type": "stream",
     "text": [
      "C:\\Users\\Daraz\\AppData\\Local\\Temp/ipykernel_21712/2883821719.py:3: SettingWithCopyWarning:\n",
      "\n",
      "\n",
      "A value is trying to be set on a copy of a slice from a DataFrame\n",
      "\n",
      "See the caveats in the documentation: https://pandas.pydata.org/pandas-docs/stable/user_guide/indexing.html#returning-a-view-versus-a-copy\n",
      "\n"
     ]
    }
   ],
   "source": [
    "CPR_df_LC17['total_session_resolved'] = 0\n",
    "for i in range(len(CPR_df_LC17)):\n",
    "    CPR_df_LC17['total_session_resolved'][i] = CPR_df_LC17['sid_cnt'][i]*CPR_df_LC17['Session_Resolved_Rate'][i]"
   ]
  },
  {
   "cell_type": "markdown",
   "metadata": {},
   "source": [
    "##### EN"
   ]
  },
  {
   "cell_type": "code",
   "execution_count": 16,
   "metadata": {},
   "outputs": [
    {
     "name": "stderr",
     "output_type": "stream",
     "text": [
      "C:\\Users\\Daraz\\AppData\\Local\\Temp/ipykernel_21712/1424532037.py:3: SettingWithCopyWarning:\n",
      "\n",
      "\n",
      "A value is trying to be set on a copy of a slice from a DataFrame\n",
      "\n",
      "See the caveats in the documentation: https://pandas.pydata.org/pandas-docs/stable/user_guide/indexing.html#returning-a-view-versus-a-copy\n",
      "\n"
     ]
    }
   ],
   "source": [
    "CPR_df_EN17['total_session_resolved'] = 0\n",
    "for i in range(len(CPR_df_EN17)):\n",
    "    CPR_df_EN17['total_session_resolved'][i] = CPR_df_EN17['sid_cnt'][i]*CPR_df_EN17['Session_Resolved_Rate'][i]"
   ]
  },
  {
   "cell_type": "markdown",
   "metadata": {},
   "source": [
    "#### Total Count for Switch_to_LiveAgent"
   ]
  },
  {
   "cell_type": "markdown",
   "metadata": {},
   "source": [
    "##### Week 16"
   ]
  },
  {
   "cell_type": "markdown",
   "metadata": {},
   "source": [
    "##### LC"
   ]
  },
  {
   "cell_type": "code",
   "execution_count": 17,
   "metadata": {},
   "outputs": [
    {
     "name": "stderr",
     "output_type": "stream",
     "text": [
      "C:\\Users\\Daraz\\AppData\\Local\\Temp/ipykernel_21712/3170445784.py:3: SettingWithCopyWarning:\n",
      "\n",
      "\n",
      "A value is trying to be set on a copy of a slice from a DataFrame\n",
      "\n",
      "See the caveats in the documentation: https://pandas.pydata.org/pandas-docs/stable/user_guide/indexing.html#returning-a-view-versus-a-copy\n",
      "\n"
     ]
    }
   ],
   "source": [
    "CPR_df_LC16['total_switch_agent'] = 0 \n",
    "for i in range(len(CPR_df_LC16)):\n",
    "    CPR_df_LC16['total_switch_agent'][i] = CPR_df_LC16['sid_cnt'][i]*CPR_df_LC16['Switch_to_Live_Agent_Rate'][i]"
   ]
  },
  {
   "cell_type": "markdown",
   "metadata": {},
   "source": [
    "##### EN"
   ]
  },
  {
   "cell_type": "code",
   "execution_count": 18,
   "metadata": {},
   "outputs": [
    {
     "name": "stderr",
     "output_type": "stream",
     "text": [
      "C:\\Users\\Daraz\\AppData\\Local\\Temp/ipykernel_21712/760038606.py:3: SettingWithCopyWarning:\n",
      "\n",
      "\n",
      "A value is trying to be set on a copy of a slice from a DataFrame\n",
      "\n",
      "See the caveats in the documentation: https://pandas.pydata.org/pandas-docs/stable/user_guide/indexing.html#returning-a-view-versus-a-copy\n",
      "\n"
     ]
    }
   ],
   "source": [
    "CPR_df_EN16['total_switch_agent'] = 0\n",
    "for i in range(len(CPR_df_EN16)):\n",
    "    CPR_df_EN16['total_switch_agent'][i] = CPR_df_EN16['sid_cnt'][i]*CPR_df_EN16['Switch_to_Live_Agent_Rate'][i]"
   ]
  },
  {
   "cell_type": "markdown",
   "metadata": {},
   "source": [
    "##### Week 17"
   ]
  },
  {
   "cell_type": "markdown",
   "metadata": {},
   "source": [
    "##### LC"
   ]
  },
  {
   "cell_type": "code",
   "execution_count": 19,
   "metadata": {},
   "outputs": [
    {
     "name": "stderr",
     "output_type": "stream",
     "text": [
      "C:\\Users\\Daraz\\AppData\\Local\\Temp/ipykernel_21712/501686753.py:3: SettingWithCopyWarning:\n",
      "\n",
      "\n",
      "A value is trying to be set on a copy of a slice from a DataFrame\n",
      "\n",
      "See the caveats in the documentation: https://pandas.pydata.org/pandas-docs/stable/user_guide/indexing.html#returning-a-view-versus-a-copy\n",
      "\n"
     ]
    }
   ],
   "source": [
    "CPR_df_LC17['total_switch_agent'] = 0 \n",
    "for i in range(len(CPR_df_LC17)):\n",
    "    CPR_df_LC17['total_switch_agent'][i] = CPR_df_LC17['sid_cnt'][i]*CPR_df_LC17['Switch_to_Live_Agent_Rate'][i]"
   ]
  },
  {
   "cell_type": "markdown",
   "metadata": {},
   "source": [
    "##### EN"
   ]
  },
  {
   "cell_type": "code",
   "execution_count": 20,
   "metadata": {},
   "outputs": [
    {
     "name": "stderr",
     "output_type": "stream",
     "text": [
      "C:\\Users\\Daraz\\AppData\\Local\\Temp/ipykernel_21712/2928418557.py:3: SettingWithCopyWarning:\n",
      "\n",
      "\n",
      "A value is trying to be set on a copy of a slice from a DataFrame\n",
      "\n",
      "See the caveats in the documentation: https://pandas.pydata.org/pandas-docs/stable/user_guide/indexing.html#returning-a-view-versus-a-copy\n",
      "\n"
     ]
    }
   ],
   "source": [
    "CPR_df_EN17['total_switch_agent'] = 0\n",
    "for i in range(len(CPR_df_EN17)):\n",
    "    CPR_df_EN17['total_switch_agent'][i] = CPR_df_EN17['sid_cnt'][i]*CPR_df_EN17['Switch_to_Live_Agent_Rate'][i]"
   ]
  },
  {
   "cell_type": "markdown",
   "metadata": {},
   "source": [
    "#### Response Count (Chat Level)"
   ]
  },
  {
   "cell_type": "markdown",
   "metadata": {},
   "source": [
    "##### Week 16"
   ]
  },
  {
   "cell_type": "markdown",
   "metadata": {},
   "source": [
    "##### LC"
   ]
  },
  {
   "cell_type": "code",
   "execution_count": 21,
   "metadata": {},
   "outputs": [
    {
     "name": "stderr",
     "output_type": "stream",
     "text": [
      "C:\\Users\\Daraz\\AppData\\Local\\Temp/ipykernel_21712/1003628000.py:3: SettingWithCopyWarning:\n",
      "\n",
      "\n",
      "A value is trying to be set on a copy of a slice from a DataFrame\n",
      "\n",
      "See the caveats in the documentation: https://pandas.pydata.org/pandas-docs/stable/user_guide/indexing.html#returning-a-view-versus-a-copy\n",
      "\n"
     ]
    }
   ],
   "source": [
    "CPR_df_LC16['response_count'] = 0\n",
    "for i in range(len(CPR_df_LC16)):\n",
    "    CPR_df_LC16['response_count'][i] = CPR_df_LC16['Chats'][i]*CPR_df_LC16['Survey_Response_Rate'][i]"
   ]
  },
  {
   "cell_type": "markdown",
   "metadata": {},
   "source": [
    "##### EN"
   ]
  },
  {
   "cell_type": "code",
   "execution_count": 22,
   "metadata": {},
   "outputs": [
    {
     "name": "stderr",
     "output_type": "stream",
     "text": [
      "C:\\Users\\Daraz\\AppData\\Local\\Temp/ipykernel_21712/3252230896.py:3: SettingWithCopyWarning:\n",
      "\n",
      "\n",
      "A value is trying to be set on a copy of a slice from a DataFrame\n",
      "\n",
      "See the caveats in the documentation: https://pandas.pydata.org/pandas-docs/stable/user_guide/indexing.html#returning-a-view-versus-a-copy\n",
      "\n"
     ]
    }
   ],
   "source": [
    "CPR_df_EN16['response_count'] = 0\n",
    "for i in range(len(CPR_df_EN16)):\n",
    "    CPR_df_EN16['response_count'][i] = CPR_df_EN16['Chats'][i]*CPR_df_EN16['Survey_Response_Rate'][i]"
   ]
  },
  {
   "cell_type": "markdown",
   "metadata": {},
   "source": [
    "##### Week 17"
   ]
  },
  {
   "cell_type": "markdown",
   "metadata": {},
   "source": [
    "##### LC"
   ]
  },
  {
   "cell_type": "code",
   "execution_count": 23,
   "metadata": {},
   "outputs": [
    {
     "name": "stderr",
     "output_type": "stream",
     "text": [
      "C:\\Users\\Daraz\\AppData\\Local\\Temp/ipykernel_21712/3775413388.py:3: SettingWithCopyWarning:\n",
      "\n",
      "\n",
      "A value is trying to be set on a copy of a slice from a DataFrame\n",
      "\n",
      "See the caveats in the documentation: https://pandas.pydata.org/pandas-docs/stable/user_guide/indexing.html#returning-a-view-versus-a-copy\n",
      "\n"
     ]
    }
   ],
   "source": [
    "CPR_df_LC17['response_count'] = 0\n",
    "for i in range(len(CPR_df_LC16)):\n",
    "    CPR_df_LC16['response_count'][i] = CPR_df_LC16['Chats'][i]*CPR_df_LC16['Survey_Response_Rate'][i]"
   ]
  },
  {
   "cell_type": "markdown",
   "metadata": {},
   "source": [
    "##### EN"
   ]
  },
  {
   "cell_type": "code",
   "execution_count": 24,
   "metadata": {},
   "outputs": [
    {
     "name": "stderr",
     "output_type": "stream",
     "text": [
      "C:\\Users\\Daraz\\AppData\\Local\\Temp/ipykernel_21712/1050758998.py:3: SettingWithCopyWarning:\n",
      "\n",
      "\n",
      "A value is trying to be set on a copy of a slice from a DataFrame\n",
      "\n",
      "See the caveats in the documentation: https://pandas.pydata.org/pandas-docs/stable/user_guide/indexing.html#returning-a-view-versus-a-copy\n",
      "\n"
     ]
    }
   ],
   "source": [
    "CPR_df_EN17['response_count'] = 0\n",
    "for i in range(len(CPR_df_EN17)):\n",
    "    CPR_df_EN17['response_count'][i] = CPR_df_EN17['Chats'][i]*CPR_df_EN17['Survey_Response_Rate'][i]"
   ]
  },
  {
   "cell_type": "markdown",
   "metadata": {},
   "source": [
    "#### Unsatisfied Count (Chat Level)"
   ]
  },
  {
   "cell_type": "markdown",
   "metadata": {},
   "source": [
    "##### Week 16"
   ]
  },
  {
   "cell_type": "markdown",
   "metadata": {},
   "source": [
    "##### LC"
   ]
  },
  {
   "cell_type": "code",
   "execution_count": 25,
   "metadata": {},
   "outputs": [
    {
     "name": "stderr",
     "output_type": "stream",
     "text": [
      "C:\\Users\\Daraz\\AppData\\Local\\Temp/ipykernel_21712/973086940.py:3: SettingWithCopyWarning:\n",
      "\n",
      "\n",
      "A value is trying to be set on a copy of a slice from a DataFrame\n",
      "\n",
      "See the caveats in the documentation: https://pandas.pydata.org/pandas-docs/stable/user_guide/indexing.html#returning-a-view-versus-a-copy\n",
      "\n",
      "c:\\Users\\Daraz\\anaconda3\\lib\\site-packages\\pandas\\core\\indexing.py:1732: SettingWithCopyWarning:\n",
      "\n",
      "\n",
      "A value is trying to be set on a copy of a slice from a DataFrame\n",
      "\n",
      "See the caveats in the documentation: https://pandas.pydata.org/pandas-docs/stable/user_guide/indexing.html#returning-a-view-versus-a-copy\n",
      "\n"
     ]
    }
   ],
   "source": [
    "CPR_df_LC16['unsatisfied_count'] = 0\n",
    "for i in range(len(CPR_df_LC16)):\n",
    "    CPR_df_LC16['unsatisfied_count'][i] = CPR_df_LC16['response_count'][i]*CPR_df_LC16['Chat_Unsatisfied_Rate'][i]"
   ]
  },
  {
   "cell_type": "markdown",
   "metadata": {},
   "source": [
    "##### EN"
   ]
  },
  {
   "cell_type": "code",
   "execution_count": 26,
   "metadata": {},
   "outputs": [
    {
     "name": "stderr",
     "output_type": "stream",
     "text": [
      "C:\\Users\\Daraz\\AppData\\Local\\Temp/ipykernel_21712/3431829440.py:3: SettingWithCopyWarning:\n",
      "\n",
      "\n",
      "A value is trying to be set on a copy of a slice from a DataFrame\n",
      "\n",
      "See the caveats in the documentation: https://pandas.pydata.org/pandas-docs/stable/user_guide/indexing.html#returning-a-view-versus-a-copy\n",
      "\n"
     ]
    }
   ],
   "source": [
    "CPR_df_EN16['unsatisfied_count'] = 0\n",
    "for i in range(len(CPR_df_EN16)):\n",
    "    CPR_df_EN16['unsatisfied_count'][i] = CPR_df_EN16['response_count'][i]*CPR_df_EN16['Chat_Unsatisfied_Rate'][i]"
   ]
  },
  {
   "cell_type": "markdown",
   "metadata": {},
   "source": [
    "##### Week 17"
   ]
  },
  {
   "cell_type": "markdown",
   "metadata": {},
   "source": [
    "##### LC"
   ]
  },
  {
   "cell_type": "code",
   "execution_count": 27,
   "metadata": {},
   "outputs": [
    {
     "name": "stderr",
     "output_type": "stream",
     "text": [
      "C:\\Users\\Daraz\\AppData\\Local\\Temp/ipykernel_21712/2994948139.py:3: SettingWithCopyWarning:\n",
      "\n",
      "\n",
      "A value is trying to be set on a copy of a slice from a DataFrame\n",
      "\n",
      "See the caveats in the documentation: https://pandas.pydata.org/pandas-docs/stable/user_guide/indexing.html#returning-a-view-versus-a-copy\n",
      "\n"
     ]
    }
   ],
   "source": [
    "CPR_df_LC17['unsatisfied_count'] = 0\n",
    "for i in range(len(CPR_df_LC17)):\n",
    "    CPR_df_LC17['unsatisfied_count'][i] = CPR_df_LC17['response_count'][i]*CPR_df_LC17['Chat_Unsatisfied_Rate'][i]"
   ]
  },
  {
   "cell_type": "markdown",
   "metadata": {},
   "source": [
    "##### EN"
   ]
  },
  {
   "cell_type": "code",
   "execution_count": 28,
   "metadata": {},
   "outputs": [
    {
     "name": "stderr",
     "output_type": "stream",
     "text": [
      "C:\\Users\\Daraz\\AppData\\Local\\Temp/ipykernel_21712/2688581976.py:3: SettingWithCopyWarning:\n",
      "\n",
      "\n",
      "A value is trying to be set on a copy of a slice from a DataFrame\n",
      "\n",
      "See the caveats in the documentation: https://pandas.pydata.org/pandas-docs/stable/user_guide/indexing.html#returning-a-view-versus-a-copy\n",
      "\n"
     ]
    }
   ],
   "source": [
    "CPR_df_EN17['unsatisfied_count'] = 0\n",
    "for i in range(len(CPR_df_EN17)):\n",
    "    CPR_df_EN17['unsatisfied_count'][i] = CPR_df_EN17['response_count'][i]*CPR_df_EN17['Chat_Unsatisfied_Rate'][i]"
   ]
  },
  {
   "cell_type": "markdown",
   "metadata": {},
   "source": [
    "##### Week 16"
   ]
  },
  {
   "cell_type": "markdown",
   "metadata": {},
   "source": [
    "##### LC"
   ]
  },
  {
   "cell_type": "code",
   "execution_count": 29,
   "metadata": {},
   "outputs": [
    {
     "data": {
      "text/html": [
       "<div>\n",
       "<style scoped>\n",
       "    .dataframe tbody tr th:only-of-type {\n",
       "        vertical-align: middle;\n",
       "    }\n",
       "\n",
       "    .dataframe tbody tr th {\n",
       "        vertical-align: top;\n",
       "    }\n",
       "\n",
       "    .dataframe thead th {\n",
       "        text-align: right;\n",
       "    }\n",
       "</style>\n",
       "<table border=\"1\" class=\"dataframe\">\n",
       "  <thead>\n",
       "    <tr style=\"text-align: right;\">\n",
       "      <th></th>\n",
       "      <th>total_session_resolved</th>\n",
       "      <th>total_switch_agent</th>\n",
       "      <th>response_count</th>\n",
       "      <th>unsatisfied_count</th>\n",
       "    </tr>\n",
       "  </thead>\n",
       "  <tbody>\n",
       "    <tr>\n",
       "      <th>0</th>\n",
       "      <td>210</td>\n",
       "      <td>46</td>\n",
       "      <td>1</td>\n",
       "      <td>0.0</td>\n",
       "    </tr>\n",
       "    <tr>\n",
       "      <th>1</th>\n",
       "      <td>177</td>\n",
       "      <td>51</td>\n",
       "      <td>0</td>\n",
       "      <td>NaN</td>\n",
       "    </tr>\n",
       "  </tbody>\n",
       "</table>\n",
       "</div>"
      ],
      "text/plain": [
       "   total_session_resolved  total_switch_agent  response_count  \\\n",
       "0                     210                  46               1   \n",
       "1                     177                  51               0   \n",
       "\n",
       "   unsatisfied_count  \n",
       "0                0.0  \n",
       "1                NaN  "
      ]
     },
     "execution_count": 29,
     "metadata": {},
     "output_type": "execute_result"
    }
   ],
   "source": [
    "CPR_df_LC16[['total_session_resolved','total_switch_agent','response_count','unsatisfied_count']].head(2)"
   ]
  },
  {
   "cell_type": "markdown",
   "metadata": {},
   "source": [
    "##### EN"
   ]
  },
  {
   "cell_type": "code",
   "execution_count": 30,
   "metadata": {},
   "outputs": [
    {
     "data": {
      "text/html": [
       "<div>\n",
       "<style scoped>\n",
       "    .dataframe tbody tr th:only-of-type {\n",
       "        vertical-align: middle;\n",
       "    }\n",
       "\n",
       "    .dataframe tbody tr th {\n",
       "        vertical-align: top;\n",
       "    }\n",
       "\n",
       "    .dataframe thead th {\n",
       "        text-align: right;\n",
       "    }\n",
       "</style>\n",
       "<table border=\"1\" class=\"dataframe\">\n",
       "  <thead>\n",
       "    <tr style=\"text-align: right;\">\n",
       "      <th></th>\n",
       "      <th>total_session_resolved</th>\n",
       "      <th>total_switch_agent</th>\n",
       "      <th>response_count</th>\n",
       "      <th>unsatisfied_count</th>\n",
       "    </tr>\n",
       "  </thead>\n",
       "  <tbody>\n",
       "    <tr>\n",
       "      <th>0</th>\n",
       "      <td>604</td>\n",
       "      <td>277</td>\n",
       "      <td>0</td>\n",
       "      <td>NaN</td>\n",
       "    </tr>\n",
       "    <tr>\n",
       "      <th>1</th>\n",
       "      <td>582</td>\n",
       "      <td>140</td>\n",
       "      <td>0</td>\n",
       "      <td>NaN</td>\n",
       "    </tr>\n",
       "  </tbody>\n",
       "</table>\n",
       "</div>"
      ],
      "text/plain": [
       "   total_session_resolved  total_switch_agent  response_count  \\\n",
       "0                     604                 277               0   \n",
       "1                     582                 140               0   \n",
       "\n",
       "   unsatisfied_count  \n",
       "0                NaN  \n",
       "1                NaN  "
      ]
     },
     "execution_count": 30,
     "metadata": {},
     "output_type": "execute_result"
    }
   ],
   "source": [
    "CPR_df_EN16[['total_session_resolved','total_switch_agent','response_count','unsatisfied_count']].head(2)"
   ]
  },
  {
   "cell_type": "markdown",
   "metadata": {},
   "source": [
    "##### Week 17"
   ]
  },
  {
   "cell_type": "markdown",
   "metadata": {},
   "source": [
    "##### LC"
   ]
  },
  {
   "cell_type": "code",
   "execution_count": 31,
   "metadata": {},
   "outputs": [
    {
     "data": {
      "text/html": [
       "<div>\n",
       "<style scoped>\n",
       "    .dataframe tbody tr th:only-of-type {\n",
       "        vertical-align: middle;\n",
       "    }\n",
       "\n",
       "    .dataframe tbody tr th {\n",
       "        vertical-align: top;\n",
       "    }\n",
       "\n",
       "    .dataframe thead th {\n",
       "        text-align: right;\n",
       "    }\n",
       "</style>\n",
       "<table border=\"1\" class=\"dataframe\">\n",
       "  <thead>\n",
       "    <tr style=\"text-align: right;\">\n",
       "      <th></th>\n",
       "      <th>total_session_resolved</th>\n",
       "      <th>total_switch_agent</th>\n",
       "      <th>response_count</th>\n",
       "      <th>unsatisfied_count</th>\n",
       "    </tr>\n",
       "  </thead>\n",
       "  <tbody>\n",
       "    <tr>\n",
       "      <th>0</th>\n",
       "      <td>970</td>\n",
       "      <td>36</td>\n",
       "      <td>0</td>\n",
       "      <td>0.0</td>\n",
       "    </tr>\n",
       "    <tr>\n",
       "      <th>1</th>\n",
       "      <td>816</td>\n",
       "      <td>0</td>\n",
       "      <td>0</td>\n",
       "      <td>0.0</td>\n",
       "    </tr>\n",
       "  </tbody>\n",
       "</table>\n",
       "</div>"
      ],
      "text/plain": [
       "   total_session_resolved  total_switch_agent  response_count  \\\n",
       "0                     970                  36               0   \n",
       "1                     816                   0               0   \n",
       "\n",
       "   unsatisfied_count  \n",
       "0                0.0  \n",
       "1                0.0  "
      ]
     },
     "execution_count": 31,
     "metadata": {},
     "output_type": "execute_result"
    }
   ],
   "source": [
    "CPR_df_LC17[['total_session_resolved','total_switch_agent','response_count','unsatisfied_count']].head(2)"
   ]
  },
  {
   "cell_type": "markdown",
   "metadata": {},
   "source": [
    "##### EN"
   ]
  },
  {
   "cell_type": "code",
   "execution_count": 32,
   "metadata": {},
   "outputs": [
    {
     "data": {
      "text/html": [
       "<div>\n",
       "<style scoped>\n",
       "    .dataframe tbody tr th:only-of-type {\n",
       "        vertical-align: middle;\n",
       "    }\n",
       "\n",
       "    .dataframe tbody tr th {\n",
       "        vertical-align: top;\n",
       "    }\n",
       "\n",
       "    .dataframe thead th {\n",
       "        text-align: right;\n",
       "    }\n",
       "</style>\n",
       "<table border=\"1\" class=\"dataframe\">\n",
       "  <thead>\n",
       "    <tr style=\"text-align: right;\">\n",
       "      <th></th>\n",
       "      <th>total_session_resolved</th>\n",
       "      <th>total_switch_agent</th>\n",
       "      <th>response_count</th>\n",
       "      <th>unsatisfied_count</th>\n",
       "    </tr>\n",
       "  </thead>\n",
       "  <tbody>\n",
       "    <tr>\n",
       "      <th>0</th>\n",
       "      <td>1284</td>\n",
       "      <td>49</td>\n",
       "      <td>0</td>\n",
       "      <td>NaN</td>\n",
       "    </tr>\n",
       "    <tr>\n",
       "      <th>1</th>\n",
       "      <td>1237</td>\n",
       "      <td>58</td>\n",
       "      <td>0</td>\n",
       "      <td>NaN</td>\n",
       "    </tr>\n",
       "  </tbody>\n",
       "</table>\n",
       "</div>"
      ],
      "text/plain": [
       "   total_session_resolved  total_switch_agent  response_count  \\\n",
       "0                    1284                  49               0   \n",
       "1                    1237                  58               0   \n",
       "\n",
       "   unsatisfied_count  \n",
       "0                NaN  \n",
       "1                NaN  "
      ]
     },
     "execution_count": 32,
     "metadata": {},
     "output_type": "execute_result"
    }
   ],
   "source": [
    "CPR_df_EN17[['total_session_resolved','total_switch_agent','response_count','unsatisfied_count']].head(2)"
   ]
  },
  {
   "cell_type": "markdown",
   "metadata": {},
   "source": [
    "##### Week 16"
   ]
  },
  {
   "cell_type": "markdown",
   "metadata": {},
   "source": [
    "##### LC"
   ]
  },
  {
   "cell_type": "code",
   "execution_count": 33,
   "metadata": {},
   "outputs": [],
   "source": [
    "CPR_df_LC16['unsatisfied_count'] = CPR_df_LC16['unsatisfied_count'].fillna(0)"
   ]
  },
  {
   "cell_type": "markdown",
   "metadata": {},
   "source": [
    "##### EN"
   ]
  },
  {
   "cell_type": "code",
   "execution_count": 34,
   "metadata": {},
   "outputs": [],
   "source": [
    "CPR_df_EN16['unsatisfied_count'] = CPR_df_EN16['unsatisfied_count'].fillna(0)"
   ]
  },
  {
   "cell_type": "markdown",
   "metadata": {},
   "source": [
    "##### Week 17"
   ]
  },
  {
   "cell_type": "markdown",
   "metadata": {},
   "source": [
    "##### LC"
   ]
  },
  {
   "cell_type": "code",
   "execution_count": 35,
   "metadata": {},
   "outputs": [],
   "source": [
    "CPR_df_LC17['unsatisfied_count'] = CPR_df_LC17['unsatisfied_count'].fillna(0)"
   ]
  },
  {
   "cell_type": "markdown",
   "metadata": {},
   "source": [
    "##### EN"
   ]
  },
  {
   "cell_type": "code",
   "execution_count": 36,
   "metadata": {},
   "outputs": [],
   "source": [
    "CPR_df_EN17['unsatisfied_count'] = CPR_df_EN17['unsatisfied_count'].fillna(0)"
   ]
  },
  {
   "cell_type": "markdown",
   "metadata": {},
   "source": [
    "##### Week 16"
   ]
  },
  {
   "cell_type": "markdown",
   "metadata": {},
   "source": [
    "##### LC"
   ]
  },
  {
   "cell_type": "code",
   "execution_count": 37,
   "metadata": {},
   "outputs": [
    {
     "data": {
      "text/html": [
       "<div>\n",
       "<style scoped>\n",
       "    .dataframe tbody tr th:only-of-type {\n",
       "        vertical-align: middle;\n",
       "    }\n",
       "\n",
       "    .dataframe tbody tr th {\n",
       "        vertical-align: top;\n",
       "    }\n",
       "\n",
       "    .dataframe thead th {\n",
       "        text-align: right;\n",
       "    }\n",
       "</style>\n",
       "<table border=\"1\" class=\"dataframe\">\n",
       "  <thead>\n",
       "    <tr style=\"text-align: right;\">\n",
       "      <th></th>\n",
       "      <th>total_session_resolved</th>\n",
       "      <th>total_switch_agent</th>\n",
       "      <th>response_count</th>\n",
       "      <th>unsatisfied_count</th>\n",
       "    </tr>\n",
       "  </thead>\n",
       "  <tbody>\n",
       "    <tr>\n",
       "      <th>0</th>\n",
       "      <td>210</td>\n",
       "      <td>46</td>\n",
       "      <td>1</td>\n",
       "      <td>0.000000</td>\n",
       "    </tr>\n",
       "    <tr>\n",
       "      <th>1</th>\n",
       "      <td>177</td>\n",
       "      <td>51</td>\n",
       "      <td>0</td>\n",
       "      <td>0.000000</td>\n",
       "    </tr>\n",
       "    <tr>\n",
       "      <th>2</th>\n",
       "      <td>196</td>\n",
       "      <td>35</td>\n",
       "      <td>2</td>\n",
       "      <td>2.000000</td>\n",
       "    </tr>\n",
       "    <tr>\n",
       "      <th>3</th>\n",
       "      <td>159</td>\n",
       "      <td>35</td>\n",
       "      <td>2</td>\n",
       "      <td>0.666667</td>\n",
       "    </tr>\n",
       "    <tr>\n",
       "      <th>4</th>\n",
       "      <td>148</td>\n",
       "      <td>42</td>\n",
       "      <td>4</td>\n",
       "      <td>1.600000</td>\n",
       "    </tr>\n",
       "    <tr>\n",
       "      <th>...</th>\n",
       "      <td>...</td>\n",
       "      <td>...</td>\n",
       "      <td>...</td>\n",
       "      <td>...</td>\n",
       "    </tr>\n",
       "    <tr>\n",
       "      <th>1552</th>\n",
       "      <td>1</td>\n",
       "      <td>0</td>\n",
       "      <td>0</td>\n",
       "      <td>0.000000</td>\n",
       "    </tr>\n",
       "    <tr>\n",
       "      <th>1553</th>\n",
       "      <td>1</td>\n",
       "      <td>0</td>\n",
       "      <td>0</td>\n",
       "      <td>0.000000</td>\n",
       "    </tr>\n",
       "    <tr>\n",
       "      <th>1554</th>\n",
       "      <td>0</td>\n",
       "      <td>0</td>\n",
       "      <td>0</td>\n",
       "      <td>0.000000</td>\n",
       "    </tr>\n",
       "    <tr>\n",
       "      <th>1555</th>\n",
       "      <td>1</td>\n",
       "      <td>0</td>\n",
       "      <td>0</td>\n",
       "      <td>0.000000</td>\n",
       "    </tr>\n",
       "    <tr>\n",
       "      <th>1556</th>\n",
       "      <td>0</td>\n",
       "      <td>0</td>\n",
       "      <td>0</td>\n",
       "      <td>0.000000</td>\n",
       "    </tr>\n",
       "  </tbody>\n",
       "</table>\n",
       "<p>1557 rows × 4 columns</p>\n",
       "</div>"
      ],
      "text/plain": [
       "      total_session_resolved  total_switch_agent  response_count  \\\n",
       "0                        210                  46               1   \n",
       "1                        177                  51               0   \n",
       "2                        196                  35               2   \n",
       "3                        159                  35               2   \n",
       "4                        148                  42               4   \n",
       "...                      ...                 ...             ...   \n",
       "1552                       1                   0               0   \n",
       "1553                       1                   0               0   \n",
       "1554                       0                   0               0   \n",
       "1555                       1                   0               0   \n",
       "1556                       0                   0               0   \n",
       "\n",
       "      unsatisfied_count  \n",
       "0              0.000000  \n",
       "1              0.000000  \n",
       "2              2.000000  \n",
       "3              0.666667  \n",
       "4              1.600000  \n",
       "...                 ...  \n",
       "1552           0.000000  \n",
       "1553           0.000000  \n",
       "1554           0.000000  \n",
       "1555           0.000000  \n",
       "1556           0.000000  \n",
       "\n",
       "[1557 rows x 4 columns]"
      ]
     },
     "execution_count": 37,
     "metadata": {},
     "output_type": "execute_result"
    }
   ],
   "source": [
    "CPR_df_LC16[['total_session_resolved','total_switch_agent','response_count','unsatisfied_count']]"
   ]
  },
  {
   "cell_type": "markdown",
   "metadata": {},
   "source": [
    "##### EN"
   ]
  },
  {
   "cell_type": "code",
   "execution_count": 38,
   "metadata": {},
   "outputs": [
    {
     "data": {
      "text/html": [
       "<div>\n",
       "<style scoped>\n",
       "    .dataframe tbody tr th:only-of-type {\n",
       "        vertical-align: middle;\n",
       "    }\n",
       "\n",
       "    .dataframe tbody tr th {\n",
       "        vertical-align: top;\n",
       "    }\n",
       "\n",
       "    .dataframe thead th {\n",
       "        text-align: right;\n",
       "    }\n",
       "</style>\n",
       "<table border=\"1\" class=\"dataframe\">\n",
       "  <thead>\n",
       "    <tr style=\"text-align: right;\">\n",
       "      <th></th>\n",
       "      <th>total_session_resolved</th>\n",
       "      <th>total_switch_agent</th>\n",
       "      <th>response_count</th>\n",
       "      <th>unsatisfied_count</th>\n",
       "    </tr>\n",
       "  </thead>\n",
       "  <tbody>\n",
       "    <tr>\n",
       "      <th>0</th>\n",
       "      <td>604</td>\n",
       "      <td>277</td>\n",
       "      <td>0</td>\n",
       "      <td>0.0</td>\n",
       "    </tr>\n",
       "    <tr>\n",
       "      <th>1</th>\n",
       "      <td>582</td>\n",
       "      <td>140</td>\n",
       "      <td>0</td>\n",
       "      <td>0.0</td>\n",
       "    </tr>\n",
       "    <tr>\n",
       "      <th>2</th>\n",
       "      <td>1051</td>\n",
       "      <td>42</td>\n",
       "      <td>0</td>\n",
       "      <td>0.0</td>\n",
       "    </tr>\n",
       "    <tr>\n",
       "      <th>3</th>\n",
       "      <td>496</td>\n",
       "      <td>273</td>\n",
       "      <td>0</td>\n",
       "      <td>0.0</td>\n",
       "    </tr>\n",
       "    <tr>\n",
       "      <th>4</th>\n",
       "      <td>471</td>\n",
       "      <td>298</td>\n",
       "      <td>0</td>\n",
       "      <td>0.0</td>\n",
       "    </tr>\n",
       "    <tr>\n",
       "      <th>...</th>\n",
       "      <td>...</td>\n",
       "      <td>...</td>\n",
       "      <td>...</td>\n",
       "      <td>...</td>\n",
       "    </tr>\n",
       "    <tr>\n",
       "      <th>6032</th>\n",
       "      <td>1</td>\n",
       "      <td>0</td>\n",
       "      <td>0</td>\n",
       "      <td>0.0</td>\n",
       "    </tr>\n",
       "    <tr>\n",
       "      <th>6033</th>\n",
       "      <td>1</td>\n",
       "      <td>0</td>\n",
       "      <td>0</td>\n",
       "      <td>0.0</td>\n",
       "    </tr>\n",
       "    <tr>\n",
       "      <th>6034</th>\n",
       "      <td>1</td>\n",
       "      <td>0</td>\n",
       "      <td>0</td>\n",
       "      <td>0.0</td>\n",
       "    </tr>\n",
       "    <tr>\n",
       "      <th>6035</th>\n",
       "      <td>1</td>\n",
       "      <td>0</td>\n",
       "      <td>1</td>\n",
       "      <td>0.0</td>\n",
       "    </tr>\n",
       "    <tr>\n",
       "      <th>6036</th>\n",
       "      <td>1</td>\n",
       "      <td>0</td>\n",
       "      <td>0</td>\n",
       "      <td>0.0</td>\n",
       "    </tr>\n",
       "  </tbody>\n",
       "</table>\n",
       "<p>6037 rows × 4 columns</p>\n",
       "</div>"
      ],
      "text/plain": [
       "      total_session_resolved  total_switch_agent  response_count  \\\n",
       "0                        604                 277               0   \n",
       "1                        582                 140               0   \n",
       "2                       1051                  42               0   \n",
       "3                        496                 273               0   \n",
       "4                        471                 298               0   \n",
       "...                      ...                 ...             ...   \n",
       "6032                       1                   0               0   \n",
       "6033                       1                   0               0   \n",
       "6034                       1                   0               0   \n",
       "6035                       1                   0               1   \n",
       "6036                       1                   0               0   \n",
       "\n",
       "      unsatisfied_count  \n",
       "0                   0.0  \n",
       "1                   0.0  \n",
       "2                   0.0  \n",
       "3                   0.0  \n",
       "4                   0.0  \n",
       "...                 ...  \n",
       "6032                0.0  \n",
       "6033                0.0  \n",
       "6034                0.0  \n",
       "6035                0.0  \n",
       "6036                0.0  \n",
       "\n",
       "[6037 rows x 4 columns]"
      ]
     },
     "execution_count": 38,
     "metadata": {},
     "output_type": "execute_result"
    }
   ],
   "source": [
    "CPR_df_EN16[['total_session_resolved','total_switch_agent','response_count','unsatisfied_count']]"
   ]
  },
  {
   "cell_type": "markdown",
   "metadata": {},
   "source": [
    "##### Week 17"
   ]
  },
  {
   "cell_type": "code",
   "execution_count": 39,
   "metadata": {},
   "outputs": [
    {
     "data": {
      "text/html": [
       "<div>\n",
       "<style scoped>\n",
       "    .dataframe tbody tr th:only-of-type {\n",
       "        vertical-align: middle;\n",
       "    }\n",
       "\n",
       "    .dataframe tbody tr th {\n",
       "        vertical-align: top;\n",
       "    }\n",
       "\n",
       "    .dataframe thead th {\n",
       "        text-align: right;\n",
       "    }\n",
       "</style>\n",
       "<table border=\"1\" class=\"dataframe\">\n",
       "  <thead>\n",
       "    <tr style=\"text-align: right;\">\n",
       "      <th></th>\n",
       "      <th>total_session_resolved</th>\n",
       "      <th>total_switch_agent</th>\n",
       "      <th>response_count</th>\n",
       "      <th>unsatisfied_count</th>\n",
       "    </tr>\n",
       "  </thead>\n",
       "  <tbody>\n",
       "    <tr>\n",
       "      <th>0</th>\n",
       "      <td>970</td>\n",
       "      <td>36</td>\n",
       "      <td>0</td>\n",
       "      <td>0.0</td>\n",
       "    </tr>\n",
       "    <tr>\n",
       "      <th>1</th>\n",
       "      <td>816</td>\n",
       "      <td>0</td>\n",
       "      <td>0</td>\n",
       "      <td>0.0</td>\n",
       "    </tr>\n",
       "    <tr>\n",
       "      <th>2</th>\n",
       "      <td>822</td>\n",
       "      <td>23</td>\n",
       "      <td>0</td>\n",
       "      <td>0.0</td>\n",
       "    </tr>\n",
       "    <tr>\n",
       "      <th>3</th>\n",
       "      <td>687</td>\n",
       "      <td>75</td>\n",
       "      <td>0</td>\n",
       "      <td>0.0</td>\n",
       "    </tr>\n",
       "    <tr>\n",
       "      <th>4</th>\n",
       "      <td>658</td>\n",
       "      <td>78</td>\n",
       "      <td>0</td>\n",
       "      <td>0.0</td>\n",
       "    </tr>\n",
       "    <tr>\n",
       "      <th>...</th>\n",
       "      <td>...</td>\n",
       "      <td>...</td>\n",
       "      <td>...</td>\n",
       "      <td>...</td>\n",
       "    </tr>\n",
       "    <tr>\n",
       "      <th>2363</th>\n",
       "      <td>0</td>\n",
       "      <td>0</td>\n",
       "      <td>0</td>\n",
       "      <td>0.0</td>\n",
       "    </tr>\n",
       "    <tr>\n",
       "      <th>2364</th>\n",
       "      <td>1</td>\n",
       "      <td>0</td>\n",
       "      <td>0</td>\n",
       "      <td>0.0</td>\n",
       "    </tr>\n",
       "    <tr>\n",
       "      <th>2365</th>\n",
       "      <td>1</td>\n",
       "      <td>0</td>\n",
       "      <td>0</td>\n",
       "      <td>0.0</td>\n",
       "    </tr>\n",
       "    <tr>\n",
       "      <th>2366</th>\n",
       "      <td>0</td>\n",
       "      <td>0</td>\n",
       "      <td>0</td>\n",
       "      <td>0.0</td>\n",
       "    </tr>\n",
       "    <tr>\n",
       "      <th>2367</th>\n",
       "      <td>1</td>\n",
       "      <td>0</td>\n",
       "      <td>0</td>\n",
       "      <td>0.0</td>\n",
       "    </tr>\n",
       "  </tbody>\n",
       "</table>\n",
       "<p>2368 rows × 4 columns</p>\n",
       "</div>"
      ],
      "text/plain": [
       "      total_session_resolved  total_switch_agent  response_count  \\\n",
       "0                        970                  36               0   \n",
       "1                        816                   0               0   \n",
       "2                        822                  23               0   \n",
       "3                        687                  75               0   \n",
       "4                        658                  78               0   \n",
       "...                      ...                 ...             ...   \n",
       "2363                       0                   0               0   \n",
       "2364                       1                   0               0   \n",
       "2365                       1                   0               0   \n",
       "2366                       0                   0               0   \n",
       "2367                       1                   0               0   \n",
       "\n",
       "      unsatisfied_count  \n",
       "0                   0.0  \n",
       "1                   0.0  \n",
       "2                   0.0  \n",
       "3                   0.0  \n",
       "4                   0.0  \n",
       "...                 ...  \n",
       "2363                0.0  \n",
       "2364                0.0  \n",
       "2365                0.0  \n",
       "2366                0.0  \n",
       "2367                0.0  \n",
       "\n",
       "[2368 rows x 4 columns]"
      ]
     },
     "execution_count": 39,
     "metadata": {},
     "output_type": "execute_result"
    }
   ],
   "source": [
    "CPR_df_LC17[['total_session_resolved','total_switch_agent','response_count','unsatisfied_count']]"
   ]
  },
  {
   "cell_type": "code",
   "execution_count": 40,
   "metadata": {},
   "outputs": [
    {
     "data": {
      "text/html": [
       "<div>\n",
       "<style scoped>\n",
       "    .dataframe tbody tr th:only-of-type {\n",
       "        vertical-align: middle;\n",
       "    }\n",
       "\n",
       "    .dataframe tbody tr th {\n",
       "        vertical-align: top;\n",
       "    }\n",
       "\n",
       "    .dataframe thead th {\n",
       "        text-align: right;\n",
       "    }\n",
       "</style>\n",
       "<table border=\"1\" class=\"dataframe\">\n",
       "  <thead>\n",
       "    <tr style=\"text-align: right;\">\n",
       "      <th></th>\n",
       "      <th>total_session_resolved</th>\n",
       "      <th>total_switch_agent</th>\n",
       "      <th>response_count</th>\n",
       "      <th>unsatisfied_count</th>\n",
       "    </tr>\n",
       "  </thead>\n",
       "  <tbody>\n",
       "    <tr>\n",
       "      <th>0</th>\n",
       "      <td>1284</td>\n",
       "      <td>49</td>\n",
       "      <td>0</td>\n",
       "      <td>0.0</td>\n",
       "    </tr>\n",
       "    <tr>\n",
       "      <th>1</th>\n",
       "      <td>1237</td>\n",
       "      <td>58</td>\n",
       "      <td>0</td>\n",
       "      <td>0.0</td>\n",
       "    </tr>\n",
       "    <tr>\n",
       "      <th>2</th>\n",
       "      <td>1262</td>\n",
       "      <td>49</td>\n",
       "      <td>0</td>\n",
       "      <td>0.0</td>\n",
       "    </tr>\n",
       "    <tr>\n",
       "      <th>3</th>\n",
       "      <td>579</td>\n",
       "      <td>0</td>\n",
       "      <td>0</td>\n",
       "      <td>0.0</td>\n",
       "    </tr>\n",
       "    <tr>\n",
       "      <th>4</th>\n",
       "      <td>1123</td>\n",
       "      <td>50</td>\n",
       "      <td>0</td>\n",
       "      <td>0.0</td>\n",
       "    </tr>\n",
       "    <tr>\n",
       "      <th>...</th>\n",
       "      <td>...</td>\n",
       "      <td>...</td>\n",
       "      <td>...</td>\n",
       "      <td>...</td>\n",
       "    </tr>\n",
       "    <tr>\n",
       "      <th>5694</th>\n",
       "      <td>1</td>\n",
       "      <td>0</td>\n",
       "      <td>0</td>\n",
       "      <td>0.0</td>\n",
       "    </tr>\n",
       "    <tr>\n",
       "      <th>5695</th>\n",
       "      <td>1</td>\n",
       "      <td>0</td>\n",
       "      <td>0</td>\n",
       "      <td>0.0</td>\n",
       "    </tr>\n",
       "    <tr>\n",
       "      <th>5696</th>\n",
       "      <td>0</td>\n",
       "      <td>1</td>\n",
       "      <td>0</td>\n",
       "      <td>0.0</td>\n",
       "    </tr>\n",
       "    <tr>\n",
       "      <th>5697</th>\n",
       "      <td>0</td>\n",
       "      <td>1</td>\n",
       "      <td>0</td>\n",
       "      <td>0.0</td>\n",
       "    </tr>\n",
       "    <tr>\n",
       "      <th>5698</th>\n",
       "      <td>0</td>\n",
       "      <td>1</td>\n",
       "      <td>0</td>\n",
       "      <td>0.0</td>\n",
       "    </tr>\n",
       "  </tbody>\n",
       "</table>\n",
       "<p>5699 rows × 4 columns</p>\n",
       "</div>"
      ],
      "text/plain": [
       "      total_session_resolved  total_switch_agent  response_count  \\\n",
       "0                       1284                  49               0   \n",
       "1                       1237                  58               0   \n",
       "2                       1262                  49               0   \n",
       "3                        579                   0               0   \n",
       "4                       1123                  50               0   \n",
       "...                      ...                 ...             ...   \n",
       "5694                       1                   0               0   \n",
       "5695                       1                   0               0   \n",
       "5696                       0                   1               0   \n",
       "5697                       0                   1               0   \n",
       "5698                       0                   1               0   \n",
       "\n",
       "      unsatisfied_count  \n",
       "0                   0.0  \n",
       "1                   0.0  \n",
       "2                   0.0  \n",
       "3                   0.0  \n",
       "4                   0.0  \n",
       "...                 ...  \n",
       "5694                0.0  \n",
       "5695                0.0  \n",
       "5696                0.0  \n",
       "5697                0.0  \n",
       "5698                0.0  \n",
       "\n",
       "[5699 rows x 4 columns]"
      ]
     },
     "execution_count": 40,
     "metadata": {},
     "output_type": "execute_result"
    }
   ],
   "source": [
    "CPR_df_EN17[['total_session_resolved','total_switch_agent','response_count','unsatisfied_count']]"
   ]
  },
  {
   "cell_type": "markdown",
   "metadata": {},
   "source": [
    "### Creating a Pivot Table"
   ]
  },
  {
   "cell_type": "markdown",
   "metadata": {},
   "source": [
    "##### Week 16"
   ]
  },
  {
   "cell_type": "markdown",
   "metadata": {},
   "source": [
    "##### LC"
   ]
  },
  {
   "cell_type": "code",
   "execution_count": 41,
   "metadata": {},
   "outputs": [],
   "source": [
    "CPR_df_LC_pivottable16 = pd.pivot_table(CPR_df_LC16, values = ['Chats','sid_cnt','total_session_resolved','total_switch_agent','unsatisfied_count'],\n",
    "                       index= ['Knowledge Name'], aggfunc = np.sum)"
   ]
  },
  {
   "cell_type": "markdown",
   "metadata": {},
   "source": [
    "##### EN"
   ]
  },
  {
   "cell_type": "code",
   "execution_count": 42,
   "metadata": {},
   "outputs": [],
   "source": [
    "CPR_df_EN_pivottable16 = pd.pivot_table(CPR_df_EN16, values = ['Chats','sid_cnt','total_session_resolved','total_switch_agent','unsatisfied_count'],\n",
    "                       index= ['Knowledge Name'], aggfunc = np.sum)"
   ]
  },
  {
   "cell_type": "markdown",
   "metadata": {},
   "source": [
    "##### Week 17"
   ]
  },
  {
   "cell_type": "code",
   "execution_count": 43,
   "metadata": {},
   "outputs": [],
   "source": [
    "CPR_df_LC_pivottable17 = pd.pivot_table(CPR_df_LC17, values = ['Chats','sid_cnt','total_session_resolved','total_switch_agent','unsatisfied_count'],\n",
    "                       index= ['Knowledge Name'], aggfunc = np.sum)"
   ]
  },
  {
   "cell_type": "code",
   "execution_count": 44,
   "metadata": {},
   "outputs": [],
   "source": [
    "CPR_df_EN_pivottable17 = pd.pivot_table(CPR_df_EN17, values = ['Chats','sid_cnt','total_session_resolved','total_switch_agent','unsatisfied_count'],\n",
    "                       index= ['Knowledge Name'], aggfunc = np.sum)"
   ]
  },
  {
   "cell_type": "code",
   "execution_count": 45,
   "metadata": {},
   "outputs": [
    {
     "data": {
      "text/html": [
       "<div>\n",
       "<style scoped>\n",
       "    .dataframe tbody tr th:only-of-type {\n",
       "        vertical-align: middle;\n",
       "    }\n",
       "\n",
       "    .dataframe tbody tr th {\n",
       "        vertical-align: top;\n",
       "    }\n",
       "\n",
       "    .dataframe thead th {\n",
       "        text-align: right;\n",
       "    }\n",
       "</style>\n",
       "<table border=\"1\" class=\"dataframe\">\n",
       "  <thead>\n",
       "    <tr style=\"text-align: right;\">\n",
       "      <th></th>\n",
       "      <th>Chats</th>\n",
       "      <th>sid_cnt</th>\n",
       "      <th>total_session_resolved</th>\n",
       "      <th>total_switch_agent</th>\n",
       "      <th>unsatisfied_count</th>\n",
       "    </tr>\n",
       "    <tr>\n",
       "      <th>Knowledge Name</th>\n",
       "      <th></th>\n",
       "      <th></th>\n",
       "      <th></th>\n",
       "      <th></th>\n",
       "      <th></th>\n",
       "    </tr>\n",
       "  </thead>\n",
       "  <tbody>\n",
       "    <tr>\n",
       "      <th>Local_SOP_testing_C1 (Local)</th>\n",
       "      <td>12</td>\n",
       "      <td>11</td>\n",
       "      <td>7</td>\n",
       "      <td>1</td>\n",
       "      <td>0.0</td>\n",
       "    </tr>\n",
       "    <tr>\n",
       "      <th>Local_SOP_testing_C2 (Local)</th>\n",
       "      <td>28</td>\n",
       "      <td>24</td>\n",
       "      <td>16</td>\n",
       "      <td>3</td>\n",
       "      <td>0.0</td>\n",
       "    </tr>\n",
       "    <tr>\n",
       "      <th>Local_SOP_testing_R1 (Local)</th>\n",
       "      <td>6</td>\n",
       "      <td>5</td>\n",
       "      <td>1</td>\n",
       "      <td>2</td>\n",
       "      <td>1.0</td>\n",
       "    </tr>\n",
       "    <tr>\n",
       "      <th>Local_SOP_testing_R2 (Local)</th>\n",
       "      <td>16</td>\n",
       "      <td>14</td>\n",
       "      <td>8</td>\n",
       "      <td>3</td>\n",
       "      <td>1.0</td>\n",
       "    </tr>\n",
       "    <tr>\n",
       "      <th>Local_SOP_testing_R4 (Local)</th>\n",
       "      <td>25</td>\n",
       "      <td>15</td>\n",
       "      <td>10</td>\n",
       "      <td>2</td>\n",
       "      <td>0.0</td>\n",
       "    </tr>\n",
       "    <tr>\n",
       "      <th>...</th>\n",
       "      <td>...</td>\n",
       "      <td>...</td>\n",
       "      <td>...</td>\n",
       "      <td>...</td>\n",
       "      <td>...</td>\n",
       "    </tr>\n",
       "    <tr>\n",
       "      <th>স্টিকার প্রাইস কিভাবে অ্যাভেইল করবো?</th>\n",
       "      <td>5</td>\n",
       "      <td>5</td>\n",
       "      <td>4</td>\n",
       "      <td>1</td>\n",
       "      <td>0.0</td>\n",
       "    </tr>\n",
       "    <tr>\n",
       "      <th>হট ডিলস অফার কি ?</th>\n",
       "      <td>2</td>\n",
       "      <td>2</td>\n",
       "      <td>0</td>\n",
       "      <td>1</td>\n",
       "      <td>0.0</td>\n",
       "    </tr>\n",
       "    <tr>\n",
       "      <th>১ টাকার গেম কিভাবে খেলবো ?</th>\n",
       "      <td>1</td>\n",
       "      <td>1</td>\n",
       "      <td>1</td>\n",
       "      <td>0</td>\n",
       "      <td>0.0</td>\n",
       "    </tr>\n",
       "    <tr>\n",
       "      <th>১১ ও ক্লক ডিলস কী?</th>\n",
       "      <td>5</td>\n",
       "      <td>5</td>\n",
       "      <td>4</td>\n",
       "      <td>0</td>\n",
       "      <td>1.0</td>\n",
       "    </tr>\n",
       "    <tr>\n",
       "      <th>৭ দিন হয়ে গেছে এখনো আমার টাকা পাচ্ছি না রিফান্ড কবে পাবো</th>\n",
       "      <td>2</td>\n",
       "      <td>2</td>\n",
       "      <td>0</td>\n",
       "      <td>2</td>\n",
       "      <td>0.0</td>\n",
       "    </tr>\n",
       "  </tbody>\n",
       "</table>\n",
       "<p>312 rows × 5 columns</p>\n",
       "</div>"
      ],
      "text/plain": [
       "                                                    Chats  sid_cnt  \\\n",
       "Knowledge Name                                                       \n",
       "Local_SOP_testing_C1 (Local)                           12       11   \n",
       "Local_SOP_testing_C2 (Local)                           28       24   \n",
       "Local_SOP_testing_R1 (Local)                            6        5   \n",
       "Local_SOP_testing_R2 (Local)                           16       14   \n",
       "Local_SOP_testing_R4 (Local)                           25       15   \n",
       "...                                                   ...      ...   \n",
       "স্টিকার প্রাইস কিভাবে অ্যাভেইল করবো?                    5        5   \n",
       "হট ডিলস অফার কি ?                                       2        2   \n",
       "১ টাকার গেম কিভাবে খেলবো ?                              1        1   \n",
       "১১ ও ক্লক ডিলস কী?                                      5        5   \n",
       "৭ দিন হয়ে গেছে এখনো আমার টাকা পাচ্ছি না রিফান্ড...      2        2   \n",
       "\n",
       "                                                    total_session_resolved  \\\n",
       "Knowledge Name                                                               \n",
       "Local_SOP_testing_C1 (Local)                                             7   \n",
       "Local_SOP_testing_C2 (Local)                                            16   \n",
       "Local_SOP_testing_R1 (Local)                                             1   \n",
       "Local_SOP_testing_R2 (Local)                                             8   \n",
       "Local_SOP_testing_R4 (Local)                                            10   \n",
       "...                                                                    ...   \n",
       "স্টিকার প্রাইস কিভাবে অ্যাভেইল করবো?                                     4   \n",
       "হট ডিলস অফার কি ?                                                        0   \n",
       "১ টাকার গেম কিভাবে খেলবো ?                                               1   \n",
       "১১ ও ক্লক ডিলস কী?                                                       4   \n",
       "৭ দিন হয়ে গেছে এখনো আমার টাকা পাচ্ছি না রিফান্ড...                       0   \n",
       "\n",
       "                                                    total_switch_agent  \\\n",
       "Knowledge Name                                                           \n",
       "Local_SOP_testing_C1 (Local)                                         1   \n",
       "Local_SOP_testing_C2 (Local)                                         3   \n",
       "Local_SOP_testing_R1 (Local)                                         2   \n",
       "Local_SOP_testing_R2 (Local)                                         3   \n",
       "Local_SOP_testing_R4 (Local)                                         2   \n",
       "...                                                                ...   \n",
       "স্টিকার প্রাইস কিভাবে অ্যাভেইল করবো?                                 1   \n",
       "হট ডিলস অফার কি ?                                                    1   \n",
       "১ টাকার গেম কিভাবে খেলবো ?                                           0   \n",
       "১১ ও ক্লক ডিলস কী?                                                   0   \n",
       "৭ দিন হয়ে গেছে এখনো আমার টাকা পাচ্ছি না রিফান্ড...                   2   \n",
       "\n",
       "                                                    unsatisfied_count  \n",
       "Knowledge Name                                                         \n",
       "Local_SOP_testing_C1 (Local)                                      0.0  \n",
       "Local_SOP_testing_C2 (Local)                                      0.0  \n",
       "Local_SOP_testing_R1 (Local)                                      1.0  \n",
       "Local_SOP_testing_R2 (Local)                                      1.0  \n",
       "Local_SOP_testing_R4 (Local)                                      0.0  \n",
       "...                                                               ...  \n",
       "স্টিকার প্রাইস কিভাবে অ্যাভেইল করবো?                              0.0  \n",
       "হট ডিলস অফার কি ?                                                 0.0  \n",
       "১ টাকার গেম কিভাবে খেলবো ?                                        0.0  \n",
       "১১ ও ক্লক ডিলস কী?                                                1.0  \n",
       "৭ দিন হয়ে গেছে এখনো আমার টাকা পাচ্ছি না রিফান্ড...                0.0  \n",
       "\n",
       "[312 rows x 5 columns]"
      ]
     },
     "metadata": {},
     "output_type": "display_data"
    },
    {
     "data": {
      "text/html": [
       "<div>\n",
       "<style scoped>\n",
       "    .dataframe tbody tr th:only-of-type {\n",
       "        vertical-align: middle;\n",
       "    }\n",
       "\n",
       "    .dataframe tbody tr th {\n",
       "        vertical-align: top;\n",
       "    }\n",
       "\n",
       "    .dataframe thead th {\n",
       "        text-align: right;\n",
       "    }\n",
       "</style>\n",
       "<table border=\"1\" class=\"dataframe\">\n",
       "  <thead>\n",
       "    <tr style=\"text-align: right;\">\n",
       "      <th></th>\n",
       "      <th>Chats</th>\n",
       "      <th>sid_cnt</th>\n",
       "      <th>total_session_resolved</th>\n",
       "      <th>total_switch_agent</th>\n",
       "      <th>unsatisfied_count</th>\n",
       "    </tr>\n",
       "    <tr>\n",
       "      <th>Knowledge Name</th>\n",
       "      <th></th>\n",
       "      <th></th>\n",
       "      <th></th>\n",
       "      <th></th>\n",
       "      <th></th>\n",
       "    </tr>\n",
       "  </thead>\n",
       "  <tbody>\n",
       "    <tr>\n",
       "      <th>Account management related query</th>\n",
       "      <td>339</td>\n",
       "      <td>320</td>\n",
       "      <td>194</td>\n",
       "      <td>103</td>\n",
       "      <td>0.0</td>\n",
       "    </tr>\n",
       "    <tr>\n",
       "      <th>Account management shongkranto query</th>\n",
       "      <td>62</td>\n",
       "      <td>58</td>\n",
       "      <td>37</td>\n",
       "      <td>19</td>\n",
       "      <td>0.0</td>\n",
       "    </tr>\n",
       "    <tr>\n",
       "      <th>Add to Cart offer ti kibhabe pabo</th>\n",
       "      <td>1</td>\n",
       "      <td>1</td>\n",
       "      <td>1</td>\n",
       "      <td>0</td>\n",
       "      <td>0.0</td>\n",
       "    </tr>\n",
       "    <tr>\n",
       "      <th>After returning the item how much time is needed to get the refund</th>\n",
       "      <td>1</td>\n",
       "      <td>1</td>\n",
       "      <td>1</td>\n",
       "      <td>0</td>\n",
       "      <td>0.0</td>\n",
       "    </tr>\n",
       "    <tr>\n",
       "      <th>Alada delivery charge keno neya hoy shob ponner jonno</th>\n",
       "      <td>76</td>\n",
       "      <td>75</td>\n",
       "      <td>69</td>\n",
       "      <td>0</td>\n",
       "      <td>1.0</td>\n",
       "    </tr>\n",
       "    <tr>\n",
       "      <th>...</th>\n",
       "      <td>...</td>\n",
       "      <td>...</td>\n",
       "      <td>...</td>\n",
       "      <td>...</td>\n",
       "      <td>...</td>\n",
       "    </tr>\n",
       "    <tr>\n",
       "      <th>refund voucher er timeline koto</th>\n",
       "      <td>7</td>\n",
       "      <td>7</td>\n",
       "      <td>6</td>\n",
       "      <td>1</td>\n",
       "      <td>0.0</td>\n",
       "    </tr>\n",
       "    <tr>\n",
       "      <th>return er karonti jodi valid na hoy tokhon ki hobe</th>\n",
       "      <td>11</td>\n",
       "      <td>11</td>\n",
       "      <td>8</td>\n",
       "      <td>1</td>\n",
       "      <td>0.0</td>\n",
       "    </tr>\n",
       "    <tr>\n",
       "      <th>return-postmatch</th>\n",
       "      <td>46</td>\n",
       "      <td>46</td>\n",
       "      <td>40</td>\n",
       "      <td>1</td>\n",
       "      <td>1.0</td>\n",
       "    </tr>\n",
       "    <tr>\n",
       "      <th>test_daraz_bd</th>\n",
       "      <td>5</td>\n",
       "      <td>5</td>\n",
       "      <td>5</td>\n",
       "      <td>0</td>\n",
       "      <td>0.0</td>\n",
       "    </tr>\n",
       "    <tr>\n",
       "      <th>when will i get my refund</th>\n",
       "      <td>1</td>\n",
       "      <td>1</td>\n",
       "      <td>1</td>\n",
       "      <td>0</td>\n",
       "      <td>0.0</td>\n",
       "    </tr>\n",
       "  </tbody>\n",
       "</table>\n",
       "<p>645 rows × 5 columns</p>\n",
       "</div>"
      ],
      "text/plain": [
       "                                                    Chats  sid_cnt  \\\n",
       "Knowledge Name                                                       \n",
       "Account management related query                      339      320   \n",
       "Account management shongkranto query                   62       58   \n",
       "Add to Cart offer ti kibhabe pabo                       1        1   \n",
       "After returning the item how much time is neede...      1        1   \n",
       "Alada delivery charge keno neya hoy shob ponner...     76       75   \n",
       "...                                                   ...      ...   \n",
       "refund voucher er timeline koto                         7        7   \n",
       "return er karonti jodi valid na hoy tokhon ki hobe     11       11   \n",
       "return-postmatch                                       46       46   \n",
       "test_daraz_bd                                           5        5   \n",
       "when will i get my refund                               1        1   \n",
       "\n",
       "                                                    total_session_resolved  \\\n",
       "Knowledge Name                                                               \n",
       "Account management related query                                       194   \n",
       "Account management shongkranto query                                    37   \n",
       "Add to Cart offer ti kibhabe pabo                                        1   \n",
       "After returning the item how much time is neede...                       1   \n",
       "Alada delivery charge keno neya hoy shob ponner...                      69   \n",
       "...                                                                    ...   \n",
       "refund voucher er timeline koto                                          6   \n",
       "return er karonti jodi valid na hoy tokhon ki hobe                       8   \n",
       "return-postmatch                                                        40   \n",
       "test_daraz_bd                                                            5   \n",
       "when will i get my refund                                                1   \n",
       "\n",
       "                                                    total_switch_agent  \\\n",
       "Knowledge Name                                                           \n",
       "Account management related query                                   103   \n",
       "Account management shongkranto query                                19   \n",
       "Add to Cart offer ti kibhabe pabo                                    0   \n",
       "After returning the item how much time is neede...                   0   \n",
       "Alada delivery charge keno neya hoy shob ponner...                   0   \n",
       "...                                                                ...   \n",
       "refund voucher er timeline koto                                      1   \n",
       "return er karonti jodi valid na hoy tokhon ki hobe                   1   \n",
       "return-postmatch                                                     1   \n",
       "test_daraz_bd                                                        0   \n",
       "when will i get my refund                                            0   \n",
       "\n",
       "                                                    unsatisfied_count  \n",
       "Knowledge Name                                                         \n",
       "Account management related query                                  0.0  \n",
       "Account management shongkranto query                              0.0  \n",
       "Add to Cart offer ti kibhabe pabo                                 0.0  \n",
       "After returning the item how much time is neede...                0.0  \n",
       "Alada delivery charge keno neya hoy shob ponner...                1.0  \n",
       "...                                                               ...  \n",
       "refund voucher er timeline koto                                   0.0  \n",
       "return er karonti jodi valid na hoy tokhon ki hobe                0.0  \n",
       "return-postmatch                                                  1.0  \n",
       "test_daraz_bd                                                     0.0  \n",
       "when will i get my refund                                         0.0  \n",
       "\n",
       "[645 rows x 5 columns]"
      ]
     },
     "metadata": {},
     "output_type": "display_data"
    },
    {
     "data": {
      "text/html": [
       "<div>\n",
       "<style scoped>\n",
       "    .dataframe tbody tr th:only-of-type {\n",
       "        vertical-align: middle;\n",
       "    }\n",
       "\n",
       "    .dataframe tbody tr th {\n",
       "        vertical-align: top;\n",
       "    }\n",
       "\n",
       "    .dataframe thead th {\n",
       "        text-align: right;\n",
       "    }\n",
       "</style>\n",
       "<table border=\"1\" class=\"dataframe\">\n",
       "  <thead>\n",
       "    <tr style=\"text-align: right;\">\n",
       "      <th></th>\n",
       "      <th>Chats</th>\n",
       "      <th>sid_cnt</th>\n",
       "      <th>total_session_resolved</th>\n",
       "      <th>total_switch_agent</th>\n",
       "      <th>unsatisfied_count</th>\n",
       "    </tr>\n",
       "    <tr>\n",
       "      <th>Knowledge Name</th>\n",
       "      <th></th>\n",
       "      <th></th>\n",
       "      <th></th>\n",
       "      <th></th>\n",
       "      <th></th>\n",
       "    </tr>\n",
       "  </thead>\n",
       "  <tbody>\n",
       "    <tr>\n",
       "      <th>Ai tar taka ferot chai</th>\n",
       "      <td>1</td>\n",
       "      <td>1</td>\n",
       "      <td>0</td>\n",
       "      <td>0</td>\n",
       "      <td>0.0</td>\n",
       "    </tr>\n",
       "    <tr>\n",
       "      <th>Ata refund pete koto din lagbe</th>\n",
       "      <td>19</td>\n",
       "      <td>15</td>\n",
       "      <td>10</td>\n",
       "      <td>0</td>\n",
       "      <td>0.0</td>\n",
       "    </tr>\n",
       "    <tr>\n",
       "      <th>Local_SOP_testing_R2 (Local)</th>\n",
       "      <td>2</td>\n",
       "      <td>2</td>\n",
       "      <td>2</td>\n",
       "      <td>0</td>\n",
       "      <td>0.0</td>\n",
       "    </tr>\n",
       "    <tr>\n",
       "      <th>অনলাইন রিটার্ন ফর্ম কিভাবে পূরণ করবো ?</th>\n",
       "      <td>1</td>\n",
       "      <td>1</td>\n",
       "      <td>1</td>\n",
       "      <td>0</td>\n",
       "      <td>0.0</td>\n",
       "    </tr>\n",
       "    <tr>\n",
       "      <th>অনেক দিন হৈছে রিটার্ন দিছি জলদি টাকা দেন</th>\n",
       "      <td>1</td>\n",
       "      <td>1</td>\n",
       "      <td>1</td>\n",
       "      <td>0</td>\n",
       "      <td>0.0</td>\n",
       "    </tr>\n",
       "    <tr>\n",
       "      <th>...</th>\n",
       "      <td>...</td>\n",
       "      <td>...</td>\n",
       "      <td>...</td>\n",
       "      <td>...</td>\n",
       "      <td>...</td>\n",
       "    </tr>\n",
       "    <tr>\n",
       "      <th>স্টিকার প্রাইস কিভাবে অ্যাভেইল করবো?</th>\n",
       "      <td>16</td>\n",
       "      <td>16</td>\n",
       "      <td>15</td>\n",
       "      <td>0</td>\n",
       "      <td>0.0</td>\n",
       "    </tr>\n",
       "    <tr>\n",
       "      <th>হট ডিলস অফার কি ?</th>\n",
       "      <td>2</td>\n",
       "      <td>2</td>\n",
       "      <td>1</td>\n",
       "      <td>1</td>\n",
       "      <td>0.0</td>\n",
       "    </tr>\n",
       "    <tr>\n",
       "      <th>১১ ও ক্লক ডিলস কী?</th>\n",
       "      <td>18</td>\n",
       "      <td>17</td>\n",
       "      <td>15</td>\n",
       "      <td>2</td>\n",
       "      <td>0.0</td>\n",
       "    </tr>\n",
       "    <tr>\n",
       "      <th>৭ দি হলো রিফান্ড হয় নাই</th>\n",
       "      <td>1</td>\n",
       "      <td>1</td>\n",
       "      <td>1</td>\n",
       "      <td>0</td>\n",
       "      <td>0.0</td>\n",
       "    </tr>\n",
       "    <tr>\n",
       "      <th>৭ দিন হয়ে গেছে এখনো আমার টাকা পাচ্ছি না রিফান্ড কবে পাবো</th>\n",
       "      <td>5</td>\n",
       "      <td>4</td>\n",
       "      <td>4</td>\n",
       "      <td>0</td>\n",
       "      <td>0.0</td>\n",
       "    </tr>\n",
       "  </tbody>\n",
       "</table>\n",
       "<p>347 rows × 5 columns</p>\n",
       "</div>"
      ],
      "text/plain": [
       "                                                    Chats  sid_cnt  \\\n",
       "Knowledge Name                                                       \n",
       "Ai tar taka ferot chai                                  1        1   \n",
       "Ata refund pete koto din lagbe                         19       15   \n",
       "Local_SOP_testing_R2 (Local)                            2        2   \n",
       "অনলাইন রিটার্ন ফর্ম কিভাবে পূরণ করবো ?                  1        1   \n",
       "অনেক দিন হৈছে রিটার্ন দিছি জলদি টাকা দেন                1        1   \n",
       "...                                                   ...      ...   \n",
       "স্টিকার প্রাইস কিভাবে অ্যাভেইল করবো?                   16       16   \n",
       "হট ডিলস অফার কি ?                                       2        2   \n",
       "১১ ও ক্লক ডিলস কী?                                     18       17   \n",
       "৭ দি হলো রিফান্ড হয় নাই                                 1        1   \n",
       "৭ দিন হয়ে গেছে এখনো আমার টাকা পাচ্ছি না রিফান্ড...      5        4   \n",
       "\n",
       "                                                    total_session_resolved  \\\n",
       "Knowledge Name                                                               \n",
       "Ai tar taka ferot chai                                                   0   \n",
       "Ata refund pete koto din lagbe                                          10   \n",
       "Local_SOP_testing_R2 (Local)                                             2   \n",
       "অনলাইন রিটার্ন ফর্ম কিভাবে পূরণ করবো ?                                   1   \n",
       "অনেক দিন হৈছে রিটার্ন দিছি জলদি টাকা দেন                                 1   \n",
       "...                                                                    ...   \n",
       "স্টিকার প্রাইস কিভাবে অ্যাভেইল করবো?                                    15   \n",
       "হট ডিলস অফার কি ?                                                        1   \n",
       "১১ ও ক্লক ডিলস কী?                                                      15   \n",
       "৭ দি হলো রিফান্ড হয় নাই                                                  1   \n",
       "৭ দিন হয়ে গেছে এখনো আমার টাকা পাচ্ছি না রিফান্ড...                       4   \n",
       "\n",
       "                                                    total_switch_agent  \\\n",
       "Knowledge Name                                                           \n",
       "Ai tar taka ferot chai                                               0   \n",
       "Ata refund pete koto din lagbe                                       0   \n",
       "Local_SOP_testing_R2 (Local)                                         0   \n",
       "অনলাইন রিটার্ন ফর্ম কিভাবে পূরণ করবো ?                               0   \n",
       "অনেক দিন হৈছে রিটার্ন দিছি জলদি টাকা দেন                             0   \n",
       "...                                                                ...   \n",
       "স্টিকার প্রাইস কিভাবে অ্যাভেইল করবো?                                 0   \n",
       "হট ডিলস অফার কি ?                                                    1   \n",
       "১১ ও ক্লক ডিলস কী?                                                   2   \n",
       "৭ দি হলো রিফান্ড হয় নাই                                              0   \n",
       "৭ দিন হয়ে গেছে এখনো আমার টাকা পাচ্ছি না রিফান্ড...                   0   \n",
       "\n",
       "                                                    unsatisfied_count  \n",
       "Knowledge Name                                                         \n",
       "Ai tar taka ferot chai                                            0.0  \n",
       "Ata refund pete koto din lagbe                                    0.0  \n",
       "Local_SOP_testing_R2 (Local)                                      0.0  \n",
       "অনলাইন রিটার্ন ফর্ম কিভাবে পূরণ করবো ?                            0.0  \n",
       "অনেক দিন হৈছে রিটার্ন দিছি জলদি টাকা দেন                          0.0  \n",
       "...                                                               ...  \n",
       "স্টিকার প্রাইস কিভাবে অ্যাভেইল করবো?                              0.0  \n",
       "হট ডিলস অফার কি ?                                                 0.0  \n",
       "১১ ও ক্লক ডিলস কী?                                                0.0  \n",
       "৭ দি হলো রিফান্ড হয় নাই                                           0.0  \n",
       "৭ দিন হয়ে গেছে এখনো আমার টাকা পাচ্ছি না রিফান্ড...                0.0  \n",
       "\n",
       "[347 rows x 5 columns]"
      ]
     },
     "metadata": {},
     "output_type": "display_data"
    },
    {
     "data": {
      "text/html": [
       "<div>\n",
       "<style scoped>\n",
       "    .dataframe tbody tr th:only-of-type {\n",
       "        vertical-align: middle;\n",
       "    }\n",
       "\n",
       "    .dataframe tbody tr th {\n",
       "        vertical-align: top;\n",
       "    }\n",
       "\n",
       "    .dataframe thead th {\n",
       "        text-align: right;\n",
       "    }\n",
       "</style>\n",
       "<table border=\"1\" class=\"dataframe\">\n",
       "  <thead>\n",
       "    <tr style=\"text-align: right;\">\n",
       "      <th></th>\n",
       "      <th>Chats</th>\n",
       "      <th>sid_cnt</th>\n",
       "      <th>total_session_resolved</th>\n",
       "      <th>total_switch_agent</th>\n",
       "      <th>unsatisfied_count</th>\n",
       "    </tr>\n",
       "    <tr>\n",
       "      <th>Knowledge Name</th>\n",
       "      <th></th>\n",
       "      <th></th>\n",
       "      <th></th>\n",
       "      <th></th>\n",
       "      <th></th>\n",
       "    </tr>\n",
       "  </thead>\n",
       "  <tbody>\n",
       "    <tr>\n",
       "      <th>Account management related query</th>\n",
       "      <td>234</td>\n",
       "      <td>214</td>\n",
       "      <td>121</td>\n",
       "      <td>75</td>\n",
       "      <td>0.0</td>\n",
       "    </tr>\n",
       "    <tr>\n",
       "      <th>Account management shongkranto query</th>\n",
       "      <td>42</td>\n",
       "      <td>37</td>\n",
       "      <td>23</td>\n",
       "      <td>10</td>\n",
       "      <td>0.0</td>\n",
       "    </tr>\n",
       "    <tr>\n",
       "      <th>Add to Cart offer ti kibhabe pabo</th>\n",
       "      <td>2</td>\n",
       "      <td>2</td>\n",
       "      <td>2</td>\n",
       "      <td>0</td>\n",
       "      <td>0.0</td>\n",
       "    </tr>\n",
       "    <tr>\n",
       "      <th>Alada delivery charge keno neya hoy shob ponner jonno</th>\n",
       "      <td>33</td>\n",
       "      <td>32</td>\n",
       "      <td>27</td>\n",
       "      <td>5</td>\n",
       "      <td>1.0</td>\n",
       "    </tr>\n",
       "    <tr>\n",
       "      <th>All about BNY campaign</th>\n",
       "      <td>3371</td>\n",
       "      <td>2226</td>\n",
       "      <td>1438</td>\n",
       "      <td>611</td>\n",
       "      <td>0.0</td>\n",
       "    </tr>\n",
       "    <tr>\n",
       "      <th>...</th>\n",
       "      <td>...</td>\n",
       "      <td>...</td>\n",
       "      <td>...</td>\n",
       "      <td>...</td>\n",
       "      <td>...</td>\n",
       "    </tr>\n",
       "    <tr>\n",
       "      <th>refund via voucher mane ki</th>\n",
       "      <td>2</td>\n",
       "      <td>2</td>\n",
       "      <td>2</td>\n",
       "      <td>0</td>\n",
       "      <td>0.0</td>\n",
       "    </tr>\n",
       "    <tr>\n",
       "      <th>refund voucher er timeline koto</th>\n",
       "      <td>11</td>\n",
       "      <td>11</td>\n",
       "      <td>9</td>\n",
       "      <td>1</td>\n",
       "      <td>0.0</td>\n",
       "    </tr>\n",
       "    <tr>\n",
       "      <th>return er karonti jodi valid na hoy tokhon ki hobe</th>\n",
       "      <td>6</td>\n",
       "      <td>6</td>\n",
       "      <td>4</td>\n",
       "      <td>2</td>\n",
       "      <td>0.0</td>\n",
       "    </tr>\n",
       "    <tr>\n",
       "      <th>return label download korte parbo pc theke</th>\n",
       "      <td>1</td>\n",
       "      <td>1</td>\n",
       "      <td>1</td>\n",
       "      <td>0</td>\n",
       "      <td>0.0</td>\n",
       "    </tr>\n",
       "    <tr>\n",
       "      <th>return-postmatch</th>\n",
       "      <td>1</td>\n",
       "      <td>1</td>\n",
       "      <td>1</td>\n",
       "      <td>0</td>\n",
       "      <td>0.0</td>\n",
       "    </tr>\n",
       "  </tbody>\n",
       "</table>\n",
       "<p>620 rows × 5 columns</p>\n",
       "</div>"
      ],
      "text/plain": [
       "                                                    Chats  sid_cnt  \\\n",
       "Knowledge Name                                                       \n",
       "Account management related query                      234      214   \n",
       "Account management shongkranto query                   42       37   \n",
       "Add to Cart offer ti kibhabe pabo                       2        2   \n",
       "Alada delivery charge keno neya hoy shob ponner...     33       32   \n",
       "All about BNY campaign                               3371     2226   \n",
       "...                                                   ...      ...   \n",
       "refund via voucher mane ki                              2        2   \n",
       "refund voucher er timeline koto                        11       11   \n",
       "return er karonti jodi valid na hoy tokhon ki hobe      6        6   \n",
       "return label download korte parbo pc theke              1        1   \n",
       "return-postmatch                                        1        1   \n",
       "\n",
       "                                                    total_session_resolved  \\\n",
       "Knowledge Name                                                               \n",
       "Account management related query                                       121   \n",
       "Account management shongkranto query                                    23   \n",
       "Add to Cart offer ti kibhabe pabo                                        2   \n",
       "Alada delivery charge keno neya hoy shob ponner...                      27   \n",
       "All about BNY campaign                                                1438   \n",
       "...                                                                    ...   \n",
       "refund via voucher mane ki                                               2   \n",
       "refund voucher er timeline koto                                          9   \n",
       "return er karonti jodi valid na hoy tokhon ki hobe                       4   \n",
       "return label download korte parbo pc theke                               1   \n",
       "return-postmatch                                                         1   \n",
       "\n",
       "                                                    total_switch_agent  \\\n",
       "Knowledge Name                                                           \n",
       "Account management related query                                    75   \n",
       "Account management shongkranto query                                10   \n",
       "Add to Cart offer ti kibhabe pabo                                    0   \n",
       "Alada delivery charge keno neya hoy shob ponner...                   5   \n",
       "All about BNY campaign                                             611   \n",
       "...                                                                ...   \n",
       "refund via voucher mane ki                                           0   \n",
       "refund voucher er timeline koto                                      1   \n",
       "return er karonti jodi valid na hoy tokhon ki hobe                   2   \n",
       "return label download korte parbo pc theke                           0   \n",
       "return-postmatch                                                     0   \n",
       "\n",
       "                                                    unsatisfied_count  \n",
       "Knowledge Name                                                         \n",
       "Account management related query                                  0.0  \n",
       "Account management shongkranto query                              0.0  \n",
       "Add to Cart offer ti kibhabe pabo                                 0.0  \n",
       "Alada delivery charge keno neya hoy shob ponner...                1.0  \n",
       "All about BNY campaign                                            0.0  \n",
       "...                                                               ...  \n",
       "refund via voucher mane ki                                        0.0  \n",
       "refund voucher er timeline koto                                   0.0  \n",
       "return er karonti jodi valid na hoy tokhon ki hobe                0.0  \n",
       "return label download korte parbo pc theke                        0.0  \n",
       "return-postmatch                                                  0.0  \n",
       "\n",
       "[620 rows x 5 columns]"
      ]
     },
     "metadata": {},
     "output_type": "display_data"
    }
   ],
   "source": [
    "display(CPR_df_LC_pivottable16)\n",
    "display(CPR_df_EN_pivottable16)\n",
    "\n",
    "display(CPR_df_LC_pivottable17)\n",
    "display(CPR_df_EN_pivottable17)"
   ]
  },
  {
   "cell_type": "markdown",
   "metadata": {},
   "source": [
    "##### Week 16"
   ]
  },
  {
   "cell_type": "code",
   "execution_count": 46,
   "metadata": {},
   "outputs": [],
   "source": [
    "CPR_df_LC_pivottable16 = CPR_df_LC_pivottable16.sort_values('sid_cnt', ascending = False) # For LC\n",
    "CPR_df_EN_pivottable16 = CPR_df_EN_pivottable16.sort_values('sid_cnt', ascending = False) # For EN"
   ]
  },
  {
   "cell_type": "markdown",
   "metadata": {},
   "source": [
    "##### Week 17"
   ]
  },
  {
   "cell_type": "code",
   "execution_count": 47,
   "metadata": {},
   "outputs": [],
   "source": [
    "CPR_df_LC_pivottable17 = CPR_df_LC_pivottable17.sort_values('sid_cnt', ascending = False) #For LC\n",
    "CPR_df_EN_pivottable17 = CPR_df_EN_pivottable17.sort_values('sid_cnt', ascending = False) #For EN"
   ]
  },
  {
   "cell_type": "code",
   "execution_count": 48,
   "metadata": {},
   "outputs": [
    {
     "data": {
      "text/html": [
       "<div>\n",
       "<style scoped>\n",
       "    .dataframe tbody tr th:only-of-type {\n",
       "        vertical-align: middle;\n",
       "    }\n",
       "\n",
       "    .dataframe tbody tr th {\n",
       "        vertical-align: top;\n",
       "    }\n",
       "\n",
       "    .dataframe thead th {\n",
       "        text-align: right;\n",
       "    }\n",
       "</style>\n",
       "<table border=\"1\" class=\"dataframe\">\n",
       "  <thead>\n",
       "    <tr style=\"text-align: right;\">\n",
       "      <th></th>\n",
       "      <th>Chats</th>\n",
       "      <th>sid_cnt</th>\n",
       "      <th>total_session_resolved</th>\n",
       "      <th>total_switch_agent</th>\n",
       "      <th>unsatisfied_count</th>\n",
       "    </tr>\n",
       "    <tr>\n",
       "      <th>Knowledge Name</th>\n",
       "      <th></th>\n",
       "      <th></th>\n",
       "      <th></th>\n",
       "      <th></th>\n",
       "      <th></th>\n",
       "    </tr>\n",
       "  </thead>\n",
       "  <tbody>\n",
       "    <tr>\n",
       "      <th>আমার অর্ডার কোথায়?</th>\n",
       "      <td>2967</td>\n",
       "      <td>2037</td>\n",
       "      <td>1373</td>\n",
       "      <td>365</td>\n",
       "      <td>15.600000</td>\n",
       "    </tr>\n",
       "    <tr>\n",
       "      <th>আমি কি আমার অর্ডারটি বাতিল করতে পারি?</th>\n",
       "      <td>1300</td>\n",
       "      <td>938</td>\n",
       "      <td>638</td>\n",
       "      <td>154</td>\n",
       "      <td>23.658333</td>\n",
       "    </tr>\n",
       "    <tr>\n",
       "      <th>আমি কি আইটেমটি রিটার্ন করতে পারবো</th>\n",
       "      <td>1226</td>\n",
       "      <td>903</td>\n",
       "      <td>641</td>\n",
       "      <td>134</td>\n",
       "      <td>8.566667</td>\n",
       "    </tr>\n",
       "    <tr>\n",
       "      <th>রিফান্ড প্রসেস শেষ হতে কতদিন লাগবে?</th>\n",
       "      <td>983</td>\n",
       "      <td>768</td>\n",
       "      <td>540</td>\n",
       "      <td>121</td>\n",
       "      <td>2.000000</td>\n",
       "    </tr>\n",
       "    <tr>\n",
       "      <th>ক্যাম্পেইন  বিষয়ে</th>\n",
       "      <td>906</td>\n",
       "      <td>620</td>\n",
       "      <td>353</td>\n",
       "      <td>174</td>\n",
       "      <td>0.000000</td>\n",
       "    </tr>\n",
       "    <tr>\n",
       "      <th>...</th>\n",
       "      <td>...</td>\n",
       "      <td>...</td>\n",
       "      <td>...</td>\n",
       "      <td>...</td>\n",
       "      <td>...</td>\n",
       "    </tr>\n",
       "    <tr>\n",
       "      <th>আমি দারাজে স্পনসরশিপ করতে চাইলে কার সাথে যোগাযোগ করবো ?</th>\n",
       "      <td>1</td>\n",
       "      <td>1</td>\n",
       "      <td>1</td>\n",
       "      <td>0</td>\n",
       "      <td>0.000000</td>\n",
       "    </tr>\n",
       "    <tr>\n",
       "      <th>আমি দারাজে কিভাবে একাউন্ট খুলবো ?</th>\n",
       "      <td>1</td>\n",
       "      <td>1</td>\n",
       "      <td>0</td>\n",
       "      <td>1</td>\n",
       "      <td>0.000000</td>\n",
       "    </tr>\n",
       "    <tr>\n",
       "      <th>আমি ডেলিভারির সময় খালি বক্স পেয়েছি</th>\n",
       "      <td>1</td>\n",
       "      <td>1</td>\n",
       "      <td>1</td>\n",
       "      <td>0</td>\n",
       "      <td>0.000000</td>\n",
       "    </tr>\n",
       "    <tr>\n",
       "      <th>আমি কিভাবে ডি-কয়েনস পেতে পারি ?</th>\n",
       "      <td>1</td>\n",
       "      <td>1</td>\n",
       "      <td>1</td>\n",
       "      <td>0</td>\n",
       "      <td>0.000000</td>\n",
       "    </tr>\n",
       "    <tr>\n",
       "      <th>কালেক্টেবল ভাউচার বলতে কি বুঝায়?</th>\n",
       "      <td>1</td>\n",
       "      <td>1</td>\n",
       "      <td>0</td>\n",
       "      <td>1</td>\n",
       "      <td>0.000000</td>\n",
       "    </tr>\n",
       "  </tbody>\n",
       "</table>\n",
       "<p>312 rows × 5 columns</p>\n",
       "</div>"
      ],
      "text/plain": [
       "                                                    Chats  sid_cnt  \\\n",
       "Knowledge Name                                                       \n",
       "আমার অর্ডার কোথায়?                                   2967     2037   \n",
       "আমি কি আমার অর্ডারটি বাতিল করতে পারি?                1300      938   \n",
       "আমি কি আইটেমটি রিটার্ন করতে পারবো                    1226      903   \n",
       "রিফান্ড প্রসেস শেষ হতে কতদিন লাগবে?                   983      768   \n",
       "ক্যাম্পেইন  বিষয়ে                                    906      620   \n",
       "...                                                   ...      ...   \n",
       "আমি দারাজে স্পনসরশিপ করতে চাইলে কার সাথে যোগাযো...      1        1   \n",
       "আমি দারাজে কিভাবে একাউন্ট খুলবো ?                       1        1   \n",
       "আমি ডেলিভারির সময় খালি বক্স পেয়েছি                      1        1   \n",
       "আমি কিভাবে ডি-কয়েনস পেতে পারি ?                         1        1   \n",
       "কালেক্টেবল ভাউচার বলতে কি বুঝায়?                        1        1   \n",
       "\n",
       "                                                    total_session_resolved  \\\n",
       "Knowledge Name                                                               \n",
       "আমার অর্ডার কোথায়?                                                    1373   \n",
       "আমি কি আমার অর্ডারটি বাতিল করতে পারি?                                  638   \n",
       "আমি কি আইটেমটি রিটার্ন করতে পারবো                                      641   \n",
       "রিফান্ড প্রসেস শেষ হতে কতদিন লাগবে?                                    540   \n",
       "ক্যাম্পেইন  বিষয়ে                                                     353   \n",
       "...                                                                    ...   \n",
       "আমি দারাজে স্পনসরশিপ করতে চাইলে কার সাথে যোগাযো...                       1   \n",
       "আমি দারাজে কিভাবে একাউন্ট খুলবো ?                                        0   \n",
       "আমি ডেলিভারির সময় খালি বক্স পেয়েছি                                       1   \n",
       "আমি কিভাবে ডি-কয়েনস পেতে পারি ?                                          1   \n",
       "কালেক্টেবল ভাউচার বলতে কি বুঝায়?                                         0   \n",
       "\n",
       "                                                    total_switch_agent  \\\n",
       "Knowledge Name                                                           \n",
       "আমার অর্ডার কোথায়?                                                 365   \n",
       "আমি কি আমার অর্ডারটি বাতিল করতে পারি?                              154   \n",
       "আমি কি আইটেমটি রিটার্ন করতে পারবো                                  134   \n",
       "রিফান্ড প্রসেস শেষ হতে কতদিন লাগবে?                                121   \n",
       "ক্যাম্পেইন  বিষয়ে                                                 174   \n",
       "...                                                                ...   \n",
       "আমি দারাজে স্পনসরশিপ করতে চাইলে কার সাথে যোগাযো...                   0   \n",
       "আমি দারাজে কিভাবে একাউন্ট খুলবো ?                                    1   \n",
       "আমি ডেলিভারির সময় খালি বক্স পেয়েছি                                   0   \n",
       "আমি কিভাবে ডি-কয়েনস পেতে পারি ?                                      0   \n",
       "কালেক্টেবল ভাউচার বলতে কি বুঝায়?                                     1   \n",
       "\n",
       "                                                    unsatisfied_count  \n",
       "Knowledge Name                                                         \n",
       "আমার অর্ডার কোথায়?                                          15.600000  \n",
       "আমি কি আমার অর্ডারটি বাতিল করতে পারি?                       23.658333  \n",
       "আমি কি আইটেমটি রিটার্ন করতে পারবো                            8.566667  \n",
       "রিফান্ড প্রসেস শেষ হতে কতদিন লাগবে?                          2.000000  \n",
       "ক্যাম্পেইন  বিষয়ে                                           0.000000  \n",
       "...                                                               ...  \n",
       "আমি দারাজে স্পনসরশিপ করতে চাইলে কার সাথে যোগাযো...           0.000000  \n",
       "আমি দারাজে কিভাবে একাউন্ট খুলবো ?                            0.000000  \n",
       "আমি ডেলিভারির সময় খালি বক্স পেয়েছি                           0.000000  \n",
       "আমি কিভাবে ডি-কয়েনস পেতে পারি ?                              0.000000  \n",
       "কালেক্টেবল ভাউচার বলতে কি বুঝায়?                             0.000000  \n",
       "\n",
       "[312 rows x 5 columns]"
      ]
     },
     "metadata": {},
     "output_type": "display_data"
    },
    {
     "data": {
      "text/html": [
       "<div>\n",
       "<style scoped>\n",
       "    .dataframe tbody tr th:only-of-type {\n",
       "        vertical-align: middle;\n",
       "    }\n",
       "\n",
       "    .dataframe tbody tr th {\n",
       "        vertical-align: top;\n",
       "    }\n",
       "\n",
       "    .dataframe thead th {\n",
       "        text-align: right;\n",
       "    }\n",
       "</style>\n",
       "<table border=\"1\" class=\"dataframe\">\n",
       "  <thead>\n",
       "    <tr style=\"text-align: right;\">\n",
       "      <th></th>\n",
       "      <th>Chats</th>\n",
       "      <th>sid_cnt</th>\n",
       "      <th>total_session_resolved</th>\n",
       "      <th>total_switch_agent</th>\n",
       "      <th>unsatisfied_count</th>\n",
       "    </tr>\n",
       "    <tr>\n",
       "      <th>Knowledge Name</th>\n",
       "      <th></th>\n",
       "      <th></th>\n",
       "      <th></th>\n",
       "      <th></th>\n",
       "      <th></th>\n",
       "    </tr>\n",
       "  </thead>\n",
       "  <tbody>\n",
       "    <tr>\n",
       "      <th>How can I track my order</th>\n",
       "      <td>15226</td>\n",
       "      <td>12845</td>\n",
       "      <td>10828</td>\n",
       "      <td>1420</td>\n",
       "      <td>0.000000</td>\n",
       "    </tr>\n",
       "    <tr>\n",
       "      <th>How long does it take to receive my product</th>\n",
       "      <td>15493</td>\n",
       "      <td>11766</td>\n",
       "      <td>10028</td>\n",
       "      <td>1054</td>\n",
       "      <td>219.744201</td>\n",
       "    </tr>\n",
       "    <tr>\n",
       "      <th>Greeting</th>\n",
       "      <td>15875</td>\n",
       "      <td>10290</td>\n",
       "      <td>7998</td>\n",
       "      <td>1826</td>\n",
       "      <td>0.000000</td>\n",
       "    </tr>\n",
       "    <tr>\n",
       "      <th>Need help</th>\n",
       "      <td>10984</td>\n",
       "      <td>7772</td>\n",
       "      <td>4673</td>\n",
       "      <td>2646</td>\n",
       "      <td>0.000000</td>\n",
       "    </tr>\n",
       "    <tr>\n",
       "      <th>How to cancel my order</th>\n",
       "      <td>9630</td>\n",
       "      <td>6791</td>\n",
       "      <td>5844</td>\n",
       "      <td>406</td>\n",
       "      <td>0.000000</td>\n",
       "    </tr>\n",
       "    <tr>\n",
       "      <th>...</th>\n",
       "      <td>...</td>\n",
       "      <td>...</td>\n",
       "      <td>...</td>\n",
       "      <td>...</td>\n",
       "      <td>...</td>\n",
       "    </tr>\n",
       "    <tr>\n",
       "      <th>I didn't get refund it's money</th>\n",
       "      <td>4</td>\n",
       "      <td>1</td>\n",
       "      <td>1</td>\n",
       "      <td>0</td>\n",
       "      <td>0.000000</td>\n",
       "    </tr>\n",
       "    <tr>\n",
       "      <th>I have asked for refund but still hasn't received it (bkash refund) it's been more then 3/4 days</th>\n",
       "      <td>2</td>\n",
       "      <td>1</td>\n",
       "      <td>1</td>\n",
       "      <td>0</td>\n",
       "      <td>0.000000</td>\n",
       "    </tr>\n",
       "    <tr>\n",
       "      <th>I have lost Daraz box, what can I do now</th>\n",
       "      <td>1</td>\n",
       "      <td>1</td>\n",
       "      <td>1</td>\n",
       "      <td>0</td>\n",
       "      <td>0.000000</td>\n",
       "    </tr>\n",
       "    <tr>\n",
       "      <th>I have placed an order but now need to change the color of the product</th>\n",
       "      <td>1</td>\n",
       "      <td>1</td>\n",
       "      <td>1</td>\n",
       "      <td>0</td>\n",
       "      <td>0.000000</td>\n",
       "    </tr>\n",
       "    <tr>\n",
       "      <th>when will i get my refund</th>\n",
       "      <td>1</td>\n",
       "      <td>1</td>\n",
       "      <td>1</td>\n",
       "      <td>0</td>\n",
       "      <td>0.000000</td>\n",
       "    </tr>\n",
       "  </tbody>\n",
       "</table>\n",
       "<p>645 rows × 5 columns</p>\n",
       "</div>"
      ],
      "text/plain": [
       "                                                    Chats  sid_cnt  \\\n",
       "Knowledge Name                                                       \n",
       "How can I track my order                            15226    12845   \n",
       "How long does it take to receive my product         15493    11766   \n",
       "Greeting                                            15875    10290   \n",
       "Need help                                           10984     7772   \n",
       "How to cancel my order                               9630     6791   \n",
       "...                                                   ...      ...   \n",
       "I didn't get refund it's money                          4        1   \n",
       "I have asked for refund but still hasn't receiv...      2        1   \n",
       "I have lost Daraz box, what can I do now                1        1   \n",
       "I have placed an order but now need to change t...      1        1   \n",
       "when will i get my refund                               1        1   \n",
       "\n",
       "                                                    total_session_resolved  \\\n",
       "Knowledge Name                                                               \n",
       "How can I track my order                                             10828   \n",
       "How long does it take to receive my product                          10028   \n",
       "Greeting                                                              7998   \n",
       "Need help                                                             4673   \n",
       "How to cancel my order                                                5844   \n",
       "...                                                                    ...   \n",
       "I didn't get refund it's money                                           1   \n",
       "I have asked for refund but still hasn't receiv...                       1   \n",
       "I have lost Daraz box, what can I do now                                 1   \n",
       "I have placed an order but now need to change t...                       1   \n",
       "when will i get my refund                                                1   \n",
       "\n",
       "                                                    total_switch_agent  \\\n",
       "Knowledge Name                                                           \n",
       "How can I track my order                                          1420   \n",
       "How long does it take to receive my product                       1054   \n",
       "Greeting                                                          1826   \n",
       "Need help                                                         2646   \n",
       "How to cancel my order                                             406   \n",
       "...                                                                ...   \n",
       "I didn't get refund it's money                                       0   \n",
       "I have asked for refund but still hasn't receiv...                   0   \n",
       "I have lost Daraz box, what can I do now                             0   \n",
       "I have placed an order but now need to change t...                   0   \n",
       "when will i get my refund                                            0   \n",
       "\n",
       "                                                    unsatisfied_count  \n",
       "Knowledge Name                                                         \n",
       "How can I track my order                                     0.000000  \n",
       "How long does it take to receive my product                219.744201  \n",
       "Greeting                                                     0.000000  \n",
       "Need help                                                    0.000000  \n",
       "How to cancel my order                                       0.000000  \n",
       "...                                                               ...  \n",
       "I didn't get refund it's money                               0.000000  \n",
       "I have asked for refund but still hasn't receiv...           0.000000  \n",
       "I have lost Daraz box, what can I do now                     0.000000  \n",
       "I have placed an order but now need to change t...           0.000000  \n",
       "when will i get my refund                                    0.000000  \n",
       "\n",
       "[645 rows x 5 columns]"
      ]
     },
     "metadata": {},
     "output_type": "display_data"
    }
   ],
   "source": [
    "display(CPR_df_LC_pivottable16)\n",
    "display(CPR_df_EN_pivottable16)"
   ]
  },
  {
   "cell_type": "code",
   "execution_count": 49,
   "metadata": {},
   "outputs": [
    {
     "data": {
      "text/html": [
       "<div>\n",
       "<style scoped>\n",
       "    .dataframe tbody tr th:only-of-type {\n",
       "        vertical-align: middle;\n",
       "    }\n",
       "\n",
       "    .dataframe tbody tr th {\n",
       "        vertical-align: top;\n",
       "    }\n",
       "\n",
       "    .dataframe thead th {\n",
       "        text-align: right;\n",
       "    }\n",
       "</style>\n",
       "<table border=\"1\" class=\"dataframe\">\n",
       "  <thead>\n",
       "    <tr style=\"text-align: right;\">\n",
       "      <th></th>\n",
       "      <th>Chats</th>\n",
       "      <th>sid_cnt</th>\n",
       "      <th>total_session_resolved</th>\n",
       "      <th>total_switch_agent</th>\n",
       "      <th>unsatisfied_count</th>\n",
       "    </tr>\n",
       "    <tr>\n",
       "      <th>Knowledge Name</th>\n",
       "      <th></th>\n",
       "      <th></th>\n",
       "      <th></th>\n",
       "      <th></th>\n",
       "      <th></th>\n",
       "    </tr>\n",
       "  </thead>\n",
       "  <tbody>\n",
       "    <tr>\n",
       "      <th>আমার অর্ডার কিভাবে ট্র্যাক করতে পারবো?</th>\n",
       "      <td>12721</td>\n",
       "      <td>8927</td>\n",
       "      <td>7610</td>\n",
       "      <td>397</td>\n",
       "      <td>0.0</td>\n",
       "    </tr>\n",
       "    <tr>\n",
       "      <th>আমার সাহায্য লাগবে</th>\n",
       "      <td>6742</td>\n",
       "      <td>5762</td>\n",
       "      <td>4363</td>\n",
       "      <td>888</td>\n",
       "      <td>0.0</td>\n",
       "    </tr>\n",
       "    <tr>\n",
       "      <th>আমার অর্ডার আসতে দেরি হচ্ছে কেন ?</th>\n",
       "      <td>3350</td>\n",
       "      <td>3143</td>\n",
       "      <td>2810</td>\n",
       "      <td>95</td>\n",
       "      <td>0.0</td>\n",
       "    </tr>\n",
       "    <tr>\n",
       "      <th>অর্ডার কিভাবে ক্যান্সেল করব?</th>\n",
       "      <td>3867</td>\n",
       "      <td>2497</td>\n",
       "      <td>2104</td>\n",
       "      <td>87</td>\n",
       "      <td>0.0</td>\n",
       "    </tr>\n",
       "    <tr>\n",
       "      <th>আমি কি আইটেমটি রিটার্ন করতে পারবো</th>\n",
       "      <td>3226</td>\n",
       "      <td>2282</td>\n",
       "      <td>1959</td>\n",
       "      <td>97</td>\n",
       "      <td>0.0</td>\n",
       "    </tr>\n",
       "    <tr>\n",
       "      <th>...</th>\n",
       "      <td>...</td>\n",
       "      <td>...</td>\n",
       "      <td>...</td>\n",
       "      <td>...</td>\n",
       "      <td>...</td>\n",
       "    </tr>\n",
       "    <tr>\n",
       "      <th>দি-লাইভ ভাউচার কি</th>\n",
       "      <td>1</td>\n",
       "      <td>1</td>\n",
       "      <td>1</td>\n",
       "      <td>0</td>\n",
       "      <td>0.0</td>\n",
       "    </tr>\n",
       "    <tr>\n",
       "      <th>আমি ২৩ তারিকে রিফান্ড করছি এখনো রিফান্ড পাইনি</th>\n",
       "      <td>4</td>\n",
       "      <td>1</td>\n",
       "      <td>1</td>\n",
       "      <td>0</td>\n",
       "      <td>0.0</td>\n",
       "    </tr>\n",
       "    <tr>\n",
       "      <th>আর ১০ দিন হয়ে গেলো তাও রিফান্ড পাইলামনা</th>\n",
       "      <td>1</td>\n",
       "      <td>1</td>\n",
       "      <td>1</td>\n",
       "      <td>0</td>\n",
       "      <td>0.0</td>\n",
       "    </tr>\n",
       "    <tr>\n",
       "      <th>আলিবাবা ওয়েবসাইটের প্রোডাক্টগুলো কি দারাজ বাংলাদেশে অ্যাভেইলেবল আছে ?</th>\n",
       "      <td>1</td>\n",
       "      <td>1</td>\n",
       "      <td>1</td>\n",
       "      <td>0</td>\n",
       "      <td>0.0</td>\n",
       "    </tr>\n",
       "    <tr>\n",
       "      <th>Ai tar taka ferot chai</th>\n",
       "      <td>1</td>\n",
       "      <td>1</td>\n",
       "      <td>0</td>\n",
       "      <td>0</td>\n",
       "      <td>0.0</td>\n",
       "    </tr>\n",
       "  </tbody>\n",
       "</table>\n",
       "<p>347 rows × 5 columns</p>\n",
       "</div>"
      ],
      "text/plain": [
       "                                                    Chats  sid_cnt  \\\n",
       "Knowledge Name                                                       \n",
       "আমার অর্ডার কিভাবে ট্র্যাক করতে পারবো?              12721     8927   \n",
       "আমার সাহায্য লাগবে                                   6742     5762   \n",
       "আমার অর্ডার আসতে দেরি হচ্ছে কেন ?                    3350     3143   \n",
       "অর্ডার কিভাবে ক্যান্সেল করব?                         3867     2497   \n",
       "আমি কি আইটেমটি রিটার্ন করতে পারবো                    3226     2282   \n",
       "...                                                   ...      ...   \n",
       "দি-লাইভ ভাউচার কি                                       1        1   \n",
       "আমি ২৩ তারিকে রিফান্ড করছি এখনো রিফান্ড পাইনি           4        1   \n",
       "আর ১০ দিন হয়ে গেলো তাও রিফান্ড পাইলামনা                 1        1   \n",
       "আলিবাবা ওয়েবসাইটের প্রোডাক্টগুলো কি দারাজ বাংলা...      1        1   \n",
       "Ai tar taka ferot chai                                  1        1   \n",
       "\n",
       "                                                    total_session_resolved  \\\n",
       "Knowledge Name                                                               \n",
       "আমার অর্ডার কিভাবে ট্র্যাক করতে পারবো?                                7610   \n",
       "আমার সাহায্য লাগবে                                                    4363   \n",
       "আমার অর্ডার আসতে দেরি হচ্ছে কেন ?                                     2810   \n",
       "অর্ডার কিভাবে ক্যান্সেল করব?                                          2104   \n",
       "আমি কি আইটেমটি রিটার্ন করতে পারবো                                     1959   \n",
       "...                                                                    ...   \n",
       "দি-লাইভ ভাউচার কি                                                        1   \n",
       "আমি ২৩ তারিকে রিফান্ড করছি এখনো রিফান্ড পাইনি                            1   \n",
       "আর ১০ দিন হয়ে গেলো তাও রিফান্ড পাইলামনা                                  1   \n",
       "আলিবাবা ওয়েবসাইটের প্রোডাক্টগুলো কি দারাজ বাংলা...                       1   \n",
       "Ai tar taka ferot chai                                                   0   \n",
       "\n",
       "                                                    total_switch_agent  \\\n",
       "Knowledge Name                                                           \n",
       "আমার অর্ডার কিভাবে ট্র্যাক করতে পারবো?                             397   \n",
       "আমার সাহায্য লাগবে                                                 888   \n",
       "আমার অর্ডার আসতে দেরি হচ্ছে কেন ?                                   95   \n",
       "অর্ডার কিভাবে ক্যান্সেল করব?                                        87   \n",
       "আমি কি আইটেমটি রিটার্ন করতে পারবো                                   97   \n",
       "...                                                                ...   \n",
       "দি-লাইভ ভাউচার কি                                                    0   \n",
       "আমি ২৩ তারিকে রিফান্ড করছি এখনো রিফান্ড পাইনি                        0   \n",
       "আর ১০ দিন হয়ে গেলো তাও রিফান্ড পাইলামনা                              0   \n",
       "আলিবাবা ওয়েবসাইটের প্রোডাক্টগুলো কি দারাজ বাংলা...                   0   \n",
       "Ai tar taka ferot chai                                               0   \n",
       "\n",
       "                                                    unsatisfied_count  \n",
       "Knowledge Name                                                         \n",
       "আমার অর্ডার কিভাবে ট্র্যাক করতে পারবো?                            0.0  \n",
       "আমার সাহায্য লাগবে                                                0.0  \n",
       "আমার অর্ডার আসতে দেরি হচ্ছে কেন ?                                 0.0  \n",
       "অর্ডার কিভাবে ক্যান্সেল করব?                                      0.0  \n",
       "আমি কি আইটেমটি রিটার্ন করতে পারবো                                 0.0  \n",
       "...                                                               ...  \n",
       "দি-লাইভ ভাউচার কি                                                 0.0  \n",
       "আমি ২৩ তারিকে রিফান্ড করছি এখনো রিফান্ড পাইনি                     0.0  \n",
       "আর ১০ দিন হয়ে গেলো তাও রিফান্ড পাইলামনা                           0.0  \n",
       "আলিবাবা ওয়েবসাইটের প্রোডাক্টগুলো কি দারাজ বাংলা...                0.0  \n",
       "Ai tar taka ferot chai                                            0.0  \n",
       "\n",
       "[347 rows x 5 columns]"
      ]
     },
     "metadata": {},
     "output_type": "display_data"
    },
    {
     "data": {
      "text/html": [
       "<div>\n",
       "<style scoped>\n",
       "    .dataframe tbody tr th:only-of-type {\n",
       "        vertical-align: middle;\n",
       "    }\n",
       "\n",
       "    .dataframe tbody tr th {\n",
       "        vertical-align: top;\n",
       "    }\n",
       "\n",
       "    .dataframe thead th {\n",
       "        text-align: right;\n",
       "    }\n",
       "</style>\n",
       "<table border=\"1\" class=\"dataframe\">\n",
       "  <thead>\n",
       "    <tr style=\"text-align: right;\">\n",
       "      <th></th>\n",
       "      <th>Chats</th>\n",
       "      <th>sid_cnt</th>\n",
       "      <th>total_session_resolved</th>\n",
       "      <th>total_switch_agent</th>\n",
       "      <th>unsatisfied_count</th>\n",
       "    </tr>\n",
       "    <tr>\n",
       "      <th>Knowledge Name</th>\n",
       "      <th></th>\n",
       "      <th></th>\n",
       "      <th></th>\n",
       "      <th></th>\n",
       "      <th></th>\n",
       "    </tr>\n",
       "  </thead>\n",
       "  <tbody>\n",
       "    <tr>\n",
       "      <th>How can I track my order</th>\n",
       "      <td>16878</td>\n",
       "      <td>14065</td>\n",
       "      <td>12033</td>\n",
       "      <td>1257</td>\n",
       "      <td>0.000000</td>\n",
       "    </tr>\n",
       "    <tr>\n",
       "      <th>How long does it take to receive my product</th>\n",
       "      <td>17636</td>\n",
       "      <td>12959</td>\n",
       "      <td>11179</td>\n",
       "      <td>941</td>\n",
       "      <td>315.481167</td>\n",
       "    </tr>\n",
       "    <tr>\n",
       "      <th>Greeting</th>\n",
       "      <td>16065</td>\n",
       "      <td>10713</td>\n",
       "      <td>8573</td>\n",
       "      <td>1558</td>\n",
       "      <td>0.000000</td>\n",
       "    </tr>\n",
       "    <tr>\n",
       "      <th>Need help</th>\n",
       "      <td>10149</td>\n",
       "      <td>6707</td>\n",
       "      <td>4125</td>\n",
       "      <td>2163</td>\n",
       "      <td>0.000000</td>\n",
       "    </tr>\n",
       "    <tr>\n",
       "      <th>How to cancel my order</th>\n",
       "      <td>8284</td>\n",
       "      <td>5821</td>\n",
       "      <td>4984</td>\n",
       "      <td>343</td>\n",
       "      <td>0.000000</td>\n",
       "    </tr>\n",
       "    <tr>\n",
       "      <th>...</th>\n",
       "      <td>...</td>\n",
       "      <td>...</td>\n",
       "      <td>...</td>\n",
       "      <td>...</td>\n",
       "      <td>...</td>\n",
       "    </tr>\n",
       "    <tr>\n",
       "      <th>Unused account ki deactivate hoye jay</th>\n",
       "      <td>1</td>\n",
       "      <td>1</td>\n",
       "      <td>1</td>\n",
       "      <td>0</td>\n",
       "      <td>0.000000</td>\n",
       "    </tr>\n",
       "    <tr>\n",
       "      <th>Daraz e ki duivabe payment shomponno korte parbo</th>\n",
       "      <td>1</td>\n",
       "      <td>1</td>\n",
       "      <td>0</td>\n",
       "      <td>1</td>\n",
       "      <td>0.000000</td>\n",
       "    </tr>\n",
       "    <tr>\n",
       "      <th>Daraz e ki dhoroner ponno available royeche</th>\n",
       "      <td>1</td>\n",
       "      <td>1</td>\n",
       "      <td>1</td>\n",
       "      <td>0</td>\n",
       "      <td>0.000000</td>\n",
       "    </tr>\n",
       "    <tr>\n",
       "      <th>Vouchers are not stackable mane ki</th>\n",
       "      <td>1</td>\n",
       "      <td>1</td>\n",
       "      <td>0</td>\n",
       "      <td>0</td>\n",
       "      <td>1.000000</td>\n",
       "    </tr>\n",
       "    <tr>\n",
       "      <th>return-postmatch</th>\n",
       "      <td>1</td>\n",
       "      <td>1</td>\n",
       "      <td>1</td>\n",
       "      <td>0</td>\n",
       "      <td>0.000000</td>\n",
       "    </tr>\n",
       "  </tbody>\n",
       "</table>\n",
       "<p>620 rows × 5 columns</p>\n",
       "</div>"
      ],
      "text/plain": [
       "                                                  Chats  sid_cnt  \\\n",
       "Knowledge Name                                                     \n",
       "How can I track my order                          16878    14065   \n",
       "How long does it take to receive my product       17636    12959   \n",
       "Greeting                                          16065    10713   \n",
       "Need help                                         10149     6707   \n",
       "How to cancel my order                             8284     5821   \n",
       "...                                                 ...      ...   \n",
       "Unused account ki deactivate hoye jay                 1        1   \n",
       "Daraz e ki duivabe payment shomponno korte parbo      1        1   \n",
       "Daraz e ki dhoroner ponno available royeche           1        1   \n",
       "Vouchers are not stackable mane ki                    1        1   \n",
       "return-postmatch                                      1        1   \n",
       "\n",
       "                                                  total_session_resolved  \\\n",
       "Knowledge Name                                                             \n",
       "How can I track my order                                           12033   \n",
       "How long does it take to receive my product                        11179   \n",
       "Greeting                                                            8573   \n",
       "Need help                                                           4125   \n",
       "How to cancel my order                                              4984   \n",
       "...                                                                  ...   \n",
       "Unused account ki deactivate hoye jay                                  1   \n",
       "Daraz e ki duivabe payment shomponno korte parbo                       0   \n",
       "Daraz e ki dhoroner ponno available royeche                            1   \n",
       "Vouchers are not stackable mane ki                                     0   \n",
       "return-postmatch                                                       1   \n",
       "\n",
       "                                                  total_switch_agent  \\\n",
       "Knowledge Name                                                         \n",
       "How can I track my order                                        1257   \n",
       "How long does it take to receive my product                      941   \n",
       "Greeting                                                        1558   \n",
       "Need help                                                       2163   \n",
       "How to cancel my order                                           343   \n",
       "...                                                              ...   \n",
       "Unused account ki deactivate hoye jay                              0   \n",
       "Daraz e ki duivabe payment shomponno korte parbo                   1   \n",
       "Daraz e ki dhoroner ponno available royeche                        0   \n",
       "Vouchers are not stackable mane ki                                 0   \n",
       "return-postmatch                                                   0   \n",
       "\n",
       "                                                  unsatisfied_count  \n",
       "Knowledge Name                                                       \n",
       "How can I track my order                                   0.000000  \n",
       "How long does it take to receive my product              315.481167  \n",
       "Greeting                                                   0.000000  \n",
       "Need help                                                  0.000000  \n",
       "How to cancel my order                                     0.000000  \n",
       "...                                                             ...  \n",
       "Unused account ki deactivate hoye jay                      0.000000  \n",
       "Daraz e ki duivabe payment shomponno korte parbo           0.000000  \n",
       "Daraz e ki dhoroner ponno available royeche                0.000000  \n",
       "Vouchers are not stackable mane ki                         1.000000  \n",
       "return-postmatch                                           0.000000  \n",
       "\n",
       "[620 rows x 5 columns]"
      ]
     },
     "metadata": {},
     "output_type": "display_data"
    }
   ],
   "source": [
    "display(CPR_df_LC_pivottable17)\n",
    "display(CPR_df_EN_pivottable17)"
   ]
  },
  {
   "cell_type": "markdown",
   "metadata": {},
   "source": [
    "#### RR Calculation"
   ]
  },
  {
   "cell_type": "markdown",
   "metadata": {},
   "source": [
    "##### Week 16"
   ]
  },
  {
   "cell_type": "markdown",
   "metadata": {},
   "source": [
    "##### LC"
   ]
  },
  {
   "cell_type": "code",
   "execution_count": 50,
   "metadata": {},
   "outputs": [
    {
     "name": "stderr",
     "output_type": "stream",
     "text": [
      "C:\\Users\\Daraz\\AppData\\Local\\Temp/ipykernel_21712/19820394.py:3: SettingWithCopyWarning:\n",
      "\n",
      "\n",
      "A value is trying to be set on a copy of a slice from a DataFrame\n",
      "\n",
      "See the caveats in the documentation: https://pandas.pydata.org/pandas-docs/stable/user_guide/indexing.html#returning-a-view-versus-a-copy\n",
      "\n"
     ]
    }
   ],
   "source": [
    "CPR_df_LC_pivottable16['RR'] = 0\n",
    "for i in range(len(CPR_df_LC_pivottable16)):\n",
    "    CPR_df_LC_pivottable16['RR'][i] = (CPR_df_LC_pivottable16['total_session_resolved'][i]/CPR_df_LC_pivottable16['sid_cnt'][i])*100"
   ]
  },
  {
   "cell_type": "markdown",
   "metadata": {},
   "source": [
    "##### EN"
   ]
  },
  {
   "cell_type": "code",
   "execution_count": 51,
   "metadata": {},
   "outputs": [
    {
     "name": "stderr",
     "output_type": "stream",
     "text": [
      "C:\\Users\\Daraz\\AppData\\Local\\Temp/ipykernel_21712/1830679842.py:3: SettingWithCopyWarning:\n",
      "\n",
      "\n",
      "A value is trying to be set on a copy of a slice from a DataFrame\n",
      "\n",
      "See the caveats in the documentation: https://pandas.pydata.org/pandas-docs/stable/user_guide/indexing.html#returning-a-view-versus-a-copy\n",
      "\n"
     ]
    }
   ],
   "source": [
    "CPR_df_EN_pivottable16['RR'] = 0\n",
    "for i in range(len(CPR_df_EN_pivottable16)):\n",
    "    CPR_df_EN_pivottable16['RR'][i] = (CPR_df_EN_pivottable16['total_session_resolved'][i]/CPR_df_EN_pivottable16['sid_cnt'][i])*100"
   ]
  },
  {
   "cell_type": "markdown",
   "metadata": {},
   "source": [
    "##### Week 17"
   ]
  },
  {
   "cell_type": "markdown",
   "metadata": {},
   "source": [
    "##### LC"
   ]
  },
  {
   "cell_type": "code",
   "execution_count": 52,
   "metadata": {},
   "outputs": [
    {
     "name": "stderr",
     "output_type": "stream",
     "text": [
      "C:\\Users\\Daraz\\AppData\\Local\\Temp/ipykernel_21712/2153294430.py:3: SettingWithCopyWarning:\n",
      "\n",
      "\n",
      "A value is trying to be set on a copy of a slice from a DataFrame\n",
      "\n",
      "See the caveats in the documentation: https://pandas.pydata.org/pandas-docs/stable/user_guide/indexing.html#returning-a-view-versus-a-copy\n",
      "\n"
     ]
    }
   ],
   "source": [
    "CPR_df_LC_pivottable17['RR'] = 0\n",
    "for i in range(len(CPR_df_LC_pivottable17)):\n",
    "    CPR_df_LC_pivottable17['RR'][i] = (CPR_df_LC_pivottable17['total_session_resolved'][i]/CPR_df_LC_pivottable17['sid_cnt'][i])*100"
   ]
  },
  {
   "cell_type": "markdown",
   "metadata": {},
   "source": [
    "##### EN"
   ]
  },
  {
   "cell_type": "code",
   "execution_count": 53,
   "metadata": {},
   "outputs": [
    {
     "name": "stderr",
     "output_type": "stream",
     "text": [
      "C:\\Users\\Daraz\\AppData\\Local\\Temp/ipykernel_21712/3289350262.py:3: SettingWithCopyWarning:\n",
      "\n",
      "\n",
      "A value is trying to be set on a copy of a slice from a DataFrame\n",
      "\n",
      "See the caveats in the documentation: https://pandas.pydata.org/pandas-docs/stable/user_guide/indexing.html#returning-a-view-versus-a-copy\n",
      "\n"
     ]
    }
   ],
   "source": [
    "CPR_df_EN_pivottable17['RR'] = 0\n",
    "for i in range(len(CPR_df_EN_pivottable17)):\n",
    "    CPR_df_EN_pivottable17['RR'][i] = (CPR_df_EN_pivottable17['total_session_resolved'][i]/CPR_df_EN_pivottable17['sid_cnt'][i])*100"
   ]
  },
  {
   "cell_type": "markdown",
   "metadata": {},
   "source": [
    "#### STA Calculation"
   ]
  },
  {
   "cell_type": "markdown",
   "metadata": {},
   "source": [
    "##### Week 16"
   ]
  },
  {
   "cell_type": "markdown",
   "metadata": {},
   "source": [
    "##### LC"
   ]
  },
  {
   "cell_type": "code",
   "execution_count": 54,
   "metadata": {},
   "outputs": [
    {
     "name": "stderr",
     "output_type": "stream",
     "text": [
      "C:\\Users\\Daraz\\AppData\\Local\\Temp/ipykernel_21712/3739730160.py:3: SettingWithCopyWarning:\n",
      "\n",
      "\n",
      "A value is trying to be set on a copy of a slice from a DataFrame\n",
      "\n",
      "See the caveats in the documentation: https://pandas.pydata.org/pandas-docs/stable/user_guide/indexing.html#returning-a-view-versus-a-copy\n",
      "\n"
     ]
    }
   ],
   "source": [
    "CPR_df_LC_pivottable16['STA'] = 0\n",
    "for i in range(len(CPR_df_LC_pivottable16)):\n",
    "    CPR_df_LC_pivottable16['STA'][i] = (CPR_df_LC_pivottable16['total_switch_agent'][i]/CPR_df_LC_pivottable16['sid_cnt'][i])*100"
   ]
  },
  {
   "cell_type": "markdown",
   "metadata": {},
   "source": [
    "##### EN"
   ]
  },
  {
   "cell_type": "code",
   "execution_count": 55,
   "metadata": {},
   "outputs": [
    {
     "name": "stderr",
     "output_type": "stream",
     "text": [
      "C:\\Users\\Daraz\\AppData\\Local\\Temp/ipykernel_21712/99525902.py:3: SettingWithCopyWarning:\n",
      "\n",
      "\n",
      "A value is trying to be set on a copy of a slice from a DataFrame\n",
      "\n",
      "See the caveats in the documentation: https://pandas.pydata.org/pandas-docs/stable/user_guide/indexing.html#returning-a-view-versus-a-copy\n",
      "\n"
     ]
    }
   ],
   "source": [
    "CPR_df_EN_pivottable16['STA'] = 0\n",
    "for i in range(len(CPR_df_EN_pivottable16)):\n",
    "    CPR_df_EN_pivottable16['STA'][i] = (CPR_df_EN_pivottable16['total_switch_agent'][i]/CPR_df_EN_pivottable16['sid_cnt'][i])*100"
   ]
  },
  {
   "cell_type": "markdown",
   "metadata": {},
   "source": [
    "##### Week 17"
   ]
  },
  {
   "cell_type": "markdown",
   "metadata": {},
   "source": [
    "##### LC"
   ]
  },
  {
   "cell_type": "code",
   "execution_count": 56,
   "metadata": {},
   "outputs": [
    {
     "name": "stderr",
     "output_type": "stream",
     "text": [
      "C:\\Users\\Daraz\\AppData\\Local\\Temp/ipykernel_21712/2386203988.py:3: SettingWithCopyWarning:\n",
      "\n",
      "\n",
      "A value is trying to be set on a copy of a slice from a DataFrame\n",
      "\n",
      "See the caveats in the documentation: https://pandas.pydata.org/pandas-docs/stable/user_guide/indexing.html#returning-a-view-versus-a-copy\n",
      "\n"
     ]
    }
   ],
   "source": [
    "CPR_df_LC_pivottable17['STA'] = 0\n",
    "for i in range(len(CPR_df_LC_pivottable17)):\n",
    "    CPR_df_LC_pivottable17['STA'][i] = (CPR_df_LC_pivottable17['total_switch_agent'][i]/CPR_df_LC_pivottable17['sid_cnt'][i])*100"
   ]
  },
  {
   "cell_type": "markdown",
   "metadata": {},
   "source": [
    "##### EN"
   ]
  },
  {
   "cell_type": "code",
   "execution_count": 57,
   "metadata": {},
   "outputs": [
    {
     "name": "stderr",
     "output_type": "stream",
     "text": [
      "C:\\Users\\Daraz\\AppData\\Local\\Temp/ipykernel_21712/3568226220.py:3: SettingWithCopyWarning:\n",
      "\n",
      "\n",
      "A value is trying to be set on a copy of a slice from a DataFrame\n",
      "\n",
      "See the caveats in the documentation: https://pandas.pydata.org/pandas-docs/stable/user_guide/indexing.html#returning-a-view-versus-a-copy\n",
      "\n"
     ]
    }
   ],
   "source": [
    "CPR_df_EN_pivottable17['STA'] = 0\n",
    "for i in range(len(CPR_df_EN_pivottable17)):\n",
    "    CPR_df_EN_pivottable17['STA'][i] = (CPR_df_EN_pivottable17['total_switch_agent'][i]/CPR_df_EN_pivottable17['sid_cnt'][i])*100"
   ]
  },
  {
   "cell_type": "markdown",
   "metadata": {},
   "source": [
    "#### UR calculation"
   ]
  },
  {
   "cell_type": "markdown",
   "metadata": {},
   "source": [
    "##### Week 16"
   ]
  },
  {
   "cell_type": "markdown",
   "metadata": {},
   "source": [
    "##### LC"
   ]
  },
  {
   "cell_type": "code",
   "execution_count": 58,
   "metadata": {},
   "outputs": [
    {
     "name": "stderr",
     "output_type": "stream",
     "text": [
      "C:\\Users\\Daraz\\AppData\\Local\\Temp/ipykernel_21712/2851629690.py:3: SettingWithCopyWarning:\n",
      "\n",
      "\n",
      "A value is trying to be set on a copy of a slice from a DataFrame\n",
      "\n",
      "See the caveats in the documentation: https://pandas.pydata.org/pandas-docs/stable/user_guide/indexing.html#returning-a-view-versus-a-copy\n",
      "\n"
     ]
    }
   ],
   "source": [
    "CPR_df_LC_pivottable16['UR'] = 0\n",
    "for i in range(len(CPR_df_LC_pivottable16)):\n",
    "    CPR_df_LC_pivottable16['UR'][i] = (CPR_df_LC_pivottable16['unsatisfied_count'][i]/CPR_df_LC_pivottable16['Chats'][i])*100"
   ]
  },
  {
   "cell_type": "markdown",
   "metadata": {},
   "source": [
    "##### EN"
   ]
  },
  {
   "cell_type": "code",
   "execution_count": 59,
   "metadata": {},
   "outputs": [
    {
     "name": "stderr",
     "output_type": "stream",
     "text": [
      "C:\\Users\\Daraz\\AppData\\Local\\Temp/ipykernel_21712/2366322561.py:3: SettingWithCopyWarning:\n",
      "\n",
      "\n",
      "A value is trying to be set on a copy of a slice from a DataFrame\n",
      "\n",
      "See the caveats in the documentation: https://pandas.pydata.org/pandas-docs/stable/user_guide/indexing.html#returning-a-view-versus-a-copy\n",
      "\n"
     ]
    }
   ],
   "source": [
    "CPR_df_EN_pivottable16['UR'] = 0\n",
    "for i in range(len(CPR_df_EN_pivottable16)):\n",
    "    CPR_df_EN_pivottable16['UR'][i] = (CPR_df_EN_pivottable16['unsatisfied_count'][i]/CPR_df_EN_pivottable16['Chats'][i])*100"
   ]
  },
  {
   "cell_type": "markdown",
   "metadata": {},
   "source": [
    "##### Week 17"
   ]
  },
  {
   "cell_type": "markdown",
   "metadata": {},
   "source": [
    "##### LC"
   ]
  },
  {
   "cell_type": "code",
   "execution_count": 60,
   "metadata": {},
   "outputs": [
    {
     "name": "stderr",
     "output_type": "stream",
     "text": [
      "C:\\Users\\Daraz\\AppData\\Local\\Temp/ipykernel_21712/1531296942.py:3: SettingWithCopyWarning:\n",
      "\n",
      "\n",
      "A value is trying to be set on a copy of a slice from a DataFrame\n",
      "\n",
      "See the caveats in the documentation: https://pandas.pydata.org/pandas-docs/stable/user_guide/indexing.html#returning-a-view-versus-a-copy\n",
      "\n"
     ]
    }
   ],
   "source": [
    "CPR_df_LC_pivottable17['UR'] = 0\n",
    "for i in range(len(CPR_df_LC_pivottable17)):\n",
    "    CPR_df_LC_pivottable17['UR'][i] = (CPR_df_LC_pivottable17['unsatisfied_count'][i]/CPR_df_LC_pivottable17['Chats'][i])*100"
   ]
  },
  {
   "cell_type": "markdown",
   "metadata": {},
   "source": [
    "##### EN"
   ]
  },
  {
   "cell_type": "code",
   "execution_count": 61,
   "metadata": {},
   "outputs": [
    {
     "name": "stderr",
     "output_type": "stream",
     "text": [
      "C:\\Users\\Daraz\\AppData\\Local\\Temp/ipykernel_21712/181449765.py:3: SettingWithCopyWarning:\n",
      "\n",
      "\n",
      "A value is trying to be set on a copy of a slice from a DataFrame\n",
      "\n",
      "See the caveats in the documentation: https://pandas.pydata.org/pandas-docs/stable/user_guide/indexing.html#returning-a-view-versus-a-copy\n",
      "\n"
     ]
    }
   ],
   "source": [
    "CPR_df_EN_pivottable17['UR'] = 0\n",
    "for i in range(len(CPR_df_EN_pivottable17)):\n",
    "    CPR_df_EN_pivottable17['UR'][i] = (CPR_df_EN_pivottable17['unsatisfied_count'][i]/CPR_df_EN_pivottable17['Chats'][i])*100"
   ]
  },
  {
   "cell_type": "code",
   "execution_count": 62,
   "metadata": {},
   "outputs": [
    {
     "data": {
      "text/html": [
       "<div>\n",
       "<style scoped>\n",
       "    .dataframe tbody tr th:only-of-type {\n",
       "        vertical-align: middle;\n",
       "    }\n",
       "\n",
       "    .dataframe tbody tr th {\n",
       "        vertical-align: top;\n",
       "    }\n",
       "\n",
       "    .dataframe thead th {\n",
       "        text-align: right;\n",
       "    }\n",
       "</style>\n",
       "<table border=\"1\" class=\"dataframe\">\n",
       "  <thead>\n",
       "    <tr style=\"text-align: right;\">\n",
       "      <th></th>\n",
       "      <th>Chats</th>\n",
       "      <th>sid_cnt</th>\n",
       "      <th>total_session_resolved</th>\n",
       "      <th>total_switch_agent</th>\n",
       "      <th>unsatisfied_count</th>\n",
       "      <th>RR</th>\n",
       "      <th>STA</th>\n",
       "      <th>UR</th>\n",
       "    </tr>\n",
       "    <tr>\n",
       "      <th>Knowledge Name</th>\n",
       "      <th></th>\n",
       "      <th></th>\n",
       "      <th></th>\n",
       "      <th></th>\n",
       "      <th></th>\n",
       "      <th></th>\n",
       "      <th></th>\n",
       "      <th></th>\n",
       "    </tr>\n",
       "  </thead>\n",
       "  <tbody>\n",
       "    <tr>\n",
       "      <th>আমার অর্ডার কোথায়?</th>\n",
       "      <td>2967</td>\n",
       "      <td>2037</td>\n",
       "      <td>1373</td>\n",
       "      <td>365</td>\n",
       "      <td>15.600000</td>\n",
       "      <td>67</td>\n",
       "      <td>17</td>\n",
       "      <td>0</td>\n",
       "    </tr>\n",
       "    <tr>\n",
       "      <th>আমি কি আমার অর্ডারটি বাতিল করতে পারি?</th>\n",
       "      <td>1300</td>\n",
       "      <td>938</td>\n",
       "      <td>638</td>\n",
       "      <td>154</td>\n",
       "      <td>23.658333</td>\n",
       "      <td>68</td>\n",
       "      <td>16</td>\n",
       "      <td>1</td>\n",
       "    </tr>\n",
       "    <tr>\n",
       "      <th>আমি কি আইটেমটি রিটার্ন করতে পারবো</th>\n",
       "      <td>1226</td>\n",
       "      <td>903</td>\n",
       "      <td>641</td>\n",
       "      <td>134</td>\n",
       "      <td>8.566667</td>\n",
       "      <td>70</td>\n",
       "      <td>14</td>\n",
       "      <td>0</td>\n",
       "    </tr>\n",
       "    <tr>\n",
       "      <th>রিফান্ড প্রসেস শেষ হতে কতদিন লাগবে?</th>\n",
       "      <td>983</td>\n",
       "      <td>768</td>\n",
       "      <td>540</td>\n",
       "      <td>121</td>\n",
       "      <td>2.000000</td>\n",
       "      <td>70</td>\n",
       "      <td>15</td>\n",
       "      <td>0</td>\n",
       "    </tr>\n",
       "    <tr>\n",
       "      <th>ক্যাম্পেইন  বিষয়ে</th>\n",
       "      <td>906</td>\n",
       "      <td>620</td>\n",
       "      <td>353</td>\n",
       "      <td>174</td>\n",
       "      <td>0.000000</td>\n",
       "      <td>56</td>\n",
       "      <td>28</td>\n",
       "      <td>0</td>\n",
       "    </tr>\n",
       "  </tbody>\n",
       "</table>\n",
       "</div>"
      ],
      "text/plain": [
       "                                       Chats  sid_cnt  total_session_resolved  \\\n",
       "Knowledge Name                                                                  \n",
       "আমার অর্ডার কোথায়?                      2967     2037                    1373   \n",
       "আমি কি আমার অর্ডারটি বাতিল করতে পারি?   1300      938                     638   \n",
       "আমি কি আইটেমটি রিটার্ন করতে পারবো       1226      903                     641   \n",
       "রিফান্ড প্রসেস শেষ হতে কতদিন লাগবে?      983      768                     540   \n",
       "ক্যাম্পেইন  বিষয়ে                       906      620                     353   \n",
       "\n",
       "                                       total_switch_agent  unsatisfied_count  \\\n",
       "Knowledge Name                                                                 \n",
       "আমার অর্ডার কোথায়?                                    365          15.600000   \n",
       "আমি কি আমার অর্ডারটি বাতিল করতে পারি?                 154          23.658333   \n",
       "আমি কি আইটেমটি রিটার্ন করতে পারবো                     134           8.566667   \n",
       "রিফান্ড প্রসেস শেষ হতে কতদিন লাগবে?                   121           2.000000   \n",
       "ক্যাম্পেইন  বিষয়ে                                    174           0.000000   \n",
       "\n",
       "                                       RR  STA  UR  \n",
       "Knowledge Name                                      \n",
       "আমার অর্ডার কোথায়?                     67   17   0  \n",
       "আমি কি আমার অর্ডারটি বাতিল করতে পারি?  68   16   1  \n",
       "আমি কি আইটেমটি রিটার্ন করতে পারবো      70   14   0  \n",
       "রিফান্ড প্রসেস শেষ হতে কতদিন লাগবে?    70   15   0  \n",
       "ক্যাম্পেইন  বিষয়ে                     56   28   0  "
      ]
     },
     "metadata": {},
     "output_type": "display_data"
    },
    {
     "data": {
      "text/html": [
       "<div>\n",
       "<style scoped>\n",
       "    .dataframe tbody tr th:only-of-type {\n",
       "        vertical-align: middle;\n",
       "    }\n",
       "\n",
       "    .dataframe tbody tr th {\n",
       "        vertical-align: top;\n",
       "    }\n",
       "\n",
       "    .dataframe thead th {\n",
       "        text-align: right;\n",
       "    }\n",
       "</style>\n",
       "<table border=\"1\" class=\"dataframe\">\n",
       "  <thead>\n",
       "    <tr style=\"text-align: right;\">\n",
       "      <th></th>\n",
       "      <th>Chats</th>\n",
       "      <th>sid_cnt</th>\n",
       "      <th>total_session_resolved</th>\n",
       "      <th>total_switch_agent</th>\n",
       "      <th>unsatisfied_count</th>\n",
       "      <th>RR</th>\n",
       "      <th>STA</th>\n",
       "      <th>UR</th>\n",
       "    </tr>\n",
       "    <tr>\n",
       "      <th>Knowledge Name</th>\n",
       "      <th></th>\n",
       "      <th></th>\n",
       "      <th></th>\n",
       "      <th></th>\n",
       "      <th></th>\n",
       "      <th></th>\n",
       "      <th></th>\n",
       "      <th></th>\n",
       "    </tr>\n",
       "  </thead>\n",
       "  <tbody>\n",
       "    <tr>\n",
       "      <th>How can I track my order</th>\n",
       "      <td>15226</td>\n",
       "      <td>12845</td>\n",
       "      <td>10828</td>\n",
       "      <td>1420</td>\n",
       "      <td>0.000000</td>\n",
       "      <td>84</td>\n",
       "      <td>11</td>\n",
       "      <td>0</td>\n",
       "    </tr>\n",
       "    <tr>\n",
       "      <th>How long does it take to receive my product</th>\n",
       "      <td>15493</td>\n",
       "      <td>11766</td>\n",
       "      <td>10028</td>\n",
       "      <td>1054</td>\n",
       "      <td>219.744201</td>\n",
       "      <td>85</td>\n",
       "      <td>8</td>\n",
       "      <td>1</td>\n",
       "    </tr>\n",
       "    <tr>\n",
       "      <th>Greeting</th>\n",
       "      <td>15875</td>\n",
       "      <td>10290</td>\n",
       "      <td>7998</td>\n",
       "      <td>1826</td>\n",
       "      <td>0.000000</td>\n",
       "      <td>77</td>\n",
       "      <td>17</td>\n",
       "      <td>0</td>\n",
       "    </tr>\n",
       "    <tr>\n",
       "      <th>Need help</th>\n",
       "      <td>10984</td>\n",
       "      <td>7772</td>\n",
       "      <td>4673</td>\n",
       "      <td>2646</td>\n",
       "      <td>0.000000</td>\n",
       "      <td>60</td>\n",
       "      <td>34</td>\n",
       "      <td>0</td>\n",
       "    </tr>\n",
       "    <tr>\n",
       "      <th>How to cancel my order</th>\n",
       "      <td>9630</td>\n",
       "      <td>6791</td>\n",
       "      <td>5844</td>\n",
       "      <td>406</td>\n",
       "      <td>0.000000</td>\n",
       "      <td>86</td>\n",
       "      <td>5</td>\n",
       "      <td>0</td>\n",
       "    </tr>\n",
       "  </tbody>\n",
       "</table>\n",
       "</div>"
      ],
      "text/plain": [
       "                                             Chats  sid_cnt  \\\n",
       "Knowledge Name                                                \n",
       "How can I track my order                     15226    12845   \n",
       "How long does it take to receive my product  15493    11766   \n",
       "Greeting                                     15875    10290   \n",
       "Need help                                    10984     7772   \n",
       "How to cancel my order                        9630     6791   \n",
       "\n",
       "                                             total_session_resolved  \\\n",
       "Knowledge Name                                                        \n",
       "How can I track my order                                      10828   \n",
       "How long does it take to receive my product                   10028   \n",
       "Greeting                                                       7998   \n",
       "Need help                                                      4673   \n",
       "How to cancel my order                                         5844   \n",
       "\n",
       "                                             total_switch_agent  \\\n",
       "Knowledge Name                                                    \n",
       "How can I track my order                                   1420   \n",
       "How long does it take to receive my product                1054   \n",
       "Greeting                                                   1826   \n",
       "Need help                                                  2646   \n",
       "How to cancel my order                                      406   \n",
       "\n",
       "                                             unsatisfied_count  RR  STA  UR  \n",
       "Knowledge Name                                                               \n",
       "How can I track my order                              0.000000  84   11   0  \n",
       "How long does it take to receive my product         219.744201  85    8   1  \n",
       "Greeting                                              0.000000  77   17   0  \n",
       "Need help                                             0.000000  60   34   0  \n",
       "How to cancel my order                                0.000000  86    5   0  "
      ]
     },
     "metadata": {},
     "output_type": "display_data"
    },
    {
     "data": {
      "text/html": [
       "<div>\n",
       "<style scoped>\n",
       "    .dataframe tbody tr th:only-of-type {\n",
       "        vertical-align: middle;\n",
       "    }\n",
       "\n",
       "    .dataframe tbody tr th {\n",
       "        vertical-align: top;\n",
       "    }\n",
       "\n",
       "    .dataframe thead th {\n",
       "        text-align: right;\n",
       "    }\n",
       "</style>\n",
       "<table border=\"1\" class=\"dataframe\">\n",
       "  <thead>\n",
       "    <tr style=\"text-align: right;\">\n",
       "      <th></th>\n",
       "      <th>Chats</th>\n",
       "      <th>sid_cnt</th>\n",
       "      <th>total_session_resolved</th>\n",
       "      <th>total_switch_agent</th>\n",
       "      <th>unsatisfied_count</th>\n",
       "      <th>RR</th>\n",
       "      <th>STA</th>\n",
       "      <th>UR</th>\n",
       "    </tr>\n",
       "    <tr>\n",
       "      <th>Knowledge Name</th>\n",
       "      <th></th>\n",
       "      <th></th>\n",
       "      <th></th>\n",
       "      <th></th>\n",
       "      <th></th>\n",
       "      <th></th>\n",
       "      <th></th>\n",
       "      <th></th>\n",
       "    </tr>\n",
       "  </thead>\n",
       "  <tbody>\n",
       "    <tr>\n",
       "      <th>আমার অর্ডার কিভাবে ট্র্যাক করতে পারবো?</th>\n",
       "      <td>12721</td>\n",
       "      <td>8927</td>\n",
       "      <td>7610</td>\n",
       "      <td>397</td>\n",
       "      <td>0.0</td>\n",
       "      <td>85</td>\n",
       "      <td>4</td>\n",
       "      <td>0</td>\n",
       "    </tr>\n",
       "    <tr>\n",
       "      <th>আমার সাহায্য লাগবে</th>\n",
       "      <td>6742</td>\n",
       "      <td>5762</td>\n",
       "      <td>4363</td>\n",
       "      <td>888</td>\n",
       "      <td>0.0</td>\n",
       "      <td>75</td>\n",
       "      <td>15</td>\n",
       "      <td>0</td>\n",
       "    </tr>\n",
       "    <tr>\n",
       "      <th>আমার অর্ডার আসতে দেরি হচ্ছে কেন ?</th>\n",
       "      <td>3350</td>\n",
       "      <td>3143</td>\n",
       "      <td>2810</td>\n",
       "      <td>95</td>\n",
       "      <td>0.0</td>\n",
       "      <td>89</td>\n",
       "      <td>3</td>\n",
       "      <td>0</td>\n",
       "    </tr>\n",
       "    <tr>\n",
       "      <th>অর্ডার কিভাবে ক্যান্সেল করব?</th>\n",
       "      <td>3867</td>\n",
       "      <td>2497</td>\n",
       "      <td>2104</td>\n",
       "      <td>87</td>\n",
       "      <td>0.0</td>\n",
       "      <td>84</td>\n",
       "      <td>3</td>\n",
       "      <td>0</td>\n",
       "    </tr>\n",
       "    <tr>\n",
       "      <th>আমি কি আইটেমটি রিটার্ন করতে পারবো</th>\n",
       "      <td>3226</td>\n",
       "      <td>2282</td>\n",
       "      <td>1959</td>\n",
       "      <td>97</td>\n",
       "      <td>0.0</td>\n",
       "      <td>85</td>\n",
       "      <td>4</td>\n",
       "      <td>0</td>\n",
       "    </tr>\n",
       "  </tbody>\n",
       "</table>\n",
       "</div>"
      ],
      "text/plain": [
       "                                        Chats  sid_cnt  \\\n",
       "Knowledge Name                                           \n",
       "আমার অর্ডার কিভাবে ট্র্যাক করতে পারবো?  12721     8927   \n",
       "আমার সাহায্য লাগবে                       6742     5762   \n",
       "আমার অর্ডার আসতে দেরি হচ্ছে কেন ?        3350     3143   \n",
       "অর্ডার কিভাবে ক্যান্সেল করব?             3867     2497   \n",
       "আমি কি আইটেমটি রিটার্ন করতে পারবো        3226     2282   \n",
       "\n",
       "                                        total_session_resolved  \\\n",
       "Knowledge Name                                                   \n",
       "আমার অর্ডার কিভাবে ট্র্যাক করতে পারবো?                    7610   \n",
       "আমার সাহায্য লাগবে                                        4363   \n",
       "আমার অর্ডার আসতে দেরি হচ্ছে কেন ?                         2810   \n",
       "অর্ডার কিভাবে ক্যান্সেল করব?                              2104   \n",
       "আমি কি আইটেমটি রিটার্ন করতে পারবো                         1959   \n",
       "\n",
       "                                        total_switch_agent  unsatisfied_count  \\\n",
       "Knowledge Name                                                                  \n",
       "আমার অর্ডার কিভাবে ট্র্যাক করতে পারবো?                 397                0.0   \n",
       "আমার সাহায্য লাগবে                                     888                0.0   \n",
       "আমার অর্ডার আসতে দেরি হচ্ছে কেন ?                       95                0.0   \n",
       "অর্ডার কিভাবে ক্যান্সেল করব?                            87                0.0   \n",
       "আমি কি আইটেমটি রিটার্ন করতে পারবো                       97                0.0   \n",
       "\n",
       "                                        RR  STA  UR  \n",
       "Knowledge Name                                       \n",
       "আমার অর্ডার কিভাবে ট্র্যাক করতে পারবো?  85    4   0  \n",
       "আমার সাহায্য লাগবে                      75   15   0  \n",
       "আমার অর্ডার আসতে দেরি হচ্ছে কেন ?       89    3   0  \n",
       "অর্ডার কিভাবে ক্যান্সেল করব?            84    3   0  \n",
       "আমি কি আইটেমটি রিটার্ন করতে পারবো       85    4   0  "
      ]
     },
     "metadata": {},
     "output_type": "display_data"
    },
    {
     "data": {
      "text/html": [
       "<div>\n",
       "<style scoped>\n",
       "    .dataframe tbody tr th:only-of-type {\n",
       "        vertical-align: middle;\n",
       "    }\n",
       "\n",
       "    .dataframe tbody tr th {\n",
       "        vertical-align: top;\n",
       "    }\n",
       "\n",
       "    .dataframe thead th {\n",
       "        text-align: right;\n",
       "    }\n",
       "</style>\n",
       "<table border=\"1\" class=\"dataframe\">\n",
       "  <thead>\n",
       "    <tr style=\"text-align: right;\">\n",
       "      <th></th>\n",
       "      <th>Chats</th>\n",
       "      <th>sid_cnt</th>\n",
       "      <th>total_session_resolved</th>\n",
       "      <th>total_switch_agent</th>\n",
       "      <th>unsatisfied_count</th>\n",
       "      <th>RR</th>\n",
       "      <th>STA</th>\n",
       "      <th>UR</th>\n",
       "    </tr>\n",
       "    <tr>\n",
       "      <th>Knowledge Name</th>\n",
       "      <th></th>\n",
       "      <th></th>\n",
       "      <th></th>\n",
       "      <th></th>\n",
       "      <th></th>\n",
       "      <th></th>\n",
       "      <th></th>\n",
       "      <th></th>\n",
       "    </tr>\n",
       "  </thead>\n",
       "  <tbody>\n",
       "    <tr>\n",
       "      <th>How can I track my order</th>\n",
       "      <td>16878</td>\n",
       "      <td>14065</td>\n",
       "      <td>12033</td>\n",
       "      <td>1257</td>\n",
       "      <td>0.000000</td>\n",
       "      <td>85</td>\n",
       "      <td>8</td>\n",
       "      <td>0</td>\n",
       "    </tr>\n",
       "    <tr>\n",
       "      <th>How long does it take to receive my product</th>\n",
       "      <td>17636</td>\n",
       "      <td>12959</td>\n",
       "      <td>11179</td>\n",
       "      <td>941</td>\n",
       "      <td>315.481167</td>\n",
       "      <td>86</td>\n",
       "      <td>7</td>\n",
       "      <td>1</td>\n",
       "    </tr>\n",
       "    <tr>\n",
       "      <th>Greeting</th>\n",
       "      <td>16065</td>\n",
       "      <td>10713</td>\n",
       "      <td>8573</td>\n",
       "      <td>1558</td>\n",
       "      <td>0.000000</td>\n",
       "      <td>80</td>\n",
       "      <td>14</td>\n",
       "      <td>0</td>\n",
       "    </tr>\n",
       "    <tr>\n",
       "      <th>Need help</th>\n",
       "      <td>10149</td>\n",
       "      <td>6707</td>\n",
       "      <td>4125</td>\n",
       "      <td>2163</td>\n",
       "      <td>0.000000</td>\n",
       "      <td>61</td>\n",
       "      <td>32</td>\n",
       "      <td>0</td>\n",
       "    </tr>\n",
       "    <tr>\n",
       "      <th>How to cancel my order</th>\n",
       "      <td>8284</td>\n",
       "      <td>5821</td>\n",
       "      <td>4984</td>\n",
       "      <td>343</td>\n",
       "      <td>0.000000</td>\n",
       "      <td>85</td>\n",
       "      <td>5</td>\n",
       "      <td>0</td>\n",
       "    </tr>\n",
       "  </tbody>\n",
       "</table>\n",
       "</div>"
      ],
      "text/plain": [
       "                                             Chats  sid_cnt  \\\n",
       "Knowledge Name                                                \n",
       "How can I track my order                     16878    14065   \n",
       "How long does it take to receive my product  17636    12959   \n",
       "Greeting                                     16065    10713   \n",
       "Need help                                    10149     6707   \n",
       "How to cancel my order                        8284     5821   \n",
       "\n",
       "                                             total_session_resolved  \\\n",
       "Knowledge Name                                                        \n",
       "How can I track my order                                      12033   \n",
       "How long does it take to receive my product                   11179   \n",
       "Greeting                                                       8573   \n",
       "Need help                                                      4125   \n",
       "How to cancel my order                                         4984   \n",
       "\n",
       "                                             total_switch_agent  \\\n",
       "Knowledge Name                                                    \n",
       "How can I track my order                                   1257   \n",
       "How long does it take to receive my product                 941   \n",
       "Greeting                                                   1558   \n",
       "Need help                                                  2163   \n",
       "How to cancel my order                                      343   \n",
       "\n",
       "                                             unsatisfied_count  RR  STA  UR  \n",
       "Knowledge Name                                                               \n",
       "How can I track my order                              0.000000  85    8   0  \n",
       "How long does it take to receive my product         315.481167  86    7   1  \n",
       "Greeting                                              0.000000  80   14   0  \n",
       "Need help                                             0.000000  61   32   0  \n",
       "How to cancel my order                                0.000000  85    5   0  "
      ]
     },
     "metadata": {},
     "output_type": "display_data"
    }
   ],
   "source": [
    "display(CPR_df_LC_pivottable16.head())\n",
    "display(CPR_df_EN_pivottable16.head())\n",
    "\n",
    "display(CPR_df_LC_pivottable17.head())\n",
    "display(CPR_df_EN_pivottable17.head())"
   ]
  },
  {
   "cell_type": "markdown",
   "metadata": {},
   "source": [
    "#### RR, STA, UR numbers"
   ]
  },
  {
   "cell_type": "markdown",
   "metadata": {},
   "source": [
    "##### LC"
   ]
  },
  {
   "cell_type": "markdown",
   "metadata": {},
   "source": [
    "##### Week 16"
   ]
  },
  {
   "cell_type": "code",
   "execution_count": 63,
   "metadata": {},
   "outputs": [],
   "source": [
    "CPR_df_LC_pivottable_top16 = CPR_df_LC_pivottable16[['sid_cnt','RR','STA','UR']].sort_values('sid_cnt', ascending = False).head(20)\n",
    "CPR_df_EN_pivottable_top16 = CPR_df_EN_pivottable16[['sid_cnt','RR','STA','UR']].sort_values('sid_cnt', ascending = False).head(20)"
   ]
  },
  {
   "cell_type": "markdown",
   "metadata": {},
   "source": [
    "##### Week 17"
   ]
  },
  {
   "cell_type": "code",
   "execution_count": 64,
   "metadata": {},
   "outputs": [],
   "source": [
    "CPR_df_LC_pivottable_top17 = CPR_df_LC_pivottable17[['sid_cnt','RR','STA','UR']].sort_values('sid_cnt', ascending = False).head(20)\n",
    "CPR_df_EN_pivottable_top17 = CPR_df_EN_pivottable17[['sid_cnt','RR','STA','UR']].sort_values('sid_cnt', ascending = False).head(20)"
   ]
  },
  {
   "cell_type": "markdown",
   "metadata": {},
   "source": [
    "### KT Comparision"
   ]
  },
  {
   "cell_type": "code",
   "execution_count": 65,
   "metadata": {},
   "outputs": [
    {
     "data": {
      "text/html": [
       "<style type=\"text/css\">\n",
       "</style>\n",
       "<table id=\"T_5f8b6_\" style='display:inline'>\n",
       "  <caption>Week 16 LC</caption>\n",
       "  <thead>\n",
       "    <tr>\n",
       "      <th class=\"blank level0\" >&nbsp;</th>\n",
       "      <th class=\"col_heading level0 col0\" >sid_cnt</th>\n",
       "      <th class=\"col_heading level0 col1\" >RR</th>\n",
       "      <th class=\"col_heading level0 col2\" >STA</th>\n",
       "      <th class=\"col_heading level0 col3\" >UR</th>\n",
       "    </tr>\n",
       "    <tr>\n",
       "      <th class=\"index_name level0\" >Knowledge Name</th>\n",
       "      <th class=\"blank col0\" >&nbsp;</th>\n",
       "      <th class=\"blank col1\" >&nbsp;</th>\n",
       "      <th class=\"blank col2\" >&nbsp;</th>\n",
       "      <th class=\"blank col3\" >&nbsp;</th>\n",
       "    </tr>\n",
       "  </thead>\n",
       "  <tbody>\n",
       "    <tr>\n",
       "      <th id=\"T_5f8b6_level0_row0\" class=\"row_heading level0 row0\" >আমার অর্ডার কোথায়?</th>\n",
       "      <td id=\"T_5f8b6_row0_col0\" class=\"data row0 col0\" >2037</td>\n",
       "      <td id=\"T_5f8b6_row0_col1\" class=\"data row0 col1\" >67</td>\n",
       "      <td id=\"T_5f8b6_row0_col2\" class=\"data row0 col2\" >17</td>\n",
       "      <td id=\"T_5f8b6_row0_col3\" class=\"data row0 col3\" >0</td>\n",
       "    </tr>\n",
       "    <tr>\n",
       "      <th id=\"T_5f8b6_level0_row1\" class=\"row_heading level0 row1\" >আমি কি আমার অর্ডারটি বাতিল করতে পারি?</th>\n",
       "      <td id=\"T_5f8b6_row1_col0\" class=\"data row1 col0\" >938</td>\n",
       "      <td id=\"T_5f8b6_row1_col1\" class=\"data row1 col1\" >68</td>\n",
       "      <td id=\"T_5f8b6_row1_col2\" class=\"data row1 col2\" >16</td>\n",
       "      <td id=\"T_5f8b6_row1_col3\" class=\"data row1 col3\" >1</td>\n",
       "    </tr>\n",
       "    <tr>\n",
       "      <th id=\"T_5f8b6_level0_row2\" class=\"row_heading level0 row2\" >আমি কি আইটেমটি রিটার্ন করতে পারবো</th>\n",
       "      <td id=\"T_5f8b6_row2_col0\" class=\"data row2 col0\" >903</td>\n",
       "      <td id=\"T_5f8b6_row2_col1\" class=\"data row2 col1\" >70</td>\n",
       "      <td id=\"T_5f8b6_row2_col2\" class=\"data row2 col2\" >14</td>\n",
       "      <td id=\"T_5f8b6_row2_col3\" class=\"data row2 col3\" >0</td>\n",
       "    </tr>\n",
       "    <tr>\n",
       "      <th id=\"T_5f8b6_level0_row3\" class=\"row_heading level0 row3\" >রিফান্ড প্রসেস শেষ হতে কতদিন লাগবে?</th>\n",
       "      <td id=\"T_5f8b6_row3_col0\" class=\"data row3 col0\" >768</td>\n",
       "      <td id=\"T_5f8b6_row3_col1\" class=\"data row3 col1\" >70</td>\n",
       "      <td id=\"T_5f8b6_row3_col2\" class=\"data row3 col2\" >15</td>\n",
       "      <td id=\"T_5f8b6_row3_col3\" class=\"data row3 col3\" >0</td>\n",
       "    </tr>\n",
       "    <tr>\n",
       "      <th id=\"T_5f8b6_level0_row4\" class=\"row_heading level0 row4\" >ক্যাম্পেইন  বিষয়ে</th>\n",
       "      <td id=\"T_5f8b6_row4_col0\" class=\"data row4 col0\" >620</td>\n",
       "      <td id=\"T_5f8b6_row4_col1\" class=\"data row4 col1\" >56</td>\n",
       "      <td id=\"T_5f8b6_row4_col2\" class=\"data row4 col2\" >28</td>\n",
       "      <td id=\"T_5f8b6_row4_col3\" class=\"data row4 col3\" >0</td>\n",
       "    </tr>\n",
       "    <tr>\n",
       "      <th id=\"T_5f8b6_level0_row5\" class=\"row_heading level0 row5\" >আমার অর্ডার কিভাবে ট্র্যাক করতে পারবো?</th>\n",
       "      <td id=\"T_5f8b6_row5_col0\" class=\"data row5 col0\" >555</td>\n",
       "      <td id=\"T_5f8b6_row5_col1\" class=\"data row5 col1\" >72</td>\n",
       "      <td id=\"T_5f8b6_row5_col2\" class=\"data row5 col2\" >12</td>\n",
       "      <td id=\"T_5f8b6_row5_col3\" class=\"data row5 col3\" >1</td>\n",
       "    </tr>\n",
       "    <tr>\n",
       "      <th id=\"T_5f8b6_level0_row6\" class=\"row_heading level0 row6\" >অর্ডার প্লেস করতে পারছি না কেন?</th>\n",
       "      <td id=\"T_5f8b6_row6_col0\" class=\"data row6 col0\" >549</td>\n",
       "      <td id=\"T_5f8b6_row6_col1\" class=\"data row6 col1\" >85</td>\n",
       "      <td id=\"T_5f8b6_row6_col2\" class=\"data row6 col2\" >6</td>\n",
       "      <td id=\"T_5f8b6_row6_col3\" class=\"data row6 col3\" >2</td>\n",
       "    </tr>\n",
       "    <tr>\n",
       "      <th id=\"T_5f8b6_level0_row7\" class=\"row_heading level0 row7\" >বিকাশে কোনো ক্যাশব্যাক আছে কি ?</th>\n",
       "      <td id=\"T_5f8b6_row7_col0\" class=\"data row7 col0\" >323</td>\n",
       "      <td id=\"T_5f8b6_row7_col1\" class=\"data row7 col1\" >68</td>\n",
       "      <td id=\"T_5f8b6_row7_col2\" class=\"data row7 col2\" >18</td>\n",
       "      <td id=\"T_5f8b6_row7_col3\" class=\"data row7 col3\" >8</td>\n",
       "    </tr>\n",
       "    <tr>\n",
       "      <th id=\"T_5f8b6_level0_row8\" class=\"row_heading level0 row8\" >আমার পণ্য ডেলিভারি হতে কতদিন লাগবে ?</th>\n",
       "      <td id=\"T_5f8b6_row8_col0\" class=\"data row8 col0\" >323</td>\n",
       "      <td id=\"T_5f8b6_row8_col1\" class=\"data row8 col1\" >79</td>\n",
       "      <td id=\"T_5f8b6_row8_col2\" class=\"data row8 col2\" >8</td>\n",
       "      <td id=\"T_5f8b6_row8_col3\" class=\"data row8 col3\" >1</td>\n",
       "    </tr>\n",
       "    <tr>\n",
       "      <th id=\"T_5f8b6_level0_row9\" class=\"row_heading level0 row9\" >আমার অর্ডারটি কবে ডেলিভারি পেতে পারি?</th>\n",
       "      <td id=\"T_5f8b6_row9_col0\" class=\"data row9 col0\" >294</td>\n",
       "      <td id=\"T_5f8b6_row9_col1\" class=\"data row9 col1\" >74</td>\n",
       "      <td id=\"T_5f8b6_row9_col2\" class=\"data row9 col2\" >10</td>\n",
       "      <td id=\"T_5f8b6_row9_col3\" class=\"data row9 col3\" >2</td>\n",
       "    </tr>\n",
       "    <tr>\n",
       "      <th id=\"T_5f8b6_level0_row10\" class=\"row_heading level0 row10\" >নতুন কাস্টমারদের জন্য কোনো ডিসকাউন্ট আছে কি ?</th>\n",
       "      <td id=\"T_5f8b6_row10_col0\" class=\"data row10 col0\" >291</td>\n",
       "      <td id=\"T_5f8b6_row10_col1\" class=\"data row10 col1\" >82</td>\n",
       "      <td id=\"T_5f8b6_row10_col2\" class=\"data row10 col2\" >6</td>\n",
       "      <td id=\"T_5f8b6_row10_col3\" class=\"data row10 col3\" >2</td>\n",
       "    </tr>\n",
       "    <tr>\n",
       "      <th id=\"T_5f8b6_level0_row11\" class=\"row_heading level0 row11\" >আমার অর্ডার আসতে দেরি হচ্ছে কেন ?</th>\n",
       "      <td id=\"T_5f8b6_row11_col0\" class=\"data row11 col0\" >277</td>\n",
       "      <td id=\"T_5f8b6_row11_col1\" class=\"data row11 col1\" >72</td>\n",
       "      <td id=\"T_5f8b6_row11_col2\" class=\"data row11 col2\" >11</td>\n",
       "      <td id=\"T_5f8b6_row11_col3\" class=\"data row11 col3\" >3</td>\n",
       "    </tr>\n",
       "    <tr>\n",
       "      <th id=\"T_5f8b6_level0_row12\" class=\"row_heading level0 row12\" >কত দ্রুত আমি আমার অর্ডার পেতে পারি?</th>\n",
       "      <td id=\"T_5f8b6_row12_col0\" class=\"data row12 col0\" >276</td>\n",
       "      <td id=\"T_5f8b6_row12_col1\" class=\"data row12 col1\" >63</td>\n",
       "      <td id=\"T_5f8b6_row12_col2\" class=\"data row12 col2\" >15</td>\n",
       "      <td id=\"T_5f8b6_row12_col3\" class=\"data row12 col3\" >2</td>\n",
       "    </tr>\n",
       "    <tr>\n",
       "      <th id=\"T_5f8b6_level0_row13\" class=\"row_heading level0 row13\" >কালেকশন পয়েন্টের ওটিপি কিভাবে পাবো ?</th>\n",
       "      <td id=\"T_5f8b6_row13_col0\" class=\"data row13 col0\" >268</td>\n",
       "      <td id=\"T_5f8b6_row13_col1\" class=\"data row13 col1\" >72</td>\n",
       "      <td id=\"T_5f8b6_row13_col2\" class=\"data row13 col2\" >9</td>\n",
       "      <td id=\"T_5f8b6_row13_col3\" class=\"data row13 col3\" >4</td>\n",
       "    </tr>\n",
       "    <tr>\n",
       "      <th id=\"T_5f8b6_level0_row14\" class=\"row_heading level0 row14\" >ডিজিটাল গুডস এর ডেলিভারি টাইমলাইন জানতে চাচ্ছি</th>\n",
       "      <td id=\"T_5f8b6_row14_col0\" class=\"data row14 col0\" >198</td>\n",
       "      <td id=\"T_5f8b6_row14_col1\" class=\"data row14 col1\" >75</td>\n",
       "      <td id=\"T_5f8b6_row14_col2\" class=\"data row14 col2\" >10</td>\n",
       "      <td id=\"T_5f8b6_row14_col3\" class=\"data row14 col3\" >2</td>\n",
       "    </tr>\n",
       "    <tr>\n",
       "      <th id=\"T_5f8b6_level0_row15\" class=\"row_heading level0 row15\" >দারাজ এ পেমেন্ট করতে পারছি না কেন?</th>\n",
       "      <td id=\"T_5f8b6_row15_col0\" class=\"data row15 col0\" >195</td>\n",
       "      <td id=\"T_5f8b6_row15_col1\" class=\"data row15 col1\" >77</td>\n",
       "      <td id=\"T_5f8b6_row15_col2\" class=\"data row15 col2\" >11</td>\n",
       "      <td id=\"T_5f8b6_row15_col3\" class=\"data row15 col3\" >1</td>\n",
       "    </tr>\n",
       "    <tr>\n",
       "      <th id=\"T_5f8b6_level0_row16\" class=\"row_heading level0 row16\" >গ্রিটিং পোষ্ট-ম্যাচ (Greeting postmatch)</th>\n",
       "      <td id=\"T_5f8b6_row16_col0\" class=\"data row16 col0\" >192</td>\n",
       "      <td id=\"T_5f8b6_row16_col1\" class=\"data row16 col1\" >58</td>\n",
       "      <td id=\"T_5f8b6_row16_col2\" class=\"data row16 col2\" >22</td>\n",
       "      <td id=\"T_5f8b6_row16_col3\" class=\"data row16 col3\" >0</td>\n",
       "    </tr>\n",
       "    <tr>\n",
       "      <th id=\"T_5f8b6_level0_row17\" class=\"row_heading level0 row17\" >দারাজের হটলাইন নাম্বারটি জানতে চাই</th>\n",
       "      <td id=\"T_5f8b6_row17_col0\" class=\"data row17 col0\" >191</td>\n",
       "      <td id=\"T_5f8b6_row17_col1\" class=\"data row17 col1\" >79</td>\n",
       "      <td id=\"T_5f8b6_row17_col2\" class=\"data row17 col2\" >6</td>\n",
       "      <td id=\"T_5f8b6_row17_col3\" class=\"data row17 col3\" >1</td>\n",
       "    </tr>\n",
       "    <tr>\n",
       "      <th id=\"T_5f8b6_level0_row18\" class=\"row_heading level0 row18\" >কি কি পেমেন্ট পার্টনার ডিসকাউন্ট অ্যাভেইলেবল আছে ?</th>\n",
       "      <td id=\"T_5f8b6_row18_col0\" class=\"data row18 col0\" >171</td>\n",
       "      <td id=\"T_5f8b6_row18_col1\" class=\"data row18 col1\" >80</td>\n",
       "      <td id=\"T_5f8b6_row18_col2\" class=\"data row18 col2\" >8</td>\n",
       "      <td id=\"T_5f8b6_row18_col3\" class=\"data row18 col3\" >2</td>\n",
       "    </tr>\n",
       "    <tr>\n",
       "      <th id=\"T_5f8b6_level0_row19\" class=\"row_heading level0 row19\" >অর্ডার কিভাবে ক্যান্সেল করব?</th>\n",
       "      <td id=\"T_5f8b6_row19_col0\" class=\"data row19 col0\" >169</td>\n",
       "      <td id=\"T_5f8b6_row19_col1\" class=\"data row19 col1\" >75</td>\n",
       "      <td id=\"T_5f8b6_row19_col2\" class=\"data row19 col2\" >12</td>\n",
       "      <td id=\"T_5f8b6_row19_col3\" class=\"data row19 col3\" >0</td>\n",
       "    </tr>\n",
       "  </tbody>\n",
       "</table>\n",
       "<style type=\"text/css\">\n",
       "</style>\n",
       "<table id=\"T_d378b_\" style='display:inline'>\n",
       "  <caption>Week 17 LC</caption>\n",
       "  <thead>\n",
       "    <tr>\n",
       "      <th class=\"blank level0\" >&nbsp;</th>\n",
       "      <th class=\"col_heading level0 col0\" >sid_cnt</th>\n",
       "      <th class=\"col_heading level0 col1\" >RR</th>\n",
       "      <th class=\"col_heading level0 col2\" >STA</th>\n",
       "      <th class=\"col_heading level0 col3\" >UR</th>\n",
       "    </tr>\n",
       "    <tr>\n",
       "      <th class=\"index_name level0\" >Knowledge Name</th>\n",
       "      <th class=\"blank col0\" >&nbsp;</th>\n",
       "      <th class=\"blank col1\" >&nbsp;</th>\n",
       "      <th class=\"blank col2\" >&nbsp;</th>\n",
       "      <th class=\"blank col3\" >&nbsp;</th>\n",
       "    </tr>\n",
       "  </thead>\n",
       "  <tbody>\n",
       "    <tr>\n",
       "      <th id=\"T_d378b_level0_row0\" class=\"row_heading level0 row0\" >আমার অর্ডার কিভাবে ট্র্যাক করতে পারবো?</th>\n",
       "      <td id=\"T_d378b_row0_col0\" class=\"data row0 col0\" >8927</td>\n",
       "      <td id=\"T_d378b_row0_col1\" class=\"data row0 col1\" >85</td>\n",
       "      <td id=\"T_d378b_row0_col2\" class=\"data row0 col2\" >4</td>\n",
       "      <td id=\"T_d378b_row0_col3\" class=\"data row0 col3\" >0</td>\n",
       "    </tr>\n",
       "    <tr>\n",
       "      <th id=\"T_d378b_level0_row1\" class=\"row_heading level0 row1\" >আমার সাহায্য লাগবে</th>\n",
       "      <td id=\"T_d378b_row1_col0\" class=\"data row1 col0\" >5762</td>\n",
       "      <td id=\"T_d378b_row1_col1\" class=\"data row1 col1\" >75</td>\n",
       "      <td id=\"T_d378b_row1_col2\" class=\"data row1 col2\" >15</td>\n",
       "      <td id=\"T_d378b_row1_col3\" class=\"data row1 col3\" >0</td>\n",
       "    </tr>\n",
       "    <tr>\n",
       "      <th id=\"T_d378b_level0_row2\" class=\"row_heading level0 row2\" >আমার অর্ডার আসতে দেরি হচ্ছে কেন ?</th>\n",
       "      <td id=\"T_d378b_row2_col0\" class=\"data row2 col0\" >3143</td>\n",
       "      <td id=\"T_d378b_row2_col1\" class=\"data row2 col1\" >89</td>\n",
       "      <td id=\"T_d378b_row2_col2\" class=\"data row2 col2\" >3</td>\n",
       "      <td id=\"T_d378b_row2_col3\" class=\"data row2 col3\" >0</td>\n",
       "    </tr>\n",
       "    <tr>\n",
       "      <th id=\"T_d378b_level0_row3\" class=\"row_heading level0 row3\" >অর্ডার কিভাবে ক্যান্সেল করব?</th>\n",
       "      <td id=\"T_d378b_row3_col0\" class=\"data row3 col0\" >2497</td>\n",
       "      <td id=\"T_d378b_row3_col1\" class=\"data row3 col1\" >84</td>\n",
       "      <td id=\"T_d378b_row3_col2\" class=\"data row3 col2\" >3</td>\n",
       "      <td id=\"T_d378b_row3_col3\" class=\"data row3 col3\" >0</td>\n",
       "    </tr>\n",
       "    <tr>\n",
       "      <th id=\"T_d378b_level0_row4\" class=\"row_heading level0 row4\" >আমি কি আইটেমটি রিটার্ন করতে পারবো</th>\n",
       "      <td id=\"T_d378b_row4_col0\" class=\"data row4 col0\" >2282</td>\n",
       "      <td id=\"T_d378b_row4_col1\" class=\"data row4 col1\" >85</td>\n",
       "      <td id=\"T_d378b_row4_col2\" class=\"data row4 col2\" >4</td>\n",
       "      <td id=\"T_d378b_row4_col3\" class=\"data row4 col3\" >0</td>\n",
       "    </tr>\n",
       "    <tr>\n",
       "      <th id=\"T_d378b_level0_row5\" class=\"row_heading level0 row5\" >আরো সাহায্য প্রয়োজন (Need more help)</th>\n",
       "      <td id=\"T_d378b_row5_col0\" class=\"data row5 col0\" >2128</td>\n",
       "      <td id=\"T_d378b_row5_col1\" class=\"data row5 col1\" >63</td>\n",
       "      <td id=\"T_d378b_row5_col2\" class=\"data row5 col2\" >29</td>\n",
       "      <td id=\"T_d378b_row5_col3\" class=\"data row5 col3\" >0</td>\n",
       "    </tr>\n",
       "    <tr>\n",
       "      <th id=\"T_d378b_level0_row6\" class=\"row_heading level0 row6\" >অর্ডার সক্রান্ত প্রশ্ন</th>\n",
       "      <td id=\"T_d378b_row6_col0\" class=\"data row6 col0\" >1519</td>\n",
       "      <td id=\"T_d378b_row6_col1\" class=\"data row6 col1\" >79</td>\n",
       "      <td id=\"T_d378b_row6_col2\" class=\"data row6 col2\" >10</td>\n",
       "      <td id=\"T_d378b_row6_col3\" class=\"data row6 col3\" >0</td>\n",
       "    </tr>\n",
       "    <tr>\n",
       "      <th id=\"T_d378b_level0_row7\" class=\"row_heading level0 row7\" >ডেলিভারি এটেম্পট ফেইলড দেখাচ্ছে কেন ?</th>\n",
       "      <td id=\"T_d378b_row7_col0\" class=\"data row7 col0\" >1403</td>\n",
       "      <td id=\"T_d378b_row7_col1\" class=\"data row7 col1\" >91</td>\n",
       "      <td id=\"T_d378b_row7_col2\" class=\"data row7 col2\" >1</td>\n",
       "      <td id=\"T_d378b_row7_col3\" class=\"data row7 col3\" >0</td>\n",
       "    </tr>\n",
       "    <tr>\n",
       "      <th id=\"T_d378b_level0_row8\" class=\"row_heading level0 row8\" >শিপিং এবং ডেলিভেরি সক্রান্ত প্রশ্ন</th>\n",
       "      <td id=\"T_d378b_row8_col0\" class=\"data row8 col0\" >1277</td>\n",
       "      <td id=\"T_d378b_row8_col1\" class=\"data row8 col1\" >75</td>\n",
       "      <td id=\"T_d378b_row8_col2\" class=\"data row8 col2\" >16</td>\n",
       "      <td id=\"T_d378b_row8_col3\" class=\"data row8 col3\" >0</td>\n",
       "    </tr>\n",
       "    <tr>\n",
       "      <th id=\"T_d378b_level0_row9\" class=\"row_heading level0 row9\" >রিফান্ড প্রসেস শেষ হতে কতদিন লাগবে?</th>\n",
       "      <td id=\"T_d378b_row9_col0\" class=\"data row9 col0\" >1172</td>\n",
       "      <td id=\"T_d378b_row9_col1\" class=\"data row9 col1\" >80</td>\n",
       "      <td id=\"T_d378b_row9_col2\" class=\"data row9 col2\" >7</td>\n",
       "      <td id=\"T_d378b_row9_col3\" class=\"data row9 col3\" >0</td>\n",
       "    </tr>\n",
       "    <tr>\n",
       "      <th id=\"T_d378b_level0_row10\" class=\"row_heading level0 row10\" >ভিন্ন বিষয় সংক্রান্ত প্রশ্ন</th>\n",
       "      <td id=\"T_d378b_row10_col0\" class=\"data row10 col0\" >1144</td>\n",
       "      <td id=\"T_d378b_row10_col1\" class=\"data row10 col1\" >66</td>\n",
       "      <td id=\"T_d378b_row10_col2\" class=\"data row10 col2\" >25</td>\n",
       "      <td id=\"T_d378b_row10_col3\" class=\"data row10 col3\" >0</td>\n",
       "    </tr>\n",
       "    <tr>\n",
       "      <th id=\"T_d378b_level0_row11\" class=\"row_heading level0 row11\" >গ্রিটিং পোষ্ট-ম্যাচ (Greeting postmatch)</th>\n",
       "      <td id=\"T_d378b_row11_col0\" class=\"data row11 col0\" >1038</td>\n",
       "      <td id=\"T_d378b_row11_col1\" class=\"data row11 col1\" >79</td>\n",
       "      <td id=\"T_d378b_row11_col2\" class=\"data row11 col2\" >7</td>\n",
       "      <td id=\"T_d378b_row11_col3\" class=\"data row11 col3\" >0</td>\n",
       "    </tr>\n",
       "    <tr>\n",
       "      <th id=\"T_d378b_level0_row12\" class=\"row_heading level0 row12\" >আমার পণ্য ডেলিভারি হতে কতদিন লাগবে ?</th>\n",
       "      <td id=\"T_d378b_row12_col0\" class=\"data row12 col0\" >864</td>\n",
       "      <td id=\"T_d378b_row12_col1\" class=\"data row12 col1\" >87</td>\n",
       "      <td id=\"T_d378b_row12_col2\" class=\"data row12 col2\" >3</td>\n",
       "      <td id=\"T_d378b_row12_col3\" class=\"data row12 col3\" >0</td>\n",
       "    </tr>\n",
       "    <tr>\n",
       "      <th id=\"T_d378b_level0_row13\" class=\"row_heading level0 row13\" >আমার অর্ডারটি কবে ডেলিভারি পেতে পারি?</th>\n",
       "      <td id=\"T_d378b_row13_col0\" class=\"data row13 col0\" >824</td>\n",
       "      <td id=\"T_d378b_row13_col1\" class=\"data row13 col1\" >86</td>\n",
       "      <td id=\"T_d378b_row13_col2\" class=\"data row13 col2\" >4</td>\n",
       "      <td id=\"T_d378b_row13_col3\" class=\"data row13 col3\" >0</td>\n",
       "    </tr>\n",
       "    <tr>\n",
       "      <th id=\"T_d378b_level0_row14\" class=\"row_heading level0 row14\" >অর্ডার প্লেস করতে পারছি না কেন?</th>\n",
       "      <td id=\"T_d378b_row14_col0\" class=\"data row14 col0\" >736</td>\n",
       "      <td id=\"T_d378b_row14_col1\" class=\"data row14 col1\" >83</td>\n",
       "      <td id=\"T_d378b_row14_col2\" class=\"data row14 col2\" >6</td>\n",
       "      <td id=\"T_d378b_row14_col3\" class=\"data row14 col3\" >0</td>\n",
       "    </tr>\n",
       "    <tr>\n",
       "      <th id=\"T_d378b_level0_row15\" class=\"row_heading level0 row15\" >ক্যাম্পেইন  বিষয়ে</th>\n",
       "      <td id=\"T_d378b_row15_col0\" class=\"data row15 col0\" >584</td>\n",
       "      <td id=\"T_d378b_row15_col1\" class=\"data row15 col1\" >69</td>\n",
       "      <td id=\"T_d378b_row15_col2\" class=\"data row15 col2\" >18</td>\n",
       "      <td id=\"T_d378b_row15_col3\" class=\"data row15 col3\" >0</td>\n",
       "    </tr>\n",
       "    <tr>\n",
       "      <th id=\"T_d378b_level0_row16\" class=\"row_heading level0 row16\" >আমার প্রশ্নটি উল্লেখিত নেই</th>\n",
       "      <td id=\"T_d378b_row16_col0\" class=\"data row16 col0\" >546</td>\n",
       "      <td id=\"T_d378b_row16_col1\" class=\"data row16 col1\" >69</td>\n",
       "      <td id=\"T_d378b_row16_col2\" class=\"data row16 col2\" >14</td>\n",
       "      <td id=\"T_d378b_row16_col3\" class=\"data row16 col3\" >0</td>\n",
       "    </tr>\n",
       "    <tr>\n",
       "      <th id=\"T_d378b_level0_row17\" class=\"row_heading level0 row17\" >কালেকশন পয়েন্টের ওটিপি কিভাবে পাবো ?</th>\n",
       "      <td id=\"T_d378b_row17_col0\" class=\"data row17 col0\" >535</td>\n",
       "      <td id=\"T_d378b_row17_col1\" class=\"data row17 col1\" >86</td>\n",
       "      <td id=\"T_d378b_row17_col2\" class=\"data row17 col2\" >5</td>\n",
       "      <td id=\"T_d378b_row17_col3\" class=\"data row17 col3\" >0</td>\n",
       "    </tr>\n",
       "    <tr>\n",
       "      <th id=\"T_d378b_level0_row18\" class=\"row_heading level0 row18\" >রিটার্ন সংক্রান্ত প্রশ্ন</th>\n",
       "      <td id=\"T_d378b_row18_col0\" class=\"data row18 col0\" >420</td>\n",
       "      <td id=\"T_d378b_row18_col1\" class=\"data row18 col1\" >81</td>\n",
       "      <td id=\"T_d378b_row18_col2\" class=\"data row18 col2\" >8</td>\n",
       "      <td id=\"T_d378b_row18_col3\" class=\"data row18 col3\" >0</td>\n",
       "    </tr>\n",
       "    <tr>\n",
       "      <th id=\"T_d378b_level0_row19\" class=\"row_heading level0 row19\" >কালেকশন পয়েন্ট কোন সময়ে খোলা থাকবে?</th>\n",
       "      <td id=\"T_d378b_row19_col0\" class=\"data row19 col0\" >416</td>\n",
       "      <td id=\"T_d378b_row19_col1\" class=\"data row19 col1\" >86</td>\n",
       "      <td id=\"T_d378b_row19_col2\" class=\"data row19 col2\" >5</td>\n",
       "      <td id=\"T_d378b_row19_col3\" class=\"data row19 col3\" >0</td>\n",
       "    </tr>\n",
       "  </tbody>\n",
       "</table>\n"
      ]
     },
     "metadata": {},
     "output_type": "display_data"
    },
    {
     "data": {
      "text/html": [
       "<style type=\"text/css\">\n",
       "</style>\n",
       "<table id=\"T_64a67_\" style='display:inline'>\n",
       "  <caption>Week 16 EN</caption>\n",
       "  <thead>\n",
       "    <tr>\n",
       "      <th class=\"blank level0\" >&nbsp;</th>\n",
       "      <th class=\"col_heading level0 col0\" >sid_cnt</th>\n",
       "      <th class=\"col_heading level0 col1\" >RR</th>\n",
       "      <th class=\"col_heading level0 col2\" >STA</th>\n",
       "      <th class=\"col_heading level0 col3\" >UR</th>\n",
       "    </tr>\n",
       "    <tr>\n",
       "      <th class=\"index_name level0\" >Knowledge Name</th>\n",
       "      <th class=\"blank col0\" >&nbsp;</th>\n",
       "      <th class=\"blank col1\" >&nbsp;</th>\n",
       "      <th class=\"blank col2\" >&nbsp;</th>\n",
       "      <th class=\"blank col3\" >&nbsp;</th>\n",
       "    </tr>\n",
       "  </thead>\n",
       "  <tbody>\n",
       "    <tr>\n",
       "      <th id=\"T_64a67_level0_row0\" class=\"row_heading level0 row0\" >How can I track my order</th>\n",
       "      <td id=\"T_64a67_row0_col0\" class=\"data row0 col0\" >12845</td>\n",
       "      <td id=\"T_64a67_row0_col1\" class=\"data row0 col1\" >84</td>\n",
       "      <td id=\"T_64a67_row0_col2\" class=\"data row0 col2\" >11</td>\n",
       "      <td id=\"T_64a67_row0_col3\" class=\"data row0 col3\" >0</td>\n",
       "    </tr>\n",
       "    <tr>\n",
       "      <th id=\"T_64a67_level0_row1\" class=\"row_heading level0 row1\" >How long does it take to receive my product</th>\n",
       "      <td id=\"T_64a67_row1_col0\" class=\"data row1 col0\" >11766</td>\n",
       "      <td id=\"T_64a67_row1_col1\" class=\"data row1 col1\" >85</td>\n",
       "      <td id=\"T_64a67_row1_col2\" class=\"data row1 col2\" >8</td>\n",
       "      <td id=\"T_64a67_row1_col3\" class=\"data row1 col3\" >1</td>\n",
       "    </tr>\n",
       "    <tr>\n",
       "      <th id=\"T_64a67_level0_row2\" class=\"row_heading level0 row2\" >Greeting</th>\n",
       "      <td id=\"T_64a67_row2_col0\" class=\"data row2 col0\" >10290</td>\n",
       "      <td id=\"T_64a67_row2_col1\" class=\"data row2 col1\" >77</td>\n",
       "      <td id=\"T_64a67_row2_col2\" class=\"data row2 col2\" >17</td>\n",
       "      <td id=\"T_64a67_row2_col3\" class=\"data row2 col3\" >0</td>\n",
       "    </tr>\n",
       "    <tr>\n",
       "      <th id=\"T_64a67_level0_row3\" class=\"row_heading level0 row3\" >Need help</th>\n",
       "      <td id=\"T_64a67_row3_col0\" class=\"data row3 col0\" >7772</td>\n",
       "      <td id=\"T_64a67_row3_col1\" class=\"data row3 col1\" >60</td>\n",
       "      <td id=\"T_64a67_row3_col2\" class=\"data row3 col2\" >34</td>\n",
       "      <td id=\"T_64a67_row3_col3\" class=\"data row3 col3\" >0</td>\n",
       "    </tr>\n",
       "    <tr>\n",
       "      <th id=\"T_64a67_level0_row4\" class=\"row_heading level0 row4\" >How to cancel my order</th>\n",
       "      <td id=\"T_64a67_row4_col0\" class=\"data row4 col0\" >6791</td>\n",
       "      <td id=\"T_64a67_row4_col1\" class=\"data row4 col1\" >86</td>\n",
       "      <td id=\"T_64a67_row4_col2\" class=\"data row4 col2\" >5</td>\n",
       "      <td id=\"T_64a67_row4_col3\" class=\"data row4 col3\" >0</td>\n",
       "    </tr>\n",
       "    <tr>\n",
       "      <th id=\"T_64a67_level0_row5\" class=\"row_heading level0 row5\" >Can I return an Item</th>\n",
       "      <td id=\"T_64a67_row5_col0\" class=\"data row5 col0\" >5169</td>\n",
       "      <td id=\"T_64a67_row5_col1\" class=\"data row5 col1\" >82</td>\n",
       "      <td id=\"T_64a67_row5_col2\" class=\"data row5 col2\" >9</td>\n",
       "      <td id=\"T_64a67_row5_col3\" class=\"data row5 col3\" >0</td>\n",
       "    </tr>\n",
       "    <tr>\n",
       "      <th id=\"T_64a67_level0_row6\" class=\"row_heading level0 row6\" >My order is delayed. What should I do</th>\n",
       "      <td id=\"T_64a67_row6_col0\" class=\"data row6 col0\" >3786</td>\n",
       "      <td id=\"T_64a67_row6_col1\" class=\"data row6 col1\" >79</td>\n",
       "      <td id=\"T_64a67_row6_col2\" class=\"data row6 col2\" >14</td>\n",
       "      <td id=\"T_64a67_row6_col3\" class=\"data row6 col3\" >3</td>\n",
       "    </tr>\n",
       "    <tr>\n",
       "      <th id=\"T_64a67_level0_row7\" class=\"row_heading level0 row7\" >Amar ponno delivery hote kotodin lagbe</th>\n",
       "      <td id=\"T_64a67_row7_col0\" class=\"data row7 col0\" >3761</td>\n",
       "      <td id=\"T_64a67_row7_col1\" class=\"data row7 col1\" >91</td>\n",
       "      <td id=\"T_64a67_row7_col2\" class=\"data row7 col2\" >4</td>\n",
       "      <td id=\"T_64a67_row7_col3\" class=\"data row7 col3\" >1</td>\n",
       "    </tr>\n",
       "    <tr>\n",
       "      <th id=\"T_64a67_level0_row8\" class=\"row_heading level0 row8\" >Talk to Agent</th>\n",
       "      <td id=\"T_64a67_row8_col0\" class=\"data row8 col0\" >3202</td>\n",
       "      <td id=\"T_64a67_row8_col1\" class=\"data row8 col1\" >56</td>\n",
       "      <td id=\"T_64a67_row8_col2\" class=\"data row8 col2\" >37</td>\n",
       "      <td id=\"T_64a67_row8_col3\" class=\"data row8 col3\" >0</td>\n",
       "    </tr>\n",
       "    <tr>\n",
       "      <th id=\"T_64a67_level0_row9\" class=\"row_heading level0 row9\" >How long is the refund process</th>\n",
       "      <td id=\"T_64a67_row9_col0\" class=\"data row9 col0\" >3161</td>\n",
       "      <td id=\"T_64a67_row9_col1\" class=\"data row9 col1\" >76</td>\n",
       "      <td id=\"T_64a67_row9_col2\" class=\"data row9 col2\" >16</td>\n",
       "      <td id=\"T_64a67_row9_col3\" class=\"data row9 col3\" >0</td>\n",
       "    </tr>\n",
       "    <tr>\n",
       "      <th id=\"T_64a67_level0_row10\" class=\"row_heading level0 row10\" >Need more help</th>\n",
       "      <td id=\"T_64a67_row10_col0\" class=\"data row10 col0\" >3032</td>\n",
       "      <td id=\"T_64a67_row10_col1\" class=\"data row10 col1\" >36</td>\n",
       "      <td id=\"T_64a67_row10_col2\" class=\"data row10 col2\" >58</td>\n",
       "      <td id=\"T_64a67_row10_col3\" class=\"data row10 col3\" >0</td>\n",
       "    </tr>\n",
       "    <tr>\n",
       "      <th id=\"T_64a67_level0_row11\" class=\"row_heading level0 row11\" >Order-postmatch</th>\n",
       "      <td id=\"T_64a67_row11_col0\" class=\"data row11 col0\" >2843</td>\n",
       "      <td id=\"T_64a67_row11_col1\" class=\"data row11 col1\" >79</td>\n",
       "      <td id=\"T_64a67_row11_col2\" class=\"data row11 col2\" >10</td>\n",
       "      <td id=\"T_64a67_row11_col3\" class=\"data row11 col3\" >3</td>\n",
       "    </tr>\n",
       "    <tr>\n",
       "      <th id=\"T_64a67_level0_row12\" class=\"row_heading level0 row12\" >Why do I see failed delivery attempt</th>\n",
       "      <td id=\"T_64a67_row12_col0\" class=\"data row12 col0\" >2460</td>\n",
       "      <td id=\"T_64a67_row12_col1\" class=\"data row12 col1\" >87</td>\n",
       "      <td id=\"T_64a67_row12_col2\" class=\"data row12 col2\" >7</td>\n",
       "      <td id=\"T_64a67_row12_col3\" class=\"data row12 col3\" >3</td>\n",
       "    </tr>\n",
       "    <tr>\n",
       "      <th id=\"T_64a67_level0_row13\" class=\"row_heading level0 row13\" >All about BNY campaign</th>\n",
       "      <td id=\"T_64a67_row13_col0\" class=\"data row13 col0\" >1986</td>\n",
       "      <td id=\"T_64a67_row13_col1\" class=\"data row13 col1\" >64</td>\n",
       "      <td id=\"T_64a67_row13_col2\" class=\"data row13 col2\" >29</td>\n",
       "      <td id=\"T_64a67_row13_col3\" class=\"data row13 col3\" >0</td>\n",
       "    </tr>\n",
       "    <tr>\n",
       "      <th id=\"T_64a67_level0_row14\" class=\"row_heading level0 row14\" >Order related query</th>\n",
       "      <td id=\"T_64a67_row14_col0\" class=\"data row14 col0\" >1621</td>\n",
       "      <td id=\"T_64a67_row14_col1\" class=\"data row14 col1\" >63</td>\n",
       "      <td id=\"T_64a67_row14_col2\" class=\"data row14 col2\" >28</td>\n",
       "      <td id=\"T_64a67_row14_col3\" class=\"data row14 col3\" >0</td>\n",
       "    </tr>\n",
       "    <tr>\n",
       "      <th id=\"T_64a67_level0_row15\" class=\"row_heading level0 row15\" >Is there any bKash cashback</th>\n",
       "      <td id=\"T_64a67_row15_col0\" class=\"data row15 col0\" >1552</td>\n",
       "      <td id=\"T_64a67_row15_col1\" class=\"data row15 col1\" >81</td>\n",
       "      <td id=\"T_64a67_row15_col2\" class=\"data row15 col2\" >13</td>\n",
       "      <td id=\"T_64a67_row15_col3\" class=\"data row15 col3\" >5</td>\n",
       "    </tr>\n",
       "    <tr>\n",
       "      <th id=\"T_64a67_level0_row16\" class=\"row_heading level0 row16\" >Other topic related query</th>\n",
       "      <td id=\"T_64a67_row16_col0\" class=\"data row16 col0\" >1331</td>\n",
       "      <td id=\"T_64a67_row16_col1\" class=\"data row16 col1\" >40</td>\n",
       "      <td id=\"T_64a67_row16_col2\" class=\"data row16 col2\" >54</td>\n",
       "      <td id=\"T_64a67_row16_col3\" class=\"data row16 col3\" >0</td>\n",
       "    </tr>\n",
       "    <tr>\n",
       "      <th id=\"T_64a67_level0_row17\" class=\"row_heading level0 row17\" >Shipping and delivery related query</th>\n",
       "      <td id=\"T_64a67_row17_col0\" class=\"data row17 col0\" >1132</td>\n",
       "      <td id=\"T_64a67_row17_col1\" class=\"data row17 col1\" >58</td>\n",
       "      <td id=\"T_64a67_row17_col2\" class=\"data row17 col2\" >35</td>\n",
       "      <td id=\"T_64a67_row17_col3\" class=\"data row17 col3\" >0</td>\n",
       "    </tr>\n",
       "    <tr>\n",
       "      <th id=\"T_64a67_level0_row18\" class=\"row_heading level0 row18\" >Amar order ashte deri hocche keno</th>\n",
       "      <td id=\"T_64a67_row18_col0\" class=\"data row18 col0\" >1126</td>\n",
       "      <td id=\"T_64a67_row18_col1\" class=\"data row18 col1\" >82</td>\n",
       "      <td id=\"T_64a67_row18_col2\" class=\"data row18 col2\" >11</td>\n",
       "      <td id=\"T_64a67_row18_col3\" class=\"data row18 col3\" >1</td>\n",
       "    </tr>\n",
       "    <tr>\n",
       "      <th id=\"T_64a67_level0_row19\" class=\"row_heading level0 row19\" >Amar order ti kobe delivery pete pari</th>\n",
       "      <td id=\"T_64a67_row19_col0\" class=\"data row19 col0\" >1114</td>\n",
       "      <td id=\"T_64a67_row19_col1\" class=\"data row19 col1\" >87</td>\n",
       "      <td id=\"T_64a67_row19_col2\" class=\"data row19 col2\" >5</td>\n",
       "      <td id=\"T_64a67_row19_col3\" class=\"data row19 col3\" >2</td>\n",
       "    </tr>\n",
       "  </tbody>\n",
       "</table>\n",
       "<style type=\"text/css\">\n",
       "</style>\n",
       "<table id=\"T_0ee46_\" style='display:inline'>\n",
       "  <caption>Week 17 EN</caption>\n",
       "  <thead>\n",
       "    <tr>\n",
       "      <th class=\"blank level0\" >&nbsp;</th>\n",
       "      <th class=\"col_heading level0 col0\" >sid_cnt</th>\n",
       "      <th class=\"col_heading level0 col1\" >RR</th>\n",
       "      <th class=\"col_heading level0 col2\" >STA</th>\n",
       "      <th class=\"col_heading level0 col3\" >UR</th>\n",
       "    </tr>\n",
       "    <tr>\n",
       "      <th class=\"index_name level0\" >Knowledge Name</th>\n",
       "      <th class=\"blank col0\" >&nbsp;</th>\n",
       "      <th class=\"blank col1\" >&nbsp;</th>\n",
       "      <th class=\"blank col2\" >&nbsp;</th>\n",
       "      <th class=\"blank col3\" >&nbsp;</th>\n",
       "    </tr>\n",
       "  </thead>\n",
       "  <tbody>\n",
       "    <tr>\n",
       "      <th id=\"T_0ee46_level0_row0\" class=\"row_heading level0 row0\" >How can I track my order</th>\n",
       "      <td id=\"T_0ee46_row0_col0\" class=\"data row0 col0\" >14065</td>\n",
       "      <td id=\"T_0ee46_row0_col1\" class=\"data row0 col1\" >85</td>\n",
       "      <td id=\"T_0ee46_row0_col2\" class=\"data row0 col2\" >8</td>\n",
       "      <td id=\"T_0ee46_row0_col3\" class=\"data row0 col3\" >0</td>\n",
       "    </tr>\n",
       "    <tr>\n",
       "      <th id=\"T_0ee46_level0_row1\" class=\"row_heading level0 row1\" >How long does it take to receive my product</th>\n",
       "      <td id=\"T_0ee46_row1_col0\" class=\"data row1 col0\" >12959</td>\n",
       "      <td id=\"T_0ee46_row1_col1\" class=\"data row1 col1\" >86</td>\n",
       "      <td id=\"T_0ee46_row1_col2\" class=\"data row1 col2\" >7</td>\n",
       "      <td id=\"T_0ee46_row1_col3\" class=\"data row1 col3\" >1</td>\n",
       "    </tr>\n",
       "    <tr>\n",
       "      <th id=\"T_0ee46_level0_row2\" class=\"row_heading level0 row2\" >Greeting</th>\n",
       "      <td id=\"T_0ee46_row2_col0\" class=\"data row2 col0\" >10713</td>\n",
       "      <td id=\"T_0ee46_row2_col1\" class=\"data row2 col1\" >80</td>\n",
       "      <td id=\"T_0ee46_row2_col2\" class=\"data row2 col2\" >14</td>\n",
       "      <td id=\"T_0ee46_row2_col3\" class=\"data row2 col3\" >0</td>\n",
       "    </tr>\n",
       "    <tr>\n",
       "      <th id=\"T_0ee46_level0_row3\" class=\"row_heading level0 row3\" >Need help</th>\n",
       "      <td id=\"T_0ee46_row3_col0\" class=\"data row3 col0\" >6707</td>\n",
       "      <td id=\"T_0ee46_row3_col1\" class=\"data row3 col1\" >61</td>\n",
       "      <td id=\"T_0ee46_row3_col2\" class=\"data row3 col2\" >32</td>\n",
       "      <td id=\"T_0ee46_row3_col3\" class=\"data row3 col3\" >0</td>\n",
       "    </tr>\n",
       "    <tr>\n",
       "      <th id=\"T_0ee46_level0_row4\" class=\"row_heading level0 row4\" >How to cancel my order</th>\n",
       "      <td id=\"T_0ee46_row4_col0\" class=\"data row4 col0\" >5821</td>\n",
       "      <td id=\"T_0ee46_row4_col1\" class=\"data row4 col1\" >85</td>\n",
       "      <td id=\"T_0ee46_row4_col2\" class=\"data row4 col2\" >5</td>\n",
       "      <td id=\"T_0ee46_row4_col3\" class=\"data row4 col3\" >0</td>\n",
       "    </tr>\n",
       "    <tr>\n",
       "      <th id=\"T_0ee46_level0_row5\" class=\"row_heading level0 row5\" >My order is delayed. What should I do</th>\n",
       "      <td id=\"T_0ee46_row5_col0\" class=\"data row5 col0\" >4566</td>\n",
       "      <td id=\"T_0ee46_row5_col1\" class=\"data row5 col1\" >81</td>\n",
       "      <td id=\"T_0ee46_row5_col2\" class=\"data row5 col2\" >11</td>\n",
       "      <td id=\"T_0ee46_row5_col3\" class=\"data row5 col3\" >3</td>\n",
       "    </tr>\n",
       "    <tr>\n",
       "      <th id=\"T_0ee46_level0_row6\" class=\"row_heading level0 row6\" >Amar ponno delivery hote kotodin lagbe</th>\n",
       "      <td id=\"T_0ee46_row6_col0\" class=\"data row6 col0\" >4565</td>\n",
       "      <td id=\"T_0ee46_row6_col1\" class=\"data row6 col1\" >91</td>\n",
       "      <td id=\"T_0ee46_row6_col2\" class=\"data row6 col2\" >3</td>\n",
       "      <td id=\"T_0ee46_row6_col3\" class=\"data row6 col3\" >1</td>\n",
       "    </tr>\n",
       "    <tr>\n",
       "      <th id=\"T_0ee46_level0_row7\" class=\"row_heading level0 row7\" >Can I return an Item</th>\n",
       "      <td id=\"T_0ee46_row7_col0\" class=\"data row7 col0\" >4340</td>\n",
       "      <td id=\"T_0ee46_row7_col1\" class=\"data row7 col1\" >83</td>\n",
       "      <td id=\"T_0ee46_row7_col2\" class=\"data row7 col2\" >8</td>\n",
       "      <td id=\"T_0ee46_row7_col3\" class=\"data row7 col3\" >0</td>\n",
       "    </tr>\n",
       "    <tr>\n",
       "      <th id=\"T_0ee46_level0_row8\" class=\"row_heading level0 row8\" >Talk to Agent</th>\n",
       "      <td id=\"T_0ee46_row8_col0\" class=\"data row8 col0\" >3477</td>\n",
       "      <td id=\"T_0ee46_row8_col1\" class=\"data row8 col1\" >63</td>\n",
       "      <td id=\"T_0ee46_row8_col2\" class=\"data row8 col2\" >30</td>\n",
       "      <td id=\"T_0ee46_row8_col3\" class=\"data row8 col3\" >0</td>\n",
       "    </tr>\n",
       "    <tr>\n",
       "      <th id=\"T_0ee46_level0_row9\" class=\"row_heading level0 row9\" >Need more help</th>\n",
       "      <td id=\"T_0ee46_row9_col0\" class=\"data row9 col0\" >3034</td>\n",
       "      <td id=\"T_0ee46_row9_col1\" class=\"data row9 col1\" >44</td>\n",
       "      <td id=\"T_0ee46_row9_col2\" class=\"data row9 col2\" >50</td>\n",
       "      <td id=\"T_0ee46_row9_col3\" class=\"data row9 col3\" >0</td>\n",
       "    </tr>\n",
       "    <tr>\n",
       "      <th id=\"T_0ee46_level0_row10\" class=\"row_heading level0 row10\" >Why do I see failed delivery attempt</th>\n",
       "      <td id=\"T_0ee46_row10_col0\" class=\"data row10 col0\" >2751</td>\n",
       "      <td id=\"T_0ee46_row10_col1\" class=\"data row10 col1\" >87</td>\n",
       "      <td id=\"T_0ee46_row10_col2\" class=\"data row10 col2\" >6</td>\n",
       "      <td id=\"T_0ee46_row10_col3\" class=\"data row10 col3\" >2</td>\n",
       "    </tr>\n",
       "    <tr>\n",
       "      <th id=\"T_0ee46_level0_row11\" class=\"row_heading level0 row11\" >How long is the refund process</th>\n",
       "      <td id=\"T_0ee46_row11_col0\" class=\"data row11 col0\" >2748</td>\n",
       "      <td id=\"T_0ee46_row11_col1\" class=\"data row11 col1\" >78</td>\n",
       "      <td id=\"T_0ee46_row11_col2\" class=\"data row11 col2\" >13</td>\n",
       "      <td id=\"T_0ee46_row11_col3\" class=\"data row11 col3\" >0</td>\n",
       "    </tr>\n",
       "    <tr>\n",
       "      <th id=\"T_0ee46_level0_row12\" class=\"row_heading level0 row12\" >Order-postmatch</th>\n",
       "      <td id=\"T_0ee46_row12_col0\" class=\"data row12 col0\" >2590</td>\n",
       "      <td id=\"T_0ee46_row12_col1\" class=\"data row12 col1\" >82</td>\n",
       "      <td id=\"T_0ee46_row12_col2\" class=\"data row12 col2\" >7</td>\n",
       "      <td id=\"T_0ee46_row12_col3\" class=\"data row12 col3\" >3</td>\n",
       "    </tr>\n",
       "    <tr>\n",
       "      <th id=\"T_0ee46_level0_row13\" class=\"row_heading level0 row13\" >Is there any bKash cashback</th>\n",
       "      <td id=\"T_0ee46_row13_col0\" class=\"data row13 col0\" >2299</td>\n",
       "      <td id=\"T_0ee46_row13_col1\" class=\"data row13 col1\" >83</td>\n",
       "      <td id=\"T_0ee46_row13_col2\" class=\"data row13 col2\" >10</td>\n",
       "      <td id=\"T_0ee46_row13_col3\" class=\"data row13 col3\" >6</td>\n",
       "    </tr>\n",
       "    <tr>\n",
       "      <th id=\"T_0ee46_level0_row14\" class=\"row_heading level0 row14\" >All about BNY campaign</th>\n",
       "      <td id=\"T_0ee46_row14_col0\" class=\"data row14 col0\" >2226</td>\n",
       "      <td id=\"T_0ee46_row14_col1\" class=\"data row14 col1\" >64</td>\n",
       "      <td id=\"T_0ee46_row14_col2\" class=\"data row14 col2\" >27</td>\n",
       "      <td id=\"T_0ee46_row14_col3\" class=\"data row14 col3\" >0</td>\n",
       "    </tr>\n",
       "    <tr>\n",
       "      <th id=\"T_0ee46_level0_row15\" class=\"row_heading level0 row15\" >How can I avail mystery box</th>\n",
       "      <td id=\"T_0ee46_row15_col0\" class=\"data row15 col0\" >1643</td>\n",
       "      <td id=\"T_0ee46_row15_col1\" class=\"data row15 col1\" >59</td>\n",
       "      <td id=\"T_0ee46_row15_col2\" class=\"data row15 col2\" >36</td>\n",
       "      <td id=\"T_0ee46_row15_col3\" class=\"data row15 col3\" >0</td>\n",
       "    </tr>\n",
       "    <tr>\n",
       "      <th id=\"T_0ee46_level0_row16\" class=\"row_heading level0 row16\" >Amar order ti kobe delivery pete pari</th>\n",
       "      <td id=\"T_0ee46_row16_col0\" class=\"data row16 col0\" >1410</td>\n",
       "      <td id=\"T_0ee46_row16_col1\" class=\"data row16 col1\" >88</td>\n",
       "      <td id=\"T_0ee46_row16_col2\" class=\"data row16 col2\" >5</td>\n",
       "      <td id=\"T_0ee46_row16_col3\" class=\"data row16 col3\" >2</td>\n",
       "    </tr>\n",
       "    <tr>\n",
       "      <th id=\"T_0ee46_level0_row17\" class=\"row_heading level0 row17\" >Amar order ashte deri hocche keno</th>\n",
       "      <td id=\"T_0ee46_row17_col0\" class=\"data row17 col0\" >1339</td>\n",
       "      <td id=\"T_0ee46_row17_col1\" class=\"data row17 col1\" >84</td>\n",
       "      <td id=\"T_0ee46_row17_col2\" class=\"data row17 col2\" >8</td>\n",
       "      <td id=\"T_0ee46_row17_col3\" class=\"data row17 col3\" >1</td>\n",
       "    </tr>\n",
       "    <tr>\n",
       "      <th id=\"T_0ee46_level0_row18\" class=\"row_heading level0 row18\" >Order related query</th>\n",
       "      <td id=\"T_0ee46_row18_col0\" class=\"data row18 col0\" >1323</td>\n",
       "      <td id=\"T_0ee46_row18_col1\" class=\"data row18 col1\" >61</td>\n",
       "      <td id=\"T_0ee46_row18_col2\" class=\"data row18 col2\" >28</td>\n",
       "      <td id=\"T_0ee46_row18_col3\" class=\"data row18 col3\" >0</td>\n",
       "    </tr>\n",
       "    <tr>\n",
       "      <th id=\"T_0ee46_level0_row19\" class=\"row_heading level0 row19\" >Other topic related query</th>\n",
       "      <td id=\"T_0ee46_row19_col0\" class=\"data row19 col0\" >1220</td>\n",
       "      <td id=\"T_0ee46_row19_col1\" class=\"data row19 col1\" >45</td>\n",
       "      <td id=\"T_0ee46_row19_col2\" class=\"data row19 col2\" >49</td>\n",
       "      <td id=\"T_0ee46_row19_col3\" class=\"data row19 col3\" >0</td>\n",
       "    </tr>\n",
       "  </tbody>\n",
       "</table>\n"
      ]
     },
     "metadata": {},
     "output_type": "display_data"
    }
   ],
   "source": [
    "df1_stylertop16LC = CPR_df_LC_pivottable_top16.style.set_table_attributes(\"style='display:inline'\").set_caption('Week 16 LC')\n",
    "df2_stylertop17LC = CPR_df_LC_pivottable_top17.style.set_table_attributes(\"style='display:inline'\").set_caption('Week 17 LC')\n",
    "\n",
    "df1_stylertop16EN = CPR_df_EN_pivottable_top16.style.set_table_attributes(\"style='display:inline'\").set_caption('Week 16 EN')\n",
    "df2_stylertop17EN = CPR_df_EN_pivottable_top17.style.set_table_attributes(\"style='display:inline'\").set_caption('Week 17 EN')\n",
    " \n",
    "display_html(df1_stylertop16LC._repr_html_()+df2_stylertop17LC._repr_html_(), raw=True)\n",
    "display_html(df1_stylertop16EN._repr_html_()+df2_stylertop17EN._repr_html_(), raw=True)"
   ]
  },
  {
   "cell_type": "markdown",
   "metadata": {},
   "source": [
    "### Data Visualization"
   ]
  },
  {
   "cell_type": "code",
   "execution_count": 5,
   "metadata": {},
   "outputs": [],
   "source": [
    "data_vis = pd.read_csv(r'C:\\Users\\Daraz\\Desktop\\My_stuff\\Report_writing\\Data Folder\\2022_RRSTA_W1-Current.csv')"
   ]
  },
  {
   "cell_type": "code",
   "execution_count": 86,
   "metadata": {},
   "outputs": [],
   "source": [
    "data_vis.head()\n",
    "data_vis.set_index('WEEK', inplace = True)"
   ]
  },
  {
   "cell_type": "code",
   "execution_count": 6,
   "metadata": {},
   "outputs": [
    {
     "data": {
      "text/html": [
       "<div>\n",
       "<style scoped>\n",
       "    .dataframe tbody tr th:only-of-type {\n",
       "        vertical-align: middle;\n",
       "    }\n",
       "\n",
       "    .dataframe tbody tr th {\n",
       "        vertical-align: top;\n",
       "    }\n",
       "\n",
       "    .dataframe thead th {\n",
       "        text-align: right;\n",
       "    }\n",
       "</style>\n",
       "<table border=\"1\" class=\"dataframe\">\n",
       "  <thead>\n",
       "    <tr style=\"text-align: right;\">\n",
       "      <th></th>\n",
       "      <th>WEEK</th>\n",
       "      <th>RR</th>\n",
       "      <th>STA</th>\n",
       "    </tr>\n",
       "  </thead>\n",
       "  <tbody>\n",
       "    <tr>\n",
       "      <th>0</th>\n",
       "      <td>1</td>\n",
       "      <td>72.15%</td>\n",
       "      <td>20.54%</td>\n",
       "    </tr>\n",
       "    <tr>\n",
       "      <th>1</th>\n",
       "      <td>2</td>\n",
       "      <td>69.06%</td>\n",
       "      <td>23.30%</td>\n",
       "    </tr>\n",
       "    <tr>\n",
       "      <th>2</th>\n",
       "      <td>3</td>\n",
       "      <td>72.06%</td>\n",
       "      <td>20.43%</td>\n",
       "    </tr>\n",
       "    <tr>\n",
       "      <th>3</th>\n",
       "      <td>4</td>\n",
       "      <td>73.18%</td>\n",
       "      <td>19.97%</td>\n",
       "    </tr>\n",
       "    <tr>\n",
       "      <th>4</th>\n",
       "      <td>5</td>\n",
       "      <td>73.87%</td>\n",
       "      <td>19.32%</td>\n",
       "    </tr>\n",
       "    <tr>\n",
       "      <th>5</th>\n",
       "      <td>6</td>\n",
       "      <td>70.44%</td>\n",
       "      <td>21.74%</td>\n",
       "    </tr>\n",
       "    <tr>\n",
       "      <th>6</th>\n",
       "      <td>7</td>\n",
       "      <td>69.62%</td>\n",
       "      <td>22.94%</td>\n",
       "    </tr>\n",
       "    <tr>\n",
       "      <th>7</th>\n",
       "      <td>8</td>\n",
       "      <td>72.78%</td>\n",
       "      <td>20.00%</td>\n",
       "    </tr>\n",
       "    <tr>\n",
       "      <th>8</th>\n",
       "      <td>9</td>\n",
       "      <td>72.23%</td>\n",
       "      <td>20.38%</td>\n",
       "    </tr>\n",
       "    <tr>\n",
       "      <th>9</th>\n",
       "      <td>10</td>\n",
       "      <td>79.69%</td>\n",
       "      <td>17.44%</td>\n",
       "    </tr>\n",
       "    <tr>\n",
       "      <th>10</th>\n",
       "      <td>11</td>\n",
       "      <td>81.62%</td>\n",
       "      <td>14.21%</td>\n",
       "    </tr>\n",
       "    <tr>\n",
       "      <th>11</th>\n",
       "      <td>12</td>\n",
       "      <td>80.59%</td>\n",
       "      <td>14.85%</td>\n",
       "    </tr>\n",
       "    <tr>\n",
       "      <th>12</th>\n",
       "      <td>13</td>\n",
       "      <td>82.48%</td>\n",
       "      <td>15.11%</td>\n",
       "    </tr>\n",
       "    <tr>\n",
       "      <th>13</th>\n",
       "      <td>14</td>\n",
       "      <td>77.68%</td>\n",
       "      <td>17.81%</td>\n",
       "    </tr>\n",
       "    <tr>\n",
       "      <th>14</th>\n",
       "      <td>15</td>\n",
       "      <td>85.19%</td>\n",
       "      <td>10.33%</td>\n",
       "    </tr>\n",
       "    <tr>\n",
       "      <th>15</th>\n",
       "      <td>16</td>\n",
       "      <td>82.74%</td>\n",
       "      <td>13.54%</td>\n",
       "    </tr>\n",
       "    <tr>\n",
       "      <th>16</th>\n",
       "      <td>17</td>\n",
       "      <td>83.64%</td>\n",
       "      <td>10.46%</td>\n",
       "    </tr>\n",
       "    <tr>\n",
       "      <th>17</th>\n",
       "      <td>18</td>\n",
       "      <td>82.84%</td>\n",
       "      <td>11.12%</td>\n",
       "    </tr>\n",
       "    <tr>\n",
       "      <th>18</th>\n",
       "      <td>19</td>\n",
       "      <td>82.51%</td>\n",
       "      <td>12.05%</td>\n",
       "    </tr>\n",
       "  </tbody>\n",
       "</table>\n",
       "</div>"
      ],
      "text/plain": [
       "    WEEK      RR     STA\n",
       "0      1  72.15%  20.54%\n",
       "1      2  69.06%  23.30%\n",
       "2      3  72.06%  20.43%\n",
       "3      4  73.18%  19.97%\n",
       "4      5  73.87%  19.32%\n",
       "5      6  70.44%  21.74%\n",
       "6      7  69.62%  22.94%\n",
       "7      8  72.78%  20.00%\n",
       "8      9  72.23%  20.38%\n",
       "9     10  79.69%  17.44%\n",
       "10    11  81.62%  14.21%\n",
       "11    12  80.59%  14.85%\n",
       "12    13  82.48%  15.11%\n",
       "13    14  77.68%  17.81%\n",
       "14    15  85.19%  10.33%\n",
       "15    16  82.74%  13.54%\n",
       "16    17  83.64%  10.46%\n",
       "17    18  82.84%  11.12%\n",
       "18    19  82.51%  12.05%"
      ]
     },
     "execution_count": 6,
     "metadata": {},
     "output_type": "execute_result"
    }
   ],
   "source": [
    "data_vis"
   ]
  },
  {
   "cell_type": "code",
   "execution_count": 7,
   "metadata": {},
   "outputs": [],
   "source": [
    "data_vis['STA'] = data_vis['STA'].str.rstrip('%').astype(float)\n",
    "data_vis['RR'] = data_vis['RR'].str.rstrip('%').astype(float)"
   ]
  },
  {
   "cell_type": "code",
   "execution_count": 9,
   "metadata": {},
   "outputs": [],
   "source": [
    "# data_vis.plot(x='WEEK', y=['RR','STA'],\n",
    "#               figsize = (15, 8), kind = 'area', \n",
    "#               stacked = False, colormap = 'autumn', grid = True,\n",
    "#               style='.-', alpha = 0.5,\n",
    "#              fontsize = 14, title = 'RR vs STA values from Week 1 to Week 19',\n",
    "#              xlim = (1,19))"
   ]
  },
  {
   "cell_type": "code",
   "execution_count": null,
   "metadata": {},
   "outputs": [],
   "source": []
  },
  {
   "cell_type": "code",
   "execution_count": null,
   "metadata": {},
   "outputs": [],
   "source": []
  },
  {
   "cell_type": "code",
   "execution_count": 1,
   "metadata": {},
   "outputs": [],
   "source": [
    "# import plotly.graph_objects as go\n",
    "\n",
    "# x=[data_vis.WEEK]\n",
    "\n",
    "# fig = go.Figure()\n",
    "# fig.add_trace(go.Scatter(\n",
    "#     x= x, y=[40, 60, 40, 10],\n",
    "#     hoverinfo='x+y',\n",
    "#     mode='lines',\n",
    "#     line=dict(width=0.5, color='rgb(131, 90, 241)'),\n",
    "#     stackgroup='one' # define stack group\n",
    "# ))\n",
    "# fig.add_trace(go.Scatter(\n",
    "#     x=x, y=[20, 10, 10, 60],\n",
    "#     hoverinfo='x+y',\n",
    "#     mode='lines',\n",
    "#     line=dict(width=0.5, color='rgb(111, 231, 219)'),\n",
    "#     stackgroup='one'\n",
    "# ))\n",
    "# fig.add_trace(go.Scatter(\n",
    "#     x=x, y=[40, 30, 50, 30],\n",
    "#     hoverinfo='x+y',\n",
    "#     mode='lines',\n",
    "#     line=dict(width=0.5, color='rgb(184, 247, 212)'),\n",
    "#     stackgroup='one'\n",
    "# ))\n",
    "\n",
    "# fig.update_layout(yaxis_range=(0, 100))\n",
    "# fig.show()"
   ]
  },
  {
   "cell_type": "code",
   "execution_count": 12,
   "metadata": {},
   "outputs": [],
   "source": []
  },
  {
   "cell_type": "code",
   "execution_count": 20,
   "metadata": {},
   "outputs": [
    {
     "data": {
      "application/vnd.plotly.v1+json": {
       "config": {
        "plotlyServerURL": "https://plot.ly"
       },
       "data": [
        {
         "hoverinfo": "x+y",
         "line": {
          "color": "rgb(131, 90, 241)",
          "width": 0.5
         },
         "mode": "lines",
         "name": "RR",
         "stackgroup": "one",
         "type": "scatter",
         "x": [
          1,
          2,
          3,
          4,
          5,
          6,
          7,
          8,
          9,
          10,
          11,
          12,
          13,
          14,
          15,
          16,
          17,
          18,
          19
         ],
         "y": [
          72.15,
          69.06,
          72.06,
          73.18,
          73.87,
          70.44,
          69.62,
          72.78,
          72.23,
          79.69,
          81.62,
          80.59,
          82.48,
          77.68,
          85.19,
          82.74,
          83.64,
          82.84,
          82.51
         ]
        },
        {
         "hoverinfo": "x+y",
         "line": {
          "color": "rgb(111, 231, 219)",
          "width": 0.5
         },
         "mode": "lines",
         "name": "STA",
         "stackgroup": "two",
         "type": "scatter",
         "x": [
          1,
          2,
          3,
          4,
          5,
          6,
          7,
          8,
          9,
          10,
          11,
          12,
          13,
          14,
          15,
          16,
          17,
          18,
          19
         ],
         "y": [
          20.54,
          23.3,
          20.43,
          19.97,
          19.32,
          21.74,
          22.94,
          20,
          20.38,
          17.44,
          14.21,
          14.85,
          15.11,
          17.81,
          10.33,
          13.54,
          10.46,
          11.12,
          12.05
         ]
        }
       ],
       "layout": {
        "font": {
         "color": "RebeccaPurple",
         "family": "Courier New, monospace",
         "size": 15
        },
        "legend": {
         "title": {
          "text": "Legend Title"
         }
        },
        "template": {
         "data": {
          "bar": [
           {
            "error_x": {
             "color": "#2a3f5f"
            },
            "error_y": {
             "color": "#2a3f5f"
            },
            "marker": {
             "line": {
              "color": "#E5ECF6",
              "width": 0.5
             },
             "pattern": {
              "fillmode": "overlay",
              "size": 10,
              "solidity": 0.2
             }
            },
            "type": "bar"
           }
          ],
          "barpolar": [
           {
            "marker": {
             "line": {
              "color": "#E5ECF6",
              "width": 0.5
             },
             "pattern": {
              "fillmode": "overlay",
              "size": 10,
              "solidity": 0.2
             }
            },
            "type": "barpolar"
           }
          ],
          "carpet": [
           {
            "aaxis": {
             "endlinecolor": "#2a3f5f",
             "gridcolor": "white",
             "linecolor": "white",
             "minorgridcolor": "white",
             "startlinecolor": "#2a3f5f"
            },
            "baxis": {
             "endlinecolor": "#2a3f5f",
             "gridcolor": "white",
             "linecolor": "white",
             "minorgridcolor": "white",
             "startlinecolor": "#2a3f5f"
            },
            "type": "carpet"
           }
          ],
          "choropleth": [
           {
            "colorbar": {
             "outlinewidth": 0,
             "ticks": ""
            },
            "type": "choropleth"
           }
          ],
          "contour": [
           {
            "colorbar": {
             "outlinewidth": 0,
             "ticks": ""
            },
            "colorscale": [
             [
              0,
              "#0d0887"
             ],
             [
              0.1111111111111111,
              "#46039f"
             ],
             [
              0.2222222222222222,
              "#7201a8"
             ],
             [
              0.3333333333333333,
              "#9c179e"
             ],
             [
              0.4444444444444444,
              "#bd3786"
             ],
             [
              0.5555555555555556,
              "#d8576b"
             ],
             [
              0.6666666666666666,
              "#ed7953"
             ],
             [
              0.7777777777777778,
              "#fb9f3a"
             ],
             [
              0.8888888888888888,
              "#fdca26"
             ],
             [
              1,
              "#f0f921"
             ]
            ],
            "type": "contour"
           }
          ],
          "contourcarpet": [
           {
            "colorbar": {
             "outlinewidth": 0,
             "ticks": ""
            },
            "type": "contourcarpet"
           }
          ],
          "heatmap": [
           {
            "colorbar": {
             "outlinewidth": 0,
             "ticks": ""
            },
            "colorscale": [
             [
              0,
              "#0d0887"
             ],
             [
              0.1111111111111111,
              "#46039f"
             ],
             [
              0.2222222222222222,
              "#7201a8"
             ],
             [
              0.3333333333333333,
              "#9c179e"
             ],
             [
              0.4444444444444444,
              "#bd3786"
             ],
             [
              0.5555555555555556,
              "#d8576b"
             ],
             [
              0.6666666666666666,
              "#ed7953"
             ],
             [
              0.7777777777777778,
              "#fb9f3a"
             ],
             [
              0.8888888888888888,
              "#fdca26"
             ],
             [
              1,
              "#f0f921"
             ]
            ],
            "type": "heatmap"
           }
          ],
          "heatmapgl": [
           {
            "colorbar": {
             "outlinewidth": 0,
             "ticks": ""
            },
            "colorscale": [
             [
              0,
              "#0d0887"
             ],
             [
              0.1111111111111111,
              "#46039f"
             ],
             [
              0.2222222222222222,
              "#7201a8"
             ],
             [
              0.3333333333333333,
              "#9c179e"
             ],
             [
              0.4444444444444444,
              "#bd3786"
             ],
             [
              0.5555555555555556,
              "#d8576b"
             ],
             [
              0.6666666666666666,
              "#ed7953"
             ],
             [
              0.7777777777777778,
              "#fb9f3a"
             ],
             [
              0.8888888888888888,
              "#fdca26"
             ],
             [
              1,
              "#f0f921"
             ]
            ],
            "type": "heatmapgl"
           }
          ],
          "histogram": [
           {
            "marker": {
             "pattern": {
              "fillmode": "overlay",
              "size": 10,
              "solidity": 0.2
             }
            },
            "type": "histogram"
           }
          ],
          "histogram2d": [
           {
            "colorbar": {
             "outlinewidth": 0,
             "ticks": ""
            },
            "colorscale": [
             [
              0,
              "#0d0887"
             ],
             [
              0.1111111111111111,
              "#46039f"
             ],
             [
              0.2222222222222222,
              "#7201a8"
             ],
             [
              0.3333333333333333,
              "#9c179e"
             ],
             [
              0.4444444444444444,
              "#bd3786"
             ],
             [
              0.5555555555555556,
              "#d8576b"
             ],
             [
              0.6666666666666666,
              "#ed7953"
             ],
             [
              0.7777777777777778,
              "#fb9f3a"
             ],
             [
              0.8888888888888888,
              "#fdca26"
             ],
             [
              1,
              "#f0f921"
             ]
            ],
            "type": "histogram2d"
           }
          ],
          "histogram2dcontour": [
           {
            "colorbar": {
             "outlinewidth": 0,
             "ticks": ""
            },
            "colorscale": [
             [
              0,
              "#0d0887"
             ],
             [
              0.1111111111111111,
              "#46039f"
             ],
             [
              0.2222222222222222,
              "#7201a8"
             ],
             [
              0.3333333333333333,
              "#9c179e"
             ],
             [
              0.4444444444444444,
              "#bd3786"
             ],
             [
              0.5555555555555556,
              "#d8576b"
             ],
             [
              0.6666666666666666,
              "#ed7953"
             ],
             [
              0.7777777777777778,
              "#fb9f3a"
             ],
             [
              0.8888888888888888,
              "#fdca26"
             ],
             [
              1,
              "#f0f921"
             ]
            ],
            "type": "histogram2dcontour"
           }
          ],
          "mesh3d": [
           {
            "colorbar": {
             "outlinewidth": 0,
             "ticks": ""
            },
            "type": "mesh3d"
           }
          ],
          "parcoords": [
           {
            "line": {
             "colorbar": {
              "outlinewidth": 0,
              "ticks": ""
             }
            },
            "type": "parcoords"
           }
          ],
          "pie": [
           {
            "automargin": true,
            "type": "pie"
           }
          ],
          "scatter": [
           {
            "fillpattern": {
             "fillmode": "overlay",
             "size": 10,
             "solidity": 0.2
            },
            "type": "scatter"
           }
          ],
          "scatter3d": [
           {
            "line": {
             "colorbar": {
              "outlinewidth": 0,
              "ticks": ""
             }
            },
            "marker": {
             "colorbar": {
              "outlinewidth": 0,
              "ticks": ""
             }
            },
            "type": "scatter3d"
           }
          ],
          "scattercarpet": [
           {
            "marker": {
             "colorbar": {
              "outlinewidth": 0,
              "ticks": ""
             }
            },
            "type": "scattercarpet"
           }
          ],
          "scattergeo": [
           {
            "marker": {
             "colorbar": {
              "outlinewidth": 0,
              "ticks": ""
             }
            },
            "type": "scattergeo"
           }
          ],
          "scattergl": [
           {
            "marker": {
             "colorbar": {
              "outlinewidth": 0,
              "ticks": ""
             }
            },
            "type": "scattergl"
           }
          ],
          "scattermapbox": [
           {
            "marker": {
             "colorbar": {
              "outlinewidth": 0,
              "ticks": ""
             }
            },
            "type": "scattermapbox"
           }
          ],
          "scatterpolar": [
           {
            "marker": {
             "colorbar": {
              "outlinewidth": 0,
              "ticks": ""
             }
            },
            "type": "scatterpolar"
           }
          ],
          "scatterpolargl": [
           {
            "marker": {
             "colorbar": {
              "outlinewidth": 0,
              "ticks": ""
             }
            },
            "type": "scatterpolargl"
           }
          ],
          "scatterternary": [
           {
            "marker": {
             "colorbar": {
              "outlinewidth": 0,
              "ticks": ""
             }
            },
            "type": "scatterternary"
           }
          ],
          "surface": [
           {
            "colorbar": {
             "outlinewidth": 0,
             "ticks": ""
            },
            "colorscale": [
             [
              0,
              "#0d0887"
             ],
             [
              0.1111111111111111,
              "#46039f"
             ],
             [
              0.2222222222222222,
              "#7201a8"
             ],
             [
              0.3333333333333333,
              "#9c179e"
             ],
             [
              0.4444444444444444,
              "#bd3786"
             ],
             [
              0.5555555555555556,
              "#d8576b"
             ],
             [
              0.6666666666666666,
              "#ed7953"
             ],
             [
              0.7777777777777778,
              "#fb9f3a"
             ],
             [
              0.8888888888888888,
              "#fdca26"
             ],
             [
              1,
              "#f0f921"
             ]
            ],
            "type": "surface"
           }
          ],
          "table": [
           {
            "cells": {
             "fill": {
              "color": "#EBF0F8"
             },
             "line": {
              "color": "white"
             }
            },
            "header": {
             "fill": {
              "color": "#C8D4E3"
             },
             "line": {
              "color": "white"
             }
            },
            "type": "table"
           }
          ]
         },
         "layout": {
          "annotationdefaults": {
           "arrowcolor": "#2a3f5f",
           "arrowhead": 0,
           "arrowwidth": 1
          },
          "autotypenumbers": "strict",
          "coloraxis": {
           "colorbar": {
            "outlinewidth": 0,
            "ticks": ""
           }
          },
          "colorscale": {
           "diverging": [
            [
             0,
             "#8e0152"
            ],
            [
             0.1,
             "#c51b7d"
            ],
            [
             0.2,
             "#de77ae"
            ],
            [
             0.3,
             "#f1b6da"
            ],
            [
             0.4,
             "#fde0ef"
            ],
            [
             0.5,
             "#f7f7f7"
            ],
            [
             0.6,
             "#e6f5d0"
            ],
            [
             0.7,
             "#b8e186"
            ],
            [
             0.8,
             "#7fbc41"
            ],
            [
             0.9,
             "#4d9221"
            ],
            [
             1,
             "#276419"
            ]
           ],
           "sequential": [
            [
             0,
             "#0d0887"
            ],
            [
             0.1111111111111111,
             "#46039f"
            ],
            [
             0.2222222222222222,
             "#7201a8"
            ],
            [
             0.3333333333333333,
             "#9c179e"
            ],
            [
             0.4444444444444444,
             "#bd3786"
            ],
            [
             0.5555555555555556,
             "#d8576b"
            ],
            [
             0.6666666666666666,
             "#ed7953"
            ],
            [
             0.7777777777777778,
             "#fb9f3a"
            ],
            [
             0.8888888888888888,
             "#fdca26"
            ],
            [
             1,
             "#f0f921"
            ]
           ],
           "sequentialminus": [
            [
             0,
             "#0d0887"
            ],
            [
             0.1111111111111111,
             "#46039f"
            ],
            [
             0.2222222222222222,
             "#7201a8"
            ],
            [
             0.3333333333333333,
             "#9c179e"
            ],
            [
             0.4444444444444444,
             "#bd3786"
            ],
            [
             0.5555555555555556,
             "#d8576b"
            ],
            [
             0.6666666666666666,
             "#ed7953"
            ],
            [
             0.7777777777777778,
             "#fb9f3a"
            ],
            [
             0.8888888888888888,
             "#fdca26"
            ],
            [
             1,
             "#f0f921"
            ]
           ]
          },
          "colorway": [
           "#636efa",
           "#EF553B",
           "#00cc96",
           "#ab63fa",
           "#FFA15A",
           "#19d3f3",
           "#FF6692",
           "#B6E880",
           "#FF97FF",
           "#FECB52"
          ],
          "font": {
           "color": "#2a3f5f"
          },
          "geo": {
           "bgcolor": "white",
           "lakecolor": "white",
           "landcolor": "#E5ECF6",
           "showlakes": true,
           "showland": true,
           "subunitcolor": "white"
          },
          "hoverlabel": {
           "align": "left"
          },
          "hovermode": "closest",
          "mapbox": {
           "style": "light"
          },
          "paper_bgcolor": "white",
          "plot_bgcolor": "#E5ECF6",
          "polar": {
           "angularaxis": {
            "gridcolor": "white",
            "linecolor": "white",
            "ticks": ""
           },
           "bgcolor": "#E5ECF6",
           "radialaxis": {
            "gridcolor": "white",
            "linecolor": "white",
            "ticks": ""
           }
          },
          "scene": {
           "xaxis": {
            "backgroundcolor": "#E5ECF6",
            "gridcolor": "white",
            "gridwidth": 2,
            "linecolor": "white",
            "showbackground": true,
            "ticks": "",
            "zerolinecolor": "white"
           },
           "yaxis": {
            "backgroundcolor": "#E5ECF6",
            "gridcolor": "white",
            "gridwidth": 2,
            "linecolor": "white",
            "showbackground": true,
            "ticks": "",
            "zerolinecolor": "white"
           },
           "zaxis": {
            "backgroundcolor": "#E5ECF6",
            "gridcolor": "white",
            "gridwidth": 2,
            "linecolor": "white",
            "showbackground": true,
            "ticks": "",
            "zerolinecolor": "white"
           }
          },
          "shapedefaults": {
           "line": {
            "color": "#2a3f5f"
           }
          },
          "ternary": {
           "aaxis": {
            "gridcolor": "white",
            "linecolor": "white",
            "ticks": ""
           },
           "baxis": {
            "gridcolor": "white",
            "linecolor": "white",
            "ticks": ""
           },
           "bgcolor": "#E5ECF6",
           "caxis": {
            "gridcolor": "white",
            "linecolor": "white",
            "ticks": ""
           }
          },
          "title": {
           "x": 0.05
          },
          "xaxis": {
           "automargin": true,
           "gridcolor": "white",
           "linecolor": "white",
           "ticks": "",
           "title": {
            "standoff": 15
           },
           "zerolinecolor": "white",
           "zerolinewidth": 2
          },
          "yaxis": {
           "automargin": true,
           "gridcolor": "white",
           "linecolor": "white",
           "ticks": "",
           "title": {
            "standoff": 15
           },
           "zerolinecolor": "white",
           "zerolinewidth": 2
          }
         }
        },
        "title": {
         "text": "RR vs STA comparison from Week 1 till Week 19"
        },
        "xaxis": {
         "title": {
          "text": "WEEK"
         }
        },
        "yaxis": {
         "range": [
          0,
          100
         ],
         "title": {
          "text": "Percentage"
         }
        }
       }
      }
     },
     "metadata": {},
     "output_type": "display_data"
    }
   ],
   "source": [
    "x = data_vis.WEEK.to_list()\n",
    "y1 = data_vis.RR.to_list()\n",
    "y2 = data_vis.STA.to_list()\n",
    "# y2 = [34, 21, 45, 27]\n",
    "\n",
    "layout = go.Layout(\n",
    "    title=\"RR vs STA comparison from Week 1 till Week 19\",\n",
    "    xaxis=dict(\n",
    "        title=\"WEEK\"\n",
    "    ),\n",
    "    yaxis=dict(\n",
    "        title=\"Percentage\"\n",
    "    ) ) \n",
    "\n",
    "fig2 = go.Figure(layout=layout)\n",
    "\n",
    "\n",
    "fig2.add_trace(go.Scatter(\n",
    "    x=x, y=y1,\n",
    "    hoverinfo='x+y',\n",
    "    mode='lines',\n",
    "    line=dict(width=0.5, color='rgb(131, 90, 241)'),\n",
    "    stackgroup='one',\n",
    "    name = \"RR\",\n",
    "     # define stack group,\n",
    "    \n",
    "))\n",
    "\n",
    "fig2.add_trace(go.Scatter\n",
    "    (x=x, y=y2,\n",
    "    hoverinfo='x+y', \n",
    "    mode='lines',\n",
    "    line=dict(width=0.5, color='rgb(111, 231, 219)'), \n",
    "    stackgroup='two',\n",
    "    name = \"STA\",\n",
    "    ))\n",
    "\n",
    "fig2.update_layout (yaxis_range=(0, 100),  font = dict(\n",
    "        family = \"Courier New, monospace\",\n",
    "        size = 15,\n",
    "        color=\"RebeccaPurple\"), legend_title = \"Legend Title\"\n",
    "        )\n",
    "fig2.show()"
   ]
  },
  {
   "cell_type": "code",
   "execution_count": 14,
   "metadata": {},
   "outputs": [
    {
     "data": {
      "text/plain": [
       "plotly.graph_objs._figure.Figure"
      ]
     },
     "execution_count": 14,
     "metadata": {},
     "output_type": "execute_result"
    }
   ],
   "source": [
    "type(fig2)"
   ]
  },
  {
   "cell_type": "code",
   "execution_count": null,
   "metadata": {},
   "outputs": [],
   "source": []
  }
 ],
 "metadata": {
  "interpreter": {
   "hash": "0606053452435824a427f0ea93d6ae20786397642025bcc66bfe96b66155d44b"
  },
  "kernelspec": {
   "display_name": "Python 3.9.7 ('base')",
   "language": "python",
   "name": "python3"
  },
  "language_info": {
   "codemirror_mode": {
    "name": "ipython",
    "version": 3
   },
   "file_extension": ".py",
   "mimetype": "text/x-python",
   "name": "python",
   "nbconvert_exporter": "python",
   "pygments_lexer": "ipython3",
   "version": "3.9.7"
  }
 },
 "nbformat": 4,
 "nbformat_minor": 2
}
