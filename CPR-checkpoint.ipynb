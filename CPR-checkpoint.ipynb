{
 "cells": [
  {
   "cell_type": "code",
   "execution_count": 2,
   "metadata": {},
   "outputs": [],
   "source": [
    "import pandas as pd\n",
    "import numpy as np\n",
    "import matplotlib.pyplot as plt\n",
    "from IPython.display import display\n",
    "\n",
    "import seaborn as sns"
   ]
  },
  {
   "cell_type": "markdown",
   "metadata": {},
   "source": [
    "### Upload CPR acccording to the week"
   ]
  },
  {
   "cell_type": "code",
   "execution_count": 4,
   "metadata": {},
   "outputs": [],
   "source": [
    "CPR_df = pd.read_csv('2022_04250501_CPR_W17.csv') "
   ]
  },
  {
   "cell_type": "code",
   "execution_count": 5,
   "metadata": {},
   "outputs": [
    {
     "data": {
      "text/html": [
       "<div>\n",
       "<style scoped>\n",
       "    .dataframe tbody tr th:only-of-type {\n",
       "        vertical-align: middle;\n",
       "    }\n",
       "\n",
       "    .dataframe tbody tr th {\n",
       "        vertical-align: top;\n",
       "    }\n",
       "\n",
       "    .dataframe thead th {\n",
       "        text-align: right;\n",
       "    }\n",
       "</style>\n",
       "<table border=\"1\" class=\"dataframe\">\n",
       "  <thead>\n",
       "    <tr style=\"text-align: right;\">\n",
       "      <th></th>\n",
       "      <th>date_id</th>\n",
       "      <th>tenant_name</th>\n",
       "      <th>robot_code_name</th>\n",
       "      <th>from_name</th>\n",
       "      <th>Knowledge Type</th>\n",
       "      <th>Knowledge Id</th>\n",
       "      <th>Knowledge Name</th>\n",
       "      <th>Solution Id</th>\n",
       "      <th>Solution Name</th>\n",
       "      <th>Chats</th>\n",
       "      <th>sid_cnt</th>\n",
       "      <th>Session_Resolved_Rate</th>\n",
       "      <th>Switch_to_Live_Agent_Rate</th>\n",
       "      <th>Survey_Response_Rate</th>\n",
       "      <th>Chat_Unsatisfied_Rate</th>\n",
       "    </tr>\n",
       "  </thead>\n",
       "  <tbody>\n",
       "    <tr>\n",
       "      <th>0</th>\n",
       "      <td>20220424</td>\n",
       "      <td>Alime-DRZ-CC-BD</td>\n",
       "      <td>BD-Daz-EN</td>\n",
       "      <td>BD-Daz-EN-HC-App</td>\n",
       "      <td>大招</td>\n",
       "      <td>1000068200</td>\n",
       "      <td>Need help</td>\n",
       "      <td>NaN</td>\n",
       "      <td>NaN</td>\n",
       "      <td>1497</td>\n",
       "      <td>922</td>\n",
       "      <td>0.655098</td>\n",
       "      <td>0.300434</td>\n",
       "      <td>0.0</td>\n",
       "      <td>NaN</td>\n",
       "    </tr>\n",
       "    <tr>\n",
       "      <th>1</th>\n",
       "      <td>20220418</td>\n",
       "      <td>Alime-DRZ-CC-BD</td>\n",
       "      <td>BD-Daz-EN</td>\n",
       "      <td>BD-Daz-EN-HC-App</td>\n",
       "      <td>小招</td>\n",
       "      <td>1000055995</td>\n",
       "      <td>Greeting</td>\n",
       "      <td>NaN</td>\n",
       "      <td>NaN</td>\n",
       "      <td>1332</td>\n",
       "      <td>748</td>\n",
       "      <td>0.779273</td>\n",
       "      <td>0.188425</td>\n",
       "      <td>0.0</td>\n",
       "      <td>NaN</td>\n",
       "    </tr>\n",
       "    <tr>\n",
       "      <th>2</th>\n",
       "      <td>20220424</td>\n",
       "      <td>Alime-DRZ-CC-BD</td>\n",
       "      <td>BD-Daz-EN</td>\n",
       "      <td>BD-Daz-EN-DD-App</td>\n",
       "      <td>FAQ</td>\n",
       "      <td>1000015459</td>\n",
       "      <td>How can I track my order</td>\n",
       "      <td>NaN</td>\n",
       "      <td>NaN</td>\n",
       "      <td>1241</td>\n",
       "      <td>1128</td>\n",
       "      <td>0.931738</td>\n",
       "      <td>0.038121</td>\n",
       "      <td>0.0</td>\n",
       "      <td>NaN</td>\n",
       "    </tr>\n",
       "    <tr>\n",
       "      <th>3</th>\n",
       "      <td>20220423</td>\n",
       "      <td>Alime-DRZ-CC-BD</td>\n",
       "      <td>BD-Daz-EN</td>\n",
       "      <td>BD-Daz-EN-HC-App</td>\n",
       "      <td>大招</td>\n",
       "      <td>1000068200</td>\n",
       "      <td>Need help</td>\n",
       "      <td>NaN</td>\n",
       "      <td>NaN</td>\n",
       "      <td>1211</td>\n",
       "      <td>831</td>\n",
       "      <td>0.596871</td>\n",
       "      <td>0.328520</td>\n",
       "      <td>0.0</td>\n",
       "      <td>NaN</td>\n",
       "    </tr>\n",
       "    <tr>\n",
       "      <th>4</th>\n",
       "      <td>20220419</td>\n",
       "      <td>Alime-DRZ-CC-BD</td>\n",
       "      <td>BD-Daz-EN</td>\n",
       "      <td>BD-Daz-EN-HC-App</td>\n",
       "      <td>大招</td>\n",
       "      <td>1000068200</td>\n",
       "      <td>Need help</td>\n",
       "      <td>NaN</td>\n",
       "      <td>NaN</td>\n",
       "      <td>1178</td>\n",
       "      <td>808</td>\n",
       "      <td>0.583643</td>\n",
       "      <td>0.369269</td>\n",
       "      <td>0.0</td>\n",
       "      <td>NaN</td>\n",
       "    </tr>\n",
       "  </tbody>\n",
       "</table>\n",
       "</div>"
      ],
      "text/plain": [
       "    date_id      tenant_name robot_code_name         from_name Knowledge Type  \\\n",
       "0  20220424  Alime-DRZ-CC-BD       BD-Daz-EN  BD-Daz-EN-HC-App             大招   \n",
       "1  20220418  Alime-DRZ-CC-BD       BD-Daz-EN  BD-Daz-EN-HC-App             小招   \n",
       "2  20220424  Alime-DRZ-CC-BD       BD-Daz-EN  BD-Daz-EN-DD-App            FAQ   \n",
       "3  20220423  Alime-DRZ-CC-BD       BD-Daz-EN  BD-Daz-EN-HC-App             大招   \n",
       "4  20220419  Alime-DRZ-CC-BD       BD-Daz-EN  BD-Daz-EN-HC-App             大招   \n",
       "\n",
       "   Knowledge Id            Knowledge Name  Solution Id Solution Name  Chats  \\\n",
       "0    1000068200                 Need help          NaN           NaN   1497   \n",
       "1    1000055995                  Greeting          NaN           NaN   1332   \n",
       "2    1000015459  How can I track my order          NaN           NaN   1241   \n",
       "3    1000068200                 Need help          NaN           NaN   1211   \n",
       "4    1000068200                 Need help          NaN           NaN   1178   \n",
       "\n",
       "   sid_cnt  Session_Resolved_Rate  Switch_to_Live_Agent_Rate  \\\n",
       "0      922               0.655098                   0.300434   \n",
       "1      748               0.779273                   0.188425   \n",
       "2     1128               0.931738                   0.038121   \n",
       "3      831               0.596871                   0.328520   \n",
       "4      808               0.583643                   0.369269   \n",
       "\n",
       "   Survey_Response_Rate  Chat_Unsatisfied_Rate  \n",
       "0                   0.0                    NaN  \n",
       "1                   0.0                    NaN  \n",
       "2                   0.0                    NaN  \n",
       "3                   0.0                    NaN  \n",
       "4                   0.0                    NaN  "
      ]
     },
     "execution_count": 5,
     "metadata": {},
     "output_type": "execute_result"
    }
   ],
   "source": [
    "CPR_df.head()"
   ]
  },
  {
   "cell_type": "code",
   "execution_count": null,
   "metadata": {},
   "outputs": [],
   "source": [
    "CPR_df_LC = CPR_df[CPR_df['robot_code_name'] == 'BD-Daz-LC']\n",
    "CPR_df_EN = CPR_df[CPR_df['robot_code_name'] == 'BD-Daz-EN']"
   ]
  },
  {
   "cell_type": "markdown",
   "metadata": {},
   "source": [
    "#### Total Session Resolved"
   ]
  },
  {
   "cell_type": "markdown",
   "metadata": {},
   "source": [
    "##### LC"
   ]
  },
  {
   "cell_type": "code",
   "execution_count": null,
   "metadata": {},
   "outputs": [],
   "source": [
    "CPR_df_LC['total_session_resolved'] = 0\n",
    "for i in range(len(CPR_df_LC)):\n",
    "    CPR_df_LC['total_session_resolved'][i] = CPR_df_LC['sid_cnt'][i]*CPR_df_LC['Session_Resolved_Rate'][i]"
   ]
  },
  {
   "cell_type": "markdown",
   "metadata": {},
   "source": [
    "##### EN"
   ]
  },
  {
   "cell_type": "code",
   "execution_count": 22,
   "metadata": {},
   "outputs": [
    {
     "name": "stderr",
     "output_type": "stream",
     "text": [
      "C:\\Users\\Daraz\\AppData\\Local\\Temp/ipykernel_23640/1795389327.py:3: SettingWithCopyWarning: \n",
      "A value is trying to be set on a copy of a slice from a DataFrame\n",
      "\n",
      "See the caveats in the documentation: https://pandas.pydata.org/pandas-docs/stable/user_guide/indexing.html#returning-a-view-versus-a-copy\n",
      "  df['total_session_resolved'][i] = df['sid_cnt'][i]*df['Session_Resolved_Rate'][i]\n"
     ]
    }
   ],
   "source": [
    "CPR_df_EN['total_session_resolved'] = 0\n",
    "for i in range(len(CPR_df_EN)):\n",
    "    CPR_df_EN['total_session_resolved'][i] = CPR_df_EN['sid_cnt'][i]*CPR_df_EN['Session_Resolved_Rate'][i]"
   ]
  },
  {
   "cell_type": "markdown",
   "metadata": {},
   "source": [
    "#### Total Count for Switch_to_LiveAgent"
   ]
  },
  {
   "cell_type": "markdown",
   "metadata": {},
   "source": [
    "##### LC"
   ]
  },
  {
   "cell_type": "code",
   "execution_count": null,
   "metadata": {},
   "outputs": [],
   "source": [
    "CPR_df_LC['total_switch_agent'] = 0 \n",
    "for i in range(len(CPR_df_LC)):\n",
    "    CPR_df_LC['total_switch_agent'][i] = CPR_df_LC['sid_cnt'][i]*CPR_df_LC['Switch_to_Live_Agent_Rate'][i]"
   ]
  },
  {
   "cell_type": "markdown",
   "metadata": {},
   "source": [
    "##### EN"
   ]
  },
  {
   "cell_type": "code",
   "execution_count": 25,
   "metadata": {},
   "outputs": [
    {
     "name": "stderr",
     "output_type": "stream",
     "text": [
      "C:\\Users\\Daraz\\AppData\\Local\\Temp/ipykernel_23640/35469462.py:3: SettingWithCopyWarning: \n",
      "A value is trying to be set on a copy of a slice from a DataFrame\n",
      "\n",
      "See the caveats in the documentation: https://pandas.pydata.org/pandas-docs/stable/user_guide/indexing.html#returning-a-view-versus-a-copy\n",
      "  df['total_switch_agent'][i] = df['sid_cnt'][i]*df['Switch_to_Live_Agent_Rate'][i]\n"
     ]
    }
   ],
   "source": [
    "CPR_df_EN['total_switch_agent'] = 0\n",
    "for i in range(len(CPR_df_EN)):\n",
    "    CPR_df_EN['total_switch_agent'][i] = CPR_df_EN['sid_cnt'][i]*CPR_df_EN['Switch_to_Live_Agent_Rate'][i]"
   ]
  },
  {
   "cell_type": "markdown",
   "metadata": {},
   "source": [
    "#### Response Count (Chat Level)"
   ]
  },
  {
   "cell_type": "markdown",
   "metadata": {},
   "source": [
    "##### LC"
   ]
  },
  {
   "cell_type": "code",
   "execution_count": 26,
   "metadata": {},
   "outputs": [
    {
     "name": "stderr",
     "output_type": "stream",
     "text": [
      "C:\\Users\\Daraz\\AppData\\Local\\Temp/ipykernel_23640/387303835.py:3: SettingWithCopyWarning: \n",
      "A value is trying to be set on a copy of a slice from a DataFrame\n",
      "\n",
      "See the caveats in the documentation: https://pandas.pydata.org/pandas-docs/stable/user_guide/indexing.html#returning-a-view-versus-a-copy\n",
      "  df['response_count'][i] = df['Chats'][i]*df['Survey_Response_Rate'][i]\n"
     ]
    }
   ],
   "source": [
    "CPR_df_LC['response_count'] = 0\n",
    "for i in range(len(CPR_df_LC)):\n",
    "    CPR_df_LC['response_count'][i] = CPR_df_LC['Chats'][i]*CPR_df_LC['Survey_Response_Rate'][i]"
   ]
  },
  {
   "cell_type": "markdown",
   "metadata": {},
   "source": [
    "##### EN"
   ]
  },
  {
   "cell_type": "code",
   "execution_count": null,
   "metadata": {},
   "outputs": [],
   "source": [
    "CPR_df_EN['response_count'] = 0\n",
    "for i in range(len(CPR_df_EN)):\n",
    "    CPR_df_EN['response_count'][i] = CPR_df_EN['Chats'][i]*CPR_df_EN['Survey_Response_Rate'][i]"
   ]
  },
  {
   "cell_type": "markdown",
   "metadata": {},
   "source": [
    "#### Unsatisfied Count (Chat Level)"
   ]
  },
  {
   "cell_type": "markdown",
   "metadata": {},
   "source": [
    "##### LC"
   ]
  },
  {
   "cell_type": "code",
   "execution_count": 27,
   "metadata": {},
   "outputs": [
    {
     "name": "stderr",
     "output_type": "stream",
     "text": [
      "C:\\Users\\Daraz\\AppData\\Local\\Temp/ipykernel_23640/2307856452.py:3: SettingWithCopyWarning: \n",
      "A value is trying to be set on a copy of a slice from a DataFrame\n",
      "\n",
      "See the caveats in the documentation: https://pandas.pydata.org/pandas-docs/stable/user_guide/indexing.html#returning-a-view-versus-a-copy\n",
      "  df['unsatisfied_count'][i] = df['response_count'][i]*df['Chat_Unsatisfied_Rate'][i]\n",
      "c:\\Users\\Daraz\\anaconda3\\lib\\site-packages\\pandas\\core\\indexing.py:1732: SettingWithCopyWarning: \n",
      "A value is trying to be set on a copy of a slice from a DataFrame\n",
      "\n",
      "See the caveats in the documentation: https://pandas.pydata.org/pandas-docs/stable/user_guide/indexing.html#returning-a-view-versus-a-copy\n",
      "  self._setitem_single_block(indexer, value, name)\n"
     ]
    }
   ],
   "source": [
    "CPR_df_LC['unsatisfied_count'] = 0\n",
    "for i in range(len(CPR_df_LC)):\n",
    "    CPR_df_LC['unsatisfied_count'][i] = CPR_df_LC['response_count'][i]*CPR_df_LC['Chat_Unsatisfied_Rate'][i]"
   ]
  },
  {
   "cell_type": "markdown",
   "metadata": {},
   "source": [
    "##### EN"
   ]
  },
  {
   "cell_type": "code",
   "execution_count": null,
   "metadata": {},
   "outputs": [],
   "source": [
    "CPR_df_EN['unsatisfied_count'] = 0\n",
    "for i in range(len(CPR_df_EN)):\n",
    "    CPR_df_EN['unsatisfied_count'][i] = CPR_df_EN['response_count'][i]*CPR_df_EN['Chat_Unsatisfied_Rate'][i]"
   ]
  },
  {
   "cell_type": "markdown",
   "metadata": {},
   "source": [
    "##### LC"
   ]
  },
  {
   "cell_type": "code",
   "execution_count": 30,
   "metadata": {},
   "outputs": [
    {
     "data": {
      "text/html": [
       "<div>\n",
       "<style scoped>\n",
       "    .dataframe tbody tr th:only-of-type {\n",
       "        vertical-align: middle;\n",
       "    }\n",
       "\n",
       "    .dataframe tbody tr th {\n",
       "        vertical-align: top;\n",
       "    }\n",
       "\n",
       "    .dataframe thead th {\n",
       "        text-align: right;\n",
       "    }\n",
       "</style>\n",
       "<table border=\"1\" class=\"dataframe\">\n",
       "  <thead>\n",
       "    <tr style=\"text-align: right;\">\n",
       "      <th></th>\n",
       "      <th>total_session_resolved</th>\n",
       "      <th>total_switch_agent</th>\n",
       "      <th>response_count</th>\n",
       "      <th>unsatisfied_count</th>\n",
       "    </tr>\n",
       "  </thead>\n",
       "  <tbody>\n",
       "    <tr>\n",
       "      <th>0</th>\n",
       "      <td>604</td>\n",
       "      <td>276</td>\n",
       "      <td>0</td>\n",
       "      <td>NaN</td>\n",
       "    </tr>\n",
       "    <tr>\n",
       "      <th>1</th>\n",
       "      <td>582</td>\n",
       "      <td>140</td>\n",
       "      <td>0</td>\n",
       "      <td>NaN</td>\n",
       "    </tr>\n",
       "    <tr>\n",
       "      <th>2</th>\n",
       "      <td>1051</td>\n",
       "      <td>42</td>\n",
       "      <td>0</td>\n",
       "      <td>NaN</td>\n",
       "    </tr>\n",
       "    <tr>\n",
       "      <th>3</th>\n",
       "      <td>495</td>\n",
       "      <td>273</td>\n",
       "      <td>0</td>\n",
       "      <td>NaN</td>\n",
       "    </tr>\n",
       "    <tr>\n",
       "      <th>4</th>\n",
       "      <td>471</td>\n",
       "      <td>298</td>\n",
       "      <td>0</td>\n",
       "      <td>NaN</td>\n",
       "    </tr>\n",
       "    <tr>\n",
       "      <th>...</th>\n",
       "      <td>...</td>\n",
       "      <td>...</td>\n",
       "      <td>...</td>\n",
       "      <td>...</td>\n",
       "    </tr>\n",
       "    <tr>\n",
       "      <th>6035</th>\n",
       "      <td>0</td>\n",
       "      <td>0</td>\n",
       "      <td>1</td>\n",
       "      <td>0.0</td>\n",
       "    </tr>\n",
       "    <tr>\n",
       "      <th>6036</th>\n",
       "      <td>1</td>\n",
       "      <td>0</td>\n",
       "      <td>0</td>\n",
       "      <td>NaN</td>\n",
       "    </tr>\n",
       "    <tr>\n",
       "      <th>6037</th>\n",
       "      <td>1</td>\n",
       "      <td>0</td>\n",
       "      <td>0</td>\n",
       "      <td>NaN</td>\n",
       "    </tr>\n",
       "    <tr>\n",
       "      <th>6038</th>\n",
       "      <td>1</td>\n",
       "      <td>0</td>\n",
       "      <td>0</td>\n",
       "      <td>NaN</td>\n",
       "    </tr>\n",
       "    <tr>\n",
       "      <th>6039</th>\n",
       "      <td>1</td>\n",
       "      <td>0</td>\n",
       "      <td>0</td>\n",
       "      <td>NaN</td>\n",
       "    </tr>\n",
       "  </tbody>\n",
       "</table>\n",
       "<p>6040 rows × 4 columns</p>\n",
       "</div>"
      ],
      "text/plain": [
       "      total_session_resolved  total_switch_agent  response_count  \\\n",
       "0                        604                 276               0   \n",
       "1                        582                 140               0   \n",
       "2                       1051                  42               0   \n",
       "3                        495                 273               0   \n",
       "4                        471                 298               0   \n",
       "...                      ...                 ...             ...   \n",
       "6035                       0                   0               1   \n",
       "6036                       1                   0               0   \n",
       "6037                       1                   0               0   \n",
       "6038                       1                   0               0   \n",
       "6039                       1                   0               0   \n",
       "\n",
       "      unsatisfied_count  \n",
       "0                   NaN  \n",
       "1                   NaN  \n",
       "2                   NaN  \n",
       "3                   NaN  \n",
       "4                   NaN  \n",
       "...                 ...  \n",
       "6035                0.0  \n",
       "6036                NaN  \n",
       "6037                NaN  \n",
       "6038                NaN  \n",
       "6039                NaN  \n",
       "\n",
       "[6040 rows x 4 columns]"
      ]
     },
     "execution_count": 30,
     "metadata": {},
     "output_type": "execute_result"
    }
   ],
   "source": [
    "CPR_df_LC[['total_session_resolved','total_switch_agent','response_count','unsatisfied_count']]"
   ]
  },
  {
   "cell_type": "markdown",
   "metadata": {},
   "source": [
    "##### EN"
   ]
  },
  {
   "cell_type": "code",
   "execution_count": null,
   "metadata": {},
   "outputs": [],
   "source": [
    "CPR_df_EN[['total_session_resolved','total_switch_agent','response_count','unsatisfied_count']]"
   ]
  },
  {
   "cell_type": "markdown",
   "metadata": {},
   "source": [
    "##### LC"
   ]
  },
  {
   "cell_type": "code",
   "execution_count": 31,
   "metadata": {},
   "outputs": [],
   "source": [
    "CPR_df_LC['unsatisfied_count'] = CPR_df_LC['unsatisfied_count'].fillna(0)"
   ]
  },
  {
   "cell_type": "markdown",
   "metadata": {},
   "source": [
    "##### EN"
   ]
  },
  {
   "cell_type": "code",
   "execution_count": null,
   "metadata": {},
   "outputs": [],
   "source": [
    "CPR_df_EN['unsatisfied_count'] = CPR_df_EN['unsatisfied_count'].fillna(0)"
   ]
  },
  {
   "cell_type": "markdown",
   "metadata": {},
   "source": [
    "##### LC"
   ]
  },
  {
   "cell_type": "code",
   "execution_count": 32,
   "metadata": {},
   "outputs": [
    {
     "data": {
      "text/html": [
       "<div>\n",
       "<style scoped>\n",
       "    .dataframe tbody tr th:only-of-type {\n",
       "        vertical-align: middle;\n",
       "    }\n",
       "\n",
       "    .dataframe tbody tr th {\n",
       "        vertical-align: top;\n",
       "    }\n",
       "\n",
       "    .dataframe thead th {\n",
       "        text-align: right;\n",
       "    }\n",
       "</style>\n",
       "<table border=\"1\" class=\"dataframe\">\n",
       "  <thead>\n",
       "    <tr style=\"text-align: right;\">\n",
       "      <th></th>\n",
       "      <th>total_session_resolved</th>\n",
       "      <th>total_switch_agent</th>\n",
       "      <th>response_count</th>\n",
       "      <th>unsatisfied_count</th>\n",
       "    </tr>\n",
       "  </thead>\n",
       "  <tbody>\n",
       "    <tr>\n",
       "      <th>0</th>\n",
       "      <td>604</td>\n",
       "      <td>276</td>\n",
       "      <td>0</td>\n",
       "      <td>0.0</td>\n",
       "    </tr>\n",
       "    <tr>\n",
       "      <th>1</th>\n",
       "      <td>582</td>\n",
       "      <td>140</td>\n",
       "      <td>0</td>\n",
       "      <td>0.0</td>\n",
       "    </tr>\n",
       "    <tr>\n",
       "      <th>2</th>\n",
       "      <td>1051</td>\n",
       "      <td>42</td>\n",
       "      <td>0</td>\n",
       "      <td>0.0</td>\n",
       "    </tr>\n",
       "    <tr>\n",
       "      <th>3</th>\n",
       "      <td>495</td>\n",
       "      <td>273</td>\n",
       "      <td>0</td>\n",
       "      <td>0.0</td>\n",
       "    </tr>\n",
       "    <tr>\n",
       "      <th>4</th>\n",
       "      <td>471</td>\n",
       "      <td>298</td>\n",
       "      <td>0</td>\n",
       "      <td>0.0</td>\n",
       "    </tr>\n",
       "    <tr>\n",
       "      <th>...</th>\n",
       "      <td>...</td>\n",
       "      <td>...</td>\n",
       "      <td>...</td>\n",
       "      <td>...</td>\n",
       "    </tr>\n",
       "    <tr>\n",
       "      <th>6035</th>\n",
       "      <td>0</td>\n",
       "      <td>0</td>\n",
       "      <td>1</td>\n",
       "      <td>0.0</td>\n",
       "    </tr>\n",
       "    <tr>\n",
       "      <th>6036</th>\n",
       "      <td>1</td>\n",
       "      <td>0</td>\n",
       "      <td>0</td>\n",
       "      <td>0.0</td>\n",
       "    </tr>\n",
       "    <tr>\n",
       "      <th>6037</th>\n",
       "      <td>1</td>\n",
       "      <td>0</td>\n",
       "      <td>0</td>\n",
       "      <td>0.0</td>\n",
       "    </tr>\n",
       "    <tr>\n",
       "      <th>6038</th>\n",
       "      <td>1</td>\n",
       "      <td>0</td>\n",
       "      <td>0</td>\n",
       "      <td>0.0</td>\n",
       "    </tr>\n",
       "    <tr>\n",
       "      <th>6039</th>\n",
       "      <td>1</td>\n",
       "      <td>0</td>\n",
       "      <td>0</td>\n",
       "      <td>0.0</td>\n",
       "    </tr>\n",
       "  </tbody>\n",
       "</table>\n",
       "<p>6040 rows × 4 columns</p>\n",
       "</div>"
      ],
      "text/plain": [
       "      total_session_resolved  total_switch_agent  response_count  \\\n",
       "0                        604                 276               0   \n",
       "1                        582                 140               0   \n",
       "2                       1051                  42               0   \n",
       "3                        495                 273               0   \n",
       "4                        471                 298               0   \n",
       "...                      ...                 ...             ...   \n",
       "6035                       0                   0               1   \n",
       "6036                       1                   0               0   \n",
       "6037                       1                   0               0   \n",
       "6038                       1                   0               0   \n",
       "6039                       1                   0               0   \n",
       "\n",
       "      unsatisfied_count  \n",
       "0                   0.0  \n",
       "1                   0.0  \n",
       "2                   0.0  \n",
       "3                   0.0  \n",
       "4                   0.0  \n",
       "...                 ...  \n",
       "6035                0.0  \n",
       "6036                0.0  \n",
       "6037                0.0  \n",
       "6038                0.0  \n",
       "6039                0.0  \n",
       "\n",
       "[6040 rows x 4 columns]"
      ]
     },
     "execution_count": 32,
     "metadata": {},
     "output_type": "execute_result"
    }
   ],
   "source": [
    "CPR_df_LC[['total_session_resolved','total_switch_agent','response_count','unsatisfied_count']]"
   ]
  },
  {
   "cell_type": "markdown",
   "metadata": {},
   "source": [
    "##### EN"
   ]
  },
  {
   "cell_type": "code",
   "execution_count": null,
   "metadata": {},
   "outputs": [],
   "source": [
    "CPR_df_EN[['total_session_resolved','total_switch_agent','response_count','unsatisfied_count']]"
   ]
  },
  {
   "cell_type": "markdown",
   "metadata": {},
   "source": [
    "### Creating a Pivot Table"
   ]
  },
  {
   "cell_type": "markdown",
   "metadata": {},
   "source": [
    "##### LC"
   ]
  },
  {
   "cell_type": "code",
   "execution_count": 57,
   "metadata": {},
   "outputs": [],
   "source": [
    "CPR_df_LC_pivottable = pd.pivot_table(CPR_df_LC, values = ['Chats','sid_cnt','total_session_resolved','total_switch_agent','unsatisfied_count'],\n",
    "                       index= ['Knowledge Name'], aggfunc = np.sum)"
   ]
  },
  {
   "cell_type": "markdown",
   "metadata": {},
   "source": [
    "##### EN"
   ]
  },
  {
   "cell_type": "code",
   "execution_count": null,
   "metadata": {},
   "outputs": [],
   "source": [
    "CPR_df_EN_pivottable = pd.pivot_table(CPR_df_EN, values = ['Chats','sid_cnt','total_session_resolved','total_switch_agent','unsatisfied_count'],\n",
    "                       index= ['Knowledge Name'], aggfunc = np.sum)"
   ]
  },
  {
   "cell_type": "code",
   "execution_count": 58,
   "metadata": {},
   "outputs": [
    {
     "data": {
      "text/html": [
       "<div>\n",
       "<style scoped>\n",
       "    .dataframe tbody tr th:only-of-type {\n",
       "        vertical-align: middle;\n",
       "    }\n",
       "\n",
       "    .dataframe tbody tr th {\n",
       "        vertical-align: top;\n",
       "    }\n",
       "\n",
       "    .dataframe thead th {\n",
       "        text-align: right;\n",
       "    }\n",
       "</style>\n",
       "<table border=\"1\" class=\"dataframe\">\n",
       "  <thead>\n",
       "    <tr style=\"text-align: right;\">\n",
       "      <th></th>\n",
       "      <th>Chats</th>\n",
       "      <th>sid_cnt</th>\n",
       "      <th>total_session_resolved</th>\n",
       "      <th>total_switch_agent</th>\n",
       "      <th>unsatisfied_count</th>\n",
       "    </tr>\n",
       "    <tr>\n",
       "      <th>Knowledge Name</th>\n",
       "      <th></th>\n",
       "      <th></th>\n",
       "      <th></th>\n",
       "      <th></th>\n",
       "      <th></th>\n",
       "    </tr>\n",
       "  </thead>\n",
       "  <tbody>\n",
       "    <tr>\n",
       "      <th>when will i get my refund</th>\n",
       "      <td>1</td>\n",
       "      <td>1</td>\n",
       "      <td>1</td>\n",
       "      <td>0</td>\n",
       "      <td>0.0</td>\n",
       "    </tr>\n",
       "    <tr>\n",
       "      <th>Account management related query</th>\n",
       "      <td>339</td>\n",
       "      <td>320</td>\n",
       "      <td>188</td>\n",
       "      <td>100</td>\n",
       "      <td>0.0</td>\n",
       "    </tr>\n",
       "    <tr>\n",
       "      <th>Account management shongkranto query</th>\n",
       "      <td>62</td>\n",
       "      <td>58</td>\n",
       "      <td>36</td>\n",
       "      <td>15</td>\n",
       "      <td>0.0</td>\n",
       "    </tr>\n",
       "    <tr>\n",
       "      <th>Add to Cart offer ti kibhabe pabo</th>\n",
       "      <td>1</td>\n",
       "      <td>1</td>\n",
       "      <td>1</td>\n",
       "      <td>0</td>\n",
       "      <td>0.0</td>\n",
       "    </tr>\n",
       "    <tr>\n",
       "      <th>After returning the item how much time is needed to get the refund</th>\n",
       "      <td>1</td>\n",
       "      <td>1</td>\n",
       "      <td>1</td>\n",
       "      <td>0</td>\n",
       "      <td>0.0</td>\n",
       "    </tr>\n",
       "    <tr>\n",
       "      <th>...</th>\n",
       "      <td>...</td>\n",
       "      <td>...</td>\n",
       "      <td>...</td>\n",
       "      <td>...</td>\n",
       "      <td>...</td>\n",
       "    </tr>\n",
       "    <tr>\n",
       "      <th>return-postmatch</th>\n",
       "      <td>46</td>\n",
       "      <td>46</td>\n",
       "      <td>39</td>\n",
       "      <td>2</td>\n",
       "      <td>1.0</td>\n",
       "    </tr>\n",
       "    <tr>\n",
       "      <th>test_daraz_bd</th>\n",
       "      <td>5</td>\n",
       "      <td>5</td>\n",
       "      <td>5</td>\n",
       "      <td>0</td>\n",
       "      <td>0.0</td>\n",
       "    </tr>\n",
       "    <tr>\n",
       "      <th>আমার অর্ডার কোথায়?</th>\n",
       "      <td>1</td>\n",
       "      <td>1</td>\n",
       "      <td>1</td>\n",
       "      <td>0</td>\n",
       "      <td>0.0</td>\n",
       "    </tr>\n",
       "    <tr>\n",
       "      <th>আমি কি আইটেমটি রিটার্ন করতে পারবো</th>\n",
       "      <td>2</td>\n",
       "      <td>1</td>\n",
       "      <td>1</td>\n",
       "      <td>0</td>\n",
       "      <td>0.0</td>\n",
       "    </tr>\n",
       "    <tr>\n",
       "      <th>রিফান্ড প্রসেস শেষ হতে কতদিন লাগবে?</th>\n",
       "      <td>1</td>\n",
       "      <td>1</td>\n",
       "      <td>1</td>\n",
       "      <td>0</td>\n",
       "      <td>0.0</td>\n",
       "    </tr>\n",
       "  </tbody>\n",
       "</table>\n",
       "<p>648 rows × 5 columns</p>\n",
       "</div>"
      ],
      "text/plain": [
       "                                                    Chats  sid_cnt  \\\n",
       "Knowledge Name                                                       \n",
       " when will i get my refund                              1        1   \n",
       "Account management related query                      339      320   \n",
       "Account management shongkranto query                   62       58   \n",
       "Add to Cart offer ti kibhabe pabo                       1        1   \n",
       "After returning the item how much time is neede...      1        1   \n",
       "...                                                   ...      ...   \n",
       "return-postmatch                                       46       46   \n",
       "test_daraz_bd                                           5        5   \n",
       "আমার অর্ডার কোথায়?                                      1        1   \n",
       "আমি কি আইটেমটি রিটার্ন করতে পারবো                       2        1   \n",
       "রিফান্ড প্রসেস শেষ হতে কতদিন লাগবে?                     1        1   \n",
       "\n",
       "                                                    total_session_resolved  \\\n",
       "Knowledge Name                                                               \n",
       " when will i get my refund                                               1   \n",
       "Account management related query                                       188   \n",
       "Account management shongkranto query                                    36   \n",
       "Add to Cart offer ti kibhabe pabo                                        1   \n",
       "After returning the item how much time is neede...                       1   \n",
       "...                                                                    ...   \n",
       "return-postmatch                                                        39   \n",
       "test_daraz_bd                                                            5   \n",
       "আমার অর্ডার কোথায়?                                                       1   \n",
       "আমি কি আইটেমটি রিটার্ন করতে পারবো                                        1   \n",
       "রিফান্ড প্রসেস শেষ হতে কতদিন লাগবে?                                      1   \n",
       "\n",
       "                                                    total_switch_agent  \\\n",
       "Knowledge Name                                                           \n",
       " when will i get my refund                                           0   \n",
       "Account management related query                                   100   \n",
       "Account management shongkranto query                                15   \n",
       "Add to Cart offer ti kibhabe pabo                                    0   \n",
       "After returning the item how much time is neede...                   0   \n",
       "...                                                                ...   \n",
       "return-postmatch                                                     2   \n",
       "test_daraz_bd                                                        0   \n",
       "আমার অর্ডার কোথায়?                                                   0   \n",
       "আমি কি আইটেমটি রিটার্ন করতে পারবো                                    0   \n",
       "রিফান্ড প্রসেস শেষ হতে কতদিন লাগবে?                                  0   \n",
       "\n",
       "                                                    unsatisfied_count  \n",
       "Knowledge Name                                                         \n",
       " when will i get my refund                                        0.0  \n",
       "Account management related query                                  0.0  \n",
       "Account management shongkranto query                              0.0  \n",
       "Add to Cart offer ti kibhabe pabo                                 0.0  \n",
       "After returning the item how much time is neede...                0.0  \n",
       "...                                                               ...  \n",
       "return-postmatch                                                  1.0  \n",
       "test_daraz_bd                                                     0.0  \n",
       "আমার অর্ডার কোথায়?                                                0.0  \n",
       "আমি কি আইটেমটি রিটার্ন করতে পারবো                                 0.0  \n",
       "রিফান্ড প্রসেস শেষ হতে কতদিন লাগবে?                               0.0  \n",
       "\n",
       "[648 rows x 5 columns]"
      ]
     },
     "execution_count": 58,
     "metadata": {},
     "output_type": "execute_result"
    }
   ],
   "source": [
    "display(CPR_df_LC_pivottable)\n",
    "display(CPR_df_EN_pivottable)"
   ]
  },
  {
   "cell_type": "code",
   "execution_count": 65,
   "metadata": {},
   "outputs": [],
   "source": [
    "CPR_df_LC_pivottable = CPR_df_LC_pivottable.sort_values('sid_cnt', ascending = False) # For LC\n",
    "CPR_df_EN_pivottable = CPR_df_EN_pivottable.sort_values('sid_cnt', ascending = False) # For EN"
   ]
  },
  {
   "cell_type": "code",
   "execution_count": 66,
   "metadata": {},
   "outputs": [
    {
     "data": {
      "text/html": [
       "<div>\n",
       "<style scoped>\n",
       "    .dataframe tbody tr th:only-of-type {\n",
       "        vertical-align: middle;\n",
       "    }\n",
       "\n",
       "    .dataframe tbody tr th {\n",
       "        vertical-align: top;\n",
       "    }\n",
       "\n",
       "    .dataframe thead th {\n",
       "        text-align: right;\n",
       "    }\n",
       "</style>\n",
       "<table border=\"1\" class=\"dataframe\">\n",
       "  <thead>\n",
       "    <tr style=\"text-align: right;\">\n",
       "      <th></th>\n",
       "      <th>Chats</th>\n",
       "      <th>sid_cnt</th>\n",
       "      <th>total_session_resolved</th>\n",
       "      <th>total_switch_agent</th>\n",
       "      <th>unsatisfied_count</th>\n",
       "    </tr>\n",
       "    <tr>\n",
       "      <th>Knowledge Name</th>\n",
       "      <th></th>\n",
       "      <th></th>\n",
       "      <th></th>\n",
       "      <th></th>\n",
       "      <th></th>\n",
       "    </tr>\n",
       "  </thead>\n",
       "  <tbody>\n",
       "    <tr>\n",
       "      <th>How can I track my order</th>\n",
       "      <td>15226</td>\n",
       "      <td>12845</td>\n",
       "      <td>10824</td>\n",
       "      <td>1422</td>\n",
       "      <td>0.000000</td>\n",
       "    </tr>\n",
       "    <tr>\n",
       "      <th>How long does it take to receive my product</th>\n",
       "      <td>15493</td>\n",
       "      <td>11766</td>\n",
       "      <td>9991</td>\n",
       "      <td>1086</td>\n",
       "      <td>230.586148</td>\n",
       "    </tr>\n",
       "    <tr>\n",
       "      <th>Greeting</th>\n",
       "      <td>15875</td>\n",
       "      <td>10290</td>\n",
       "      <td>7990</td>\n",
       "      <td>1833</td>\n",
       "      <td>0.000000</td>\n",
       "    </tr>\n",
       "    <tr>\n",
       "      <th>Need help</th>\n",
       "      <td>10984</td>\n",
       "      <td>7772</td>\n",
       "      <td>4671</td>\n",
       "      <td>2645</td>\n",
       "      <td>0.000000</td>\n",
       "    </tr>\n",
       "    <tr>\n",
       "      <th>How to cancel my order</th>\n",
       "      <td>9630</td>\n",
       "      <td>6791</td>\n",
       "      <td>5812</td>\n",
       "      <td>423</td>\n",
       "      <td>0.000000</td>\n",
       "    </tr>\n",
       "    <tr>\n",
       "      <th>...</th>\n",
       "      <td>...</td>\n",
       "      <td>...</td>\n",
       "      <td>...</td>\n",
       "      <td>...</td>\n",
       "      <td>...</td>\n",
       "    </tr>\n",
       "    <tr>\n",
       "      <th>I didn't get refund it's money</th>\n",
       "      <td>4</td>\n",
       "      <td>1</td>\n",
       "      <td>1</td>\n",
       "      <td>0</td>\n",
       "      <td>0.000000</td>\n",
       "    </tr>\n",
       "    <tr>\n",
       "      <th>I have asked for refund but still hasn't received it (bkash refund) it's been more then 3/4 days</th>\n",
       "      <td>2</td>\n",
       "      <td>1</td>\n",
       "      <td>1</td>\n",
       "      <td>0</td>\n",
       "      <td>0.000000</td>\n",
       "    </tr>\n",
       "    <tr>\n",
       "      <th>I have lost Daraz box, what can I do now</th>\n",
       "      <td>1</td>\n",
       "      <td>1</td>\n",
       "      <td>1</td>\n",
       "      <td>0</td>\n",
       "      <td>0.000000</td>\n",
       "    </tr>\n",
       "    <tr>\n",
       "      <th>I have placed an order but now need to change the color of the product</th>\n",
       "      <td>1</td>\n",
       "      <td>1</td>\n",
       "      <td>1</td>\n",
       "      <td>0</td>\n",
       "      <td>0.000000</td>\n",
       "    </tr>\n",
       "    <tr>\n",
       "      <th>রিফান্ড প্রসেস শেষ হতে কতদিন লাগবে?</th>\n",
       "      <td>1</td>\n",
       "      <td>1</td>\n",
       "      <td>1</td>\n",
       "      <td>0</td>\n",
       "      <td>0.000000</td>\n",
       "    </tr>\n",
       "  </tbody>\n",
       "</table>\n",
       "<p>648 rows × 5 columns</p>\n",
       "</div>"
      ],
      "text/plain": [
       "                                                    Chats  sid_cnt  \\\n",
       "Knowledge Name                                                       \n",
       "How can I track my order                            15226    12845   \n",
       "How long does it take to receive my product         15493    11766   \n",
       "Greeting                                            15875    10290   \n",
       "Need help                                           10984     7772   \n",
       "How to cancel my order                               9630     6791   \n",
       "...                                                   ...      ...   \n",
       "I didn't get refund it's money                          4        1   \n",
       "I have asked for refund but still hasn't receiv...      2        1   \n",
       "I have lost Daraz box, what can I do now                1        1   \n",
       "I have placed an order but now need to change t...      1        1   \n",
       "রিফান্ড প্রসেস শেষ হতে কতদিন লাগবে?                     1        1   \n",
       "\n",
       "                                                    total_session_resolved  \\\n",
       "Knowledge Name                                                               \n",
       "How can I track my order                                             10824   \n",
       "How long does it take to receive my product                           9991   \n",
       "Greeting                                                              7990   \n",
       "Need help                                                             4671   \n",
       "How to cancel my order                                                5812   \n",
       "...                                                                    ...   \n",
       "I didn't get refund it's money                                           1   \n",
       "I have asked for refund but still hasn't receiv...                       1   \n",
       "I have lost Daraz box, what can I do now                                 1   \n",
       "I have placed an order but now need to change t...                       1   \n",
       "রিফান্ড প্রসেস শেষ হতে কতদিন লাগবে?                                      1   \n",
       "\n",
       "                                                    total_switch_agent  \\\n",
       "Knowledge Name                                                           \n",
       "How can I track my order                                          1422   \n",
       "How long does it take to receive my product                       1086   \n",
       "Greeting                                                          1833   \n",
       "Need help                                                         2645   \n",
       "How to cancel my order                                             423   \n",
       "...                                                                ...   \n",
       "I didn't get refund it's money                                       0   \n",
       "I have asked for refund but still hasn't receiv...                   0   \n",
       "I have lost Daraz box, what can I do now                             0   \n",
       "I have placed an order but now need to change t...                   0   \n",
       "রিফান্ড প্রসেস শেষ হতে কতদিন লাগবে?                                  0   \n",
       "\n",
       "                                                    unsatisfied_count  \n",
       "Knowledge Name                                                         \n",
       "How can I track my order                                     0.000000  \n",
       "How long does it take to receive my product                230.586148  \n",
       "Greeting                                                     0.000000  \n",
       "Need help                                                    0.000000  \n",
       "How to cancel my order                                       0.000000  \n",
       "...                                                               ...  \n",
       "I didn't get refund it's money                               0.000000  \n",
       "I have asked for refund but still hasn't receiv...           0.000000  \n",
       "I have lost Daraz box, what can I do now                     0.000000  \n",
       "I have placed an order but now need to change t...           0.000000  \n",
       "রিফান্ড প্রসেস শেষ হতে কতদিন লাগবে?                          0.000000  \n",
       "\n",
       "[648 rows x 5 columns]"
      ]
     },
     "execution_count": 66,
     "metadata": {},
     "output_type": "execute_result"
    }
   ],
   "source": [
    "display(CPR_df_LC_pivottable)\n",
    "display(CPR_df_EN_pivottable)"
   ]
  },
  {
   "cell_type": "markdown",
   "metadata": {},
   "source": [
    "#### RR Calculation"
   ]
  },
  {
   "cell_type": "markdown",
   "metadata": {},
   "source": [
    "##### LC"
   ]
  },
  {
   "cell_type": "code",
   "execution_count": 69,
   "metadata": {},
   "outputs": [
    {
     "name": "stderr",
     "output_type": "stream",
     "text": [
      "C:\\Users\\Daraz\\AppData\\Local\\Temp/ipykernel_23640/1036839326.py:3: SettingWithCopyWarning: \n",
      "A value is trying to be set on a copy of a slice from a DataFrame\n",
      "\n",
      "See the caveats in the documentation: https://pandas.pydata.org/pandas-docs/stable/user_guide/indexing.html#returning-a-view-versus-a-copy\n",
      "  table['RR'][i] = (table['total_session_resolved'][i]/table['sid_cnt'][i])*100\n"
     ]
    }
   ],
   "source": [
    "CPR_df_LC_pivottable['RR'] = 0\n",
    "for i in range(len(CPR_df_LC_pivottable)):\n",
    "    CPR_df_LC_pivottable['RR'][i] = (CPR_df_LC_pivottable['total_session_resolved'][i]/CPR_df_LC_pivottable['sid_cnt'][i])*100"
   ]
  },
  {
   "cell_type": "markdown",
   "metadata": {},
   "source": [
    "##### EN"
   ]
  },
  {
   "cell_type": "code",
   "execution_count": null,
   "metadata": {},
   "outputs": [],
   "source": [
    "CPR_df_EN_pivottable['RR'] = 0\n",
    "for i in range(len(CPR_df_EN_pivottable)):\n",
    "    CPR_df_EN_pivottable['RR'][i] = (CPR_df_EN_pivottable['total_session_resolved'][i]/CPR_df_EN_pivottable['sid_cnt'][i])*100"
   ]
  },
  {
   "cell_type": "markdown",
   "metadata": {},
   "source": [
    "#### STA Calculation"
   ]
  },
  {
   "cell_type": "markdown",
   "metadata": {},
   "source": [
    "##### LC"
   ]
  },
  {
   "cell_type": "code",
   "execution_count": 71,
   "metadata": {},
   "outputs": [
    {
     "name": "stderr",
     "output_type": "stream",
     "text": [
      "C:\\Users\\Daraz\\AppData\\Local\\Temp/ipykernel_23640/575933968.py:3: SettingWithCopyWarning: \n",
      "A value is trying to be set on a copy of a slice from a DataFrame\n",
      "\n",
      "See the caveats in the documentation: https://pandas.pydata.org/pandas-docs/stable/user_guide/indexing.html#returning-a-view-versus-a-copy\n",
      "  table['STA'][i] = (table['total_switch_agent'][i]/table['sid_cnt'][i])*100\n"
     ]
    }
   ],
   "source": [
    "CPR_df_LC_pivottable['STA'] = 0\n",
    "for i in range(len(CPR_df_LC_pivottable)):\n",
    "    CPR_df_LC_pivottable['STA'][i] = (CPR_df_LC_pivottable['total_switch_agent'][i]/CPR_df_LC_pivottable['sid_cnt'][i])*100"
   ]
  },
  {
   "cell_type": "markdown",
   "metadata": {},
   "source": [
    "##### EN"
   ]
  },
  {
   "cell_type": "code",
   "execution_count": null,
   "metadata": {},
   "outputs": [],
   "source": [
    "CPR_df_EN_pivottable['STA'] = 0\n",
    "for i in range(len(CPR_df_EN_pivottable)):\n",
    "    CPR_df_EN_pivottable['STA'][i] = (CPR_df_EN_pivottable['total_switch_agent'][i]/CPR_df_EN_pivottable['sid_cnt'][i])*100"
   ]
  },
  {
   "cell_type": "markdown",
   "metadata": {},
   "source": [
    "#### UR calculation"
   ]
  },
  {
   "cell_type": "markdown",
   "metadata": {},
   "source": [
    "##### LC"
   ]
  },
  {
   "cell_type": "code",
   "execution_count": 72,
   "metadata": {},
   "outputs": [
    {
     "name": "stderr",
     "output_type": "stream",
     "text": [
      "C:\\Users\\Daraz\\AppData\\Local\\Temp/ipykernel_23640/2979933049.py:3: SettingWithCopyWarning: \n",
      "A value is trying to be set on a copy of a slice from a DataFrame\n",
      "\n",
      "See the caveats in the documentation: https://pandas.pydata.org/pandas-docs/stable/user_guide/indexing.html#returning-a-view-versus-a-copy\n",
      "  table['UR'][i] = (table['unsatisfied_count'][i]/table['Chats'][i])*100\n"
     ]
    }
   ],
   "source": [
    "CPR_df_LC_pivottable['UR'] = 0\n",
    "for i in range(len(CPR_df_LC_pivottable)):\n",
    "    CPR_df_LC_pivottable['UR'][i] = (CPR_df_LC_pivottable['unsatisfied_count'][i]/CPR_df_LC_pivottable['Chats'][i])*100"
   ]
  },
  {
   "cell_type": "markdown",
   "metadata": {},
   "source": [
    "##### EN"
   ]
  },
  {
   "cell_type": "code",
   "execution_count": null,
   "metadata": {},
   "outputs": [],
   "source": [
    "CPR_df_EN_pivottable['UR'] = 0\n",
    "for i in range(len(CPR_df_EN_pivottable)):\n",
    "    CPR_df_EN_pivottable['UR'][i] = (CPR_df_EN_pivottable['unsatisfied_count'][i]/CPR_df_EN_pivottable['Chats'][i])*100"
   ]
  },
  {
   "cell_type": "code",
   "execution_count": 74,
   "metadata": {},
   "outputs": [
    {
     "data": {
      "text/html": [
       "<div>\n",
       "<style scoped>\n",
       "    .dataframe tbody tr th:only-of-type {\n",
       "        vertical-align: middle;\n",
       "    }\n",
       "\n",
       "    .dataframe tbody tr th {\n",
       "        vertical-align: top;\n",
       "    }\n",
       "\n",
       "    .dataframe thead th {\n",
       "        text-align: right;\n",
       "    }\n",
       "</style>\n",
       "<table border=\"1\" class=\"dataframe\">\n",
       "  <thead>\n",
       "    <tr style=\"text-align: right;\">\n",
       "      <th></th>\n",
       "      <th>Chats</th>\n",
       "      <th>sid_cnt</th>\n",
       "      <th>total_session_resolved</th>\n",
       "      <th>total_switch_agent</th>\n",
       "      <th>unsatisfied_count</th>\n",
       "      <th>RR</th>\n",
       "      <th>STA</th>\n",
       "      <th>UR</th>\n",
       "    </tr>\n",
       "    <tr>\n",
       "      <th>Knowledge Name</th>\n",
       "      <th></th>\n",
       "      <th></th>\n",
       "      <th></th>\n",
       "      <th></th>\n",
       "      <th></th>\n",
       "      <th></th>\n",
       "      <th></th>\n",
       "      <th></th>\n",
       "    </tr>\n",
       "  </thead>\n",
       "  <tbody>\n",
       "    <tr>\n",
       "      <th>How can I track my order</th>\n",
       "      <td>15226</td>\n",
       "      <td>12845</td>\n",
       "      <td>10824</td>\n",
       "      <td>1422</td>\n",
       "      <td>0.000000</td>\n",
       "      <td>84</td>\n",
       "      <td>11</td>\n",
       "      <td>0</td>\n",
       "    </tr>\n",
       "    <tr>\n",
       "      <th>How long does it take to receive my product</th>\n",
       "      <td>15493</td>\n",
       "      <td>11766</td>\n",
       "      <td>9991</td>\n",
       "      <td>1086</td>\n",
       "      <td>230.586148</td>\n",
       "      <td>84</td>\n",
       "      <td>9</td>\n",
       "      <td>1</td>\n",
       "    </tr>\n",
       "    <tr>\n",
       "      <th>Greeting</th>\n",
       "      <td>15875</td>\n",
       "      <td>10290</td>\n",
       "      <td>7990</td>\n",
       "      <td>1833</td>\n",
       "      <td>0.000000</td>\n",
       "      <td>77</td>\n",
       "      <td>17</td>\n",
       "      <td>0</td>\n",
       "    </tr>\n",
       "    <tr>\n",
       "      <th>Need help</th>\n",
       "      <td>10984</td>\n",
       "      <td>7772</td>\n",
       "      <td>4671</td>\n",
       "      <td>2645</td>\n",
       "      <td>0.000000</td>\n",
       "      <td>60</td>\n",
       "      <td>34</td>\n",
       "      <td>0</td>\n",
       "    </tr>\n",
       "    <tr>\n",
       "      <th>How to cancel my order</th>\n",
       "      <td>9630</td>\n",
       "      <td>6791</td>\n",
       "      <td>5812</td>\n",
       "      <td>423</td>\n",
       "      <td>0.000000</td>\n",
       "      <td>85</td>\n",
       "      <td>6</td>\n",
       "      <td>0</td>\n",
       "    </tr>\n",
       "  </tbody>\n",
       "</table>\n",
       "</div>"
      ],
      "text/plain": [
       "                                             Chats  sid_cnt  \\\n",
       "Knowledge Name                                                \n",
       "How can I track my order                     15226    12845   \n",
       "How long does it take to receive my product  15493    11766   \n",
       "Greeting                                     15875    10290   \n",
       "Need help                                    10984     7772   \n",
       "How to cancel my order                        9630     6791   \n",
       "\n",
       "                                             total_session_resolved  \\\n",
       "Knowledge Name                                                        \n",
       "How can I track my order                                      10824   \n",
       "How long does it take to receive my product                    9991   \n",
       "Greeting                                                       7990   \n",
       "Need help                                                      4671   \n",
       "How to cancel my order                                         5812   \n",
       "\n",
       "                                             total_switch_agent  \\\n",
       "Knowledge Name                                                    \n",
       "How can I track my order                                   1422   \n",
       "How long does it take to receive my product                1086   \n",
       "Greeting                                                   1833   \n",
       "Need help                                                  2645   \n",
       "How to cancel my order                                      423   \n",
       "\n",
       "                                             unsatisfied_count  RR  STA  UR  \n",
       "Knowledge Name                                                               \n",
       "How can I track my order                              0.000000  84   11   0  \n",
       "How long does it take to receive my product         230.586148  84    9   1  \n",
       "Greeting                                              0.000000  77   17   0  \n",
       "Need help                                             0.000000  60   34   0  \n",
       "How to cancel my order                                0.000000  85    6   0  "
      ]
     },
     "execution_count": 74,
     "metadata": {},
     "output_type": "execute_result"
    }
   ],
   "source": [
    "display(CPR_df_LC_pivottable.head())\n",
    "display(CPR_df_EN_pivottable.head())"
   ]
  },
  {
   "cell_type": "markdown",
   "metadata": {},
   "source": [
    "#### RR, STA, UR numbers"
   ]
  },
  {
   "cell_type": "markdown",
   "metadata": {},
   "source": [
    "##### LC"
   ]
  },
  {
   "cell_type": "code",
   "execution_count": 76,
   "metadata": {},
   "outputs": [
    {
     "data": {
      "text/html": [
       "<div>\n",
       "<style scoped>\n",
       "    .dataframe tbody tr th:only-of-type {\n",
       "        vertical-align: middle;\n",
       "    }\n",
       "\n",
       "    .dataframe tbody tr th {\n",
       "        vertical-align: top;\n",
       "    }\n",
       "\n",
       "    .dataframe thead th {\n",
       "        text-align: right;\n",
       "    }\n",
       "</style>\n",
       "<table border=\"1\" class=\"dataframe\">\n",
       "  <thead>\n",
       "    <tr style=\"text-align: right;\">\n",
       "      <th></th>\n",
       "      <th>RR</th>\n",
       "      <th>STA</th>\n",
       "      <th>UR</th>\n",
       "    </tr>\n",
       "    <tr>\n",
       "      <th>Knowledge Name</th>\n",
       "      <th></th>\n",
       "      <th></th>\n",
       "      <th></th>\n",
       "    </tr>\n",
       "  </thead>\n",
       "  <tbody>\n",
       "    <tr>\n",
       "      <th>How can I track my order</th>\n",
       "      <td>84</td>\n",
       "      <td>11</td>\n",
       "      <td>0</td>\n",
       "    </tr>\n",
       "    <tr>\n",
       "      <th>How long does it take to receive my product</th>\n",
       "      <td>84</td>\n",
       "      <td>9</td>\n",
       "      <td>1</td>\n",
       "    </tr>\n",
       "    <tr>\n",
       "      <th>Greeting</th>\n",
       "      <td>77</td>\n",
       "      <td>17</td>\n",
       "      <td>0</td>\n",
       "    </tr>\n",
       "    <tr>\n",
       "      <th>Need help</th>\n",
       "      <td>60</td>\n",
       "      <td>34</td>\n",
       "      <td>0</td>\n",
       "    </tr>\n",
       "    <tr>\n",
       "      <th>How to cancel my order</th>\n",
       "      <td>85</td>\n",
       "      <td>6</td>\n",
       "      <td>0</td>\n",
       "    </tr>\n",
       "    <tr>\n",
       "      <th>Can I return an Item</th>\n",
       "      <td>81</td>\n",
       "      <td>10</td>\n",
       "      <td>0</td>\n",
       "    </tr>\n",
       "    <tr>\n",
       "      <th>My order is delayed. What should I do</th>\n",
       "      <td>79</td>\n",
       "      <td>15</td>\n",
       "      <td>3</td>\n",
       "    </tr>\n",
       "    <tr>\n",
       "      <th>Amar ponno delivery hote kotodin lagbe</th>\n",
       "      <td>91</td>\n",
       "      <td>4</td>\n",
       "      <td>1</td>\n",
       "    </tr>\n",
       "    <tr>\n",
       "      <th>Talk to Agent</th>\n",
       "      <td>56</td>\n",
       "      <td>37</td>\n",
       "      <td>0</td>\n",
       "    </tr>\n",
       "    <tr>\n",
       "      <th>How long is the refund process</th>\n",
       "      <td>76</td>\n",
       "      <td>16</td>\n",
       "      <td>0</td>\n",
       "    </tr>\n",
       "    <tr>\n",
       "      <th>Need more help</th>\n",
       "      <td>36</td>\n",
       "      <td>57</td>\n",
       "      <td>0</td>\n",
       "    </tr>\n",
       "    <tr>\n",
       "      <th>Order-postmatch</th>\n",
       "      <td>79</td>\n",
       "      <td>10</td>\n",
       "      <td>3</td>\n",
       "    </tr>\n",
       "    <tr>\n",
       "      <th>Why do I see failed delivery attempt</th>\n",
       "      <td>87</td>\n",
       "      <td>7</td>\n",
       "      <td>3</td>\n",
       "    </tr>\n",
       "    <tr>\n",
       "      <th>All about BNY campaign</th>\n",
       "      <td>64</td>\n",
       "      <td>29</td>\n",
       "      <td>0</td>\n",
       "    </tr>\n",
       "    <tr>\n",
       "      <th>Order related query</th>\n",
       "      <td>63</td>\n",
       "      <td>28</td>\n",
       "      <td>0</td>\n",
       "    </tr>\n",
       "  </tbody>\n",
       "</table>\n",
       "</div>"
      ],
      "text/plain": [
       "                                             RR  STA  UR\n",
       "Knowledge Name                                          \n",
       "How can I track my order                     84   11   0\n",
       "How long does it take to receive my product  84    9   1\n",
       "Greeting                                     77   17   0\n",
       "Need help                                    60   34   0\n",
       "How to cancel my order                       85    6   0\n",
       "Can I return an Item                         81   10   0\n",
       "My order is delayed. What should I do        79   15   3\n",
       "Amar ponno delivery hote kotodin lagbe       91    4   1\n",
       "Talk to Agent                                56   37   0\n",
       "How long is the refund process               76   16   0\n",
       "Need more help                               36   57   0\n",
       "Order-postmatch                              79   10   3\n",
       "Why do I see failed delivery attempt         87    7   3\n",
       "All about BNY campaign                       64   29   0\n",
       "Order related query                          63   28   0"
      ]
     },
     "execution_count": 76,
     "metadata": {},
     "output_type": "execute_result"
    }
   ],
   "source": [
    "CPR_df_LC_pivottable[['RR','STA','UR']].head(15)"
   ]
  },
  {
   "cell_type": "markdown",
   "metadata": {},
   "source": [
    "##### EN"
   ]
  },
  {
   "cell_type": "code",
   "execution_count": 3,
   "metadata": {},
   "outputs": [
    {
     "ename": "NameError",
     "evalue": "name 'CPR_df_EN_pivottable' is not defined",
     "output_type": "error",
     "traceback": [
      "\u001b[1;31m---------------------------------------------------------------------------\u001b[0m",
      "\u001b[1;31mNameError\u001b[0m                                 Traceback (most recent call last)",
      "\u001b[1;32m~\\AppData\\Local\\Temp/ipykernel_18216/474893049.py\u001b[0m in \u001b[0;36m<module>\u001b[1;34m\u001b[0m\n\u001b[1;32m----> 1\u001b[1;33m \u001b[0mCPR_df_EN_pivottable\u001b[0m\u001b[1;33m[\u001b[0m\u001b[1;33m[\u001b[0m\u001b[1;34m'RR'\u001b[0m\u001b[1;33m,\u001b[0m\u001b[1;34m'STA'\u001b[0m\u001b[1;33m,\u001b[0m\u001b[1;34m'UR'\u001b[0m\u001b[1;33m]\u001b[0m\u001b[1;33m]\u001b[0m\u001b[1;33m.\u001b[0m\u001b[0mhead\u001b[0m\u001b[1;33m(\u001b[0m\u001b[1;36m15\u001b[0m\u001b[1;33m)\u001b[0m\u001b[1;33m\u001b[0m\u001b[1;33m\u001b[0m\u001b[0m\n\u001b[0m",
      "\u001b[1;31mNameError\u001b[0m: name 'CPR_df_EN_pivottable' is not defined"
     ]
    }
   ],
   "source": [
    "CPR_df_EN_pivottable[['RR','STA','UR']].head(15)"
   ]
  },
  {
   "cell_type": "code",
   "execution_count": null,
   "metadata": {},
   "outputs": [],
   "source": []
  },
  {
   "cell_type": "code",
   "execution_count": 4,
   "metadata": {},
   "outputs": [],
   "source": [
    "data_vis = pd.read_csv(r'C:\\Users\\Daraz\\Desktop\\My_stuff\\Report_writing\\Data Folder\\2022_RRSTA_W1-Current.csv')"
   ]
  },
  {
   "cell_type": "code",
   "execution_count": 5,
   "metadata": {},
   "outputs": [],
   "source": [
    "sns.set_theme()"
   ]
  },
  {
   "cell_type": "code",
   "execution_count": null,
   "metadata": {},
   "outputs": [],
   "source": [
    "plt.stackplot()"
   ]
  },
  {
   "cell_type": "code",
   "execution_count": null,
   "metadata": {},
   "outputs": [],
   "source": []
  },
  {
   "cell_type": "code",
   "execution_count": null,
   "metadata": {},
   "outputs": [],
   "source": []
  },
  {
   "cell_type": "code",
   "execution_count": null,
   "metadata": {},
   "outputs": [],
   "source": []
  }
 ],
 "metadata": {
  "interpreter": {
   "hash": "0606053452435824a427f0ea93d6ae20786397642025bcc66bfe96b66155d44b"
  },
  "kernelspec": {
   "display_name": "Python 3 (ipykernel)",
   "language": "python",
   "name": "python3"
  },
  "language_info": {
   "codemirror_mode": {
    "name": "ipython",
    "version": 3
   },
   "file_extension": ".py",
   "mimetype": "text/x-python",
   "name": "python",
   "nbconvert_exporter": "python",
   "pygments_lexer": "ipython3",
   "version": "3.9.7"
  }
 },
 "nbformat": 4,
 "nbformat_minor": 2
}
