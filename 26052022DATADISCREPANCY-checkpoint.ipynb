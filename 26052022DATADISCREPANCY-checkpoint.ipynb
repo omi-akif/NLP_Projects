{
 "cells": [
  {
   "cell_type": "markdown",
   "metadata": {},
   "source": [
    "# Discrepancy in the Data"
   ]
  },
  {
   "cell_type": "markdown",
   "metadata": {},
   "source": [
    "### Data Upload and Primary Analysis"
   ]
  },
  {
   "cell_type": "markdown",
   "metadata": {},
   "source": [
    "##### Import Libraries"
   ]
  },
  {
   "cell_type": "code",
   "execution_count": 1,
   "metadata": {},
   "outputs": [],
   "source": [
    "import pandas as pd\n",
    "import datetime as dt\n",
    "import numpy as np\n",
    "from IPython.display import display"
   ]
  },
  {
   "cell_type": "code",
   "execution_count": 2,
   "metadata": {},
   "outputs": [],
   "source": [
    "class Color:\n",
    "   PURPLE = '\\033[95m'\n",
    "   CYAN = '\\033[96m'\n",
    "   DARKCYAN = '\\033[36m'\n",
    "   BLUE = '\\033[94m'\n",
    "   GREEN = '\\033[92m'\n",
    "   YELLOW = '\\033[93m'\n",
    "   RED = '\\033[91m'\n",
    "   BOLD = '\\033[1m'\n",
    "   UNDERLINE = '\\033[4m'\n",
    "   END = '\\033[0m'\n",
    "\n",
    "#Not necesssary currently\n",
    "\n",
    "# def returns_missing_index(comparared_list, a_list):\n",
    "\n",
    "#     for index, element in enumerate(comparared_list):\n",
    "        \n",
    "#         if element not in a_list:\n",
    "            \n",
    "#             a_list.insert(index, np.NaN)\n",
    "\n",
    "#     return a_list\n",
    "\n",
    "\n",
    "def insert_row(row_number, df, row_value):\n",
    "\t# Starting value of upper half\n",
    "\tstart_upper = 0\n",
    "\n",
    "\t# End value of upper half\n",
    "\tend_upper = row_number\n",
    "\n",
    "\t# Start value of lower half\n",
    "\tstart_lower = row_number\n",
    "\n",
    "\t# End value of lower half\n",
    "\tend_lower = df.shape[0]\n",
    "\n",
    "\t# Create a list of upper_half index\n",
    "\tupper_half = [*range(start_upper, end_upper, 1)]\n",
    "\n",
    "\t# Create a list of lower_half index\n",
    "\tlower_half = [*range(start_lower, end_lower, 1)]\n",
    "\n",
    "\t# Increment the value of lower half by 1\n",
    "\tlower_half = [x.__add__(1) for x in lower_half]\n",
    "\n",
    "\t# Combine the two lists\n",
    "\tindex_ = upper_half + lower_half\n",
    "\n",
    "\t# Update the index of the dataframe\n",
    "\tdf.index = index_\n",
    "\n",
    "\t# Insert a row at the end\n",
    "\tdf.loc[row_number] = row_value\n",
    "\n",
    "\t# Sort the index labels\n",
    "\tdf = df.sort_index()\n",
    "\n",
    "\t# return the dataframe\n",
    "\treturn df\n",
    "\n",
    "# Let's create a row which we want to insert"
   ]
  },
  {
   "cell_type": "markdown",
   "metadata": {},
   "source": [
    "##### Load Dataset"
   ]
  },
  {
   "cell_type": "code",
   "execution_count": 3,
   "metadata": {},
   "outputs": [],
   "source": [
    "UNIQUE_DF = pd.read_csv('2022_05280528_CD.csv')"
   ]
  },
  {
   "cell_type": "markdown",
   "metadata": {},
   "source": [
    "### Data Analysis "
   ]
  },
  {
   "cell_type": "markdown",
   "metadata": {},
   "source": [
    "##### Peeking into the data"
   ]
  },
  {
   "cell_type": "code",
   "execution_count": 4,
   "metadata": {},
   "outputs": [
    {
     "data": {
      "text/html": [
       "<div>\n",
       "<style scoped>\n",
       "    .dataframe tbody tr th:only-of-type {\n",
       "        vertical-align: middle;\n",
       "    }\n",
       "\n",
       "    .dataframe tbody tr th {\n",
       "        vertical-align: top;\n",
       "    }\n",
       "\n",
       "    .dataframe thead th {\n",
       "        text-align: right;\n",
       "    }\n",
       "</style>\n",
       "<table border=\"1\" class=\"dataframe\">\n",
       "  <thead>\n",
       "    <tr style=\"text-align: right;\">\n",
       "      <th></th>\n",
       "      <th>Create Date</th>\n",
       "      <th>tenant_name</th>\n",
       "      <th>robot_code</th>\n",
       "      <th>robot_name</th>\n",
       "      <th>from_id</th>\n",
       "      <th>from_name</th>\n",
       "      <th>Session_id</th>\n",
       "      <th>Intention</th>\n",
       "      <th>user_id</th>\n",
       "      <th>Seller id (X-space)</th>\n",
       "      <th>...</th>\n",
       "      <th>Feedback Card Response</th>\n",
       "      <th>is_chat_recommend</th>\n",
       "      <th>is_chat_no answer</th>\n",
       "      <th>is_chat_pre/post match</th>\n",
       "      <th>live agent_session_id</th>\n",
       "      <th>Last Query Before Live Agent Session</th>\n",
       "      <th>Live Agent User Query</th>\n",
       "      <th>Live Agent Response</th>\n",
       "      <th>Feedback Type</th>\n",
       "      <th>Unsatisfied Reason</th>\n",
       "    </tr>\n",
       "  </thead>\n",
       "  <tbody>\n",
       "    <tr>\n",
       "      <th>0</th>\n",
       "      <td>2022-05-28 00:00:00</td>\n",
       "      <td>Alime-DRZ-CC-BD</td>\n",
       "      <td>l2Cgc9psxK</td>\n",
       "      <td>BD-Daz-EN</td>\n",
       "      <td>V3EasrtOgs</td>\n",
       "      <td>BD-Daz-EN-HC-App</td>\n",
       "      <td>0123f9623b6444369df512399738c36a</td>\n",
       "      <td>route_daraz_liveagent</td>\n",
       "      <td>2101100071711721</td>\n",
       "      <td>7.000436e+11</td>\n",
       "      <td>...</td>\n",
       "      <td>NaN</td>\n",
       "      <td>N</td>\n",
       "      <td>N</td>\n",
       "      <td>N</td>\n",
       "      <td>6e463e7d5ce440ceb086b768e4279f78</td>\n",
       "      <td>Connecting to Agent</td>\n",
       "      <td>Ok|||Cashback কি আছে এখনো|||Bkash Offer কি শেষ...</td>\n",
       "      <td>আর কোনভাবে সহযোগিতা করতে পারি কি, স্যার?  |||H...</td>\n",
       "      <td>NaN</td>\n",
       "      <td>NaN</td>\n",
       "    </tr>\n",
       "    <tr>\n",
       "      <th>1</th>\n",
       "      <td>2022-05-28 00:00:00</td>\n",
       "      <td>Alime-DRZ-CC-BD</td>\n",
       "      <td>l2Cgc9psxK</td>\n",
       "      <td>BD-Daz-EN</td>\n",
       "      <td>V3EasrtOgs</td>\n",
       "      <td>BD-Daz-EN-HC-App</td>\n",
       "      <td>01f4e67c763f4cd29804bcc5166b3942</td>\n",
       "      <td>route_daraz_others</td>\n",
       "      <td>2101100017841168</td>\n",
       "      <td>1.591752e+06</td>\n",
       "      <td>...</td>\n",
       "      <td>NaN</td>\n",
       "      <td>N</td>\n",
       "      <td>N</td>\n",
       "      <td>N</td>\n",
       "      <td>NaN</td>\n",
       "      <td>NaN</td>\n",
       "      <td>NaN</td>\n",
       "      <td>NaN</td>\n",
       "      <td>NaN</td>\n",
       "      <td>NaN</td>\n",
       "    </tr>\n",
       "  </tbody>\n",
       "</table>\n",
       "<p>2 rows × 42 columns</p>\n",
       "</div>"
      ],
      "text/plain": [
       "           Create Date      tenant_name  robot_code robot_name     from_id  \\\n",
       "0  2022-05-28 00:00:00  Alime-DRZ-CC-BD  l2Cgc9psxK  BD-Daz-EN  V3EasrtOgs   \n",
       "1  2022-05-28 00:00:00  Alime-DRZ-CC-BD  l2Cgc9psxK  BD-Daz-EN  V3EasrtOgs   \n",
       "\n",
       "          from_name                        Session_id              Intention  \\\n",
       "0  BD-Daz-EN-HC-App  0123f9623b6444369df512399738c36a  route_daraz_liveagent   \n",
       "1  BD-Daz-EN-HC-App  01f4e67c763f4cd29804bcc5166b3942     route_daraz_others   \n",
       "\n",
       "            user_id  Seller id (X-space)  ... Feedback Card Response  \\\n",
       "0  2101100071711721         7.000436e+11  ...                    NaN   \n",
       "1  2101100017841168         1.591752e+06  ...                    NaN   \n",
       "\n",
       "  is_chat_recommend is_chat_no answer is_chat_pre/post match  \\\n",
       "0                 N                 N                      N   \n",
       "1                 N                 N                      N   \n",
       "\n",
       "              live agent_session_id Last Query Before Live Agent Session  \\\n",
       "0  6e463e7d5ce440ceb086b768e4279f78                  Connecting to Agent   \n",
       "1                               NaN                                  NaN   \n",
       "\n",
       "                               Live Agent User Query  \\\n",
       "0  Ok|||Cashback কি আছে এখনো|||Bkash Offer কি শেষ...   \n",
       "1                                                NaN   \n",
       "\n",
       "                                 Live Agent Response  Feedback Type  \\\n",
       "0  আর কোনভাবে সহযোগিতা করতে পারি কি, স্যার?  |||H...            NaN   \n",
       "1                                                NaN            NaN   \n",
       "\n",
       "  Unsatisfied Reason  \n",
       "0                NaN  \n",
       "1                NaN  \n",
       "\n",
       "[2 rows x 42 columns]"
      ]
     },
     "execution_count": 4,
     "metadata": {},
     "output_type": "execute_result"
    }
   ],
   "source": [
    "UNIQUE_DF.head(2)"
   ]
  },
  {
   "cell_type": "code",
   "execution_count": 5,
   "metadata": {},
   "outputs": [
    {
     "data": {
      "text/html": [
       "<div>\n",
       "<style scoped>\n",
       "    .dataframe tbody tr th:only-of-type {\n",
       "        vertical-align: middle;\n",
       "    }\n",
       "\n",
       "    .dataframe tbody tr th {\n",
       "        vertical-align: top;\n",
       "    }\n",
       "\n",
       "    .dataframe thead th {\n",
       "        text-align: right;\n",
       "    }\n",
       "</style>\n",
       "<table border=\"1\" class=\"dataframe\">\n",
       "  <thead>\n",
       "    <tr style=\"text-align: right;\">\n",
       "      <th></th>\n",
       "      <th>Create Date</th>\n",
       "      <th>tenant_name</th>\n",
       "      <th>robot_code</th>\n",
       "      <th>robot_name</th>\n",
       "      <th>from_id</th>\n",
       "      <th>from_name</th>\n",
       "      <th>Session_id</th>\n",
       "      <th>Intention</th>\n",
       "      <th>user_id</th>\n",
       "      <th>Seller id (X-space)</th>\n",
       "      <th>...</th>\n",
       "      <th>Feedback Card Response</th>\n",
       "      <th>is_chat_recommend</th>\n",
       "      <th>is_chat_no answer</th>\n",
       "      <th>is_chat_pre/post match</th>\n",
       "      <th>live agent_session_id</th>\n",
       "      <th>Last Query Before Live Agent Session</th>\n",
       "      <th>Live Agent User Query</th>\n",
       "      <th>Live Agent Response</th>\n",
       "      <th>Feedback Type</th>\n",
       "      <th>Unsatisfied Reason</th>\n",
       "    </tr>\n",
       "  </thead>\n",
       "  <tbody>\n",
       "    <tr>\n",
       "      <th>25140</th>\n",
       "      <td>2022-05-28 00:00:00</td>\n",
       "      <td>Alime-DRZ-CC-BD</td>\n",
       "      <td>l2Cgc9psxK</td>\n",
       "      <td>BD-Daz-EN</td>\n",
       "      <td>V3EasrtOgs</td>\n",
       "      <td>BD-Daz-EN-HC-App</td>\n",
       "      <td>ff68a7d5d4fd4bf5b23dc11f4b639561</td>\n",
       "      <td>route_daraz_others</td>\n",
       "      <td>2101100081631151</td>\n",
       "      <td>7.005142e+11</td>\n",
       "      <td>...</td>\n",
       "      <td>NaN</td>\n",
       "      <td>N</td>\n",
       "      <td>N</td>\n",
       "      <td>N</td>\n",
       "      <td>NaN</td>\n",
       "      <td>NaN</td>\n",
       "      <td>NaN</td>\n",
       "      <td>NaN</td>\n",
       "      <td>NaN</td>\n",
       "      <td>NaN</td>\n",
       "    </tr>\n",
       "    <tr>\n",
       "      <th>25141</th>\n",
       "      <td>2022-05-28 00:00:00</td>\n",
       "      <td>Alime-DRZ-CC-BD</td>\n",
       "      <td>l2Cgc9psxK</td>\n",
       "      <td>BD-Daz-EN</td>\n",
       "      <td>2QpojyCHcD</td>\n",
       "      <td>BD-Daz-EN-DD-App</td>\n",
       "      <td>ffbdc015fdbe4996879612171febf3cd</td>\n",
       "      <td>route_daraz_others</td>\n",
       "      <td>2101100052535303</td>\n",
       "      <td>9.220500e+04</td>\n",
       "      <td>...</td>\n",
       "      <td>NaN</td>\n",
       "      <td>N</td>\n",
       "      <td>N</td>\n",
       "      <td>N</td>\n",
       "      <td>NaN</td>\n",
       "      <td>NaN</td>\n",
       "      <td>NaN</td>\n",
       "      <td>NaN</td>\n",
       "      <td>NaN</td>\n",
       "      <td>NaN</td>\n",
       "    </tr>\n",
       "  </tbody>\n",
       "</table>\n",
       "<p>2 rows × 42 columns</p>\n",
       "</div>"
      ],
      "text/plain": [
       "               Create Date      tenant_name  robot_code robot_name  \\\n",
       "25140  2022-05-28 00:00:00  Alime-DRZ-CC-BD  l2Cgc9psxK  BD-Daz-EN   \n",
       "25141  2022-05-28 00:00:00  Alime-DRZ-CC-BD  l2Cgc9psxK  BD-Daz-EN   \n",
       "\n",
       "          from_id         from_name                        Session_id  \\\n",
       "25140  V3EasrtOgs  BD-Daz-EN-HC-App  ff68a7d5d4fd4bf5b23dc11f4b639561   \n",
       "25141  2QpojyCHcD  BD-Daz-EN-DD-App  ffbdc015fdbe4996879612171febf3cd   \n",
       "\n",
       "                Intention           user_id  Seller id (X-space)  ...  \\\n",
       "25140  route_daraz_others  2101100081631151         7.005142e+11  ...   \n",
       "25141  route_daraz_others  2101100052535303         9.220500e+04  ...   \n",
       "\n",
       "      Feedback Card Response is_chat_recommend is_chat_no answer  \\\n",
       "25140                    NaN                 N                 N   \n",
       "25141                    NaN                 N                 N   \n",
       "\n",
       "      is_chat_pre/post match live agent_session_id  \\\n",
       "25140                      N                   NaN   \n",
       "25141                      N                   NaN   \n",
       "\n",
       "      Last Query Before Live Agent Session Live Agent User Query  \\\n",
       "25140                                  NaN                   NaN   \n",
       "25141                                  NaN                   NaN   \n",
       "\n",
       "      Live Agent Response  Feedback Type Unsatisfied Reason  \n",
       "25140                 NaN            NaN                NaN  \n",
       "25141                 NaN            NaN                NaN  \n",
       "\n",
       "[2 rows x 42 columns]"
      ]
     },
     "execution_count": 5,
     "metadata": {},
     "output_type": "execute_result"
    }
   ],
   "source": [
    "UNIQUE_DF.tail(2)"
   ]
  },
  {
   "cell_type": "markdown",
   "metadata": {},
   "source": [
    "##### Number of data"
   ]
  },
  {
   "cell_type": "code",
   "execution_count": 6,
   "metadata": {},
   "outputs": [
    {
     "data": {
      "text/plain": [
       "25142"
      ]
     },
     "execution_count": 6,
     "metadata": {},
     "output_type": "execute_result"
    }
   ],
   "source": [
    "UNIQUE_DF.shape[0]"
   ]
  },
  {
   "cell_type": "markdown",
   "metadata": {},
   "source": [
    "##### Beautifying data"
   ]
  },
  {
   "cell_type": "code",
   "execution_count": 7,
   "metadata": {},
   "outputs": [],
   "source": [
    "UNIQUE_DF['Seller id (X-space)'] = UNIQUE_DF['Seller id (X-space)'].apply(lambda x: '%.0f' % x).astype(str)"
   ]
  },
  {
   "cell_type": "code",
   "execution_count": 8,
   "metadata": {},
   "outputs": [],
   "source": [
    "UNIQUE_NOTNA_DF = UNIQUE_DF[UNIQUE_DF['live agent_session_id'].notna()].reset_index()"
   ]
  },
  {
   "cell_type": "markdown",
   "metadata": {},
   "source": [
    "##### Number of data after beautifying"
   ]
  },
  {
   "cell_type": "code",
   "execution_count": 9,
   "metadata": {},
   "outputs": [
    {
     "data": {
      "text/plain": [
       "6827"
      ]
     },
     "execution_count": 9,
     "metadata": {},
     "output_type": "execute_result"
    }
   ],
   "source": [
    "UNIQUE_NOTNA_DF.shape[0]"
   ]
  },
  {
   "cell_type": "markdown",
   "metadata": {},
   "source": [
    "##### Finding unique session ids"
   ]
  },
  {
   "cell_type": "code",
   "execution_count": 11,
   "metadata": {},
   "outputs": [],
   "source": [
    "UNIQUE_NOTNA_DF_NO_DUPLICATES = UNIQUE_NOTNA_DF.drop_duplicates(subset='live agent_session_id', keep = 'first')"
   ]
  },
  {
   "cell_type": "code",
   "execution_count": 12,
   "metadata": {},
   "outputs": [
    {
     "data": {
      "text/plain": [
       "1573"
      ]
     },
     "execution_count": 12,
     "metadata": {},
     "output_type": "execute_result"
    }
   ],
   "source": [
    "UNIQUE_NOTNA_DF_NO_DUPLICATES.shape[0]"
   ]
  },
  {
   "cell_type": "code",
   "execution_count": 13,
   "metadata": {},
   "outputs": [],
   "source": [
    "UNIQUE_NOTNA_DF_NO_DUPLICATES.reset_index(inplace=True)"
   ]
  },
  {
   "cell_type": "code",
   "execution_count": 15,
   "metadata": {},
   "outputs": [],
   "source": [
    "UNIQUE_NOTNA_DF_NO_DUPLICATES = UNIQUE_NOTNA_DF_NO_DUPLICATES.drop(labels=['level_0', 'index'], axis = 1)"
   ]
  },
  {
   "cell_type": "code",
   "execution_count": 14,
   "metadata": {},
   "outputs": [],
   "source": [
    "#### A random seller ID for testing purpose\n",
    "#UNIQUE_RANDOM_VALUES = UNIQUE_NOTNA_DF_NO_DUPLICATES.sample(axis=0)\n",
    "#a_random_seller_id = UNIQUE_RANDOM_VALUES['Seller id (X-space)'].to_list()[0]"
   ]
  },
  {
   "cell_type": "code",
   "execution_count": 16,
   "metadata": {},
   "outputs": [],
   "source": [
    "UNIQUE__TABLE = UNIQUE_NOTNA_DF_NO_DUPLICATES.groupby(as_index = False, by =['Seller id (X-space)']).count()"
   ]
  },
  {
   "cell_type": "code",
   "execution_count": 16,
   "metadata": {},
   "outputs": [],
   "source": [
    "UNIQUE__TABLE[['Seller id (X-space)', 'live agent_session_id']].to_clipboard()"
   ]
  },
  {
   "cell_type": "code",
   "execution_count": 17,
   "metadata": {},
   "outputs": [
    {
     "data": {
      "text/html": [
       "<div>\n",
       "<style scoped>\n",
       "    .dataframe tbody tr th:only-of-type {\n",
       "        vertical-align: middle;\n",
       "    }\n",
       "\n",
       "    .dataframe tbody tr th {\n",
       "        vertical-align: top;\n",
       "    }\n",
       "\n",
       "    .dataframe thead th {\n",
       "        text-align: right;\n",
       "    }\n",
       "</style>\n",
       "<table border=\"1\" class=\"dataframe\">\n",
       "  <thead>\n",
       "    <tr style=\"text-align: right;\">\n",
       "      <th></th>\n",
       "      <th>Seller id (X-space)</th>\n",
       "      <th>Create Date</th>\n",
       "      <th>tenant_name</th>\n",
       "      <th>robot_code</th>\n",
       "      <th>robot_name</th>\n",
       "      <th>from_id</th>\n",
       "      <th>from_name</th>\n",
       "      <th>Session_id</th>\n",
       "      <th>Intention</th>\n",
       "      <th>user_id</th>\n",
       "      <th>...</th>\n",
       "      <th>Feedback Card Response</th>\n",
       "      <th>is_chat_recommend</th>\n",
       "      <th>is_chat_no answer</th>\n",
       "      <th>is_chat_pre/post match</th>\n",
       "      <th>live agent_session_id</th>\n",
       "      <th>Last Query Before Live Agent Session</th>\n",
       "      <th>Live Agent User Query</th>\n",
       "      <th>Live Agent Response</th>\n",
       "      <th>Feedback Type</th>\n",
       "      <th>Unsatisfied Reason</th>\n",
       "    </tr>\n",
       "  </thead>\n",
       "  <tbody>\n",
       "    <tr>\n",
       "      <th>1</th>\n",
       "      <td>1029202</td>\n",
       "      <td>4</td>\n",
       "      <td>4</td>\n",
       "      <td>4</td>\n",
       "      <td>4</td>\n",
       "      <td>4</td>\n",
       "      <td>4</td>\n",
       "      <td>4</td>\n",
       "      <td>4</td>\n",
       "      <td>4</td>\n",
       "      <td>...</td>\n",
       "      <td>0</td>\n",
       "      <td>4</td>\n",
       "      <td>4</td>\n",
       "      <td>4</td>\n",
       "      <td>4</td>\n",
       "      <td>4</td>\n",
       "      <td>3</td>\n",
       "      <td>4</td>\n",
       "      <td>0</td>\n",
       "      <td>0</td>\n",
       "    </tr>\n",
       "  </tbody>\n",
       "</table>\n",
       "<p>1 rows × 42 columns</p>\n",
       "</div>"
      ],
      "text/plain": [
       "  Seller id (X-space)  Create Date  tenant_name  robot_code  robot_name  \\\n",
       "1             1029202            4            4           4           4   \n",
       "\n",
       "   from_id  from_name  Session_id  Intention  user_id  ...  \\\n",
       "1        4          4           4          4        4  ...   \n",
       "\n",
       "   Feedback Card Response  is_chat_recommend  is_chat_no answer  \\\n",
       "1                       0                  4                  4   \n",
       "\n",
       "   is_chat_pre/post match  live agent_session_id  \\\n",
       "1                       4                      4   \n",
       "\n",
       "   Last Query Before Live Agent Session  Live Agent User Query  \\\n",
       "1                                     4                      3   \n",
       "\n",
       "   Live Agent Response  Feedback Type  Unsatisfied Reason  \n",
       "1                    4              0                   0  \n",
       "\n",
       "[1 rows x 42 columns]"
      ]
     },
     "execution_count": 17,
     "metadata": {},
     "output_type": "execute_result"
    }
   ],
   "source": [
    "UNIQUE__TABLE.iloc[[1]]"
   ]
  },
  {
   "cell_type": "code",
   "execution_count": 16,
   "metadata": {},
   "outputs": [
    {
     "data": {
      "text/html": [
       "<div>\n",
       "<style scoped>\n",
       "    .dataframe tbody tr th:only-of-type {\n",
       "        vertical-align: middle;\n",
       "    }\n",
       "\n",
       "    .dataframe tbody tr th {\n",
       "        vertical-align: top;\n",
       "    }\n",
       "\n",
       "    .dataframe thead th {\n",
       "        text-align: right;\n",
       "    }\n",
       "</style>\n",
       "<table border=\"1\" class=\"dataframe\">\n",
       "  <thead>\n",
       "    <tr style=\"text-align: right;\">\n",
       "      <th></th>\n",
       "      <th>Seller id (X-space)</th>\n",
       "      <th>live agent_session_id</th>\n",
       "    </tr>\n",
       "  </thead>\n",
       "  <tbody>\n",
       "    <tr>\n",
       "      <th>0</th>\n",
       "      <td>100457</td>\n",
       "      <td>1</td>\n",
       "    </tr>\n",
       "    <tr>\n",
       "      <th>1</th>\n",
       "      <td>1029202</td>\n",
       "      <td>4</td>\n",
       "    </tr>\n",
       "    <tr>\n",
       "      <th>2</th>\n",
       "      <td>1030858</td>\n",
       "      <td>1</td>\n",
       "    </tr>\n",
       "    <tr>\n",
       "      <th>3</th>\n",
       "      <td>1031601</td>\n",
       "      <td>1</td>\n",
       "    </tr>\n",
       "    <tr>\n",
       "      <th>4</th>\n",
       "      <td>1032129</td>\n",
       "      <td>1</td>\n",
       "    </tr>\n",
       "    <tr>\n",
       "      <th>...</th>\n",
       "      <td>...</td>\n",
       "      <td>...</td>\n",
       "    </tr>\n",
       "    <tr>\n",
       "      <th>1265</th>\n",
       "      <td>978212</td>\n",
       "      <td>1</td>\n",
       "    </tr>\n",
       "    <tr>\n",
       "      <th>1266</th>\n",
       "      <td>979108</td>\n",
       "      <td>1</td>\n",
       "    </tr>\n",
       "    <tr>\n",
       "      <th>1267</th>\n",
       "      <td>986097</td>\n",
       "      <td>1</td>\n",
       "    </tr>\n",
       "    <tr>\n",
       "      <th>1268</th>\n",
       "      <td>986831</td>\n",
       "      <td>1</td>\n",
       "    </tr>\n",
       "    <tr>\n",
       "      <th>1269</th>\n",
       "      <td>991746</td>\n",
       "      <td>2</td>\n",
       "    </tr>\n",
       "  </tbody>\n",
       "</table>\n",
       "<p>1270 rows × 2 columns</p>\n",
       "</div>"
      ],
      "text/plain": [
       "     Seller id (X-space)  live agent_session_id\n",
       "0                 100457                      1\n",
       "1                1029202                      4\n",
       "2                1030858                      1\n",
       "3                1031601                      1\n",
       "4                1032129                      1\n",
       "...                  ...                    ...\n",
       "1265              978212                      1\n",
       "1266              979108                      1\n",
       "1267              986097                      1\n",
       "1268              986831                      1\n",
       "1269              991746                      2\n",
       "\n",
       "[1270 rows x 2 columns]"
      ]
     },
     "execution_count": 16,
     "metadata": {},
     "output_type": "execute_result"
    }
   ],
   "source": [
    "UNIQUE__TABLE[['Seller id (X-space)', 'live agent_session_id']]"
   ]
  },
  {
   "cell_type": "markdown",
   "metadata": {},
   "source": [
    "#### Choosing a random data with three sessions"
   ]
  },
  {
   "cell_type": "markdown",
   "metadata": {},
   "source": [
    "#### Choosing a random data"
   ]
  },
  {
   "cell_type": "code",
   "execution_count": 90,
   "metadata": {},
   "outputs": [],
   "source": [
    "sample_input = []\n",
    "\n",
    "while True:\n",
    "\n",
    "    input_sample_number = input('Enter the count of live agent session ids and then enter the number of samples. Press \"q\" to exit:')\n",
    "\n",
    "    if 'q' in input_sample_number:\n",
    "\n",
    "        break\n",
    "\n",
    "    sample_input.append(int(input_sample_number))"
   ]
  },
  {
   "cell_type": "code",
   "execution_count": 29,
   "metadata": {},
   "outputs": [],
   "source": [
    "X = UNIQUE__TABLE[UNIQUE__TABLE['live agent_session_id'] == sample_input[0]]['Seller id (X-space)'].sample(n=sample_input[1], axis = 0).to_list()"
   ]
  },
  {
   "cell_type": "code",
   "execution_count": 30,
   "metadata": {},
   "outputs": [
    {
     "name": "stdout",
     "output_type": "stream",
     "text": [
      "\u001b[92mEnter the following numbers in Xspace\u001b[92m\n",
      "258139\n",
      "700036896929\n",
      "700013847484\n"
     ]
    }
   ],
   "source": [
    "print(Color.GREEN + \"Enter the following numbers in Xspace\" + Color.GREEN)\n",
    "\n",
    "for i in X:\n",
    "\n",
    "    print(i)"
   ]
  },
  {
   "cell_type": "code",
   "execution_count": 32,
   "metadata": {},
   "outputs": [],
   "source": [
    "\n",
    "agent_session_id_xspace = []\n",
    "\n",
    "for i in X:\n",
    "\n",
    "    while True:\n",
    "\n",
    "        an_input = input('Enter the X-space live agent session ID! for press q for exit')\n",
    "\n",
    "        if 'q' in an_input:\n",
    "\n",
    "            break\n",
    "\n",
    "        agent_session_id_xspace.append((i, an_input))"
   ]
  },
  {
   "cell_type": "code",
   "execution_count": 33,
   "metadata": {},
   "outputs": [
    {
     "data": {
      "text/plain": [
       "[('258139', 'e0682f60a85c40758c58e5ecb5901c8d'),\n",
       " ('258139', 'ac874e051c3d4c6485cdfa827056db4b'),\n",
       " ('258139', 'b77c92792fc14ed1b8a5683a2c5f32fb'),\n",
       " ('700036896929', '0736be77a45a4fc19f8087bb2ee0c22e'),\n",
       " ('700036896929', '96cd5f430a0d4a15bc89bff90a6c8b98'),\n",
       " ('700036896929', '362f2bd99167468f8119c92e0b78049a'),\n",
       " ('700013847484', '7b90aee393514336a890aca558bc9dba'),\n",
       " ('700013847484', 'f02e4cd637cb4e50bafbe326943350ea'),\n",
       " ('700013847484', '6ae812b9a4b34f27912052871624210a')]"
      ]
     },
     "execution_count": 33,
     "metadata": {},
     "output_type": "execute_result"
    }
   ],
   "source": [
    "agent_session_id_xspace"
   ]
  },
  {
   "cell_type": "code",
   "execution_count": 22,
   "metadata": {},
   "outputs": [
    {
     "data": {
      "text/plain": [
       "0       700043568806\n",
       "1            1590113\n",
       "2       700034547227\n",
       "3       700025157222\n",
       "4            1825541\n",
       "            ...     \n",
       "1568         1032129\n",
       "1569    700516125128\n",
       "1570    700515741606\n",
       "1571    700000936088\n",
       "1572    700014843562\n",
       "Name: Seller id (X-space), Length: 1573, dtype: object"
      ]
     },
     "execution_count": 22,
     "metadata": {},
     "output_type": "execute_result"
    }
   ],
   "source": [
    "UNIQUE_NOTNA_DF_NO_DUPLICATES['Seller id (X-space)']"
   ]
  },
  {
   "cell_type": "code",
   "execution_count": 122,
   "metadata": {},
   "outputs": [],
   "source": [
    "UNIQUE_sample = UNIQUE_NOTNA_DF_NO_DUPLICATES[UNIQUE_NOTNA_DF_NO_DUPLICATES['Seller id (X-space)'].isin(X)][['Seller id (X-space)','live agent_session_id']]"
   ]
  },
  {
   "cell_type": "code",
   "execution_count": 123,
   "metadata": {},
   "outputs": [],
   "source": [
    "# for i in range(len(UNIQUE_sample)):\n",
    "\n",
    "# UNIQUE_sample_sorted = UNIQUE_sample.sort_values(by='live agent_session_id', ascending=False).drop(labels='index', axis=1)\n",
    "\n",
    "UNIQUE_sample_sorted = UNIQUE_sample.sort_values(by='Seller id (X-space)', ascending=False)"
   ]
  },
  {
   "cell_type": "code",
   "execution_count": 124,
   "metadata": {},
   "outputs": [],
   "source": [
    "UNIQUE_sample_sorted.reset_index(inplace=True)"
   ]
  },
  {
   "cell_type": "code",
   "execution_count": 125,
   "metadata": {},
   "outputs": [],
   "source": [
    "UNIQUE_sample_sorted['index'] = 0"
   ]
  },
  {
   "cell_type": "code",
   "execution_count": 126,
   "metadata": {},
   "outputs": [],
   "source": [
    "UNIQUE_sample_sorted['live agent_session_id_from_xspace'] = 0"
   ]
  },
  {
   "cell_type": "code",
   "execution_count": 127,
   "metadata": {},
   "outputs": [
    {
     "data": {
      "text/html": [
       "<div>\n",
       "<style scoped>\n",
       "    .dataframe tbody tr th:only-of-type {\n",
       "        vertical-align: middle;\n",
       "    }\n",
       "\n",
       "    .dataframe tbody tr th {\n",
       "        vertical-align: top;\n",
       "    }\n",
       "\n",
       "    .dataframe thead th {\n",
       "        text-align: right;\n",
       "    }\n",
       "</style>\n",
       "<table border=\"1\" class=\"dataframe\">\n",
       "  <thead>\n",
       "    <tr style=\"text-align: right;\">\n",
       "      <th></th>\n",
       "      <th>index</th>\n",
       "      <th>Seller id (X-space)</th>\n",
       "      <th>live agent_session_id</th>\n",
       "      <th>live agent_session_id_from_xspace</th>\n",
       "    </tr>\n",
       "  </thead>\n",
       "  <tbody>\n",
       "    <tr>\n",
       "      <th>0</th>\n",
       "      <td>0</td>\n",
       "      <td>700036896929</td>\n",
       "      <td>96cd5f430a0d4a15bc89bff90a6c8b98</td>\n",
       "      <td>0</td>\n",
       "    </tr>\n",
       "    <tr>\n",
       "      <th>1</th>\n",
       "      <td>0</td>\n",
       "      <td>700036896929</td>\n",
       "      <td>362f2bd99167468f8119c92e0b78049a</td>\n",
       "      <td>0</td>\n",
       "    </tr>\n",
       "    <tr>\n",
       "      <th>2</th>\n",
       "      <td>0</td>\n",
       "      <td>700036896929</td>\n",
       "      <td>0736be77a45a4fc19f8087bb2ee0c22e</td>\n",
       "      <td>0</td>\n",
       "    </tr>\n",
       "    <tr>\n",
       "      <th>3</th>\n",
       "      <td>0</td>\n",
       "      <td>700013847484</td>\n",
       "      <td>7b90aee393514336a890aca558bc9dba</td>\n",
       "      <td>0</td>\n",
       "    </tr>\n",
       "    <tr>\n",
       "      <th>4</th>\n",
       "      <td>0</td>\n",
       "      <td>700013847484</td>\n",
       "      <td>6ae812b9a4b34f27912052871624210a</td>\n",
       "      <td>0</td>\n",
       "    </tr>\n",
       "    <tr>\n",
       "      <th>5</th>\n",
       "      <td>0</td>\n",
       "      <td>700013847484</td>\n",
       "      <td>f02e4cd637cb4e50bafbe326943350ea</td>\n",
       "      <td>0</td>\n",
       "    </tr>\n",
       "    <tr>\n",
       "      <th>6</th>\n",
       "      <td>0</td>\n",
       "      <td>258139</td>\n",
       "      <td>b77c92792fc14ed1b8a5683a2c5f32fb</td>\n",
       "      <td>0</td>\n",
       "    </tr>\n",
       "    <tr>\n",
       "      <th>7</th>\n",
       "      <td>0</td>\n",
       "      <td>258139</td>\n",
       "      <td>e0682f60a85c40758c58e5ecb5901c8d</td>\n",
       "      <td>0</td>\n",
       "    </tr>\n",
       "    <tr>\n",
       "      <th>8</th>\n",
       "      <td>0</td>\n",
       "      <td>258139</td>\n",
       "      <td>ac874e051c3d4c6485cdfa827056db4b</td>\n",
       "      <td>0</td>\n",
       "    </tr>\n",
       "  </tbody>\n",
       "</table>\n",
       "</div>"
      ],
      "text/plain": [
       "   index Seller id (X-space)             live agent_session_id  \\\n",
       "0      0        700036896929  96cd5f430a0d4a15bc89bff90a6c8b98   \n",
       "1      0        700036896929  362f2bd99167468f8119c92e0b78049a   \n",
       "2      0        700036896929  0736be77a45a4fc19f8087bb2ee0c22e   \n",
       "3      0        700013847484  7b90aee393514336a890aca558bc9dba   \n",
       "4      0        700013847484  6ae812b9a4b34f27912052871624210a   \n",
       "5      0        700013847484  f02e4cd637cb4e50bafbe326943350ea   \n",
       "6      0              258139  b77c92792fc14ed1b8a5683a2c5f32fb   \n",
       "7      0              258139  e0682f60a85c40758c58e5ecb5901c8d   \n",
       "8      0              258139  ac874e051c3d4c6485cdfa827056db4b   \n",
       "\n",
       "   live agent_session_id_from_xspace  \n",
       "0                                  0  \n",
       "1                                  0  \n",
       "2                                  0  \n",
       "3                                  0  \n",
       "4                                  0  \n",
       "5                                  0  \n",
       "6                                  0  \n",
       "7                                  0  \n",
       "8                                  0  "
      ]
     },
     "execution_count": 127,
     "metadata": {},
     "output_type": "execute_result"
    }
   ],
   "source": [
    "UNIQUE_sample_sorted"
   ]
  },
  {
   "cell_type": "code",
   "execution_count": 128,
   "metadata": {},
   "outputs": [
    {
     "name": "stderr",
     "output_type": "stream",
     "text": [
      "C:\\Users\\Daraz\\AppData\\Local\\Temp/ipykernel_16428/3065128071.py:15: SettingWithCopyWarning: \n",
      "A value is trying to be set on a copy of a slice from a DataFrame\n",
      "\n",
      "See the caveats in the documentation: https://pandas.pydata.org/pandas-docs/stable/user_guide/indexing.html#returning-a-view-versus-a-copy\n",
      "  UNIQUE_sample_sorted['live agent_session_id_from_xspace'][new_row_number] = i[1]\n",
      "c:\\Users\\Daraz\\anaconda3\\lib\\site-packages\\pandas\\core\\indexing.py:1732: SettingWithCopyWarning: \n",
      "A value is trying to be set on a copy of a slice from a DataFrame\n",
      "\n",
      "See the caveats in the documentation: https://pandas.pydata.org/pandas-docs/stable/user_guide/indexing.html#returning-a-view-versus-a-copy\n",
      "  self._setitem_single_block(indexer, value, name)\n"
     ]
    }
   ],
   "source": [
    "for i in agent_session_id_xspace:\n",
    "\n",
    "    if i[1] not in UNIQUE_sample_sorted['live agent_session_id'].values:\n",
    "\n",
    "        row_number = UNIQUE_sample_sorted[UNIQUE_sample_sorted['Seller id (X-space)'] == i[0]].index[0]\n",
    "\n",
    "        row_value = [0, i[0], np.nan, i[1]]\n",
    "\n",
    "        UNIQUE_sample_sorted = insert_row (row_number, UNIQUE_sample_sorted, row_value)\n",
    "\n",
    "    elif i[1] in UNIQUE_sample_sorted['live agent_session_id'].values:\n",
    "\n",
    "        new_row_number = UNIQUE_sample_sorted[UNIQUE_sample_sorted['live agent_session_id'] == i[1]].index[0]\n",
    "        \n",
    "        UNIQUE_sample_sorted['live agent_session_id_from_xspace'][new_row_number] = i[1]"
   ]
  },
  {
   "cell_type": "code",
   "execution_count": 129,
   "metadata": {},
   "outputs": [
    {
     "data": {
      "text/html": [
       "<div>\n",
       "<style scoped>\n",
       "    .dataframe tbody tr th:only-of-type {\n",
       "        vertical-align: middle;\n",
       "    }\n",
       "\n",
       "    .dataframe tbody tr th {\n",
       "        vertical-align: top;\n",
       "    }\n",
       "\n",
       "    .dataframe thead th {\n",
       "        text-align: right;\n",
       "    }\n",
       "</style>\n",
       "<table border=\"1\" class=\"dataframe\">\n",
       "  <thead>\n",
       "    <tr style=\"text-align: right;\">\n",
       "      <th></th>\n",
       "      <th>index</th>\n",
       "      <th>Seller id (X-space)</th>\n",
       "      <th>live agent_session_id</th>\n",
       "      <th>live agent_session_id_from_xspace</th>\n",
       "    </tr>\n",
       "  </thead>\n",
       "  <tbody>\n",
       "    <tr>\n",
       "      <th>0</th>\n",
       "      <td>0</td>\n",
       "      <td>700036896929</td>\n",
       "      <td>96cd5f430a0d4a15bc89bff90a6c8b98</td>\n",
       "      <td>96cd5f430a0d4a15bc89bff90a6c8b98</td>\n",
       "    </tr>\n",
       "    <tr>\n",
       "      <th>1</th>\n",
       "      <td>0</td>\n",
       "      <td>700036896929</td>\n",
       "      <td>362f2bd99167468f8119c92e0b78049a</td>\n",
       "      <td>362f2bd99167468f8119c92e0b78049a</td>\n",
       "    </tr>\n",
       "    <tr>\n",
       "      <th>2</th>\n",
       "      <td>0</td>\n",
       "      <td>700036896929</td>\n",
       "      <td>0736be77a45a4fc19f8087bb2ee0c22e</td>\n",
       "      <td>0736be77a45a4fc19f8087bb2ee0c22e</td>\n",
       "    </tr>\n",
       "    <tr>\n",
       "      <th>3</th>\n",
       "      <td>0</td>\n",
       "      <td>700013847484</td>\n",
       "      <td>7b90aee393514336a890aca558bc9dba</td>\n",
       "      <td>7b90aee393514336a890aca558bc9dba</td>\n",
       "    </tr>\n",
       "    <tr>\n",
       "      <th>4</th>\n",
       "      <td>0</td>\n",
       "      <td>700013847484</td>\n",
       "      <td>6ae812b9a4b34f27912052871624210a</td>\n",
       "      <td>6ae812b9a4b34f27912052871624210a</td>\n",
       "    </tr>\n",
       "    <tr>\n",
       "      <th>5</th>\n",
       "      <td>0</td>\n",
       "      <td>700013847484</td>\n",
       "      <td>f02e4cd637cb4e50bafbe326943350ea</td>\n",
       "      <td>f02e4cd637cb4e50bafbe326943350ea</td>\n",
       "    </tr>\n",
       "    <tr>\n",
       "      <th>6</th>\n",
       "      <td>0</td>\n",
       "      <td>258139</td>\n",
       "      <td>b77c92792fc14ed1b8a5683a2c5f32fb</td>\n",
       "      <td>b77c92792fc14ed1b8a5683a2c5f32fb</td>\n",
       "    </tr>\n",
       "    <tr>\n",
       "      <th>7</th>\n",
       "      <td>0</td>\n",
       "      <td>258139</td>\n",
       "      <td>e0682f60a85c40758c58e5ecb5901c8d</td>\n",
       "      <td>e0682f60a85c40758c58e5ecb5901c8d</td>\n",
       "    </tr>\n",
       "    <tr>\n",
       "      <th>8</th>\n",
       "      <td>0</td>\n",
       "      <td>258139</td>\n",
       "      <td>ac874e051c3d4c6485cdfa827056db4b</td>\n",
       "      <td>ac874e051c3d4c6485cdfa827056db4b</td>\n",
       "    </tr>\n",
       "  </tbody>\n",
       "</table>\n",
       "</div>"
      ],
      "text/plain": [
       "   index Seller id (X-space)             live agent_session_id  \\\n",
       "0      0        700036896929  96cd5f430a0d4a15bc89bff90a6c8b98   \n",
       "1      0        700036896929  362f2bd99167468f8119c92e0b78049a   \n",
       "2      0        700036896929  0736be77a45a4fc19f8087bb2ee0c22e   \n",
       "3      0        700013847484  7b90aee393514336a890aca558bc9dba   \n",
       "4      0        700013847484  6ae812b9a4b34f27912052871624210a   \n",
       "5      0        700013847484  f02e4cd637cb4e50bafbe326943350ea   \n",
       "6      0              258139  b77c92792fc14ed1b8a5683a2c5f32fb   \n",
       "7      0              258139  e0682f60a85c40758c58e5ecb5901c8d   \n",
       "8      0              258139  ac874e051c3d4c6485cdfa827056db4b   \n",
       "\n",
       "  live agent_session_id_from_xspace  \n",
       "0  96cd5f430a0d4a15bc89bff90a6c8b98  \n",
       "1  362f2bd99167468f8119c92e0b78049a  \n",
       "2  0736be77a45a4fc19f8087bb2ee0c22e  \n",
       "3  7b90aee393514336a890aca558bc9dba  \n",
       "4  6ae812b9a4b34f27912052871624210a  \n",
       "5  f02e4cd637cb4e50bafbe326943350ea  \n",
       "6  b77c92792fc14ed1b8a5683a2c5f32fb  \n",
       "7  e0682f60a85c40758c58e5ecb5901c8d  \n",
       "8  ac874e051c3d4c6485cdfa827056db4b  "
      ]
     },
     "execution_count": 129,
     "metadata": {},
     "output_type": "execute_result"
    }
   ],
   "source": [
    "UNIQUE_sample_sorted"
   ]
  },
  {
   "cell_type": "code",
   "execution_count": 130,
   "metadata": {},
   "outputs": [],
   "source": [
    "UNIQUE_sample_sorted['index'] = UNIQUE_sample_sorted.groupby(by='Seller id (X-space)').cumcount()+1"
   ]
  },
  {
   "cell_type": "code",
   "execution_count": 131,
   "metadata": {},
   "outputs": [],
   "source": [
    "UNIQUE_sample_sorted['index'] = UNIQUE_sample_sorted['index'].astype(str)"
   ]
  },
  {
   "cell_type": "code",
   "execution_count": 132,
   "metadata": {},
   "outputs": [
    {
     "data": {
      "text/html": [
       "<div>\n",
       "<style scoped>\n",
       "    .dataframe tbody tr th:only-of-type {\n",
       "        vertical-align: middle;\n",
       "    }\n",
       "\n",
       "    .dataframe tbody tr th {\n",
       "        vertical-align: top;\n",
       "    }\n",
       "\n",
       "    .dataframe thead th {\n",
       "        text-align: right;\n",
       "    }\n",
       "</style>\n",
       "<table border=\"1\" class=\"dataframe\">\n",
       "  <thead>\n",
       "    <tr style=\"text-align: right;\">\n",
       "      <th></th>\n",
       "      <th>index</th>\n",
       "      <th>Seller id (X-space)</th>\n",
       "      <th>live agent_session_id</th>\n",
       "      <th>live agent_session_id_from_xspace</th>\n",
       "    </tr>\n",
       "  </thead>\n",
       "  <tbody>\n",
       "    <tr>\n",
       "      <th>0</th>\n",
       "      <td>1</td>\n",
       "      <td>700036896929</td>\n",
       "      <td>96cd5f430a0d4a15bc89bff90a6c8b98</td>\n",
       "      <td>96cd5f430a0d4a15bc89bff90a6c8b98</td>\n",
       "    </tr>\n",
       "    <tr>\n",
       "      <th>1</th>\n",
       "      <td>2</td>\n",
       "      <td>700036896929</td>\n",
       "      <td>362f2bd99167468f8119c92e0b78049a</td>\n",
       "      <td>362f2bd99167468f8119c92e0b78049a</td>\n",
       "    </tr>\n",
       "    <tr>\n",
       "      <th>2</th>\n",
       "      <td>3</td>\n",
       "      <td>700036896929</td>\n",
       "      <td>0736be77a45a4fc19f8087bb2ee0c22e</td>\n",
       "      <td>0736be77a45a4fc19f8087bb2ee0c22e</td>\n",
       "    </tr>\n",
       "    <tr>\n",
       "      <th>3</th>\n",
       "      <td>1</td>\n",
       "      <td>700013847484</td>\n",
       "      <td>7b90aee393514336a890aca558bc9dba</td>\n",
       "      <td>7b90aee393514336a890aca558bc9dba</td>\n",
       "    </tr>\n",
       "    <tr>\n",
       "      <th>4</th>\n",
       "      <td>2</td>\n",
       "      <td>700013847484</td>\n",
       "      <td>6ae812b9a4b34f27912052871624210a</td>\n",
       "      <td>6ae812b9a4b34f27912052871624210a</td>\n",
       "    </tr>\n",
       "    <tr>\n",
       "      <th>5</th>\n",
       "      <td>3</td>\n",
       "      <td>700013847484</td>\n",
       "      <td>f02e4cd637cb4e50bafbe326943350ea</td>\n",
       "      <td>f02e4cd637cb4e50bafbe326943350ea</td>\n",
       "    </tr>\n",
       "    <tr>\n",
       "      <th>6</th>\n",
       "      <td>1</td>\n",
       "      <td>258139</td>\n",
       "      <td>b77c92792fc14ed1b8a5683a2c5f32fb</td>\n",
       "      <td>b77c92792fc14ed1b8a5683a2c5f32fb</td>\n",
       "    </tr>\n",
       "    <tr>\n",
       "      <th>7</th>\n",
       "      <td>2</td>\n",
       "      <td>258139</td>\n",
       "      <td>e0682f60a85c40758c58e5ecb5901c8d</td>\n",
       "      <td>e0682f60a85c40758c58e5ecb5901c8d</td>\n",
       "    </tr>\n",
       "    <tr>\n",
       "      <th>8</th>\n",
       "      <td>3</td>\n",
       "      <td>258139</td>\n",
       "      <td>ac874e051c3d4c6485cdfa827056db4b</td>\n",
       "      <td>ac874e051c3d4c6485cdfa827056db4b</td>\n",
       "    </tr>\n",
       "  </tbody>\n",
       "</table>\n",
       "</div>"
      ],
      "text/plain": [
       "  index Seller id (X-space)             live agent_session_id  \\\n",
       "0     1        700036896929  96cd5f430a0d4a15bc89bff90a6c8b98   \n",
       "1     2        700036896929  362f2bd99167468f8119c92e0b78049a   \n",
       "2     3        700036896929  0736be77a45a4fc19f8087bb2ee0c22e   \n",
       "3     1        700013847484  7b90aee393514336a890aca558bc9dba   \n",
       "4     2        700013847484  6ae812b9a4b34f27912052871624210a   \n",
       "5     3        700013847484  f02e4cd637cb4e50bafbe326943350ea   \n",
       "6     1              258139  b77c92792fc14ed1b8a5683a2c5f32fb   \n",
       "7     2              258139  e0682f60a85c40758c58e5ecb5901c8d   \n",
       "8     3              258139  ac874e051c3d4c6485cdfa827056db4b   \n",
       "\n",
       "  live agent_session_id_from_xspace  \n",
       "0  96cd5f430a0d4a15bc89bff90a6c8b98  \n",
       "1  362f2bd99167468f8119c92e0b78049a  \n",
       "2  0736be77a45a4fc19f8087bb2ee0c22e  \n",
       "3  7b90aee393514336a890aca558bc9dba  \n",
       "4  6ae812b9a4b34f27912052871624210a  \n",
       "5  f02e4cd637cb4e50bafbe326943350ea  \n",
       "6  b77c92792fc14ed1b8a5683a2c5f32fb  \n",
       "7  e0682f60a85c40758c58e5ecb5901c8d  \n",
       "8  ac874e051c3d4c6485cdfa827056db4b  "
      ]
     },
     "execution_count": 132,
     "metadata": {},
     "output_type": "execute_result"
    }
   ],
   "source": [
    "UNIQUE_sample_sorted"
   ]
  },
  {
   "cell_type": "code",
   "execution_count": 133,
   "metadata": {},
   "outputs": [],
   "source": [
    "Index_array = [UNIQUE_sample_sorted['Seller id (X-space)'].to_list(), UNIQUE_sample_sorted['index'].to_list()]"
   ]
  },
  {
   "cell_type": "code",
   "execution_count": 134,
   "metadata": {},
   "outputs": [
    {
     "data": {
      "text/plain": [
       "[['700036896929',\n",
       "  '700036896929',\n",
       "  '700036896929',\n",
       "  '700013847484',\n",
       "  '700013847484',\n",
       "  '700013847484',\n",
       "  '258139',\n",
       "  '258139',\n",
       "  '258139'],\n",
       " ['1', '2', '3', '1', '2', '3', '1', '2', '3']]"
      ]
     },
     "execution_count": 134,
     "metadata": {},
     "output_type": "execute_result"
    }
   ],
   "source": [
    "Index_array"
   ]
  },
  {
   "cell_type": "code",
   "execution_count": 135,
   "metadata": {},
   "outputs": [],
   "source": [
    "arr_tuples_of_index = list(zip(*Index_array))"
   ]
  },
  {
   "cell_type": "code",
   "execution_count": 136,
   "metadata": {},
   "outputs": [],
   "source": [
    "UNIQUE_sample.reset_index(inplace=True)"
   ]
  },
  {
   "cell_type": "code",
   "execution_count": 137,
   "metadata": {},
   "outputs": [
    {
     "data": {
      "text/plain": [
       "9"
      ]
     },
     "execution_count": 137,
     "metadata": {},
     "output_type": "execute_result"
    }
   ],
   "source": [
    "len(UNIQUE_sample.index)"
   ]
  },
  {
   "cell_type": "code",
   "execution_count": 138,
   "metadata": {},
   "outputs": [
    {
     "data": {
      "text/plain": [
       "[('700036896929', '1'),\n",
       " ('700036896929', '2'),\n",
       " ('700036896929', '3'),\n",
       " ('700013847484', '1'),\n",
       " ('700013847484', '2'),\n",
       " ('700013847484', '3'),\n",
       " ('258139', '1'),\n",
       " ('258139', '2'),\n",
       " ('258139', '3')]"
      ]
     },
     "execution_count": 138,
     "metadata": {},
     "output_type": "execute_result"
    }
   ],
   "source": [
    "arr_tuples_of_index"
   ]
  },
  {
   "cell_type": "code",
   "execution_count": 139,
   "metadata": {},
   "outputs": [],
   "source": [
    "df_column = pd.MultiIndex.from_tuples(arr_tuples_of_index, names=['Buyer ID', 'Serial'])"
   ]
  },
  {
   "cell_type": "code",
   "execution_count": 140,
   "metadata": {},
   "outputs": [
    {
     "data": {
      "text/plain": [
       "[('258139', 'e0682f60a85c40758c58e5ecb5901c8d'),\n",
       " ('258139', 'ac874e051c3d4c6485cdfa827056db4b'),\n",
       " ('258139', 'b77c92792fc14ed1b8a5683a2c5f32fb'),\n",
       " ('700036896929', '0736be77a45a4fc19f8087bb2ee0c22e'),\n",
       " ('700036896929', '96cd5f430a0d4a15bc89bff90a6c8b98'),\n",
       " ('700036896929', '362f2bd99167468f8119c92e0b78049a'),\n",
       " ('700013847484', '7b90aee393514336a890aca558bc9dba'),\n",
       " ('700013847484', 'f02e4cd637cb4e50bafbe326943350ea'),\n",
       " ('700013847484', '6ae812b9a4b34f27912052871624210a')]"
      ]
     },
     "execution_count": 140,
     "metadata": {},
     "output_type": "execute_result"
    }
   ],
   "source": [
    "agent_session_id_xspace"
   ]
  },
  {
   "cell_type": "code",
   "execution_count": 141,
   "metadata": {},
   "outputs": [],
   "source": [
    "a_numpy = UNIQUE_sample_sorted[['live agent_session_id','live agent_session_id_from_xspace']].to_numpy()"
   ]
  },
  {
   "cell_type": "code",
   "execution_count": 142,
   "metadata": {},
   "outputs": [],
   "source": [
    "df_multi_level_cols2 = pd.DataFrame(a_numpy, index=df_column, columns=['live agent session ID from dataset', 'live agent session ID from Xspace'])"
   ]
  },
  {
   "cell_type": "code",
   "execution_count": 143,
   "metadata": {},
   "outputs": [
    {
     "data": {
      "text/html": [
       "<div>\n",
       "<style scoped>\n",
       "    .dataframe tbody tr th:only-of-type {\n",
       "        vertical-align: middle;\n",
       "    }\n",
       "\n",
       "    .dataframe tbody tr th {\n",
       "        vertical-align: top;\n",
       "    }\n",
       "\n",
       "    .dataframe thead th {\n",
       "        text-align: right;\n",
       "    }\n",
       "</style>\n",
       "<table border=\"1\" class=\"dataframe\">\n",
       "  <thead>\n",
       "    <tr style=\"text-align: right;\">\n",
       "      <th></th>\n",
       "      <th></th>\n",
       "      <th>live agent session ID from dataset</th>\n",
       "      <th>live agent session ID from Xspace</th>\n",
       "    </tr>\n",
       "    <tr>\n",
       "      <th>Buyer ID</th>\n",
       "      <th>Serial</th>\n",
       "      <th></th>\n",
       "      <th></th>\n",
       "    </tr>\n",
       "  </thead>\n",
       "  <tbody>\n",
       "    <tr>\n",
       "      <th rowspan=\"3\" valign=\"top\">700036896929</th>\n",
       "      <th>1</th>\n",
       "      <td>96cd5f430a0d4a15bc89bff90a6c8b98</td>\n",
       "      <td>96cd5f430a0d4a15bc89bff90a6c8b98</td>\n",
       "    </tr>\n",
       "    <tr>\n",
       "      <th>2</th>\n",
       "      <td>362f2bd99167468f8119c92e0b78049a</td>\n",
       "      <td>362f2bd99167468f8119c92e0b78049a</td>\n",
       "    </tr>\n",
       "    <tr>\n",
       "      <th>3</th>\n",
       "      <td>0736be77a45a4fc19f8087bb2ee0c22e</td>\n",
       "      <td>0736be77a45a4fc19f8087bb2ee0c22e</td>\n",
       "    </tr>\n",
       "    <tr>\n",
       "      <th rowspan=\"3\" valign=\"top\">700013847484</th>\n",
       "      <th>1</th>\n",
       "      <td>7b90aee393514336a890aca558bc9dba</td>\n",
       "      <td>7b90aee393514336a890aca558bc9dba</td>\n",
       "    </tr>\n",
       "    <tr>\n",
       "      <th>2</th>\n",
       "      <td>6ae812b9a4b34f27912052871624210a</td>\n",
       "      <td>6ae812b9a4b34f27912052871624210a</td>\n",
       "    </tr>\n",
       "    <tr>\n",
       "      <th>3</th>\n",
       "      <td>f02e4cd637cb4e50bafbe326943350ea</td>\n",
       "      <td>f02e4cd637cb4e50bafbe326943350ea</td>\n",
       "    </tr>\n",
       "    <tr>\n",
       "      <th rowspan=\"3\" valign=\"top\">258139</th>\n",
       "      <th>1</th>\n",
       "      <td>b77c92792fc14ed1b8a5683a2c5f32fb</td>\n",
       "      <td>b77c92792fc14ed1b8a5683a2c5f32fb</td>\n",
       "    </tr>\n",
       "    <tr>\n",
       "      <th>2</th>\n",
       "      <td>e0682f60a85c40758c58e5ecb5901c8d</td>\n",
       "      <td>e0682f60a85c40758c58e5ecb5901c8d</td>\n",
       "    </tr>\n",
       "    <tr>\n",
       "      <th>3</th>\n",
       "      <td>ac874e051c3d4c6485cdfa827056db4b</td>\n",
       "      <td>ac874e051c3d4c6485cdfa827056db4b</td>\n",
       "    </tr>\n",
       "  </tbody>\n",
       "</table>\n",
       "</div>"
      ],
      "text/plain": [
       "                    live agent session ID from dataset  \\\n",
       "Buyer ID     Serial                                      \n",
       "700036896929 1        96cd5f430a0d4a15bc89bff90a6c8b98   \n",
       "             2        362f2bd99167468f8119c92e0b78049a   \n",
       "             3        0736be77a45a4fc19f8087bb2ee0c22e   \n",
       "700013847484 1        7b90aee393514336a890aca558bc9dba   \n",
       "             2        6ae812b9a4b34f27912052871624210a   \n",
       "             3        f02e4cd637cb4e50bafbe326943350ea   \n",
       "258139       1        b77c92792fc14ed1b8a5683a2c5f32fb   \n",
       "             2        e0682f60a85c40758c58e5ecb5901c8d   \n",
       "             3        ac874e051c3d4c6485cdfa827056db4b   \n",
       "\n",
       "                    live agent session ID from Xspace  \n",
       "Buyer ID     Serial                                    \n",
       "700036896929 1       96cd5f430a0d4a15bc89bff90a6c8b98  \n",
       "             2       362f2bd99167468f8119c92e0b78049a  \n",
       "             3       0736be77a45a4fc19f8087bb2ee0c22e  \n",
       "700013847484 1       7b90aee393514336a890aca558bc9dba  \n",
       "             2       6ae812b9a4b34f27912052871624210a  \n",
       "             3       f02e4cd637cb4e50bafbe326943350ea  \n",
       "258139       1       b77c92792fc14ed1b8a5683a2c5f32fb  \n",
       "             2       e0682f60a85c40758c58e5ecb5901c8d  \n",
       "             3       ac874e051c3d4c6485cdfa827056db4b  "
      ]
     },
     "execution_count": 143,
     "metadata": {},
     "output_type": "execute_result"
    }
   ],
   "source": [
    "df_multi_level_cols2"
   ]
  },
  {
   "cell_type": "code",
   "execution_count": 108,
   "metadata": {},
   "outputs": [],
   "source": [
    "df_multi_level_cols2['live agent session ID from Xspace'] = np.nan"
   ]
  },
  {
   "cell_type": "code",
   "execution_count": 109,
   "metadata": {},
   "outputs": [
    {
     "data": {
      "text/html": [
       "<div>\n",
       "<style scoped>\n",
       "    .dataframe tbody tr th:only-of-type {\n",
       "        vertical-align: middle;\n",
       "    }\n",
       "\n",
       "    .dataframe tbody tr th {\n",
       "        vertical-align: top;\n",
       "    }\n",
       "\n",
       "    .dataframe thead th {\n",
       "        text-align: right;\n",
       "    }\n",
       "</style>\n",
       "<table border=\"1\" class=\"dataframe\">\n",
       "  <thead>\n",
       "    <tr style=\"text-align: right;\">\n",
       "      <th></th>\n",
       "      <th></th>\n",
       "      <th>live agent session ID from dataset</th>\n",
       "      <th>live agent session ID from Xspace</th>\n",
       "    </tr>\n",
       "    <tr>\n",
       "      <th>Buyer ID</th>\n",
       "      <th>Serial</th>\n",
       "      <th></th>\n",
       "      <th></th>\n",
       "    </tr>\n",
       "  </thead>\n",
       "  <tbody>\n",
       "    <tr>\n",
       "      <th rowspan=\"3\" valign=\"top\">700036896929</th>\n",
       "      <th>1</th>\n",
       "      <td>96cd5f430a0d4a15bc89bff90a6c8b98</td>\n",
       "      <td>NaN</td>\n",
       "    </tr>\n",
       "    <tr>\n",
       "      <th>2</th>\n",
       "      <td>362f2bd99167468f8119c92e0b78049a</td>\n",
       "      <td>NaN</td>\n",
       "    </tr>\n",
       "    <tr>\n",
       "      <th>3</th>\n",
       "      <td>0736be77a45a4fc19f8087bb2ee0c22e</td>\n",
       "      <td>NaN</td>\n",
       "    </tr>\n",
       "    <tr>\n",
       "      <th rowspan=\"3\" valign=\"top\">700013847484</th>\n",
       "      <th>1</th>\n",
       "      <td>7b90aee393514336a890aca558bc9dba</td>\n",
       "      <td>NaN</td>\n",
       "    </tr>\n",
       "    <tr>\n",
       "      <th>2</th>\n",
       "      <td>6ae812b9a4b34f27912052871624210a</td>\n",
       "      <td>NaN</td>\n",
       "    </tr>\n",
       "    <tr>\n",
       "      <th>3</th>\n",
       "      <td>f02e4cd637cb4e50bafbe326943350ea</td>\n",
       "      <td>NaN</td>\n",
       "    </tr>\n",
       "    <tr>\n",
       "      <th rowspan=\"3\" valign=\"top\">258139</th>\n",
       "      <th>1</th>\n",
       "      <td>b77c92792fc14ed1b8a5683a2c5f32fb</td>\n",
       "      <td>NaN</td>\n",
       "    </tr>\n",
       "    <tr>\n",
       "      <th>2</th>\n",
       "      <td>e0682f60a85c40758c58e5ecb5901c8d</td>\n",
       "      <td>NaN</td>\n",
       "    </tr>\n",
       "    <tr>\n",
       "      <th>3</th>\n",
       "      <td>ac874e051c3d4c6485cdfa827056db4b</td>\n",
       "      <td>NaN</td>\n",
       "    </tr>\n",
       "  </tbody>\n",
       "</table>\n",
       "</div>"
      ],
      "text/plain": [
       "                    live agent session ID from dataset  \\\n",
       "Buyer ID     Serial                                      \n",
       "700036896929 1        96cd5f430a0d4a15bc89bff90a6c8b98   \n",
       "             2        362f2bd99167468f8119c92e0b78049a   \n",
       "             3        0736be77a45a4fc19f8087bb2ee0c22e   \n",
       "700013847484 1        7b90aee393514336a890aca558bc9dba   \n",
       "             2        6ae812b9a4b34f27912052871624210a   \n",
       "             3        f02e4cd637cb4e50bafbe326943350ea   \n",
       "258139       1        b77c92792fc14ed1b8a5683a2c5f32fb   \n",
       "             2        e0682f60a85c40758c58e5ecb5901c8d   \n",
       "             3        ac874e051c3d4c6485cdfa827056db4b   \n",
       "\n",
       "                     live agent session ID from Xspace  \n",
       "Buyer ID     Serial                                     \n",
       "700036896929 1                                     NaN  \n",
       "             2                                     NaN  \n",
       "             3                                     NaN  \n",
       "700013847484 1                                     NaN  \n",
       "             2                                     NaN  \n",
       "             3                                     NaN  \n",
       "258139       1                                     NaN  \n",
       "             2                                     NaN  \n",
       "             3                                     NaN  "
      ]
     },
     "execution_count": 109,
     "metadata": {},
     "output_type": "execute_result"
    }
   ],
   "source": [
    "df_multi_level_cols2"
   ]
  },
  {
   "cell_type": "code",
   "execution_count": 113,
   "metadata": {},
   "outputs": [],
   "source": [
    "df_test = df_multi_level_cols2.style.applymap(lambda x: 'color: red' if pd.isna(x) else '')"
   ]
  },
  {
   "cell_type": "code",
   "execution_count": 114,
   "metadata": {},
   "outputs": [
    {
     "data": {
      "text/html": [
       "<style type=\"text/css\">\n",
       "#T_65e17_row0_col1, #T_65e17_row1_col1, #T_65e17_row2_col1, #T_65e17_row3_col1, #T_65e17_row4_col1, #T_65e17_row5_col1, #T_65e17_row6_col1, #T_65e17_row7_col1, #T_65e17_row8_col1 {\n",
       "  color: red;\n",
       "}\n",
       "</style>\n",
       "<table id=\"T_65e17_\">\n",
       "  <thead>\n",
       "    <tr>\n",
       "      <th class=\"blank\" >&nbsp;</th>\n",
       "      <th class=\"blank level0\" >&nbsp;</th>\n",
       "      <th class=\"col_heading level0 col0\" >live agent session ID from dataset</th>\n",
       "      <th class=\"col_heading level0 col1\" >live agent session ID from Xspace</th>\n",
       "    </tr>\n",
       "    <tr>\n",
       "      <th class=\"index_name level0\" >Buyer ID</th>\n",
       "      <th class=\"index_name level1\" >Serial</th>\n",
       "      <th class=\"blank col0\" >&nbsp;</th>\n",
       "      <th class=\"blank col1\" >&nbsp;</th>\n",
       "    </tr>\n",
       "  </thead>\n",
       "  <tbody>\n",
       "    <tr>\n",
       "      <th id=\"T_65e17_level0_row0\" class=\"row_heading level0 row0\" rowspan=\"3\">700036896929</th>\n",
       "      <th id=\"T_65e17_level1_row0\" class=\"row_heading level1 row0\" >1</th>\n",
       "      <td id=\"T_65e17_row0_col0\" class=\"data row0 col0\" >96cd5f430a0d4a15bc89bff90a6c8b98</td>\n",
       "      <td id=\"T_65e17_row0_col1\" class=\"data row0 col1\" >nan</td>\n",
       "    </tr>\n",
       "    <tr>\n",
       "      <th id=\"T_65e17_level1_row1\" class=\"row_heading level1 row1\" >2</th>\n",
       "      <td id=\"T_65e17_row1_col0\" class=\"data row1 col0\" >362f2bd99167468f8119c92e0b78049a</td>\n",
       "      <td id=\"T_65e17_row1_col1\" class=\"data row1 col1\" >nan</td>\n",
       "    </tr>\n",
       "    <tr>\n",
       "      <th id=\"T_65e17_level1_row2\" class=\"row_heading level1 row2\" >3</th>\n",
       "      <td id=\"T_65e17_row2_col0\" class=\"data row2 col0\" >0736be77a45a4fc19f8087bb2ee0c22e</td>\n",
       "      <td id=\"T_65e17_row2_col1\" class=\"data row2 col1\" >nan</td>\n",
       "    </tr>\n",
       "    <tr>\n",
       "      <th id=\"T_65e17_level0_row3\" class=\"row_heading level0 row3\" rowspan=\"3\">700013847484</th>\n",
       "      <th id=\"T_65e17_level1_row3\" class=\"row_heading level1 row3\" >1</th>\n",
       "      <td id=\"T_65e17_row3_col0\" class=\"data row3 col0\" >7b90aee393514336a890aca558bc9dba</td>\n",
       "      <td id=\"T_65e17_row3_col1\" class=\"data row3 col1\" >nan</td>\n",
       "    </tr>\n",
       "    <tr>\n",
       "      <th id=\"T_65e17_level1_row4\" class=\"row_heading level1 row4\" >2</th>\n",
       "      <td id=\"T_65e17_row4_col0\" class=\"data row4 col0\" >6ae812b9a4b34f27912052871624210a</td>\n",
       "      <td id=\"T_65e17_row4_col1\" class=\"data row4 col1\" >nan</td>\n",
       "    </tr>\n",
       "    <tr>\n",
       "      <th id=\"T_65e17_level1_row5\" class=\"row_heading level1 row5\" >3</th>\n",
       "      <td id=\"T_65e17_row5_col0\" class=\"data row5 col0\" >f02e4cd637cb4e50bafbe326943350ea</td>\n",
       "      <td id=\"T_65e17_row5_col1\" class=\"data row5 col1\" >nan</td>\n",
       "    </tr>\n",
       "    <tr>\n",
       "      <th id=\"T_65e17_level0_row6\" class=\"row_heading level0 row6\" rowspan=\"3\">258139</th>\n",
       "      <th id=\"T_65e17_level1_row6\" class=\"row_heading level1 row6\" >1</th>\n",
       "      <td id=\"T_65e17_row6_col0\" class=\"data row6 col0\" >b77c92792fc14ed1b8a5683a2c5f32fb</td>\n",
       "      <td id=\"T_65e17_row6_col1\" class=\"data row6 col1\" >nan</td>\n",
       "    </tr>\n",
       "    <tr>\n",
       "      <th id=\"T_65e17_level1_row7\" class=\"row_heading level1 row7\" >2</th>\n",
       "      <td id=\"T_65e17_row7_col0\" class=\"data row7 col0\" >e0682f60a85c40758c58e5ecb5901c8d</td>\n",
       "      <td id=\"T_65e17_row7_col1\" class=\"data row7 col1\" >nan</td>\n",
       "    </tr>\n",
       "    <tr>\n",
       "      <th id=\"T_65e17_level1_row8\" class=\"row_heading level1 row8\" >3</th>\n",
       "      <td id=\"T_65e17_row8_col0\" class=\"data row8 col0\" >ac874e051c3d4c6485cdfa827056db4b</td>\n",
       "      <td id=\"T_65e17_row8_col1\" class=\"data row8 col1\" >nan</td>\n",
       "    </tr>\n",
       "  </tbody>\n",
       "</table>\n"
      ],
      "text/plain": [
       "<pandas.io.formats.style.Styler at 0x2572374a190>"
      ]
     },
     "execution_count": 114,
     "metadata": {},
     "output_type": "execute_result"
    }
   ],
   "source": [
    "df_test"
   ]
  },
  {
   "cell_type": "code",
   "execution_count": 11,
   "metadata": {},
   "outputs": [],
   "source": [
    "import pandas as pd\n",
    "import openpyxl"
   ]
  },
  {
   "cell_type": "code",
   "execution_count": 12,
   "metadata": {},
   "outputs": [],
   "source": [
    "df2 = pd.DataFrame({\"c\": [3, 5], \"d\": [8, 9]})\n",
    "df3 = pd.DataFrame({\"c\": [9, 10], \"d\": [-1, -9]})  \n",
    "df4 = pd.DataFrame({\"a\": [1, 2], \"b\": [3, 4]})"
   ]
  },
  {
   "cell_type": "code",
   "execution_count": 8,
   "metadata": {},
   "outputs": [
    {
     "data": {
      "text/html": [
       "<div>\n",
       "<style scoped>\n",
       "    .dataframe tbody tr th:only-of-type {\n",
       "        vertical-align: middle;\n",
       "    }\n",
       "\n",
       "    .dataframe tbody tr th {\n",
       "        vertical-align: top;\n",
       "    }\n",
       "\n",
       "    .dataframe thead th {\n",
       "        text-align: right;\n",
       "    }\n",
       "</style>\n",
       "<table border=\"1\" class=\"dataframe\">\n",
       "  <thead>\n",
       "    <tr style=\"text-align: right;\">\n",
       "      <th></th>\n",
       "      <th>c</th>\n",
       "      <th>d</th>\n",
       "    </tr>\n",
       "  </thead>\n",
       "  <tbody>\n",
       "    <tr>\n",
       "      <th>0</th>\n",
       "      <td>3</td>\n",
       "      <td>8</td>\n",
       "    </tr>\n",
       "    <tr>\n",
       "      <th>1</th>\n",
       "      <td>5</td>\n",
       "      <td>9</td>\n",
       "    </tr>\n",
       "  </tbody>\n",
       "</table>\n",
       "</div>"
      ],
      "text/plain": [
       "   c  d\n",
       "0  3  8\n",
       "1  5  9"
      ]
     },
     "execution_count": 8,
     "metadata": {},
     "output_type": "execute_result"
    }
   ],
   "source": [
    "df2"
   ]
  },
  {
   "cell_type": "code",
   "execution_count": 16,
   "metadata": {},
   "outputs": [],
   "source": [
    "with pd.ExcelWriter('./Order_List7.xlsx', mode='w') as writer:\n",
    "    df2.to_excel(writer, index=False)"
   ]
  },
  {
   "cell_type": "code",
   "execution_count": 21,
   "metadata": {},
   "outputs": [],
   "source": [
    "with pd.ExcelWriter('./Order_List7.xlsx', mode=\"a\", if_sheet_exists=\"overlay\", engine='openpyxl') as writer:\n",
    "    df3.to_excel(writer, startrow = 1, header=False, index=False)\n",
    "#     df4.to_excel(writer, startrow = 1, header=False, index=False)"
   ]
  },
  {
   "cell_type": "code",
   "execution_count": 15,
   "metadata": {},
   "outputs": [
    {
     "data": {
      "text/plain": [
       "'1.4.2'"
      ]
     },
     "execution_count": 15,
     "metadata": {},
     "output_type": "execute_result"
    }
   ],
   "source": [
    "pd.__version__"
   ]
  },
  {
   "cell_type": "code",
   "execution_count": 101,
   "metadata": {},
   "outputs": [],
   "source": [
    "test_df['livve agent session ID from Xspace'] = 0"
   ]
  },
  {
   "cell_type": "code",
   "execution_count": 102,
   "metadata": {},
   "outputs": [
    {
     "data": {
      "text/html": [
       "<div>\n",
       "<style scoped>\n",
       "    .dataframe tbody tr th:only-of-type {\n",
       "        vertical-align: middle;\n",
       "    }\n",
       "\n",
       "    .dataframe tbody tr th {\n",
       "        vertical-align: top;\n",
       "    }\n",
       "\n",
       "    .dataframe thead th {\n",
       "        text-align: right;\n",
       "    }\n",
       "</style>\n",
       "<table border=\"1\" class=\"dataframe\">\n",
       "  <thead>\n",
       "    <tr style=\"text-align: right;\">\n",
       "      <th></th>\n",
       "      <th></th>\n",
       "      <th>live agent session ID from dataset</th>\n",
       "      <th>livve agent session ID from Xspace</th>\n",
       "    </tr>\n",
       "    <tr>\n",
       "      <th>Buyer ID</th>\n",
       "      <th>Serial</th>\n",
       "      <th></th>\n",
       "      <th></th>\n",
       "    </tr>\n",
       "  </thead>\n",
       "  <tbody>\n",
       "    <tr>\n",
       "      <th rowspan=\"3\" valign=\"top\">700036896929</th>\n",
       "      <th>1</th>\n",
       "      <td>96cd5f430a0d4a15bc89bff90a6c8b98</td>\n",
       "      <td>0</td>\n",
       "    </tr>\n",
       "    <tr>\n",
       "      <th>2</th>\n",
       "      <td>362f2bd99167468f8119c92e0b78049a</td>\n",
       "      <td>0</td>\n",
       "    </tr>\n",
       "    <tr>\n",
       "      <th>3</th>\n",
       "      <td>0736be77a45a4fc19f8087bb2ee0c22e</td>\n",
       "      <td>0</td>\n",
       "    </tr>\n",
       "    <tr>\n",
       "      <th rowspan=\"3\" valign=\"top\">700013847484</th>\n",
       "      <th>1</th>\n",
       "      <td>7b90aee393514336a890aca558bc9dba</td>\n",
       "      <td>0</td>\n",
       "    </tr>\n",
       "    <tr>\n",
       "      <th>2</th>\n",
       "      <td>6ae812b9a4b34f27912052871624210a</td>\n",
       "      <td>0</td>\n",
       "    </tr>\n",
       "    <tr>\n",
       "      <th>3</th>\n",
       "      <td>f02e4cd637cb4e50bafbe326943350ea</td>\n",
       "      <td>0</td>\n",
       "    </tr>\n",
       "    <tr>\n",
       "      <th rowspan=\"3\" valign=\"top\">258139</th>\n",
       "      <th>1</th>\n",
       "      <td>b77c92792fc14ed1b8a5683a2c5f32fb</td>\n",
       "      <td>0</td>\n",
       "    </tr>\n",
       "    <tr>\n",
       "      <th>2</th>\n",
       "      <td>e0682f60a85c40758c58e5ecb5901c8d</td>\n",
       "      <td>0</td>\n",
       "    </tr>\n",
       "    <tr>\n",
       "      <th>3</th>\n",
       "      <td>ac874e051c3d4c6485cdfa827056db4b</td>\n",
       "      <td>0</td>\n",
       "    </tr>\n",
       "  </tbody>\n",
       "</table>\n",
       "</div>"
      ],
      "text/plain": [
       "                    live agent session ID from dataset  \\\n",
       "Buyer ID     Serial                                      \n",
       "700036896929 1        96cd5f430a0d4a15bc89bff90a6c8b98   \n",
       "             2        362f2bd99167468f8119c92e0b78049a   \n",
       "             3        0736be77a45a4fc19f8087bb2ee0c22e   \n",
       "700013847484 1        7b90aee393514336a890aca558bc9dba   \n",
       "             2        6ae812b9a4b34f27912052871624210a   \n",
       "             3        f02e4cd637cb4e50bafbe326943350ea   \n",
       "258139       1        b77c92792fc14ed1b8a5683a2c5f32fb   \n",
       "             2        e0682f60a85c40758c58e5ecb5901c8d   \n",
       "             3        ac874e051c3d4c6485cdfa827056db4b   \n",
       "\n",
       "                     livve agent session ID from Xspace  \n",
       "Buyer ID     Serial                                      \n",
       "700036896929 1                                        0  \n",
       "             2                                        0  \n",
       "             3                                        0  \n",
       "700013847484 1                                        0  \n",
       "             2                                        0  \n",
       "             3                                        0  \n",
       "258139       1                                        0  \n",
       "             2                                        0  \n",
       "             3                                        0  "
      ]
     },
     "execution_count": 102,
     "metadata": {},
     "output_type": "execute_result"
    }
   ],
   "source": [
    "test_df"
   ]
  },
  {
   "cell_type": "code",
   "execution_count": 42,
   "metadata": {},
   "outputs": [],
   "source": [
    "# df_multi_level_cols2['live_agent_session_id_xspace'] = 0"
   ]
  },
  {
   "cell_type": "code",
   "execution_count": 84,
   "metadata": {},
   "outputs": [
    {
     "name": "stderr",
     "output_type": "stream",
     "text": [
      "C:\\Users\\Daraz\\AppData\\Local\\Temp/ipykernel_15136/3122490542.py:1: SettingWithCopyWarning: \n",
      "A value is trying to be set on a copy of a slice from a DataFrame\n",
      "\n",
      "See the caveats in the documentation: https://pandas.pydata.org/pandas-docs/stable/user_guide/indexing.html#returning-a-view-versus-a-copy\n",
      "  df_multi_level_cols2['live_agent_session_id_xspace'][('700028694726', '1')] = 24\n"
     ]
    }
   ],
   "source": [
    "# df_multi_level_cols2['live_agent_session_id_xspace'][('700028694726', '1')] = 24"
   ]
  },
  {
   "cell_type": "code",
   "execution_count": 86,
   "metadata": {},
   "outputs": [],
   "source": [
    "# xspace_id = ['3fb6c73c48fa4b2aaf55415c4eb1e35e', '6a57fb2e9c194cc0869fe1dbb332addb', '4eab8309d9dc4226980c1755472d484b', 'c988db218499450495931df84c7990ce']\n",
    "# found_id = ['6a57fb2e9c194cc0869fe1dbb332addb', '4eab8309d9dc4226980c1755472d484b', 'c988db218499450495931df84c7990ce']"
   ]
  },
  {
   "cell_type": "code",
   "execution_count": 114,
   "metadata": {},
   "outputs": [
    {
     "data": {
      "text/plain": [
       "0                               6a57fb2e9c194cc0869fe1dbb332addb\n",
       "live_agent_session_id_xspace                                   0\n",
       "Name: (700007031570, 1), dtype: object"
      ]
     },
     "execution_count": 114,
     "metadata": {},
     "output_type": "execute_result"
    }
   ],
   "source": [
    "# df_multi_level_cols2.loc['700007031570', '1']"
   ]
  },
  {
   "cell_type": "code",
   "execution_count": 121,
   "metadata": {},
   "outputs": [
    {
     "data": {
      "text/plain": [
       "Index([0, 'live_agent_session_id_xspace'], dtype='object')"
      ]
     },
     "execution_count": 121,
     "metadata": {},
     "output_type": "execute_result"
    }
   ],
   "source": [
    "# df_multi_level_cols2.columns"
   ]
  },
  {
   "cell_type": "code",
   "execution_count": 124,
   "metadata": {},
   "outputs": [
    {
     "name": "stderr",
     "output_type": "stream",
     "text": [
      "C:\\Users\\Daraz\\AppData\\Local\\Temp/ipykernel_15136/735362508.py:1: SettingWithCopyWarning: \n",
      "A value is trying to be set on a copy of a slice from a DataFrame\n",
      "\n",
      "See the caveats in the documentation: https://pandas.pydata.org/pandas-docs/stable/user_guide/indexing.html#returning-a-view-versus-a-copy\n",
      "  df_multi_level_cols2['live_agent_session_id_xspace']['700007031570', '1'] = 345\n"
     ]
    }
   ],
   "source": [
    "# df_multi_level_cols2['live_agent_session_id_xspace'].append()"
   ]
  },
  {
   "cell_type": "code",
   "execution_count": 118,
   "metadata": {},
   "outputs": [
    {
     "name": "stdout",
     "output_type": "stream",
     "text": [
      "6a57fb2e9c194cc0869fe1dbb332addb\n",
      "4eab8309d9dc4226980c1755472d484b\n",
      "c988db218499450495931df84c7990ce\n"
     ]
    }
   ],
   "source": [
    "# for i in range(1, (len(df_multi_level_cols2.loc['700007031570']) + 1)):\n",
    "\n",
    "#     j = str(i)\n",
    "\n",
    "#     x = df_multi_level_cols2.loc['700007031570', j]\n",
    "    \n",
    "#     if x[0] in xspace_id:\n",
    "\n",
    "#         df_multi_level_cols2['live_agent_session_id_xspace']['700007031570', j] = x[0]\n",
    "    \n",
    "#     else:\n",
    "\n",
    "\n",
    "# def f(x):\n",
    "#     return x.append(pd.DataFrame('', columns=df.columns, index=[(x.name, '')]))\n",
    "\n",
    "\n",
    "# def f(x):\n",
    "#     x.loc[('', ''), :] = ''\n",
    "#     return x"
   ]
  },
  {
   "cell_type": "code",
   "execution_count": 103,
   "metadata": {},
   "outputs": [
    {
     "name": "stdout",
     "output_type": "stream",
     "text": [
      "label: 0\n",
      "content: Buyer ID      Serial\n",
      "700028694726  1         10a39bc84f36450c828161a8db07d662\n",
      "              2         7463be00303446ab920ebd57428160e3\n",
      "              3         49368689282546d189bf0a312312f5fe\n",
      "700023282820  1         9ed6d483bc77463bb82efb425cf80de6\n",
      "              2         c3eeeb05e4354a298c379a0cb1b4bdd0\n",
      "              3         b09b3a8496754b548aff8855eab31179\n",
      "700013847484  1         7b90aee393514336a890aca558bc9dba\n",
      "              2         6ae812b9a4b34f27912052871624210a\n",
      "              3         f02e4cd637cb4e50bafbe326943350ea\n",
      "700007031570  1         6a57fb2e9c194cc0869fe1dbb332addb\n",
      "              2         4eab8309d9dc4226980c1755472d484b\n",
      "              3         c988db218499450495931df84c7990ce\n",
      "1489794       1         5815f9ff18434ceba16dc44bab7fbfaa\n",
      "              2         c339844b3feb424799523d91e044bbeb\n",
      "              3         b041459fc2664832a4a938d8bef50419\n",
      "Name: 0, dtype: object\n",
      "label: live_agent_session_id_xspace\n",
      "content: Buyer ID      Serial\n",
      "700028694726  1         24\n",
      "              2          0\n",
      "              3          0\n",
      "700023282820  1          0\n",
      "              2          0\n",
      "              3          0\n",
      "700013847484  1          0\n",
      "              2          0\n",
      "              3          0\n",
      "700007031570  1          0\n",
      "              2          0\n",
      "              3          0\n",
      "1489794       1          0\n",
      "              2          0\n",
      "              3          0\n",
      "Name: live_agent_session_id_xspace, dtype: int64\n"
     ]
    }
   ],
   "source": [
    "# for label, content in df_multi_level_cols2.items():\n",
    "#     print(f'label: {label}')\n",
    "#     print(f'content: {content}', sep='\\n')"
   ]
  },
  {
   "cell_type": "code",
   "execution_count": 85,
   "metadata": {},
   "outputs": [
    {
     "data": {
      "text/html": [
       "<div>\n",
       "<style scoped>\n",
       "    .dataframe tbody tr th:only-of-type {\n",
       "        vertical-align: middle;\n",
       "    }\n",
       "\n",
       "    .dataframe tbody tr th {\n",
       "        vertical-align: top;\n",
       "    }\n",
       "\n",
       "    .dataframe thead th {\n",
       "        text-align: right;\n",
       "    }\n",
       "</style>\n",
       "<table border=\"1\" class=\"dataframe\">\n",
       "  <thead>\n",
       "    <tr style=\"text-align: right;\">\n",
       "      <th></th>\n",
       "      <th></th>\n",
       "      <th>0</th>\n",
       "      <th>live_agent_session_id_xspace</th>\n",
       "    </tr>\n",
       "    <tr>\n",
       "      <th>Buyer ID</th>\n",
       "      <th>Serial</th>\n",
       "      <th></th>\n",
       "      <th></th>\n",
       "    </tr>\n",
       "  </thead>\n",
       "  <tbody>\n",
       "    <tr>\n",
       "      <th rowspan=\"3\" valign=\"top\">700028694726</th>\n",
       "      <th>1</th>\n",
       "      <td>10a39bc84f36450c828161a8db07d662</td>\n",
       "      <td>24</td>\n",
       "    </tr>\n",
       "    <tr>\n",
       "      <th>2</th>\n",
       "      <td>7463be00303446ab920ebd57428160e3</td>\n",
       "      <td>0</td>\n",
       "    </tr>\n",
       "    <tr>\n",
       "      <th>3</th>\n",
       "      <td>49368689282546d189bf0a312312f5fe</td>\n",
       "      <td>0</td>\n",
       "    </tr>\n",
       "    <tr>\n",
       "      <th rowspan=\"3\" valign=\"top\">700023282820</th>\n",
       "      <th>1</th>\n",
       "      <td>9ed6d483bc77463bb82efb425cf80de6</td>\n",
       "      <td>0</td>\n",
       "    </tr>\n",
       "    <tr>\n",
       "      <th>2</th>\n",
       "      <td>c3eeeb05e4354a298c379a0cb1b4bdd0</td>\n",
       "      <td>0</td>\n",
       "    </tr>\n",
       "    <tr>\n",
       "      <th>3</th>\n",
       "      <td>b09b3a8496754b548aff8855eab31179</td>\n",
       "      <td>0</td>\n",
       "    </tr>\n",
       "    <tr>\n",
       "      <th rowspan=\"3\" valign=\"top\">700013847484</th>\n",
       "      <th>1</th>\n",
       "      <td>7b90aee393514336a890aca558bc9dba</td>\n",
       "      <td>0</td>\n",
       "    </tr>\n",
       "    <tr>\n",
       "      <th>2</th>\n",
       "      <td>6ae812b9a4b34f27912052871624210a</td>\n",
       "      <td>0</td>\n",
       "    </tr>\n",
       "    <tr>\n",
       "      <th>3</th>\n",
       "      <td>f02e4cd637cb4e50bafbe326943350ea</td>\n",
       "      <td>0</td>\n",
       "    </tr>\n",
       "    <tr>\n",
       "      <th rowspan=\"3\" valign=\"top\">700007031570</th>\n",
       "      <th>1</th>\n",
       "      <td>6a57fb2e9c194cc0869fe1dbb332addb</td>\n",
       "      <td>0</td>\n",
       "    </tr>\n",
       "    <tr>\n",
       "      <th>2</th>\n",
       "      <td>4eab8309d9dc4226980c1755472d484b</td>\n",
       "      <td>0</td>\n",
       "    </tr>\n",
       "    <tr>\n",
       "      <th>3</th>\n",
       "      <td>c988db218499450495931df84c7990ce</td>\n",
       "      <td>0</td>\n",
       "    </tr>\n",
       "    <tr>\n",
       "      <th rowspan=\"3\" valign=\"top\">1489794</th>\n",
       "      <th>1</th>\n",
       "      <td>5815f9ff18434ceba16dc44bab7fbfaa</td>\n",
       "      <td>0</td>\n",
       "    </tr>\n",
       "    <tr>\n",
       "      <th>2</th>\n",
       "      <td>c339844b3feb424799523d91e044bbeb</td>\n",
       "      <td>0</td>\n",
       "    </tr>\n",
       "    <tr>\n",
       "      <th>3</th>\n",
       "      <td>b041459fc2664832a4a938d8bef50419</td>\n",
       "      <td>0</td>\n",
       "    </tr>\n",
       "  </tbody>\n",
       "</table>\n",
       "</div>"
      ],
      "text/plain": [
       "                                                    0  \\\n",
       "Buyer ID     Serial                                     \n",
       "700028694726 1       10a39bc84f36450c828161a8db07d662   \n",
       "             2       7463be00303446ab920ebd57428160e3   \n",
       "             3       49368689282546d189bf0a312312f5fe   \n",
       "700023282820 1       9ed6d483bc77463bb82efb425cf80de6   \n",
       "             2       c3eeeb05e4354a298c379a0cb1b4bdd0   \n",
       "             3       b09b3a8496754b548aff8855eab31179   \n",
       "700013847484 1       7b90aee393514336a890aca558bc9dba   \n",
       "             2       6ae812b9a4b34f27912052871624210a   \n",
       "             3       f02e4cd637cb4e50bafbe326943350ea   \n",
       "700007031570 1       6a57fb2e9c194cc0869fe1dbb332addb   \n",
       "             2       4eab8309d9dc4226980c1755472d484b   \n",
       "             3       c988db218499450495931df84c7990ce   \n",
       "1489794      1       5815f9ff18434ceba16dc44bab7fbfaa   \n",
       "             2       c339844b3feb424799523d91e044bbeb   \n",
       "             3       b041459fc2664832a4a938d8bef50419   \n",
       "\n",
       "                     live_agent_session_id_xspace  \n",
       "Buyer ID     Serial                                \n",
       "700028694726 1                                 24  \n",
       "             2                                  0  \n",
       "             3                                  0  \n",
       "700023282820 1                                  0  \n",
       "             2                                  0  \n",
       "             3                                  0  \n",
       "700013847484 1                                  0  \n",
       "             2                                  0  \n",
       "             3                                  0  \n",
       "700007031570 1                                  0  \n",
       "             2                                  0  \n",
       "             3                                  0  \n",
       "1489794      1                                  0  \n",
       "             2                                  0  \n",
       "             3                                  0  "
      ]
     },
     "execution_count": 85,
     "metadata": {},
     "output_type": "execute_result"
    }
   ],
   "source": [
    "# df_multi_level_cols2"
   ]
  },
  {
   "cell_type": "code",
   "execution_count": 71,
   "metadata": {},
   "outputs": [
    {
     "name": "stdout",
     "output_type": "stream",
     "text": [
      "<pandas.core.groupby.generic.DataFrameGroupBy object at 0x000001791A4D5340>\n"
     ]
    }
   ],
   "source": [
    "# print(df_multi_level_cols2.groupby(level=0))"
   ]
  },
  {
   "cell_type": "code",
   "execution_count": 77,
   "metadata": {},
   "outputs": [
    {
     "name": "stdout",
     "output_type": "stream",
     "text": [
      "10a39bc84f36450c828161a8db07d662\n",
      "7463be00303446ab920ebd57428160e3\n",
      "49368689282546d189bf0a312312f5fe\n",
      "9ed6d483bc77463bb82efb425cf80de6\n",
      "c3eeeb05e4354a298c379a0cb1b4bdd0\n",
      "b09b3a8496754b548aff8855eab31179\n",
      "7b90aee393514336a890aca558bc9dba\n",
      "6ae812b9a4b34f27912052871624210a\n",
      "f02e4cd637cb4e50bafbe326943350ea\n",
      "6a57fb2e9c194cc0869fe1dbb332addb\n",
      "4eab8309d9dc4226980c1755472d484b\n",
      "c988db218499450495931df84c7990ce\n",
      "5815f9ff18434ceba16dc44bab7fbfaa\n",
      "c339844b3feb424799523d91e044bbeb\n",
      "b041459fc2664832a4a938d8bef50419\n"
     ]
    }
   ],
   "source": [
    "# # for i, j in enumerate(df_multi_level_cols2['live_agent_session_id_xspace']):\n",
    "# for i, j in enumerate(df_multi_level_cols2[0]):\n",
    "\n",
    "#     print(j)"
   ]
  },
  {
   "cell_type": "code",
   "execution_count": 52,
   "metadata": {},
   "outputs": [
    {
     "data": {
      "text/plain": [
       "'7463be00303446ab920ebd57428160e3'"
      ]
     },
     "execution_count": 52,
     "metadata": {},
     "output_type": "execute_result"
    }
   ],
   "source": [
    "# df_multi_level_cols2[0][('700028694726','2')]"
   ]
  },
  {
   "cell_type": "code",
   "execution_count": null,
   "metadata": {},
   "outputs": [],
   "source": [
    "# def returns_missing_index(comparared_list, a_list):\n",
    "\n",
    "#     for index, element in enumerate(comparared_list):\n",
    "        \n",
    "#         if element not in a_list:\n",
    "            \n",
    "#             a_list.insert(index, np.NaN)\n",
    "\n",
    "#     return a_list"
   ]
  },
  {
   "cell_type": "code",
   "execution_count": 115,
   "metadata": {},
   "outputs": [
    {
     "data": {
      "text/plain": [
       "0                               c988db218499450495931df84c7990ce\n",
       "live_agent_session_id_xspace                                   0\n",
       "Name: (700007031570, 3), dtype: object"
      ]
     },
     "execution_count": 115,
     "metadata": {},
     "output_type": "execute_result"
    }
   ],
   "source": [
    "# df_multi_level_cols2.loc['700007031570', '3']\n",
    "# # df_multi_level_cols2.loc['700007031570', '1']"
   ]
  },
  {
   "cell_type": "code",
   "execution_count": 79,
   "metadata": {},
   "outputs": [
    {
     "data": {
      "text/html": [
       "<div>\n",
       "<style scoped>\n",
       "    .dataframe tbody tr th:only-of-type {\n",
       "        vertical-align: middle;\n",
       "    }\n",
       "\n",
       "    .dataframe tbody tr th {\n",
       "        vertical-align: top;\n",
       "    }\n",
       "\n",
       "    .dataframe thead th {\n",
       "        text-align: right;\n",
       "    }\n",
       "</style>\n",
       "<table border=\"1\" class=\"dataframe\">\n",
       "  <thead>\n",
       "    <tr style=\"text-align: right;\">\n",
       "      <th></th>\n",
       "      <th></th>\n",
       "      <th>0</th>\n",
       "      <th>live_agent_session_id</th>\n",
       "      <th>live_agent_session_id_xspace</th>\n",
       "    </tr>\n",
       "    <tr>\n",
       "      <th>Buyer ID</th>\n",
       "      <th>Serial</th>\n",
       "      <th></th>\n",
       "      <th></th>\n",
       "      <th></th>\n",
       "    </tr>\n",
       "  </thead>\n",
       "  <tbody>\n",
       "    <tr>\n",
       "      <th rowspan=\"3\" valign=\"top\">700042152726</th>\n",
       "      <th>1</th>\n",
       "      <td>783a0dd8c39c443689bf549c4cbb3805</td>\n",
       "      <td>0</td>\n",
       "      <td>0</td>\n",
       "    </tr>\n",
       "    <tr>\n",
       "      <th>2</th>\n",
       "      <td>356fec2fb3a441f093b1adfcd52fbc04</td>\n",
       "      <td>0</td>\n",
       "      <td>0</td>\n",
       "    </tr>\n",
       "    <tr>\n",
       "      <th>3</th>\n",
       "      <td>84f48c796bba4b508c6ff25997a7b156</td>\n",
       "      <td>0</td>\n",
       "      <td>0</td>\n",
       "    </tr>\n",
       "    <tr>\n",
       "      <th rowspan=\"3\" valign=\"top\">700032693392</th>\n",
       "      <th>1</th>\n",
       "      <td>1c10077fd20a45e5ae1b59f7fcad9e85</td>\n",
       "      <td>0</td>\n",
       "      <td>0</td>\n",
       "    </tr>\n",
       "    <tr>\n",
       "      <th>2</th>\n",
       "      <td>cc30f58116c84245b0aee60d11a5b7a9</td>\n",
       "      <td>0</td>\n",
       "      <td>0</td>\n",
       "    </tr>\n",
       "    <tr>\n",
       "      <th>3</th>\n",
       "      <td>121ff38a9aa04b1d8e8cd7c896da94c6</td>\n",
       "      <td>0</td>\n",
       "      <td>0</td>\n",
       "    </tr>\n",
       "    <tr>\n",
       "      <th rowspan=\"3\" valign=\"top\">700028892173</th>\n",
       "      <th>1</th>\n",
       "      <td>78f3206f5f944cd3af7532d6a405cd88</td>\n",
       "      <td>0</td>\n",
       "      <td>0</td>\n",
       "    </tr>\n",
       "    <tr>\n",
       "      <th>2</th>\n",
       "      <td>faa6d7ffe6d8430785f1d178deeee8a6</td>\n",
       "      <td>0</td>\n",
       "      <td>0</td>\n",
       "    </tr>\n",
       "    <tr>\n",
       "      <th>3</th>\n",
       "      <td>812f3fdc17b740feafd30e0b19b9520e</td>\n",
       "      <td>0</td>\n",
       "      <td>0</td>\n",
       "    </tr>\n",
       "    <tr>\n",
       "      <th rowspan=\"3\" valign=\"top\">700022271225</th>\n",
       "      <th>1</th>\n",
       "      <td>786d4ebef31547e89068d98f4fa30a7a</td>\n",
       "      <td>0</td>\n",
       "      <td>0</td>\n",
       "    </tr>\n",
       "    <tr>\n",
       "      <th>2</th>\n",
       "      <td>9d0b6a49ee0f4dca8abd9cd5dc206509</td>\n",
       "      <td>0</td>\n",
       "      <td>0</td>\n",
       "    </tr>\n",
       "    <tr>\n",
       "      <th>3</th>\n",
       "      <td>0c091a5fb45d47e487aa5a58d27396f0</td>\n",
       "      <td>0</td>\n",
       "      <td>0</td>\n",
       "    </tr>\n",
       "    <tr>\n",
       "      <th rowspan=\"3\" valign=\"top\">700019748651</th>\n",
       "      <th>1</th>\n",
       "      <td>6ebe1e398e4848c7b872e1132ba1488d</td>\n",
       "      <td>0</td>\n",
       "      <td>0</td>\n",
       "    </tr>\n",
       "    <tr>\n",
       "      <th>2</th>\n",
       "      <td>10361ca2117d467ca5adc793c0d44326</td>\n",
       "      <td>0</td>\n",
       "      <td>0</td>\n",
       "    </tr>\n",
       "    <tr>\n",
       "      <th>3</th>\n",
       "      <td>067d1c0d71744e35a7df71a02f3297f3</td>\n",
       "      <td>0</td>\n",
       "      <td>0</td>\n",
       "    </tr>\n",
       "  </tbody>\n",
       "</table>\n",
       "</div>"
      ],
      "text/plain": [
       "                                                    0  live_agent_session_id  \\\n",
       "Buyer ID     Serial                                                            \n",
       "700042152726 1       783a0dd8c39c443689bf549c4cbb3805                      0   \n",
       "             2       356fec2fb3a441f093b1adfcd52fbc04                      0   \n",
       "             3       84f48c796bba4b508c6ff25997a7b156                      0   \n",
       "700032693392 1       1c10077fd20a45e5ae1b59f7fcad9e85                      0   \n",
       "             2       cc30f58116c84245b0aee60d11a5b7a9                      0   \n",
       "             3       121ff38a9aa04b1d8e8cd7c896da94c6                      0   \n",
       "700028892173 1       78f3206f5f944cd3af7532d6a405cd88                      0   \n",
       "             2       faa6d7ffe6d8430785f1d178deeee8a6                      0   \n",
       "             3       812f3fdc17b740feafd30e0b19b9520e                      0   \n",
       "700022271225 1       786d4ebef31547e89068d98f4fa30a7a                      0   \n",
       "             2       9d0b6a49ee0f4dca8abd9cd5dc206509                      0   \n",
       "             3       0c091a5fb45d47e487aa5a58d27396f0                      0   \n",
       "700019748651 1       6ebe1e398e4848c7b872e1132ba1488d                      0   \n",
       "             2       10361ca2117d467ca5adc793c0d44326                      0   \n",
       "             3       067d1c0d71744e35a7df71a02f3297f3                      0   \n",
       "\n",
       "                     live_agent_session_id_xspace  \n",
       "Buyer ID     Serial                                \n",
       "700042152726 1                                  0  \n",
       "             2                                  0  \n",
       "             3                                  0  \n",
       "700032693392 1                                  0  \n",
       "             2                                  0  \n",
       "             3                                  0  \n",
       "700028892173 1                                  0  \n",
       "             2                                  0  \n",
       "             3                                  0  \n",
       "700022271225 1                                  0  \n",
       "             2                                  0  \n",
       "             3                                  0  \n",
       "700019748651 1                                  0  \n",
       "             2                                  0  \n",
       "             3                                  0  "
      ]
     },
     "execution_count": 79,
     "metadata": {},
     "output_type": "execute_result"
    }
   ],
   "source": [
    "# df_multi_level_cols2"
   ]
  },
  {
   "cell_type": "code",
   "execution_count": 242,
   "metadata": {},
   "outputs": [],
   "source": [
    "# a = UNIQUE_sample_sorted['Seller id (X-space)'].to_list()\n",
    "# b = UNIQUE_sample_sorted['Seller id (X-space)'].to_list()"
   ]
  },
  {
   "cell_type": "code",
   "execution_count": null,
   "metadata": {},
   "outputs": [],
   "source": []
  },
  {
   "cell_type": "code",
   "execution_count": 255,
   "metadata": {},
   "outputs": [
    {
     "name": "stdout",
     "output_type": "stream",
     "text": [
      "['apple', nan, 'strawberry', 'mango']\n"
     ]
    }
   ],
   "source": [
    "# def returns_missing_index(comparared_list, a_list):\n",
    "\n",
    "#     for index, element in enumerate(comparared_list):\n",
    "        \n",
    "#         if element not in a_list:\n",
    "            \n",
    "#             a_list.insert(index, np.NaN)\n",
    "\n",
    "#     return a_list"
   ]
  },
  {
   "cell_type": "code",
   "execution_count": 77,
   "metadata": {},
   "outputs": [],
   "source": [
    "# multicol2 = pd.MultiIndex.from_tuples([('weight', 'kg'),\n",
    "#                                        ('height', 'm')])\n"
   ]
  },
  {
   "cell_type": "code",
   "execution_count": 78,
   "metadata": {},
   "outputs": [],
   "source": [
    "# df_multi_level_cols2 = pd.DataFrame([[2.0, 3.0], [4.0, 5.0]],\n",
    "#                                     index=['deer', 'monkey'],\n",
    "#                                     columns=multicol2)"
   ]
  },
  {
   "cell_type": "code",
   "execution_count": 79,
   "metadata": {},
   "outputs": [
    {
     "data": {
      "text/html": [
       "<div>\n",
       "<style scoped>\n",
       "    .dataframe tbody tr th:only-of-type {\n",
       "        vertical-align: middle;\n",
       "    }\n",
       "\n",
       "    .dataframe tbody tr th {\n",
       "        vertical-align: top;\n",
       "    }\n",
       "\n",
       "    .dataframe thead th {\n",
       "        text-align: right;\n",
       "    }\n",
       "</style>\n",
       "<table border=\"1\" class=\"dataframe\">\n",
       "  <thead>\n",
       "    <tr style=\"text-align: right;\">\n",
       "      <th></th>\n",
       "      <th></th>\n",
       "      <th>height</th>\n",
       "      <th>weight</th>\n",
       "    </tr>\n",
       "  </thead>\n",
       "  <tbody>\n",
       "    <tr>\n",
       "      <th rowspan=\"2\" valign=\"top\">deer</th>\n",
       "      <th>kg</th>\n",
       "      <td>NaN</td>\n",
       "      <td>2.0</td>\n",
       "    </tr>\n",
       "    <tr>\n",
       "      <th>m</th>\n",
       "      <td>3.0</td>\n",
       "      <td>NaN</td>\n",
       "    </tr>\n",
       "    <tr>\n",
       "      <th rowspan=\"2\" valign=\"top\">monkey</th>\n",
       "      <th>kg</th>\n",
       "      <td>NaN</td>\n",
       "      <td>4.0</td>\n",
       "    </tr>\n",
       "    <tr>\n",
       "      <th>m</th>\n",
       "      <td>5.0</td>\n",
       "      <td>NaN</td>\n",
       "    </tr>\n",
       "  </tbody>\n",
       "</table>\n",
       "</div>"
      ],
      "text/plain": [
       "           height  weight\n",
       "deer   kg     NaN     2.0\n",
       "       m      3.0     NaN\n",
       "monkey kg     NaN     4.0\n",
       "       m      5.0     NaN"
      ]
     },
     "execution_count": 79,
     "metadata": {},
     "output_type": "execute_result"
    }
   ],
   "source": [
    "# df_multi_level_cols2.stack()"
   ]
  },
  {
   "cell_type": "code",
   "execution_count": null,
   "metadata": {},
   "outputs": [],
   "source": [
    "# a = ['1', '2']\n",
    "# b = ['2', '4', '5']\n",
    "\n",
    "# set(b) - set(a)\n",
    "# set(a) & set(b)\n",
    "# [i for i, j in zip(a, b) if i == j]\n",
    "# s = [None] *  10\n",
    "# s[0] = 1\n",
    "\n",
    "\n",
    "# def double_index(lst, index):\n",
    "#   try:\n",
    "#     lst[index] = lst[index] * 2\n",
    "#   except IndexError:\n",
    "#     return lst"
   ]
  },
  {
   "cell_type": "code",
   "execution_count": 258,
   "metadata": {},
   "outputs": [],
   "source": [
    "# lst = [ ] \n",
    "# n = int(input(\"Enter number of elements : \")) \n",
    "  \n",
    "# for i in range(0, n): \n",
    "#     ele = [input(), int(input())] \n",
    "#     lst.append(ele) \n",
    "      \n",
    "# print(lst)"
   ]
  },
  {
   "cell_type": "code",
   "execution_count": null,
   "metadata": {},
   "outputs": [],
   "source": [
    "# # number of elements \n",
    "# n = int(input(\"Enter number of elements : \")) \n",
    "  \n",
    "# # Below line read inputs from user using map() function  \n",
    "# a = list(map(int,input(\"\\nEnter the numbers : \").strip().split()))[:n] \n",
    "  \n",
    "# print(\"\\nList is - \", a)"
   ]
  },
  {
   "cell_type": "code",
   "execution_count": 17,
   "metadata": {},
   "outputs": [],
   "source": [
    "# agent_session_id = []\n",
    "\n",
    "# while True:\n",
    "\n",
    "#     an_input = input('Enter the X-Space live agent session ID! (Press q to quit):')\n",
    "\n",
    "#     agent_session_id.append(an_input)\n",
    "\n",
    "#     if 'q' in an_input:\n",
    "\n",
    "#         break\n"
   ]
  },
  {
   "cell_type": "code",
   "execution_count": 18,
   "metadata": {},
   "outputs": [
    {
     "data": {
      "text/plain": [
       "['fsdlhlskdf', 'sdlkjlhsdfljsdf', '8239flsskhlkfsd', 'sdlkjlkjf23lk', 'q']"
      ]
     },
     "execution_count": 18,
     "metadata": {},
     "output_type": "execute_result"
    }
   ],
   "source": [
    "# agent_session_id"
   ]
  },
  {
   "cell_type": "code",
   "execution_count": 15,
   "metadata": {},
   "outputs": [],
   "source": [
    "# show = input('Enter the X-Space live agent session ID! (Press q to quit):')"
   ]
  },
  {
   "cell_type": "code",
   "execution_count": 16,
   "metadata": {},
   "outputs": [
    {
     "data": {
      "text/plain": [
       "'1'"
      ]
     },
     "execution_count": 16,
     "metadata": {},
     "output_type": "execute_result"
    }
   ],
   "source": [
    "# show"
   ]
  },
  {
   "cell_type": "code",
   "execution_count": 129,
   "metadata": {},
   "outputs": [
    {
     "data": {
      "text/html": [
       "<div>\n",
       "<style scoped>\n",
       "    .dataframe tbody tr th:only-of-type {\n",
       "        vertical-align: middle;\n",
       "    }\n",
       "\n",
       "    .dataframe tbody tr th {\n",
       "        vertical-align: top;\n",
       "    }\n",
       "\n",
       "    .dataframe thead th {\n",
       "        text-align: right;\n",
       "    }\n",
       "</style>\n",
       "<table border=\"1\" class=\"dataframe\">\n",
       "  <thead>\n",
       "    <tr style=\"text-align: right;\">\n",
       "      <th></th>\n",
       "      <th>Create Date</th>\n",
       "      <th>tenant_name</th>\n",
       "      <th>robot_code</th>\n",
       "      <th>robot_name</th>\n",
       "      <th>from_id</th>\n",
       "      <th>from_name</th>\n",
       "      <th>Session_id</th>\n",
       "      <th>Intention</th>\n",
       "      <th>user_id</th>\n",
       "      <th>Seller id (X-space)</th>\n",
       "      <th>...</th>\n",
       "      <th>Feedback Card Response</th>\n",
       "      <th>is_chat_recommend</th>\n",
       "      <th>is_chat_no answer</th>\n",
       "      <th>is_chat_pre/post match</th>\n",
       "      <th>live agent_session_id</th>\n",
       "      <th>Last Query Before Live Agent Session</th>\n",
       "      <th>Live Agent User Query</th>\n",
       "      <th>Live Agent Response</th>\n",
       "      <th>Feedback Type</th>\n",
       "      <th>Unsatisfied Reason</th>\n",
       "    </tr>\n",
       "  </thead>\n",
       "  <tbody>\n",
       "    <tr>\n",
       "      <th>0</th>\n",
       "      <td>2022-05-28 00:00:00</td>\n",
       "      <td>Alime-DRZ-CC-BD</td>\n",
       "      <td>l2Cgc9psxK</td>\n",
       "      <td>BD-Daz-EN</td>\n",
       "      <td>V3EasrtOgs</td>\n",
       "      <td>BD-Daz-EN-HC-App</td>\n",
       "      <td>0123f9623b6444369df512399738c36a</td>\n",
       "      <td>route_daraz_liveagent</td>\n",
       "      <td>2101100071711721</td>\n",
       "      <td>700043568806</td>\n",
       "      <td>...</td>\n",
       "      <td>NaN</td>\n",
       "      <td>N</td>\n",
       "      <td>N</td>\n",
       "      <td>N</td>\n",
       "      <td>6e463e7d5ce440ceb086b768e4279f78</td>\n",
       "      <td>Connecting to Agent</td>\n",
       "      <td>Ok|||Cashback কি আছে এখনো|||Bkash Offer কি শেষ...</td>\n",
       "      <td>আর কোনভাবে সহযোগিতা করতে পারি কি, স্যার?  |||H...</td>\n",
       "      <td>NaN</td>\n",
       "      <td>NaN</td>\n",
       "    </tr>\n",
       "    <tr>\n",
       "      <th>1</th>\n",
       "      <td>2022-05-28 00:00:00</td>\n",
       "      <td>Alime-DRZ-CC-BD</td>\n",
       "      <td>l2Cgc9psxK</td>\n",
       "      <td>BD-Daz-EN</td>\n",
       "      <td>V3EasrtOgs</td>\n",
       "      <td>BD-Daz-EN-HC-App</td>\n",
       "      <td>084ee3892bab49c3a1b44fadd76e99cb</td>\n",
       "      <td>NaN</td>\n",
       "      <td>2101100019507815</td>\n",
       "      <td>1590113</td>\n",
       "      <td>...</td>\n",
       "      <td>Unsatisfied</td>\n",
       "      <td>N</td>\n",
       "      <td>N</td>\n",
       "      <td>N</td>\n",
       "      <td>e3b5f1083dc7408d8ac5bdc1a79d8483</td>\n",
       "      <td>627684246890113</td>\n",
       "      <td>26 tarik otp paisi|||Welcome|||Amar product de...</td>\n",
       "      <td>Dhonnobad sir|||Sir apnar OTP ki peyechen ?|||...</td>\n",
       "      <td>UNSATISFIED</td>\n",
       "      <td>Too many words to read</td>\n",
       "    </tr>\n",
       "    <tr>\n",
       "      <th>2</th>\n",
       "      <td>2022-05-28 00:00:00</td>\n",
       "      <td>Alime-DRZ-CC-BD</td>\n",
       "      <td>l2Cgc9psxK</td>\n",
       "      <td>BD-Daz-EN</td>\n",
       "      <td>V3EasrtOgs</td>\n",
       "      <td>BD-Daz-EN-HC-App</td>\n",
       "      <td>08d61d8ff65048cba96e833cf4f827e2</td>\n",
       "      <td>NaN</td>\n",
       "      <td>2101100060181723</td>\n",
       "      <td>700034547227</td>\n",
       "      <td>...</td>\n",
       "      <td>NaN</td>\n",
       "      <td>N</td>\n",
       "      <td>N</td>\n",
       "      <td>Y</td>\n",
       "      <td>3fe04b55c78b4c5eb3f84353b6939c23</td>\n",
       "      <td>Live agent</td>\n",
       "      <td>কোন লোকেশনে আছে|||এখন কি ওয়ারহাউজে?|||আজ/কাল প...</td>\n",
       "      <td>Welcome to Daraz Bangladesh. Hope you are doin...</td>\n",
       "      <td>NaN</td>\n",
       "      <td>NaN</td>\n",
       "    </tr>\n",
       "    <tr>\n",
       "      <th>3</th>\n",
       "      <td>2022-05-28 00:00:00</td>\n",
       "      <td>Alime-DRZ-CC-BD</td>\n",
       "      <td>l2Cgc9psxK</td>\n",
       "      <td>BD-Daz-EN</td>\n",
       "      <td>V3EasrtOgs</td>\n",
       "      <td>BD-Daz-EN-HC-App</td>\n",
       "      <td>09c9a727aff548c9924bc913f461c462</td>\n",
       "      <td>route_daraz_liveagent</td>\n",
       "      <td>2101100081674223</td>\n",
       "      <td>700025157222</td>\n",
       "      <td>...</td>\n",
       "      <td>NaN</td>\n",
       "      <td>N</td>\n",
       "      <td>N</td>\n",
       "      <td>N</td>\n",
       "      <td>5304a48c357847c18498da4894301289</td>\n",
       "      <td>Agent with chet now</td>\n",
       "      <td>*pari|||Hello😇|||Ji amar 2ti account |||But on...</td>\n",
       "      <td>Apni ki ekti device e ektir beshi daraz accoun...</td>\n",
       "      <td>NaN</td>\n",
       "      <td>NaN</td>\n",
       "    </tr>\n",
       "    <tr>\n",
       "      <th>4</th>\n",
       "      <td>2022-05-28 00:00:00</td>\n",
       "      <td>Alime-DRZ-CC-BD</td>\n",
       "      <td>l2Cgc9psxK</td>\n",
       "      <td>BD-Daz-EN</td>\n",
       "      <td>V3EasrtOgs</td>\n",
       "      <td>BD-Daz-EN-HC-App</td>\n",
       "      <td>11bfdedd3e5d4f7cb4a1db58e2044c81</td>\n",
       "      <td>NaN</td>\n",
       "      <td>2101100036459313</td>\n",
       "      <td>1825541</td>\n",
       "      <td>...</td>\n",
       "      <td>NaN</td>\n",
       "      <td>N</td>\n",
       "      <td>N</td>\n",
       "      <td>Y</td>\n",
       "      <td>bfb1aa52d9834411a457a9f2ba5e2137</td>\n",
       "      <td>Cashback</td>\n",
       "      <td>J kono electronic products order korlei ki bka...</td>\n",
       "      <td>\"10 % instant cashback bkash payment er khetre...</td>\n",
       "      <td>NaN</td>\n",
       "      <td>NaN</td>\n",
       "    </tr>\n",
       "    <tr>\n",
       "      <th>...</th>\n",
       "      <td>...</td>\n",
       "      <td>...</td>\n",
       "      <td>...</td>\n",
       "      <td>...</td>\n",
       "      <td>...</td>\n",
       "      <td>...</td>\n",
       "      <td>...</td>\n",
       "      <td>...</td>\n",
       "      <td>...</td>\n",
       "      <td>...</td>\n",
       "      <td>...</td>\n",
       "      <td>...</td>\n",
       "      <td>...</td>\n",
       "      <td>...</td>\n",
       "      <td>...</td>\n",
       "      <td>...</td>\n",
       "      <td>...</td>\n",
       "      <td>...</td>\n",
       "      <td>...</td>\n",
       "      <td>...</td>\n",
       "      <td>...</td>\n",
       "    </tr>\n",
       "    <tr>\n",
       "      <th>1568</th>\n",
       "      <td>2022-05-28 00:00:00</td>\n",
       "      <td>Alime-DRZ-CC-BD</td>\n",
       "      <td>l2Cgc9psxK</td>\n",
       "      <td>BD-Daz-EN</td>\n",
       "      <td>V3EasrtOgs</td>\n",
       "      <td>BD-Daz-EN-HC-App</td>\n",
       "      <td>6de90bfeef40437784ce13a64d02564b</td>\n",
       "      <td>NaN</td>\n",
       "      <td>2101100067050004</td>\n",
       "      <td>1032129</td>\n",
       "      <td>...</td>\n",
       "      <td>NaN</td>\n",
       "      <td>N</td>\n",
       "      <td>N</td>\n",
       "      <td>Y</td>\n",
       "      <td>0e60951269824d5c8db173da48056373</td>\n",
       "      <td>শালার পুত</td>\n",
       "      <td>first attempt failed dekhaise ken? Ajke appoin...</td>\n",
       "      <td>Many products are processed for delivery by th...</td>\n",
       "      <td>NaN</td>\n",
       "      <td>NaN</td>\n",
       "    </tr>\n",
       "    <tr>\n",
       "      <th>1569</th>\n",
       "      <td>2022-05-28 00:00:00</td>\n",
       "      <td>Alime-DRZ-CC-BD</td>\n",
       "      <td>l2Cgc9psxK</td>\n",
       "      <td>BD-Daz-EN</td>\n",
       "      <td>V3EasrtOgs</td>\n",
       "      <td>BD-Daz-EN-HC-App</td>\n",
       "      <td>6eab20c4ec4143d5b16abd93730ec791</td>\n",
       "      <td>route_daraz_liveagent</td>\n",
       "      <td>2101100081602110</td>\n",
       "      <td>700516125128</td>\n",
       "      <td>...</td>\n",
       "      <td>NaN</td>\n",
       "      <td>N</td>\n",
       "      <td>N</td>\n",
       "      <td>N</td>\n",
       "      <td>c10b72dd0cb84e93921f7edabbab78e5</td>\n",
       "      <td>Live kotha bolbo</td>\n",
       "      <td>NaN</td>\n",
       "      <td>Our warmest welcome from Daraz! Hope you are e...</td>\n",
       "      <td>NaN</td>\n",
       "      <td>NaN</td>\n",
       "    </tr>\n",
       "    <tr>\n",
       "      <th>1570</th>\n",
       "      <td>2022-05-28 00:00:00</td>\n",
       "      <td>Alime-DRZ-CC-BD</td>\n",
       "      <td>l2Cgc9psxK</td>\n",
       "      <td>BD-Daz-EN</td>\n",
       "      <td>0zKpjMUW7x</td>\n",
       "      <td>BD-Daz-EN-HC-Web</td>\n",
       "      <td>6ef0a9a2753948e0972fce0b8c7c81d9</td>\n",
       "      <td>route_daraz_others</td>\n",
       "      <td>2101100082129804</td>\n",
       "      <td>700515741606</td>\n",
       "      <td>...</td>\n",
       "      <td>NaN</td>\n",
       "      <td>N</td>\n",
       "      <td>N</td>\n",
       "      <td>N</td>\n",
       "      <td>664b555ca8a44000bff17ef233535916</td>\n",
       "      <td>How long is the refund process</td>\n",
       "      <td>&lt;img src='https://alime-customer-upload-lazada...</td>\n",
       "      <td>Wish you enjoy this lovely day. I'm from Daraz...</td>\n",
       "      <td>NaN</td>\n",
       "      <td>NaN</td>\n",
       "    </tr>\n",
       "    <tr>\n",
       "      <th>1571</th>\n",
       "      <td>2022-05-28 00:00:00</td>\n",
       "      <td>Alime-DRZ-CC-BD</td>\n",
       "      <td>l2Cgc9psxK</td>\n",
       "      <td>BD-Daz-EN</td>\n",
       "      <td>V3EasrtOgs</td>\n",
       "      <td>BD-Daz-EN-HC-App</td>\n",
       "      <td>73e9d09582af4745b4fccd4250548da7</td>\n",
       "      <td>route_daraz_others</td>\n",
       "      <td>2101100053125561</td>\n",
       "      <td>700000936088</td>\n",
       "      <td>...</td>\n",
       "      <td>NaN</td>\n",
       "      <td>N</td>\n",
       "      <td>N</td>\n",
       "      <td>Y</td>\n",
       "      <td>4967ad125978464494b89cf16662bcaa</td>\n",
       "      <td>An agent</td>\n",
       "      <td>订单号:627795702536088|||订单号:627795702536088</td>\n",
       "      <td>Welcome to Daraz Bangladesh. Hope you are doin...</td>\n",
       "      <td>NaN</td>\n",
       "      <td>NaN</td>\n",
       "    </tr>\n",
       "    <tr>\n",
       "      <th>1572</th>\n",
       "      <td>2022-05-28 00:00:00</td>\n",
       "      <td>Alime-DRZ-CC-BD</td>\n",
       "      <td>l2Cgc9psxK</td>\n",
       "      <td>BD-Daz-EN</td>\n",
       "      <td>V3EasrtOgs</td>\n",
       "      <td>BD-Daz-EN-HC-App</td>\n",
       "      <td>1c8144d55d4d4c75af5b88814d10b0ad</td>\n",
       "      <td>NaN</td>\n",
       "      <td>2101100045453840</td>\n",
       "      <td>700014843562</td>\n",
       "      <td>...</td>\n",
       "      <td>NaN</td>\n",
       "      <td>N</td>\n",
       "      <td>N</td>\n",
       "      <td>Y</td>\n",
       "      <td>4730d44bf1514aea929b129e43bb7f4b</td>\n",
       "      <td>Live agent</td>\n",
       "      <td>&lt;img src='https://alime-customer-upload-lazada...</td>\n",
       "      <td>dukhkhito sir bishoytir jonno|||bishoyti obosh...</td>\n",
       "      <td>NaN</td>\n",
       "      <td>NaN</td>\n",
       "    </tr>\n",
       "  </tbody>\n",
       "</table>\n",
       "<p>1573 rows × 42 columns</p>\n",
       "</div>"
      ],
      "text/plain": [
       "              Create Date      tenant_name  robot_code robot_name     from_id  \\\n",
       "0     2022-05-28 00:00:00  Alime-DRZ-CC-BD  l2Cgc9psxK  BD-Daz-EN  V3EasrtOgs   \n",
       "1     2022-05-28 00:00:00  Alime-DRZ-CC-BD  l2Cgc9psxK  BD-Daz-EN  V3EasrtOgs   \n",
       "2     2022-05-28 00:00:00  Alime-DRZ-CC-BD  l2Cgc9psxK  BD-Daz-EN  V3EasrtOgs   \n",
       "3     2022-05-28 00:00:00  Alime-DRZ-CC-BD  l2Cgc9psxK  BD-Daz-EN  V3EasrtOgs   \n",
       "4     2022-05-28 00:00:00  Alime-DRZ-CC-BD  l2Cgc9psxK  BD-Daz-EN  V3EasrtOgs   \n",
       "...                   ...              ...         ...        ...         ...   \n",
       "1568  2022-05-28 00:00:00  Alime-DRZ-CC-BD  l2Cgc9psxK  BD-Daz-EN  V3EasrtOgs   \n",
       "1569  2022-05-28 00:00:00  Alime-DRZ-CC-BD  l2Cgc9psxK  BD-Daz-EN  V3EasrtOgs   \n",
       "1570  2022-05-28 00:00:00  Alime-DRZ-CC-BD  l2Cgc9psxK  BD-Daz-EN  0zKpjMUW7x   \n",
       "1571  2022-05-28 00:00:00  Alime-DRZ-CC-BD  l2Cgc9psxK  BD-Daz-EN  V3EasrtOgs   \n",
       "1572  2022-05-28 00:00:00  Alime-DRZ-CC-BD  l2Cgc9psxK  BD-Daz-EN  V3EasrtOgs   \n",
       "\n",
       "             from_name                        Session_id  \\\n",
       "0     BD-Daz-EN-HC-App  0123f9623b6444369df512399738c36a   \n",
       "1     BD-Daz-EN-HC-App  084ee3892bab49c3a1b44fadd76e99cb   \n",
       "2     BD-Daz-EN-HC-App  08d61d8ff65048cba96e833cf4f827e2   \n",
       "3     BD-Daz-EN-HC-App  09c9a727aff548c9924bc913f461c462   \n",
       "4     BD-Daz-EN-HC-App  11bfdedd3e5d4f7cb4a1db58e2044c81   \n",
       "...                ...                               ...   \n",
       "1568  BD-Daz-EN-HC-App  6de90bfeef40437784ce13a64d02564b   \n",
       "1569  BD-Daz-EN-HC-App  6eab20c4ec4143d5b16abd93730ec791   \n",
       "1570  BD-Daz-EN-HC-Web  6ef0a9a2753948e0972fce0b8c7c81d9   \n",
       "1571  BD-Daz-EN-HC-App  73e9d09582af4745b4fccd4250548da7   \n",
       "1572  BD-Daz-EN-HC-App  1c8144d55d4d4c75af5b88814d10b0ad   \n",
       "\n",
       "                  Intention           user_id Seller id (X-space)  ...  \\\n",
       "0     route_daraz_liveagent  2101100071711721        700043568806  ...   \n",
       "1                       NaN  2101100019507815             1590113  ...   \n",
       "2                       NaN  2101100060181723        700034547227  ...   \n",
       "3     route_daraz_liveagent  2101100081674223        700025157222  ...   \n",
       "4                       NaN  2101100036459313             1825541  ...   \n",
       "...                     ...               ...                 ...  ...   \n",
       "1568                    NaN  2101100067050004             1032129  ...   \n",
       "1569  route_daraz_liveagent  2101100081602110        700516125128  ...   \n",
       "1570     route_daraz_others  2101100082129804        700515741606  ...   \n",
       "1571     route_daraz_others  2101100053125561        700000936088  ...   \n",
       "1572                    NaN  2101100045453840        700014843562  ...   \n",
       "\n",
       "     Feedback Card Response is_chat_recommend is_chat_no answer  \\\n",
       "0                       NaN                 N                 N   \n",
       "1               Unsatisfied                 N                 N   \n",
       "2                       NaN                 N                 N   \n",
       "3                       NaN                 N                 N   \n",
       "4                       NaN                 N                 N   \n",
       "...                     ...               ...               ...   \n",
       "1568                    NaN                 N                 N   \n",
       "1569                    NaN                 N                 N   \n",
       "1570                    NaN                 N                 N   \n",
       "1571                    NaN                 N                 N   \n",
       "1572                    NaN                 N                 N   \n",
       "\n",
       "     is_chat_pre/post match             live agent_session_id  \\\n",
       "0                         N  6e463e7d5ce440ceb086b768e4279f78   \n",
       "1                         N  e3b5f1083dc7408d8ac5bdc1a79d8483   \n",
       "2                         Y  3fe04b55c78b4c5eb3f84353b6939c23   \n",
       "3                         N  5304a48c357847c18498da4894301289   \n",
       "4                         Y  bfb1aa52d9834411a457a9f2ba5e2137   \n",
       "...                     ...                               ...   \n",
       "1568                      Y  0e60951269824d5c8db173da48056373   \n",
       "1569                      N  c10b72dd0cb84e93921f7edabbab78e5   \n",
       "1570                      N  664b555ca8a44000bff17ef233535916   \n",
       "1571                      Y  4967ad125978464494b89cf16662bcaa   \n",
       "1572                      Y  4730d44bf1514aea929b129e43bb7f4b   \n",
       "\n",
       "     Last Query Before Live Agent Session  \\\n",
       "0                     Connecting to Agent   \n",
       "1                         627684246890113   \n",
       "2                              Live agent   \n",
       "3                     Agent with chet now   \n",
       "4                                Cashback   \n",
       "...                                   ...   \n",
       "1568                            শালার পুত   \n",
       "1569                     Live kotha bolbo   \n",
       "1570       How long is the refund process   \n",
       "1571                             An agent   \n",
       "1572                           Live agent   \n",
       "\n",
       "                                  Live Agent User Query  \\\n",
       "0     Ok|||Cashback কি আছে এখনো|||Bkash Offer কি শেষ...   \n",
       "1     26 tarik otp paisi|||Welcome|||Amar product de...   \n",
       "2     কোন লোকেশনে আছে|||এখন কি ওয়ারহাউজে?|||আজ/কাল প...   \n",
       "3     *pari|||Hello😇|||Ji amar 2ti account |||But on...   \n",
       "4     J kono electronic products order korlei ki bka...   \n",
       "...                                                 ...   \n",
       "1568  first attempt failed dekhaise ken? Ajke appoin...   \n",
       "1569                                                NaN   \n",
       "1570  <img src='https://alime-customer-upload-lazada...   \n",
       "1571          订单号:627795702536088|||订单号:627795702536088   \n",
       "1572  <img src='https://alime-customer-upload-lazada...   \n",
       "\n",
       "                                    Live Agent Response  Feedback Type  \\\n",
       "0     আর কোনভাবে সহযোগিতা করতে পারি কি, স্যার?  |||H...            NaN   \n",
       "1     Dhonnobad sir|||Sir apnar OTP ki peyechen ?|||...    UNSATISFIED   \n",
       "2     Welcome to Daraz Bangladesh. Hope you are doin...            NaN   \n",
       "3     Apni ki ekti device e ektir beshi daraz accoun...            NaN   \n",
       "4     \"10 % instant cashback bkash payment er khetre...            NaN   \n",
       "...                                                 ...            ...   \n",
       "1568  Many products are processed for delivery by th...            NaN   \n",
       "1569  Our warmest welcome from Daraz! Hope you are e...            NaN   \n",
       "1570  Wish you enjoy this lovely day. I'm from Daraz...            NaN   \n",
       "1571  Welcome to Daraz Bangladesh. Hope you are doin...            NaN   \n",
       "1572  dukhkhito sir bishoytir jonno|||bishoyti obosh...            NaN   \n",
       "\n",
       "          Unsatisfied Reason  \n",
       "0                        NaN  \n",
       "1     Too many words to read  \n",
       "2                        NaN  \n",
       "3                        NaN  \n",
       "4                        NaN  \n",
       "...                      ...  \n",
       "1568                     NaN  \n",
       "1569                     NaN  \n",
       "1570                     NaN  \n",
       "1571                     NaN  \n",
       "1572                     NaN  \n",
       "\n",
       "[1573 rows x 42 columns]"
      ]
     },
     "execution_count": 129,
     "metadata": {},
     "output_type": "execute_result"
    }
   ],
   "source": [
    "# UNIQUE_NOTNA_DF_NO_DUPLICATES['']"
   ]
  },
  {
   "cell_type": "code",
   "execution_count": 130,
   "metadata": {},
   "outputs": [],
   "source": [
    "# df = pd.DataFrame({'Date':['10/2/2011', '12/2/2011', '13/2/2011', '14/2/2011'],\n",
    "#                     'Event':['Music', 'Poetry', 'Theatre', 'Comedy'],\n",
    "#                     'Cost':[10000, 5000, 15000, 2000]})\n",
    " "
   ]
  },
  {
   "cell_type": "code",
   "execution_count": 131,
   "metadata": {},
   "outputs": [
    {
     "data": {
      "text/html": [
       "<div>\n",
       "<style scoped>\n",
       "    .dataframe tbody tr th:only-of-type {\n",
       "        vertical-align: middle;\n",
       "    }\n",
       "\n",
       "    .dataframe tbody tr th {\n",
       "        vertical-align: top;\n",
       "    }\n",
       "\n",
       "    .dataframe thead th {\n",
       "        text-align: right;\n",
       "    }\n",
       "</style>\n",
       "<table border=\"1\" class=\"dataframe\">\n",
       "  <thead>\n",
       "    <tr style=\"text-align: right;\">\n",
       "      <th></th>\n",
       "      <th>Date</th>\n",
       "      <th>Event</th>\n",
       "      <th>Cost</th>\n",
       "    </tr>\n",
       "  </thead>\n",
       "  <tbody>\n",
       "    <tr>\n",
       "      <th>0</th>\n",
       "      <td>10/2/2011</td>\n",
       "      <td>Music</td>\n",
       "      <td>10000</td>\n",
       "    </tr>\n",
       "    <tr>\n",
       "      <th>1</th>\n",
       "      <td>12/2/2011</td>\n",
       "      <td>Poetry</td>\n",
       "      <td>5000</td>\n",
       "    </tr>\n",
       "    <tr>\n",
       "      <th>2</th>\n",
       "      <td>13/2/2011</td>\n",
       "      <td>Theatre</td>\n",
       "      <td>15000</td>\n",
       "    </tr>\n",
       "    <tr>\n",
       "      <th>3</th>\n",
       "      <td>14/2/2011</td>\n",
       "      <td>Comedy</td>\n",
       "      <td>2000</td>\n",
       "    </tr>\n",
       "  </tbody>\n",
       "</table>\n",
       "</div>"
      ],
      "text/plain": [
       "        Date    Event   Cost\n",
       "0  10/2/2011    Music  10000\n",
       "1  12/2/2011   Poetry   5000\n",
       "2  13/2/2011  Theatre  15000\n",
       "3  14/2/2011   Comedy   2000"
      ]
     },
     "execution_count": 131,
     "metadata": {},
     "output_type": "execute_result"
    }
   ],
   "source": [
    "df"
   ]
  },
  {
   "cell_type": "code",
   "execution_count": 38,
   "metadata": {},
   "outputs": [],
   "source": [
    "# Function to insert row in the dataframe\n",
    "\n"
   ]
  },
  {
   "cell_type": "code",
   "execution_count": 150,
   "metadata": {},
   "outputs": [
    {
     "name": "stdout",
     "output_type": "stream",
     "text": [
      "        Date      Event     Cost\n",
      "0  10/2/2011      Music  10000.0\n",
      "1  12/2/2011     Poetry   5000.0\n",
      "2        NaN        NaN  15500.0\n",
      "3  14/3/2015     Boxing  15500.0\n",
      "4  11/2/2011  Wrestling  12000.0\n",
      "5        NaN        NaN  12000.0\n",
      "6  13/2/2011    Theatre  15000.0\n",
      "7  14/2/2011     Comedy   2000.0\n"
     ]
    }
   ],
   "source": [
    "# row_number = 5\n",
    "# row_value = [np.nan, np.nan, 12000]\n",
    "\n",
    "# if row_number > df.index.max()+1:\n",
    "# \tprint(\"Invalid row_number\")\n",
    "# else:\n",
    "\t\n",
    "# \t# Let's call the function and insert the row\n",
    "# \t# at the second position\n",
    "# \tdf = insert_row(row_number, df, row_value)\n",
    "\n",
    "# \t# Print the updated dataframe\n",
    "# \tprint(df)"
   ]
  },
  {
   "cell_type": "code",
   "execution_count": 255,
   "metadata": {},
   "outputs": [],
   "source": [
    "# row_number = 1\n",
    "# row_value = [np.nan, np.nan, np.nan]\n",
    "\n",
    "\n",
    "# df = insert_row(row_number, df, row_value)"
   ]
  },
  {
   "cell_type": "code",
   "execution_count": 256,
   "metadata": {},
   "outputs": [
    {
     "data": {
      "text/html": [
       "<div>\n",
       "<style scoped>\n",
       "    .dataframe tbody tr th:only-of-type {\n",
       "        vertical-align: middle;\n",
       "    }\n",
       "\n",
       "    .dataframe tbody tr th {\n",
       "        vertical-align: top;\n",
       "    }\n",
       "\n",
       "    .dataframe thead th {\n",
       "        text-align: right;\n",
       "    }\n",
       "</style>\n",
       "<table border=\"1\" class=\"dataframe\">\n",
       "  <thead>\n",
       "    <tr style=\"text-align: right;\">\n",
       "      <th></th>\n",
       "      <th>Date</th>\n",
       "      <th>Event</th>\n",
       "      <th>Cost</th>\n",
       "    </tr>\n",
       "  </thead>\n",
       "  <tbody>\n",
       "    <tr>\n",
       "      <th>0</th>\n",
       "      <td>10/2/2011</td>\n",
       "      <td>Music</td>\n",
       "      <td>10000.0</td>\n",
       "    </tr>\n",
       "    <tr>\n",
       "      <th>1</th>\n",
       "      <td>NaN</td>\n",
       "      <td>NaN</td>\n",
       "      <td>NaN</td>\n",
       "    </tr>\n",
       "    <tr>\n",
       "      <th>2</th>\n",
       "      <td>12/2/2011</td>\n",
       "      <td>Poetry</td>\n",
       "      <td>5000.0</td>\n",
       "    </tr>\n",
       "    <tr>\n",
       "      <th>3</th>\n",
       "      <td>NaN</td>\n",
       "      <td>NaN</td>\n",
       "      <td>15500.0</td>\n",
       "    </tr>\n",
       "    <tr>\n",
       "      <th>4</th>\n",
       "      <td>NaN</td>\n",
       "      <td>NaN</td>\n",
       "      <td>15500.0</td>\n",
       "    </tr>\n",
       "    <tr>\n",
       "      <th>5</th>\n",
       "      <td>14/3/2015</td>\n",
       "      <td>Boxing</td>\n",
       "      <td>15500.0</td>\n",
       "    </tr>\n",
       "    <tr>\n",
       "      <th>6</th>\n",
       "      <td>11/2/2011</td>\n",
       "      <td>Wrestling</td>\n",
       "      <td>12000.0</td>\n",
       "    </tr>\n",
       "    <tr>\n",
       "      <th>7</th>\n",
       "      <td>NaN</td>\n",
       "      <td>NaN</td>\n",
       "      <td>12000.0</td>\n",
       "    </tr>\n",
       "    <tr>\n",
       "      <th>8</th>\n",
       "      <td>13/2/2011</td>\n",
       "      <td>Theatre</td>\n",
       "      <td>15000.0</td>\n",
       "    </tr>\n",
       "    <tr>\n",
       "      <th>9</th>\n",
       "      <td>14/2/2011</td>\n",
       "      <td>Comedy</td>\n",
       "      <td>2000.0</td>\n",
       "    </tr>\n",
       "  </tbody>\n",
       "</table>\n",
       "</div>"
      ],
      "text/plain": [
       "        Date      Event     Cost\n",
       "0  10/2/2011      Music  10000.0\n",
       "1        NaN        NaN      NaN\n",
       "2  12/2/2011     Poetry   5000.0\n",
       "3        NaN        NaN  15500.0\n",
       "4        NaN        NaN  15500.0\n",
       "5  14/3/2015     Boxing  15500.0\n",
       "6  11/2/2011  Wrestling  12000.0\n",
       "7        NaN        NaN  12000.0\n",
       "8  13/2/2011    Theatre  15000.0\n",
       "9  14/2/2011     Comedy   2000.0"
      ]
     },
     "execution_count": 256,
     "metadata": {},
     "output_type": "execute_result"
    }
   ],
   "source": [
    "# df"
   ]
  },
  {
   "cell_type": "code",
   "execution_count": 234,
   "metadata": {},
   "outputs": [],
   "source": [
    "# UNIQUE_sample_sorted['live_agent_session_id_from_xspace'] = 0"
   ]
  },
  {
   "cell_type": "code",
   "execution_count": 157,
   "metadata": {},
   "outputs": [
    {
     "data": {
      "text/html": [
       "<div>\n",
       "<style scoped>\n",
       "    .dataframe tbody tr th:only-of-type {\n",
       "        vertical-align: middle;\n",
       "    }\n",
       "\n",
       "    .dataframe tbody tr th {\n",
       "        vertical-align: top;\n",
       "    }\n",
       "\n",
       "    .dataframe thead th {\n",
       "        text-align: right;\n",
       "    }\n",
       "</style>\n",
       "<table border=\"1\" class=\"dataframe\">\n",
       "  <thead>\n",
       "    <tr style=\"text-align: right;\">\n",
       "      <th></th>\n",
       "      <th>index</th>\n",
       "      <th>Seller id (X-space)</th>\n",
       "      <th>live agent_session_id</th>\n",
       "      <th>live_agent_session_id_from_xspace</th>\n",
       "    </tr>\n",
       "  </thead>\n",
       "  <tbody>\n",
       "    <tr>\n",
       "      <th>0</th>\n",
       "      <td>1</td>\n",
       "      <td>700028694726</td>\n",
       "      <td>10a39bc84f36450c828161a8db07d662</td>\n",
       "      <td>0</td>\n",
       "    </tr>\n",
       "    <tr>\n",
       "      <th>1</th>\n",
       "      <td>2</td>\n",
       "      <td>700028694726</td>\n",
       "      <td>7463be00303446ab920ebd57428160e3</td>\n",
       "      <td>0</td>\n",
       "    </tr>\n",
       "    <tr>\n",
       "      <th>2</th>\n",
       "      <td>3</td>\n",
       "      <td>700028694726</td>\n",
       "      <td>49368689282546d189bf0a312312f5fe</td>\n",
       "      <td>0</td>\n",
       "    </tr>\n",
       "    <tr>\n",
       "      <th>3</th>\n",
       "      <td>1</td>\n",
       "      <td>700023282820</td>\n",
       "      <td>9ed6d483bc77463bb82efb425cf80de6</td>\n",
       "      <td>0</td>\n",
       "    </tr>\n",
       "    <tr>\n",
       "      <th>4</th>\n",
       "      <td>2</td>\n",
       "      <td>700023282820</td>\n",
       "      <td>c3eeeb05e4354a298c379a0cb1b4bdd0</td>\n",
       "      <td>0</td>\n",
       "    </tr>\n",
       "    <tr>\n",
       "      <th>5</th>\n",
       "      <td>3</td>\n",
       "      <td>700023282820</td>\n",
       "      <td>b09b3a8496754b548aff8855eab31179</td>\n",
       "      <td>0</td>\n",
       "    </tr>\n",
       "    <tr>\n",
       "      <th>6</th>\n",
       "      <td>1</td>\n",
       "      <td>700013847484</td>\n",
       "      <td>7b90aee393514336a890aca558bc9dba</td>\n",
       "      <td>0</td>\n",
       "    </tr>\n",
       "    <tr>\n",
       "      <th>7</th>\n",
       "      <td>2</td>\n",
       "      <td>700013847484</td>\n",
       "      <td>6ae812b9a4b34f27912052871624210a</td>\n",
       "      <td>0</td>\n",
       "    </tr>\n",
       "    <tr>\n",
       "      <th>8</th>\n",
       "      <td>3</td>\n",
       "      <td>700013847484</td>\n",
       "      <td>f02e4cd637cb4e50bafbe326943350ea</td>\n",
       "      <td>0</td>\n",
       "    </tr>\n",
       "    <tr>\n",
       "      <th>9</th>\n",
       "      <td>1</td>\n",
       "      <td>700007031570</td>\n",
       "      <td>6a57fb2e9c194cc0869fe1dbb332addb</td>\n",
       "      <td>0</td>\n",
       "    </tr>\n",
       "    <tr>\n",
       "      <th>10</th>\n",
       "      <td>2</td>\n",
       "      <td>700007031570</td>\n",
       "      <td>4eab8309d9dc4226980c1755472d484b</td>\n",
       "      <td>0</td>\n",
       "    </tr>\n",
       "    <tr>\n",
       "      <th>11</th>\n",
       "      <td>3</td>\n",
       "      <td>700007031570</td>\n",
       "      <td>c988db218499450495931df84c7990ce</td>\n",
       "      <td>0</td>\n",
       "    </tr>\n",
       "    <tr>\n",
       "      <th>12</th>\n",
       "      <td>1</td>\n",
       "      <td>1489794</td>\n",
       "      <td>5815f9ff18434ceba16dc44bab7fbfaa</td>\n",
       "      <td>0</td>\n",
       "    </tr>\n",
       "    <tr>\n",
       "      <th>13</th>\n",
       "      <td>2</td>\n",
       "      <td>1489794</td>\n",
       "      <td>c339844b3feb424799523d91e044bbeb</td>\n",
       "      <td>0</td>\n",
       "    </tr>\n",
       "    <tr>\n",
       "      <th>14</th>\n",
       "      <td>3</td>\n",
       "      <td>1489794</td>\n",
       "      <td>b041459fc2664832a4a938d8bef50419</td>\n",
       "      <td>0</td>\n",
       "    </tr>\n",
       "  </tbody>\n",
       "</table>\n",
       "</div>"
      ],
      "text/plain": [
       "   index Seller id (X-space)             live agent_session_id  \\\n",
       "0      1        700028694726  10a39bc84f36450c828161a8db07d662   \n",
       "1      2        700028694726  7463be00303446ab920ebd57428160e3   \n",
       "2      3        700028694726  49368689282546d189bf0a312312f5fe   \n",
       "3      1        700023282820  9ed6d483bc77463bb82efb425cf80de6   \n",
       "4      2        700023282820  c3eeeb05e4354a298c379a0cb1b4bdd0   \n",
       "5      3        700023282820  b09b3a8496754b548aff8855eab31179   \n",
       "6      1        700013847484  7b90aee393514336a890aca558bc9dba   \n",
       "7      2        700013847484  6ae812b9a4b34f27912052871624210a   \n",
       "8      3        700013847484  f02e4cd637cb4e50bafbe326943350ea   \n",
       "9      1        700007031570  6a57fb2e9c194cc0869fe1dbb332addb   \n",
       "10     2        700007031570  4eab8309d9dc4226980c1755472d484b   \n",
       "11     3        700007031570  c988db218499450495931df84c7990ce   \n",
       "12     1             1489794  5815f9ff18434ceba16dc44bab7fbfaa   \n",
       "13     2             1489794  c339844b3feb424799523d91e044bbeb   \n",
       "14     3             1489794  b041459fc2664832a4a938d8bef50419   \n",
       "\n",
       "    live_agent_session_id_from_xspace  \n",
       "0                                   0  \n",
       "1                                   0  \n",
       "2                                   0  \n",
       "3                                   0  \n",
       "4                                   0  \n",
       "5                                   0  \n",
       "6                                   0  \n",
       "7                                   0  \n",
       "8                                   0  \n",
       "9                                   0  \n",
       "10                                  0  \n",
       "11                                  0  \n",
       "12                                  0  \n",
       "13                                  0  \n",
       "14                                  0  "
      ]
     },
     "execution_count": 157,
     "metadata": {},
     "output_type": "execute_result"
    }
   ],
   "source": [
    "UNIQUE_sample_sorted"
   ]
  },
  {
   "cell_type": "code",
   "execution_count": 149,
   "metadata": {},
   "outputs": [
    {
     "data": {
      "text/plain": [
       "43"
      ]
     },
     "execution_count": 149,
     "metadata": {},
     "output_type": "execute_result"
    }
   ],
   "source": [
    "# row_to_insert = [np.nan]*(UNIQUE_NOTNA_DF_NO_DUPLICATES.shape[1] - 1)\n",
    "# row_to_insert.append('')"
   ]
  },
  {
   "cell_type": "code",
   "execution_count": 160,
   "metadata": {},
   "outputs": [],
   "source": [
    "# UNIQUE_sample.reset_index(inplace=True)"
   ]
  },
  {
   "cell_type": "code",
   "execution_count": 162,
   "metadata": {},
   "outputs": [],
   "source": [
    "# UNIQUE_sample['index'] = 0"
   ]
  },
  {
   "cell_type": "code",
   "execution_count": 37,
   "metadata": {},
   "outputs": [
    {
     "data": {
      "text/html": [
       "<div>\n",
       "<style scoped>\n",
       "    .dataframe tbody tr th:only-of-type {\n",
       "        vertical-align: middle;\n",
       "    }\n",
       "\n",
       "    .dataframe tbody tr th {\n",
       "        vertical-align: top;\n",
       "    }\n",
       "\n",
       "    .dataframe thead th {\n",
       "        text-align: right;\n",
       "    }\n",
       "</style>\n",
       "<table border=\"1\" class=\"dataframe\">\n",
       "  <thead>\n",
       "    <tr style=\"text-align: right;\">\n",
       "      <th></th>\n",
       "      <th>index</th>\n",
       "      <th>Seller id (X-space)</th>\n",
       "      <th>live agent_session_id</th>\n",
       "    </tr>\n",
       "  </thead>\n",
       "  <tbody>\n",
       "    <tr>\n",
       "      <th>0</th>\n",
       "      <td>0</td>\n",
       "      <td>700028892173</td>\n",
       "      <td>78f3206f5f944cd3af7532d6a405cd88</td>\n",
       "    </tr>\n",
       "    <tr>\n",
       "      <th>1</th>\n",
       "      <td>0</td>\n",
       "      <td>700028892173</td>\n",
       "      <td>faa6d7ffe6d8430785f1d178deeee8a6</td>\n",
       "    </tr>\n",
       "    <tr>\n",
       "      <th>2</th>\n",
       "      <td>0</td>\n",
       "      <td>700028892173</td>\n",
       "      <td>812f3fdc17b740feafd30e0b19b9520e</td>\n",
       "    </tr>\n",
       "    <tr>\n",
       "      <th>3</th>\n",
       "      <td>0</td>\n",
       "      <td>700028694726</td>\n",
       "      <td>10a39bc84f36450c828161a8db07d662</td>\n",
       "    </tr>\n",
       "    <tr>\n",
       "      <th>4</th>\n",
       "      <td>0</td>\n",
       "      <td>700028694726</td>\n",
       "      <td>7463be00303446ab920ebd57428160e3</td>\n",
       "    </tr>\n",
       "    <tr>\n",
       "      <th>5</th>\n",
       "      <td>0</td>\n",
       "      <td>700028694726</td>\n",
       "      <td>49368689282546d189bf0a312312f5fe</td>\n",
       "    </tr>\n",
       "    <tr>\n",
       "      <th>6</th>\n",
       "      <td>0</td>\n",
       "      <td>700023282820</td>\n",
       "      <td>9ed6d483bc77463bb82efb425cf80de6</td>\n",
       "    </tr>\n",
       "    <tr>\n",
       "      <th>7</th>\n",
       "      <td>0</td>\n",
       "      <td>700023282820</td>\n",
       "      <td>c3eeeb05e4354a298c379a0cb1b4bdd0</td>\n",
       "    </tr>\n",
       "    <tr>\n",
       "      <th>8</th>\n",
       "      <td>0</td>\n",
       "      <td>700023282820</td>\n",
       "      <td>b09b3a8496754b548aff8855eab31179</td>\n",
       "    </tr>\n",
       "    <tr>\n",
       "      <th>9</th>\n",
       "      <td>0</td>\n",
       "      <td>700000594210</td>\n",
       "      <td>b137f40612fe45ac81722dd6911fd8b6</td>\n",
       "    </tr>\n",
       "    <tr>\n",
       "      <th>10</th>\n",
       "      <td>0</td>\n",
       "      <td>700000594210</td>\n",
       "      <td>37eb1fd8a7b140fb8de0dc642c615a1e</td>\n",
       "    </tr>\n",
       "    <tr>\n",
       "      <th>11</th>\n",
       "      <td>0</td>\n",
       "      <td>700000594210</td>\n",
       "      <td>dffa071f37034ca0b9c5a5a5e09780a9</td>\n",
       "    </tr>\n",
       "    <tr>\n",
       "      <th>12</th>\n",
       "      <td>0</td>\n",
       "      <td>270011</td>\n",
       "      <td>b8d46cf437604828a6f814e226a34114</td>\n",
       "    </tr>\n",
       "    <tr>\n",
       "      <th>13</th>\n",
       "      <td>0</td>\n",
       "      <td>270011</td>\n",
       "      <td>3d020bbb065849898af67db014544b66</td>\n",
       "    </tr>\n",
       "    <tr>\n",
       "      <th>14</th>\n",
       "      <td>0</td>\n",
       "      <td>270011</td>\n",
       "      <td>d32f6709699c4f64ad786e7642c4928b</td>\n",
       "    </tr>\n",
       "  </tbody>\n",
       "</table>\n",
       "</div>"
      ],
      "text/plain": [
       "    index Seller id (X-space)             live agent_session_id\n",
       "0       0        700028892173  78f3206f5f944cd3af7532d6a405cd88\n",
       "1       0        700028892173  faa6d7ffe6d8430785f1d178deeee8a6\n",
       "2       0        700028892173  812f3fdc17b740feafd30e0b19b9520e\n",
       "3       0        700028694726  10a39bc84f36450c828161a8db07d662\n",
       "4       0        700028694726  7463be00303446ab920ebd57428160e3\n",
       "5       0        700028694726  49368689282546d189bf0a312312f5fe\n",
       "6       0        700023282820  9ed6d483bc77463bb82efb425cf80de6\n",
       "7       0        700023282820  c3eeeb05e4354a298c379a0cb1b4bdd0\n",
       "8       0        700023282820  b09b3a8496754b548aff8855eab31179\n",
       "9       0        700000594210  b137f40612fe45ac81722dd6911fd8b6\n",
       "10      0        700000594210  37eb1fd8a7b140fb8de0dc642c615a1e\n",
       "11      0        700000594210  dffa071f37034ca0b9c5a5a5e09780a9\n",
       "12      0              270011  b8d46cf437604828a6f814e226a34114\n",
       "13      0              270011  3d020bbb065849898af67db014544b66\n",
       "14      0              270011  d32f6709699c4f64ad786e7642c4928b"
      ]
     },
     "execution_count": 37,
     "metadata": {},
     "output_type": "execute_result"
    }
   ],
   "source": [
    "# UNIQUE_sample_sorted"
   ]
  },
  {
   "cell_type": "code",
   "execution_count": 172,
   "metadata": {},
   "outputs": [],
   "source": [
    "# unique_sample_list_seller_id = UNIQUE_sample['live agent_session_id'].to_list()"
   ]
  },
  {
   "cell_type": "code",
   "execution_count": 174,
   "metadata": {},
   "outputs": [],
   "source": [
    "# live_agent_id_from_xspace = ['6a57fb2e9c194cc0869fe1dbb332addb', 'c988db218499450495931df84c7990ce', '4eab8309d9dc4226980c1755472d484b', '3fb6c73c48fa4b2aaf55415c4eb1e35e']"
   ]
  },
  {
   "cell_type": "code",
   "execution_count": 176,
   "metadata": {},
   "outputs": [],
   "source": [
    "# UNIQUE_sample['live_agent_session_id_from_xspace'] = 0"
   ]
  },
  {
   "cell_type": "code",
   "execution_count": 204,
   "metadata": {},
   "outputs": [
    {
     "data": {
      "text/html": [
       "<div>\n",
       "<style scoped>\n",
       "    .dataframe tbody tr th:only-of-type {\n",
       "        vertical-align: middle;\n",
       "    }\n",
       "\n",
       "    .dataframe tbody tr th {\n",
       "        vertical-align: top;\n",
       "    }\n",
       "\n",
       "    .dataframe thead th {\n",
       "        text-align: right;\n",
       "    }\n",
       "</style>\n",
       "<table border=\"1\" class=\"dataframe\">\n",
       "  <thead>\n",
       "    <tr style=\"text-align: right;\">\n",
       "      <th></th>\n",
       "      <th>Seller id (X-space)</th>\n",
       "    </tr>\n",
       "  </thead>\n",
       "  <tbody>\n",
       "    <tr>\n",
       "      <th>0</th>\n",
       "      <td>700013847484</td>\n",
       "    </tr>\n",
       "    <tr>\n",
       "      <th>1</th>\n",
       "      <td>700023282820</td>\n",
       "    </tr>\n",
       "    <tr>\n",
       "      <th>2</th>\n",
       "      <td>700028694726</td>\n",
       "    </tr>\n",
       "    <tr>\n",
       "      <th>3</th>\n",
       "      <td>700007031570</td>\n",
       "    </tr>\n",
       "    <tr>\n",
       "      <th>4</th>\n",
       "      <td>1489794</td>\n",
       "    </tr>\n",
       "    <tr>\n",
       "      <th>5</th>\n",
       "      <td>700023282820</td>\n",
       "    </tr>\n",
       "    <tr>\n",
       "      <th>6</th>\n",
       "      <td>700028694726</td>\n",
       "    </tr>\n",
       "    <tr>\n",
       "      <th>7</th>\n",
       "      <td>700013847484</td>\n",
       "    </tr>\n",
       "    <tr>\n",
       "      <th>8</th>\n",
       "      <td>1489794</td>\n",
       "    </tr>\n",
       "    <tr>\n",
       "      <th>9</th>\n",
       "      <td>700007031570</td>\n",
       "    </tr>\n",
       "    <tr>\n",
       "      <th>10</th>\n",
       "      <td>700028694726</td>\n",
       "    </tr>\n",
       "    <tr>\n",
       "      <th>11</th>\n",
       "      <td>700007031570</td>\n",
       "    </tr>\n",
       "    <tr>\n",
       "      <th>12</th>\n",
       "      <td>700013847484</td>\n",
       "    </tr>\n",
       "    <tr>\n",
       "      <th>13</th>\n",
       "      <td>700023282820</td>\n",
       "    </tr>\n",
       "    <tr>\n",
       "      <th>14</th>\n",
       "      <td>1489794</td>\n",
       "    </tr>\n",
       "  </tbody>\n",
       "</table>\n",
       "</div>"
      ],
      "text/plain": [
       "   Seller id (X-space)\n",
       "0         700013847484\n",
       "1         700023282820\n",
       "2         700028694726\n",
       "3         700007031570\n",
       "4              1489794\n",
       "5         700023282820\n",
       "6         700028694726\n",
       "7         700013847484\n",
       "8              1489794\n",
       "9         700007031570\n",
       "10        700028694726\n",
       "11        700007031570\n",
       "12        700013847484\n",
       "13        700023282820\n",
       "14             1489794"
      ]
     },
     "execution_count": 204,
     "metadata": {},
     "output_type": "execute_result"
    }
   ],
   "source": [
    "# # UNIQUE_sample[[2]]\n",
    "# UNIQUE_sample.iloc[:, [1]]"
   ]
  },
  {
   "cell_type": "code",
   "execution_count": 238,
   "metadata": {},
   "outputs": [
    {
     "data": {
      "text/plain": [
       "['6a57fb2e9c194cc0869fe1dbb332addb',\n",
       " 'c988db218499450495931df84c7990ce',\n",
       " '4eab8309d9dc4226980c1755472d484b',\n",
       " '3fb6c73c48fa4b2aaf55415c4eb1e35e']"
      ]
     },
     "execution_count": 238,
     "metadata": {},
     "output_type": "execute_result"
    }
   ],
   "source": [
    "# live_agent_id_from_xspace"
   ]
  },
  {
   "cell_type": "code",
   "execution_count": 36,
   "metadata": {},
   "outputs": [
    {
     "data": {
      "text/plain": [
       "[('270011', '3d020bbb065849898af67db014544b66'),\n",
       " ('270011', 'b8d46cf437604828a6f814e226a34114'),\n",
       " ('270011', 'd32f6709699c4f64ad786e7642c4928b'),\n",
       " ('700023282820', 'c3eeeb05e4354a298c379a0cb1b4bdd0'),\n",
       " ('700023282820', '9ed6d483bc77463bb82efb425cf80de6'),\n",
       " ('700023282820', 'b09b3a8496754b548aff8855eab31179'),\n",
       " ('700028694726', '10a39bc84f36450c828161a8db07d662'),\n",
       " ('700028694726', '49368689282546d189bf0a312312f5fe'),\n",
       " ('700028694726', '7463be00303446ab920ebd57428160e3'),\n",
       " ('700000594210', '37eb1fd8a7b140fb8de0dc642c615a1e'),\n",
       " ('700000594210', 'b137f40612fe45ac81722dd6911fd8b6'),\n",
       " ('700000594210', 'dffa071f37034ca0b9c5a5a5e09780a9'),\n",
       " ('700028892173', 'faa6d7ffe6d8430785f1d178deeee8a6'),\n",
       " ('700028892173', '78f3206f5f944cd3af7532d6a405cd88'),\n",
       " ('700028892173', '812f3fdc17b740feafd30e0b19b9520e')]"
      ]
     },
     "execution_count": 36,
     "metadata": {},
     "output_type": "execute_result"
    }
   ],
   "source": [
    "# agent_session_id_xspace"
   ]
  },
  {
   "cell_type": "code",
   "execution_count": 263,
   "metadata": {},
   "outputs": [
    {
     "ename": "IndentationError",
     "evalue": "unindent does not match any outer indentation level (<tokenize>, line 15)",
     "output_type": "error",
     "traceback": [
      "\u001b[1;36m  File \u001b[1;32m\"<tokenize>\"\u001b[1;36m, line \u001b[1;32m15\u001b[0m\n\u001b[1;33m    else:\u001b[0m\n\u001b[1;37m    ^\u001b[0m\n\u001b[1;31mIndentationError\u001b[0m\u001b[1;31m:\u001b[0m unindent does not match any outer indentation level\n"
     ]
    }
   ],
   "source": [
    "\n",
    "\n",
    "# # row_number = UNIQUE_sample[UNIQUE_sample['Seller id (X-space)'] == '1489794'].index[1]\n",
    "# # row_to_insert = [np.nan]*(UNIQUE_sample.shape[1] - 1)\n",
    "# # row_to_insert.append()\n",
    "\n",
    "# for i in agent_session_id_xspace:\n",
    "\n",
    "#     if i[1] not in  UNIQUE_sample_sorted['live agent_session_id']:\n",
    "\t\t\n",
    "# \t\trow_number = UNIQUE_sample_sorted[UNIQUE_sample_sorted['Seller id (X-space)'] == i[0]].index[-1]\n",
    "\n",
    "# \t\trow_value = [0, i[0], np.nan, i[1]]\n",
    "\n",
    "# \t\tinsert_row(row_number, UNIQUE_sample_sorted, row_value)  ## Need the index number\n",
    "\n",
    "\n",
    "# \telse:\n",
    "\n",
    "# \t\tUNIQUE_sample_sorted['live agent_session_id'][row_number] = i[1]\n",
    "\n",
    "\n",
    "        \n",
    "\n",
    "\n",
    "# # row_number = 5\n",
    "# # row_value = [np.nan, np.nan, 12000]\n",
    "\n",
    "# # if row_number > df.index.max()+1:\n",
    "# # \tprint(\"Invalid row_number\")\n",
    "# # else:\n",
    "\t\n",
    "# # \t# Let's call the function and insert the row\n",
    "# # \t# at the second position\n",
    "# # \tdf = insert_row(row_number, df, row_value)\n",
    "\n",
    "# # \t# Print the updated dataframe\n",
    "# # \tprint(df)\n",
    "        "
   ]
  },
  {
   "cell_type": "code",
   "execution_count": 261,
   "metadata": {},
   "outputs": [],
   "source": [
    "# # UNIQUE_sample_sorted.loc[1]\n",
    "\n",
    "# UNIQUE_sample_sorted['live_agent_session_id_from_xspace'][0] = 0"
   ]
  },
  {
   "cell_type": "code",
   "execution_count": 1,
   "metadata": {},
   "outputs": [
    {
     "ename": "NameError",
     "evalue": "name 'UNIQUE_sample_sorted' is not defined",
     "output_type": "error",
     "traceback": [
      "\u001b[1;31m---------------------------------------------------------------------------\u001b[0m",
      "\u001b[1;31mNameError\u001b[0m                                 Traceback (most recent call last)",
      "\u001b[1;32m~\\AppData\\Local\\Temp/ipykernel_25200/518291375.py\u001b[0m in \u001b[0;36m<module>\u001b[1;34m\u001b[0m\n\u001b[1;32m----> 1\u001b[1;33m \u001b[0mUNIQUE_sample_sorted\u001b[0m\u001b[1;33m\u001b[0m\u001b[1;33m\u001b[0m\u001b[0m\n\u001b[0m",
      "\u001b[1;31mNameError\u001b[0m: name 'UNIQUE_sample_sorted' is not defined"
     ]
    }
   ],
   "source": [
    "# UNIQUE_sample_sorted"
   ]
  },
  {
   "cell_type": "code",
   "execution_count": 248,
   "metadata": {},
   "outputs": [
    {
     "ename": "KeyError",
     "evalue": "'False: boolean label can not be used without a boolean index'",
     "output_type": "error",
     "traceback": [
      "\u001b[1;31m---------------------------------------------------------------------------\u001b[0m",
      "\u001b[1;31mKeyError\u001b[0m                                  Traceback (most recent call last)",
      "\u001b[1;32m~\\AppData\\Local\\Temp/ipykernel_15136/701915310.py\u001b[0m in \u001b[0;36m<module>\u001b[1;34m\u001b[0m\n\u001b[1;32m----> 1\u001b[1;33m \u001b[0mUNIQUE_sample_sorted\u001b[0m\u001b[1;33m.\u001b[0m\u001b[0mloc\u001b[0m\u001b[1;33m[\u001b[0m\u001b[1;33m[\u001b[0m\u001b[1;34m'Seller id (X-space)'\u001b[0m\u001b[1;33m]\u001b[0m \u001b[1;33m==\u001b[0m \u001b[1;34m'700018455975'\u001b[0m\u001b[1;33m]\u001b[0m\u001b[1;33m\u001b[0m\u001b[1;33m\u001b[0m\u001b[0m\n\u001b[0m",
      "\u001b[1;32mc:\\Users\\Daraz\\anaconda3\\lib\\site-packages\\pandas\\core\\indexing.py\u001b[0m in \u001b[0;36m__getitem__\u001b[1;34m(self, key)\u001b[0m\n\u001b[0;32m    929\u001b[0m \u001b[1;33m\u001b[0m\u001b[0m\n\u001b[0;32m    930\u001b[0m             \u001b[0mmaybe_callable\u001b[0m \u001b[1;33m=\u001b[0m \u001b[0mcom\u001b[0m\u001b[1;33m.\u001b[0m\u001b[0mapply_if_callable\u001b[0m\u001b[1;33m(\u001b[0m\u001b[0mkey\u001b[0m\u001b[1;33m,\u001b[0m \u001b[0mself\u001b[0m\u001b[1;33m.\u001b[0m\u001b[0mobj\u001b[0m\u001b[1;33m)\u001b[0m\u001b[1;33m\u001b[0m\u001b[1;33m\u001b[0m\u001b[0m\n\u001b[1;32m--> 931\u001b[1;33m             \u001b[1;32mreturn\u001b[0m \u001b[0mself\u001b[0m\u001b[1;33m.\u001b[0m\u001b[0m_getitem_axis\u001b[0m\u001b[1;33m(\u001b[0m\u001b[0mmaybe_callable\u001b[0m\u001b[1;33m,\u001b[0m \u001b[0maxis\u001b[0m\u001b[1;33m=\u001b[0m\u001b[0maxis\u001b[0m\u001b[1;33m)\u001b[0m\u001b[1;33m\u001b[0m\u001b[1;33m\u001b[0m\u001b[0m\n\u001b[0m\u001b[0;32m    932\u001b[0m \u001b[1;33m\u001b[0m\u001b[0m\n\u001b[0;32m    933\u001b[0m     \u001b[1;32mdef\u001b[0m \u001b[0m_is_scalar_access\u001b[0m\u001b[1;33m(\u001b[0m\u001b[0mself\u001b[0m\u001b[1;33m,\u001b[0m \u001b[0mkey\u001b[0m\u001b[1;33m:\u001b[0m \u001b[0mtuple\u001b[0m\u001b[1;33m)\u001b[0m\u001b[1;33m:\u001b[0m\u001b[1;33m\u001b[0m\u001b[1;33m\u001b[0m\u001b[0m\n",
      "\u001b[1;32mc:\\Users\\Daraz\\anaconda3\\lib\\site-packages\\pandas\\core\\indexing.py\u001b[0m in \u001b[0;36m_getitem_axis\u001b[1;34m(self, key, axis)\u001b[0m\n\u001b[0;32m   1161\u001b[0m \u001b[1;33m\u001b[0m\u001b[0m\n\u001b[0;32m   1162\u001b[0m         \u001b[1;31m# fall thru to straight lookup\u001b[0m\u001b[1;33m\u001b[0m\u001b[1;33m\u001b[0m\u001b[0m\n\u001b[1;32m-> 1163\u001b[1;33m         \u001b[0mself\u001b[0m\u001b[1;33m.\u001b[0m\u001b[0m_validate_key\u001b[0m\u001b[1;33m(\u001b[0m\u001b[0mkey\u001b[0m\u001b[1;33m,\u001b[0m \u001b[0maxis\u001b[0m\u001b[1;33m)\u001b[0m\u001b[1;33m\u001b[0m\u001b[1;33m\u001b[0m\u001b[0m\n\u001b[0m\u001b[0;32m   1164\u001b[0m         \u001b[1;32mreturn\u001b[0m \u001b[0mself\u001b[0m\u001b[1;33m.\u001b[0m\u001b[0m_get_label\u001b[0m\u001b[1;33m(\u001b[0m\u001b[0mkey\u001b[0m\u001b[1;33m,\u001b[0m \u001b[0maxis\u001b[0m\u001b[1;33m=\u001b[0m\u001b[0maxis\u001b[0m\u001b[1;33m)\u001b[0m\u001b[1;33m\u001b[0m\u001b[1;33m\u001b[0m\u001b[0m\n\u001b[0;32m   1165\u001b[0m \u001b[1;33m\u001b[0m\u001b[0m\n",
      "\u001b[1;32mc:\\Users\\Daraz\\anaconda3\\lib\\site-packages\\pandas\\core\\indexing.py\u001b[0m in \u001b[0;36m_validate_key\u001b[1;34m(self, key, axis)\u001b[0m\n\u001b[0;32m    970\u001b[0m         \u001b[1;31m# boolean not in slice and with boolean index\u001b[0m\u001b[1;33m\u001b[0m\u001b[1;33m\u001b[0m\u001b[0m\n\u001b[0;32m    971\u001b[0m         \u001b[1;32mif\u001b[0m \u001b[0misinstance\u001b[0m\u001b[1;33m(\u001b[0m\u001b[0mkey\u001b[0m\u001b[1;33m,\u001b[0m \u001b[0mbool\u001b[0m\u001b[1;33m)\u001b[0m \u001b[1;32mand\u001b[0m \u001b[1;32mnot\u001b[0m \u001b[0mis_bool_dtype\u001b[0m\u001b[1;33m(\u001b[0m\u001b[0mself\u001b[0m\u001b[1;33m.\u001b[0m\u001b[0mobj\u001b[0m\u001b[1;33m.\u001b[0m\u001b[0mindex\u001b[0m\u001b[1;33m)\u001b[0m\u001b[1;33m:\u001b[0m\u001b[1;33m\u001b[0m\u001b[1;33m\u001b[0m\u001b[0m\n\u001b[1;32m--> 972\u001b[1;33m             raise KeyError(\n\u001b[0m\u001b[0;32m    973\u001b[0m                 \u001b[1;34mf\"{key}: boolean label can not be used without a boolean index\"\u001b[0m\u001b[1;33m\u001b[0m\u001b[1;33m\u001b[0m\u001b[0m\n\u001b[0;32m    974\u001b[0m             )\n",
      "\u001b[1;31mKeyError\u001b[0m: 'False: boolean label can not be used without a boolean index'"
     ]
    }
   ],
   "source": [
    "# UNIQUE_sample_sorted.loc[['Seller id (X-space)'] == '700018455975']"
   ]
  },
  {
   "cell_type": "code",
   "execution_count": 142,
   "metadata": {},
   "outputs": [],
   "source": [
    "# UNIQUE_SAMPLE_TEST = UNIQUE_sample_sorted"
   ]
  },
  {
   "cell_type": "code",
   "execution_count": 143,
   "metadata": {},
   "outputs": [],
   "source": [
    "# UNIQUE_SAMPLE_TEST = UNIQUE_SAMPLE_TEST.dropna()"
   ]
  },
  {
   "cell_type": "code",
   "execution_count": 144,
   "metadata": {},
   "outputs": [],
   "source": [
    "# UNIQUE_SAMPLE_TEST.reset_index(inplace=True)"
   ]
  },
  {
   "cell_type": "code",
   "execution_count": 145,
   "metadata": {},
   "outputs": [
    {
     "name": "stderr",
     "output_type": "stream",
     "text": [
      "c:\\Users\\Daraz\\anaconda3\\lib\\site-packages\\pandas\\core\\frame.py:4906: SettingWithCopyWarning: \n",
      "A value is trying to be set on a copy of a slice from a DataFrame\n",
      "\n",
      "See the caveats in the documentation: https://pandas.pydata.org/pandas-docs/stable/user_guide/indexing.html#returning-a-view-versus-a-copy\n",
      "  return super().drop(\n"
     ]
    }
   ],
   "source": [
    "# UNIQUE_SAMPLE_TEST.drop('level_0', axis = 1, inplace=True)"
   ]
  },
  {
   "cell_type": "code",
   "execution_count": 148,
   "metadata": {},
   "outputs": [
    {
     "data": {
      "text/html": [
       "<div>\n",
       "<style scoped>\n",
       "    .dataframe tbody tr th:only-of-type {\n",
       "        vertical-align: middle;\n",
       "    }\n",
       "\n",
       "    .dataframe tbody tr th {\n",
       "        vertical-align: top;\n",
       "    }\n",
       "\n",
       "    .dataframe thead th {\n",
       "        text-align: right;\n",
       "    }\n",
       "</style>\n",
       "<table border=\"1\" class=\"dataframe\">\n",
       "  <thead>\n",
       "    <tr style=\"text-align: right;\">\n",
       "      <th></th>\n",
       "      <th>index</th>\n",
       "      <th>Seller id (X-space)</th>\n",
       "      <th>live agent_session_id</th>\n",
       "      <th>live agent_session_id_from_xspace</th>\n",
       "    </tr>\n",
       "  </thead>\n",
       "  <tbody>\n",
       "    <tr>\n",
       "      <th>0</th>\n",
       "      <td>0</td>\n",
       "      <td>700028892173</td>\n",
       "      <td>78f3206f5f944cd3af7532d6a405cd88</td>\n",
       "      <td>78f3206f5f944cd3af7532d6a405cd88</td>\n",
       "    </tr>\n",
       "    <tr>\n",
       "      <th>1</th>\n",
       "      <td>0</td>\n",
       "      <td>700028892173</td>\n",
       "      <td>faa6d7ffe6d8430785f1d178deeee8a6</td>\n",
       "      <td>faa6d7ffe6d8430785f1d178deeee8a6</td>\n",
       "    </tr>\n",
       "    <tr>\n",
       "      <th>2</th>\n",
       "      <td>0</td>\n",
       "      <td>700028892173</td>\n",
       "      <td>812f3fdc17b740feafd30e0b19b9520e</td>\n",
       "      <td>812f3fdc17b740feafd30e0b19b9520e</td>\n",
       "    </tr>\n",
       "    <tr>\n",
       "      <th>3</th>\n",
       "      <td>0</td>\n",
       "      <td>700028694726</td>\n",
       "      <td>10a39bc84f36450c828161a8db07d662</td>\n",
       "      <td>10a39bc84f36450c828161a8db07d662</td>\n",
       "    </tr>\n",
       "    <tr>\n",
       "      <th>4</th>\n",
       "      <td>0</td>\n",
       "      <td>700028694726</td>\n",
       "      <td>7463be00303446ab920ebd57428160e3</td>\n",
       "      <td>7463be00303446ab920ebd57428160e3</td>\n",
       "    </tr>\n",
       "    <tr>\n",
       "      <th>5</th>\n",
       "      <td>0</td>\n",
       "      <td>700028694726</td>\n",
       "      <td>49368689282546d189bf0a312312f5fe</td>\n",
       "      <td>49368689282546d189bf0a312312f5fe</td>\n",
       "    </tr>\n",
       "    <tr>\n",
       "      <th>6</th>\n",
       "      <td>0</td>\n",
       "      <td>700023282820</td>\n",
       "      <td>9ed6d483bc77463bb82efb425cf80de6</td>\n",
       "      <td>9ed6d483bc77463bb82efb425cf80de6</td>\n",
       "    </tr>\n",
       "    <tr>\n",
       "      <th>7</th>\n",
       "      <td>0</td>\n",
       "      <td>700023282820</td>\n",
       "      <td>c3eeeb05e4354a298c379a0cb1b4bdd0</td>\n",
       "      <td>c3eeeb05e4354a298c379a0cb1b4bdd0</td>\n",
       "    </tr>\n",
       "    <tr>\n",
       "      <th>8</th>\n",
       "      <td>0</td>\n",
       "      <td>700023282820</td>\n",
       "      <td>b09b3a8496754b548aff8855eab31179</td>\n",
       "      <td>b09b3a8496754b548aff8855eab31179</td>\n",
       "    </tr>\n",
       "    <tr>\n",
       "      <th>9</th>\n",
       "      <td>0</td>\n",
       "      <td>700000594210</td>\n",
       "      <td>b137f40612fe45ac81722dd6911fd8b6</td>\n",
       "      <td>b137f40612fe45ac81722dd6911fd8b6</td>\n",
       "    </tr>\n",
       "    <tr>\n",
       "      <th>10</th>\n",
       "      <td>0</td>\n",
       "      <td>700000594210</td>\n",
       "      <td>37eb1fd8a7b140fb8de0dc642c615a1e</td>\n",
       "      <td>37eb1fd8a7b140fb8de0dc642c615a1e</td>\n",
       "    </tr>\n",
       "    <tr>\n",
       "      <th>11</th>\n",
       "      <td>0</td>\n",
       "      <td>700000594210</td>\n",
       "      <td>dffa071f37034ca0b9c5a5a5e09780a9</td>\n",
       "      <td>dffa071f37034ca0b9c5a5a5e09780a9</td>\n",
       "    </tr>\n",
       "    <tr>\n",
       "      <th>12</th>\n",
       "      <td>0</td>\n",
       "      <td>270011</td>\n",
       "      <td>b8d46cf437604828a6f814e226a34114</td>\n",
       "      <td>b8d46cf437604828a6f814e226a34114</td>\n",
       "    </tr>\n",
       "    <tr>\n",
       "      <th>13</th>\n",
       "      <td>0</td>\n",
       "      <td>270011</td>\n",
       "      <td>3d020bbb065849898af67db014544b66</td>\n",
       "      <td>3d020bbb065849898af67db014544b66</td>\n",
       "    </tr>\n",
       "    <tr>\n",
       "      <th>14</th>\n",
       "      <td>0</td>\n",
       "      <td>270011</td>\n",
       "      <td>d32f6709699c4f64ad786e7642c4928b</td>\n",
       "      <td>d32f6709699c4f64ad786e7642c4928b</td>\n",
       "    </tr>\n",
       "  </tbody>\n",
       "</table>\n",
       "</div>"
      ],
      "text/plain": [
       "    index Seller id (X-space)             live agent_session_id  \\\n",
       "0       0        700028892173  78f3206f5f944cd3af7532d6a405cd88   \n",
       "1       0        700028892173  faa6d7ffe6d8430785f1d178deeee8a6   \n",
       "2       0        700028892173  812f3fdc17b740feafd30e0b19b9520e   \n",
       "3       0        700028694726  10a39bc84f36450c828161a8db07d662   \n",
       "4       0        700028694726  7463be00303446ab920ebd57428160e3   \n",
       "5       0        700028694726  49368689282546d189bf0a312312f5fe   \n",
       "6       0        700023282820  9ed6d483bc77463bb82efb425cf80de6   \n",
       "7       0        700023282820  c3eeeb05e4354a298c379a0cb1b4bdd0   \n",
       "8       0        700023282820  b09b3a8496754b548aff8855eab31179   \n",
       "9       0        700000594210  b137f40612fe45ac81722dd6911fd8b6   \n",
       "10      0        700000594210  37eb1fd8a7b140fb8de0dc642c615a1e   \n",
       "11      0        700000594210  dffa071f37034ca0b9c5a5a5e09780a9   \n",
       "12      0              270011  b8d46cf437604828a6f814e226a34114   \n",
       "13      0              270011  3d020bbb065849898af67db014544b66   \n",
       "14      0              270011  d32f6709699c4f64ad786e7642c4928b   \n",
       "\n",
       "   live agent_session_id_from_xspace  \n",
       "0   78f3206f5f944cd3af7532d6a405cd88  \n",
       "1   faa6d7ffe6d8430785f1d178deeee8a6  \n",
       "2   812f3fdc17b740feafd30e0b19b9520e  \n",
       "3   10a39bc84f36450c828161a8db07d662  \n",
       "4   7463be00303446ab920ebd57428160e3  \n",
       "5   49368689282546d189bf0a312312f5fe  \n",
       "6   9ed6d483bc77463bb82efb425cf80de6  \n",
       "7   c3eeeb05e4354a298c379a0cb1b4bdd0  \n",
       "8   b09b3a8496754b548aff8855eab31179  \n",
       "9   b137f40612fe45ac81722dd6911fd8b6  \n",
       "10  37eb1fd8a7b140fb8de0dc642c615a1e  \n",
       "11  dffa071f37034ca0b9c5a5a5e09780a9  \n",
       "12  b8d46cf437604828a6f814e226a34114  \n",
       "13  3d020bbb065849898af67db014544b66  \n",
       "14  d32f6709699c4f64ad786e7642c4928b  "
      ]
     },
     "execution_count": 148,
     "metadata": {},
     "output_type": "execute_result"
    }
   ],
   "source": [
    "# UNIQUE_SAMPLE_TEST"
   ]
  },
  {
   "cell_type": "code",
   "execution_count": 123,
   "metadata": {},
   "outputs": [],
   "source": [
    "# i = agent_session_id_xspace[0]"
   ]
  },
  {
   "cell_type": "code",
   "execution_count": 124,
   "metadata": {},
   "outputs": [
    {
     "data": {
      "text/plain": [
       "'3d020bbb065849898af67db014544b66'"
      ]
     },
     "execution_count": 124,
     "metadata": {},
     "output_type": "execute_result"
    }
   ],
   "source": [
    "# i[1]"
   ]
  },
  {
   "cell_type": "code",
   "execution_count": 50,
   "metadata": {},
   "outputs": [
    {
     "data": {
      "text/plain": [
       "12"
      ]
     },
     "execution_count": 50,
     "metadata": {},
     "output_type": "execute_result"
    }
   ],
   "source": [
    "# UNIQUE_sample_sorted[UNIQUE_sample_sorted['Seller id (X-space)'] == i[0]].index[0]"
   ]
  },
  {
   "cell_type": "code",
   "execution_count": 51,
   "metadata": {},
   "outputs": [
    {
     "data": {
      "text/plain": [
       "'b8d46cf437604828a6f814e226a34114'"
      ]
     },
     "execution_count": 51,
     "metadata": {},
     "output_type": "execute_result"
    }
   ],
   "source": [
    "# UNIQUE_SAMPLE_TEST['live agent_session_id'][12]"
   ]
  },
  {
   "cell_type": "code",
   "execution_count": 52,
   "metadata": {},
   "outputs": [],
   "source": [
    "# UNIQUE_SAMPLE_TEST['live agent_session_id_from_xspace'] = 0 "
   ]
  },
  {
   "cell_type": "code",
   "execution_count": 87,
   "metadata": {},
   "outputs": [
    {
     "data": {
      "text/plain": [
       "14"
      ]
     },
     "execution_count": 87,
     "metadata": {},
     "output_type": "execute_result"
    }
   ],
   "source": [
    "# UNIQUE_SAMPLE_TEST[UNIQUE_SAMPLE_TEST['live agent_session_id'] == i[1]].index[0]"
   ]
  },
  {
   "cell_type": "code",
   "execution_count": 97,
   "metadata": {},
   "outputs": [
    {
     "name": "stderr",
     "output_type": "stream",
     "text": [
      "C:\\Users\\Daraz\\AppData\\Local\\Temp/ipykernel_25200/805195654.py:1: SettingWithCopyWarning: \n",
      "A value is trying to be set on a copy of a slice from a DataFrame\n",
      "\n",
      "See the caveats in the documentation: https://pandas.pydata.org/pandas-docs/stable/user_guide/indexing.html#returning-a-view-versus-a-copy\n",
      "  UNIQUE_SAMPLE_TEST['live agent_session_id_from_xspace'][14] = i[1]\n"
     ]
    }
   ],
   "source": [
    "# UNIQUE_SAMPLE_TEST['live agent_session_id_from_xspace'][14] = i[1]"
   ]
  },
  {
   "cell_type": "code",
   "execution_count": 147,
   "metadata": {},
   "outputs": [
    {
     "name": "stderr",
     "output_type": "stream",
     "text": [
      "C:\\Users\\Daraz\\AppData\\Local\\Temp/ipykernel_25200/1723295034.py:15: SettingWithCopyWarning: \n",
      "A value is trying to be set on a copy of a slice from a DataFrame\n",
      "\n",
      "See the caveats in the documentation: https://pandas.pydata.org/pandas-docs/stable/user_guide/indexing.html#returning-a-view-versus-a-copy\n",
      "  UNIQUE_SAMPLE_TEST['live agent_session_id_from_xspace'][new_row_number] = i[1]\n"
     ]
    }
   ],
   "source": [
    "# ################################# Very Important Loop ##########################################################3\n",
    "\n",
    "# for i in agent_session_id_xspace:\n",
    "\n",
    "#     if i[1] not in UNIQUE_SAMPLE_TEST['live agent_session_id'].values:\n",
    "\n",
    "#         row_number = UNIQUE_SAMPLE_TEST[UNIQUE_SAMPLE_TEST['Seller id (X-space)'] == i[0]].index[0]\n",
    "\n",
    "#         row_value = [0, i[0], np.nan, i[1]]\n",
    "\n",
    "#         UNIQUE_SAMPLE_TEST = insert_row (row_number, UNIQUE_SAMPLE_TEST, row_value)\n",
    "\n",
    "#     elif i[1] in UNIQUE_SAMPLE_TEST['live agent_session_id'].values:\n",
    "\n",
    "#         new_row_number = UNIQUE_SAMPLE_TEST[UNIQUE_SAMPLE_TEST['live agent_session_id'] == i[1]].index[0]\n",
    "        \n",
    "#         UNIQUE_SAMPLE_TEST['live agent_session_id_from_xspace'][new_row_number] = i[1]"
   ]
  },
  {
   "cell_type": "code",
   "execution_count": 129,
   "metadata": {},
   "outputs": [
    {
     "data": {
      "text/plain": [
       "26"
      ]
     },
     "execution_count": 129,
     "metadata": {},
     "output_type": "execute_result"
    }
   ],
   "source": [
    "# UNIQUE_SAMPLE_TEST[UNIQUE_SAMPLE_TEST['live agent_session_id'] == i[1]].index[0]"
   ]
  },
  {
   "cell_type": "code",
   "execution_count": 126,
   "metadata": {},
   "outputs": [
    {
     "name": "stdout",
     "output_type": "stream",
     "text": [
      "yes\n"
     ]
    }
   ],
   "source": [
    "# if i[1] in UNIQUE_SAMPLE_TEST['live agent_session_id'].values:\n",
    "    print('yes')\n",
    "    "
   ]
  },
  {
   "cell_type": "code",
   "execution_count": 111,
   "metadata": {},
   "outputs": [
    {
     "name": "stdout",
     "output_type": "stream",
     "text": [
      "Yes\n"
     ]
    }
   ],
   "source": [
    "\n",
    "    print('Yes')"
   ]
  },
  {
   "cell_type": "code",
   "execution_count": 119,
   "metadata": {},
   "outputs": [
    {
     "data": {
      "text/plain": [
       "False"
      ]
     },
     "execution_count": 119,
     "metadata": {},
     "output_type": "execute_result"
    }
   ],
   "source": [
    "# '3d020bbb065849898af67db014544b66' in UNIQUE_SAMPLE_TEST['live agent_session_id']"
   ]
  },
  {
   "cell_type": "code",
   "execution_count": 118,
   "metadata": {},
   "outputs": [
    {
     "data": {
      "text/plain": [
       "0     78f3206f5f944cd3af7532d6a405cd88\n",
       "1     faa6d7ffe6d8430785f1d178deeee8a6\n",
       "5     812f3fdc17b740feafd30e0b19b9520e\n",
       "6     10a39bc84f36450c828161a8db07d662\n",
       "7     7463be00303446ab920ebd57428160e3\n",
       "11    49368689282546d189bf0a312312f5fe\n",
       "12    9ed6d483bc77463bb82efb425cf80de6\n",
       "13    c3eeeb05e4354a298c379a0cb1b4bdd0\n",
       "17    b09b3a8496754b548aff8855eab31179\n",
       "18    b137f40612fe45ac81722dd6911fd8b6\n",
       "19    37eb1fd8a7b140fb8de0dc642c615a1e\n",
       "23    dffa071f37034ca0b9c5a5a5e09780a9\n",
       "25    b8d46cf437604828a6f814e226a34114\n",
       "26    3d020bbb065849898af67db014544b66\n",
       "27    d32f6709699c4f64ad786e7642c4928b\n",
       "Name: live agent_session_id, dtype: object"
      ]
     },
     "execution_count": 118,
     "metadata": {},
     "output_type": "execute_result"
    }
   ],
   "source": [
    "# UNIQUE_SAMPLE_TEST['live agent_session_id']"
   ]
  },
  {
   "cell_type": "code",
   "execution_count": 72,
   "metadata": {},
   "outputs": [],
   "source": [
    "# for i in agent_session_id_xspace:\n",
    "\n",
    "#     if i[1] not in  UNIQUE_sample_sorted['live agent_session_id']:\n",
    "\n",
    "#         row_number = UNIQUE_sample_sorted[UNIQUE_sample_sorted['Seller id (X-space)'] == i[0]].index[-1]\n",
    "\n",
    "#         row_value = [0, i[0], np.nan, i[1]]\n",
    "\n",
    "#         UNIQUE_sample_sorted = insert_row (row_number, UNIQUE_sample_sorted, row_value)\n",
    "\n",
    "#     else:\n",
    "\n",
    "#         row_number = UNIQUE_SAMPLE_TEST[UNIQUE_SAMPLE_TEST['live agent_session_id'] == i[1]].index[0]\n",
    "\n",
    "#         UNIQUE_sample_sorted['live agent_session_id'][row_number] = i[1]\n",
    "\n"
   ]
  },
  {
   "cell_type": "code",
   "execution_count": null,
   "metadata": {},
   "outputs": [],
   "source": [
    "    # if i[1] not in  UNIQUE_sample_sorted['live agent_session_id']:\n",
    "\t\t\n",
    "\t# \trow_number = UNIQUE_sample_sorted[UNIQUE_sample_sorted['Seller id (X-space)'] == i[0]].index[-1]\n",
    "\n",
    "\t# \trow_value = [0, i[0], np.nan, i[1]]\n",
    "\n",
    "\t# \tinsert_row(row_number, UNIQUE_sample_sorted, row_value)  ## Need the index number\n",
    "\n",
    "\n",
    "\t# else:\n",
    "\n",
    "\t# \tUNIQUE_sample_sorted['live agent_session_id'][row_number] = i[1]"
   ]
  },
  {
   "cell_type": "code",
   "execution_count": 270,
   "metadata": {},
   "outputs": [
    {
     "data": {
      "text/html": [
       "<div>\n",
       "<style scoped>\n",
       "    .dataframe tbody tr th:only-of-type {\n",
       "        vertical-align: middle;\n",
       "    }\n",
       "\n",
       "    .dataframe tbody tr th {\n",
       "        vertical-align: top;\n",
       "    }\n",
       "\n",
       "    .dataframe thead th {\n",
       "        text-align: right;\n",
       "    }\n",
       "</style>\n",
       "<table border=\"1\" class=\"dataframe\">\n",
       "  <thead>\n",
       "    <tr style=\"text-align: right;\">\n",
       "      <th></th>\n",
       "      <th>index</th>\n",
       "      <th>Seller id (X-space)</th>\n",
       "      <th>live agent_session_id</th>\n",
       "      <th>live_agent_session_id_from_xspace</th>\n",
       "    </tr>\n",
       "  </thead>\n",
       "  <tbody>\n",
       "    <tr>\n",
       "      <th>0</th>\n",
       "      <td>0</td>\n",
       "      <td>700044117675</td>\n",
       "      <td>4e0d6566d04e46c8b43c04ca1bfe2740</td>\n",
       "      <td>0</td>\n",
       "    </tr>\n",
       "    <tr>\n",
       "      <th>1</th>\n",
       "      <td>0</td>\n",
       "      <td>700044117675</td>\n",
       "      <td>8b50dad91bb744b584989274f51a53fd</td>\n",
       "      <td>0</td>\n",
       "    </tr>\n",
       "    <tr>\n",
       "      <th>2</th>\n",
       "      <td>0</td>\n",
       "      <td>700044117675</td>\n",
       "      <td>03dc7016b3004dad80f3b9f3ac3f9e17</td>\n",
       "      <td>0</td>\n",
       "    </tr>\n",
       "    <tr>\n",
       "      <th>3</th>\n",
       "      <td>0</td>\n",
       "      <td>700022271225</td>\n",
       "      <td>786d4ebef31547e89068d98f4fa30a7a</td>\n",
       "      <td>0</td>\n",
       "    </tr>\n",
       "    <tr>\n",
       "      <th>4</th>\n",
       "      <td>0</td>\n",
       "      <td>700022271225</td>\n",
       "      <td>9d0b6a49ee0f4dca8abd9cd5dc206509</td>\n",
       "      <td>0</td>\n",
       "    </tr>\n",
       "    <tr>\n",
       "      <th>...</th>\n",
       "      <td>...</td>\n",
       "      <td>...</td>\n",
       "      <td>...</td>\n",
       "      <td>...</td>\n",
       "    </tr>\n",
       "    <tr>\n",
       "      <th>70</th>\n",
       "      <td>0</td>\n",
       "      <td>700002720638</td>\n",
       "      <td>NaN</td>\n",
       "      <td>f5e3cfb9dff849789af98e4ca71eb422</td>\n",
       "    </tr>\n",
       "    <tr>\n",
       "      <th>71</th>\n",
       "      <td>0</td>\n",
       "      <td>700002720638</td>\n",
       "      <td>NaN</td>\n",
       "      <td>699a3053350b47fd8318f3abb53fa483</td>\n",
       "    </tr>\n",
       "    <tr>\n",
       "      <th>72</th>\n",
       "      <td>0</td>\n",
       "      <td>700002720638</td>\n",
       "      <td>NaN</td>\n",
       "      <td>f5e3cfb9dff849789af98e4ca71eb422</td>\n",
       "    </tr>\n",
       "    <tr>\n",
       "      <th>73</th>\n",
       "      <td>0</td>\n",
       "      <td>700002720638</td>\n",
       "      <td>NaN</td>\n",
       "      <td>c34791e3b46b4ae5a061123a0e881152</td>\n",
       "    </tr>\n",
       "    <tr>\n",
       "      <th>74</th>\n",
       "      <td>0</td>\n",
       "      <td>700002720638</td>\n",
       "      <td>NaN</td>\n",
       "      <td>c34791e3b46b4ae5a061123a0e881152</td>\n",
       "    </tr>\n",
       "  </tbody>\n",
       "</table>\n",
       "<p>75 rows × 4 columns</p>\n",
       "</div>"
      ],
      "text/plain": [
       "    index Seller id (X-space)             live agent_session_id  \\\n",
       "0       0        700044117675  4e0d6566d04e46c8b43c04ca1bfe2740   \n",
       "1       0        700044117675  8b50dad91bb744b584989274f51a53fd   \n",
       "2       0        700044117675  03dc7016b3004dad80f3b9f3ac3f9e17   \n",
       "3       0        700022271225  786d4ebef31547e89068d98f4fa30a7a   \n",
       "4       0        700022271225  9d0b6a49ee0f4dca8abd9cd5dc206509   \n",
       "..    ...                 ...                               ...   \n",
       "70      0        700002720638                               NaN   \n",
       "71      0        700002720638                               NaN   \n",
       "72      0        700002720638                               NaN   \n",
       "73      0        700002720638                               NaN   \n",
       "74      0        700002720638                               NaN   \n",
       "\n",
       "   live_agent_session_id_from_xspace  \n",
       "0                                  0  \n",
       "1                                  0  \n",
       "2                                  0  \n",
       "3                                  0  \n",
       "4                                  0  \n",
       "..                               ...  \n",
       "70  f5e3cfb9dff849789af98e4ca71eb422  \n",
       "71  699a3053350b47fd8318f3abb53fa483  \n",
       "72  f5e3cfb9dff849789af98e4ca71eb422  \n",
       "73  c34791e3b46b4ae5a061123a0e881152  \n",
       "74  c34791e3b46b4ae5a061123a0e881152  \n",
       "\n",
       "[75 rows x 4 columns]"
      ]
     },
     "execution_count": 270,
     "metadata": {},
     "output_type": "execute_result"
    }
   ],
   "source": [
    "# UNIQUE_sample_sorted"
   ]
  },
  {
   "cell_type": "code",
   "execution_count": 186,
   "metadata": {},
   "outputs": [
    {
     "data": {
      "text/plain": [
       "8"
      ]
     },
     "execution_count": 186,
     "metadata": {},
     "output_type": "execute_result"
    }
   ],
   "source": [
    "# UNIQUE_sample[UNIQUE_sample['Seller id (X-space)'] == '1489794'].index[1]"
   ]
  }
 ],
 "metadata": {
  "interpreter": {
   "hash": "0606053452435824a427f0ea93d6ae20786397642025bcc66bfe96b66155d44b"
  },
  "kernelspec": {
   "display_name": "Python 3 (ipykernel)",
   "language": "python",
   "name": "python3"
  },
  "language_info": {
   "codemirror_mode": {
    "name": "ipython",
    "version": 3
   },
   "file_extension": ".py",
   "mimetype": "text/x-python",
   "name": "python",
   "nbconvert_exporter": "python",
   "pygments_lexer": "ipython3",
   "version": "3.9.7"
  }
 },
 "nbformat": 4,
 "nbformat_minor": 2
}
