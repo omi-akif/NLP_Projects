{
 "cells": [
  {
   "cell_type": "code",
   "execution_count": null,
   "metadata": {},
   "outputs": [],
   "source": [
    "class Color:\n",
    "   PURPLE = '\\033[95m'\n",
    "   CYAN = '\\033[96m'\n",
    "   DARKCYAN = '\\033[36m'\n",
    "   BLUE = '\\033[94m'\n",
    "   GREEN = '\\033[92m'\n",
    "   YELLOW = '\\033[93m'\n",
    "   RED = '\\033[91m'\n",
    "   BOLD = '\\033[1m'\n",
    "   UNDERLINE = '\\033[4m'\n",
    "   END = '\\033[0m'\n",
    "\n",
    "\n",
    "def returns_missing_index(comparared_list, a_list):\n",
    "\n",
    "    for index, element in enumerate(comparared_list)\n",
    "        if element not in a_list:\n",
    "            a_list.insert(index, np.NaN)\n",
    "    return a_list\n",
    "\n",
    "\n",
    "def insert_row(row_number, df, row_value):\n",
    "\n",
    "\tstart_upper = 0\n",
    "\n",
    "\tend_upper = row_number\n",
    "\n",
    "\tstart_lower = row_number\n",
    "\n",
    "\tend_lower = df.shape[0]\n",
    "\n",
    "\tupper_half = [*range(start_upper, end_upper, 1)]\n",
    "\n",
    "\tlower_half = [*range(start_lower, end_lower, 1)]\n",
    "\n",
    "\tlower_half = [x.__add__(1) for x in lower_half]\n",
    "\n",
    "\tindex_ = upper_half + lower_half\n",
    "\n",
    "\tdf.index = index_\n",
    "\n",
    "\tdf.loc[row_number] = row_value\n",
    "\n",
    "\tdf = df.sort_index()\n",
    "\n",
    "\treturn df\n",
    "\n",
    "#### A random seller ID for testing purpose\n",
    "UNIQUE_RANDOM_VALUES = UNIQUE_NOTNA_DF_NO_DUPLICATES.sample(axis=0)\n",
    "a_random_seller_id = UNIQUE_RANDOM_VALUES['Seller id (X-space)'].to_list()[0]"
   ]
  }
 ],
 "metadata": {
  "kernelspec": {
   "display_name": "Python 3.9.7 ('base')",
   "language": "python",
   "name": "python3"
  },
  "language_info": {
   "name": "python",
   "version": "3.9.7"
  },
  "orig_nbformat": 4,
  "vscode": {
   "interpreter": {
    "hash": "0606053452435824a427f0ea93d6ae20786397642025bcc66bfe96b66155d44b"
   }
  }
 },
 "nbformat": 4,
 "nbformat_minor": 2
}
