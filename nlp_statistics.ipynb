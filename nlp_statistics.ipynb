{
 "cells": [
  {
   "cell_type": "code",
   "execution_count": 1,
   "metadata": {},
   "outputs": [
    {
     "name": "stdout",
     "output_type": "stream",
     "text": [
      "hello\n"
     ]
    }
   ],
   "source": [
    "print('hello')"
   ]
  },
  {
   "cell_type": "code",
   "execution_count": 2,
   "metadata": {},
   "outputs": [],
   "source": [
    "import re\n",
    "import math\n",
    "from nltk.tokenize import WhitespaceTokenizer\n",
    "# from nltk.tokenize import WhitespaceTokenizer\n",
    "import random\n",
    "import pandas as pd\n",
    "import matplotlib.pyplot as plt\n",
    "from langdetect import detect\n",
    "from collections import Counter\n",
    "from itertools import permutations\n",
    "from functools import lru_cache\n",
    "from typing import List, Tuple, Set, Dict, Callable"
   ]
  },
  {
   "cell_type": "code",
   "execution_count": 3,
   "metadata": {},
   "outputs": [],
   "source": [
    "tokenizer = WhitespaceTokenizer()\n",
    "Word = str\n",
    "cat = ''.join"
   ]
  },
  {
   "cell_type": "code",
   "execution_count": 4,
   "metadata": {},
   "outputs": [],
   "source": [
    "def tokens(text) -> List[Word]:\n",
    "    \"\"\"List all the word tokens (consecutive) in a text. Normalized the text to lower case\"\"\"\n",
    "    return re.findall('[a-z]+', text.lower())\n",
    "\n",
    "sentence = ' '.join"
   ]
  },
  {
   "cell_type": "code",
   "execution_count": 5,
   "metadata": {},
   "outputs": [],
   "source": [
    "def sample(words, n = 10) -> str:\n",
    "    \"\"\"Sample n random  from a list of words.\"\"\"\n",
    "    return [random.choice(words) for _ in range(n)]"
   ]
  },
  {
   "cell_type": "code",
   "execution_count": 6,
   "metadata": {},
   "outputs": [],
   "source": [
    "#An inheritence class\n",
    "class Bag(Counter):\n",
    "    \"\"\"A child class for bag of words. This will inherit all the properties of the Parent Class\"\"\"\n",
    "    pass"
   ]
  },
  {
   "cell_type": "code",
   "execution_count": 7,
   "metadata": {},
   "outputs": [],
   "source": [
    "def zifp_plot(bag):\n",
    "    \n",
    "    M = max(bag.values()) #The highest frequent value\n",
    "    X = range(1, len(bag) + 1)\n",
    "\n",
    "    plt.yscale('log'); plt.xscale('log') # Create a logarithmic x-scale and y-scale\n",
    "    plt.title('Frequency of n-th most frequent word and 1/n line. ')\n",
    "\n",
    "    plt.xlabel('Word Index Number'); plt.ylabel('Word Frequency')\n",
    "    \n",
    "    plt.plot(X, [M/i for i in X], ':', label = '1/n')\n",
    "\n",
    "    plt.plot(X, [c for (w, c) in bag.most_common()], '.', label='actual word frequency')\n",
    "    \n",
    "    plt.grid(); plt.legend(loc = 1)\n"
   ]
  },
  {
   "cell_type": "code",
   "execution_count": 8,
   "metadata": {},
   "outputs": [],
   "source": [
    "DF09190925_CD = pd.read_csv(r'C:\\Users\\Daraz\\Documents\\ddda\\ChatDetailsDataset\\2022_09190925_CD.csv')"
   ]
  },
  {
   "cell_type": "code",
   "execution_count": 9,
   "metadata": {},
   "outputs": [
    {
     "data": {
      "text/html": [
       "<div>\n",
       "<style scoped>\n",
       "    .dataframe tbody tr th:only-of-type {\n",
       "        vertical-align: middle;\n",
       "    }\n",
       "\n",
       "    .dataframe tbody tr th {\n",
       "        vertical-align: top;\n",
       "    }\n",
       "\n",
       "    .dataframe thead th {\n",
       "        text-align: right;\n",
       "    }\n",
       "</style>\n",
       "<table border=\"1\" class=\"dataframe\">\n",
       "  <thead>\n",
       "    <tr style=\"text-align: right;\">\n",
       "      <th></th>\n",
       "      <th>Create Date</th>\n",
       "      <th>tenant_name</th>\n",
       "      <th>robot_code</th>\n",
       "      <th>robot_name</th>\n",
       "      <th>from_id</th>\n",
       "      <th>from_name</th>\n",
       "      <th>Session_id</th>\n",
       "      <th>Intention</th>\n",
       "      <th>user_id</th>\n",
       "      <th>Seller id (X-space)</th>\n",
       "      <th>...</th>\n",
       "      <th>Feedback Card Response</th>\n",
       "      <th>is_chat_recommend</th>\n",
       "      <th>is_chat_no answer</th>\n",
       "      <th>is_chat_pre/post match</th>\n",
       "      <th>live agent_session_id</th>\n",
       "      <th>Last Query Before Live Agent Session</th>\n",
       "      <th>Live Agent User Query</th>\n",
       "      <th>Live Agent Response</th>\n",
       "      <th>Feedback Type</th>\n",
       "      <th>Unsatisfied Reason</th>\n",
       "    </tr>\n",
       "  </thead>\n",
       "  <tbody>\n",
       "    <tr>\n",
       "      <th>0</th>\n",
       "      <td>2022-09-21 00:00:00</td>\n",
       "      <td>Alime-DRZ-CC-BD</td>\n",
       "      <td>l2Cgc9psxK</td>\n",
       "      <td>BD-Daz-EN</td>\n",
       "      <td>V3EasrtOgs</td>\n",
       "      <td>BD-Daz-EN-HC-App</td>\n",
       "      <td>371e521752f24e77ab722916e0be37cd</td>\n",
       "      <td>route_daraz_others</td>\n",
       "      <td>2101100022513659</td>\n",
       "      <td>7.000094e+11</td>\n",
       "      <td>...</td>\n",
       "      <td>NaN</td>\n",
       "      <td>N</td>\n",
       "      <td>N</td>\n",
       "      <td>N</td>\n",
       "      <td>NaN</td>\n",
       "      <td>NaN</td>\n",
       "      <td>NaN</td>\n",
       "      <td>NaN</td>\n",
       "      <td>NaN</td>\n",
       "      <td>NaN</td>\n",
       "    </tr>\n",
       "    <tr>\n",
       "      <th>1</th>\n",
       "      <td>2022-09-21 00:00:00</td>\n",
       "      <td>Alime-DRZ-CC-BD</td>\n",
       "      <td>03thkMNkQ3</td>\n",
       "      <td>BD-Daz-LC</td>\n",
       "      <td>zpojXywwrn</td>\n",
       "      <td>BD-Daz-LC-DD-App</td>\n",
       "      <td>3f4f9f488d1143d79ec1ad9296317c7a</td>\n",
       "      <td>route_daraz_others</td>\n",
       "      <td>2101100093534982</td>\n",
       "      <td>7.005219e+11</td>\n",
       "      <td>...</td>\n",
       "      <td>NaN</td>\n",
       "      <td>N</td>\n",
       "      <td>N</td>\n",
       "      <td>N</td>\n",
       "      <td>NaN</td>\n",
       "      <td>NaN</td>\n",
       "      <td>NaN</td>\n",
       "      <td>NaN</td>\n",
       "      <td>NaN</td>\n",
       "      <td>NaN</td>\n",
       "    </tr>\n",
       "  </tbody>\n",
       "</table>\n",
       "<p>2 rows × 42 columns</p>\n",
       "</div>"
      ],
      "text/plain": [
       "           Create Date      tenant_name  robot_code robot_name     from_id  \\\n",
       "0  2022-09-21 00:00:00  Alime-DRZ-CC-BD  l2Cgc9psxK  BD-Daz-EN  V3EasrtOgs   \n",
       "1  2022-09-21 00:00:00  Alime-DRZ-CC-BD  03thkMNkQ3  BD-Daz-LC  zpojXywwrn   \n",
       "\n",
       "          from_name                        Session_id           Intention  \\\n",
       "0  BD-Daz-EN-HC-App  371e521752f24e77ab722916e0be37cd  route_daraz_others   \n",
       "1  BD-Daz-LC-DD-App  3f4f9f488d1143d79ec1ad9296317c7a  route_daraz_others   \n",
       "\n",
       "            user_id  Seller id (X-space)  ... Feedback Card Response  \\\n",
       "0  2101100022513659         7.000094e+11  ...                    NaN   \n",
       "1  2101100093534982         7.005219e+11  ...                    NaN   \n",
       "\n",
       "  is_chat_recommend is_chat_no answer is_chat_pre/post match  \\\n",
       "0                 N                 N                      N   \n",
       "1                 N                 N                      N   \n",
       "\n",
       "  live agent_session_id Last Query Before Live Agent Session  \\\n",
       "0                   NaN                                  NaN   \n",
       "1                   NaN                                  NaN   \n",
       "\n",
       "  Live Agent User Query Live Agent Response  Feedback Type Unsatisfied Reason  \n",
       "0                   NaN                 NaN            NaN                NaN  \n",
       "1                   NaN                 NaN            NaN                NaN  \n",
       "\n",
       "[2 rows x 42 columns]"
      ]
     },
     "execution_count": 9,
     "metadata": {},
     "output_type": "execute_result"
    }
   ],
   "source": [
    "DF09190925_CD.head(2)"
   ]
  },
  {
   "cell_type": "code",
   "execution_count": 10,
   "metadata": {},
   "outputs": [
    {
     "data": {
      "text/html": [
       "<div>\n",
       "<style scoped>\n",
       "    .dataframe tbody tr th:only-of-type {\n",
       "        vertical-align: middle;\n",
       "    }\n",
       "\n",
       "    .dataframe tbody tr th {\n",
       "        vertical-align: top;\n",
       "    }\n",
       "\n",
       "    .dataframe thead th {\n",
       "        text-align: right;\n",
       "    }\n",
       "</style>\n",
       "<table border=\"1\" class=\"dataframe\">\n",
       "  <thead>\n",
       "    <tr style=\"text-align: right;\">\n",
       "      <th></th>\n",
       "      <th>Create Date</th>\n",
       "      <th>tenant_name</th>\n",
       "      <th>robot_code</th>\n",
       "      <th>robot_name</th>\n",
       "      <th>from_id</th>\n",
       "      <th>from_name</th>\n",
       "      <th>Session_id</th>\n",
       "      <th>Intention</th>\n",
       "      <th>user_id</th>\n",
       "      <th>Seller id (X-space)</th>\n",
       "      <th>...</th>\n",
       "      <th>Feedback Card Response</th>\n",
       "      <th>is_chat_recommend</th>\n",
       "      <th>is_chat_no answer</th>\n",
       "      <th>is_chat_pre/post match</th>\n",
       "      <th>live agent_session_id</th>\n",
       "      <th>Last Query Before Live Agent Session</th>\n",
       "      <th>Live Agent User Query</th>\n",
       "      <th>Live Agent Response</th>\n",
       "      <th>Feedback Type</th>\n",
       "      <th>Unsatisfied Reason</th>\n",
       "    </tr>\n",
       "  </thead>\n",
       "  <tbody>\n",
       "    <tr>\n",
       "      <th>99998</th>\n",
       "      <td>2022-09-20 00:00:00</td>\n",
       "      <td>Alime-DRZ-CC-BD</td>\n",
       "      <td>l2Cgc9psxK</td>\n",
       "      <td>BD-Daz-EN</td>\n",
       "      <td>2QpojyCHcD</td>\n",
       "      <td>BD-Daz-EN-DD-App</td>\n",
       "      <td>7e2c119702b441a19bb39590347793be</td>\n",
       "      <td>route_daraz_others</td>\n",
       "      <td>2101100093818184</td>\n",
       "      <td>7.000504e+11</td>\n",
       "      <td>...</td>\n",
       "      <td>NaN</td>\n",
       "      <td>N</td>\n",
       "      <td>N</td>\n",
       "      <td>N</td>\n",
       "      <td>NaN</td>\n",
       "      <td>NaN</td>\n",
       "      <td>NaN</td>\n",
       "      <td>NaN</td>\n",
       "      <td>NaN</td>\n",
       "      <td>NaN</td>\n",
       "    </tr>\n",
       "    <tr>\n",
       "      <th>99999</th>\n",
       "      <td>2022-09-20 00:00:00</td>\n",
       "      <td>Alime-DRZ-CC-BD</td>\n",
       "      <td>l2Cgc9psxK</td>\n",
       "      <td>BD-Daz-EN</td>\n",
       "      <td>2QpojyCHcD</td>\n",
       "      <td>BD-Daz-EN-DD-App</td>\n",
       "      <td>7e2c119702b441a19bb39590347793be</td>\n",
       "      <td>NaN</td>\n",
       "      <td>2101100093818184</td>\n",
       "      <td>7.000504e+11</td>\n",
       "      <td>...</td>\n",
       "      <td>NaN</td>\n",
       "      <td>N</td>\n",
       "      <td>N</td>\n",
       "      <td>Y</td>\n",
       "      <td>NaN</td>\n",
       "      <td>NaN</td>\n",
       "      <td>NaN</td>\n",
       "      <td>NaN</td>\n",
       "      <td>NaN</td>\n",
       "      <td>NaN</td>\n",
       "    </tr>\n",
       "  </tbody>\n",
       "</table>\n",
       "<p>2 rows × 42 columns</p>\n",
       "</div>"
      ],
      "text/plain": [
       "               Create Date      tenant_name  robot_code robot_name  \\\n",
       "99998  2022-09-20 00:00:00  Alime-DRZ-CC-BD  l2Cgc9psxK  BD-Daz-EN   \n",
       "99999  2022-09-20 00:00:00  Alime-DRZ-CC-BD  l2Cgc9psxK  BD-Daz-EN   \n",
       "\n",
       "          from_id         from_name                        Session_id  \\\n",
       "99998  2QpojyCHcD  BD-Daz-EN-DD-App  7e2c119702b441a19bb39590347793be   \n",
       "99999  2QpojyCHcD  BD-Daz-EN-DD-App  7e2c119702b441a19bb39590347793be   \n",
       "\n",
       "                Intention           user_id  Seller id (X-space)  ...  \\\n",
       "99998  route_daraz_others  2101100093818184         7.000504e+11  ...   \n",
       "99999                 NaN  2101100093818184         7.000504e+11  ...   \n",
       "\n",
       "      Feedback Card Response is_chat_recommend is_chat_no answer  \\\n",
       "99998                    NaN                 N                 N   \n",
       "99999                    NaN                 N                 N   \n",
       "\n",
       "      is_chat_pre/post match live agent_session_id  \\\n",
       "99998                      N                   NaN   \n",
       "99999                      Y                   NaN   \n",
       "\n",
       "      Last Query Before Live Agent Session Live Agent User Query  \\\n",
       "99998                                  NaN                   NaN   \n",
       "99999                                  NaN                   NaN   \n",
       "\n",
       "      Live Agent Response  Feedback Type Unsatisfied Reason  \n",
       "99998                 NaN            NaN                NaN  \n",
       "99999                 NaN            NaN                NaN  \n",
       "\n",
       "[2 rows x 42 columns]"
      ]
     },
     "execution_count": 10,
     "metadata": {},
     "output_type": "execute_result"
    }
   ],
   "source": [
    "DF09190925_CD.tail(2)"
   ]
  },
  {
   "cell_type": "code",
   "execution_count": 11,
   "metadata": {},
   "outputs": [
    {
     "data": {
      "text/plain": [
       "2022-09-24 00:00:00    20163\n",
       "2022-09-19 00:00:00    17312\n",
       "2022-09-22 00:00:00    13501\n",
       "2022-09-20 00:00:00    13434\n",
       "2022-09-23 00:00:00    13080\n",
       "2022-09-25 00:00:00    11464\n",
       "2022-09-21 00:00:00    11046\n",
       "Name: Create Date, dtype: int64"
      ]
     },
     "execution_count": 11,
     "metadata": {},
     "output_type": "execute_result"
    }
   ],
   "source": [
    "DF09190925_CD['Create Date'].value_counts()"
   ]
  },
  {
   "cell_type": "code",
   "execution_count": 12,
   "metadata": {},
   "outputs": [
    {
     "data": {
      "text/plain": [
       "Index(['Create Date', 'tenant_name', 'robot_code', 'robot_name', 'from_id',\n",
       "       'from_name', 'Session_id', 'Intention', 'user_id',\n",
       "       'Seller id (X-space)', 'user_nick', 'create_time', 'chat_uuid',\n",
       "       'Enter Type', 'query', 'Question Type', 'sopname', 'answer_type',\n",
       "       'SOP_Solution_id', 'SOP_Solution_Name', 'Standard Knowledge Title',\n",
       "       'Knowledge_id', 'knowledge_cate_1_name', 'knowledge_cate_2_name',\n",
       "       'knowledge_cate_3_name', 'is_session_unsatisfied',\n",
       "       'is_session_last_no answer', 'call_agent_by_click_shortcut',\n",
       "       'is_session_last_recommend no click', 'call_agent_by_intention',\n",
       "       'is_session_direct_liveagent', 'Contacted live agent on same day',\n",
       "       'Feedback Card Response', 'is_chat_recommend', 'is_chat_no answer',\n",
       "       'is_chat_pre/post match', 'live agent_session_id',\n",
       "       'Last Query Before Live Agent Session', 'Live Agent User Query',\n",
       "       'Live Agent Response', 'Feedback Type', 'Unsatisfied Reason'],\n",
       "      dtype='object')"
      ]
     },
     "execution_count": 12,
     "metadata": {},
     "output_type": "execute_result"
    }
   ],
   "source": [
    "DF09190925_CD.columns"
   ]
  },
  {
   "cell_type": "code",
   "execution_count": 14,
   "metadata": {},
   "outputs": [],
   "source": [
    "TEXT_C = DF09190925_CD['query'].str.cat(sep = ' ')"
   ]
  },
  {
   "cell_type": "code",
   "execution_count": 15,
   "metadata": {},
   "outputs": [],
   "source": [
    "TEXT_C =  TEXT_C.lower()"
   ]
  },
  {
   "cell_type": "code",
   "execution_count": 20,
   "metadata": {},
   "outputs": [],
   "source": [
    "words = set(nltk.corpus.words.words())"
   ]
  },
  {
   "cell_type": "code",
   "execution_count": 21,
   "metadata": {},
   "outputs": [],
   "source": [
    "sent = \"To andimo to the beach with ammico\""
   ]
  },
  {
   "cell_type": "code",
   "execution_count": null,
   "metadata": {},
   "outputs": [],
   "source": [
    "\" \".join(w for w in nltk.wordpunct_tokenize(sent))"
   ]
  },
  {
   "cell_type": "code",
   "execution_count": 19,
   "metadata": {},
   "outputs": [
    {
     "data": {
      "text/plain": [
       "2795387"
      ]
     },
     "execution_count": 19,
     "metadata": {},
     "output_type": "execute_result"
    }
   ],
   "source": [
    "len(TEXT_C)"
   ]
  },
  {
   "cell_type": "code",
   "execution_count": 13,
   "metadata": {},
   "outputs": [
    {
     "data": {
      "text/plain": [
       "False"
      ]
     },
     "execution_count": 13,
     "metadata": {},
     "output_type": "execute_result"
    }
   ],
   "source": [
    "TEXT_C.isalpha()"
   ]
  },
  {
   "cell_type": "code",
   "execution_count": 20,
   "metadata": {},
   "outputs": [],
   "source": [
    "WORDS_C = tokens(TEXT_C)"
   ]
  },
  {
   "cell_type": "code",
   "execution_count": 21,
   "metadata": {},
   "outputs": [
    {
     "data": {
      "text/plain": [
       "'order very prematch my product to an prematch my available'"
      ]
     },
     "execution_count": 21,
     "metadata": {},
     "output_type": "execute_result"
    }
   ],
   "source": [
    "sentence(sample(WORDS_C))"
   ]
  },
  {
   "cell_type": "code",
   "execution_count": 22,
   "metadata": {},
   "outputs": [
    {
     "data": {
      "text/plain": [
       "['how',\n",
       " 'can',\n",
       " 'i',\n",
       " 'track',\n",
       " 'my',\n",
       " 'order',\n",
       " 'prematch',\n",
       " 'item',\n",
       " 'shipped',\n",
       " 'hoyeche',\n",
       " 'prematch',\n",
       " 'need',\n",
       " 'help',\n",
       " 'prematch',\n",
       " 'cancel',\n",
       " 'order',\n",
       " 'i',\n",
       " 'don',\n",
       " 't',\n",
       " 'ricved']"
      ]
     },
     "execution_count": 22,
     "metadata": {},
     "output_type": "execute_result"
    }
   ],
   "source": [
    "WORDS_C[:20]"
   ]
  },
  {
   "cell_type": "code",
   "execution_count": 23,
   "metadata": {},
   "outputs": [],
   "source": [
    "BAG_C = Bag(WORDS_C)"
   ]
  },
  {
   "cell_type": "code",
   "execution_count": 24,
   "metadata": {},
   "outputs": [
    {
     "data": {
      "text/plain": [
       "[('prematch', 20918),\n",
       " ('order', 19688),\n",
       " ('i', 15474),\n",
       " ('my', 12661),\n",
       " ('need', 7974),\n",
       " ('help', 7891),\n",
       " ('cancel', 7124),\n",
       " ('can', 7062),\n",
       " ('to', 6843),\n",
       " ('is', 5874),\n",
       " ('how', 5863),\n",
       " ('track', 5406),\n",
       " ('return', 4708),\n",
       " ('agent', 4620),\n",
       " ('want', 3685),\n",
       " ('about', 3522),\n",
       " ('customer', 2922),\n",
       " ('query', 2913),\n",
       " ('refund', 2772),\n",
       " ('delivery', 2756)]"
      ]
     },
     "execution_count": 24,
     "metadata": {},
     "output_type": "execute_result"
    }
   ],
   "source": [
    "BAG_C.most_common(20)"
   ]
  },
  {
   "cell_type": "code",
   "execution_count": 26,
   "metadata": {},
   "outputs": [
    {
     "data": {
      "image/png": "[encoded data removed]",
      "text/plain": [
       "<Figure size 640x480 with 1 Axes>"
      ]
     },
     "metadata": {},
     "output_type": "display_data"
    }
   ],
   "source": [
    "zifp_plot(BAG_C)"
   ]
  },
  {
   "cell_type": "code",
   "execution_count": null,
   "metadata": {},
   "outputs": [],
   "source": [
    "\"\"\n",
    "TEXT_C"
   ]
  },
  {
   "cell_type": "code",
   "execution_count": 32,
   "metadata": {},
   "outputs": [],
   "source": [
    "WORD_C_NLTK_BN = \" \".join(word for word in tokenizer.tokenize(TEXT_C) if not word.isascii()) #White Space Tokenizer\n",
    "WORD_C_NLTK_EN = \" \".join(word for word in tokenizer.tokenize(TEXT_C) if word.isascii())\n",
    "# WORDS_C_NLTK = tokenizer.tokenize(TEXT_C) #Using NLTK gives a more accurate tokenized words"
   ]
  },
  {
   "cell_type": "code",
   "execution_count": null,
   "metadata": {},
   "outputs": [],
   "source": [
    "WORD_C_NLTK_BN"
   ]
  },
  {
   "cell_type": "code",
   "execution_count": 33,
   "metadata": {},
   "outputs": [
    {
     "data": {
      "text/plain": [
       "'র্ডার কিভাবে বাতিল করব আমার সাহায্য লাগবে আমার অর্ডার কিভাবে ট্র্যাক করতে পারবো আমার ডেলিভারি ফেইল্ড দেখাচ্ছে কেন কালেকশন পয়েন্ট কোন সময়ে খোলা থাকবে কাবে অাসবে আমার অর্ডার আসতে দেরি হচ্ছে কেন ভাষা পরিবর্তন করবো কিভাবে? আমি অর্ডার সম্পর্কে জানতে চাই আমি একটা এসি ইন্সটলমেন্টে নেওয়ার জন্য ফরম পূরণ করেছিলাম সেটা কি ইন্সটলমেন্টে হয়েছে নাকি একটু দেখবেন । অর্ডার বাতিল আমি অর্ডার সম্পর্কে জানতে চাই আমি অর্ডার সম্পর্কে জানতে চাই অর্ডার বাতিল আমার সাহায্য লাগবে আমি আমার ক্যান্সেল করা অর্ডার গুলো আবার আমি কিনতে চাই বিকাশ দিয়ে পেমেন্ট করতে পারছিনা কেন? আরো সাহায্য প্রয়োজন আমার অর্ডার কিভাবে ট্র্যাক করতে পারবো টিসাট নিমুনা আমার সাহায্য লাগবে অর্ডার বাছাইকরণ কিভাবে ব্যবহার করব? চ্যাটবট গাইড আমার সাহায্য লাগবে আমার সাহায্য লাগবে শিপিং এবং ডেলিভেরি সক্রান্ত প্রশ্ন অর্ডার ট্র্যাক রিটার্ন নিবেন কয়দিনের ভিতরে আর অর্ডার গুলো আমি ক্যানসেল করতেও পারছি না আমার সাহায্য লাগবে চ্যাটবট গাইড অর্ডার ট্র্যাক আমার অর্ডার কিভাবে ট্র্যাক করতে পারবো? ২১ তারিখে আসবে আমি কি পণ্যটি রিটার্ন করতে পারবো আমি কি পণ্যটি রি'"
      ]
     },
     "execution_count": 33,
     "metadata": {},
     "output_type": "execute_result"
    }
   ],
   "source": [
    "WORD_C_NLTK_BN[1:1000]"
   ]
  },
  {
   "cell_type": "code",
   "execution_count": 34,
   "metadata": {},
   "outputs": [
    {
     "data": {
      "text/plain": [
       "'ow can i track my order prematch - item shipped hoyeche prematch - need help prematch - cancel order i don\\'t ricved that ..... ? where is my order prematch - track order prematch - need help prematch - track order need more help where is my order how can i track my order prematch - cancel order pant ta chira ami ki amar order cancel korte parbo prematch - need help jr jjf registration offer nai 0 live agent prematch - need help why can\\'t i cancel my order? amar order ashte deri hocche keno prematch - track order prematch - cancel my order please help me {\"url\":\"https://alime-customer-upload-lazada.oss-ap-southeast-1.aliyuncs.com/customer-upload/1663613301641_65be703239c948a7beb370504e760d4a.jpg\"} prematch - return why do i see a failed delivery attempt ami je mal ta order dici mal ta amr dorker taratari,,kintu akta vul hoice ami vul kore akta number vul dici gent prematch - need help 632192387430763 need more help prematch - prematch - prematch - need help where is my order payment re'"
      ]
     },
     "execution_count": 34,
     "metadata": {},
     "output_type": "execute_result"
    }
   ],
   "source": [
    "WORD_C_NLTK_EN[1:1000]"
   ]
  },
  {
   "cell_type": "code",
   "execution_count": null,
   "metadata": {},
   "outputs": [],
   "source": []
  },
  {
   "cell_type": "code",
   "execution_count": 18,
   "metadata": {},
   "outputs": [
    {
     "data": {
      "text/plain": [
       "['can',\n",
       " 'i',\n",
       " 'track',\n",
       " 'my',\n",
       " 'order',\n",
       " 'অর্ডার',\n",
       " 'কিভাবে',\n",
       " 'বাতিল',\n",
       " 'করব',\n",
       " 'prematch',\n",
       " '-',\n",
       " 'আমার',\n",
       " 'সাহায্য',\n",
       " 'লাগবে',\n",
       " 'আমার',\n",
       " 'অর্ডার',\n",
       " 'কিভাবে',\n",
       " 'ট্র্যাক',\n",
       " 'করতে',\n",
       " 'পারবো',\n",
       " 'item',\n",
       " 'shipped',\n",
       " 'hoyeche',\n",
       " 'prematch',\n",
       " '-',\n",
       " 'need',\n",
       " 'help',\n",
       " 'prematch',\n",
       " '-']"
      ]
     },
     "execution_count": 18,
     "metadata": {},
     "output_type": "execute_result"
    }
   ],
   "source": [
    "WORDS_C_NLTK[1:30]"
   ]
  },
  {
   "cell_type": "code",
   "execution_count": 17,
   "metadata": {},
   "outputs": [
    {
     "data": {
      "text/plain": [
       "462665"
      ]
     },
     "execution_count": 17,
     "metadata": {},
     "output_type": "execute_result"
    }
   ],
   "source": [
    "len(WORDS_C_NLTK)"
   ]
  },
  {
   "cell_type": "code",
   "execution_count": 16,
   "metadata": {},
   "outputs": [],
   "source": [
    "WORDS_C_POS_TAG = nltk.pos_tag(WORDS_C_NLTK) #parts of speech tags"
   ]
  },
  {
   "cell_type": "code",
   "execution_count": 17,
   "metadata": {},
   "outputs": [],
   "source": [
    "WORDS_NOUNS = [word for word, pos in WORDS_C_POS_TAG if(pos == 'NN' or pos == 'NNP' or pos == 'NNS' or pos == 'NNPS')]\n",
    "WORDS_VERBS = [word for word, pos in WORDS_C_POS_TAG if(pos == 'VB' or pos == 'VBD' or pos == 'VBG' or pos == 'VBN' or pos == 'VBP', pos == 'VBZ')]"
   ]
  },
  {
   "cell_type": "code",
   "execution_count": 32,
   "metadata": {},
   "outputs": [
    {
     "data": {
      "text/plain": [
       "['অর্ডার',\n",
       " 'কিভাবে',\n",
       " 'বাতিল',\n",
       " 'করব',\n",
       " 'prematch',\n",
       " 'আমার',\n",
       " 'লাগবে',\n",
       " 'আমার',\n",
       " 'অর্ডার']"
      ]
     },
     "execution_count": 32,
     "metadata": {},
     "output_type": "execute_result"
    }
   ],
   "source": [
    "WORDS_NOUNS[1:10]"
   ]
  },
  {
   "cell_type": "code",
   "execution_count": 34,
   "metadata": {},
   "outputs": [
    {
     "ename": "ValueError",
     "evalue": "' ' is not in list",
     "output_type": "error",
     "traceback": [
      "\u001b[1;31m---------------------------------------------------------------------------\u001b[0m",
      "\u001b[1;31mValueError\u001b[0m                                Traceback (most recent call last)",
      "Cell \u001b[1;32mIn [34], line 1\u001b[0m\n\u001b[1;32m----> 1\u001b[0m \u001b[43mWORDS_NOUNS\u001b[49m\u001b[38;5;241;43m.\u001b[39;49m\u001b[43mindex\u001b[49m\u001b[43m(\u001b[49m\u001b[38;5;124;43m'\u001b[39;49m\u001b[38;5;124;43m \u001b[39;49m\u001b[38;5;124;43m'\u001b[39;49m\u001b[43m)\u001b[49m\n",
      "\u001b[1;31mValueError\u001b[0m: ' ' is not in list"
     ]
    }
   ],
   "source": [
    "WORDS_NOUNS.index(' ')"
   ]
  },
  {
   "cell_type": "code",
   "execution_count": 27,
   "metadata": {},
   "outputs": [
    {
     "data": {
      "text/plain": [
       "495714"
      ]
     },
     "execution_count": 27,
     "metadata": {},
     "output_type": "execute_result"
    }
   ],
   "source": [
    "len(WORDS_VERBS)"
   ]
  },
  {
   "cell_type": "code",
   "execution_count": null,
   "metadata": {},
   "outputs": [],
   "source": []
  },
  {
   "cell_type": "code",
   "execution_count": 36,
   "metadata": {},
   "outputs": [],
   "source": [
    "WORDS_NOUNS_EN = []\n",
    "WORDS_NOUNS_BN = [] \n",
    "\n",
    "for word in WORDS_NOUNS:\n",
    "\n",
    "    try:\n",
    "\n",
    "        if detect(word) == 'en':\n",
    "\n",
    "            WORDS_NOUNS_EN.append(word)\n",
    "\n",
    "        else:\n",
    "\n",
    "            pass \n",
    "\n",
    "    except:\n",
    "\n",
    "        # print('Exception')\n",
    "        \n",
    "        pass"
   ]
  },
  {
   "cell_type": "code",
   "execution_count": null,
   "metadata": {},
   "outputs": [],
   "source": []
  },
  {
   "cell_type": "code",
   "execution_count": 20,
   "metadata": {},
   "outputs": [
    {
     "ename": "LangDetectException",
     "evalue": "No features in text.",
     "output_type": "error",
     "traceback": [
      "\u001b[1;31m---------------------------------------------------------------------------\u001b[0m",
      "\u001b[1;31mLangDetectException\u001b[0m                       Traceback (most recent call last)",
      "Cell \u001b[1;32mIn [20], line 1\u001b[0m\n\u001b[1;32m----> 1\u001b[0m [word \u001b[38;5;28;01mfor\u001b[39;00m word \u001b[38;5;129;01min\u001b[39;00m WORDS_NOUNS \u001b[38;5;28;01mif\u001b[39;00m(detect(word) \u001b[38;5;241m==\u001b[39m \u001b[38;5;124m'\u001b[39m\u001b[38;5;124men\u001b[39m\u001b[38;5;124m'\u001b[39m)]\n",
      "Cell \u001b[1;32mIn [20], line 1\u001b[0m, in \u001b[0;36m<listcomp>\u001b[1;34m(.0)\u001b[0m\n\u001b[1;32m----> 1\u001b[0m [word \u001b[38;5;28;01mfor\u001b[39;00m word \u001b[38;5;129;01min\u001b[39;00m WORDS_NOUNS \u001b[38;5;28;01mif\u001b[39;00m(\u001b[43mdetect\u001b[49m\u001b[43m(\u001b[49m\u001b[43mword\u001b[49m\u001b[43m)\u001b[49m \u001b[38;5;241m==\u001b[39m \u001b[38;5;124m'\u001b[39m\u001b[38;5;124men\u001b[39m\u001b[38;5;124m'\u001b[39m)]\n",
      "File \u001b[1;32me:\\nlp_research3\\lib\\site-packages\\langdetect\\detector_factory.py:130\u001b[0m, in \u001b[0;36mdetect\u001b[1;34m(text)\u001b[0m\n\u001b[0;32m    128\u001b[0m detector \u001b[39m=\u001b[39m _factory\u001b[39m.\u001b[39mcreate()\n\u001b[0;32m    129\u001b[0m detector\u001b[39m.\u001b[39mappend(text)\n\u001b[1;32m--> 130\u001b[0m \u001b[39mreturn\u001b[39;00m detector\u001b[39m.\u001b[39;49mdetect()\n",
      "File \u001b[1;32me:\\nlp_research3\\lib\\site-packages\\langdetect\\detector.py:136\u001b[0m, in \u001b[0;36mDetector.detect\u001b[1;34m(self)\u001b[0m\n\u001b[0;32m    132\u001b[0m \u001b[39mdef\u001b[39;00m \u001b[39mdetect\u001b[39m(\u001b[39mself\u001b[39m):\n\u001b[0;32m    133\u001b[0m     \u001b[39m'''Detect language of the target text and return the language name\u001b[39;00m\n\u001b[0;32m    134\u001b[0m \u001b[39m    which has the highest probability.\u001b[39;00m\n\u001b[0;32m    135\u001b[0m \u001b[39m    '''\u001b[39;00m\n\u001b[1;32m--> 136\u001b[0m     probabilities \u001b[39m=\u001b[39m \u001b[39mself\u001b[39;49m\u001b[39m.\u001b[39;49mget_probabilities()\n\u001b[0;32m    137\u001b[0m     \u001b[39mif\u001b[39;00m probabilities:\n\u001b[0;32m    138\u001b[0m         \u001b[39mreturn\u001b[39;00m probabilities[\u001b[39m0\u001b[39m]\u001b[39m.\u001b[39mlang\n",
      "File \u001b[1;32me:\\nlp_research3\\lib\\site-packages\\langdetect\\detector.py:143\u001b[0m, in \u001b[0;36mDetector.get_probabilities\u001b[1;34m(self)\u001b[0m\n\u001b[0;32m    141\u001b[0m \u001b[39mdef\u001b[39;00m \u001b[39mget_probabilities\u001b[39m(\u001b[39mself\u001b[39m):\n\u001b[0;32m    142\u001b[0m     \u001b[39mif\u001b[39;00m \u001b[39mself\u001b[39m\u001b[39m.\u001b[39mlangprob \u001b[39mis\u001b[39;00m \u001b[39mNone\u001b[39;00m:\n\u001b[1;32m--> 143\u001b[0m         \u001b[39mself\u001b[39;49m\u001b[39m.\u001b[39;49m_detect_block()\n\u001b[0;32m    144\u001b[0m     \u001b[39mreturn\u001b[39;00m \u001b[39mself\u001b[39m\u001b[39m.\u001b[39m_sort_probability(\u001b[39mself\u001b[39m\u001b[39m.\u001b[39mlangprob)\n",
      "File \u001b[1;32me:\\nlp_research3\\lib\\site-packages\\langdetect\\detector.py:150\u001b[0m, in \u001b[0;36mDetector._detect_block\u001b[1;34m(self)\u001b[0m\n\u001b[0;32m    148\u001b[0m ngrams \u001b[39m=\u001b[39m \u001b[39mself\u001b[39m\u001b[39m.\u001b[39m_extract_ngrams()\n\u001b[0;32m    149\u001b[0m \u001b[39mif\u001b[39;00m \u001b[39mnot\u001b[39;00m ngrams:\n\u001b[1;32m--> 150\u001b[0m     \u001b[39mraise\u001b[39;00m LangDetectException(ErrorCode\u001b[39m.\u001b[39mCantDetectError, \u001b[39m'\u001b[39m\u001b[39mNo features in text.\u001b[39m\u001b[39m'\u001b[39m)\n\u001b[0;32m    152\u001b[0m \u001b[39mself\u001b[39m\u001b[39m.\u001b[39mlangprob \u001b[39m=\u001b[39m [\u001b[39m0.0\u001b[39m] \u001b[39m*\u001b[39m \u001b[39mlen\u001b[39m(\u001b[39mself\u001b[39m\u001b[39m.\u001b[39mlanglist)\n\u001b[0;32m    154\u001b[0m \u001b[39mself\u001b[39m\u001b[39m.\u001b[39mrandom\u001b[39m.\u001b[39mseed(\u001b[39mself\u001b[39m\u001b[39m.\u001b[39mseed)\n",
      "\u001b[1;31mLangDetectException\u001b[0m: No features in text."
     ]
    }
   ],
   "source": [
    "[word for word in WORDS_NOUNS if(detect(word) == 'en')]"
   ]
  },
  {
   "cell_type": "code",
   "execution_count": 19,
   "metadata": {},
   "outputs": [
    {
     "ename": "LangDetectException",
     "evalue": "No features in text.",
     "output_type": "error",
     "traceback": [
      "\u001b[1;31m---------------------------------------------------------------------------\u001b[0m",
      "\u001b[1;31mLangDetectException\u001b[0m                       Traceback (most recent call last)",
      "Cell \u001b[1;32mIn [19], line 1\u001b[0m\n\u001b[1;32m----> 1\u001b[0m WORDS_NOUNS_EN \u001b[38;5;241m=\u001b[39m [word \u001b[38;5;28;01mfor\u001b[39;00m word \u001b[38;5;129;01min\u001b[39;00m WORDS_NOUNS \u001b[38;5;28;01mif\u001b[39;00m(detect(word) \u001b[38;5;241m==\u001b[39m \u001b[38;5;124m'\u001b[39m\u001b[38;5;124men\u001b[39m\u001b[38;5;124m'\u001b[39m)]\n",
      "Cell \u001b[1;32mIn [19], line 1\u001b[0m, in \u001b[0;36m<listcomp>\u001b[1;34m(.0)\u001b[0m\n\u001b[1;32m----> 1\u001b[0m WORDS_NOUNS_EN \u001b[38;5;241m=\u001b[39m [word \u001b[38;5;28;01mfor\u001b[39;00m word \u001b[38;5;129;01min\u001b[39;00m WORDS_NOUNS \u001b[38;5;28;01mif\u001b[39;00m(\u001b[43mdetect\u001b[49m\u001b[43m(\u001b[49m\u001b[43mword\u001b[49m\u001b[43m)\u001b[49m \u001b[38;5;241m==\u001b[39m \u001b[38;5;124m'\u001b[39m\u001b[38;5;124men\u001b[39m\u001b[38;5;124m'\u001b[39m)]\n",
      "File \u001b[1;32me:\\nlp_research3\\lib\\site-packages\\langdetect\\detector_factory.py:130\u001b[0m, in \u001b[0;36mdetect\u001b[1;34m(text)\u001b[0m\n\u001b[0;32m    128\u001b[0m detector \u001b[39m=\u001b[39m _factory\u001b[39m.\u001b[39mcreate()\n\u001b[0;32m    129\u001b[0m detector\u001b[39m.\u001b[39mappend(text)\n\u001b[1;32m--> 130\u001b[0m \u001b[39mreturn\u001b[39;00m detector\u001b[39m.\u001b[39;49mdetect()\n",
      "File \u001b[1;32me:\\nlp_research3\\lib\\site-packages\\langdetect\\detector.py:136\u001b[0m, in \u001b[0;36mDetector.detect\u001b[1;34m(self)\u001b[0m\n\u001b[0;32m    132\u001b[0m \u001b[39mdef\u001b[39;00m \u001b[39mdetect\u001b[39m(\u001b[39mself\u001b[39m):\n\u001b[0;32m    133\u001b[0m     \u001b[39m'''Detect language of the target text and return the language name\u001b[39;00m\n\u001b[0;32m    134\u001b[0m \u001b[39m    which has the highest probability.\u001b[39;00m\n\u001b[0;32m    135\u001b[0m \u001b[39m    '''\u001b[39;00m\n\u001b[1;32m--> 136\u001b[0m     probabilities \u001b[39m=\u001b[39m \u001b[39mself\u001b[39;49m\u001b[39m.\u001b[39;49mget_probabilities()\n\u001b[0;32m    137\u001b[0m     \u001b[39mif\u001b[39;00m probabilities:\n\u001b[0;32m    138\u001b[0m         \u001b[39mreturn\u001b[39;00m probabilities[\u001b[39m0\u001b[39m]\u001b[39m.\u001b[39mlang\n",
      "File \u001b[1;32me:\\nlp_research3\\lib\\site-packages\\langdetect\\detector.py:143\u001b[0m, in \u001b[0;36mDetector.get_probabilities\u001b[1;34m(self)\u001b[0m\n\u001b[0;32m    141\u001b[0m \u001b[39mdef\u001b[39;00m \u001b[39mget_probabilities\u001b[39m(\u001b[39mself\u001b[39m):\n\u001b[0;32m    142\u001b[0m     \u001b[39mif\u001b[39;00m \u001b[39mself\u001b[39m\u001b[39m.\u001b[39mlangprob \u001b[39mis\u001b[39;00m \u001b[39mNone\u001b[39;00m:\n\u001b[1;32m--> 143\u001b[0m         \u001b[39mself\u001b[39;49m\u001b[39m.\u001b[39;49m_detect_block()\n\u001b[0;32m    144\u001b[0m     \u001b[39mreturn\u001b[39;00m \u001b[39mself\u001b[39m\u001b[39m.\u001b[39m_sort_probability(\u001b[39mself\u001b[39m\u001b[39m.\u001b[39mlangprob)\n",
      "File \u001b[1;32me:\\nlp_research3\\lib\\site-packages\\langdetect\\detector.py:150\u001b[0m, in \u001b[0;36mDetector._detect_block\u001b[1;34m(self)\u001b[0m\n\u001b[0;32m    148\u001b[0m ngrams \u001b[39m=\u001b[39m \u001b[39mself\u001b[39m\u001b[39m.\u001b[39m_extract_ngrams()\n\u001b[0;32m    149\u001b[0m \u001b[39mif\u001b[39;00m \u001b[39mnot\u001b[39;00m ngrams:\n\u001b[1;32m--> 150\u001b[0m     \u001b[39mraise\u001b[39;00m LangDetectException(ErrorCode\u001b[39m.\u001b[39mCantDetectError, \u001b[39m'\u001b[39m\u001b[39mNo features in text.\u001b[39m\u001b[39m'\u001b[39m)\n\u001b[0;32m    152\u001b[0m \u001b[39mself\u001b[39m\u001b[39m.\u001b[39mlangprob \u001b[39m=\u001b[39m [\u001b[39m0.0\u001b[39m] \u001b[39m*\u001b[39m \u001b[39mlen\u001b[39m(\u001b[39mself\u001b[39m\u001b[39m.\u001b[39mlanglist)\n\u001b[0;32m    154\u001b[0m \u001b[39mself\u001b[39m\u001b[39m.\u001b[39mrandom\u001b[39m.\u001b[39mseed(\u001b[39mself\u001b[39m\u001b[39m.\u001b[39mseed)\n",
      "\u001b[1;31mLangDetectException\u001b[0m: No features in text."
     ]
    }
   ],
   "source": [
    "WORDS_NOUNS_EN = [word for word in WORDS_NOUNS if(detect(word) == 'en')]\n",
    "# WORDS_NOUNS_BN = [word for word in WORDS_NOUNS if(detect(word) == 'bn')]\n"
   ]
  },
  {
   "cell_type": "code",
   "execution_count": 50,
   "metadata": {},
   "outputs": [
    {
     "data": {
      "text/plain": [
       "'অর্ডার আমার ডেলিভারি i i chay prematch কি need প্রশ্ন'"
      ]
     },
     "execution_count": 50,
     "metadata": {},
     "output_type": "execute_result"
    }
   ],
   "source": [
    "sentence(sample(WORDS_NOUNS))"
   ]
  },
  {
   "cell_type": "code",
   "execution_count": 51,
   "metadata": {},
   "outputs": [],
   "source": [
    "BAG_NOUNS = Bag(WORDS_NOUNS)"
   ]
  },
  {
   "cell_type": "code",
   "execution_count": 52,
   "metadata": {},
   "outputs": [],
   "source": [
    "BAG_VERBS = Bag(WORDS_VERBS)"
   ]
  },
  {
   "cell_type": "code",
   "execution_count": 28,
   "metadata": {},
   "outputs": [
    {
     "data": {
      "text/plain": [
       "495747"
      ]
     },
     "execution_count": 28,
     "metadata": {},
     "output_type": "execute_result"
    }
   ],
   "source": [
    "len(tokens)"
   ]
  },
  {
   "cell_type": "code",
   "execution_count": 32,
   "metadata": {},
   "outputs": [],
   "source": [
    "BAG_C = Bag(WORDS_C_NLTK)"
   ]
  },
  {
   "cell_type": "code",
   "execution_count": 34,
   "metadata": {},
   "outputs": [
    {
     "data": {
      "text/plain": [
       "[('-', 20936),\n",
       " ('Prematch', 20918),\n",
       " ('?', 14164),\n",
       " ('I', 13974),\n",
       " ('order', 13665),\n",
       " ('আমার', 12442),\n",
       " ('my', 11125),\n",
       " ('অর্ডার', 11090),\n",
       " ('help', 7769),\n",
       " ('কিভাবে', 7304),\n",
       " ('to', 6820),\n",
       " ('Need', 6316),\n",
       " ('Order', 6010),\n",
       " ('How', 5752),\n",
       " ('করতে', 5643),\n",
       " ('ট্র্যাক', 5116),\n",
       " ('is', 5108),\n",
       " ('পারবো', 4940),\n",
       " ('আমি', 4491),\n",
       " ('সাহায্য', 4456),\n",
       " ('.', 4173),\n",
       " ('cancel', 3942),\n",
       " ('লাগবে', 3784),\n",
       " ('Can', 3650),\n",
       " ('want', 3622),\n",
       " ('about', 3522),\n",
       " ('রিটার্ন', 3456),\n",
       " ('বাতিল', 3355),\n",
       " ('agent', 3229),\n",
       " ('Cancel', 3181)]"
      ]
     },
     "execution_count": 34,
     "metadata": {},
     "output_type": "execute_result"
    }
   ],
   "source": [
    "BAG_C.most_common(30)"
   ]
  },
  {
   "cell_type": "code",
   "execution_count": null,
   "metadata": {},
   "outputs": [],
   "source": [
    "TEXT = open('big.txt').read()"
   ]
  },
  {
   "cell_type": "code",
   "execution_count": null,
   "metadata": {},
   "outputs": [],
   "source": [
    "TEXT[:200]"
   ]
  },
  {
   "cell_type": "code",
   "execution_count": null,
   "metadata": {},
   "outputs": [],
   "source": [
    "len(TEXT)"
   ]
  },
  {
   "cell_type": "code",
   "execution_count": 21,
   "metadata": {},
   "outputs": [
    {
     "data": {
      "text/plain": [
       "['need',\n",
       " 'help',\n",
       " 'jrjjfregistration',\n",
       " 'offer',\n",
       " 'nai',\n",
       " 'live',\n",
       " 'agentprematch',\n",
       " 'need',\n",
       " 'help',\n",
       " 'why']"
      ]
     },
     "execution_count": 21,
     "metadata": {},
     "output_type": "execute_result"
    }
   ],
   "source": [
    "WORDS_C[50:60]"
   ]
  },
  {
   "cell_type": "code",
   "execution_count": 37,
   "metadata": {},
   "outputs": [
    {
     "data": {
      "text/plain": [
       "['this', 'is', 'a', 'tet']"
      ]
     },
     "execution_count": 37,
     "metadata": {},
     "output_type": "execute_result"
    }
   ],
   "source": [
    "tokens('This is a tet')"
   ]
  },
  {
   "cell_type": "code",
   "execution_count": 43,
   "metadata": {},
   "outputs": [
    {
     "data": {
      "text/plain": [
       "[('i', 12753),\n",
       " ('my', 11901),\n",
       " ('order', 10489),\n",
       " ('prematch', 9763),\n",
       " ('need', 7016),\n",
       " ('cancel', 6950),\n",
       " ('to', 6820),\n",
       " ('is', 5452),\n",
       " ('track', 5401),\n",
       " ('can', 5112),\n",
       " ('want', 3648),\n",
       " ('about', 3522),\n",
       " ('return', 3373),\n",
       " ('how', 2761),\n",
       " ('related', 2678),\n",
       " ('an', 2646),\n",
       " ('orderprematch', 2562),\n",
       " ('customer', 2528),\n",
       " ('delivery', 2499),\n",
       " ('help', 2240)]"
      ]
     },
     "execution_count": 43,
     "metadata": {},
     "output_type": "execute_result"
    }
   ],
   "source": [
    "BAG_C.most_common(20) #Most common words"
   ]
  },
  {
   "cell_type": "code",
   "execution_count": 46,
   "metadata": {},
   "outputs": [
    {
     "data": {
      "image/png": "[encoded data removed]",
      "text/plain": [
       "<Figure size 640x480 with 1 Axes>"
      ]
     },
     "metadata": {},
     "output_type": "display_data"
    }
   ],
   "source": [
    "zifp_plot(BAG_C)"
   ]
  },
  {
   "cell_type": "code",
   "execution_count": null,
   "metadata": {},
   "outputs": [],
   "source": [
    "sentence(tokens('This is: \"A test\". 😋'))"
   ]
  },
  {
   "cell_type": "code",
   "execution_count": null,
   "metadata": {},
   "outputs": [],
   "source": [
    "WORDS = tokens(TEXT)\n",
    "len(WORDS)"
   ]
  },
  {
   "cell_type": "code",
   "execution_count": null,
   "metadata": {},
   "outputs": [],
   "source": [
    "sentence(WORDS[:10])"
   ]
  },
  {
   "cell_type": "code",
   "execution_count": null,
   "metadata": {},
   "outputs": [],
   "source": [
    "sentence(sample(WORDS)) #Sampling 10 words"
   ]
  },
  {
   "cell_type": "code",
   "execution_count": null,
   "metadata": {},
   "outputs": [],
   "source": [
    "WORDS.count('dog')"
   ]
  },
  {
   "cell_type": "code",
   "execution_count": null,
   "metadata": {},
   "outputs": [],
   "source": [
    "class Bag(Counter):\n",
    "    \"\"\"A child class for bag of words. This will inherit all the properties of the Parent Class\"\"\"\n",
    "    pass\n"
   ]
  },
  {
   "cell_type": "code",
   "execution_count": null,
   "metadata": {},
   "outputs": [],
   "source": [
    "Bag(tokens('Is this a test? It is a test? You may never know if it!'))"
   ]
  },
  {
   "cell_type": "code",
   "execution_count": null,
   "metadata": {},
   "outputs": [],
   "source": [
    "BAG = Bag(WORDS)"
   ]
  },
  {
   "cell_type": "code",
   "execution_count": null,
   "metadata": {},
   "outputs": [],
   "source": [
    "BAG.most_common(10)"
   ]
  },
  {
   "cell_type": "code",
   "execution_count": null,
   "metadata": {},
   "outputs": [],
   "source": [
    "M = max(BAG.values())"
   ]
  },
  {
   "cell_type": "code",
   "execution_count": null,
   "metadata": {},
   "outputs": [],
   "source": [
    "X = range(1, len(BAG) + 1)"
   ]
  },
  {
   "cell_type": "code",
   "execution_count": null,
   "metadata": {},
   "outputs": [],
   "source": [
    "X"
   ]
  },
  {
   "cell_type": "code",
   "execution_count": null,
   "metadata": {},
   "outputs": [],
   "source": [
    "[c for (w, c) in BAG.most_common()]"
   ]
  },
  {
   "cell_type": "code",
   "execution_count": null,
   "metadata": {},
   "outputs": [],
   "source": [
    "[M for i in X]"
   ]
  },
  {
   "cell_type": "markdown",
   "metadata": {},
   "source": [
    "the nth most frequent word appears with a frequency of roughly 1/n of the most frequent word. "
   ]
  },
  {
   "cell_type": "markdown",
   "metadata": {},
   "source": [
    "Zipf's Law"
   ]
  },
  {
   "cell_type": "code",
   "execution_count": null,
   "metadata": {},
   "outputs": [],
   "source": [
    "zifp_plot(BAG)"
   ]
  },
  {
   "cell_type": "markdown",
   "metadata": {},
   "source": [
    "Spell Correction"
   ]
  },
  {
   "cell_type": "code",
   "execution_count": null,
   "metadata": {},
   "outputs": [],
   "source": [
    "{'train'}.intersection(BAG) #Internsection of words"
   ]
  },
  {
   "cell_type": "code",
   "execution_count": null,
   "metadata": {},
   "outputs": [],
   "source": [
    "#Returns a set of words that are knowns\n",
    "\n",
    "def known(words) -> Set[Word]:\n",
    "    return words.intersection()"
   ]
  },
  {
   "cell_type": "markdown",
   "metadata": {},
   "source": [
    "insertions: "
   ]
  },
  {
   "cell_type": "code",
   "execution_count": null,
   "metadata": {},
   "outputs": [],
   "source": [
    "def splits(word) -> List[Tuple[str, str]]:\n",
    "    \"\"\"Return a list of all possible (first, rest) pairs \"\"\"\n",
    "    return[(word[:i], word[i:]) for i in range(len(word) + 1)]"
   ]
  },
  {
   "cell_type": "code",
   "execution_count": null,
   "metadata": {},
   "outputs": [],
   "source": [
    "a = 'abcdefghijklmnopqrstuvwxyz'"
   ]
  },
  {
   "cell_type": "code",
   "execution_count": null,
   "metadata": {},
   "outputs": [],
   "source": [
    "c = 'e'"
   ]
  },
  {
   "cell_type": "code",
   "execution_count": null,
   "metadata": {},
   "outputs": [],
   "source": [
    "a = 'w'\n",
    "b = 'ird'"
   ]
  },
  {
   "cell_type": "code",
   "execution_count": null,
   "metadata": {},
   "outputs": [],
   "source": [
    "a + c + b"
   ]
  },
  {
   "cell_type": "code",
   "execution_count": null,
   "metadata": {},
   "outputs": [],
   "source": [
    "a + c + b[1:]\n"
   ]
  },
  {
   "cell_type": "code",
   "execution_count": null,
   "metadata": {},
   "outputs": [],
   "source": [
    "a + b"
   ]
  },
  {
   "cell_type": "code",
   "execution_count": null,
   "metadata": {},
   "outputs": [],
   "source": [
    "a + b[1] + b[0] + b[2:]"
   ]
  },
  {
   "cell_type": "markdown",
   "metadata": {},
   "source": [
    "segmentation of char"
   ]
  },
  {
   "cell_type": "code",
   "execution_count": null,
   "metadata": {},
   "outputs": [],
   "source": [
    "print(a[:4])\n",
    "print(a[4:])"
   ]
  },
  {
   "cell_type": "code",
   "execution_count": null,
   "metadata": {},
   "outputs": [],
   "source": [
    "a+a[1]"
   ]
  },
  {
   "cell_type": "code",
   "execution_count": null,
   "metadata": {},
   "outputs": [],
   "source": [
    "splits('abcdefghijklmnopqrstuvwxyz')"
   ]
  },
  {
   "cell_type": "code",
   "execution_count": null,
   "metadata": {},
   "outputs": [],
   "source": [
    "def edits1(word) -> Set[str]:\n",
    "    \"\"\"Returns all strings that are one edit away from this word\"\"\"\n",
    "    edits = set() #set\n",
    "    for a, b in splits(word):\n",
    "        if b: edits.add(a + b[1:])"
   ]
  },
  {
   "cell_type": "code",
   "execution_count": null,
   "metadata": {},
   "outputs": [],
   "source": [
    "def correct(word) -> Word:\n",
    "    \"\"\"Best spelling correction\"\"\"\n",
    "    candidates = (known())"
   ]
  },
  {
   "cell_type": "code",
   "execution_count": null,
   "metadata": {},
   "outputs": [],
   "source": [
    "edits = set()"
   ]
  },
  {
   "cell_type": "code",
   "execution_count": null,
   "metadata": {},
   "outputs": [],
   "source": [
    "alphabet = 'abcdefghijklmnopqrstuvwxyz'\n",
    "\n",
    "def edits1(word) -> Set[str]:\n",
    "    \"\"\"Return all strings that one edit away from this word.\"\"\"\n",
    "    edits = set()\n",
    "    for a, b in splits(word):\n",
    "        if b: edits.add(a+b[1:]) #deletion of chars from mispelled words\n",
    "        if len(b) >= 2: edits.add(a+b[1]+b[0]+b[2:]) # transposition\n",
    "        for c in alphabet:\n",
    "            edits.add(a+c+b[1:]) #replacement\n",
    "            edits.add(a+c+b) #insertion\n",
    "    \n",
    "    return edits\n",
    "    return set(deletes + transposes + replaces + inserts)\n",
    "\n",
    "def edits2(word) -> Set[str]:\n",
    "    \"\"\"Return all strings that are two edits away from this word.\"\"\"\n",
    "    return {e2 for e1 in edits1(word) for e2 in edits1(e1)}\n",
    "\n",
    "\n"
   ]
  },
  {
   "cell_type": "code",
   "execution_count": null,
   "metadata": {},
   "outputs": [],
   "source": [
    "edits1('agent')"
   ]
  },
  {
   "cell_type": "code",
   "execution_count": null,
   "metadata": {},
   "outputs": [],
   "source": [
    "edits.add(a + b[1] + b[0] + b[2:])"
   ]
  },
  {
   "cell_type": "code",
   "execution_count": null,
   "metadata": {},
   "outputs": [],
   "source": []
  }
 ],
 "metadata": {
  "kernelspec": {
   "display_name": "Python 3.10.4",
   "language": "python",
   "name": "python3"
  },
  "language_info": {
   "codemirror_mode": {
    "name": "ipython",
    "version": 3
   },
   "file_extension": ".py",
   "mimetype": "text/x-python",
   "name": "python",
   "nbconvert_exporter": "python",
   "pygments_lexer": "ipython3",
   "version": "3.10.4"
  },
  "vscode": {
   "interpreter": {
    "hash": "272b4d92f697fd047e2b834142b9ab0ccdcef414125418bebcd23e37738068b2"
   }
  }
 },
 "nbformat": 4,
 "nbformat_minor": 2
}
