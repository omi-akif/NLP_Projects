{
 "cells": [
  {
   "cell_type": "markdown",
   "metadata": {},
   "source": [
    "# Discrepancy in the Data"
   ]
  },
  {
   "cell_type": "markdown",
   "metadata": {},
   "source": [
    "### Data Upload and Primary Analysis"
   ]
  },
  {
   "cell_type": "markdown",
   "metadata": {},
   "source": [
    "##### Import Libraries"
   ]
  },
  {
   "cell_type": "code",
   "execution_count": 1,
   "metadata": {},
   "outputs": [],
   "source": [
    "import pandas as pd\n",
    "import datetime as dt\n",
    "import numpy as np\n",
    "from IPython.display import display"
   ]
  },
  {
   "cell_type": "markdown",
   "metadata": {},
   "source": [
    "##### Load Dataset"
   ]
  },
  {
   "cell_type": "code",
   "execution_count": 2,
   "metadata": {},
   "outputs": [],
   "source": [
    "UNIQUE_DF = pd.read_csv('2022_05280528_CD.csv')"
   ]
  },
  {
   "cell_type": "markdown",
   "metadata": {},
   "source": [
    "### Data Analysis "
   ]
  },
  {
   "cell_type": "markdown",
   "metadata": {},
   "source": [
    "##### Peeking into the data"
   ]
  },
  {
   "cell_type": "code",
   "execution_count": 3,
   "metadata": {},
   "outputs": [
    {
     "data": {
      "text/html": [
       "<div>\n",
       "<style scoped>\n",
       "    .dataframe tbody tr th:only-of-type {\n",
       "        vertical-align: middle;\n",
       "    }\n",
       "\n",
       "    .dataframe tbody tr th {\n",
       "        vertical-align: top;\n",
       "    }\n",
       "\n",
       "    .dataframe thead th {\n",
       "        text-align: right;\n",
       "    }\n",
       "</style>\n",
       "<table border=\"1\" class=\"dataframe\">\n",
       "  <thead>\n",
       "    <tr style=\"text-align: right;\">\n",
       "      <th></th>\n",
       "      <th>Create Date</th>\n",
       "      <th>tenant_name</th>\n",
       "      <th>robot_code</th>\n",
       "      <th>robot_name</th>\n",
       "      <th>from_id</th>\n",
       "      <th>from_name</th>\n",
       "      <th>Session_id</th>\n",
       "      <th>Intention</th>\n",
       "      <th>user_id</th>\n",
       "      <th>Seller id (X-space)</th>\n",
       "      <th>...</th>\n",
       "      <th>Feedback Card Response</th>\n",
       "      <th>is_chat_recommend</th>\n",
       "      <th>is_chat_no answer</th>\n",
       "      <th>is_chat_pre/post match</th>\n",
       "      <th>live agent_session_id</th>\n",
       "      <th>Last Query Before Live Agent Session</th>\n",
       "      <th>Live Agent User Query</th>\n",
       "      <th>Live Agent Response</th>\n",
       "      <th>Feedback Type</th>\n",
       "      <th>Unsatisfied Reason</th>\n",
       "    </tr>\n",
       "  </thead>\n",
       "  <tbody>\n",
       "    <tr>\n",
       "      <th>0</th>\n",
       "      <td>2022-05-28 00:00:00</td>\n",
       "      <td>Alime-DRZ-CC-BD</td>\n",
       "      <td>l2Cgc9psxK</td>\n",
       "      <td>BD-Daz-EN</td>\n",
       "      <td>V3EasrtOgs</td>\n",
       "      <td>BD-Daz-EN-HC-App</td>\n",
       "      <td>0123f9623b6444369df512399738c36a</td>\n",
       "      <td>route_daraz_liveagent</td>\n",
       "      <td>2101100071711721</td>\n",
       "      <td>7.000436e+11</td>\n",
       "      <td>...</td>\n",
       "      <td>NaN</td>\n",
       "      <td>N</td>\n",
       "      <td>N</td>\n",
       "      <td>N</td>\n",
       "      <td>6e463e7d5ce440ceb086b768e4279f78</td>\n",
       "      <td>Connecting to Agent</td>\n",
       "      <td>Ok|||Cashback কি আছে এখনো|||Bkash Offer কি শেষ...</td>\n",
       "      <td>আর কোনভাবে সহযোগিতা করতে পারি কি, স্যার?  |||H...</td>\n",
       "      <td>NaN</td>\n",
       "      <td>NaN</td>\n",
       "    </tr>\n",
       "    <tr>\n",
       "      <th>1</th>\n",
       "      <td>2022-05-28 00:00:00</td>\n",
       "      <td>Alime-DRZ-CC-BD</td>\n",
       "      <td>l2Cgc9psxK</td>\n",
       "      <td>BD-Daz-EN</td>\n",
       "      <td>V3EasrtOgs</td>\n",
       "      <td>BD-Daz-EN-HC-App</td>\n",
       "      <td>01f4e67c763f4cd29804bcc5166b3942</td>\n",
       "      <td>route_daraz_others</td>\n",
       "      <td>2101100017841168</td>\n",
       "      <td>1.591752e+06</td>\n",
       "      <td>...</td>\n",
       "      <td>NaN</td>\n",
       "      <td>N</td>\n",
       "      <td>N</td>\n",
       "      <td>N</td>\n",
       "      <td>NaN</td>\n",
       "      <td>NaN</td>\n",
       "      <td>NaN</td>\n",
       "      <td>NaN</td>\n",
       "      <td>NaN</td>\n",
       "      <td>NaN</td>\n",
       "    </tr>\n",
       "  </tbody>\n",
       "</table>\n",
       "<p>2 rows × 42 columns</p>\n",
       "</div>"
      ],
      "text/plain": [
       "           Create Date      tenant_name  robot_code robot_name     from_id  \\\n",
       "0  2022-05-28 00:00:00  Alime-DRZ-CC-BD  l2Cgc9psxK  BD-Daz-EN  V3EasrtOgs   \n",
       "1  2022-05-28 00:00:00  Alime-DRZ-CC-BD  l2Cgc9psxK  BD-Daz-EN  V3EasrtOgs   \n",
       "\n",
       "          from_name                        Session_id              Intention  \\\n",
       "0  BD-Daz-EN-HC-App  0123f9623b6444369df512399738c36a  route_daraz_liveagent   \n",
       "1  BD-Daz-EN-HC-App  01f4e67c763f4cd29804bcc5166b3942     route_daraz_others   \n",
       "\n",
       "            user_id  Seller id (X-space)  ... Feedback Card Response  \\\n",
       "0  2101100071711721         7.000436e+11  ...                    NaN   \n",
       "1  2101100017841168         1.591752e+06  ...                    NaN   \n",
       "\n",
       "  is_chat_recommend is_chat_no answer is_chat_pre/post match  \\\n",
       "0                 N                 N                      N   \n",
       "1                 N                 N                      N   \n",
       "\n",
       "              live agent_session_id Last Query Before Live Agent Session  \\\n",
       "0  6e463e7d5ce440ceb086b768e4279f78                  Connecting to Agent   \n",
       "1                               NaN                                  NaN   \n",
       "\n",
       "                               Live Agent User Query  \\\n",
       "0  Ok|||Cashback কি আছে এখনো|||Bkash Offer কি শেষ...   \n",
       "1                                                NaN   \n",
       "\n",
       "                                 Live Agent Response  Feedback Type  \\\n",
       "0  আর কোনভাবে সহযোগিতা করতে পারি কি, স্যার?  |||H...            NaN   \n",
       "1                                                NaN            NaN   \n",
       "\n",
       "  Unsatisfied Reason  \n",
       "0                NaN  \n",
       "1                NaN  \n",
       "\n",
       "[2 rows x 42 columns]"
      ]
     },
     "execution_count": 3,
     "metadata": {},
     "output_type": "execute_result"
    }
   ],
   "source": [
    "UNIQUE_DF.head(2)"
   ]
  },
  {
   "cell_type": "code",
   "execution_count": 4,
   "metadata": {},
   "outputs": [
    {
     "data": {
      "text/html": [
       "<div>\n",
       "<style scoped>\n",
       "    .dataframe tbody tr th:only-of-type {\n",
       "        vertical-align: middle;\n",
       "    }\n",
       "\n",
       "    .dataframe tbody tr th {\n",
       "        vertical-align: top;\n",
       "    }\n",
       "\n",
       "    .dataframe thead th {\n",
       "        text-align: right;\n",
       "    }\n",
       "</style>\n",
       "<table border=\"1\" class=\"dataframe\">\n",
       "  <thead>\n",
       "    <tr style=\"text-align: right;\">\n",
       "      <th></th>\n",
       "      <th>Create Date</th>\n",
       "      <th>tenant_name</th>\n",
       "      <th>robot_code</th>\n",
       "      <th>robot_name</th>\n",
       "      <th>from_id</th>\n",
       "      <th>from_name</th>\n",
       "      <th>Session_id</th>\n",
       "      <th>Intention</th>\n",
       "      <th>user_id</th>\n",
       "      <th>Seller id (X-space)</th>\n",
       "      <th>...</th>\n",
       "      <th>Feedback Card Response</th>\n",
       "      <th>is_chat_recommend</th>\n",
       "      <th>is_chat_no answer</th>\n",
       "      <th>is_chat_pre/post match</th>\n",
       "      <th>live agent_session_id</th>\n",
       "      <th>Last Query Before Live Agent Session</th>\n",
       "      <th>Live Agent User Query</th>\n",
       "      <th>Live Agent Response</th>\n",
       "      <th>Feedback Type</th>\n",
       "      <th>Unsatisfied Reason</th>\n",
       "    </tr>\n",
       "  </thead>\n",
       "  <tbody>\n",
       "    <tr>\n",
       "      <th>25140</th>\n",
       "      <td>2022-05-28 00:00:00</td>\n",
       "      <td>Alime-DRZ-CC-BD</td>\n",
       "      <td>l2Cgc9psxK</td>\n",
       "      <td>BD-Daz-EN</td>\n",
       "      <td>V3EasrtOgs</td>\n",
       "      <td>BD-Daz-EN-HC-App</td>\n",
       "      <td>ff68a7d5d4fd4bf5b23dc11f4b639561</td>\n",
       "      <td>route_daraz_others</td>\n",
       "      <td>2101100081631151</td>\n",
       "      <td>7.005142e+11</td>\n",
       "      <td>...</td>\n",
       "      <td>NaN</td>\n",
       "      <td>N</td>\n",
       "      <td>N</td>\n",
       "      <td>N</td>\n",
       "      <td>NaN</td>\n",
       "      <td>NaN</td>\n",
       "      <td>NaN</td>\n",
       "      <td>NaN</td>\n",
       "      <td>NaN</td>\n",
       "      <td>NaN</td>\n",
       "    </tr>\n",
       "    <tr>\n",
       "      <th>25141</th>\n",
       "      <td>2022-05-28 00:00:00</td>\n",
       "      <td>Alime-DRZ-CC-BD</td>\n",
       "      <td>l2Cgc9psxK</td>\n",
       "      <td>BD-Daz-EN</td>\n",
       "      <td>2QpojyCHcD</td>\n",
       "      <td>BD-Daz-EN-DD-App</td>\n",
       "      <td>ffbdc015fdbe4996879612171febf3cd</td>\n",
       "      <td>route_daraz_others</td>\n",
       "      <td>2101100052535303</td>\n",
       "      <td>9.220500e+04</td>\n",
       "      <td>...</td>\n",
       "      <td>NaN</td>\n",
       "      <td>N</td>\n",
       "      <td>N</td>\n",
       "      <td>N</td>\n",
       "      <td>NaN</td>\n",
       "      <td>NaN</td>\n",
       "      <td>NaN</td>\n",
       "      <td>NaN</td>\n",
       "      <td>NaN</td>\n",
       "      <td>NaN</td>\n",
       "    </tr>\n",
       "  </tbody>\n",
       "</table>\n",
       "<p>2 rows × 42 columns</p>\n",
       "</div>"
      ],
      "text/plain": [
       "               Create Date      tenant_name  robot_code robot_name  \\\n",
       "25140  2022-05-28 00:00:00  Alime-DRZ-CC-BD  l2Cgc9psxK  BD-Daz-EN   \n",
       "25141  2022-05-28 00:00:00  Alime-DRZ-CC-BD  l2Cgc9psxK  BD-Daz-EN   \n",
       "\n",
       "          from_id         from_name                        Session_id  \\\n",
       "25140  V3EasrtOgs  BD-Daz-EN-HC-App  ff68a7d5d4fd4bf5b23dc11f4b639561   \n",
       "25141  2QpojyCHcD  BD-Daz-EN-DD-App  ffbdc015fdbe4996879612171febf3cd   \n",
       "\n",
       "                Intention           user_id  Seller id (X-space)  ...  \\\n",
       "25140  route_daraz_others  2101100081631151         7.005142e+11  ...   \n",
       "25141  route_daraz_others  2101100052535303         9.220500e+04  ...   \n",
       "\n",
       "      Feedback Card Response is_chat_recommend is_chat_no answer  \\\n",
       "25140                    NaN                 N                 N   \n",
       "25141                    NaN                 N                 N   \n",
       "\n",
       "      is_chat_pre/post match live agent_session_id  \\\n",
       "25140                      N                   NaN   \n",
       "25141                      N                   NaN   \n",
       "\n",
       "      Last Query Before Live Agent Session Live Agent User Query  \\\n",
       "25140                                  NaN                   NaN   \n",
       "25141                                  NaN                   NaN   \n",
       "\n",
       "      Live Agent Response  Feedback Type Unsatisfied Reason  \n",
       "25140                 NaN            NaN                NaN  \n",
       "25141                 NaN            NaN                NaN  \n",
       "\n",
       "[2 rows x 42 columns]"
      ]
     },
     "execution_count": 4,
     "metadata": {},
     "output_type": "execute_result"
    }
   ],
   "source": [
    "UNIQUE_DF.tail(2)"
   ]
  },
  {
   "cell_type": "markdown",
   "metadata": {},
   "source": [
    "##### Number of data"
   ]
  },
  {
   "cell_type": "code",
   "execution_count": 5,
   "metadata": {},
   "outputs": [
    {
     "data": {
      "text/plain": [
       "25142"
      ]
     },
     "execution_count": 5,
     "metadata": {},
     "output_type": "execute_result"
    }
   ],
   "source": [
    "UNIQUE_DF.shape[0]"
   ]
  },
  {
   "cell_type": "markdown",
   "metadata": {},
   "source": [
    "##### Beautifying data"
   ]
  },
  {
   "cell_type": "code",
   "execution_count": 6,
   "metadata": {},
   "outputs": [],
   "source": [
    "UNIQUE_DF['Seller id (X-space)'] = UNIQUE_DF['Seller id (X-space)'].apply(lambda x: '%.0f' % x).astype(str)"
   ]
  },
  {
   "cell_type": "code",
   "execution_count": 7,
   "metadata": {},
   "outputs": [],
   "source": [
    "UNIQUE_NOTNA_DF = UNIQUE_DF[UNIQUE_DF['live agent_session_id'].notna()].reset_index()"
   ]
  },
  {
   "cell_type": "markdown",
   "metadata": {},
   "source": [
    "##### Number of data after beautifying"
   ]
  },
  {
   "cell_type": "code",
   "execution_count": 8,
   "metadata": {},
   "outputs": [
    {
     "data": {
      "text/plain": [
       "6827"
      ]
     },
     "execution_count": 8,
     "metadata": {},
     "output_type": "execute_result"
    }
   ],
   "source": [
    "UNIQUE_NOTNA_DF.shape[0]"
   ]
  },
  {
   "cell_type": "markdown",
   "metadata": {},
   "source": [
    "##### Finding unique session ids"
   ]
  },
  {
   "cell_type": "code",
   "execution_count": 9,
   "metadata": {},
   "outputs": [],
   "source": [
    "UNIQUE_NOTNA_DF_NO_DUPLICATES = UNIQUE_NOTNA_DF.drop_duplicates(subset='live agent_session_id', keep = 'first')"
   ]
  },
  {
   "cell_type": "code",
   "execution_count": 10,
   "metadata": {},
   "outputs": [
    {
     "data": {
      "text/plain": [
       "1573"
      ]
     },
     "execution_count": 10,
     "metadata": {},
     "output_type": "execute_result"
    }
   ],
   "source": [
    "UNIQUE_NOTNA_DF_NO_DUPLICATES.shape[0]"
   ]
  },
  {
   "cell_type": "code",
   "execution_count": 11,
   "metadata": {},
   "outputs": [],
   "source": [
    "UNIQUE_NOTNA_DF_NO_DUPLICATES.reset_index(inplace=True)"
   ]
  },
  {
   "cell_type": "code",
   "execution_count": 12,
   "metadata": {},
   "outputs": [],
   "source": [
    "#### A random seller ID for testing purpose\n",
    "#UNIQUE_RANDOM_VALUES = UNIQUE_NOTNA_DF_NO_DUPLICATES.sample(axis=0)\n",
    "#a_random_seller_id = UNIQUE_RANDOM_VALUES['Seller id (X-space)'].to_list()[0]"
   ]
  },
  {
   "cell_type": "code",
   "execution_count": 13,
   "metadata": {},
   "outputs": [],
   "source": [
    "UNIQUE__TABLE = UNIQUE_NOTNA_DF_NO_DUPLICATES.groupby(as_index = False, by =['Seller id (X-space)']).count()"
   ]
  },
  {
   "cell_type": "markdown",
   "metadata": {},
   "source": [
    "#### Choosing a random data with three sessions"
   ]
  },
  {
   "cell_type": "code",
   "execution_count": 14,
   "metadata": {},
   "outputs": [
    {
     "data": {
      "text/plain": [
       "27           1227629\n",
       "55           1489794\n",
       "73           1569287\n",
       "127          1817383\n",
       "142          1862827\n",
       "176           258139\n",
       "180           270011\n",
       "235     700000594210\n",
       "285     700001448573\n",
       "315     700002720638\n",
       "398     700005060159\n",
       "453     700007031570\n",
       "472     700007781694\n",
       "496     700009056737\n",
       "513     700009611155\n",
       "553     700012869416\n",
       "556     700013100003\n",
       "558     700013310385\n",
       "564     700013847484\n",
       "654     700018455975\n",
       "682     700019748651\n",
       "724     700022271225\n",
       "744     700023282820\n",
       "824     700028694726\n",
       "828     700028892173\n",
       "868     700032693392\n",
       "912     700036212254\n",
       "915     700036308644\n",
       "929     700036896929\n",
       "992     700042152726\n",
       "996     700042554966\n",
       "1019    700044117675\n",
       "1070    700049649368\n",
       "1122    700513209227\n",
       "1134    700514397254\n",
       "1216    700516125128\n",
       "Name: Seller id (X-space), dtype: object"
      ]
     },
     "execution_count": 14,
     "metadata": {},
     "output_type": "execute_result"
    }
   ],
   "source": [
    "UNIQUE__TABLE[UNIQUE__TABLE['live agent_session_id']  == 3]['Seller id (X-space)']"
   ]
  },
  {
   "cell_type": "code",
   "execution_count": 14,
   "metadata": {},
   "outputs": [],
   "source": [
    "UNIQUE__TABLE[['live agent_session_id', 'Seller id (X-space)']].to_clipboard()"
   ]
  },
  {
   "cell_type": "markdown",
   "metadata": {},
   "source": [
    "#### Choosing a random data"
   ]
  },
  {
   "cell_type": "code",
   "execution_count": 27,
   "metadata": {},
   "outputs": [],
   "source": [
    "X = UNIQUE_NOTNA_DF_NO_DUPLICATES[UNIQUE_NOTNA_DF_NO_DUPLICATES['Seller id (X-space)'] == '700000594210'].sample(n=1, axis=0)['Seller id (X-space)']"
   ]
  },
  {
   "cell_type": "code",
   "execution_count": 28,
   "metadata": {},
   "outputs": [],
   "source": [
    "X = X.to_list()[0]"
   ]
  },
  {
   "cell_type": "markdown",
   "metadata": {},
   "source": [
    "##### Randomly select a single value from the live agent "
   ]
  },
  {
   "cell_type": "code",
   "execution_count": 29,
   "metadata": {},
   "outputs": [
    {
     "data": {
      "text/plain": [
       "438     b137f40612fe45ac81722dd6911fd8b6\n",
       "943     37eb1fd8a7b140fb8de0dc642c615a1e\n",
       "1381    dffa071f37034ca0b9c5a5a5e09780a9\n",
       "Name: live agent_session_id, dtype: object"
      ]
     },
     "execution_count": 29,
     "metadata": {},
     "output_type": "execute_result"
    }
   ],
   "source": [
    "UNIQUE_NOTNA_DF_NO_DUPLICATES[UNIQUE_NOTNA_DF_NO_DUPLICATES['Seller id (X-space)'] == X]['live agent_session_id']"
   ]
  }
 ],
 "metadata": {
  "interpreter": {
   "hash": "0606053452435824a427f0ea93d6ae20786397642025bcc66bfe96b66155d44b"
  },
  "kernelspec": {
   "display_name": "Python 3.9.7 ('base')",
   "language": "python",
   "name": "python3"
  },
  "language_info": {
   "codemirror_mode": {
    "name": "ipython",
    "version": 3
   },
   "file_extension": ".py",
   "mimetype": "text/x-python",
   "name": "python",
   "nbconvert_exporter": "python",
   "pygments_lexer": "ipython3",
   "version": "3.9.7"
  },
  "orig_nbformat": 4
 },
 "nbformat": 4,
 "nbformat_minor": 2
}
