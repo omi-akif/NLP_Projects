{
 "cells": [
  {
   "cell_type": "code",
   "execution_count": 64,
   "metadata": {},
   "outputs": [],
   "source": [
    "import pandas as pd\n",
    "import numpy as np"
   ]
  },
  {
   "cell_type": "markdown",
   "metadata": {},
   "source": [
    "Date range of sample 09/08/2022 - 07/09/2022"
   ]
  },
  {
   "cell_type": "code",
   "execution_count": 65,
   "metadata": {},
   "outputs": [],
   "source": [
    "df = pd.read_csv(r'C:\\Users\\Daraz\\Documents\\ddda\\Function_Efectiveness\\2022_09040911_FE.csv', thousands=',')"
   ]
  },
  {
   "cell_type": "code",
   "execution_count": 66,
   "metadata": {},
   "outputs": [
    {
     "data": {
      "text/html": [
       "<div>\n",
       "<style scoped>\n",
       "    .dataframe tbody tr th:only-of-type {\n",
       "        vertical-align: middle;\n",
       "    }\n",
       "\n",
       "    .dataframe tbody tr th {\n",
       "        vertical-align: top;\n",
       "    }\n",
       "\n",
       "    .dataframe thead th {\n",
       "        text-align: right;\n",
       "    }\n",
       "</style>\n",
       "<table border=\"1\" class=\"dataframe\">\n",
       "  <thead>\n",
       "    <tr style=\"text-align: right;\">\n",
       "      <th></th>\n",
       "      <th>date_id</th>\n",
       "      <th>tenant_name</th>\n",
       "      <th>robot_code_name</th>\n",
       "      <th>Channel</th>\n",
       "      <th>Function Type</th>\n",
       "      <th>Function Text</th>\n",
       "      <th>Exposure UV</th>\n",
       "      <th>Click UV</th>\n",
       "      <th>exposure_pv</th>\n",
       "      <th>clk_pv</th>\n",
       "      <th>Click_Through_Rate</th>\n",
       "      <th>Sessions</th>\n",
       "      <th>Session_Resolved_Rate</th>\n",
       "      <th>Switch_to_Live_Agent_Rate</th>\n",
       "    </tr>\n",
       "  </thead>\n",
       "  <tbody>\n",
       "    <tr>\n",
       "      <th>0</th>\n",
       "      <td>20220904</td>\n",
       "      <td>Alime-DRZ-CC-BD</td>\n",
       "      <td>BD-Daz-EN</td>\n",
       "      <td>BD-Daz-EN-HC-App</td>\n",
       "      <td>Shortcut Query</td>\n",
       "      <td>Refund</td>\n",
       "      <td>5791</td>\n",
       "      <td>135</td>\n",
       "      <td>8798</td>\n",
       "      <td>151</td>\n",
       "      <td>0.023312</td>\n",
       "      <td>151</td>\n",
       "      <td>0.662252</td>\n",
       "      <td>0.251656</td>\n",
       "    </tr>\n",
       "    <tr>\n",
       "      <th>1</th>\n",
       "      <td>20220904</td>\n",
       "      <td>Alime-DRZ-CC-BD</td>\n",
       "      <td>BD-Daz-EN</td>\n",
       "      <td>BD-Daz-EN-HC-App</td>\n",
       "      <td>Shortcut Query</td>\n",
       "      <td>Need Help</td>\n",
       "      <td>5791</td>\n",
       "      <td>1802</td>\n",
       "      <td>8798</td>\n",
       "      <td>2285</td>\n",
       "      <td>0.311173</td>\n",
       "      <td>2285</td>\n",
       "      <td>0.595707</td>\n",
       "      <td>0.346474</td>\n",
       "    </tr>\n",
       "  </tbody>\n",
       "</table>\n",
       "</div>"
      ],
      "text/plain": [
       "    date_id      tenant_name robot_code_name           Channel  \\\n",
       "0  20220904  Alime-DRZ-CC-BD       BD-Daz-EN  BD-Daz-EN-HC-App   \n",
       "1  20220904  Alime-DRZ-CC-BD       BD-Daz-EN  BD-Daz-EN-HC-App   \n",
       "\n",
       "    Function Type Function Text  Exposure UV  Click UV  exposure_pv  clk_pv  \\\n",
       "0  Shortcut Query        Refund         5791       135         8798     151   \n",
       "1  Shortcut Query     Need Help         5791      1802         8798    2285   \n",
       "\n",
       "   Click_Through_Rate  Sessions  Session_Resolved_Rate  \\\n",
       "0            0.023312       151               0.662252   \n",
       "1            0.311173      2285               0.595707   \n",
       "\n",
       "   Switch_to_Live_Agent_Rate  \n",
       "0                   0.251656  \n",
       "1                   0.346474  "
      ]
     },
     "execution_count": 66,
     "metadata": {},
     "output_type": "execute_result"
    }
   ],
   "source": [
    "df.head(2)"
   ]
  },
  {
   "cell_type": "code",
   "execution_count": 67,
   "metadata": {},
   "outputs": [
    {
     "data": {
      "text/html": [
       "<div>\n",
       "<style scoped>\n",
       "    .dataframe tbody tr th:only-of-type {\n",
       "        vertical-align: middle;\n",
       "    }\n",
       "\n",
       "    .dataframe tbody tr th {\n",
       "        vertical-align: top;\n",
       "    }\n",
       "\n",
       "    .dataframe thead th {\n",
       "        text-align: right;\n",
       "    }\n",
       "</style>\n",
       "<table border=\"1\" class=\"dataframe\">\n",
       "  <thead>\n",
       "    <tr style=\"text-align: right;\">\n",
       "      <th></th>\n",
       "      <th>date_id</th>\n",
       "      <th>tenant_name</th>\n",
       "      <th>robot_code_name</th>\n",
       "      <th>Channel</th>\n",
       "      <th>Function Type</th>\n",
       "      <th>Function Text</th>\n",
       "      <th>Exposure UV</th>\n",
       "      <th>Click UV</th>\n",
       "      <th>exposure_pv</th>\n",
       "      <th>clk_pv</th>\n",
       "      <th>Click_Through_Rate</th>\n",
       "      <th>Sessions</th>\n",
       "      <th>Session_Resolved_Rate</th>\n",
       "      <th>Switch_to_Live_Agent_Rate</th>\n",
       "    </tr>\n",
       "  </thead>\n",
       "  <tbody>\n",
       "    <tr>\n",
       "      <th>1162</th>\n",
       "      <td>20220911</td>\n",
       "      <td>Alime-DRZ-CC-BD</td>\n",
       "      <td>BD-Daz-EN</td>\n",
       "      <td>BD-Daz-EN-HC-Web</td>\n",
       "      <td>推荐卡片</td>\n",
       "      <td>Order korte pacchina</td>\n",
       "      <td>1</td>\n",
       "      <td>0</td>\n",
       "      <td>1</td>\n",
       "      <td>0</td>\n",
       "      <td>0.0</td>\n",
       "      <td>0</td>\n",
       "      <td>NaN</td>\n",
       "      <td>NaN</td>\n",
       "    </tr>\n",
       "    <tr>\n",
       "      <th>1163</th>\n",
       "      <td>20220909</td>\n",
       "      <td>Alime-DRZ-CC-BD</td>\n",
       "      <td>BD-Daz-EN</td>\n",
       "      <td>BD-Daz-EN-DD-App</td>\n",
       "      <td>推荐卡片</td>\n",
       "      <td>What are the operational timings for collectio...</td>\n",
       "      <td>1</td>\n",
       "      <td>0</td>\n",
       "      <td>1</td>\n",
       "      <td>0</td>\n",
       "      <td>0.0</td>\n",
       "      <td>0</td>\n",
       "      <td>NaN</td>\n",
       "      <td>NaN</td>\n",
       "    </tr>\n",
       "    <tr>\n",
       "      <th>1164</th>\n",
       "      <td>20220907</td>\n",
       "      <td>Alime-DRZ-CC-BD</td>\n",
       "      <td>BD-Daz-EN</td>\n",
       "      <td>BD-Daz-EN-HC-App</td>\n",
       "      <td>推荐卡片</td>\n",
       "      <td>Apnara Musical Instruments sell koren</td>\n",
       "      <td>1</td>\n",
       "      <td>0</td>\n",
       "      <td>1</td>\n",
       "      <td>0</td>\n",
       "      <td>0.0</td>\n",
       "      <td>0</td>\n",
       "      <td>NaN</td>\n",
       "      <td>NaN</td>\n",
       "    </tr>\n",
       "  </tbody>\n",
       "</table>\n",
       "</div>"
      ],
      "text/plain": [
       "       date_id      tenant_name robot_code_name           Channel  \\\n",
       "1162  20220911  Alime-DRZ-CC-BD       BD-Daz-EN  BD-Daz-EN-HC-Web   \n",
       "1163  20220909  Alime-DRZ-CC-BD       BD-Daz-EN  BD-Daz-EN-DD-App   \n",
       "1164  20220907  Alime-DRZ-CC-BD       BD-Daz-EN  BD-Daz-EN-HC-App   \n",
       "\n",
       "     Function Type                                      Function Text  \\\n",
       "1162          推荐卡片                               Order korte pacchina   \n",
       "1163          推荐卡片  What are the operational timings for collectio...   \n",
       "1164          推荐卡片              Apnara Musical Instruments sell koren   \n",
       "\n",
       "      Exposure UV  Click UV  exposure_pv  clk_pv  Click_Through_Rate  \\\n",
       "1162            1         0            1       0                 0.0   \n",
       "1163            1         0            1       0                 0.0   \n",
       "1164            1         0            1       0                 0.0   \n",
       "\n",
       "      Sessions  Session_Resolved_Rate  Switch_to_Live_Agent_Rate  \n",
       "1162         0                    NaN                        NaN  \n",
       "1163         0                    NaN                        NaN  \n",
       "1164         0                    NaN                        NaN  "
      ]
     },
     "execution_count": 67,
     "metadata": {},
     "output_type": "execute_result"
    }
   ],
   "source": [
    "df.tail(3)"
   ]
  },
  {
   "cell_type": "code",
   "execution_count": 68,
   "metadata": {},
   "outputs": [
    {
     "data": {
      "text/plain": [
       "Index(['date_id', 'tenant_name', 'robot_code_name', 'Channel', 'Function Type',\n",
       "       'Function Text', 'Exposure UV', 'Click UV', 'exposure_pv', 'clk_pv',\n",
       "       'Click_Through_Rate', 'Sessions', 'Session_Resolved_Rate',\n",
       "       'Switch_to_Live_Agent_Rate'],\n",
       "      dtype='object')"
      ]
     },
     "execution_count": 68,
     "metadata": {},
     "output_type": "execute_result"
    }
   ],
   "source": [
    "df.columns"
   ]
  },
  {
   "cell_type": "code",
   "execution_count": 69,
   "metadata": {},
   "outputs": [],
   "source": [
    "dates = [20220904, 20220905,20220906,20220907,20220908,20220909,20220910]"
   ]
  },
  {
   "cell_type": "code",
   "execution_count": 70,
   "metadata": {},
   "outputs": [],
   "source": [
    "df = df[df['date_id'].isin(dates)].reset_index()"
   ]
  },
  {
   "cell_type": "code",
   "execution_count": 71,
   "metadata": {},
   "outputs": [
    {
     "data": {
      "text/plain": [
       "推荐卡片              542\n",
       "Shortcut Query    487\n",
       "Briefing            3\n",
       "Name: Function Type, dtype: int64"
      ]
     },
     "execution_count": 71,
     "metadata": {},
     "output_type": "execute_result"
    }
   ],
   "source": [
    "df['Function Type'].value_counts()"
   ]
  },
  {
   "cell_type": "code",
   "execution_count": 72,
   "metadata": {},
   "outputs": [],
   "source": [
    "df = df[df['Function Type'] == 'Shortcut Query']\n",
    "df.reset_index(inplace=True)"
   ]
  },
  {
   "cell_type": "code",
   "execution_count": 73,
   "metadata": {},
   "outputs": [
    {
     "data": {
      "text/plain": [
       "BD-Daz-EN-HC-Web    89\n",
       "BD-Daz-EN-HC-App    86\n",
       "BD-Daz-LC-HC-Web    76\n",
       "BD-Daz-LC-DD-App    71\n",
       "BD-Daz-LC-HC-App    70\n",
       "BD-Daz-EN-CR-XP     53\n",
       "BD-Daz-EN-DD-App    42\n",
       "Name: Channel, dtype: int64"
      ]
     },
     "execution_count": 73,
     "metadata": {},
     "output_type": "execute_result"
    }
   ],
   "source": [
    "df['Channel'].value_counts()"
   ]
  },
  {
   "cell_type": "code",
   "execution_count": 74,
   "metadata": {},
   "outputs": [],
   "source": [
    "df_lc_dd_app = df[df['Channel'] == 'BD-Daz-LC-DD-App']\n",
    "df_lc_hc_app = df[df['Channel'] == 'BD-Daz-LC-HC-App']\n",
    "df_en_hc_app = df[df['Channel'] == 'BD-Daz-EN-HC-App']\n",
    "df_en_hc_web = df[df['Channel'] == 'BD-Daz-EN-HC-Web']\n",
    "df_en_dd_app = df[df['Channel'] == 'BD-Daz-EN-DD-App']\n",
    "df_lc_hc_web = df[df['Channel'] == 'BD-Daz-LC-HC-Web']\n",
    "df_en_cr_xp = df[df['Channel'] == 'BD-Daz-EN-CR-XP']"
   ]
  },
  {
   "cell_type": "markdown",
   "metadata": {},
   "source": [
    "df_lc_dd_app.head()"
   ]
  },
  {
   "cell_type": "code",
   "execution_count": 75,
   "metadata": {},
   "outputs": [],
   "source": [
    "# #LC\n",
    "# df_lc_dd_app.reset_index(inplace=True)\n",
    "# df_lc_hc_app.reset_index(inplace=True)\n",
    "# df_lc_hc_web.reset_index(inplace=True)\n",
    "\n",
    "# #EN\n",
    "# df_en_hc_app.reset_index(inplace=True)\n",
    "# df_en_hc_web.reset_index(inplace=True)\n",
    "# df_en_dd_app.reset_index(inplace=True)\n",
    "# df_en_cr_xp.reset_index(inplace=True)"
   ]
  },
  {
   "cell_type": "markdown",
   "metadata": {},
   "source": [
    "df_lc_dd_app"
   ]
  },
  {
   "cell_type": "code",
   "execution_count": 76,
   "metadata": {},
   "outputs": [
    {
     "name": "stderr",
     "output_type": "stream",
     "text": [
      "C:\\Users\\Daraz\\AppData\\Local\\Temp/ipykernel_12684/3518234613.py:1: SettingWithCopyWarning: \n",
      "A value is trying to be set on a copy of a slice from a DataFrame.\n",
      "Try using .loc[row_indexer,col_indexer] = value instead\n",
      "\n",
      "See the caveats in the documentation: https://pandas.pydata.org/pandas-docs/stable/user_guide/indexing.html#returning-a-view-versus-a-copy\n",
      "  df_lc_dd_app['Resolved_sessions'] = df_lc_dd_app['Sessions'] * df_lc_dd_app['Session_Resolved_Rate']\n",
      "C:\\Users\\Daraz\\AppData\\Local\\Temp/ipykernel_12684/3518234613.py:2: SettingWithCopyWarning: \n",
      "A value is trying to be set on a copy of a slice from a DataFrame.\n",
      "Try using .loc[row_indexer,col_indexer] = value instead\n",
      "\n",
      "See the caveats in the documentation: https://pandas.pydata.org/pandas-docs/stable/user_guide/indexing.html#returning-a-view-versus-a-copy\n",
      "  df_lc_hc_app['Resolved_sessions'] = df_lc_hc_app['Sessions'] * df_lc_hc_app['Session_Resolved_Rate']\n",
      "C:\\Users\\Daraz\\AppData\\Local\\Temp/ipykernel_12684/3518234613.py:3: SettingWithCopyWarning: \n",
      "A value is trying to be set on a copy of a slice from a DataFrame.\n",
      "Try using .loc[row_indexer,col_indexer] = value instead\n",
      "\n",
      "See the caveats in the documentation: https://pandas.pydata.org/pandas-docs/stable/user_guide/indexing.html#returning-a-view-versus-a-copy\n",
      "  df_lc_hc_web['Resolved_sessions'] = df_lc_hc_web['Sessions'] * df_lc_hc_web['Session_Resolved_Rate']\n",
      "C:\\Users\\Daraz\\AppData\\Local\\Temp/ipykernel_12684/3518234613.py:5: SettingWithCopyWarning: \n",
      "A value is trying to be set on a copy of a slice from a DataFrame.\n",
      "Try using .loc[row_indexer,col_indexer] = value instead\n",
      "\n",
      "See the caveats in the documentation: https://pandas.pydata.org/pandas-docs/stable/user_guide/indexing.html#returning-a-view-versus-a-copy\n",
      "  df_en_hc_app['Resolved_sessions'] = df_en_hc_app['Sessions'] * df_en_hc_app['Session_Resolved_Rate']\n",
      "C:\\Users\\Daraz\\AppData\\Local\\Temp/ipykernel_12684/3518234613.py:6: SettingWithCopyWarning: \n",
      "A value is trying to be set on a copy of a slice from a DataFrame.\n",
      "Try using .loc[row_indexer,col_indexer] = value instead\n",
      "\n",
      "See the caveats in the documentation: https://pandas.pydata.org/pandas-docs/stable/user_guide/indexing.html#returning-a-view-versus-a-copy\n",
      "  df_en_hc_web['Resolved_sessions'] = df_en_hc_web['Sessions'] * df_en_hc_web['Session_Resolved_Rate']\n",
      "C:\\Users\\Daraz\\AppData\\Local\\Temp/ipykernel_12684/3518234613.py:7: SettingWithCopyWarning: \n",
      "A value is trying to be set on a copy of a slice from a DataFrame.\n",
      "Try using .loc[row_indexer,col_indexer] = value instead\n",
      "\n",
      "See the caveats in the documentation: https://pandas.pydata.org/pandas-docs/stable/user_guide/indexing.html#returning-a-view-versus-a-copy\n",
      "  df_en_dd_app['Resolved_sessions'] = df_en_dd_app['Sessions'] * df_en_dd_app['Session_Resolved_Rate']\n",
      "C:\\Users\\Daraz\\AppData\\Local\\Temp/ipykernel_12684/3518234613.py:8: SettingWithCopyWarning: \n",
      "A value is trying to be set on a copy of a slice from a DataFrame.\n",
      "Try using .loc[row_indexer,col_indexer] = value instead\n",
      "\n",
      "See the caveats in the documentation: https://pandas.pydata.org/pandas-docs/stable/user_guide/indexing.html#returning-a-view-versus-a-copy\n",
      "  df_en_cr_xp['Resolved_sessions'] = df_en_cr_xp['Sessions'] * df_en_cr_xp['Session_Resolved_Rate']\n"
     ]
    }
   ],
   "source": [
    "df_lc_dd_app['Resolved_sessions'] = df_lc_dd_app['Sessions'] * df_lc_dd_app['Session_Resolved_Rate']\n",
    "df_lc_hc_app['Resolved_sessions'] = df_lc_hc_app['Sessions'] * df_lc_hc_app['Session_Resolved_Rate']\n",
    "df_lc_hc_web['Resolved_sessions'] = df_lc_hc_web['Sessions'] * df_lc_hc_web['Session_Resolved_Rate']\n",
    "\n",
    "df_en_hc_app['Resolved_sessions'] = df_en_hc_app['Sessions'] * df_en_hc_app['Session_Resolved_Rate']\n",
    "df_en_hc_web['Resolved_sessions'] = df_en_hc_web['Sessions'] * df_en_hc_web['Session_Resolved_Rate']\n",
    "df_en_dd_app['Resolved_sessions'] = df_en_dd_app['Sessions'] * df_en_dd_app['Session_Resolved_Rate']\n",
    "df_en_cr_xp['Resolved_sessions'] = df_en_cr_xp['Sessions'] * df_en_cr_xp['Session_Resolved_Rate']"
   ]
  },
  {
   "cell_type": "code",
   "execution_count": 77,
   "metadata": {},
   "outputs": [],
   "source": [
    "\n",
    "df_lc_dd_app_pivot = pd.pivot_table(df_lc_dd_app, values=['Sessions','Resolved_sessions'], index = ['Function Text'], aggfunc = np.sum)\n",
    "\n",
    "df_lc_hc_app_pivot = pd.pivot_table(df_lc_hc_app, values=['Sessions', 'Resolved_sessions'], index=['Function Text'], aggfunc= np.sum)\n",
    "\n",
    "df_lc_hc_web_pivot = pd.pivot_table(df_lc_hc_web, values=['Sessions', 'Resolved_sessions'], index=['Function Text'], aggfunc=np.sum)\n",
    "\n",
    "\n",
    "\n",
    "df_en_hc_app_pivot = pd.pivot_table(df_en_hc_app, values=['Sessions', 'Resolved_sessions'], index=['Function Text'], aggfunc=np.sum)\n",
    "\n",
    "df_en_hc_web_pivot = pd.pivot_table(df_en_hc_web, values=['Sessions', 'Resolved_sessions'], index=['Function Text'], aggfunc=np.sum)\n",
    "\n",
    "df_en_dd_app_pivot = pd.pivot_table(df_en_dd_app, values=['Sessions', 'Resolved_sessions'], index=['Function Text'], aggfunc=np.sum)\n",
    "\n",
    "df_en_cr_xp_pivot = pd.pivot_table(df_en_cr_xp, values=['Sessions', 'Resolved_sessions'], index=['Function Text'], aggfunc=np.sum)\n"
   ]
  },
  {
   "cell_type": "code",
   "execution_count": 78,
   "metadata": {},
   "outputs": [],
   "source": [
    "df_lc_dd_app_pivot.sort_values(by='Sessions', ascending=False, inplace=True)\n",
    "df_lc_hc_app_pivot.sort_values(by='Sessions', ascending=False, inplace=True)\n",
    "df_lc_hc_web_pivot.sort_values(by='Sessions', ascending=False, inplace=True)\n",
    "\n",
    "df_en_hc_app_pivot.sort_values(by='Sessions', ascending=False, inplace=True)\n",
    "df_en_hc_web_pivot.sort_values(by='Sessions', ascending=False, inplace=True)\n",
    "df_en_dd_app_pivot.sort_values(by='Sessions', ascending=False, inplace=True)\n",
    "df_en_cr_xp_pivot.sort_values(by='Sessions', ascending=False, inplace=True)"
   ]
  },
  {
   "cell_type": "code",
   "execution_count": 79,
   "metadata": {},
   "outputs": [],
   "source": [
    "df_lc_dd_app_pivot['RR'] = df_lc_dd_app_pivot['Resolved_sessions'] / df_lc_dd_app_pivot['Sessions']\n",
    "df_lc_hc_app_pivot['RR'] = df_lc_hc_app_pivot['Resolved_sessions'] / df_lc_hc_app_pivot['Sessions']\n",
    "df_lc_hc_web_pivot['RR'] = df_lc_hc_web_pivot['Resolved_sessions'] / df_lc_hc_web_pivot['Sessions']\n",
    "\n",
    "df_en_hc_app_pivot['RR'] = df_en_hc_app_pivot['Resolved_sessions'] / df_en_hc_app_pivot['Sessions']\n",
    "df_en_hc_web_pivot['RR'] = df_en_hc_web_pivot['Resolved_sessions'] / df_en_hc_web_pivot['Sessions']\n",
    "df_en_dd_app_pivot['RR'] = df_en_dd_app_pivot['Resolved_sessions'] / df_en_dd_app_pivot['Sessions']\n",
    "df_en_cr_xp_pivot['RR'] = df_en_cr_xp_pivot['Resolved_sessions'] / df_en_cr_xp_pivot['Sessions']"
   ]
  },
  {
   "cell_type": "code",
   "execution_count": 92,
   "metadata": {},
   "outputs": [
    {
     "data": {
      "text/html": [
       "<div>\n",
       "<style scoped>\n",
       "    .dataframe tbody tr th:only-of-type {\n",
       "        vertical-align: middle;\n",
       "    }\n",
       "\n",
       "    .dataframe tbody tr th {\n",
       "        vertical-align: top;\n",
       "    }\n",
       "\n",
       "    .dataframe thead th {\n",
       "        text-align: right;\n",
       "    }\n",
       "</style>\n",
       "<table border=\"1\" class=\"dataframe\">\n",
       "  <thead>\n",
       "    <tr style=\"text-align: right;\">\n",
       "      <th></th>\n",
       "      <th>Sessions</th>\n",
       "      <th>RR</th>\n",
       "    </tr>\n",
       "    <tr>\n",
       "      <th>Function Text</th>\n",
       "      <th></th>\n",
       "      <th></th>\n",
       "    </tr>\n",
       "  </thead>\n",
       "  <tbody>\n",
       "    <tr>\n",
       "      <th>সাহায্য লাগবে</th>\n",
       "      <td>67</td>\n",
       "      <td>0.697422</td>\n",
       "    </tr>\n",
       "    <tr>\n",
       "      <th>পেমেন্ট পার্টনার</th>\n",
       "      <td>40</td>\n",
       "      <td>0.950000</td>\n",
       "    </tr>\n",
       "    <tr>\n",
       "      <th>এখনই এজেন্টের সাথে চ্যাট করুন</th>\n",
       "      <td>16</td>\n",
       "      <td>0.000000</td>\n",
       "    </tr>\n",
       "    <tr>\n",
       "      <th>কাস্টমার সার্ভিসটি শেষ করুন</th>\n",
       "      <td>14</td>\n",
       "      <td>0.000000</td>\n",
       "    </tr>\n",
       "    <tr>\n",
       "      <th>ট্র্যাক অর্ডার</th>\n",
       "      <td>14</td>\n",
       "      <td>0.785714</td>\n",
       "    </tr>\n",
       "    <tr>\n",
       "      <th>রিফান্ড</th>\n",
       "      <td>14</td>\n",
       "      <td>0.857143</td>\n",
       "    </tr>\n",
       "    <tr>\n",
       "      <th>অর্ডার বাতিল</th>\n",
       "      <td>13</td>\n",
       "      <td>0.846154</td>\n",
       "    </tr>\n",
       "    <tr>\n",
       "      <th>একটি ছবি পাঠান</th>\n",
       "      <td>7</td>\n",
       "      <td>0.000000</td>\n",
       "    </tr>\n",
       "    <tr>\n",
       "      <th>অর্ডার</th>\n",
       "      <td>6</td>\n",
       "      <td>0.166667</td>\n",
       "    </tr>\n",
       "    <tr>\n",
       "      <th>রিটার্ন</th>\n",
       "      <td>6</td>\n",
       "      <td>1.000000</td>\n",
       "    </tr>\n",
       "    <tr>\n",
       "      <th>সেন্ড ফাইল</th>\n",
       "      <td>0</td>\n",
       "      <td>NaN</td>\n",
       "    </tr>\n",
       "  </tbody>\n",
       "</table>\n",
       "</div>"
      ],
      "text/plain": [
       "                               Sessions        RR\n",
       "Function Text                                    \n",
       "সাহায্য লাগবে                        67  0.697422\n",
       "পেমেন্ট পার্টনার                     40  0.950000\n",
       "এখনই এজেন্টের সাথে চ্যাট করুন        16  0.000000\n",
       "কাস্টমার সার্ভিসটি শেষ করুন          14  0.000000\n",
       "ট্র্যাক অর্ডার                       14  0.785714\n",
       "রিফান্ড                              14  0.857143\n",
       "অর্ডার বাতিল                         13  0.846154\n",
       "একটি ছবি পাঠান                        7  0.000000\n",
       "অর্ডার                                6  0.166667\n",
       "রিটার্ন                               6  1.000000\n",
       "সেন্ড ফাইল                            0       NaN"
      ]
     },
     "execution_count": 92,
     "metadata": {},
     "output_type": "execute_result"
    }
   ],
   "source": [
    "df_lc_hc_web_pivot[['Sessions', 'RR']].head(20)"
   ]
  },
  {
   "cell_type": "code",
   "execution_count": 90,
   "metadata": {},
   "outputs": [
    {
     "data": {
      "text/html": [
       "<div>\n",
       "<style scoped>\n",
       "    .dataframe tbody tr th:only-of-type {\n",
       "        vertical-align: middle;\n",
       "    }\n",
       "\n",
       "    .dataframe tbody tr th {\n",
       "        vertical-align: top;\n",
       "    }\n",
       "\n",
       "    .dataframe thead th {\n",
       "        text-align: right;\n",
       "    }\n",
       "</style>\n",
       "<table border=\"1\" class=\"dataframe\">\n",
       "  <thead>\n",
       "    <tr style=\"text-align: right;\">\n",
       "      <th></th>\n",
       "      <th>Sessions</th>\n",
       "      <th>RR</th>\n",
       "    </tr>\n",
       "    <tr>\n",
       "      <th>Function Text</th>\n",
       "      <th></th>\n",
       "      <th></th>\n",
       "    </tr>\n",
       "  </thead>\n",
       "  <tbody>\n",
       "    <tr>\n",
       "      <th>Need Help</th>\n",
       "      <td>3364</td>\n",
       "      <td>0.648935</td>\n",
       "    </tr>\n",
       "    <tr>\n",
       "      <th>Track Order</th>\n",
       "      <td>847</td>\n",
       "      <td>0.729634</td>\n",
       "    </tr>\n",
       "    <tr>\n",
       "      <th>Order</th>\n",
       "      <td>799</td>\n",
       "      <td>0.117582</td>\n",
       "    </tr>\n",
       "    <tr>\n",
       "      <th>Cancel order</th>\n",
       "      <td>593</td>\n",
       "      <td>0.715008</td>\n",
       "    </tr>\n",
       "    <tr>\n",
       "      <th>Payment partner</th>\n",
       "      <td>588</td>\n",
       "      <td>0.705782</td>\n",
       "    </tr>\n",
       "    <tr>\n",
       "      <th>Refund</th>\n",
       "      <td>404</td>\n",
       "      <td>0.655941</td>\n",
       "    </tr>\n",
       "    <tr>\n",
       "      <th>Return</th>\n",
       "      <td>336</td>\n",
       "      <td>0.699405</td>\n",
       "    </tr>\n",
       "    <tr>\n",
       "      <th>অর্ডার</th>\n",
       "      <td>47</td>\n",
       "      <td>0.239362</td>\n",
       "    </tr>\n",
       "    <tr>\n",
       "      <th>Send file</th>\n",
       "      <td>29</td>\n",
       "      <td>0.000000</td>\n",
       "    </tr>\n",
       "    <tr>\n",
       "      <th>এখনই এজেন্টের সাথে চ্যাট করুন</th>\n",
       "      <td>29</td>\n",
       "      <td>0.000000</td>\n",
       "    </tr>\n",
       "    <tr>\n",
       "      <th>কাস্টমার সার্ভিসটি শেষ করুন</th>\n",
       "      <td>25</td>\n",
       "      <td>0.140000</td>\n",
       "    </tr>\n",
       "    <tr>\n",
       "      <th>একটি ছবি পাঠান</th>\n",
       "      <td>24</td>\n",
       "      <td>0.062500</td>\n",
       "    </tr>\n",
       "    <tr>\n",
       "      <th>Check my order</th>\n",
       "      <td>0</td>\n",
       "      <td>NaN</td>\n",
       "    </tr>\n",
       "    <tr>\n",
       "      <th>Grand Eid Fest</th>\n",
       "      <td>0</td>\n",
       "      <td>NaN</td>\n",
       "    </tr>\n",
       "    <tr>\n",
       "      <th>Qurbanir Haat</th>\n",
       "      <td>0</td>\n",
       "      <td>NaN</td>\n",
       "    </tr>\n",
       "    <tr>\n",
       "      <th>সেন্ড ফাইল</th>\n",
       "      <td>0</td>\n",
       "      <td>NaN</td>\n",
       "    </tr>\n",
       "  </tbody>\n",
       "</table>\n",
       "</div>"
      ],
      "text/plain": [
       "                               Sessions        RR\n",
       "Function Text                                    \n",
       "Need Help                          3364  0.648935\n",
       "Track Order                         847  0.729634\n",
       "Order                               799  0.117582\n",
       "Cancel order                        593  0.715008\n",
       "Payment partner                     588  0.705782\n",
       "Refund                              404  0.655941\n",
       "Return                              336  0.699405\n",
       "অর্ডার                               47  0.239362\n",
       "Send file                            29  0.000000\n",
       "এখনই এজেন্টের সাথে চ্যাট করুন        29  0.000000\n",
       "কাস্টমার সার্ভিসটি শেষ করুন          25  0.140000\n",
       "একটি ছবি পাঠান                       24  0.062500\n",
       "Check my order                        0       NaN\n",
       "Grand Eid Fest                        0       NaN\n",
       "Qurbanir Haat                         0       NaN\n",
       "সেন্ড ফাইল                            0       NaN"
      ]
     },
     "execution_count": 90,
     "metadata": {},
     "output_type": "execute_result"
    }
   ],
   "source": [
    "df_en_hc_web_pivot[['Sessions', 'RR']].head(20)"
   ]
  },
  {
   "cell_type": "code",
   "execution_count": 94,
   "metadata": {},
   "outputs": [],
   "source": [
    "df_lc_hc_web_pivot['RR%'] = df_lc_hc_web_pivot['RR'] * 100\n",
    "df_lc_hc_web_pivot['RR%'] = df_lc_hc_web_pivot['RR%'].round(2)"
   ]
  },
  {
   "cell_type": "code",
   "execution_count": 95,
   "metadata": {},
   "outputs": [],
   "source": [
    "df_lc_hc_web_pivot[['Sessions', 'RR%']].head(10).to_clipboard()"
   ]
  },
  {
   "cell_type": "code",
   "execution_count": null,
   "metadata": {},
   "outputs": [],
   "source": [
    "# df_lc_hc_app_pivot[['Sessions', 'RR']].head(6)"
   ]
  },
  {
   "cell_type": "code",
   "execution_count": null,
   "metadata": {},
   "outputs": [],
   "source": [
    "# df_lc_hc_app_pivot['RR%'] = df_lc_hc_app_pivot['RR'] * 100\n",
    "# df_lc_hc_app_pivot['RR%'] = df_lc_hc_app_pivot['RR%'].round(2)"
   ]
  },
  {
   "cell_type": "code",
   "execution_count": null,
   "metadata": {},
   "outputs": [],
   "source": [
    "# df_lc_hc_app_pivot[['Sessions', 'RR%']].head(9).to_clipboard()"
   ]
  },
  {
   "cell_type": "code",
   "execution_count": null,
   "metadata": {},
   "outputs": [],
   "source": [
    "# df_lc_hc_web_pivot[['Sessions', 'RR']].head(6)"
   ]
  },
  {
   "cell_type": "code",
   "execution_count": null,
   "metadata": {},
   "outputs": [],
   "source": [
    "# df_lc_hc_web_pivot['RR%'] = df_lc_hc_web_pivot['RR'] * 100\n",
    "# df_lc_hc_web_pivot['RR%'] = df_lc_hc_web_pivot['RR%'].round(2)"
   ]
  },
  {
   "cell_type": "code",
   "execution_count": null,
   "metadata": {},
   "outputs": [],
   "source": [
    "# df_lc_hc_web_pivot[['Sessions', 'RR%']].head(10).to_clipboard()"
   ]
  },
  {
   "cell_type": "code",
   "execution_count": null,
   "metadata": {},
   "outputs": [],
   "source": [
    "# df_en_hc_app_pivot[['Sessions', 'RR']].head(6)"
   ]
  },
  {
   "cell_type": "code",
   "execution_count": null,
   "metadata": {},
   "outputs": [],
   "source": [
    "# df_en_hc_app_pivot['RR%'] = df_en_hc_app_pivot['RR'] * 100\n",
    "# df_en_hc_app_pivot['RR%'] = df_en_hc_app_pivot['RR%'].round(2)"
   ]
  },
  {
   "cell_type": "code",
   "execution_count": null,
   "metadata": {},
   "outputs": [],
   "source": [
    "# df_en_hc_app_pivot[['Sessions', 'RR%']].head(10).to_clipboard()"
   ]
  },
  {
   "cell_type": "code",
   "execution_count": null,
   "metadata": {},
   "outputs": [],
   "source": [
    "# df_en_hc_web_pivot[['Sessions', 'RR']].head(6)"
   ]
  },
  {
   "cell_type": "code",
   "execution_count": null,
   "metadata": {},
   "outputs": [],
   "source": [
    "# df_en_hc_web_pivot['RR%'] = df_en_hc_web_pivot['RR'] * 100\n",
    "# df_en_hc_web_pivot['RR%'] = df_en_hc_web_pivot['RR%'].round(2)"
   ]
  },
  {
   "cell_type": "code",
   "execution_count": null,
   "metadata": {},
   "outputs": [],
   "source": [
    "# df_en_hc_web_pivot[['Sessions', 'RR%']].head(10).to_clipboard()"
   ]
  },
  {
   "cell_type": "code",
   "execution_count": null,
   "metadata": {},
   "outputs": [],
   "source": [
    "# df_en_dd_app_pivot[['Sessions', 'RR']].head(6)"
   ]
  },
  {
   "cell_type": "code",
   "execution_count": null,
   "metadata": {},
   "outputs": [],
   "source": [
    "# df_en_dd_app_pivot['RR%'] = df_en_dd_app_pivot['RR'] * 100\n",
    "# df_en_dd_app_pivot['RR%'] = df_en_dd_app_pivot['RR%'].round(2)"
   ]
  },
  {
   "cell_type": "code",
   "execution_count": null,
   "metadata": {},
   "outputs": [],
   "source": [
    "# df_en_dd_app_pivot[['Sessions', 'RR%']].head(10).to_clipboard()"
   ]
  },
  {
   "cell_type": "code",
   "execution_count": null,
   "metadata": {},
   "outputs": [],
   "source": [
    "# df_en_cr_xp_pivot[['Sessions', 'RR']].head(6)"
   ]
  },
  {
   "cell_type": "code",
   "execution_count": null,
   "metadata": {},
   "outputs": [],
   "source": [
    "# df_en_cr_xp_pivot['RR%'] = df_en_cr_xp_pivot['RR'] * 100\n",
    "# df_en_cr_xp_pivot['RR%'] = df_en_cr_xp_pivot['RR%'].round(2)"
   ]
  },
  {
   "cell_type": "code",
   "execution_count": null,
   "metadata": {},
   "outputs": [],
   "source": [
    "# df_en_cr_xp_pivot[['Sessions', 'RR%']].head(10).to_clipboard()"
   ]
  },
  {
   "cell_type": "code",
   "execution_count": null,
   "metadata": {},
   "outputs": [],
   "source": []
  }
 ],
 "metadata": {
  "kernelspec": {
   "display_name": "Python 3.9.7 ('base')",
   "language": "python",
   "name": "python3"
  },
  "language_info": {
   "codemirror_mode": {
    "name": "ipython",
    "version": 3
   },
   "file_extension": ".py",
   "mimetype": "text/x-python",
   "name": "python",
   "nbconvert_exporter": "python",
   "pygments_lexer": "ipython3",
   "version": "3.9.7"
  },
  "orig_nbformat": 4,
  "vscode": {
   "interpreter": {
    "hash": "0606053452435824a427f0ea93d6ae20786397642025bcc66bfe96b66155d44b"
   }
  }
 },
 "nbformat": 4,
 "nbformat_minor": 2
}
