{
 "cells": [
  {
   "cell_type": "code",
   "execution_count": 1,
   "metadata": {},
   "outputs": [],
   "source": [
    "from googletrans import Translator\n",
    "import pandas as pd"
   ]
  },
  {
   "cell_type": "code",
   "execution_count": 18,
   "metadata": {},
   "outputs": [],
   "source": [
    "trans_df = pd.read_csv('translation.csv')"
   ]
  },
  {
   "cell_type": "code",
   "execution_count": 19,
   "metadata": {},
   "outputs": [
    {
     "data": {
      "text/html": [
       "<div>\n",
       "<style scoped>\n",
       "    .dataframe tbody tr th:only-of-type {\n",
       "        vertical-align: middle;\n",
       "    }\n",
       "\n",
       "    .dataframe tbody tr th {\n",
       "        vertical-align: top;\n",
       "    }\n",
       "\n",
       "    .dataframe thead th {\n",
       "        text-align: right;\n",
       "    }\n",
       "</style>\n",
       "<table border=\"1\" class=\"dataframe\">\n",
       "  <thead>\n",
       "    <tr style=\"text-align: right;\">\n",
       "      <th></th>\n",
       "      <th>KT</th>\n",
       "    </tr>\n",
       "  </thead>\n",
       "  <tbody>\n",
       "    <tr>\n",
       "      <th>0</th>\n",
       "      <td>Collection point gulor address jante chai</td>\n",
       "    </tr>\n",
       "    <tr>\n",
       "      <th>1</th>\n",
       "      <td>Collection point er address gulo amake bolen</td>\n",
       "    </tr>\n",
       "    <tr>\n",
       "      <th>2</th>\n",
       "      <td>Ami collection point er address gulo jante chai</td>\n",
       "    </tr>\n",
       "    <tr>\n",
       "      <th>3</th>\n",
       "      <td>Ami apnader pick up point er thikana jante chai</td>\n",
       "    </tr>\n",
       "    <tr>\n",
       "      <th>4</th>\n",
       "      <td>Pick up point er address gulo bolen</td>\n",
       "    </tr>\n",
       "    <tr>\n",
       "      <th>5</th>\n",
       "      <td>Apnader thikana den pick up point er</td>\n",
       "    </tr>\n",
       "    <tr>\n",
       "      <th>6</th>\n",
       "      <td>Pickup point kothay kothay ache bhai</td>\n",
       "    </tr>\n",
       "    <tr>\n",
       "      <th>7</th>\n",
       "      <td>Bhai ekta help koren collection point theke or...</td>\n",
       "    </tr>\n",
       "    <tr>\n",
       "      <th>8</th>\n",
       "      <td>Amake collection point er thikana den to</td>\n",
       "    </tr>\n",
       "    <tr>\n",
       "      <th>9</th>\n",
       "      <td>Ami pick korbo kothay jabo</td>\n",
       "    </tr>\n",
       "    <tr>\n",
       "      <th>10</th>\n",
       "      <td>Amar nearest pickup point er location ta jante...</td>\n",
       "    </tr>\n",
       "    <tr>\n",
       "      <th>11</th>\n",
       "      <td>apni amk janan pirojpur kono drop off point ac...</td>\n",
       "    </tr>\n",
       "    <tr>\n",
       "      <th>12</th>\n",
       "      <td>Jamalpur hab er address jante pari</td>\n",
       "    </tr>\n",
       "    <tr>\n",
       "      <th>13</th>\n",
       "      <td>ascha pick up point ki kapasia ase</td>\n",
       "    </tr>\n",
       "    <tr>\n",
       "      <th>14</th>\n",
       "      <td>Nilphamari te koko daraz office ase</td>\n",
       "    </tr>\n",
       "    <tr>\n",
       "      <th>15</th>\n",
       "      <td>Uttara daras delivery centre Kotay</td>\n",
       "    </tr>\n",
       "    <tr>\n",
       "      <th>16</th>\n",
       "      <td>dhakay daraz er office kothay</td>\n",
       "    </tr>\n",
       "    <tr>\n",
       "      <th>17</th>\n",
       "      <td>Faridpur a apnader kono branch ace</td>\n",
       "    </tr>\n",
       "    <tr>\n",
       "      <th>18</th>\n",
       "      <td>Jatrabarite ki daraz drop point ase</td>\n",
       "    </tr>\n",
       "    <tr>\n",
       "      <th>19</th>\n",
       "      <td>Savar baipel ba DEPZ er kase Kono collection p...</td>\n",
       "    </tr>\n",
       "    <tr>\n",
       "      <th>20</th>\n",
       "      <td>order korar por free delivary uttara kotha the...</td>\n",
       "    </tr>\n",
       "    <tr>\n",
       "      <th>21</th>\n",
       "      <td>Apnader old town station r pick up point er lo...</td>\n",
       "    </tr>\n",
       "    <tr>\n",
       "      <th>22</th>\n",
       "      <td>Daraz we pick off point kothay</td>\n",
       "    </tr>\n",
       "    <tr>\n",
       "      <th>23</th>\n",
       "      <td>Mission mor Lalmonirhat a apnader daraz offic ...</td>\n",
       "    </tr>\n",
       "    <tr>\n",
       "      <th>24</th>\n",
       "      <td>Chittagong a pickup point nai</td>\n",
       "    </tr>\n",
       "    <tr>\n",
       "      <th>25</th>\n",
       "      <td>Daraz lalbagh collection point kothay</td>\n",
       "    </tr>\n",
       "    <tr>\n",
       "      <th>26</th>\n",
       "      <td>Bhai apner dokaner address ta den</td>\n",
       "    </tr>\n",
       "    <tr>\n",
       "      <th>27</th>\n",
       "      <td>Jatrabari ki pickup point ase</td>\n",
       "    </tr>\n",
       "    <tr>\n",
       "      <th>28</th>\n",
       "      <td>Kothay ase pickup point</td>\n",
       "    </tr>\n",
       "    <tr>\n",
       "      <th>29</th>\n",
       "      <td>Comillay daraz hub kon jaygay</td>\n",
       "    </tr>\n",
       "  </tbody>\n",
       "</table>\n",
       "</div>"
      ],
      "text/plain": [
       "                                                   KT\n",
       "0           Collection point gulor address jante chai\n",
       "1        Collection point er address gulo amake bolen\n",
       "2     Ami collection point er address gulo jante chai\n",
       "3     Ami apnader pick up point er thikana jante chai\n",
       "4                 Pick up point er address gulo bolen\n",
       "5                Apnader thikana den pick up point er\n",
       "6                Pickup point kothay kothay ache bhai\n",
       "7   Bhai ekta help koren collection point theke or...\n",
       "8            Amake collection point er thikana den to\n",
       "9                          Ami pick korbo kothay jabo\n",
       "10  Amar nearest pickup point er location ta jante...\n",
       "11  apni amk janan pirojpur kono drop off point ac...\n",
       "12                 Jamalpur hab er address jante pari\n",
       "13                 ascha pick up point ki kapasia ase\n",
       "14                Nilphamari te koko daraz office ase\n",
       "15                 Uttara daras delivery centre Kotay\n",
       "16                      dhakay daraz er office kothay\n",
       "17                 Faridpur a apnader kono branch ace\n",
       "18                Jatrabarite ki daraz drop point ase\n",
       "19  Savar baipel ba DEPZ er kase Kono collection p...\n",
       "20  order korar por free delivary uttara kotha the...\n",
       "21  Apnader old town station r pick up point er lo...\n",
       "22                     Daraz we pick off point kothay\n",
       "23  Mission mor Lalmonirhat a apnader daraz offic ...\n",
       "24                      Chittagong a pickup point nai\n",
       "25              Daraz lalbagh collection point kothay\n",
       "26                  Bhai apner dokaner address ta den\n",
       "27                      Jatrabari ki pickup point ase\n",
       "28                            Kothay ase pickup point\n",
       "29                      Comillay daraz hub kon jaygay"
      ]
     },
     "execution_count": 19,
     "metadata": {},
     "output_type": "execute_result"
    }
   ],
   "source": [
    "trans_df"
   ]
  },
  {
   "cell_type": "code",
   "execution_count": 4,
   "metadata": {},
   "outputs": [],
   "source": [
    "translator = Translator()"
   ]
  },
  {
   "cell_type": "code",
   "execution_count": 8,
   "metadata": {},
   "outputs": [],
   "source": [
    "text = 'Why is my status \"Refunded\" when I havent received the amount?'"
   ]
  },
  {
   "cell_type": "code",
   "execution_count": 4,
   "metadata": {},
   "outputs": [],
   "source": [
    "text = 'Amer status \"Refunded\"'"
   ]
  },
  {
   "cell_type": "code",
   "execution_count": 11,
   "metadata": {},
   "outputs": [],
   "source": [
    "translated_text = translator.translate(text, dest = 'bn', src='en')"
   ]
  },
  {
   "cell_type": "code",
   "execution_count": 12,
   "metadata": {},
   "outputs": [
    {
     "data": {
      "text/plain": [
       "'যখন আমি টাকা পাইনি তখন কেন আমার স্ট্যাটাস \"ফেরত\" হয়?'"
      ]
     },
     "execution_count": 12,
     "metadata": {},
     "output_type": "execute_result"
    }
   ],
   "source": [
    "translated_text.text"
   ]
  },
  {
   "cell_type": "code",
   "execution_count": 24,
   "metadata": {},
   "outputs": [
    {
     "name": "stderr",
     "output_type": "stream",
     "text": [
      "C:\\Users\\Daraz\\AppData\\Local\\Temp/ipykernel_27092/2306952052.py:6: SettingWithCopyWarning: \n",
      "A value is trying to be set on a copy of a slice from a DataFrame\n",
      "\n",
      "See the caveats in the documentation: https://pandas.pydata.org/pandas-docs/stable/user_guide/indexing.html#returning-a-view-versus-a-copy\n",
      "  trans_df[\"bn\"][i] = trans.text\n",
      "c:\\Users\\Daraz\\anaconda3\\lib\\site-packages\\pandas\\core\\indexing.py:1732: SettingWithCopyWarning: \n",
      "A value is trying to be set on a copy of a slice from a DataFrame\n",
      "\n",
      "See the caveats in the documentation: https://pandas.pydata.org/pandas-docs/stable/user_guide/indexing.html#returning-a-view-versus-a-copy\n",
      "  self._setitem_single_block(indexer, value, name)\n"
     ]
    }
   ],
   "source": [
    "trans_df['bn'] = 0\n",
    "\n",
    "for i in range(len(trans_df)):\n",
    "  text = trans_df[\"KT\"][i]\n",
    "  trans = translator.translate(text, dest = 'bn')\n",
    "  trans_df[\"bn\"][i] = trans.text"
   ]
  },
  {
   "cell_type": "code",
   "execution_count": 25,
   "metadata": {},
   "outputs": [
    {
     "data": {
      "text/plain": [
       "0                 কালেকশন পয়েন্ট গুলোর এড্রেস জানতে চাই\n",
       "1              কালেকশন পয়েন্ট এর এড্রেস গুলো আমাকে বলেন\n",
       "2           আমি কালেকশন পয়েন্ট এর এড্রেস গুলো জানতে চাই\n",
       "3         আমি আপনাদের পিক উপ পয়েন্ট এর ঠিকানা জানতে চাই\n",
       "4                   পিক আপ পয়েন্ট এয়ার ঠিকানা গুলো বল\n",
       "5                   আপনাদের ঠিকানা দেন পিক উপ পয়েন্ট এর\n",
       "6                      পিকুপ পয়েন্ট কোথায় কোথায় আছে ভাই\n",
       "7     ভাই একটা হেল্প করেন কালেকশন পয়েন্ট থেকে অর্ডার...\n",
       "8                 আমাকে কালেকশন পয়েন্ট এর ঠিকানা দেন তো\n",
       "9                               আমি পিক করবো কোথায় যাবো\n",
       "10    আমার নেয়ারেস্ট পিকুপ পয়েন্ট এর লোকেশন তা জানতে...\n",
       "11    আপনি আমাকে জানান পিরোজপুর কোনো ড্রপ অফ পয়েন্ট ...\n",
       "12                    জামালপুর হব্ এর এড্রেস জানতে পারি\n",
       "13                   আসছে পিক উপ পয়েন্ট কি কাপাসিয়া আসে\n",
       "14                     নীলফামারী তে কোকো দারাজ অফিস আসে\n",
       "15                 উত্তরঃ দারাস ডেলিভারি সেন্টারে কোটায়\n",
       "16                            ঢাকায় দারাজ এর অফিস কোথায়\n",
       "17                  ফরিদপুর যা আপনাদের কোনো ব্রাঞ্চ আচে\n",
       "18                যাত্রাবাড়ীতে কি দারাজ ড্রপ পয়েন্ট আসে\n",
       "19    সাভার বিপিএল বা ডিপজ এর কাসে কোনো কালেকশন পয়েন...\n",
       "20    অর্ডার করার পর ফ্রি ডেলিভারি উত্তরঃ কথা থেকে প...\n",
       "21    আপনাদের ওল্ড টাউন স্টেশন র পিক উপ পয়েন্ট এর লো...\n",
       "22                         দারাজ মে পিক অফ পয়েন্ট কোথায়\n",
       "23    মিশন মোড় লালমনিরহাট যা আপনাদের দারাজ অফিস তা ক...\n",
       "24                   চট্টগ্রামের একটি পিকআপ পয়েন্ট নাই\n",
       "25                    দারাজ লালবাগ কালেকশন পয়েন্ট কোথায়\n",
       "26                      ভাই আপনের দোকানের এড্রেস তা দেন\n",
       "27                       যাত্রাবাড়ী কি পিকুপ পয়েন্ট আসে\n",
       "28                               কোথায় এসে পিকুপ পয়েন্ট\n",
       "29                       কুমিল্লায় দারাজ হাব কোন জায়গায়\n",
       "Name: bn, dtype: object"
      ]
     },
     "execution_count": 25,
     "metadata": {},
     "output_type": "execute_result"
    }
   ],
   "source": [
    "trans_df['bn']"
   ]
  },
  {
   "cell_type": "code",
   "execution_count": 26,
   "metadata": {},
   "outputs": [],
   "source": [
    "trans_df['bn'].to_clipboard()"
   ]
  },
  {
   "cell_type": "code",
   "execution_count": 2,
   "metadata": {},
   "outputs": [
    {
     "name": "stdout",
     "output_type": "stream",
     "text": [
      "1970-08-23\n"
     ]
    }
   ],
   "source": [
    "import datetime\n",
    "timestamp = datetime.datetime.fromtimestamp(20220530)\n",
    "print(timestamp.strftime('%Y-%m-%d'))"
   ]
  },
  {
   "cell_type": "code",
   "execution_count": 3,
   "metadata": {},
   "outputs": [],
   "source": [
    "import datetime\n",
    "s = \"20120213\"\n",
    "s_datetime = datetime.datetime.strptime(s, '%Y%m%d')"
   ]
  },
  {
   "cell_type": "code",
   "execution_count": 4,
   "metadata": {},
   "outputs": [
    {
     "data": {
      "text/plain": [
       "datetime.datetime(2012, 2, 13, 0, 0)"
      ]
     },
     "execution_count": 4,
     "metadata": {},
     "output_type": "execute_result"
    }
   ],
   "source": [
    "s_datetime"
   ]
  },
  {
   "cell_type": "code",
   "execution_count": null,
   "metadata": {},
   "outputs": [],
   "source": []
  }
 ],
 "metadata": {
  "interpreter": {
   "hash": "0606053452435824a427f0ea93d6ae20786397642025bcc66bfe96b66155d44b"
  },
  "kernelspec": {
   "display_name": "Python 3.9.7 ('base')",
   "language": "python",
   "name": "python3"
  },
  "language_info": {
   "codemirror_mode": {
    "name": "ipython",
    "version": 3
   },
   "file_extension": ".py",
   "mimetype": "text/x-python",
   "name": "python",
   "nbconvert_exporter": "python",
   "pygments_lexer": "ipython3",
   "version": "3.9.7"
  },
  "orig_nbformat": 4
 },
 "nbformat": 4,
 "nbformat_minor": 2
}
