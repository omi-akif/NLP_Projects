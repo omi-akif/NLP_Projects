{
 "cells": [
  {
   "cell_type": "code",
   "execution_count": 1,
   "metadata": {},
   "outputs": [],
   "source": [
    "import pandas as pd"
   ]
  },
  {
   "cell_type": "code",
   "execution_count": 6,
   "metadata": {},
   "outputs": [],
   "source": [
    "df = pd.read_csv(r'ChatDetailsDataset\\2022_06210621_CD.csv')"
   ]
  },
  {
   "cell_type": "code",
   "execution_count": 7,
   "metadata": {},
   "outputs": [
    {
     "data": {
      "text/plain": [
       "Index(['Create Date', 'tenant_name', 'robot_code', 'robot_name', 'from_id',\n",
       "       'from_name', 'Session_id', 'Intention', 'user_id',\n",
       "       'Seller id (X-space)', 'user_nick', 'create_time', 'chat_uuid',\n",
       "       'Enter Type', 'query', 'Question Type', 'sopname', 'answer_type',\n",
       "       'SOP_Solution_id', 'SOP_Solution_Name', 'Standard Knowledge Title',\n",
       "       'Knowledge_id', 'knowledge_cate_1_name', 'knowledge_cate_2_name',\n",
       "       'knowledge_cate_3_name', 'is_session_unsatisfied',\n",
       "       'is_session_last_no answer', 'call_agent_by_click_shortcut',\n",
       "       'is_session_last_recommend no click', 'call_agent_by_intention',\n",
       "       'is_session_direct_liveagent', 'Contacted live agent on same day',\n",
       "       'Feedback Card Response', 'is_chat_recommend', 'is_chat_no answer',\n",
       "       'is_chat_pre/post match', 'live agent_session_id',\n",
       "       'Last Query Before Live Agent Session', 'Live Agent User Query',\n",
       "       'Live Agent Response', 'Feedback Type', 'Unsatisfied Reason'],\n",
       "      dtype='object')"
      ]
     },
     "execution_count": 7,
     "metadata": {},
     "output_type": "execute_result"
    }
   ],
   "source": [
    "df.columns"
   ]
  },
  {
   "cell_type": "code",
   "execution_count": 15,
   "metadata": {},
   "outputs": [
    {
     "data": {
      "text/html": [
       "<div>\n",
       "<style scoped>\n",
       "    .dataframe tbody tr th:only-of-type {\n",
       "        vertical-align: middle;\n",
       "    }\n",
       "\n",
       "    .dataframe tbody tr th {\n",
       "        vertical-align: top;\n",
       "    }\n",
       "\n",
       "    .dataframe thead th {\n",
       "        text-align: right;\n",
       "    }\n",
       "</style>\n",
       "<table border=\"1\" class=\"dataframe\">\n",
       "  <thead>\n",
       "    <tr style=\"text-align: right;\">\n",
       "      <th></th>\n",
       "      <th>Create Date</th>\n",
       "      <th>tenant_name</th>\n",
       "      <th>robot_code</th>\n",
       "      <th>robot_name</th>\n",
       "      <th>from_id</th>\n",
       "      <th>from_name</th>\n",
       "      <th>Session_id</th>\n",
       "      <th>Intention</th>\n",
       "      <th>user_id</th>\n",
       "      <th>Seller id (X-space)</th>\n",
       "      <th>...</th>\n",
       "      <th>Feedback Card Response</th>\n",
       "      <th>is_chat_recommend</th>\n",
       "      <th>is_chat_no answer</th>\n",
       "      <th>is_chat_pre/post match</th>\n",
       "      <th>live agent_session_id</th>\n",
       "      <th>Last Query Before Live Agent Session</th>\n",
       "      <th>Live Agent User Query</th>\n",
       "      <th>Live Agent Response</th>\n",
       "      <th>Feedback Type</th>\n",
       "      <th>Unsatisfied Reason</th>\n",
       "    </tr>\n",
       "  </thead>\n",
       "  <tbody>\n",
       "  </tbody>\n",
       "</table>\n",
       "<p>0 rows × 42 columns</p>\n",
       "</div>"
      ],
      "text/plain": [
       "Empty DataFrame\n",
       "Columns: [Create Date, tenant_name, robot_code, robot_name, from_id, from_name, Session_id, Intention, user_id, Seller id (X-space), user_nick, create_time, chat_uuid, Enter Type, query, Question Type, sopname, answer_type, SOP_Solution_id, SOP_Solution_Name, Standard Knowledge Title, Knowledge_id, knowledge_cate_1_name, knowledge_cate_2_name, knowledge_cate_3_name, is_session_unsatisfied, is_session_last_no answer, call_agent_by_click_shortcut, is_session_last_recommend no click, call_agent_by_intention, is_session_direct_liveagent, Contacted live agent on same day, Feedback Card Response, is_chat_recommend, is_chat_no answer, is_chat_pre/post match, live agent_session_id, Last Query Before Live Agent Session, Live Agent User Query, Live Agent Response, Feedback Type, Unsatisfied Reason]\n",
       "Index: []\n",
       "\n",
       "[0 rows x 42 columns]"
      ]
     },
     "execution_count": 15,
     "metadata": {},
     "output_type": "execute_result"
    }
   ],
   "source": [
    "df[df['create_time'] == '2022-06-21 11:48:06']"
   ]
  },
  {
   "cell_type": "code",
   "execution_count": 16,
   "metadata": {},
   "outputs": [],
   "source": [
    "df['create_time'] = df['create_time'].apply(pd.to_datetime)"
   ]
  },
  {
   "cell_type": "code",
   "execution_count": 23,
   "metadata": {},
   "outputs": [],
   "source": [
    "mask = (df['create_time'] > '2022-06-21 21:48:00') & (df['create_time'] <= '2022-06-21 21:49:00')\n",
    "df2 = df.loc[mask]"
   ]
  },
  {
   "cell_type": "code",
   "execution_count": 26,
   "metadata": {},
   "outputs": [
    {
     "data": {
      "text/html": [
       "<div>\n",
       "<style scoped>\n",
       "    .dataframe tbody tr th:only-of-type {\n",
       "        vertical-align: middle;\n",
       "    }\n",
       "\n",
       "    .dataframe tbody tr th {\n",
       "        vertical-align: top;\n",
       "    }\n",
       "\n",
       "    .dataframe thead th {\n",
       "        text-align: right;\n",
       "    }\n",
       "</style>\n",
       "<table border=\"1\" class=\"dataframe\">\n",
       "  <thead>\n",
       "    <tr style=\"text-align: right;\">\n",
       "      <th></th>\n",
       "      <th>Create Date</th>\n",
       "      <th>tenant_name</th>\n",
       "      <th>robot_code</th>\n",
       "      <th>robot_name</th>\n",
       "      <th>from_id</th>\n",
       "      <th>from_name</th>\n",
       "      <th>Session_id</th>\n",
       "      <th>Intention</th>\n",
       "      <th>user_id</th>\n",
       "      <th>Seller id (X-space)</th>\n",
       "      <th>...</th>\n",
       "      <th>Feedback Card Response</th>\n",
       "      <th>is_chat_recommend</th>\n",
       "      <th>is_chat_no answer</th>\n",
       "      <th>is_chat_pre/post match</th>\n",
       "      <th>live agent_session_id</th>\n",
       "      <th>Last Query Before Live Agent Session</th>\n",
       "      <th>Live Agent User Query</th>\n",
       "      <th>Live Agent Response</th>\n",
       "      <th>Feedback Type</th>\n",
       "      <th>Unsatisfied Reason</th>\n",
       "    </tr>\n",
       "  </thead>\n",
       "  <tbody>\n",
       "  </tbody>\n",
       "</table>\n",
       "<p>0 rows × 42 columns</p>\n",
       "</div>"
      ],
      "text/plain": [
       "Empty DataFrame\n",
       "Columns: [Create Date, tenant_name, robot_code, robot_name, from_id, from_name, Session_id, Intention, user_id, Seller id (X-space), user_nick, create_time, chat_uuid, Enter Type, query, Question Type, sopname, answer_type, SOP_Solution_id, SOP_Solution_Name, Standard Knowledge Title, Knowledge_id, knowledge_cate_1_name, knowledge_cate_2_name, knowledge_cate_3_name, is_session_unsatisfied, is_session_last_no answer, call_agent_by_click_shortcut, is_session_last_recommend no click, call_agent_by_intention, is_session_direct_liveagent, Contacted live agent on same day, Feedback Card Response, is_chat_recommend, is_chat_no answer, is_chat_pre/post match, live agent_session_id, Last Query Before Live Agent Session, Live Agent User Query, Live Agent Response, Feedback Type, Unsatisfied Reason]\n",
       "Index: []\n",
       "\n",
       "[0 rows x 42 columns]"
      ]
     },
     "execution_count": 26,
     "metadata": {},
     "output_type": "execute_result"
    }
   ],
   "source": [
    "df[df['user_nick'] == 'Zori']"
   ]
  },
  {
   "cell_type": "code",
   "execution_count": 20,
   "metadata": {},
   "outputs": [
    {
     "data": {
      "text/plain": [
       "0       2022-06-21 14:47:15\n",
       "1       2022-06-21 14:47:24\n",
       "2       2022-06-21 14:48:23\n",
       "3       2022-06-21 17:49:49\n",
       "4       2022-06-21 17:49:49\n",
       "                ...        \n",
       "31999   2022-06-21 02:33:36\n",
       "32000   2022-06-21 02:33:39\n",
       "32001   2022-06-21 02:33:25\n",
       "32002   2022-06-21 02:33:14\n",
       "32003   2022-06-21 02:25:39\n",
       "Name: create_time, Length: 32004, dtype: datetime64[ns]"
      ]
     },
     "execution_count": 20,
     "metadata": {},
     "output_type": "execute_result"
    }
   ],
   "source": [
    "df['create_time']"
   ]
  },
  {
   "cell_type": "code",
   "execution_count": null,
   "metadata": {},
   "outputs": [],
   "source": []
  }
 ],
 "metadata": {
  "kernelspec": {
   "display_name": "Python 3.9.7 ('base')",
   "language": "python",
   "name": "python3"
  },
  "language_info": {
   "codemirror_mode": {
    "name": "ipython",
    "version": 3
   },
   "file_extension": ".py",
   "mimetype": "text/x-python",
   "name": "python",
   "nbconvert_exporter": "python",
   "pygments_lexer": "ipython3",
   "version": "3.9.7"
  },
  "orig_nbformat": 4,
  "vscode": {
   "interpreter": {
    "hash": "0606053452435824a427f0ea93d6ae20786397642025bcc66bfe96b66155d44b"
   }
  }
 },
 "nbformat": 4,
 "nbformat_minor": 2
}
