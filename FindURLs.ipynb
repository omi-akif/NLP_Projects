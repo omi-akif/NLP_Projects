{
 "cells": [
  {
   "cell_type": "code",
   "execution_count": 1,
   "metadata": {},
   "outputs": [],
   "source": [
    "import pandas as pd\n",
    "import numpy as np\n",
    "from bs4 import BeautifulSoup as BSHTML\n",
    "import os"
   ]
  },
  {
   "cell_type": "code",
   "execution_count": 2,
   "metadata": {},
   "outputs": [],
   "source": [
    "def url_extractor(htmlText):\n",
    "    \n",
    "    image_url = []\n",
    "    soup = BSHTML(htmlText)\n",
    "    images = soup.findAll('img')\n",
    "    for image in images:\n",
    "        image_url.append(image['src'])\n",
    "\n",
    "    return image_url"
   ]
  },
  {
   "cell_type": "code",
   "execution_count": 42,
   "metadata": {},
   "outputs": [],
   "source": [
    "df = pd.read_excel('eng KB.xlsx')"
   ]
  },
  {
   "cell_type": "code",
   "execution_count": 43,
   "metadata": {},
   "outputs": [],
   "source": [
    "df.rename(columns={'机器人':'HTML'}, inplace=True)"
   ]
  },
  {
   "cell_type": "code",
   "execution_count": 44,
   "metadata": {},
   "outputs": [
    {
     "data": {
      "text/plain": [
       "Index(['category', 'Knowledge title', 'Create time', 'Edit time',\n",
       "       'Knowledge type', 'Similar question', 'HTML',\n",
       "       'AIML&Android问题&IOS问题&会员帮助&无线知识&机器人', 'AIML',\n",
       "       'AIML&Android问题&会员帮助&无线知识&机器人'],\n",
       "      dtype='object')"
      ]
     },
     "execution_count": 44,
     "metadata": {},
     "output_type": "execute_result"
    }
   ],
   "source": [
    "df.columns"
   ]
  },
  {
   "cell_type": "code",
   "execution_count": 45,
   "metadata": {},
   "outputs": [
    {
     "data": {
      "text/plain": [
       "0      <div id=\"se-knowledge\"><p><u><strong>How do I ...\n",
       "1      <div id=\"se-knowledge\"><p>After <strong>Checko...\n",
       "2      <div id=\"se-knowledge\"><p>For <strong>Marketpl...\n",
       "3      <div id=\"se-knowledge\"><p>For marketplace item...\n",
       "4      <div id=\"se-knowledge\"><p><u><strong>How to ma...\n",
       "                             ...                        \n",
       "547                                                  NaN\n",
       "548                                                  NaN\n",
       "549                                                  NaN\n",
       "550                                                  NaN\n",
       "551                                                  NaN\n",
       "Name: HTML, Length: 552, dtype: object"
      ]
     },
     "execution_count": 45,
     "metadata": {},
     "output_type": "execute_result"
    }
   ],
   "source": [
    "df['HTML']"
   ]
  },
  {
   "cell_type": "code",
   "execution_count": 46,
   "metadata": {},
   "outputs": [],
   "source": [
    "df2 = df[df['HTML'].notna()]"
   ]
  },
  {
   "cell_type": "code",
   "execution_count": 47,
   "metadata": {},
   "outputs": [],
   "source": [
    "df2.reset_index(inplace=True)"
   ]
  },
  {
   "cell_type": "code",
   "execution_count": 48,
   "metadata": {},
   "outputs": [
    {
     "name": "stderr",
     "output_type": "stream",
     "text": [
      "C:\\Users\\Daraz\\AppData\\Local\\Temp/ipykernel_14436/1809371992.py:1: SettingWithCopyWarning: \n",
      "A value is trying to be set on a copy of a slice from a DataFrame\n",
      "\n",
      "See the caveats in the documentation: https://pandas.pydata.org/pandas-docs/stable/user_guide/indexing.html#returning-a-view-versus-a-copy\n",
      "  df2.drop(labels='index', axis = 1, inplace = True )\n"
     ]
    }
   ],
   "source": [
    "df2.drop(labels='index', axis = 1, inplace = True )"
   ]
  },
  {
   "cell_type": "code",
   "execution_count": 49,
   "metadata": {},
   "outputs": [
    {
     "data": {
      "text/html": [
       "<div>\n",
       "<style scoped>\n",
       "    .dataframe tbody tr th:only-of-type {\n",
       "        vertical-align: middle;\n",
       "    }\n",
       "\n",
       "    .dataframe tbody tr th {\n",
       "        vertical-align: top;\n",
       "    }\n",
       "\n",
       "    .dataframe thead th {\n",
       "        text-align: right;\n",
       "    }\n",
       "</style>\n",
       "<table border=\"1\" class=\"dataframe\">\n",
       "  <thead>\n",
       "    <tr style=\"text-align: right;\">\n",
       "      <th></th>\n",
       "      <th>category</th>\n",
       "      <th>Knowledge title</th>\n",
       "      <th>Create time</th>\n",
       "      <th>Edit time</th>\n",
       "      <th>Knowledge type</th>\n",
       "      <th>Similar question</th>\n",
       "      <th>HTML</th>\n",
       "      <th>AIML&amp;Android问题&amp;IOS问题&amp;会员帮助&amp;无线知识&amp;机器人</th>\n",
       "      <th>AIML</th>\n",
       "      <th>AIML&amp;Android问题&amp;会员帮助&amp;无线知识&amp;机器人</th>\n",
       "    </tr>\n",
       "  </thead>\n",
       "  <tbody>\n",
       "    <tr>\n",
       "      <th>0</th>\n",
       "      <td>English/Payment/Payment</td>\n",
       "      <td>How do I pay on Daraz</td>\n",
       "      <td>NaN</td>\n",
       "      <td>NaN</td>\n",
       "      <td>普通知识</td>\n",
       "      <td>How do I make payment on Daraz\\nPlease let me ...</td>\n",
       "      <td>&lt;div id=\"se-knowledge\"&gt;&lt;p&gt;&lt;u&gt;&lt;strong&gt;How do I ...</td>\n",
       "      <td>NaN</td>\n",
       "      <td>NaN</td>\n",
       "      <td>NaN</td>\n",
       "    </tr>\n",
       "    <tr>\n",
       "      <th>1</th>\n",
       "      <td>English/Payment/Payment</td>\n",
       "      <td>How do I pay with my Card</td>\n",
       "      <td>NaN</td>\n",
       "      <td>NaN</td>\n",
       "      <td>普通知识</td>\n",
       "      <td>How can I make payment with my Debit card\\nHow...</td>\n",
       "      <td>&lt;div id=\"se-knowledge\"&gt;&lt;p&gt;After &lt;strong&gt;Checko...</td>\n",
       "      <td>NaN</td>\n",
       "      <td>NaN</td>\n",
       "      <td>NaN</td>\n",
       "    </tr>\n",
       "  </tbody>\n",
       "</table>\n",
       "</div>"
      ],
      "text/plain": [
       "                  category            Knowledge title  Create time  Edit time  \\\n",
       "0  English/Payment/Payment      How do I pay on Daraz          NaN        NaN   \n",
       "1  English/Payment/Payment  How do I pay with my Card          NaN        NaN   \n",
       "\n",
       "  Knowledge type                                   Similar question  \\\n",
       "0           普通知识  How do I make payment on Daraz\\nPlease let me ...   \n",
       "1           普通知识  How can I make payment with my Debit card\\nHow...   \n",
       "\n",
       "                                                HTML  \\\n",
       "0  <div id=\"se-knowledge\"><p><u><strong>How do I ...   \n",
       "1  <div id=\"se-knowledge\"><p>After <strong>Checko...   \n",
       "\n",
       "  AIML&Android问题&IOS问题&会员帮助&无线知识&机器人 AIML AIML&Android问题&会员帮助&无线知识&机器人  \n",
       "0                                NaN  NaN                          NaN  \n",
       "1                                NaN  NaN                          NaN  "
      ]
     },
     "execution_count": 49,
     "metadata": {},
     "output_type": "execute_result"
    }
   ],
   "source": [
    "df2.head(2)"
   ]
  },
  {
   "cell_type": "code",
   "execution_count": 50,
   "metadata": {},
   "outputs": [
    {
     "name": "stderr",
     "output_type": "stream",
     "text": [
      "C:\\Users\\Daraz\\AppData\\Local\\Temp/ipykernel_14436/936501092.py:1: SettingWithCopyWarning: \n",
      "A value is trying to be set on a copy of a slice from a DataFrame.\n",
      "Try using .loc[row_indexer,col_indexer] = value instead\n",
      "\n",
      "See the caveats in the documentation: https://pandas.pydata.org/pandas-docs/stable/user_guide/indexing.html#returning-a-view-versus-a-copy\n",
      "  df2['URLs'] = np.nan\n"
     ]
    }
   ],
   "source": [
    "df2['URLs'] = np.nan"
   ]
  },
  {
   "cell_type": "code",
   "execution_count": 51,
   "metadata": {},
   "outputs": [
    {
     "name": "stderr",
     "output_type": "stream",
     "text": [
      "C:\\Users\\Daraz\\AppData\\Local\\Temp/ipykernel_14436/3938622343.py:1: SettingWithCopyWarning: \n",
      "A value is trying to be set on a copy of a slice from a DataFrame.\n",
      "Try using .loc[row_indexer,col_indexer] = value instead\n",
      "\n",
      "See the caveats in the documentation: https://pandas.pydata.org/pandas-docs/stable/user_guide/indexing.html#returning-a-view-versus-a-copy\n",
      "  df2['URLs'] = df2['HTML'].apply(url_extractor)\n"
     ]
    }
   ],
   "source": [
    "df2['URLs'] = df2['HTML'].apply(url_extractor)"
   ]
  },
  {
   "cell_type": "code",
   "execution_count": 52,
   "metadata": {},
   "outputs": [
    {
     "data": {
      "text/plain": [
       "0      [//beebot-sg-knowledgecloud.oss-ap-southeast-1...\n",
       "1                                                     []\n",
       "2                                                     []\n",
       "3                                                     []\n",
       "4      [https://beebot-sg-knowledgecloud.oss-ap-south...\n",
       "                             ...                        \n",
       "510                                                   []\n",
       "511    [https://beebot-sg-knowledgecloud.oss-ap-south...\n",
       "512                                                   []\n",
       "513                                                   []\n",
       "514                                                   []\n",
       "Name: URLs, Length: 515, dtype: object"
      ]
     },
     "execution_count": 52,
     "metadata": {},
     "output_type": "execute_result"
    }
   ],
   "source": [
    "df2['URLs']"
   ]
  },
  {
   "cell_type": "code",
   "execution_count": 53,
   "metadata": {},
   "outputs": [],
   "source": [
    "df.to_csv('data_set.csv')"
   ]
  },
  {
   "cell_type": "code",
   "execution_count": 54,
   "metadata": {},
   "outputs": [
    {
     "name": "stderr",
     "output_type": "stream",
     "text": [
      "C:\\Users\\Daraz\\AppData\\Local\\Temp/ipykernel_14436/3923265862.py:1: SettingWithCopyWarning: \n",
      "A value is trying to be set on a copy of a slice from a DataFrame.\n",
      "Try using .loc[row_indexer,col_indexer] = value instead\n",
      "\n",
      "See the caveats in the documentation: https://pandas.pydata.org/pandas-docs/stable/user_guide/indexing.html#returning-a-view-versus-a-copy\n",
      "  df2['URLs'] = df2['URLs'].apply(lambda x: ','.join(map(str, x)))\n"
     ]
    }
   ],
   "source": [
    "df2['URLs'] = df2['URLs'].apply(lambda x: ','.join(map(str, x)))"
   ]
  },
  {
   "cell_type": "code",
   "execution_count": 55,
   "metadata": {},
   "outputs": [
    {
     "data": {
      "text/plain": [
       "0      //beebot-sg-knowledgecloud.oss-ap-southeast-1....\n",
       "1                                                       \n",
       "2                                                       \n",
       "3                                                       \n",
       "4      https://beebot-sg-knowledgecloud.oss-ap-southe...\n",
       "                             ...                        \n",
       "510                                                     \n",
       "511    https://beebot-sg-knowledgecloud.oss-ap-southe...\n",
       "512                                                     \n",
       "513                                                     \n",
       "514                                                     \n",
       "Name: URLs, Length: 515, dtype: object"
      ]
     },
     "execution_count": 55,
     "metadata": {},
     "output_type": "execute_result"
    }
   ],
   "source": [
    "df2['URLs']"
   ]
  },
  {
   "cell_type": "code",
   "execution_count": 60,
   "metadata": {},
   "outputs": [
    {
     "name": "stderr",
     "output_type": "stream",
     "text": [
      "C:\\Users\\Daraz\\AppData\\Local\\Temp/ipykernel_14436/2187336949.py:1: SettingWithCopyWarning: \n",
      "A value is trying to be set on a copy of a slice from a DataFrame.\n",
      "Try using .loc[row_indexer,col_indexer] = value instead\n",
      "\n",
      "See the caveats in the documentation: https://pandas.pydata.org/pandas-docs/stable/user_guide/indexing.html#returning-a-view-versus-a-copy\n",
      "  df2['URLs'] = df2['URLs'].replace(r'^\\s*$', np.nan, regex=True)\n"
     ]
    }
   ],
   "source": [
    "df2['URLs'] = df2['URLs'].replace(r'^\\s*$', np.nan, regex=True)"
   ]
  },
  {
   "cell_type": "code",
   "execution_count": 61,
   "metadata": {},
   "outputs": [
    {
     "data": {
      "text/plain": [
       "0      //beebot-sg-knowledgecloud.oss-ap-southeast-1....\n",
       "1                                                    NaN\n",
       "2                                                    NaN\n",
       "3                                                    NaN\n",
       "4      https://beebot-sg-knowledgecloud.oss-ap-southe...\n",
       "                             ...                        \n",
       "510                                                  NaN\n",
       "511    https://beebot-sg-knowledgecloud.oss-ap-southe...\n",
       "512                                                  NaN\n",
       "513                                                  NaN\n",
       "514                                                  NaN\n",
       "Name: URLs, Length: 515, dtype: object"
      ]
     },
     "execution_count": 61,
     "metadata": {},
     "output_type": "execute_result"
    }
   ],
   "source": [
    "df2['URLs']"
   ]
  },
  {
   "cell_type": "code",
   "execution_count": 62,
   "metadata": {},
   "outputs": [
    {
     "data": {
      "text/plain": [
       "110"
      ]
     },
     "execution_count": 62,
     "metadata": {},
     "output_type": "execute_result"
    }
   ],
   "source": [
    "df2['URLs'].count()"
   ]
  },
  {
   "cell_type": "code",
   "execution_count": 68,
   "metadata": {},
   "outputs": [
    {
     "name": "stderr",
     "output_type": "stream",
     "text": [
      "C:\\Users\\Daraz\\AppData\\Local\\Temp/ipykernel_14436/3068671022.py:1: SettingWithCopyWarning: \n",
      "A value is trying to be set on a copy of a slice from a DataFrame\n",
      "\n",
      "See the caveats in the documentation: https://pandas.pydata.org/pandas-docs/stable/user_guide/indexing.html#returning-a-view-versus-a-copy\n",
      "  df2['URLs'].fillna('No Image', inplace = True)\n"
     ]
    }
   ],
   "source": [
    "df2['URLs'].fillna('No Image', inplace = True)"
   ]
  },
  {
   "cell_type": "code",
   "execution_count": 69,
   "metadata": {},
   "outputs": [
    {
     "data": {
      "text/plain": [
       "0      //beebot-sg-knowledgecloud.oss-ap-southeast-1....\n",
       "1                                               No Image\n",
       "2                                               No Image\n",
       "3                                               No Image\n",
       "4      https://beebot-sg-knowledgecloud.oss-ap-southe...\n",
       "                             ...                        \n",
       "510                                             No Image\n",
       "511    https://beebot-sg-knowledgecloud.oss-ap-southe...\n",
       "512                                             No Image\n",
       "513                                             No Image\n",
       "514                                             No Image\n",
       "Name: URLs, Length: 515, dtype: object"
      ]
     },
     "execution_count": 69,
     "metadata": {},
     "output_type": "execute_result"
    }
   ],
   "source": [
    "df2['URLs']"
   ]
  },
  {
   "cell_type": "code",
   "execution_count": 30,
   "metadata": {},
   "outputs": [],
   "source": [
    "df2 = df2[df2['URLs'].notna()]"
   ]
  },
  {
   "cell_type": "code",
   "execution_count": 32,
   "metadata": {},
   "outputs": [],
   "source": [
    "df2.reset_index(inplace=True)"
   ]
  },
  {
   "cell_type": "code",
   "execution_count": 33,
   "metadata": {},
   "outputs": [
    {
     "name": "stderr",
     "output_type": "stream",
     "text": [
      "C:\\Users\\Daraz\\AppData\\Local\\Temp/ipykernel_14436/3064647939.py:1: SettingWithCopyWarning: \n",
      "A value is trying to be set on a copy of a slice from a DataFrame\n",
      "\n",
      "See the caveats in the documentation: https://pandas.pydata.org/pandas-docs/stable/user_guide/indexing.html#returning-a-view-versus-a-copy\n",
      "  df2.drop(columns='index', inplace=True)\n"
     ]
    }
   ],
   "source": [
    "df2.drop(columns='index', inplace=True)"
   ]
  },
  {
   "cell_type": "code",
   "execution_count": 37,
   "metadata": {},
   "outputs": [
    {
     "data": {
      "text/plain": [
       "'https://beebot-sg-knowledgecloud.oss-ap-southeast-1.aliyuncs.com/kc/kc-media/kc-oss-1645964663177-card%20payment%20error.jpg'"
      ]
     },
     "execution_count": 37,
     "metadata": {},
     "output_type": "execute_result"
    }
   ],
   "source": [
    "df2['URLs'][2]"
   ]
  },
  {
   "cell_type": "code",
   "execution_count": 38,
   "metadata": {},
   "outputs": [
    {
     "name": "stderr",
     "output_type": "stream",
     "text": [
      "C:\\Users\\Daraz\\AppData\\Local\\Temp/ipykernel_14436/2246553999.py:1: SettingWithCopyWarning: \n",
      "A value is trying to be set on a copy of a slice from a DataFrame.\n",
      "Try using .loc[row_indexer,col_indexer] = value instead\n",
      "\n",
      "See the caveats in the documentation: https://pandas.pydata.org/pandas-docs/stable/user_guide/indexing.html#returning-a-view-versus-a-copy\n",
      "  df2['file_type'] = np.nan\n"
     ]
    }
   ],
   "source": [
    "df2['file_type'] = np.nan"
   ]
  },
  {
   "cell_type": "code",
   "execution_count": 50,
   "metadata": {},
   "outputs": [
    {
     "data": {
      "text/plain": [
       "Index(['category', 'Knowledge title', 'Create time', 'Edit time',\n",
       "       'Knowledge type', 'Similar question', 'HTML', 'URLs', 'file_type'],\n",
       "      dtype='object')"
      ]
     },
     "execution_count": 50,
     "metadata": {},
     "output_type": "execute_result"
    }
   ],
   "source": [
    "df2.columns"
   ]
  },
  {
   "cell_type": "code",
   "execution_count": 51,
   "metadata": {},
   "outputs": [
    {
     "data": {
      "text/html": [
       "<div>\n",
       "<style scoped>\n",
       "    .dataframe tbody tr th:only-of-type {\n",
       "        vertical-align: middle;\n",
       "    }\n",
       "\n",
       "    .dataframe tbody tr th {\n",
       "        vertical-align: top;\n",
       "    }\n",
       "\n",
       "    .dataframe thead th {\n",
       "        text-align: right;\n",
       "    }\n",
       "</style>\n",
       "<table border=\"1\" class=\"dataframe\">\n",
       "  <thead>\n",
       "    <tr style=\"text-align: right;\">\n",
       "      <th></th>\n",
       "      <th>category</th>\n",
       "      <th>Knowledge title</th>\n",
       "      <th>Create time</th>\n",
       "      <th>Edit time</th>\n",
       "      <th>Knowledge type</th>\n",
       "      <th>Similar question</th>\n",
       "      <th>HTML</th>\n",
       "      <th>URLs</th>\n",
       "      <th>file_type</th>\n",
       "    </tr>\n",
       "  </thead>\n",
       "  <tbody>\n",
       "    <tr>\n",
       "      <th>0</th>\n",
       "      <td>Native Bangla/Ordering/Order Placement</td>\n",
       "      <td>দারাজে অর্ডার প্লেস করবো কিভাবে</td>\n",
       "      <td>NaN</td>\n",
       "      <td>NaN</td>\n",
       "      <td>普通知识</td>\n",
       "      <td>অর্ডার করার নিয়মটা বলুন \\nঅর্ডার কিভাবে প্লেস ...</td>\n",
       "      <td>&lt;div id=\"se-knowledge\"&gt;&lt;p&gt;&lt;u&gt;&lt;strong&gt;দারাজে অর...</td>\n",
       "      <td>https://beebot-sg-knowledgecloud.oss-ap-southe...</td>\n",
       "      <td>NaN</td>\n",
       "    </tr>\n",
       "    <tr>\n",
       "      <th>1</th>\n",
       "      <td>Native Bangla/My Account/Account Management</td>\n",
       "      <td>ভুলে যাওয়া পাসওয়ার্ড রিকভার করার পদ্ধতি আছে ?</td>\n",
       "      <td>NaN</td>\n",
       "      <td>NaN</td>\n",
       "      <td>普通知识</td>\n",
       "      <td>ভুলে যাওয়া পাসওয়ার্ড রিকভার করার কি কোন উপায...</td>\n",
       "      <td>&lt;div id=\"se-knowledge\"&gt;&lt;p&gt;&lt;u&gt;&lt;strong&gt;ভুলে যাওয়...</td>\n",
       "      <td>//beebot-sg-knowledgecloud.oss-ap-southeast-1....</td>\n",
       "      <td>NaN</td>\n",
       "    </tr>\n",
       "    <tr>\n",
       "      <th>2</th>\n",
       "      <td>Native Bangla/My Account/Account Management</td>\n",
       "      <td>আমি দারাজে কিভাবে একাউন্ট খুলবো ?</td>\n",
       "      <td>NaN</td>\n",
       "      <td>NaN</td>\n",
       "      <td>普通知识</td>\n",
       "      <td>দারাজে কিভাবে অ্যাকাউন্ট খুলবো \\nদারাজে কিভাবে...</td>\n",
       "      <td>&lt;div id=\"se-knowledge\"&gt;&lt;p&gt;&lt;u&gt;&lt;strong&gt;আমি দারাজ...</td>\n",
       "      <td>https://beebot-sg-knowledgecloud.oss-ap-southe...</td>\n",
       "      <td>NaN</td>\n",
       "    </tr>\n",
       "    <tr>\n",
       "      <th>3</th>\n",
       "      <td>Native Bangla/My Account/Account Management</td>\n",
       "      <td>আমার দারাজ একাউন্ট এ লগইন করবো কিভাবে?</td>\n",
       "      <td>NaN</td>\n",
       "      <td>NaN</td>\n",
       "      <td>普通知识</td>\n",
       "      <td>দারাজ অ্যাকাউন্টে লগইন করার প্রসেস বলেন\\nবলেন ...</td>\n",
       "      <td>&lt;div id=\"se-knowledge\"&gt;&lt;p&gt;&lt;u&gt;&lt;strong&gt;আমার দারা...</td>\n",
       "      <td>https://beebot-sg-knowledgecloud.oss-ap-southe...</td>\n",
       "      <td>NaN</td>\n",
       "    </tr>\n",
       "    <tr>\n",
       "      <th>4</th>\n",
       "      <td>Native Bangla/My Account/Account Management</td>\n",
       "      <td>দারাজ একাউন্টের কন্টাক্ট নাম্বার কিভাবে চেঞ্জ ...</td>\n",
       "      <td>NaN</td>\n",
       "      <td>NaN</td>\n",
       "      <td>普通知识</td>\n",
       "      <td>ফোন নম্বর কিভাবে পরিবর্তন করবো দারাজ অ্যাকাউন্...</td>\n",
       "      <td>&lt;div id=\"se-knowledge\"&gt;&lt;p&gt;&lt;u&gt;&lt;strong&gt;দারাজ একা...</td>\n",
       "      <td>https://beebot-sg-knowledgecloud.oss-ap-southe...</td>\n",
       "      <td>NaN</td>\n",
       "    </tr>\n",
       "    <tr>\n",
       "      <th>...</th>\n",
       "      <td>...</td>\n",
       "      <td>...</td>\n",
       "      <td>...</td>\n",
       "      <td>...</td>\n",
       "      <td>...</td>\n",
       "      <td>...</td>\n",
       "      <td>...</td>\n",
       "      <td>...</td>\n",
       "      <td>...</td>\n",
       "    </tr>\n",
       "    <tr>\n",
       "      <th>68</th>\n",
       "      <td>Native Bangla/Campaign/Campaign general</td>\n",
       "      <td>ডি-কয়েনস কি ?</td>\n",
       "      <td>NaN</td>\n",
       "      <td>NaN</td>\n",
       "      <td>普通知识</td>\n",
       "      <td>ডি কয়েন্স কই \\nডি কয়েন্স কি \\nদারাজ কয়েন কি \\...</td>\n",
       "      <td>&lt;div id=\"se-knowledge\"&gt;&lt;p&gt;&lt;u&gt;&lt;strong&gt;&lt;span&gt;ডি-...</td>\n",
       "      <td>https://beebot-sg-knowledgecloud.oss-ap-southe...</td>\n",
       "      <td>NaN</td>\n",
       "    </tr>\n",
       "    <tr>\n",
       "      <th>69</th>\n",
       "      <td>Native Bangla/Campaign/Campaign general</td>\n",
       "      <td>আমি কিভাবে ডি-কয়েনস পেতে পারি ?</td>\n",
       "      <td>NaN</td>\n",
       "      <td>NaN</td>\n",
       "      <td>普通知识</td>\n",
       "      <td>ডি কয়েন কালেক্ট করব কিভাবে\\nডি কয়েন কালেক্ট ক...</td>\n",
       "      <td>&lt;div id=\"se-knowledge\"&gt;&lt;p&gt;&lt;u&gt;&lt;strong&gt;&lt;span&gt;আমি...</td>\n",
       "      <td>//beebot-sg-knowledgecloud.oss-ap-southeast-1....</td>\n",
       "      <td>NaN</td>\n",
       "    </tr>\n",
       "    <tr>\n",
       "      <th>70</th>\n",
       "      <td>Native Bangla/Shipping &amp; Delivery/Delivery</td>\n",
       "      <td>ডেলিভারি চার্জ কত রাখা হয় একটি অর্ডারের জন্য ?</td>\n",
       "      <td>NaN</td>\n",
       "      <td>NaN</td>\n",
       "      <td>普通知识</td>\n",
       "      <td>ডেলিভারি চার্জ কত আপনাদের\\nশিপিং ফী কত নেন ঢাক...</td>\n",
       "      <td>&lt;div id=\"se-knowledge\"&gt;&lt;p&gt;&lt;u&gt;&lt;strong&gt;&lt;span&gt;ডেল...</td>\n",
       "      <td>//beebot-sg-knowledgecloud.oss-ap-southeast-1....</td>\n",
       "      <td>NaN</td>\n",
       "    </tr>\n",
       "    <tr>\n",
       "      <th>71</th>\n",
       "      <td>Native Bangla/Other Topics/About Daraz</td>\n",
       "      <td>আমি ছবি পাঠাতে পারছিনা কেন ?</td>\n",
       "      <td>NaN</td>\n",
       "      <td>NaN</td>\n",
       "      <td>普通知识</td>\n",
       "      <td>ফটো এটাচমেন্ট করা যাচ্ছে না \\n সেন্ড ফটোতে সেন...</td>\n",
       "      <td>&lt;div id=\"se-knowledge\"&gt;&lt;p&gt;&lt;u&gt;&lt;strong&gt;&lt;span&gt;আমি...</td>\n",
       "      <td>//beebot-sg-knowledgecloud.oss-ap-southeast-1....</td>\n",
       "      <td>NaN</td>\n",
       "    </tr>\n",
       "    <tr>\n",
       "      <th>72</th>\n",
       "      <td>Native Bangla/Shipping &amp; Delivery/Delivery</td>\n",
       "      <td>ডেলিভারি চার্জটি কমিয়ে রাখার কোনো উপায় আছে কি ?</td>\n",
       "      <td>NaN</td>\n",
       "      <td>NaN</td>\n",
       "      <td>普通知识</td>\n",
       "      <td>অনেক বেশি ডেলিভারি কস্ট রাখেন\\nশিপিং ফী অনেক ব...</td>\n",
       "      <td>&lt;div id=\"se-knowledge\"&gt;&lt;p&gt;&lt;u&gt;&lt;strong&gt;&lt;span&gt;ডেল...</td>\n",
       "      <td>//beebot-sg-knowledgecloud.oss-ap-southeast-1....</td>\n",
       "      <td>NaN</td>\n",
       "    </tr>\n",
       "  </tbody>\n",
       "</table>\n",
       "<p>73 rows × 9 columns</p>\n",
       "</div>"
      ],
      "text/plain": [
       "                                       category  \\\n",
       "0        Native Bangla/Ordering/Order Placement   \n",
       "1   Native Bangla/My Account/Account Management   \n",
       "2   Native Bangla/My Account/Account Management   \n",
       "3   Native Bangla/My Account/Account Management   \n",
       "4   Native Bangla/My Account/Account Management   \n",
       "..                                          ...   \n",
       "68      Native Bangla/Campaign/Campaign general   \n",
       "69      Native Bangla/Campaign/Campaign general   \n",
       "70   Native Bangla/Shipping & Delivery/Delivery   \n",
       "71       Native Bangla/Other Topics/About Daraz   \n",
       "72   Native Bangla/Shipping & Delivery/Delivery   \n",
       "\n",
       "                                      Knowledge title  Create time  Edit time  \\\n",
       "0                     দারাজে অর্ডার প্লেস করবো কিভাবে          NaN        NaN   \n",
       "1       ভুলে যাওয়া পাসওয়ার্ড রিকভার করার পদ্ধতি আছে ?          NaN        NaN   \n",
       "2                   আমি দারাজে কিভাবে একাউন্ট খুলবো ?          NaN        NaN   \n",
       "3              আমার দারাজ একাউন্ট এ লগইন করবো কিভাবে?          NaN        NaN   \n",
       "4   দারাজ একাউন্টের কন্টাক্ট নাম্বার কিভাবে চেঞ্জ ...          NaN        NaN   \n",
       "..                                                ...          ...        ...   \n",
       "68                                      ডি-কয়েনস কি ?          NaN        NaN   \n",
       "69                    আমি কিভাবে ডি-কয়েনস পেতে পারি ?          NaN        NaN   \n",
       "70     ডেলিভারি চার্জ কত রাখা হয় একটি অর্ডারের জন্য ?          NaN        NaN   \n",
       "71                       আমি ছবি পাঠাতে পারছিনা কেন ?          NaN        NaN   \n",
       "72    ডেলিভারি চার্জটি কমিয়ে রাখার কোনো উপায় আছে কি ?          NaN        NaN   \n",
       "\n",
       "   Knowledge type                                   Similar question  \\\n",
       "0            普通知识  অর্ডার করার নিয়মটা বলুন \\nঅর্ডার কিভাবে প্লেস ...   \n",
       "1            普通知识  ভুলে যাওয়া পাসওয়ার্ড রিকভার করার কি কোন উপায...   \n",
       "2            普通知识  দারাজে কিভাবে অ্যাকাউন্ট খুলবো \\nদারাজে কিভাবে...   \n",
       "3            普通知识  দারাজ অ্যাকাউন্টে লগইন করার প্রসেস বলেন\\nবলেন ...   \n",
       "4            普通知识  ফোন নম্বর কিভাবে পরিবর্তন করবো দারাজ অ্যাকাউন্...   \n",
       "..            ...                                                ...   \n",
       "68           普通知识  ডি কয়েন্স কই \\nডি কয়েন্স কি \\nদারাজ কয়েন কি \\...   \n",
       "69           普通知识  ডি কয়েন কালেক্ট করব কিভাবে\\nডি কয়েন কালেক্ট ক...   \n",
       "70           普通知识  ডেলিভারি চার্জ কত আপনাদের\\nশিপিং ফী কত নেন ঢাক...   \n",
       "71           普通知识  ফটো এটাচমেন্ট করা যাচ্ছে না \\n সেন্ড ফটোতে সেন...   \n",
       "72           普通知识  অনেক বেশি ডেলিভারি কস্ট রাখেন\\nশিপিং ফী অনেক ব...   \n",
       "\n",
       "                                                 HTML  \\\n",
       "0   <div id=\"se-knowledge\"><p><u><strong>দারাজে অর...   \n",
       "1   <div id=\"se-knowledge\"><p><u><strong>ভুলে যাওয়...   \n",
       "2   <div id=\"se-knowledge\"><p><u><strong>আমি দারাজ...   \n",
       "3   <div id=\"se-knowledge\"><p><u><strong>আমার দারা...   \n",
       "4   <div id=\"se-knowledge\"><p><u><strong>দারাজ একা...   \n",
       "..                                                ...   \n",
       "68  <div id=\"se-knowledge\"><p><u><strong><span>ডি-...   \n",
       "69  <div id=\"se-knowledge\"><p><u><strong><span>আমি...   \n",
       "70  <div id=\"se-knowledge\"><p><u><strong><span>ডেল...   \n",
       "71  <div id=\"se-knowledge\"><p><u><strong><span>আমি...   \n",
       "72  <div id=\"se-knowledge\"><p><u><strong><span>ডেল...   \n",
       "\n",
       "                                                 URLs  file_type  \n",
       "0   https://beebot-sg-knowledgecloud.oss-ap-southe...        NaN  \n",
       "1   //beebot-sg-knowledgecloud.oss-ap-southeast-1....        NaN  \n",
       "2   https://beebot-sg-knowledgecloud.oss-ap-southe...        NaN  \n",
       "3   https://beebot-sg-knowledgecloud.oss-ap-southe...        NaN  \n",
       "4   https://beebot-sg-knowledgecloud.oss-ap-southe...        NaN  \n",
       "..                                                ...        ...  \n",
       "68  https://beebot-sg-knowledgecloud.oss-ap-southe...        NaN  \n",
       "69  //beebot-sg-knowledgecloud.oss-ap-southeast-1....        NaN  \n",
       "70  //beebot-sg-knowledgecloud.oss-ap-southeast-1....        NaN  \n",
       "71  //beebot-sg-knowledgecloud.oss-ap-southeast-1....        NaN  \n",
       "72  //beebot-sg-knowledgecloud.oss-ap-southeast-1....        NaN  \n",
       "\n",
       "[73 rows x 9 columns]"
      ]
     },
     "execution_count": 51,
     "metadata": {},
     "output_type": "execute_result"
    }
   ],
   "source": [
    "df2"
   ]
  },
  {
   "cell_type": "code",
   "execution_count": 76,
   "metadata": {},
   "outputs": [
    {
     "name": "stderr",
     "output_type": "stream",
     "text": [
      "C:\\Users\\Daraz\\AppData\\Local\\Temp/ipykernel_14436/2246553999.py:1: SettingWithCopyWarning: \n",
      "A value is trying to be set on a copy of a slice from a DataFrame.\n",
      "Try using .loc[row_indexer,col_indexer] = value instead\n",
      "\n",
      "See the caveats in the documentation: https://pandas.pydata.org/pandas-docs/stable/user_guide/indexing.html#returning-a-view-versus-a-copy\n",
      "  df2['file_type'] = np.nan\n"
     ]
    }
   ],
   "source": [
    "df2['file_type'] = np.nan"
   ]
  },
  {
   "cell_type": "code",
   "execution_count": 77,
   "metadata": {},
   "outputs": [
    {
     "name": "stderr",
     "output_type": "stream",
     "text": [
      "C:\\Users\\Daraz\\AppData\\Local\\Temp/ipykernel_14436/2444478108.py:7: SettingWithCopyWarning: \n",
      "A value is trying to be set on a copy of a slice from a DataFrame\n",
      "\n",
      "See the caveats in the documentation: https://pandas.pydata.org/pandas-docs/stable/user_guide/indexing.html#returning-a-view-versus-a-copy\n",
      "  df2['file_type'][i] = file_extension\n"
     ]
    }
   ],
   "source": [
    "for i in range(len(df2)):\n",
    "\n",
    "    try:\n",
    "\n",
    "        filename, file_extension = os.path.splitext(df2['URLs'][i])\n",
    "\n",
    "        df2['file_type'][i] = file_extension\n",
    "    \n",
    "    except:\n",
    "\n",
    "        pass"
   ]
  },
  {
   "cell_type": "code",
   "execution_count": 79,
   "metadata": {},
   "outputs": [
    {
     "data": {
      "text/plain": [
       "        407\n",
       ".png     59\n",
       ".jpg     36\n",
       ".gif     13\n",
       "Name: file_type, dtype: int64"
      ]
     },
     "execution_count": 79,
     "metadata": {},
     "output_type": "execute_result"
    }
   ],
   "source": [
    "df2['file_type'].value_counts()"
   ]
  },
  {
   "cell_type": "code",
   "execution_count": 80,
   "metadata": {},
   "outputs": [],
   "source": [
    "df2.to_excel('data_set.xlsx')"
   ]
  },
  {
   "cell_type": "code",
   "execution_count": 71,
   "metadata": {},
   "outputs": [],
   "source": [
    "import os\n",
    "filename, file_extension = os.path.splitext(df2['URLs'][5])"
   ]
  },
  {
   "cell_type": "code",
   "execution_count": 72,
   "metadata": {},
   "outputs": [
    {
     "data": {
      "text/plain": [
       "'.jpg'"
      ]
     },
     "execution_count": 72,
     "metadata": {},
     "output_type": "execute_result"
    }
   ],
   "source": [
    "file_extension"
   ]
  },
  {
   "cell_type": "code",
   "execution_count": 142,
   "metadata": {},
   "outputs": [
    {
     "data": {
      "text/plain": [
       "'//beebot-sg-knowledgecloud.oss-ap-southeast-1.aliyuncs.com/kc/kc-media/kc-oss-1654578802279-%E0%A6%86%E0%A6%AA%E0%A6%A8%E0%A6%BE%E0%A6%B0%20%E0%A6%AA%E0%A6%9B%E0%A6%A8%E0%A7%8D%E0%A6%A6%E0%A7%87%E0%A6%B0%20%E0%A6%AD%E0%A6%BE%E0%A6%B7%E0%A6%BE%20%E0%A6%AC%E0%A6%BE%E0%A6%9B%E0%A6%BE%E0%A6%87%20%E0%A6%95%E0%A6%B0%E0%A7%81%E0%A6%A8.gif'"
      ]
     },
     "execution_count": 142,
     "metadata": {},
     "output_type": "execute_result"
    }
   ],
   "source": [
    "i=6\n",
    "df2['URLs'][i]"
   ]
  },
  {
   "cell_type": "code",
   "execution_count": 1,
   "metadata": {},
   "outputs": [
    {
     "ename": "ModuleNotFoundError",
     "evalue": "No module named 'urlparse'",
     "output_type": "error",
     "traceback": [
      "\u001b[1;31m---------------------------------------------------------------------------\u001b[0m",
      "\u001b[1;31mModuleNotFoundError\u001b[0m                       Traceback (most recent call last)",
      "\u001b[1;32m~\\AppData\\Local\\Temp/ipykernel_14380/2686160795.py\u001b[0m in \u001b[0;36m<module>\u001b[1;34m\u001b[0m\n\u001b[1;32m----> 1\u001b[1;33m \u001b[1;32mimport\u001b[0m \u001b[0murlparse\u001b[0m\u001b[1;33m,\u001b[0m \u001b[0mos\u001b[0m\u001b[1;33m\u001b[0m\u001b[1;33m\u001b[0m\u001b[0m\n\u001b[0m",
      "\u001b[1;31mModuleNotFoundError\u001b[0m: No module named 'urlparse'"
     ]
    }
   ],
   "source": [
    "import urlparse, os"
   ]
  },
  {
   "cell_type": "code",
   "execution_count": 3,
   "metadata": {},
   "outputs": [],
   "source": [
    "import requests\n",
    "import mimetypes"
   ]
  },
  {
   "cell_type": "code",
   "execution_count": 6,
   "metadata": {},
   "outputs": [],
   "source": [
    "url = 'beebot-sg-knowledgecloud.oss-ap-southeast-1.aliyuncs.com/kc/kc-media/kc-oss-1654578802279-%E0%A6%86%E0%A6%AA%E0%A6%A8%E0%A6%BE%E0%A6%B0%20%E0%A6%AA%E0%A6%9B%E0%A6%A8%E0%A7%8D%E0%A6%A6%E0%A7%87%E0%A6%B0%20%E0%A6%AD%E0%A6%BE%E0%A6%B7%E0%A6%BE%20%E0%A6%AC%E0%A6%BE%E0%A6%9B%E0%A6%BE%E0%A6%87%20%E0%A6%95%E0%A6%B0%E0%A7%81%E0%A6%A8.gif'"
   ]
  },
  {
   "cell_type": "code",
   "execution_count": 7,
   "metadata": {},
   "outputs": [
    {
     "ename": "MissingSchema",
     "evalue": "Invalid URL 'beebot-sg-knowledgecloud.oss-ap-southeast-1.aliyuncs.com/kc/kc-media/kc-oss-1654578802279-%E0%A6%86%E0%A6%AA%E0%A6%A8%E0%A6%BE%E0%A6%B0%20%E0%A6%AA%E0%A6%9B%E0%A6%A8%E0%A7%8D%E0%A6%A6%E0%A7%87%E0%A6%B0%20%E0%A6%AD%E0%A6%BE%E0%A6%B7%E0%A6%BE%20%E0%A6%AC%E0%A6%BE%E0%A6%9B%E0%A6%BE%E0%A6%87%20%E0%A6%95%E0%A6%B0%E0%A7%81%E0%A6%A8.gif': No schema supplied. Perhaps you meant http://beebot-sg-knowledgecloud.oss-ap-southeast-1.aliyuncs.com/kc/kc-media/kc-oss-1654578802279-%E0%A6%86%E0%A6%AA%E0%A6%A8%E0%A6%BE%E0%A6%B0%20%E0%A6%AA%E0%A6%9B%E0%A6%A8%E0%A7%8D%E0%A6%A6%E0%A7%87%E0%A6%B0%20%E0%A6%AD%E0%A6%BE%E0%A6%B7%E0%A6%BE%20%E0%A6%AC%E0%A6%BE%E0%A6%9B%E0%A6%BE%E0%A6%87%20%E0%A6%95%E0%A6%B0%E0%A7%81%E0%A6%A8.gif?",
     "output_type": "error",
     "traceback": [
      "\u001b[1;31m---------------------------------------------------------------------------\u001b[0m",
      "\u001b[1;31mMissingSchema\u001b[0m                             Traceback (most recent call last)",
      "\u001b[1;32m~\\AppData\\Local\\Temp/ipykernel_14380/944438012.py\u001b[0m in \u001b[0;36m<module>\u001b[1;34m\u001b[0m\n\u001b[1;32m----> 1\u001b[1;33m \u001b[0mresponse\u001b[0m \u001b[1;33m=\u001b[0m \u001b[0mrequests\u001b[0m\u001b[1;33m.\u001b[0m\u001b[0mget\u001b[0m\u001b[1;33m(\u001b[0m\u001b[0murl\u001b[0m\u001b[1;33m)\u001b[0m\u001b[1;33m\u001b[0m\u001b[1;33m\u001b[0m\u001b[0m\n\u001b[0m\u001b[0;32m      2\u001b[0m \u001b[0mcontent_type\u001b[0m \u001b[1;33m=\u001b[0m \u001b[0mresponse\u001b[0m\u001b[1;33m.\u001b[0m\u001b[0mheaders\u001b[0m\u001b[1;33m[\u001b[0m\u001b[1;34m'content-type'\u001b[0m\u001b[1;33m]\u001b[0m\u001b[1;33m\u001b[0m\u001b[1;33m\u001b[0m\u001b[0m\n\u001b[0;32m      3\u001b[0m \u001b[0mextension\u001b[0m \u001b[1;33m=\u001b[0m \u001b[0mmimetypes\u001b[0m\u001b[1;33m.\u001b[0m\u001b[0mguess_extension\u001b[0m\u001b[1;33m(\u001b[0m\u001b[0mcontent_type\u001b[0m\u001b[1;33m)\u001b[0m\u001b[1;33m\u001b[0m\u001b[1;33m\u001b[0m\u001b[0m\n",
      "\u001b[1;32mc:\\Users\\Daraz\\anaconda3\\lib\\site-packages\\requests\\api.py\u001b[0m in \u001b[0;36mget\u001b[1;34m(url, params, **kwargs)\u001b[0m\n\u001b[0;32m     73\u001b[0m     \"\"\"\n\u001b[0;32m     74\u001b[0m \u001b[1;33m\u001b[0m\u001b[0m\n\u001b[1;32m---> 75\u001b[1;33m     \u001b[1;32mreturn\u001b[0m \u001b[0mrequest\u001b[0m\u001b[1;33m(\u001b[0m\u001b[1;34m'get'\u001b[0m\u001b[1;33m,\u001b[0m \u001b[0murl\u001b[0m\u001b[1;33m,\u001b[0m \u001b[0mparams\u001b[0m\u001b[1;33m=\u001b[0m\u001b[0mparams\u001b[0m\u001b[1;33m,\u001b[0m \u001b[1;33m**\u001b[0m\u001b[0mkwargs\u001b[0m\u001b[1;33m)\u001b[0m\u001b[1;33m\u001b[0m\u001b[1;33m\u001b[0m\u001b[0m\n\u001b[0m\u001b[0;32m     76\u001b[0m \u001b[1;33m\u001b[0m\u001b[0m\n\u001b[0;32m     77\u001b[0m \u001b[1;33m\u001b[0m\u001b[0m\n",
      "\u001b[1;32mc:\\Users\\Daraz\\anaconda3\\lib\\site-packages\\requests\\api.py\u001b[0m in \u001b[0;36mrequest\u001b[1;34m(method, url, **kwargs)\u001b[0m\n\u001b[0;32m     59\u001b[0m     \u001b[1;31m# cases, and look like a memory leak in others.\u001b[0m\u001b[1;33m\u001b[0m\u001b[1;33m\u001b[0m\u001b[0m\n\u001b[0;32m     60\u001b[0m     \u001b[1;32mwith\u001b[0m \u001b[0msessions\u001b[0m\u001b[1;33m.\u001b[0m\u001b[0mSession\u001b[0m\u001b[1;33m(\u001b[0m\u001b[1;33m)\u001b[0m \u001b[1;32mas\u001b[0m \u001b[0msession\u001b[0m\u001b[1;33m:\u001b[0m\u001b[1;33m\u001b[0m\u001b[1;33m\u001b[0m\u001b[0m\n\u001b[1;32m---> 61\u001b[1;33m         \u001b[1;32mreturn\u001b[0m \u001b[0msession\u001b[0m\u001b[1;33m.\u001b[0m\u001b[0mrequest\u001b[0m\u001b[1;33m(\u001b[0m\u001b[0mmethod\u001b[0m\u001b[1;33m=\u001b[0m\u001b[0mmethod\u001b[0m\u001b[1;33m,\u001b[0m \u001b[0murl\u001b[0m\u001b[1;33m=\u001b[0m\u001b[0murl\u001b[0m\u001b[1;33m,\u001b[0m \u001b[1;33m**\u001b[0m\u001b[0mkwargs\u001b[0m\u001b[1;33m)\u001b[0m\u001b[1;33m\u001b[0m\u001b[1;33m\u001b[0m\u001b[0m\n\u001b[0m\u001b[0;32m     62\u001b[0m \u001b[1;33m\u001b[0m\u001b[0m\n\u001b[0;32m     63\u001b[0m \u001b[1;33m\u001b[0m\u001b[0m\n",
      "\u001b[1;32mc:\\Users\\Daraz\\anaconda3\\lib\\site-packages\\requests\\sessions.py\u001b[0m in \u001b[0;36mrequest\u001b[1;34m(self, method, url, params, data, headers, cookies, files, auth, timeout, allow_redirects, proxies, hooks, stream, verify, cert, json)\u001b[0m\n\u001b[0;32m    526\u001b[0m             \u001b[0mhooks\u001b[0m\u001b[1;33m=\u001b[0m\u001b[0mhooks\u001b[0m\u001b[1;33m,\u001b[0m\u001b[1;33m\u001b[0m\u001b[1;33m\u001b[0m\u001b[0m\n\u001b[0;32m    527\u001b[0m         )\n\u001b[1;32m--> 528\u001b[1;33m         \u001b[0mprep\u001b[0m \u001b[1;33m=\u001b[0m \u001b[0mself\u001b[0m\u001b[1;33m.\u001b[0m\u001b[0mprepare_request\u001b[0m\u001b[1;33m(\u001b[0m\u001b[0mreq\u001b[0m\u001b[1;33m)\u001b[0m\u001b[1;33m\u001b[0m\u001b[1;33m\u001b[0m\u001b[0m\n\u001b[0m\u001b[0;32m    529\u001b[0m \u001b[1;33m\u001b[0m\u001b[0m\n\u001b[0;32m    530\u001b[0m         \u001b[0mproxies\u001b[0m \u001b[1;33m=\u001b[0m \u001b[0mproxies\u001b[0m \u001b[1;32mor\u001b[0m \u001b[1;33m{\u001b[0m\u001b[1;33m}\u001b[0m\u001b[1;33m\u001b[0m\u001b[1;33m\u001b[0m\u001b[0m\n",
      "\u001b[1;32mc:\\Users\\Daraz\\anaconda3\\lib\\site-packages\\requests\\sessions.py\u001b[0m in \u001b[0;36mprepare_request\u001b[1;34m(self, request)\u001b[0m\n\u001b[0;32m    454\u001b[0m \u001b[1;33m\u001b[0m\u001b[0m\n\u001b[0;32m    455\u001b[0m         \u001b[0mp\u001b[0m \u001b[1;33m=\u001b[0m \u001b[0mPreparedRequest\u001b[0m\u001b[1;33m(\u001b[0m\u001b[1;33m)\u001b[0m\u001b[1;33m\u001b[0m\u001b[1;33m\u001b[0m\u001b[0m\n\u001b[1;32m--> 456\u001b[1;33m         p.prepare(\n\u001b[0m\u001b[0;32m    457\u001b[0m             \u001b[0mmethod\u001b[0m\u001b[1;33m=\u001b[0m\u001b[0mrequest\u001b[0m\u001b[1;33m.\u001b[0m\u001b[0mmethod\u001b[0m\u001b[1;33m.\u001b[0m\u001b[0mupper\u001b[0m\u001b[1;33m(\u001b[0m\u001b[1;33m)\u001b[0m\u001b[1;33m,\u001b[0m\u001b[1;33m\u001b[0m\u001b[1;33m\u001b[0m\u001b[0m\n\u001b[0;32m    458\u001b[0m             \u001b[0murl\u001b[0m\u001b[1;33m=\u001b[0m\u001b[0mrequest\u001b[0m\u001b[1;33m.\u001b[0m\u001b[0murl\u001b[0m\u001b[1;33m,\u001b[0m\u001b[1;33m\u001b[0m\u001b[1;33m\u001b[0m\u001b[0m\n",
      "\u001b[1;32mc:\\Users\\Daraz\\anaconda3\\lib\\site-packages\\requests\\models.py\u001b[0m in \u001b[0;36mprepare\u001b[1;34m(self, method, url, headers, files, data, params, auth, cookies, hooks, json)\u001b[0m\n\u001b[0;32m    314\u001b[0m \u001b[1;33m\u001b[0m\u001b[0m\n\u001b[0;32m    315\u001b[0m         \u001b[0mself\u001b[0m\u001b[1;33m.\u001b[0m\u001b[0mprepare_method\u001b[0m\u001b[1;33m(\u001b[0m\u001b[0mmethod\u001b[0m\u001b[1;33m)\u001b[0m\u001b[1;33m\u001b[0m\u001b[1;33m\u001b[0m\u001b[0m\n\u001b[1;32m--> 316\u001b[1;33m         \u001b[0mself\u001b[0m\u001b[1;33m.\u001b[0m\u001b[0mprepare_url\u001b[0m\u001b[1;33m(\u001b[0m\u001b[0murl\u001b[0m\u001b[1;33m,\u001b[0m \u001b[0mparams\u001b[0m\u001b[1;33m)\u001b[0m\u001b[1;33m\u001b[0m\u001b[1;33m\u001b[0m\u001b[0m\n\u001b[0m\u001b[0;32m    317\u001b[0m         \u001b[0mself\u001b[0m\u001b[1;33m.\u001b[0m\u001b[0mprepare_headers\u001b[0m\u001b[1;33m(\u001b[0m\u001b[0mheaders\u001b[0m\u001b[1;33m)\u001b[0m\u001b[1;33m\u001b[0m\u001b[1;33m\u001b[0m\u001b[0m\n\u001b[0;32m    318\u001b[0m         \u001b[0mself\u001b[0m\u001b[1;33m.\u001b[0m\u001b[0mprepare_cookies\u001b[0m\u001b[1;33m(\u001b[0m\u001b[0mcookies\u001b[0m\u001b[1;33m)\u001b[0m\u001b[1;33m\u001b[0m\u001b[1;33m\u001b[0m\u001b[0m\n",
      "\u001b[1;32mc:\\Users\\Daraz\\anaconda3\\lib\\site-packages\\requests\\models.py\u001b[0m in \u001b[0;36mprepare_url\u001b[1;34m(self, url, params)\u001b[0m\n\u001b[0;32m    388\u001b[0m             \u001b[0merror\u001b[0m \u001b[1;33m=\u001b[0m \u001b[0merror\u001b[0m\u001b[1;33m.\u001b[0m\u001b[0mformat\u001b[0m\u001b[1;33m(\u001b[0m\u001b[0mto_native_string\u001b[0m\u001b[1;33m(\u001b[0m\u001b[0murl\u001b[0m\u001b[1;33m,\u001b[0m \u001b[1;34m'utf8'\u001b[0m\u001b[1;33m)\u001b[0m\u001b[1;33m)\u001b[0m\u001b[1;33m\u001b[0m\u001b[1;33m\u001b[0m\u001b[0m\n\u001b[0;32m    389\u001b[0m \u001b[1;33m\u001b[0m\u001b[0m\n\u001b[1;32m--> 390\u001b[1;33m             \u001b[1;32mraise\u001b[0m \u001b[0mMissingSchema\u001b[0m\u001b[1;33m(\u001b[0m\u001b[0merror\u001b[0m\u001b[1;33m)\u001b[0m\u001b[1;33m\u001b[0m\u001b[1;33m\u001b[0m\u001b[0m\n\u001b[0m\u001b[0;32m    391\u001b[0m \u001b[1;33m\u001b[0m\u001b[0m\n\u001b[0;32m    392\u001b[0m         \u001b[1;32mif\u001b[0m \u001b[1;32mnot\u001b[0m \u001b[0mhost\u001b[0m\u001b[1;33m:\u001b[0m\u001b[1;33m\u001b[0m\u001b[1;33m\u001b[0m\u001b[0m\n",
      "\u001b[1;31mMissingSchema\u001b[0m: Invalid URL 'beebot-sg-knowledgecloud.oss-ap-southeast-1.aliyuncs.com/kc/kc-media/kc-oss-1654578802279-%E0%A6%86%E0%A6%AA%E0%A6%A8%E0%A6%BE%E0%A6%B0%20%E0%A6%AA%E0%A6%9B%E0%A6%A8%E0%A7%8D%E0%A6%A6%E0%A7%87%E0%A6%B0%20%E0%A6%AD%E0%A6%BE%E0%A6%B7%E0%A6%BE%20%E0%A6%AC%E0%A6%BE%E0%A6%9B%E0%A6%BE%E0%A6%87%20%E0%A6%95%E0%A6%B0%E0%A7%81%E0%A6%A8.gif': No schema supplied. Perhaps you meant http://beebot-sg-knowledgecloud.oss-ap-southeast-1.aliyuncs.com/kc/kc-media/kc-oss-1654578802279-%E0%A6%86%E0%A6%AA%E0%A6%A8%E0%A6%BE%E0%A6%B0%20%E0%A6%AA%E0%A6%9B%E0%A6%A8%E0%A7%8D%E0%A6%A6%E0%A7%87%E0%A6%B0%20%E0%A6%AD%E0%A6%BE%E0%A6%B7%E0%A6%BE%20%E0%A6%AC%E0%A6%BE%E0%A6%9B%E0%A6%BE%E0%A6%87%20%E0%A6%95%E0%A6%B0%E0%A7%81%E0%A6%A8.gif?"
     ]
    }
   ],
   "source": [
    "response = requests.get(url)\n",
    "content_type = response.headers['content-type']\n",
    "extension = mimetypes.guess_extension(content_type)"
   ]
  },
  {
   "cell_type": "code",
   "execution_count": 10,
   "metadata": {},
   "outputs": [],
   "source": [
    "import os\n",
    "filename, file_extension = os.path.splitext(url)"
   ]
  },
  {
   "cell_type": "code",
   "execution_count": 13,
   "metadata": {},
   "outputs": [
    {
     "data": {
      "text/plain": [
       "'.gif'"
      ]
     },
     "execution_count": 13,
     "metadata": {},
     "output_type": "execute_result"
    }
   ],
   "source": [
    "file_extension"
   ]
  },
  {
   "cell_type": "code",
   "execution_count": 81,
   "metadata": {},
   "outputs": [
    {
     "data": {
      "text/plain": [
       "0.5240690281562216"
      ]
     },
     "execution_count": 81,
     "metadata": {},
     "output_type": "execute_result"
    }
   ],
   "source": [
    "2885/5505"
   ]
  },
  {
   "cell_type": "code",
   "execution_count": null,
   "metadata": {},
   "outputs": [],
   "source": []
  }
 ],
 "metadata": {
  "kernelspec": {
   "display_name": "Python 3.9.7 ('base')",
   "language": "python",
   "name": "python3"
  },
  "language_info": {
   "codemirror_mode": {
    "name": "ipython",
    "version": 3
   },
   "file_extension": ".py",
   "mimetype": "text/x-python",
   "name": "python",
   "nbconvert_exporter": "python",
   "pygments_lexer": "ipython3",
   "version": "3.9.7"
  },
  "orig_nbformat": 4,
  "vscode": {
   "interpreter": {
    "hash": "0606053452435824a427f0ea93d6ae20786397642025bcc66bfe96b66155d44b"
   }
  }
 },
 "nbformat": 4,
 "nbformat_minor": 2
}
