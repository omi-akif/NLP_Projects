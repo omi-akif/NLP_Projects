{
 "cells": [
  {
   "cell_type": "code",
   "execution_count": 1,
   "metadata": {},
   "outputs": [],
   "source": [
    "import pandas as pd\n",
    "import re\n",
    "from IPython.display import display\n",
    "import seaborn as sns"
   ]
  },
  {
   "cell_type": "code",
   "execution_count": 2,
   "metadata": {},
   "outputs": [],
   "source": [
    "DDR_df = pd.read_csv('2022_05230523_CD.csv')"
   ]
  },
  {
   "cell_type": "code",
   "execution_count": 3,
   "metadata": {},
   "outputs": [
    {
     "data": {
      "text/plain": [
       "Index(['Create Date', 'tenant_name', 'robot_code', 'robot_name', 'from_id',\n",
       "       'from_name', 'Session_id', 'Intention', 'user_id',\n",
       "       'Seller id (X-space)', 'user_nick', 'create_time', 'chat_uuid',\n",
       "       'Enter Type', 'query', 'Question Type', 'sopname', 'answer_type',\n",
       "       'SOP_Solution_id', 'SOP_Solution_Name', 'Standard Knowledge Title',\n",
       "       'Knowledge_id', 'knowledge_cate_1_name', 'knowledge_cate_2_name',\n",
       "       'knowledge_cate_3_name', 'is_session_unsatisfied',\n",
       "       'is_session_last_no answer', 'call_agent_by_click_shortcut',\n",
       "       'is_session_last_recommend no click', 'call_agent_by_intention',\n",
       "       'is_session_direct_liveagent', 'Contacted live agent on same day',\n",
       "       'Feedback Card Response', 'is_chat_recommend', 'is_chat_no answer',\n",
       "       'is_chat_pre/post match', 'live agent_session_id',\n",
       "       'Last Query Before Live Agent Session', 'Live Agent User Query',\n",
       "       'Live Agent Response', 'Feedback Type', 'Unsatisfied Reason'],\n",
       "      dtype='object')"
      ]
     },
     "execution_count": 3,
     "metadata": {},
     "output_type": "execute_result"
    }
   ],
   "source": [
    "DDR_df.columns"
   ]
  },
  {
   "cell_type": "code",
   "execution_count": 57,
   "metadata": {},
   "outputs": [
    {
     "data": {
      "text/html": [
       "<div>\n",
       "<style scoped>\n",
       "    .dataframe tbody tr th:only-of-type {\n",
       "        vertical-align: middle;\n",
       "    }\n",
       "\n",
       "    .dataframe tbody tr th {\n",
       "        vertical-align: top;\n",
       "    }\n",
       "\n",
       "    .dataframe thead th {\n",
       "        text-align: right;\n",
       "    }\n",
       "</style>\n",
       "<table border=\"1\" class=\"dataframe\">\n",
       "  <thead>\n",
       "    <tr style=\"text-align: right;\">\n",
       "      <th></th>\n",
       "      <th>Create Date</th>\n",
       "      <th>tenant_name</th>\n",
       "      <th>robot_code</th>\n",
       "      <th>robot_name</th>\n",
       "      <th>from_id</th>\n",
       "      <th>from_name</th>\n",
       "      <th>Session_id</th>\n",
       "      <th>Intention</th>\n",
       "      <th>user_id</th>\n",
       "      <th>Seller id (X-space)</th>\n",
       "      <th>...</th>\n",
       "      <th>Feedback Card Response</th>\n",
       "      <th>is_chat_recommend</th>\n",
       "      <th>is_chat_no answer</th>\n",
       "      <th>is_chat_pre/post match</th>\n",
       "      <th>live agent_session_id</th>\n",
       "      <th>Last Query Before Live Agent Session</th>\n",
       "      <th>Live Agent User Query</th>\n",
       "      <th>Live Agent Response</th>\n",
       "      <th>Feedback Type</th>\n",
       "      <th>Unsatisfied Reason</th>\n",
       "    </tr>\n",
       "  </thead>\n",
       "  <tbody>\n",
       "    <tr>\n",
       "      <th>0</th>\n",
       "      <td>2022-05-23 00:00:00</td>\n",
       "      <td>Alime-DRZ-CC-BD</td>\n",
       "      <td>l2Cgc9psxK</td>\n",
       "      <td>BD-Daz-EN</td>\n",
       "      <td>V3EasrtOgs</td>\n",
       "      <td>BD-Daz-EN-HC-App</td>\n",
       "      <td>855620383c1642cd80defff329445ce5</td>\n",
       "      <td>route_daraz_others</td>\n",
       "      <td>2101100081316953</td>\n",
       "      <td>700050420636</td>\n",
       "      <td>...</td>\n",
       "      <td>NaN</td>\n",
       "      <td>N</td>\n",
       "      <td>N</td>\n",
       "      <td>N</td>\n",
       "      <td>e660efc8c0b4430fb947808235c2919a</td>\n",
       "      <td>Order korte shomossha hole ki koroniyo</td>\n",
       "      <td>&lt;img src='https://alime-customer-upload-lazada...</td>\n",
       "      <td>Sir .|||Ar kono tottho diye shohojogita korte ...</td>\n",
       "      <td>NaN</td>\n",
       "      <td>NaN</td>\n",
       "    </tr>\n",
       "    <tr>\n",
       "      <th>1</th>\n",
       "      <td>2022-05-23 00:00:00</td>\n",
       "      <td>Alime-DRZ-CC-BD</td>\n",
       "      <td>l2Cgc9psxK</td>\n",
       "      <td>BD-Daz-EN</td>\n",
       "      <td>V3EasrtOgs</td>\n",
       "      <td>BD-Daz-EN-HC-App</td>\n",
       "      <td>855620383c1642cd80defff329445ce5</td>\n",
       "      <td>NaN</td>\n",
       "      <td>2101100081316953</td>\n",
       "      <td>700050420636</td>\n",
       "      <td>...</td>\n",
       "      <td>NaN</td>\n",
       "      <td>N</td>\n",
       "      <td>N</td>\n",
       "      <td>Y</td>\n",
       "      <td>e660efc8c0b4430fb947808235c2919a</td>\n",
       "      <td>Order korte shomossha hole ki koroniyo</td>\n",
       "      <td>&lt;img src='https://alime-customer-upload-lazada...</td>\n",
       "      <td>Sir .|||Ar kono tottho diye shohojogita korte ...</td>\n",
       "      <td>NaN</td>\n",
       "      <td>NaN</td>\n",
       "    </tr>\n",
       "    <tr>\n",
       "      <th>2</th>\n",
       "      <td>2022-05-23 00:00:00</td>\n",
       "      <td>Alime-DRZ-CC-BD</td>\n",
       "      <td>l2Cgc9psxK</td>\n",
       "      <td>BD-Daz-EN</td>\n",
       "      <td>V3EasrtOgs</td>\n",
       "      <td>BD-Daz-EN-HC-App</td>\n",
       "      <td>855620383c1642cd80defff329445ce5</td>\n",
       "      <td>route_daraz_others</td>\n",
       "      <td>2101100081316953</td>\n",
       "      <td>700050420636</td>\n",
       "      <td>...</td>\n",
       "      <td>NaN</td>\n",
       "      <td>N</td>\n",
       "      <td>N</td>\n",
       "      <td>N</td>\n",
       "      <td>e660efc8c0b4430fb947808235c2919a</td>\n",
       "      <td>Order korte shomossha hole ki koroniyo</td>\n",
       "      <td>&lt;img src='https://alime-customer-upload-lazada...</td>\n",
       "      <td>Sir .|||Ar kono tottho diye shohojogita korte ...</td>\n",
       "      <td>NaN</td>\n",
       "      <td>NaN</td>\n",
       "    </tr>\n",
       "    <tr>\n",
       "      <th>3</th>\n",
       "      <td>2022-05-23 00:00:00</td>\n",
       "      <td>Alime-DRZ-CC-BD</td>\n",
       "      <td>l2Cgc9psxK</td>\n",
       "      <td>BD-Daz-EN</td>\n",
       "      <td>V3EasrtOgs</td>\n",
       "      <td>BD-Daz-EN-HC-App</td>\n",
       "      <td>855620383c1642cd80defff329445ce5</td>\n",
       "      <td>route_daraz_others</td>\n",
       "      <td>2101100081316953</td>\n",
       "      <td>700050420636</td>\n",
       "      <td>...</td>\n",
       "      <td>NaN</td>\n",
       "      <td>N</td>\n",
       "      <td>N</td>\n",
       "      <td>N</td>\n",
       "      <td>e660efc8c0b4430fb947808235c2919a</td>\n",
       "      <td>Order korte shomossha hole ki koroniyo</td>\n",
       "      <td>&lt;img src='https://alime-customer-upload-lazada...</td>\n",
       "      <td>Sir .|||Ar kono tottho diye shohojogita korte ...</td>\n",
       "      <td>NaN</td>\n",
       "      <td>NaN</td>\n",
       "    </tr>\n",
       "    <tr>\n",
       "      <th>4</th>\n",
       "      <td>2022-05-23 00:00:00</td>\n",
       "      <td>Alime-DRZ-CC-BD</td>\n",
       "      <td>l2Cgc9psxK</td>\n",
       "      <td>BD-Daz-EN</td>\n",
       "      <td>V3EasrtOgs</td>\n",
       "      <td>BD-Daz-EN-HC-App</td>\n",
       "      <td>855620383c1642cd80defff329445ce5</td>\n",
       "      <td>NaN</td>\n",
       "      <td>2101100081316953</td>\n",
       "      <td>700050420636</td>\n",
       "      <td>...</td>\n",
       "      <td>NaN</td>\n",
       "      <td>N</td>\n",
       "      <td>N</td>\n",
       "      <td>Y</td>\n",
       "      <td>e660efc8c0b4430fb947808235c2919a</td>\n",
       "      <td>Order korte shomossha hole ki koroniyo</td>\n",
       "      <td>&lt;img src='https://alime-customer-upload-lazada...</td>\n",
       "      <td>Sir .|||Ar kono tottho diye shohojogita korte ...</td>\n",
       "      <td>NaN</td>\n",
       "      <td>NaN</td>\n",
       "    </tr>\n",
       "    <tr>\n",
       "      <th>5</th>\n",
       "      <td>2022-05-23 00:00:00</td>\n",
       "      <td>Alime-DRZ-CC-BD</td>\n",
       "      <td>l2Cgc9psxK</td>\n",
       "      <td>BD-Daz-EN</td>\n",
       "      <td>V3EasrtOgs</td>\n",
       "      <td>BD-Daz-EN-HC-App</td>\n",
       "      <td>85de5c7eba7f437ba0999208302fb380</td>\n",
       "      <td>NaN</td>\n",
       "      <td>2101100018178154</td>\n",
       "      <td>1595303</td>\n",
       "      <td>...</td>\n",
       "      <td>NaN</td>\n",
       "      <td>N</td>\n",
       "      <td>N</td>\n",
       "      <td>Y</td>\n",
       "      <td>019b865910174c7e9cdbc547435ec47d</td>\n",
       "      <td>Live agent</td>\n",
       "      <td>Hlw|||Vouchar reissue kore denn|||订单号:62733579...</td>\n",
       "      <td>A warm welcome to Daraz live chat session. I a...</td>\n",
       "      <td>NaN</td>\n",
       "      <td>NaN</td>\n",
       "    </tr>\n",
       "    <tr>\n",
       "      <th>6</th>\n",
       "      <td>2022-05-23 00:00:00</td>\n",
       "      <td>Alime-DRZ-CC-BD</td>\n",
       "      <td>l2Cgc9psxK</td>\n",
       "      <td>BD-Daz-EN</td>\n",
       "      <td>V3EasrtOgs</td>\n",
       "      <td>BD-Daz-EN-HC-App</td>\n",
       "      <td>85de5c7eba7f437ba0999208302fb380</td>\n",
       "      <td>route_daraz_liveagent</td>\n",
       "      <td>2101100018178154</td>\n",
       "      <td>1595303</td>\n",
       "      <td>...</td>\n",
       "      <td>NaN</td>\n",
       "      <td>N</td>\n",
       "      <td>N</td>\n",
       "      <td>N</td>\n",
       "      <td>019b865910174c7e9cdbc547435ec47d</td>\n",
       "      <td>Live agent</td>\n",
       "      <td>Hlw|||Vouchar reissue kore denn|||订单号:62733579...</td>\n",
       "      <td>A warm welcome to Daraz live chat session. I a...</td>\n",
       "      <td>NaN</td>\n",
       "      <td>NaN</td>\n",
       "    </tr>\n",
       "    <tr>\n",
       "      <th>7</th>\n",
       "      <td>2022-05-23 00:00:00</td>\n",
       "      <td>Alime-DRZ-CC-BD</td>\n",
       "      <td>l2Cgc9psxK</td>\n",
       "      <td>BD-Daz-EN</td>\n",
       "      <td>V3EasrtOgs</td>\n",
       "      <td>BD-Daz-EN-HC-App</td>\n",
       "      <td>85de5c7eba7f437ba0999208302fb380</td>\n",
       "      <td>route_daraz_others</td>\n",
       "      <td>2101100018178154</td>\n",
       "      <td>1595303</td>\n",
       "      <td>...</td>\n",
       "      <td>NaN</td>\n",
       "      <td>N</td>\n",
       "      <td>N</td>\n",
       "      <td>N</td>\n",
       "      <td>019b865910174c7e9cdbc547435ec47d</td>\n",
       "      <td>Live agent</td>\n",
       "      <td>Hlw|||Vouchar reissue kore denn|||订单号:62733579...</td>\n",
       "      <td>A warm welcome to Daraz live chat session. I a...</td>\n",
       "      <td>NaN</td>\n",
       "      <td>NaN</td>\n",
       "    </tr>\n",
       "    <tr>\n",
       "      <th>8</th>\n",
       "      <td>2022-05-23 00:00:00</td>\n",
       "      <td>Alime-DRZ-CC-BD</td>\n",
       "      <td>l2Cgc9psxK</td>\n",
       "      <td>BD-Daz-EN</td>\n",
       "      <td>V3EasrtOgs</td>\n",
       "      <td>BD-Daz-EN-HC-App</td>\n",
       "      <td>85de5c7eba7f437ba0999208302fb380</td>\n",
       "      <td>NaN</td>\n",
       "      <td>2101100018178154</td>\n",
       "      <td>1595303</td>\n",
       "      <td>...</td>\n",
       "      <td>NaN</td>\n",
       "      <td>N</td>\n",
       "      <td>N</td>\n",
       "      <td>Y</td>\n",
       "      <td>019b865910174c7e9cdbc547435ec47d</td>\n",
       "      <td>Live agent</td>\n",
       "      <td>Hlw|||Vouchar reissue kore denn|||订单号:62733579...</td>\n",
       "      <td>A warm welcome to Daraz live chat session. I a...</td>\n",
       "      <td>NaN</td>\n",
       "      <td>NaN</td>\n",
       "    </tr>\n",
       "    <tr>\n",
       "      <th>9</th>\n",
       "      <td>2022-05-23 00:00:00</td>\n",
       "      <td>Alime-DRZ-CC-BD</td>\n",
       "      <td>l2Cgc9psxK</td>\n",
       "      <td>BD-Daz-EN</td>\n",
       "      <td>V3EasrtOgs</td>\n",
       "      <td>BD-Daz-EN-HC-App</td>\n",
       "      <td>8712fe2c1fdf4781a7df3f5a495c8959</td>\n",
       "      <td>route_daraz_others</td>\n",
       "      <td>2101100081380272</td>\n",
       "      <td>700515936488</td>\n",
       "      <td>...</td>\n",
       "      <td>NaN</td>\n",
       "      <td>N</td>\n",
       "      <td>N</td>\n",
       "      <td>N</td>\n",
       "      <td>NaN</td>\n",
       "      <td>NaN</td>\n",
       "      <td>NaN</td>\n",
       "      <td>NaN</td>\n",
       "      <td>NaN</td>\n",
       "      <td>NaN</td>\n",
       "    </tr>\n",
       "  </tbody>\n",
       "</table>\n",
       "<p>10 rows × 42 columns</p>\n",
       "</div>"
      ],
      "text/plain": [
       "           Create Date      tenant_name  robot_code robot_name     from_id  \\\n",
       "0  2022-05-23 00:00:00  Alime-DRZ-CC-BD  l2Cgc9psxK  BD-Daz-EN  V3EasrtOgs   \n",
       "1  2022-05-23 00:00:00  Alime-DRZ-CC-BD  l2Cgc9psxK  BD-Daz-EN  V3EasrtOgs   \n",
       "2  2022-05-23 00:00:00  Alime-DRZ-CC-BD  l2Cgc9psxK  BD-Daz-EN  V3EasrtOgs   \n",
       "3  2022-05-23 00:00:00  Alime-DRZ-CC-BD  l2Cgc9psxK  BD-Daz-EN  V3EasrtOgs   \n",
       "4  2022-05-23 00:00:00  Alime-DRZ-CC-BD  l2Cgc9psxK  BD-Daz-EN  V3EasrtOgs   \n",
       "5  2022-05-23 00:00:00  Alime-DRZ-CC-BD  l2Cgc9psxK  BD-Daz-EN  V3EasrtOgs   \n",
       "6  2022-05-23 00:00:00  Alime-DRZ-CC-BD  l2Cgc9psxK  BD-Daz-EN  V3EasrtOgs   \n",
       "7  2022-05-23 00:00:00  Alime-DRZ-CC-BD  l2Cgc9psxK  BD-Daz-EN  V3EasrtOgs   \n",
       "8  2022-05-23 00:00:00  Alime-DRZ-CC-BD  l2Cgc9psxK  BD-Daz-EN  V3EasrtOgs   \n",
       "9  2022-05-23 00:00:00  Alime-DRZ-CC-BD  l2Cgc9psxK  BD-Daz-EN  V3EasrtOgs   \n",
       "\n",
       "          from_name                        Session_id              Intention  \\\n",
       "0  BD-Daz-EN-HC-App  855620383c1642cd80defff329445ce5     route_daraz_others   \n",
       "1  BD-Daz-EN-HC-App  855620383c1642cd80defff329445ce5                    NaN   \n",
       "2  BD-Daz-EN-HC-App  855620383c1642cd80defff329445ce5     route_daraz_others   \n",
       "3  BD-Daz-EN-HC-App  855620383c1642cd80defff329445ce5     route_daraz_others   \n",
       "4  BD-Daz-EN-HC-App  855620383c1642cd80defff329445ce5                    NaN   \n",
       "5  BD-Daz-EN-HC-App  85de5c7eba7f437ba0999208302fb380                    NaN   \n",
       "6  BD-Daz-EN-HC-App  85de5c7eba7f437ba0999208302fb380  route_daraz_liveagent   \n",
       "7  BD-Daz-EN-HC-App  85de5c7eba7f437ba0999208302fb380     route_daraz_others   \n",
       "8  BD-Daz-EN-HC-App  85de5c7eba7f437ba0999208302fb380                    NaN   \n",
       "9  BD-Daz-EN-HC-App  8712fe2c1fdf4781a7df3f5a495c8959     route_daraz_others   \n",
       "\n",
       "            user_id  Seller id (X-space)  ... Feedback Card Response  \\\n",
       "0  2101100081316953         700050420636  ...                    NaN   \n",
       "1  2101100081316953         700050420636  ...                    NaN   \n",
       "2  2101100081316953         700050420636  ...                    NaN   \n",
       "3  2101100081316953         700050420636  ...                    NaN   \n",
       "4  2101100081316953         700050420636  ...                    NaN   \n",
       "5  2101100018178154              1595303  ...                    NaN   \n",
       "6  2101100018178154              1595303  ...                    NaN   \n",
       "7  2101100018178154              1595303  ...                    NaN   \n",
       "8  2101100018178154              1595303  ...                    NaN   \n",
       "9  2101100081380272         700515936488  ...                    NaN   \n",
       "\n",
       "  is_chat_recommend is_chat_no answer is_chat_pre/post match  \\\n",
       "0                 N                 N                      N   \n",
       "1                 N                 N                      Y   \n",
       "2                 N                 N                      N   \n",
       "3                 N                 N                      N   \n",
       "4                 N                 N                      Y   \n",
       "5                 N                 N                      Y   \n",
       "6                 N                 N                      N   \n",
       "7                 N                 N                      N   \n",
       "8                 N                 N                      Y   \n",
       "9                 N                 N                      N   \n",
       "\n",
       "              live agent_session_id    Last Query Before Live Agent Session  \\\n",
       "0  e660efc8c0b4430fb947808235c2919a  Order korte shomossha hole ki koroniyo   \n",
       "1  e660efc8c0b4430fb947808235c2919a  Order korte shomossha hole ki koroniyo   \n",
       "2  e660efc8c0b4430fb947808235c2919a  Order korte shomossha hole ki koroniyo   \n",
       "3  e660efc8c0b4430fb947808235c2919a  Order korte shomossha hole ki koroniyo   \n",
       "4  e660efc8c0b4430fb947808235c2919a  Order korte shomossha hole ki koroniyo   \n",
       "5  019b865910174c7e9cdbc547435ec47d                              Live agent   \n",
       "6  019b865910174c7e9cdbc547435ec47d                              Live agent   \n",
       "7  019b865910174c7e9cdbc547435ec47d                              Live agent   \n",
       "8  019b865910174c7e9cdbc547435ec47d                              Live agent   \n",
       "9                               NaN                                     NaN   \n",
       "\n",
       "                               Live Agent User Query  \\\n",
       "0  <img src='https://alime-customer-upload-lazada...   \n",
       "1  <img src='https://alime-customer-upload-lazada...   \n",
       "2  <img src='https://alime-customer-upload-lazada...   \n",
       "3  <img src='https://alime-customer-upload-lazada...   \n",
       "4  <img src='https://alime-customer-upload-lazada...   \n",
       "5  Hlw|||Vouchar reissue kore denn|||订单号:62733579...   \n",
       "6  Hlw|||Vouchar reissue kore denn|||订单号:62733579...   \n",
       "7  Hlw|||Vouchar reissue kore denn|||订单号:62733579...   \n",
       "8  Hlw|||Vouchar reissue kore denn|||订单号:62733579...   \n",
       "9                                                NaN   \n",
       "\n",
       "                                 Live Agent Response  Feedback Type  \\\n",
       "0  Sir .|||Ar kono tottho diye shohojogita korte ...            NaN   \n",
       "1  Sir .|||Ar kono tottho diye shohojogita korte ...            NaN   \n",
       "2  Sir .|||Ar kono tottho diye shohojogita korte ...            NaN   \n",
       "3  Sir .|||Ar kono tottho diye shohojogita korte ...            NaN   \n",
       "4  Sir .|||Ar kono tottho diye shohojogita korte ...            NaN   \n",
       "5  A warm welcome to Daraz live chat session. I a...            NaN   \n",
       "6  A warm welcome to Daraz live chat session. I a...            NaN   \n",
       "7  A warm welcome to Daraz live chat session. I a...            NaN   \n",
       "8  A warm welcome to Daraz live chat session. I a...            NaN   \n",
       "9                                                NaN            NaN   \n",
       "\n",
       "  Unsatisfied Reason  \n",
       "0                NaN  \n",
       "1                NaN  \n",
       "2                NaN  \n",
       "3                NaN  \n",
       "4                NaN  \n",
       "5                NaN  \n",
       "6                NaN  \n",
       "7                NaN  \n",
       "8                NaN  \n",
       "9                NaN  \n",
       "\n",
       "[10 rows x 42 columns]"
      ]
     },
     "execution_count": 57,
     "metadata": {},
     "output_type": "execute_result"
    }
   ],
   "source": [
    "DDR_df.head(10)"
   ]
  },
  {
   "cell_type": "code",
   "execution_count": 12,
   "metadata": {},
   "outputs": [
    {
     "data": {
      "text/plain": [
       "route_daraz_others       20782\n",
       "route_daraz_liveagent     1729\n",
       "ordernumber                155\n",
       "item                        12\n",
       "Name: Intention, dtype: int64"
      ]
     },
     "execution_count": 12,
     "metadata": {},
     "output_type": "execute_result"
    }
   ],
   "source": [
    "DDR_df['Intention'].value_counts()"
   ]
  },
  {
   "cell_type": "code",
   "execution_count": null,
   "metadata": {},
   "outputs": [],
   "source": [
    "DDR_df['Tweet'].str.match('.*({0}).*'.format('|'.join(phrases)))"
   ]
  },
  {
   "cell_type": "code",
   "execution_count": 61,
   "metadata": {},
   "outputs": [],
   "source": [
    "DDR_df_notna = DDR_df[DDR_df['Live Agent User Query'].notna()]"
   ]
  },
  {
   "cell_type": "code",
   "execution_count": 62,
   "metadata": {},
   "outputs": [],
   "source": [
    "DDR_df_user_query = DDR_df_notna['Live Agent User Query'].reset_index()"
   ]
  },
  {
   "cell_type": "code",
   "execution_count": 75,
   "metadata": {},
   "outputs": [
    {
     "data": {
      "text/plain": [
       "'Ami vablam tar age cancel kora jay kina|||Yes|||Cancel korun|||Okk thank you|||Please this order cancel |||Ok|||订单号:627729534675775'"
      ]
     },
     "execution_count": 75,
     "metadata": {},
     "output_type": "execute_result"
    }
   ],
   "source": [
    "DDR_df_user_query['Live Agent User Query'][120]"
   ]
  },
  {
   "cell_type": "code",
   "execution_count": 60,
   "metadata": {},
   "outputs": [],
   "source": [
    "DDR_df_agent_response = DDR_df[DDR_df['Live Agent Response'].notna()]"
   ]
  },
  {
   "cell_type": "code",
   "execution_count": 50,
   "metadata": {},
   "outputs": [],
   "source": [
    "DDR_df_agent_response = DDR_df_agent_response.reset_index()"
   ]
  },
  {
   "cell_type": "code",
   "execution_count": 51,
   "metadata": {},
   "outputs": [
    {
     "data": {
      "text/plain": [
       "\"Good day. Hope you are doing well. How can I assist you? 🤗|||Please allow me some time to check on this matter.|||Sir this is daraz gift voucher code.|||Sir not this voucher code kindly share your new voucher code.|||<img src='//xspace-img-sg.alicdn.com/consult/1653275077062_YxRHAc90MMkBJLoW638QqG8x.png'/>|||স্যার ভাউচার কোড টি শেয়ার করুন অনুগ্রহ করে।|||Daraz Gift Cards cannot be used for Grocery, Mother & Baby, FMCG category (Retail product only)|||স্যার অর্ডার নম্বর টি শেয়ার করবেন।|||Please allow me some time to check on this matter.\""
      ]
     },
     "execution_count": 51,
     "metadata": {},
     "output_type": "execute_result"
    }
   ],
   "source": [
    "DDR_df_agent_response['Live Agent Response'][200]"
   ]
  },
  {
   "cell_type": "code",
   "execution_count": 79,
   "metadata": {},
   "outputs": [
    {
     "name": "stdout",
     "output_type": "stream",
     "text": [
      "User:\n"
     ]
    },
    {
     "data": {
      "text/plain": [
       "'হয়েছে|||আমার  প্রোডাষ্ট খারাপ|||ফেরত দিতে চাই'"
      ]
     },
     "metadata": {},
     "output_type": "display_data"
    },
    {
     "name": "stdout",
     "output_type": "stream",
     "text": [
      "Agent:\n"
     ]
    },
    {
     "data": {
      "text/plain": [
       "'A\\xa0warm welcome to Daraz Live chat support. Hope you are safe and sound with your family and loved ones! ❤'"
      ]
     },
     "metadata": {},
     "output_type": "display_data"
    }
   ],
   "source": [
    "n = 110\n",
    "print(\"User:\")\n",
    "display(DDR_df_user_query['Live Agent User Query'][n])\n",
    "print(\"Agent:\")\n",
    "display(DDR_df_agent_response['Live Agent Response'][n])"
   ]
  },
  {
   "cell_type": "code",
   "execution_count": 64,
   "metadata": {},
   "outputs": [
    {
     "data": {
      "text/plain": [
       "\"Pick-up point basa theke 16kilo akhon product return er jonno abar pick-up point a jaoa possible na|||Display on Korle j lekha ase setai e 4-5sec theke off hoia jai|||Ami order disi pick-up point a 4-5ta ponno order silo ajonno aksathe sob koita Nia asci akhon 1ta ponno nosto tar jonno Ami abar pick-up point a jabo! Jeta 16kilo dure? Amr taka back er o proiojon nai amr product er o proiojon nai apni oi shop er biruddhe action kmne neoa possible seta bolen tailei hosse . 100+ review silo .. Ami product paoar por review check korlam amn problem r o oneker sathe hoise|||Ami product ti review dekhe order disi... Then msg korsi seller k tao nosto product pathai dise|||So, apni shop er biruddhe complaint rakhen|||订单号:627754563554095|||👍|||Hoito Ami seller k msg na dia amne amne product order dia dhora khaile mantam .. take product pathanor age check Korte bolsi. |||<img src='https://alime-customer-upload-lazada.oss-ap-southeast-1.aliyuncs.com/customer-upload/1653295289533_47283c6ac211488ca695a1024dc13348.jpg'/>|||Purai nosto product... Display kisukhon on hoia 4-5sec a vanish hoia jai... Kono reading dei na\""
      ]
     },
     "execution_count": 64,
     "metadata": {},
     "output_type": "execute_result"
    }
   ],
   "source": [
    "DDR_df_user_query['Live Agent User Query'].value_counts().idxmax()"
   ]
  },
  {
   "cell_type": "code",
   "execution_count": 67,
   "metadata": {},
   "outputs": [
    {
     "data": {
      "text/plain": [
       "Pick-up point basa theke 16kilo akhon product return er jonno abar pick-up point a jaoa possible na|||Display on Korle j lekha ase setai e 4-5sec theke off hoia jai|||Ami order disi pick-up point a 4-5ta ponno order silo ajonno aksathe sob koita Nia asci akhon 1ta ponno nosto tar jonno Ami abar pick-up point a jabo! Jeta 16kilo dure? Amr taka back er o proiojon nai amr product er o proiojon nai apni oi shop er biruddhe action kmne neoa possible seta bolen tailei hosse . 100+ review silo .. Ami product paoar por review check korlam amn problem r o oneker sathe hoise|||Ami product ti review dekhe order disi... Then msg korsi seller k tao nosto product pathai dise|||So, apni shop er biruddhe complaint rakhen|||订单号:627754563554095|||👍|||Hoito Ami seller k msg na dia amne amne product order dia dhora khaile mantam .. take product pathanor age check Korte bolsi. |||<img src='https://alime-customer-upload-lazada.oss-ap-southeast-1.aliyuncs.com/customer-upload/1653295289533_47283c6ac211488ca695a1024dc13348.jpg'/>|||Purai nosto product... Display kisukhon on hoia 4-5sec a vanish hoia jai... Kono reading dei na                                                                                                                                                                                                                                                                                                                                                                                                                                                                                                                                                                                                                                                                                                                                                                                                                                                                                                                                                                                                                                                                                                                                                                                                                                                                                                                                                                                                                                                                                                                                                                                                                                                                                                                                                                                                                                                                                                                                                                                                                                                       67\n",
       "Ki ki offer ase|||Ok|||?|||Hlw                                                                                                                                                                                                                                                                                                                                                                                                                                                                                                                                                                                                                                                                                                                                                                                                                                                                                                                                                                                                                                                                                                                                                                                                                                                                                                                                                                                                                                                                                                                                                                                                                                                                                                                                                                                                                                                                                                                                                                                                                                                                                                                                                                                                                                                                                                                                                                                                                                                                                                                                                                                                                                                                                                                                                                                                                                                                                                                                                                                                                                                                                                                                                                                       37\n",
       "Apnader pickup point free ki abar chalu hoise naki koidiner jnno just?|||Hi|||Apnader pickup point free ki abar chalu hoise naki koidiner jnno just?|||Apnader pickup point free ki abar chalu hoise naki koidiner jnno just?                                                                                                                                                                                                                                                                                                                                                                                                                                                                                                                                                                                                                                                                                                                                                                                                                                                                                                                                                                                                                                                                                                                                                                                                                                                                                                                                                                                                                                                                                                                                                                                                                                                                                                                                                                                                                                                                                                                                                                                                                                                                                                                                                                                                                                                                                                                                                                                                                                                                                                                                                                                                                                                                                                                                                                                                                                                                                                                                                                                        36\n",
       "আমি দুইটা প্রোডাক্ট রিটার্ন করেছি বাট এখনো টাকা পাইনি |||<img src='https://alime-customer-upload-lazada.oss-ap-southeast-1.aliyuncs.com/customer-upload/1653309689707_e8fee2116b1b4cc8a5379b9c7cf241de.jpg'/>|||<img src='https://alime-customer-upload-lazada.oss-ap-southeast-1.aliyuncs.com/customer-upload/1653309100902_c5089900b4a041768e107b1a4f6ebeec.jpg'/>|||<img src='https://alime-customer-upload-lazada.oss-ap-southeast-1.aliyuncs.com/customer-upload/1653309088266_71bef70a5deb4c50a4a8552574cb883f.jpg'/>|||<img src='https://alime-customer-upload-lazada.oss-ap-southeast-1.aliyuncs.com/customer-upload/1653309685306_b791e71e6030483eb96b6b5cbfb3f825.jpg'/>|||এখন ভাই দেখেন আপনি কি করবেন সেটা আপনি নিজে জানেন আমি এখনো প্রোডাক্ট গুলা টাকা পাচ্ছি নাই অথচ আমার প্রোডাক্ট গুলা এখনো আপনাদের কাছ থেকে কুরিয়ার সার্ভিসে আসে পেপারফ্লাই |||<img src='https://alime-customer-upload-lazada.oss-ap-southeast-1.aliyuncs.com/customer-upload/1653308962173_33c8e332b82d4f1db725e30644154b47.jpg'/>|||আসসালামু আলাইকুম রাহমাতুল্লাহ |||আমার কাছে দুইটা পেপারফ্লাই এরপর মাসে করছেন এখন প্রোডাক্টগুলো এখনো সাপ্লাইতে আছে বাট আমি এখনো টাকা পাচ্ছিনা |||আরে ভাই ক্যানসেল তো আপনারা করেছেন |||<img src='https://alime-customer-upload-lazada.oss-ap-southeast-1.aliyuncs.com/customer-upload/1653309695398_53a9a37fd42f4a41b4d496dcf97dce92.jpg'/>|||উনার নাম ছিল শুভ |||আমি আপনাকে ডকুমেন্টগুলো দিতেছি |||<img src='https://alime-customer-upload-lazada.oss-ap-southeast-1.aliyuncs.com/customer-upload/1653309684933_e6d95fb3281d4e46ad20fc5a706f7af3.jpg'/>|||<img src='https://alime-customer-upload-lazada.oss-ap-southeast-1.aliyuncs.com/customer-upload/1653309053085_1b2510d66e22461086f8388e331e2fcb.jpg'/>|||<img src='https://alime-customer-upload-lazada.oss-ap-southeast-1.aliyuncs.com/customer-upload/1653308981843_2f31dfd857504c2aa2653cab90f4df7c.jpg'/>|||<img src='https://alime-customer-upload-lazada.oss-ap-southeast-1.aliyuncs.com/customer-upload/1653309684932_15f1e5f82025426e88ac0b1438de652e.jpg'/>|||গেছে কাল আমাকে ফোন দিয়েছে তা আমি ওনাকে বলেছি যে আমি আরেকটা কফি নিতেছি নিয়া আপনাদেরকে দিব উনি আমারে বলছে যে লাইভ সেটের মাধ্যমে ওই ফর্মটা আপনাদেরকে দেওয়ার জন্য এখন আমি দিয়েছি |||<img src='https://alime-customer-upload-lazada.oss-ap-southeast-1.aliyuncs.com/customer-upload/1653309693138_6b11853772b8455d82fdb70bd76bd9f2.jpg'/>|||পেপারফ্লাই তে আমি প্রোডাক্টগুলো দিয়ে আসছি গত 26 তারিখ |||<img src='https://alime-customer-upload-lazada.oss-ap-southeast-1.aliyuncs.com/customer-upload/1653309043095_7832457c23c7467ab1c00d80a7ca8736.jpg'/>|||এখানে দুইটা পণ্য আছে আমি আস্তে আস্তে দিতেছি |||আমি তো এগুলা 23 তারিখে রিসিভ করেছি 24 তারিখে রিটার্ন করেছি 26 তারিখে আমি আসছি তাহলে আমার এটা ক্যানসেল হয়েছে কেন আর আমি এখনো টাকা পাইনা কি জন্য |||<img src='https://alime-customer-upload-lazada.oss-ap-southeast-1.aliyuncs.com/customer-upload/1653308921122_b0013faf75e243408e66e257292095f4.jpg'/>|||হ্যাঁ ভাই যোগাযোগ করেছি আপনাদের ওখান থেকে আমাকে বলছে যে আপনার একটি প্রডাক্টের ওজন একটা কাগজ জমা হয়েছে বাট অন্যটি জমা হয়নি এখনও অন্যটি আমারে লাইভ চ্যাটের মাধ্যমে জমা দিতে বলছে এখন আমি দোনোটাই আপনাকে দিয়েছি |||সরি ভুল হয়েছিল |||কই    30\n",
       "আমি একটা ঘড়ি অর্ডার করেছি..২ দিন হলো চায়না থেকে..এখন নাকি শিপমেন্ট হয়ে গেছে..কিন্তু আমি প্রডাক্টটা কেনসেল করতে চাচ্ছি.. কিভাবে কেনসেল করব আর রিফান্ড পাবো|||আমি একটা ঘড়ি অর্ডার করেছি..২ দিন হলো চায়না থেকে..এখন নাকি শিপমেন্ট হয়ে গেছে..কিন্তু আমি প্রডাক্টটা কেনসেল করতে চাচ্ছি.. কিভাবে কেনসেল করব আর রিফান্ড পাবো|||hello|||কিন্তু টাকা রিফান্ড কিভাবে পাবো.?|||কেউ আছেন.?|||আচ্ছা |||অর্ডার গ্রহণ না করলে কি কেনসেল হয়ে যাবে.?|||কিন্তু টাকা রিফান্ড কিভাবে পাবো.?|||জি|||<img src='https://alime-customer-upload-lazada.oss-ap-southeast-1.aliyuncs.com/customer-upload/1653292454951_2024df7863694334b60550015116f1ea.jpg'/>|||কবে পাবো এটা|||জি|||কিন্তু টাকা রিফান্ড কিভাবে পাবো.?|||জি ক্যাশ অন ডেলিভারিতে |||<img src='https://alime-customer-upload-lazada.oss-ap-southeast-1.aliyuncs.com/customer-upload/1653292475528_b3d5c00a46d4431e8f8273b339ef457a.jpg'/>                                                                                                                                                                                                                                                                                                                                                                                                                                                                                                                                                                                                                                                                                                                                                                                                                                                                                                                                                                                                                                                                                                                                                                                                                                                                                                                                                                                                                                                                                                                                                                                                                                                                                                                                                                                                                                                                                                                                                                                                                                                                                                                                                                                                                                                                                                                                         26\n",
       "                                                                                                                                                                                                                                                                                                                                                                                                                                                                                                                                                                                                                                                                                                                                                                                                                                                                                                                                                                                                                                                                                                                                                                                                                                                                                                                                                                                                                                                                                                                                                                                                                                                                                                                                                                                                                                                                                                                                                                                                                                                                                                                                                                                                                                                                                                                                                                                                                                                                                                                                                                                                                                                                                                                                                                                                                                                                                                                                                                                                                                                                                                                                                                                                                     ..\n",
       "Okay|||Okay|||627168036220493 I have a refund request which is still not proceeded, can you check|||订单号:627168036320493|||RN904320606220493|||Yeah, but it's been 7 days                                                                                                                                                                                                                                                                                                                                                                                                                                                                                                                                                                                                                                                                                                                                                                                                                                                                                                                                                                                                                                                                                                                                                                                                                                                                                                                                                                                                                                                                                                                                                                                                                                                                                                                                                                                                                                                                                                                                                                                                                                                                                                                                                                                                                                                                                                                                                                                                                                                                                                                                                                                                                                                                                                                                                                                                                                                                                                                                                                                                                                              1\n",
       "<img src='https://alime-customer-upload-lazada.oss-ap-southeast-1.aliyuncs.com/customer-upload/1653305836472_e88dd71a5fa945adb572687dc68bf2a7.jpg'/>|||..... |||<img src='https://alime-customer-upload-lazada.oss-ap-southeast-1.aliyuncs.com/customer-upload/1653305853221_e40df6511ef540abbc5d81a12e85e174.jpg'/>                                                                                                                                                                                                                                                                                                                                                                                                                                                                                                                                                                                                                                                                                                                                                                                                                                                                                                                                                                                                                                                                                                                                                                                                                                                                                                                                                                                                                                                                                                                                                                                                                                                                                                                                                                                                                                                                                                                                                                                                                                                                                                                                                                                                                                                                                                                                                                                                                                                                                                                                                                                                                                                                                                                                                                                                                                                                                                  1\n",
       "payment korte giye save bkash account option e click kore, number diye verification code diye ar kichui ase na..|||payment korar time ache ar matro 30 mins.. ar ami akhun mail korbo..!!! tahole somadhan kokhon pabo..|||amar bkash number ta daraz account e save korte parchi na.                                                                                                                                                                                                                                                                                                                                                                                                                                                                                                                                                                                                                                                                                                                                                                                                                                                                                                                                                                                                                                                                                                                                                                                                                                                                                                                                                                                                                                                                                                                                                                                                                                                                                                                                                                                                                                                                                                                                                                                                                                                                                                                                                                                                                                                                                                                                                                                                                                                                                                                                                                                                                                                                                                                                                                                                                                                                                                                                 1\n",
       "pickup station free permanent vabe kora hoiche|||mystery box dibe aj|||na ajker jonno|||hi|||ok thanks|||pickup station free permanent vabe kora hoiche|||ok|||na ajker jonno]                                                                                                                                                                                                                                                                                                                                                                                                                                                                                                                                                                                                                                                                                                                                                                                                                                                                                                                                                                                                                                                                                                                                                                                                                                                                                                                                                                                                                                                                                                                                                                                                                                                                                                                                                                                                                                                                                                                                                                                                                                                                                                                                                                                                                                                                                                                                                                                                                                                                                                                                                                                                                                                                                                                                                                                                                                                                                                                                                                                                                                        1\n",
       "রিফান্ড এর প্রসেস ও শুরু হইল না|||আমি একটা বিষয় জানতে চাচ্ছিলাম|||তাই আমি বলতেছি প্রোডাক্ট টা রিসিভ করে রিটার্ন করলে কি দ্রুত পাইতাম|||Okay thanks|||কিন্তু এতে তো মনে হচ্ছে  বেশি সময় লাগছে|||কালেকশন পয়েন্ট এ অর্ডার করার ক্ষেত্রে|||কোনটায় আমি দ্রুত রিফান্ড পাব|||আমি বলতেছি প্রোডাক্টটি কালেকশন পয়েন্ট এসেছে এখন আমি প্রোডাক্টটি না নিয়ে যদি বলি ক্যানসেল করুন তাহলে তাড়াতাড়ি রিফান্ড পাবো মনে আপনাদের কাছে আগে যাবে নাকি আমি ও টি পি দিয়ে ডেলিভারি নিয়ে তারপর রিটার্ন করে দেবো তাহলে আগে পাব কোনটায় কোনটায় দ্রুত পৌঁছে যাবে আপনাদের কাছে|||কোনটায় আপনাদের কাছে দ্রুত পৌঁছাবে|||তবে এখনো আপনাদের কাছে পৌঁছাল না|||订单号:627522780215207|||মানে কোনটায় আপনাদের কাছে দ্রুত পৌঁছে যাবে পণ্যটি|||প্রোডাক্টটি রিসিভ করে রিটার্ন করব নাকি ওটিপি না দিয়ে ক্যানসেল করবো|||এই দুটা প্রোডাক্ট আমি বলেছিলাম ক্যানসেল করে দিতে|||আপনাদের কাছে কি তাড়াতাড়ি পৌঁছায় তো|||বিকাশ|||আমি যদি প্রোডাক্ট প্রি পেমেন্ট করে থাকি করার পর যদি শিফট হয়ে যায় আমি যদি প্রোডাক্ট ইনা নীতে চাই তাহলে আমি কিভাবে দ্রুত রিফান্ড পাব|||কোনটায় তাড়াতাড়ি পাব সেটা বলুন|||সে ক্ষেত্রে আমি কি করতে পারি|||আপনিকি আমার কথা বুঝতেছেন না|||কি হইলো|||আরে আমি মেথড এর কথা তো বলি নাই|||订单号:627522780615207|||আমি তো বলেই দিয়েছিলাম ক্যানসেল করতে|||এইটা তো এখনো আপনাদের কাছে পৌঁছাল না|||বলুন প্লিজ                                                                                                                                                                                                                                                                                                                                                                                                                                                                                                                                                                                                                                                                                                                                                                                                                                                                                                                                                                                                                                                                                                                                                                                                                                                                                                                                                                                                                                                                                                                                                                                                                                                                                                                                                                                                                                                                                                                                1\n",
       "Name: Live Agent User Query, Length: 1855, dtype: int64"
      ]
     },
     "execution_count": 67,
     "metadata": {},
     "output_type": "execute_result"
    }
   ],
   "source": [
    "DDR_df_user_query['Live Agent User Query'].to_list()"
   ]
  },
  {
   "cell_type": "code",
   "execution_count": 82,
   "metadata": {},
   "outputs": [
    {
     "name": "stdout",
     "output_type": "stream",
     "text": [
      "\n"
     ]
    }
   ],
   "source": [
    "# Python 3 program to find the stem\n",
    "# of given list of words\n",
    "\n",
    "# function to find the stem (longest\n",
    "# common substring) from the string array\n",
    "\n",
    "\n",
    "def findstem(arr):\n",
    "\n",
    "\t# Determine size of the array\n",
    "\tn = len(arr)\n",
    "\n",
    "\t# Take first word from array\n",
    "\t# as reference\n",
    "\ts = arr[0]\n",
    "\tl = len(s)\n",
    "\n",
    "\tres = \"\"\n",
    "\n",
    "\tfor i in range(l):\n",
    "\t\tfor j in range(i + 1, l + 1):\n",
    "\n",
    "\t\t\t# generating all possible substrings\n",
    "\t\t\t# of our reference string arr[0] i.e s\n",
    "\t\t\tstem = s[i:j]\n",
    "\t\t\tk = 1\n",
    "\t\t\tfor k in range(1, n):\n",
    "\n",
    "\t\t\t\t# Check if the generated stem is\n",
    "\t\t\t\t# common to all words\n",
    "\t\t\t\tif stem not in arr[k]:\n",
    "\t\t\t\t\tbreak\n",
    "\n",
    "\t\t\t# If current substring is present in\n",
    "\t\t\t# all strings and its length is greater\n",
    "\t\t\t# than current result\n",
    "\t\t\tif (k + 1 == n and len(res) < len(stem)):\n",
    "\t\t\t\tres = stem\n",
    "\n",
    "\treturn res\n",
    "\n",
    "\n",
    "# Driver Code\n",
    "if __name__ == \"__main__\":\n",
    "\n",
    "\tarr = DDR_df_user_query['Live Agent User Query'].to_list()\t\n",
    "\t# Function call\n",
    "\tstems = findstem(arr)\n",
    "\tprint(stems)\n",
    "\n",
    "# This code is contributed by ita_c\n"
   ]
  },
  {
   "cell_type": "code",
   "execution_count": 5,
   "metadata": {},
   "outputs": [
    {
     "data": {
      "text/html": [
       "<div>\n",
       "<style scoped>\n",
       "    .dataframe tbody tr th:only-of-type {\n",
       "        vertical-align: middle;\n",
       "    }\n",
       "\n",
       "    .dataframe tbody tr th {\n",
       "        vertical-align: top;\n",
       "    }\n",
       "\n",
       "    .dataframe thead th {\n",
       "        text-align: right;\n",
       "    }\n",
       "</style>\n",
       "<table border=\"1\" class=\"dataframe\">\n",
       "  <thead>\n",
       "    <tr style=\"text-align: right;\">\n",
       "      <th></th>\n",
       "      <th>user_id</th>\n",
       "      <th>Seller id (X-space)</th>\n",
       "      <th>SOP_Solution_id</th>\n",
       "      <th>Knowledge_id</th>\n",
       "    </tr>\n",
       "  </thead>\n",
       "  <tbody>\n",
       "    <tr>\n",
       "      <th>user_id</th>\n",
       "      <td>1.000000</td>\n",
       "      <td>0.417613</td>\n",
       "      <td>0.213642</td>\n",
       "      <td>0.042016</td>\n",
       "    </tr>\n",
       "    <tr>\n",
       "      <th>Seller id (X-space)</th>\n",
       "      <td>0.417613</td>\n",
       "      <td>1.000000</td>\n",
       "      <td>0.105506</td>\n",
       "      <td>0.068768</td>\n",
       "    </tr>\n",
       "    <tr>\n",
       "      <th>SOP_Solution_id</th>\n",
       "      <td>0.213642</td>\n",
       "      <td>0.105506</td>\n",
       "      <td>1.000000</td>\n",
       "      <td>0.803707</td>\n",
       "    </tr>\n",
       "    <tr>\n",
       "      <th>Knowledge_id</th>\n",
       "      <td>0.042016</td>\n",
       "      <td>0.068768</td>\n",
       "      <td>0.803707</td>\n",
       "      <td>1.000000</td>\n",
       "    </tr>\n",
       "  </tbody>\n",
       "</table>\n",
       "</div>"
      ],
      "text/plain": [
       "                      user_id  Seller id (X-space)  SOP_Solution_id  \\\n",
       "user_id              1.000000             0.417613         0.213642   \n",
       "Seller id (X-space)  0.417613             1.000000         0.105506   \n",
       "SOP_Solution_id      0.213642             0.105506         1.000000   \n",
       "Knowledge_id         0.042016             0.068768         0.803707   \n",
       "\n",
       "                     Knowledge_id  \n",
       "user_id                  0.042016  \n",
       "Seller id (X-space)      0.068768  \n",
       "SOP_Solution_id          0.803707  \n",
       "Knowledge_id             1.000000  "
      ]
     },
     "execution_count": 5,
     "metadata": {},
     "output_type": "execute_result"
    }
   ],
   "source": [
    "DDR_df.corr('pearson')"
   ]
  },
  {
   "cell_type": "code",
   "execution_count": 83,
   "metadata": {},
   "outputs": [
    {
     "data": {
      "text/plain": [
       "Index(['Create Date', 'tenant_name', 'robot_code', 'robot_name', 'from_id',\n",
       "       'from_name', 'Session_id', 'Intention', 'user_id',\n",
       "       'Seller id (X-space)', 'user_nick', 'create_time', 'chat_uuid',\n",
       "       'Enter Type', 'query', 'Question Type', 'sopname', 'answer_type',\n",
       "       'SOP_Solution_id', 'SOP_Solution_Name', 'Standard Knowledge Title',\n",
       "       'Knowledge_id', 'knowledge_cate_1_name', 'knowledge_cate_2_name',\n",
       "       'knowledge_cate_3_name', 'is_session_unsatisfied',\n",
       "       'is_session_last_no answer', 'call_agent_by_click_shortcut',\n",
       "       'is_session_last_recommend no click', 'call_agent_by_intention',\n",
       "       'is_session_direct_liveagent', 'Contacted live agent on same day',\n",
       "       'Feedback Card Response', 'is_chat_recommend', 'is_chat_no answer',\n",
       "       'is_chat_pre/post match', 'live agent_session_id',\n",
       "       'Last Query Before Live Agent Session', 'Live Agent User Query',\n",
       "       'Live Agent Response', 'Feedback Type', 'Unsatisfied Reason'],\n",
       "      dtype='object')"
      ]
     },
     "execution_count": 83,
     "metadata": {},
     "output_type": "execute_result"
    }
   ],
   "source": [
    "DDR_df.columns"
   ]
  },
  {
   "cell_type": "code",
   "execution_count": 87,
   "metadata": {},
   "outputs": [
    {
     "ename": "TypeError",
     "evalue": "corr() missing 1 required positional argument: 'other'",
     "output_type": "error",
     "traceback": [
      "\u001b[1;31m---------------------------------------------------------------------------\u001b[0m",
      "\u001b[1;31mTypeError\u001b[0m                                 Traceback (most recent call last)",
      "\u001b[1;32m~\\AppData\\Local\\Temp/ipykernel_7432/2495945156.py\u001b[0m in \u001b[0;36m<module>\u001b[1;34m\u001b[0m\n\u001b[1;32m----> 1\u001b[1;33m \u001b[0mDDR_df\u001b[0m\u001b[1;33m[\u001b[0m\u001b[1;34m'Live Agent Response'\u001b[0m\u001b[1;33m]\u001b[0m\u001b[1;33m.\u001b[0m\u001b[0mcorr\u001b[0m\u001b[1;33m(\u001b[0m\u001b[1;33m)\u001b[0m\u001b[1;33m\u001b[0m\u001b[1;33m\u001b[0m\u001b[0m\n\u001b[0m",
      "\u001b[1;31mTypeError\u001b[0m: corr() missing 1 required positional argument: 'other'"
     ]
    }
   ],
   "source": [
    "DDR_df['Live Agent Response', ''].corr()"
   ]
  },
  {
   "cell_type": "code",
   "execution_count": 65,
   "metadata": {},
   "outputs": [],
   "source": [
    "sentences =  DDR_df_user_query['Live Agent User Query'].to_list()"
   ]
  },
  {
   "cell_type": "code",
   "execution_count": 2,
   "metadata": {},
   "outputs": [],
   "source": [
    "from laserembeddings import Laser"
   ]
  },
  {
   "cell_type": "code",
   "execution_count": 4,
   "metadata": {},
   "outputs": [],
   "source": [
    "path_to_bpe_codes = \"93langs.fcodes\"\n",
    "path_to_bpe_vocab = \"93langs.fvocab\"\n",
    "path_to_encoder = \"bilstm.93langs.2018-12-26.pt\"\n",
    "\n",
    "laser = Laser(path_to_bpe_codes, path_to_bpe_vocab, path_to_encoder)"
   ]
  },
  {
   "cell_type": "code",
   "execution_count": 75,
   "metadata": {},
   "outputs": [
    {
     "ename": "ValueError",
     "evalue": "lang: invalid length: the number of language codes does not match the number of sentences",
     "output_type": "error",
     "traceback": [
      "\u001b[1;31m---------------------------------------------------------------------------\u001b[0m",
      "\u001b[1;31mValueError\u001b[0m                                Traceback (most recent call last)",
      "\u001b[1;32m~\\AppData\\Local\\Temp/ipykernel_7432/4170044390.py\u001b[0m in \u001b[0;36m<module>\u001b[1;34m\u001b[0m\n\u001b[1;32m----> 1\u001b[1;33m embeddings = laser.embed_sentences(\n\u001b[0m\u001b[0;32m      2\u001b[0m     ['I love pasta.',\n\u001b[0;32m      3\u001b[0m      \u001b[1;34m'My pasta'\u001b[0m\u001b[1;33m,\u001b[0m\u001b[1;33m\u001b[0m\u001b[1;33m\u001b[0m\u001b[0m\n\u001b[0;32m      4\u001b[0m      'buying pasta'],\n\u001b[0;32m      5\u001b[0m     lang=['en'])\n",
      "\u001b[1;32mc:\\Users\\Daraz\\anaconda3\\lib\\site-packages\\laserembeddings\\laser.py\u001b[0m in \u001b[0;36membed_sentences\u001b[1;34m(self, sentences, lang)\u001b[0m\n\u001b[0;32m    107\u001b[0m \u001b[1;33m\u001b[0m\u001b[0m\n\u001b[0;32m    108\u001b[0m         \u001b[1;32mif\u001b[0m \u001b[0mlen\u001b[0m\u001b[1;33m(\u001b[0m\u001b[0msentences\u001b[0m\u001b[1;33m)\u001b[0m \u001b[1;33m!=\u001b[0m \u001b[0mlen\u001b[0m\u001b[1;33m(\u001b[0m\u001b[0mlang\u001b[0m\u001b[1;33m)\u001b[0m\u001b[1;33m:\u001b[0m\u001b[1;33m\u001b[0m\u001b[1;33m\u001b[0m\u001b[0m\n\u001b[1;32m--> 109\u001b[1;33m             raise ValueError(\n\u001b[0m\u001b[0;32m    110\u001b[0m                 \u001b[1;34m'lang: invalid length: the number of language codes does not match the number of sentences'\u001b[0m\u001b[1;33m\u001b[0m\u001b[1;33m\u001b[0m\u001b[0m\n\u001b[0;32m    111\u001b[0m             )\n",
      "\u001b[1;31mValueError\u001b[0m: lang: invalid length: the number of language codes does not match the number of sentences"
     ]
    }
   ],
   "source": [
    "embeddings = laser.embed_sentences(\n",
    "    ['I love pasta.',\n",
    "     'My pasta',\n",
    "     'buying pasta'],\n",
    "    lang=['en'])"
   ]
  },
  {
   "cell_type": "code",
   "execution_count": 71,
   "metadata": {},
   "outputs": [],
   "source": [
    "from scipy.spatial import distance"
   ]
  },
  {
   "cell_type": "code",
   "execution_count": 72,
   "metadata": {},
   "outputs": [
    {
     "name": "stdout",
     "output_type": "stream",
     "text": [
      "0.8439927101135254\n"
     ]
    }
   ],
   "source": [
    "print(1 - distance.cosine(embeddings[0], embeddings[1]))"
   ]
  },
  {
   "cell_type": "code",
   "execution_count": 43,
   "metadata": {},
   "outputs": [
    {
     "data": {
      "text/plain": [
       "numpy.ndarray"
      ]
     },
     "execution_count": 43,
     "metadata": {},
     "output_type": "execute_result"
    }
   ],
   "source": [
    "type(embeddings)"
   ]
  },
  {
   "cell_type": "code",
   "execution_count": 46,
   "metadata": {},
   "outputs": [
    {
     "data": {
      "text/plain": [
       "array([ 0.00235184,  0.00099551, -0.00074369, ...,  0.00043792,\n",
       "        0.00840293,  0.01704283], dtype=float32)"
      ]
     },
     "execution_count": 46,
     "metadata": {},
     "output_type": "execute_result"
    }
   ],
   "source": [
    "embeddings[1]"
   ]
  },
  {
   "cell_type": "code",
   "execution_count": null,
   "metadata": {},
   "outputs": [],
   "source": [
    "embeddings[0].reshape(32,32)"
   ]
  },
  {
   "cell_type": "code",
   "execution_count": null,
   "metadata": {},
   "outputs": [],
   "source": [
    "#https://towardsdatascience.com/t-sne-python-example-1ded9953f26"
   ]
  },
  {
   "cell_type": "code",
   "execution_count": 8,
   "metadata": {},
   "outputs": [],
   "source": [
    "import plotly.express as px\n",
    "from sklearn.decomposition import PCA"
   ]
  },
  {
   "cell_type": "code",
   "execution_count": 77,
   "metadata": {},
   "outputs": [],
   "source": [
    "pca = PCA(n_components=2)"
   ]
  },
  {
   "cell_type": "code",
   "execution_count": 80,
   "metadata": {},
   "outputs": [
    {
     "data": {
      "text/plain": [
       "(3, 1024)"
      ]
     },
     "execution_count": 80,
     "metadata": {},
     "output_type": "execute_result"
    }
   ],
   "source": [
    "embeddings.shape"
   ]
  },
  {
   "cell_type": "code",
   "execution_count": 79,
   "metadata": {},
   "outputs": [
    {
     "ename": "ValueError",
     "evalue": "Expected 2D array, got 1D array instead:\narray=[-5.2039046e-04 -2.8321785e-05 -1.6871415e-04 ...  3.4788852e-03\n -1.9968941e-03  8.1148306e-03].\nReshape your data either using array.reshape(-1, 1) if your data has a single feature or array.reshape(1, -1) if it contains a single sample.",
     "output_type": "error",
     "traceback": [
      "\u001b[1;31m---------------------------------------------------------------------------\u001b[0m",
      "\u001b[1;31mValueError\u001b[0m                                Traceback (most recent call last)",
      "\u001b[1;32m~\\AppData\\Local\\Temp/ipykernel_7432/3547162735.py\u001b[0m in \u001b[0;36m<module>\u001b[1;34m\u001b[0m\n\u001b[1;32m----> 1\u001b[1;33m \u001b[0mcomponents\u001b[0m \u001b[1;33m=\u001b[0m \u001b[0mpca\u001b[0m\u001b[1;33m.\u001b[0m\u001b[0mfit_transform\u001b[0m\u001b[1;33m(\u001b[0m\u001b[0membeddings\u001b[0m\u001b[1;33m[\u001b[0m\u001b[1;36m0\u001b[0m\u001b[1;33m]\u001b[0m\u001b[1;33m)\u001b[0m\u001b[1;33m\u001b[0m\u001b[1;33m\u001b[0m\u001b[0m\n\u001b[0m",
      "\u001b[1;32mc:\\Users\\Daraz\\anaconda3\\lib\\site-packages\\sklearn\\decomposition\\_pca.py\u001b[0m in \u001b[0;36mfit_transform\u001b[1;34m(self, X, y)\u001b[0m\n\u001b[0;32m    381\u001b[0m         \u001b[0mC\u001b[0m\u001b[1;33m-\u001b[0m\u001b[0mordered\u001b[0m \u001b[0marray\u001b[0m\u001b[1;33m,\u001b[0m \u001b[0muse\u001b[0m \u001b[1;34m'np.ascontiguousarray'\u001b[0m\u001b[1;33m.\u001b[0m\u001b[1;33m\u001b[0m\u001b[1;33m\u001b[0m\u001b[0m\n\u001b[0;32m    382\u001b[0m         \"\"\"\n\u001b[1;32m--> 383\u001b[1;33m         \u001b[0mU\u001b[0m\u001b[1;33m,\u001b[0m \u001b[0mS\u001b[0m\u001b[1;33m,\u001b[0m \u001b[0mVt\u001b[0m \u001b[1;33m=\u001b[0m \u001b[0mself\u001b[0m\u001b[1;33m.\u001b[0m\u001b[0m_fit\u001b[0m\u001b[1;33m(\u001b[0m\u001b[0mX\u001b[0m\u001b[1;33m)\u001b[0m\u001b[1;33m\u001b[0m\u001b[1;33m\u001b[0m\u001b[0m\n\u001b[0m\u001b[0;32m    384\u001b[0m         \u001b[0mU\u001b[0m \u001b[1;33m=\u001b[0m \u001b[0mU\u001b[0m\u001b[1;33m[\u001b[0m\u001b[1;33m:\u001b[0m\u001b[1;33m,\u001b[0m \u001b[1;33m:\u001b[0m\u001b[0mself\u001b[0m\u001b[1;33m.\u001b[0m\u001b[0mn_components_\u001b[0m\u001b[1;33m]\u001b[0m\u001b[1;33m\u001b[0m\u001b[1;33m\u001b[0m\u001b[0m\n\u001b[0;32m    385\u001b[0m \u001b[1;33m\u001b[0m\u001b[0m\n",
      "\u001b[1;32mc:\\Users\\Daraz\\anaconda3\\lib\\site-packages\\sklearn\\decomposition\\_pca.py\u001b[0m in \u001b[0;36m_fit\u001b[1;34m(self, X)\u001b[0m\n\u001b[0;32m    402\u001b[0m                             'TruncatedSVD for a possible alternative.')\n\u001b[0;32m    403\u001b[0m \u001b[1;33m\u001b[0m\u001b[0m\n\u001b[1;32m--> 404\u001b[1;33m         X = self._validate_data(X, dtype=[np.float64, np.float32],\n\u001b[0m\u001b[0;32m    405\u001b[0m                                 ensure_2d=True, copy=self.copy)\n\u001b[0;32m    406\u001b[0m \u001b[1;33m\u001b[0m\u001b[0m\n",
      "\u001b[1;32mc:\\Users\\Daraz\\anaconda3\\lib\\site-packages\\sklearn\\base.py\u001b[0m in \u001b[0;36m_validate_data\u001b[1;34m(self, X, y, reset, validate_separately, **check_params)\u001b[0m\n\u001b[0;32m    419\u001b[0m             \u001b[0mout\u001b[0m \u001b[1;33m=\u001b[0m \u001b[0mX\u001b[0m\u001b[1;33m\u001b[0m\u001b[1;33m\u001b[0m\u001b[0m\n\u001b[0;32m    420\u001b[0m         \u001b[1;32melif\u001b[0m \u001b[0misinstance\u001b[0m\u001b[1;33m(\u001b[0m\u001b[0my\u001b[0m\u001b[1;33m,\u001b[0m \u001b[0mstr\u001b[0m\u001b[1;33m)\u001b[0m \u001b[1;32mand\u001b[0m \u001b[0my\u001b[0m \u001b[1;33m==\u001b[0m \u001b[1;34m'no_validation'\u001b[0m\u001b[1;33m:\u001b[0m\u001b[1;33m\u001b[0m\u001b[1;33m\u001b[0m\u001b[0m\n\u001b[1;32m--> 421\u001b[1;33m             \u001b[0mX\u001b[0m \u001b[1;33m=\u001b[0m \u001b[0mcheck_array\u001b[0m\u001b[1;33m(\u001b[0m\u001b[0mX\u001b[0m\u001b[1;33m,\u001b[0m \u001b[1;33m**\u001b[0m\u001b[0mcheck_params\u001b[0m\u001b[1;33m)\u001b[0m\u001b[1;33m\u001b[0m\u001b[1;33m\u001b[0m\u001b[0m\n\u001b[0m\u001b[0;32m    422\u001b[0m             \u001b[0mout\u001b[0m \u001b[1;33m=\u001b[0m \u001b[0mX\u001b[0m\u001b[1;33m\u001b[0m\u001b[1;33m\u001b[0m\u001b[0m\n\u001b[0;32m    423\u001b[0m         \u001b[1;32melse\u001b[0m\u001b[1;33m:\u001b[0m\u001b[1;33m\u001b[0m\u001b[1;33m\u001b[0m\u001b[0m\n",
      "\u001b[1;32mc:\\Users\\Daraz\\anaconda3\\lib\\site-packages\\sklearn\\utils\\validation.py\u001b[0m in \u001b[0;36minner_f\u001b[1;34m(*args, **kwargs)\u001b[0m\n\u001b[0;32m     61\u001b[0m             \u001b[0mextra_args\u001b[0m \u001b[1;33m=\u001b[0m \u001b[0mlen\u001b[0m\u001b[1;33m(\u001b[0m\u001b[0margs\u001b[0m\u001b[1;33m)\u001b[0m \u001b[1;33m-\u001b[0m \u001b[0mlen\u001b[0m\u001b[1;33m(\u001b[0m\u001b[0mall_args\u001b[0m\u001b[1;33m)\u001b[0m\u001b[1;33m\u001b[0m\u001b[1;33m\u001b[0m\u001b[0m\n\u001b[0;32m     62\u001b[0m             \u001b[1;32mif\u001b[0m \u001b[0mextra_args\u001b[0m \u001b[1;33m<=\u001b[0m \u001b[1;36m0\u001b[0m\u001b[1;33m:\u001b[0m\u001b[1;33m\u001b[0m\u001b[1;33m\u001b[0m\u001b[0m\n\u001b[1;32m---> 63\u001b[1;33m                 \u001b[1;32mreturn\u001b[0m \u001b[0mf\u001b[0m\u001b[1;33m(\u001b[0m\u001b[1;33m*\u001b[0m\u001b[0margs\u001b[0m\u001b[1;33m,\u001b[0m \u001b[1;33m**\u001b[0m\u001b[0mkwargs\u001b[0m\u001b[1;33m)\u001b[0m\u001b[1;33m\u001b[0m\u001b[1;33m\u001b[0m\u001b[0m\n\u001b[0m\u001b[0;32m     64\u001b[0m \u001b[1;33m\u001b[0m\u001b[0m\n\u001b[0;32m     65\u001b[0m             \u001b[1;31m# extra_args > 0\u001b[0m\u001b[1;33m\u001b[0m\u001b[1;33m\u001b[0m\u001b[0m\n",
      "\u001b[1;32mc:\\Users\\Daraz\\anaconda3\\lib\\site-packages\\sklearn\\utils\\validation.py\u001b[0m in \u001b[0;36mcheck_array\u001b[1;34m(array, accept_sparse, accept_large_sparse, dtype, order, copy, force_all_finite, ensure_2d, allow_nd, ensure_min_samples, ensure_min_features, estimator)\u001b[0m\n\u001b[0;32m    692\u001b[0m             \u001b[1;31m# If input is 1D raise error\u001b[0m\u001b[1;33m\u001b[0m\u001b[1;33m\u001b[0m\u001b[0m\n\u001b[0;32m    693\u001b[0m             \u001b[1;32mif\u001b[0m \u001b[0marray\u001b[0m\u001b[1;33m.\u001b[0m\u001b[0mndim\u001b[0m \u001b[1;33m==\u001b[0m \u001b[1;36m1\u001b[0m\u001b[1;33m:\u001b[0m\u001b[1;33m\u001b[0m\u001b[1;33m\u001b[0m\u001b[0m\n\u001b[1;32m--> 694\u001b[1;33m                 raise ValueError(\n\u001b[0m\u001b[0;32m    695\u001b[0m                     \u001b[1;34m\"Expected 2D array, got 1D array instead:\\narray={}.\\n\"\u001b[0m\u001b[1;33m\u001b[0m\u001b[1;33m\u001b[0m\u001b[0m\n\u001b[0;32m    696\u001b[0m                     \u001b[1;34m\"Reshape your data either using array.reshape(-1, 1) if \"\u001b[0m\u001b[1;33m\u001b[0m\u001b[1;33m\u001b[0m\u001b[0m\n",
      "\u001b[1;31mValueError\u001b[0m: Expected 2D array, got 1D array instead:\narray=[-5.2039046e-04 -2.8321785e-05 -1.6871415e-04 ...  3.4788852e-03\n -1.9968941e-03  8.1148306e-03].\nReshape your data either using array.reshape(-1, 1) if your data has a single feature or array.reshape(1, -1) if it contains a single sample."
     ]
    }
   ],
   "source": [
    "components = pca.fit_transform(embeddings[0])"
   ]
  },
  {
   "cell_type": "code",
   "execution_count": 40,
   "metadata": {},
   "outputs": [
    {
     "data": {
      "text/plain": [
       "numpy.ndarray"
      ]
     },
     "execution_count": 40,
     "metadata": {},
     "output_type": "execute_result"
    }
   ],
   "source": [
    "type(components)"
   ]
  },
  {
   "cell_type": "code",
   "execution_count": 53,
   "metadata": {},
   "outputs": [
    {
     "data": {
      "application/vnd.plotly.v1+json": {
       "config": {
        "plotlyServerURL": "https://plot.ly"
       },
       "data": [
        {
         "hovertemplate": "0=%{x}<br>1=%{y}<extra></extra>",
         "legendgroup": "",
         "marker": {
          "color": "#636efa",
          "symbol": "circle"
         },
         "mode": "markers",
         "name": "",
         "orientation": "v",
         "showlegend": false,
         "type": "scatter",
         "x": [
          -2.6842071251039497,
          -2.715390615634132,
          -2.8898195396179167,
          -2.7464371973087345,
          -2.7285929818313144,
          -2.279897361009597,
          -2.8208906821806297,
          -2.626481993323819,
          -2.887958565335635,
          -2.673844686719121,
          -2.5065267893389023,
          -2.613142718271056,
          -2.7874339759970974,
          -3.225200446274981,
          -2.643543216941145,
          -2.383869323799374,
          -2.6225262031258074,
          -2.648322732479126,
          -2.199077961430762,
          -2.587346188917737,
          -2.310531701313133,
          -2.543234907303695,
          -3.2158576949001048,
          -2.303128537663882,
          -2.3561710866838976,
          -2.50791722683788,
          -2.4690559975451225,
          -2.56239094683675,
          -2.6398212683765814,
          -2.632847908030758,
          -2.5884620513033916,
          -2.410077337121595,
          -2.6476366733969,
          -2.5971594770759174,
          -2.673844686719121,
          -2.866999846932534,
          -2.6252284646804203,
          -2.673844686719121,
          -2.981842664853909,
          -2.5903230255856733,
          -2.7701389107463235,
          -2.8522110815663915,
          -2.9982964428323515,
          -2.405514101284701,
          -2.2088329541767044,
          -2.7156651907474543,
          -2.537573371013506,
          -2.8403212968270086,
          -2.5426857570770474,
          -2.7039123148636497,
          1.2847945878450717,
          0.9324107529829179,
          1.4640613227790755,
          0.1809672063476985,
          1.0871344872070008,
          0.6404367495231453,
          1.0952237099384785,
          -0.7514671406482273,
          1.0432977807062813,
          -0.010190070727853598,
          -0.5110861958950913,
          0.5110980606834774,
          0.2623357561531802,
          0.9840445451694309,
          -0.17486400196569615,
          0.9275729420327,
          0.6595927890562003,
          0.23454058625983557,
          0.942361707398842,
          0.04324640032870457,
          1.1162407237538157,
          0.3567865678304614,
          1.2964688502855337,
          0.9205026489090095,
          0.7140082136428335,
          0.8996408632837765,
          1.3310414188547202,
          1.5573962720707024,
          0.8124555489980018,
          -0.3073347556634043,
          -0.07034288894927175,
          -0.19188449210314584,
          0.13499495045137333,
          1.3787369827755827,
          0.5872748535799104,
          0.8072054966767166,
          1.22042896624468,
          0.8128677903690695,
          0.24519516169034597,
          0.1645134283692555,
          0.463030988871424,
          0.8901604456511564,
          0.22887904996964753,
          -0.7070812839208609,
          0.3555330391870634,
          0.33112694733272274,
          0.3752382289467656,
          0.6416902781665432,
          -0.9084633331234953,
          0.2978079074069339,
          2.531726980439558,
          1.414072225173757,
          2.616484608284044,
          1.9708149459064817,
          2.3497579839509424,
          3.3968799206781384,
          0.5193832450849353,
          2.9320050969913014,
          2.319672793874053,
          2.9181342336442517,
          1.6619349470194869,
          1.8023404526607332,
          2.1653788629533977,
          1.3445942175098242,
          1.5852672993086434,
          1.9047435782139124,
          1.949248781864498,
          3.4887653796563867,
          3.79468686120997,
          1.2983298245678159,
          2.4281672590208485,
          1.1980973722749622,
          3.4992654842989572,
          1.3876682501815556,
          2.275853649305694,
          2.6141938306983343,
          1.2576251829251361,
          1.2906696477376014,
          2.1228539805083133,
          2.3875644023690277,
          2.840960925285384,
          3.2323428982958755,
          2.1587383731331347,
          1.4431026043759745,
          1.77964010689857,
          3.076521621020662,
          2.1449868567093033,
          1.9048629251371318,
          1.1688534694704034,
          2.1076537311732686,
          2.3143033946295484,
          1.9224508848357524,
          1.414072225173757,
          2.5633227123408093,
          2.41939121980498,
          1.9440170488777375,
          1.5256636313138723,
          1.764045935526983,
          1.9016290752882326,
          1.3896661333194162
         ],
         "xaxis": "x",
         "y": [
          0.32660731476438853,
          -0.1695568475560258,
          -0.13734560960502745,
          -0.31112431575199134,
          0.33392456356845457,
          0.747782713225133,
          -0.08210451102468057,
          0.1704053489602899,
          -0.5707980263315909,
          -0.1066917037527384,
          0.6519350136725713,
          0.021520631960258073,
          -0.227740188871106,
          -0.5032799094854251,
          1.1861948994134481,
          1.3447543445598613,
          0.8180896745965945,
          0.3191366677508845,
          0.8792440880917359,
          0.5204736388059675,
          0.3978678215888916,
          0.4400317546598151,
          0.14161557162558375,
          0.10552267842998227,
          -0.03120958906833817,
          -0.13905633991317395,
          0.13788731459041778,
          0.37468456275010587,
          0.3192900659603216,
          -0.19007583063362377,
          -0.1973930794376906,
          0.4180800082476157,
          0.8199826325595064,
          1.1000219280072678,
          -0.1066917037527384,
          0.07719309572358718,
          0.6068000084215858,
          -0.1066917037527384,
          -0.48025004885607603,
          0.23605933728887274,
          0.27105941976516695,
          -0.9328653674695436,
          -0.33430757459077665,
          0.19591725769606078,
          0.4426960304210026,
          -0.24268148289811264,
          0.5103675454766056,
          -0.22057633827647624,
          0.5862810253439881,
          0.11501085217050563,
          0.6854391861329192,
          0.3191980898336484,
          0.5041898329724525,
          -0.8256039435761127,
          0.07539038928876722,
          -0.4173234829700253,
          0.2838912109384801,
          -1.0011075129743932,
          0.22895690877700642,
          -0.7205748667019007,
          -1.2624919538621393,
          -0.1022841050459701,
          -0.5478932980253366,
          -0.12436042022227785,
          -0.25181557108017033,
          0.4682362050431165,
          -0.3519762910603161,
          -0.33192182936212006,
          -0.5418222581500137,
          -0.5814894466123582,
          -0.08421401387837323,
          -0.06682382794136622,
          -0.3275615197949441,
          -0.18239036332792088,
          0.15037915314843692,
          0.3296109795818835,
          0.2446695206022888,
          0.2673925848127644,
          -0.16233157487863314,
          -0.36508661276616006,
          -0.7025379317307254,
          -0.6774905443743567,
          -0.31170964270339596,
          -0.42120513821462796,
          -0.4832842677174818,
          0.19505396377111148,
          0.40803533700101696,
          -0.37067899831890955,
          -0.26672803566184766,
          -0.6796614693108131,
          -0.6695265465361219,
          -0.03381244274676267,
          -0.40225762017891104,
          -1.00842476177846,
          -0.5032184874026618,
          -0.21118014066262641,
          -0.2916220248087794,
          0.01907117649127067,
          -0.7515687251694847,
          -0.34701652159856355,
          -0.011842236640300232,
          -0.5749250559123041,
          0.34193528698729425,
          -0.18112569470491358,
          -0.0418825496548418,
          0.547168046230152,
          -1.191351689050652,
          0.35237700618085915,
          -0.24554817060691025,
          0.7803806293720316,
          0.24203840103752217,
          -0.2161546066265362,
          0.21528028337300686,
          -0.7764154251768243,
          -0.5393070538471715,
          0.11881899098269848,
          0.040730259427767715,
          1.171544544263563,
          0.2532655709725339,
          -0.7610139365215074,
          0.37678197125415214,
          -0.6055789617645937,
          0.4567734669640737,
          -0.20403098657015467,
          0.33338652575664185,
          0.5583669502788217,
          -0.17913699742322267,
          -0.11642525182937237,
          -0.21085488454948972,
          0.4625192507262598,
          0.37274259104902063,
          1.3705240359763322,
          -0.21832553156299309,
          -0.14380128908272613,
          -0.5014647947060153,
          0.6857644422460558,
          0.13890660887731465,
          0.04804750823183455,
          -0.16450249981508971,
          0.3714822491771053,
          0.18260885079369835,
          0.40927117617869513,
          -0.5749250559123041,
          0.2759745022398378,
          0.3035039377026285,
          0.18741522204601363,
          -0.3750208481918227,
          0.07851918642935729,
          0.1158767482479657,
          -0.28288670917226877
         ],
         "yaxis": "y"
        }
       ],
       "layout": {
        "legend": {
         "tracegroupgap": 0
        },
        "margin": {
         "t": 60
        },
        "template": {
         "data": {
          "bar": [
           {
            "error_x": {
             "color": "#2a3f5f"
            },
            "error_y": {
             "color": "#2a3f5f"
            },
            "marker": {
             "line": {
              "color": "#E5ECF6",
              "width": 0.5
             },
             "pattern": {
              "fillmode": "overlay",
              "size": 10,
              "solidity": 0.2
             }
            },
            "type": "bar"
           }
          ],
          "barpolar": [
           {
            "marker": {
             "line": {
              "color": "#E5ECF6",
              "width": 0.5
             },
             "pattern": {
              "fillmode": "overlay",
              "size": 10,
              "solidity": 0.2
             }
            },
            "type": "barpolar"
           }
          ],
          "carpet": [
           {
            "aaxis": {
             "endlinecolor": "#2a3f5f",
             "gridcolor": "white",
             "linecolor": "white",
             "minorgridcolor": "white",
             "startlinecolor": "#2a3f5f"
            },
            "baxis": {
             "endlinecolor": "#2a3f5f",
             "gridcolor": "white",
             "linecolor": "white",
             "minorgridcolor": "white",
             "startlinecolor": "#2a3f5f"
            },
            "type": "carpet"
           }
          ],
          "choropleth": [
           {
            "colorbar": {
             "outlinewidth": 0,
             "ticks": ""
            },
            "type": "choropleth"
           }
          ],
          "contour": [
           {
            "colorbar": {
             "outlinewidth": 0,
             "ticks": ""
            },
            "colorscale": [
             [
              0,
              "#0d0887"
             ],
             [
              0.1111111111111111,
              "#46039f"
             ],
             [
              0.2222222222222222,
              "#7201a8"
             ],
             [
              0.3333333333333333,
              "#9c179e"
             ],
             [
              0.4444444444444444,
              "#bd3786"
             ],
             [
              0.5555555555555556,
              "#d8576b"
             ],
             [
              0.6666666666666666,
              "#ed7953"
             ],
             [
              0.7777777777777778,
              "#fb9f3a"
             ],
             [
              0.8888888888888888,
              "#fdca26"
             ],
             [
              1,
              "#f0f921"
             ]
            ],
            "type": "contour"
           }
          ],
          "contourcarpet": [
           {
            "colorbar": {
             "outlinewidth": 0,
             "ticks": ""
            },
            "type": "contourcarpet"
           }
          ],
          "heatmap": [
           {
            "colorbar": {
             "outlinewidth": 0,
             "ticks": ""
            },
            "colorscale": [
             [
              0,
              "#0d0887"
             ],
             [
              0.1111111111111111,
              "#46039f"
             ],
             [
              0.2222222222222222,
              "#7201a8"
             ],
             [
              0.3333333333333333,
              "#9c179e"
             ],
             [
              0.4444444444444444,
              "#bd3786"
             ],
             [
              0.5555555555555556,
              "#d8576b"
             ],
             [
              0.6666666666666666,
              "#ed7953"
             ],
             [
              0.7777777777777778,
              "#fb9f3a"
             ],
             [
              0.8888888888888888,
              "#fdca26"
             ],
             [
              1,
              "#f0f921"
             ]
            ],
            "type": "heatmap"
           }
          ],
          "heatmapgl": [
           {
            "colorbar": {
             "outlinewidth": 0,
             "ticks": ""
            },
            "colorscale": [
             [
              0,
              "#0d0887"
             ],
             [
              0.1111111111111111,
              "#46039f"
             ],
             [
              0.2222222222222222,
              "#7201a8"
             ],
             [
              0.3333333333333333,
              "#9c179e"
             ],
             [
              0.4444444444444444,
              "#bd3786"
             ],
             [
              0.5555555555555556,
              "#d8576b"
             ],
             [
              0.6666666666666666,
              "#ed7953"
             ],
             [
              0.7777777777777778,
              "#fb9f3a"
             ],
             [
              0.8888888888888888,
              "#fdca26"
             ],
             [
              1,
              "#f0f921"
             ]
            ],
            "type": "heatmapgl"
           }
          ],
          "histogram": [
           {
            "marker": {
             "pattern": {
              "fillmode": "overlay",
              "size": 10,
              "solidity": 0.2
             }
            },
            "type": "histogram"
           }
          ],
          "histogram2d": [
           {
            "colorbar": {
             "outlinewidth": 0,
             "ticks": ""
            },
            "colorscale": [
             [
              0,
              "#0d0887"
             ],
             [
              0.1111111111111111,
              "#46039f"
             ],
             [
              0.2222222222222222,
              "#7201a8"
             ],
             [
              0.3333333333333333,
              "#9c179e"
             ],
             [
              0.4444444444444444,
              "#bd3786"
             ],
             [
              0.5555555555555556,
              "#d8576b"
             ],
             [
              0.6666666666666666,
              "#ed7953"
             ],
             [
              0.7777777777777778,
              "#fb9f3a"
             ],
             [
              0.8888888888888888,
              "#fdca26"
             ],
             [
              1,
              "#f0f921"
             ]
            ],
            "type": "histogram2d"
           }
          ],
          "histogram2dcontour": [
           {
            "colorbar": {
             "outlinewidth": 0,
             "ticks": ""
            },
            "colorscale": [
             [
              0,
              "#0d0887"
             ],
             [
              0.1111111111111111,
              "#46039f"
             ],
             [
              0.2222222222222222,
              "#7201a8"
             ],
             [
              0.3333333333333333,
              "#9c179e"
             ],
             [
              0.4444444444444444,
              "#bd3786"
             ],
             [
              0.5555555555555556,
              "#d8576b"
             ],
             [
              0.6666666666666666,
              "#ed7953"
             ],
             [
              0.7777777777777778,
              "#fb9f3a"
             ],
             [
              0.8888888888888888,
              "#fdca26"
             ],
             [
              1,
              "#f0f921"
             ]
            ],
            "type": "histogram2dcontour"
           }
          ],
          "mesh3d": [
           {
            "colorbar": {
             "outlinewidth": 0,
             "ticks": ""
            },
            "type": "mesh3d"
           }
          ],
          "parcoords": [
           {
            "line": {
             "colorbar": {
              "outlinewidth": 0,
              "ticks": ""
             }
            },
            "type": "parcoords"
           }
          ],
          "pie": [
           {
            "automargin": true,
            "type": "pie"
           }
          ],
          "scatter": [
           {
            "fillpattern": {
             "fillmode": "overlay",
             "size": 10,
             "solidity": 0.2
            },
            "type": "scatter"
           }
          ],
          "scatter3d": [
           {
            "line": {
             "colorbar": {
              "outlinewidth": 0,
              "ticks": ""
             }
            },
            "marker": {
             "colorbar": {
              "outlinewidth": 0,
              "ticks": ""
             }
            },
            "type": "scatter3d"
           }
          ],
          "scattercarpet": [
           {
            "marker": {
             "colorbar": {
              "outlinewidth": 0,
              "ticks": ""
             }
            },
            "type": "scattercarpet"
           }
          ],
          "scattergeo": [
           {
            "marker": {
             "colorbar": {
              "outlinewidth": 0,
              "ticks": ""
             }
            },
            "type": "scattergeo"
           }
          ],
          "scattergl": [
           {
            "marker": {
             "colorbar": {
              "outlinewidth": 0,
              "ticks": ""
             }
            },
            "type": "scattergl"
           }
          ],
          "scattermapbox": [
           {
            "marker": {
             "colorbar": {
              "outlinewidth": 0,
              "ticks": ""
             }
            },
            "type": "scattermapbox"
           }
          ],
          "scatterpolar": [
           {
            "marker": {
             "colorbar": {
              "outlinewidth": 0,
              "ticks": ""
             }
            },
            "type": "scatterpolar"
           }
          ],
          "scatterpolargl": [
           {
            "marker": {
             "colorbar": {
              "outlinewidth": 0,
              "ticks": ""
             }
            },
            "type": "scatterpolargl"
           }
          ],
          "scatterternary": [
           {
            "marker": {
             "colorbar": {
              "outlinewidth": 0,
              "ticks": ""
             }
            },
            "type": "scatterternary"
           }
          ],
          "surface": [
           {
            "colorbar": {
             "outlinewidth": 0,
             "ticks": ""
            },
            "colorscale": [
             [
              0,
              "#0d0887"
             ],
             [
              0.1111111111111111,
              "#46039f"
             ],
             [
              0.2222222222222222,
              "#7201a8"
             ],
             [
              0.3333333333333333,
              "#9c179e"
             ],
             [
              0.4444444444444444,
              "#bd3786"
             ],
             [
              0.5555555555555556,
              "#d8576b"
             ],
             [
              0.6666666666666666,
              "#ed7953"
             ],
             [
              0.7777777777777778,
              "#fb9f3a"
             ],
             [
              0.8888888888888888,
              "#fdca26"
             ],
             [
              1,
              "#f0f921"
             ]
            ],
            "type": "surface"
           }
          ],
          "table": [
           {
            "cells": {
             "fill": {
              "color": "#EBF0F8"
             },
             "line": {
              "color": "white"
             }
            },
            "header": {
             "fill": {
              "color": "#C8D4E3"
             },
             "line": {
              "color": "white"
             }
            },
            "type": "table"
           }
          ]
         },
         "layout": {
          "annotationdefaults": {
           "arrowcolor": "#2a3f5f",
           "arrowhead": 0,
           "arrowwidth": 1
          },
          "autotypenumbers": "strict",
          "coloraxis": {
           "colorbar": {
            "outlinewidth": 0,
            "ticks": ""
           }
          },
          "colorscale": {
           "diverging": [
            [
             0,
             "#8e0152"
            ],
            [
             0.1,
             "#c51b7d"
            ],
            [
             0.2,
             "#de77ae"
            ],
            [
             0.3,
             "#f1b6da"
            ],
            [
             0.4,
             "#fde0ef"
            ],
            [
             0.5,
             "#f7f7f7"
            ],
            [
             0.6,
             "#e6f5d0"
            ],
            [
             0.7,
             "#b8e186"
            ],
            [
             0.8,
             "#7fbc41"
            ],
            [
             0.9,
             "#4d9221"
            ],
            [
             1,
             "#276419"
            ]
           ],
           "sequential": [
            [
             0,
             "#0d0887"
            ],
            [
             0.1111111111111111,
             "#46039f"
            ],
            [
             0.2222222222222222,
             "#7201a8"
            ],
            [
             0.3333333333333333,
             "#9c179e"
            ],
            [
             0.4444444444444444,
             "#bd3786"
            ],
            [
             0.5555555555555556,
             "#d8576b"
            ],
            [
             0.6666666666666666,
             "#ed7953"
            ],
            [
             0.7777777777777778,
             "#fb9f3a"
            ],
            [
             0.8888888888888888,
             "#fdca26"
            ],
            [
             1,
             "#f0f921"
            ]
           ],
           "sequentialminus": [
            [
             0,
             "#0d0887"
            ],
            [
             0.1111111111111111,
             "#46039f"
            ],
            [
             0.2222222222222222,
             "#7201a8"
            ],
            [
             0.3333333333333333,
             "#9c179e"
            ],
            [
             0.4444444444444444,
             "#bd3786"
            ],
            [
             0.5555555555555556,
             "#d8576b"
            ],
            [
             0.6666666666666666,
             "#ed7953"
            ],
            [
             0.7777777777777778,
             "#fb9f3a"
            ],
            [
             0.8888888888888888,
             "#fdca26"
            ],
            [
             1,
             "#f0f921"
            ]
           ]
          },
          "colorway": [
           "#636efa",
           "#EF553B",
           "#00cc96",
           "#ab63fa",
           "#FFA15A",
           "#19d3f3",
           "#FF6692",
           "#B6E880",
           "#FF97FF",
           "#FECB52"
          ],
          "font": {
           "color": "#2a3f5f"
          },
          "geo": {
           "bgcolor": "white",
           "lakecolor": "white",
           "landcolor": "#E5ECF6",
           "showlakes": true,
           "showland": true,
           "subunitcolor": "white"
          },
          "hoverlabel": {
           "align": "left"
          },
          "hovermode": "closest",
          "mapbox": {
           "style": "light"
          },
          "paper_bgcolor": "white",
          "plot_bgcolor": "#E5ECF6",
          "polar": {
           "angularaxis": {
            "gridcolor": "white",
            "linecolor": "white",
            "ticks": ""
           },
           "bgcolor": "#E5ECF6",
           "radialaxis": {
            "gridcolor": "white",
            "linecolor": "white",
            "ticks": ""
           }
          },
          "scene": {
           "xaxis": {
            "backgroundcolor": "#E5ECF6",
            "gridcolor": "white",
            "gridwidth": 2,
            "linecolor": "white",
            "showbackground": true,
            "ticks": "",
            "zerolinecolor": "white"
           },
           "yaxis": {
            "backgroundcolor": "#E5ECF6",
            "gridcolor": "white",
            "gridwidth": 2,
            "linecolor": "white",
            "showbackground": true,
            "ticks": "",
            "zerolinecolor": "white"
           },
           "zaxis": {
            "backgroundcolor": "#E5ECF6",
            "gridcolor": "white",
            "gridwidth": 2,
            "linecolor": "white",
            "showbackground": true,
            "ticks": "",
            "zerolinecolor": "white"
           }
          },
          "shapedefaults": {
           "line": {
            "color": "#2a3f5f"
           }
          },
          "ternary": {
           "aaxis": {
            "gridcolor": "white",
            "linecolor": "white",
            "ticks": ""
           },
           "baxis": {
            "gridcolor": "white",
            "linecolor": "white",
            "ticks": ""
           },
           "bgcolor": "#E5ECF6",
           "caxis": {
            "gridcolor": "white",
            "linecolor": "white",
            "ticks": ""
           }
          },
          "title": {
           "x": 0.05
          },
          "xaxis": {
           "automargin": true,
           "gridcolor": "white",
           "linecolor": "white",
           "ticks": "",
           "title": {
            "standoff": 15
           },
           "zerolinecolor": "white",
           "zerolinewidth": 2
          },
          "yaxis": {
           "automargin": true,
           "gridcolor": "white",
           "linecolor": "white",
           "ticks": "",
           "title": {
            "standoff": 15
           },
           "zerolinecolor": "white",
           "zerolinewidth": 2
          }
         }
        },
        "xaxis": {
         "anchor": "y",
         "domain": [
          0,
          1
         ],
         "title": {
          "text": "0"
         }
        },
        "yaxis": {
         "anchor": "x",
         "domain": [
          0,
          1
         ],
         "title": {
          "text": "1"
         }
        }
       }
      }
     },
     "metadata": {},
     "output_type": "display_data"
    }
   ],
   "source": [
    "#2D PCA\n",
    "\n",
    "fig = px.scatter(components, x=0, y=1)\n",
    "fig.show()"
   ]
  },
  {
   "cell_type": "code",
   "execution_count": 22,
   "metadata": {},
   "outputs": [
    {
     "data": {
      "text/plain": [
       "array([0.08911051], dtype=float32)"
      ]
     },
     "execution_count": 22,
     "metadata": {},
     "output_type": "execute_result"
    }
   ],
   "source": [
    "components[0]"
   ]
  },
  {
   "cell_type": "code",
   "execution_count": 51,
   "metadata": {},
   "outputs": [
    {
     "data": {
      "application/vnd.plotly.v1+json": {
       "config": {
        "plotlyServerURL": "https://plot.ly"
       },
       "data": [
        {
         "hovertemplate": "color=setosa<br>0=%{x}<br>1=%{y}<extra></extra>",
         "legendgroup": "setosa",
         "marker": {
          "color": "#636efa",
          "symbol": "circle"
         },
         "mode": "markers",
         "name": "setosa",
         "orientation": "v",
         "showlegend": true,
         "type": "scatter",
         "x": [
          -2.6842071251039497,
          -2.715390615634132,
          -2.8898195396179167,
          -2.7464371973087345,
          -2.7285929818313144,
          -2.279897361009597,
          -2.8208906821806297,
          -2.626481993323819,
          -2.887958565335635,
          -2.673844686719121,
          -2.5065267893389023,
          -2.613142718271056,
          -2.7874339759970974,
          -3.225200446274981,
          -2.643543216941145,
          -2.383869323799374,
          -2.6225262031258074,
          -2.648322732479126,
          -2.199077961430762,
          -2.587346188917737,
          -2.310531701313133,
          -2.543234907303695,
          -3.2158576949001048,
          -2.303128537663882,
          -2.3561710866838976,
          -2.50791722683788,
          -2.4690559975451225,
          -2.56239094683675,
          -2.6398212683765814,
          -2.632847908030758,
          -2.5884620513033916,
          -2.410077337121595,
          -2.6476366733969,
          -2.5971594770759174,
          -2.673844686719121,
          -2.866999846932534,
          -2.6252284646804203,
          -2.673844686719121,
          -2.981842664853909,
          -2.5903230255856733,
          -2.7701389107463235,
          -2.8522110815663915,
          -2.9982964428323515,
          -2.405514101284701,
          -2.2088329541767044,
          -2.7156651907474543,
          -2.537573371013506,
          -2.8403212968270086,
          -2.5426857570770474,
          -2.7039123148636497
         ],
         "xaxis": "x",
         "y": [
          0.32660731476438853,
          -0.1695568475560258,
          -0.13734560960502745,
          -0.31112431575199134,
          0.33392456356845457,
          0.747782713225133,
          -0.08210451102468057,
          0.1704053489602899,
          -0.5707980263315909,
          -0.1066917037527384,
          0.6519350136725713,
          0.021520631960258073,
          -0.227740188871106,
          -0.5032799094854251,
          1.1861948994134481,
          1.3447543445598613,
          0.8180896745965945,
          0.3191366677508845,
          0.8792440880917359,
          0.5204736388059675,
          0.3978678215888916,
          0.4400317546598151,
          0.14161557162558375,
          0.10552267842998227,
          -0.03120958906833817,
          -0.13905633991317395,
          0.13788731459041778,
          0.37468456275010587,
          0.3192900659603216,
          -0.19007583063362377,
          -0.1973930794376906,
          0.4180800082476157,
          0.8199826325595064,
          1.1000219280072678,
          -0.1066917037527384,
          0.07719309572358718,
          0.6068000084215858,
          -0.1066917037527384,
          -0.48025004885607603,
          0.23605933728887274,
          0.27105941976516695,
          -0.9328653674695436,
          -0.33430757459077665,
          0.19591725769606078,
          0.4426960304210026,
          -0.24268148289811264,
          0.5103675454766056,
          -0.22057633827647624,
          0.5862810253439881,
          0.11501085217050563
         ],
         "yaxis": "y"
        },
        {
         "hovertemplate": "color=versicolor<br>0=%{x}<br>1=%{y}<extra></extra>",
         "legendgroup": "versicolor",
         "marker": {
          "color": "#EF553B",
          "symbol": "circle"
         },
         "mode": "markers",
         "name": "versicolor",
         "orientation": "v",
         "showlegend": true,
         "type": "scatter",
         "x": [
          1.2847945878450717,
          0.9324107529829179,
          1.4640613227790755,
          0.1809672063476985,
          1.0871344872070008,
          0.6404367495231453,
          1.0952237099384785,
          -0.7514671406482273,
          1.0432977807062813,
          -0.010190070727853598,
          -0.5110861958950913,
          0.5110980606834774,
          0.2623357561531802,
          0.9840445451694309,
          -0.17486400196569615,
          0.9275729420327,
          0.6595927890562003,
          0.23454058625983557,
          0.942361707398842,
          0.04324640032870457,
          1.1162407237538157,
          0.3567865678304614,
          1.2964688502855337,
          0.9205026489090095,
          0.7140082136428335,
          0.8996408632837765,
          1.3310414188547202,
          1.5573962720707024,
          0.8124555489980018,
          -0.3073347556634043,
          -0.07034288894927175,
          -0.19188449210314584,
          0.13499495045137333,
          1.3787369827755827,
          0.5872748535799104,
          0.8072054966767166,
          1.22042896624468,
          0.8128677903690695,
          0.24519516169034597,
          0.1645134283692555,
          0.463030988871424,
          0.8901604456511564,
          0.22887904996964753,
          -0.7070812839208609,
          0.3555330391870634,
          0.33112694733272274,
          0.3752382289467656,
          0.6416902781665432,
          -0.9084633331234953,
          0.2978079074069339
         ],
         "xaxis": "x",
         "y": [
          0.6854391861329192,
          0.3191980898336484,
          0.5041898329724525,
          -0.8256039435761127,
          0.07539038928876722,
          -0.4173234829700253,
          0.2838912109384801,
          -1.0011075129743932,
          0.22895690877700642,
          -0.7205748667019007,
          -1.2624919538621393,
          -0.1022841050459701,
          -0.5478932980253366,
          -0.12436042022227785,
          -0.25181557108017033,
          0.4682362050431165,
          -0.3519762910603161,
          -0.33192182936212006,
          -0.5418222581500137,
          -0.5814894466123582,
          -0.08421401387837323,
          -0.06682382794136622,
          -0.3275615197949441,
          -0.18239036332792088,
          0.15037915314843692,
          0.3296109795818835,
          0.2446695206022888,
          0.2673925848127644,
          -0.16233157487863314,
          -0.36508661276616006,
          -0.7025379317307254,
          -0.6774905443743567,
          -0.31170964270339596,
          -0.42120513821462796,
          -0.4832842677174818,
          0.19505396377111148,
          0.40803533700101696,
          -0.37067899831890955,
          -0.26672803566184766,
          -0.6796614693108131,
          -0.6695265465361219,
          -0.03381244274676267,
          -0.40225762017891104,
          -1.00842476177846,
          -0.5032184874026618,
          -0.21118014066262641,
          -0.2916220248087794,
          0.01907117649127067,
          -0.7515687251694847,
          -0.34701652159856355
         ],
         "yaxis": "y"
        },
        {
         "hovertemplate": "color=virginica<br>0=%{x}<br>1=%{y}<extra></extra>",
         "legendgroup": "virginica",
         "marker": {
          "color": "#00cc96",
          "symbol": "circle"
         },
         "mode": "markers",
         "name": "virginica",
         "orientation": "v",
         "showlegend": true,
         "type": "scatter",
         "x": [
          2.531726980439558,
          1.414072225173757,
          2.616484608284044,
          1.9708149459064817,
          2.3497579839509424,
          3.3968799206781384,
          0.5193832450849353,
          2.9320050969913014,
          2.319672793874053,
          2.9181342336442517,
          1.6619349470194869,
          1.8023404526607332,
          2.1653788629533977,
          1.3445942175098242,
          1.5852672993086434,
          1.9047435782139124,
          1.949248781864498,
          3.4887653796563867,
          3.79468686120997,
          1.2983298245678159,
          2.4281672590208485,
          1.1980973722749622,
          3.4992654842989572,
          1.3876682501815556,
          2.275853649305694,
          2.6141938306983343,
          1.2576251829251361,
          1.2906696477376014,
          2.1228539805083133,
          2.3875644023690277,
          2.840960925285384,
          3.2323428982958755,
          2.1587383731331347,
          1.4431026043759745,
          1.77964010689857,
          3.076521621020662,
          2.1449868567093033,
          1.9048629251371318,
          1.1688534694704034,
          2.1076537311732686,
          2.3143033946295484,
          1.9224508848357524,
          1.414072225173757,
          2.5633227123408093,
          2.41939121980498,
          1.9440170488777375,
          1.5256636313138723,
          1.764045935526983,
          1.9016290752882326,
          1.3896661333194162
         ],
         "xaxis": "x",
         "y": [
          -0.011842236640300232,
          -0.5749250559123041,
          0.34193528698729425,
          -0.18112569470491358,
          -0.0418825496548418,
          0.547168046230152,
          -1.191351689050652,
          0.35237700618085915,
          -0.24554817060691025,
          0.7803806293720316,
          0.24203840103752217,
          -0.2161546066265362,
          0.21528028337300686,
          -0.7764154251768243,
          -0.5393070538471715,
          0.11881899098269848,
          0.040730259427767715,
          1.171544544263563,
          0.2532655709725339,
          -0.7610139365215074,
          0.37678197125415214,
          -0.6055789617645937,
          0.4567734669640737,
          -0.20403098657015467,
          0.33338652575664185,
          0.5583669502788217,
          -0.17913699742322267,
          -0.11642525182937237,
          -0.21085488454948972,
          0.4625192507262598,
          0.37274259104902063,
          1.3705240359763322,
          -0.21832553156299309,
          -0.14380128908272613,
          -0.5014647947060153,
          0.6857644422460558,
          0.13890660887731465,
          0.04804750823183455,
          -0.16450249981508971,
          0.3714822491771053,
          0.18260885079369835,
          0.40927117617869513,
          -0.5749250559123041,
          0.2759745022398378,
          0.3035039377026285,
          0.18741522204601363,
          -0.3750208481918227,
          0.07851918642935729,
          0.1158767482479657,
          -0.28288670917226877
         ],
         "yaxis": "y"
        }
       ],
       "layout": {
        "legend": {
         "title": {
          "text": "color"
         },
         "tracegroupgap": 0
        },
        "margin": {
         "t": 60
        },
        "template": {
         "data": {
          "bar": [
           {
            "error_x": {
             "color": "#2a3f5f"
            },
            "error_y": {
             "color": "#2a3f5f"
            },
            "marker": {
             "line": {
              "color": "#E5ECF6",
              "width": 0.5
             },
             "pattern": {
              "fillmode": "overlay",
              "size": 10,
              "solidity": 0.2
             }
            },
            "type": "bar"
           }
          ],
          "barpolar": [
           {
            "marker": {
             "line": {
              "color": "#E5ECF6",
              "width": 0.5
             },
             "pattern": {
              "fillmode": "overlay",
              "size": 10,
              "solidity": 0.2
             }
            },
            "type": "barpolar"
           }
          ],
          "carpet": [
           {
            "aaxis": {
             "endlinecolor": "#2a3f5f",
             "gridcolor": "white",
             "linecolor": "white",
             "minorgridcolor": "white",
             "startlinecolor": "#2a3f5f"
            },
            "baxis": {
             "endlinecolor": "#2a3f5f",
             "gridcolor": "white",
             "linecolor": "white",
             "minorgridcolor": "white",
             "startlinecolor": "#2a3f5f"
            },
            "type": "carpet"
           }
          ],
          "choropleth": [
           {
            "colorbar": {
             "outlinewidth": 0,
             "ticks": ""
            },
            "type": "choropleth"
           }
          ],
          "contour": [
           {
            "colorbar": {
             "outlinewidth": 0,
             "ticks": ""
            },
            "colorscale": [
             [
              0,
              "#0d0887"
             ],
             [
              0.1111111111111111,
              "#46039f"
             ],
             [
              0.2222222222222222,
              "#7201a8"
             ],
             [
              0.3333333333333333,
              "#9c179e"
             ],
             [
              0.4444444444444444,
              "#bd3786"
             ],
             [
              0.5555555555555556,
              "#d8576b"
             ],
             [
              0.6666666666666666,
              "#ed7953"
             ],
             [
              0.7777777777777778,
              "#fb9f3a"
             ],
             [
              0.8888888888888888,
              "#fdca26"
             ],
             [
              1,
              "#f0f921"
             ]
            ],
            "type": "contour"
           }
          ],
          "contourcarpet": [
           {
            "colorbar": {
             "outlinewidth": 0,
             "ticks": ""
            },
            "type": "contourcarpet"
           }
          ],
          "heatmap": [
           {
            "colorbar": {
             "outlinewidth": 0,
             "ticks": ""
            },
            "colorscale": [
             [
              0,
              "#0d0887"
             ],
             [
              0.1111111111111111,
              "#46039f"
             ],
             [
              0.2222222222222222,
              "#7201a8"
             ],
             [
              0.3333333333333333,
              "#9c179e"
             ],
             [
              0.4444444444444444,
              "#bd3786"
             ],
             [
              0.5555555555555556,
              "#d8576b"
             ],
             [
              0.6666666666666666,
              "#ed7953"
             ],
             [
              0.7777777777777778,
              "#fb9f3a"
             ],
             [
              0.8888888888888888,
              "#fdca26"
             ],
             [
              1,
              "#f0f921"
             ]
            ],
            "type": "heatmap"
           }
          ],
          "heatmapgl": [
           {
            "colorbar": {
             "outlinewidth": 0,
             "ticks": ""
            },
            "colorscale": [
             [
              0,
              "#0d0887"
             ],
             [
              0.1111111111111111,
              "#46039f"
             ],
             [
              0.2222222222222222,
              "#7201a8"
             ],
             [
              0.3333333333333333,
              "#9c179e"
             ],
             [
              0.4444444444444444,
              "#bd3786"
             ],
             [
              0.5555555555555556,
              "#d8576b"
             ],
             [
              0.6666666666666666,
              "#ed7953"
             ],
             [
              0.7777777777777778,
              "#fb9f3a"
             ],
             [
              0.8888888888888888,
              "#fdca26"
             ],
             [
              1,
              "#f0f921"
             ]
            ],
            "type": "heatmapgl"
           }
          ],
          "histogram": [
           {
            "marker": {
             "pattern": {
              "fillmode": "overlay",
              "size": 10,
              "solidity": 0.2
             }
            },
            "type": "histogram"
           }
          ],
          "histogram2d": [
           {
            "colorbar": {
             "outlinewidth": 0,
             "ticks": ""
            },
            "colorscale": [
             [
              0,
              "#0d0887"
             ],
             [
              0.1111111111111111,
              "#46039f"
             ],
             [
              0.2222222222222222,
              "#7201a8"
             ],
             [
              0.3333333333333333,
              "#9c179e"
             ],
             [
              0.4444444444444444,
              "#bd3786"
             ],
             [
              0.5555555555555556,
              "#d8576b"
             ],
             [
              0.6666666666666666,
              "#ed7953"
             ],
             [
              0.7777777777777778,
              "#fb9f3a"
             ],
             [
              0.8888888888888888,
              "#fdca26"
             ],
             [
              1,
              "#f0f921"
             ]
            ],
            "type": "histogram2d"
           }
          ],
          "histogram2dcontour": [
           {
            "colorbar": {
             "outlinewidth": 0,
             "ticks": ""
            },
            "colorscale": [
             [
              0,
              "#0d0887"
             ],
             [
              0.1111111111111111,
              "#46039f"
             ],
             [
              0.2222222222222222,
              "#7201a8"
             ],
             [
              0.3333333333333333,
              "#9c179e"
             ],
             [
              0.4444444444444444,
              "#bd3786"
             ],
             [
              0.5555555555555556,
              "#d8576b"
             ],
             [
              0.6666666666666666,
              "#ed7953"
             ],
             [
              0.7777777777777778,
              "#fb9f3a"
             ],
             [
              0.8888888888888888,
              "#fdca26"
             ],
             [
              1,
              "#f0f921"
             ]
            ],
            "type": "histogram2dcontour"
           }
          ],
          "mesh3d": [
           {
            "colorbar": {
             "outlinewidth": 0,
             "ticks": ""
            },
            "type": "mesh3d"
           }
          ],
          "parcoords": [
           {
            "line": {
             "colorbar": {
              "outlinewidth": 0,
              "ticks": ""
             }
            },
            "type": "parcoords"
           }
          ],
          "pie": [
           {
            "automargin": true,
            "type": "pie"
           }
          ],
          "scatter": [
           {
            "fillpattern": {
             "fillmode": "overlay",
             "size": 10,
             "solidity": 0.2
            },
            "type": "scatter"
           }
          ],
          "scatter3d": [
           {
            "line": {
             "colorbar": {
              "outlinewidth": 0,
              "ticks": ""
             }
            },
            "marker": {
             "colorbar": {
              "outlinewidth": 0,
              "ticks": ""
             }
            },
            "type": "scatter3d"
           }
          ],
          "scattercarpet": [
           {
            "marker": {
             "colorbar": {
              "outlinewidth": 0,
              "ticks": ""
             }
            },
            "type": "scattercarpet"
           }
          ],
          "scattergeo": [
           {
            "marker": {
             "colorbar": {
              "outlinewidth": 0,
              "ticks": ""
             }
            },
            "type": "scattergeo"
           }
          ],
          "scattergl": [
           {
            "marker": {
             "colorbar": {
              "outlinewidth": 0,
              "ticks": ""
             }
            },
            "type": "scattergl"
           }
          ],
          "scattermapbox": [
           {
            "marker": {
             "colorbar": {
              "outlinewidth": 0,
              "ticks": ""
             }
            },
            "type": "scattermapbox"
           }
          ],
          "scatterpolar": [
           {
            "marker": {
             "colorbar": {
              "outlinewidth": 0,
              "ticks": ""
             }
            },
            "type": "scatterpolar"
           }
          ],
          "scatterpolargl": [
           {
            "marker": {
             "colorbar": {
              "outlinewidth": 0,
              "ticks": ""
             }
            },
            "type": "scatterpolargl"
           }
          ],
          "scatterternary": [
           {
            "marker": {
             "colorbar": {
              "outlinewidth": 0,
              "ticks": ""
             }
            },
            "type": "scatterternary"
           }
          ],
          "surface": [
           {
            "colorbar": {
             "outlinewidth": 0,
             "ticks": ""
            },
            "colorscale": [
             [
              0,
              "#0d0887"
             ],
             [
              0.1111111111111111,
              "#46039f"
             ],
             [
              0.2222222222222222,
              "#7201a8"
             ],
             [
              0.3333333333333333,
              "#9c179e"
             ],
             [
              0.4444444444444444,
              "#bd3786"
             ],
             [
              0.5555555555555556,
              "#d8576b"
             ],
             [
              0.6666666666666666,
              "#ed7953"
             ],
             [
              0.7777777777777778,
              "#fb9f3a"
             ],
             [
              0.8888888888888888,
              "#fdca26"
             ],
             [
              1,
              "#f0f921"
             ]
            ],
            "type": "surface"
           }
          ],
          "table": [
           {
            "cells": {
             "fill": {
              "color": "#EBF0F8"
             },
             "line": {
              "color": "white"
             }
            },
            "header": {
             "fill": {
              "color": "#C8D4E3"
             },
             "line": {
              "color": "white"
             }
            },
            "type": "table"
           }
          ]
         },
         "layout": {
          "annotationdefaults": {
           "arrowcolor": "#2a3f5f",
           "arrowhead": 0,
           "arrowwidth": 1
          },
          "autotypenumbers": "strict",
          "coloraxis": {
           "colorbar": {
            "outlinewidth": 0,
            "ticks": ""
           }
          },
          "colorscale": {
           "diverging": [
            [
             0,
             "#8e0152"
            ],
            [
             0.1,
             "#c51b7d"
            ],
            [
             0.2,
             "#de77ae"
            ],
            [
             0.3,
             "#f1b6da"
            ],
            [
             0.4,
             "#fde0ef"
            ],
            [
             0.5,
             "#f7f7f7"
            ],
            [
             0.6,
             "#e6f5d0"
            ],
            [
             0.7,
             "#b8e186"
            ],
            [
             0.8,
             "#7fbc41"
            ],
            [
             0.9,
             "#4d9221"
            ],
            [
             1,
             "#276419"
            ]
           ],
           "sequential": [
            [
             0,
             "#0d0887"
            ],
            [
             0.1111111111111111,
             "#46039f"
            ],
            [
             0.2222222222222222,
             "#7201a8"
            ],
            [
             0.3333333333333333,
             "#9c179e"
            ],
            [
             0.4444444444444444,
             "#bd3786"
            ],
            [
             0.5555555555555556,
             "#d8576b"
            ],
            [
             0.6666666666666666,
             "#ed7953"
            ],
            [
             0.7777777777777778,
             "#fb9f3a"
            ],
            [
             0.8888888888888888,
             "#fdca26"
            ],
            [
             1,
             "#f0f921"
            ]
           ],
           "sequentialminus": [
            [
             0,
             "#0d0887"
            ],
            [
             0.1111111111111111,
             "#46039f"
            ],
            [
             0.2222222222222222,
             "#7201a8"
            ],
            [
             0.3333333333333333,
             "#9c179e"
            ],
            [
             0.4444444444444444,
             "#bd3786"
            ],
            [
             0.5555555555555556,
             "#d8576b"
            ],
            [
             0.6666666666666666,
             "#ed7953"
            ],
            [
             0.7777777777777778,
             "#fb9f3a"
            ],
            [
             0.8888888888888888,
             "#fdca26"
            ],
            [
             1,
             "#f0f921"
            ]
           ]
          },
          "colorway": [
           "#636efa",
           "#EF553B",
           "#00cc96",
           "#ab63fa",
           "#FFA15A",
           "#19d3f3",
           "#FF6692",
           "#B6E880",
           "#FF97FF",
           "#FECB52"
          ],
          "font": {
           "color": "#2a3f5f"
          },
          "geo": {
           "bgcolor": "white",
           "lakecolor": "white",
           "landcolor": "#E5ECF6",
           "showlakes": true,
           "showland": true,
           "subunitcolor": "white"
          },
          "hoverlabel": {
           "align": "left"
          },
          "hovermode": "closest",
          "mapbox": {
           "style": "light"
          },
          "paper_bgcolor": "white",
          "plot_bgcolor": "#E5ECF6",
          "polar": {
           "angularaxis": {
            "gridcolor": "white",
            "linecolor": "white",
            "ticks": ""
           },
           "bgcolor": "#E5ECF6",
           "radialaxis": {
            "gridcolor": "white",
            "linecolor": "white",
            "ticks": ""
           }
          },
          "scene": {
           "xaxis": {
            "backgroundcolor": "#E5ECF6",
            "gridcolor": "white",
            "gridwidth": 2,
            "linecolor": "white",
            "showbackground": true,
            "ticks": "",
            "zerolinecolor": "white"
           },
           "yaxis": {
            "backgroundcolor": "#E5ECF6",
            "gridcolor": "white",
            "gridwidth": 2,
            "linecolor": "white",
            "showbackground": true,
            "ticks": "",
            "zerolinecolor": "white"
           },
           "zaxis": {
            "backgroundcolor": "#E5ECF6",
            "gridcolor": "white",
            "gridwidth": 2,
            "linecolor": "white",
            "showbackground": true,
            "ticks": "",
            "zerolinecolor": "white"
           }
          },
          "shapedefaults": {
           "line": {
            "color": "#2a3f5f"
           }
          },
          "ternary": {
           "aaxis": {
            "gridcolor": "white",
            "linecolor": "white",
            "ticks": ""
           },
           "baxis": {
            "gridcolor": "white",
            "linecolor": "white",
            "ticks": ""
           },
           "bgcolor": "#E5ECF6",
           "caxis": {
            "gridcolor": "white",
            "linecolor": "white",
            "ticks": ""
           }
          },
          "title": {
           "x": 0.05
          },
          "xaxis": {
           "automargin": true,
           "gridcolor": "white",
           "linecolor": "white",
           "ticks": "",
           "title": {
            "standoff": 15
           },
           "zerolinecolor": "white",
           "zerolinewidth": 2
          },
          "yaxis": {
           "automargin": true,
           "gridcolor": "white",
           "linecolor": "white",
           "ticks": "",
           "title": {
            "standoff": 15
           },
           "zerolinecolor": "white",
           "zerolinewidth": 2
          }
         }
        },
        "xaxis": {
         "anchor": "y",
         "domain": [
          0,
          1
         ],
         "title": {
          "text": "0"
         }
        },
        "yaxis": {
         "anchor": "x",
         "domain": [
          0,
          1
         ],
         "title": {
          "text": "1"
         }
        }
       }
      }
     },
     "metadata": {},
     "output_type": "display_data"
    }
   ],
   "source": [
    "import plotly.express as px\n",
    "from sklearn.decomposition import PCA\n",
    "\n",
    "df = px.data.iris()\n",
    "X = df[['sepal_length', 'sepal_width', 'petal_length', 'petal_width']]\n",
    "\n",
    "pca = PCA(n_components=2)\n",
    "components = pca.fit_transform(X)\n",
    "\n",
    "fig = px.scatter(components, x=0, y=1, color=df['species'])\n",
    "fig.show()"
   ]
  },
  {
   "cell_type": "code",
   "execution_count": 52,
   "metadata": {},
   "outputs": [
    {
     "data": {
      "text/plain": [
       "0      5.1\n",
       "1      4.9\n",
       "2      4.7\n",
       "3      4.6\n",
       "4      5.0\n",
       "      ... \n",
       "145    6.7\n",
       "146    6.3\n",
       "147    6.5\n",
       "148    6.2\n",
       "149    5.9\n",
       "Name: sepal_length, Length: 150, dtype: float64"
      ]
     },
     "execution_count": 52,
     "metadata": {},
     "output_type": "execute_result"
    }
   ],
   "source": [
    "df['sepal_length']"
   ]
  },
  {
   "cell_type": "code",
   "execution_count": 36,
   "metadata": {},
   "outputs": [
    {
     "data": {
      "text/html": [
       "<div>\n",
       "<style scoped>\n",
       "    .dataframe tbody tr th:only-of-type {\n",
       "        vertical-align: middle;\n",
       "    }\n",
       "\n",
       "    .dataframe tbody tr th {\n",
       "        vertical-align: top;\n",
       "    }\n",
       "\n",
       "    .dataframe thead th {\n",
       "        text-align: right;\n",
       "    }\n",
       "</style>\n",
       "<table border=\"1\" class=\"dataframe\">\n",
       "  <thead>\n",
       "    <tr style=\"text-align: right;\">\n",
       "      <th></th>\n",
       "      <th>sepal_length</th>\n",
       "      <th>sepal_width</th>\n",
       "      <th>petal_length</th>\n",
       "      <th>petal_width</th>\n",
       "    </tr>\n",
       "  </thead>\n",
       "  <tbody>\n",
       "    <tr>\n",
       "      <th>0</th>\n",
       "      <td>5.1</td>\n",
       "      <td>3.5</td>\n",
       "      <td>1.4</td>\n",
       "      <td>0.2</td>\n",
       "    </tr>\n",
       "    <tr>\n",
       "      <th>1</th>\n",
       "      <td>4.9</td>\n",
       "      <td>3.0</td>\n",
       "      <td>1.4</td>\n",
       "      <td>0.2</td>\n",
       "    </tr>\n",
       "    <tr>\n",
       "      <th>2</th>\n",
       "      <td>4.7</td>\n",
       "      <td>3.2</td>\n",
       "      <td>1.3</td>\n",
       "      <td>0.2</td>\n",
       "    </tr>\n",
       "    <tr>\n",
       "      <th>3</th>\n",
       "      <td>4.6</td>\n",
       "      <td>3.1</td>\n",
       "      <td>1.5</td>\n",
       "      <td>0.2</td>\n",
       "    </tr>\n",
       "    <tr>\n",
       "      <th>4</th>\n",
       "      <td>5.0</td>\n",
       "      <td>3.6</td>\n",
       "      <td>1.4</td>\n",
       "      <td>0.2</td>\n",
       "    </tr>\n",
       "    <tr>\n",
       "      <th>...</th>\n",
       "      <td>...</td>\n",
       "      <td>...</td>\n",
       "      <td>...</td>\n",
       "      <td>...</td>\n",
       "    </tr>\n",
       "    <tr>\n",
       "      <th>145</th>\n",
       "      <td>6.7</td>\n",
       "      <td>3.0</td>\n",
       "      <td>5.2</td>\n",
       "      <td>2.3</td>\n",
       "    </tr>\n",
       "    <tr>\n",
       "      <th>146</th>\n",
       "      <td>6.3</td>\n",
       "      <td>2.5</td>\n",
       "      <td>5.0</td>\n",
       "      <td>1.9</td>\n",
       "    </tr>\n",
       "    <tr>\n",
       "      <th>147</th>\n",
       "      <td>6.5</td>\n",
       "      <td>3.0</td>\n",
       "      <td>5.2</td>\n",
       "      <td>2.0</td>\n",
       "    </tr>\n",
       "    <tr>\n",
       "      <th>148</th>\n",
       "      <td>6.2</td>\n",
       "      <td>3.4</td>\n",
       "      <td>5.4</td>\n",
       "      <td>2.3</td>\n",
       "    </tr>\n",
       "    <tr>\n",
       "      <th>149</th>\n",
       "      <td>5.9</td>\n",
       "      <td>3.0</td>\n",
       "      <td>5.1</td>\n",
       "      <td>1.8</td>\n",
       "    </tr>\n",
       "  </tbody>\n",
       "</table>\n",
       "<p>150 rows × 4 columns</p>\n",
       "</div>"
      ],
      "text/plain": [
       "     sepal_length  sepal_width  petal_length  petal_width\n",
       "0             5.1          3.5           1.4          0.2\n",
       "1             4.9          3.0           1.4          0.2\n",
       "2             4.7          3.2           1.3          0.2\n",
       "3             4.6          3.1           1.5          0.2\n",
       "4             5.0          3.6           1.4          0.2\n",
       "..            ...          ...           ...          ...\n",
       "145           6.7          3.0           5.2          2.3\n",
       "146           6.3          2.5           5.0          1.9\n",
       "147           6.5          3.0           5.2          2.0\n",
       "148           6.2          3.4           5.4          2.3\n",
       "149           5.9          3.0           5.1          1.8\n",
       "\n",
       "[150 rows x 4 columns]"
      ]
     },
     "execution_count": 36,
     "metadata": {},
     "output_type": "execute_result"
    }
   ],
   "source": [
    "X"
   ]
  },
  {
   "cell_type": "code",
   "execution_count": 37,
   "metadata": {},
   "outputs": [
    {
     "data": {
      "application/vnd.plotly.v1+json": {
       "config": {
        "plotlyServerURL": "https://plot.ly"
       },
       "data": [
        {
         "hovertemplate": "color=setosa<br>PC 1=%{x}<br>PC 2=%{y}<br>PC 3=%{z}<extra></extra>",
         "legendgroup": "setosa",
         "marker": {
          "color": "#636efa",
          "symbol": "circle"
         },
         "mode": "markers",
         "name": "setosa",
         "scene": "scene",
         "showlegend": true,
         "type": "scatter3d",
         "x": [
          -2.6842071251039497,
          -2.715390615634132,
          -2.8898195396179167,
          -2.7464371973087345,
          -2.7285929818313144,
          -2.279897361009597,
          -2.8208906821806297,
          -2.626481993323819,
          -2.887958565335635,
          -2.673844686719121,
          -2.5065267893389023,
          -2.613142718271056,
          -2.7874339759970974,
          -3.225200446274981,
          -2.643543216941145,
          -2.383869323799374,
          -2.6225262031258074,
          -2.648322732479126,
          -2.199077961430762,
          -2.587346188917737,
          -2.310531701313133,
          -2.543234907303695,
          -3.2158576949001048,
          -2.303128537663882,
          -2.3561710866838976,
          -2.50791722683788,
          -2.4690559975451225,
          -2.56239094683675,
          -2.6398212683765814,
          -2.632847908030758,
          -2.5884620513033916,
          -2.410077337121595,
          -2.6476366733969,
          -2.5971594770759174,
          -2.673844686719121,
          -2.866999846932534,
          -2.6252284646804203,
          -2.673844686719121,
          -2.981842664853909,
          -2.5903230255856733,
          -2.7701389107463235,
          -2.8522110815663915,
          -2.9982964428323515,
          -2.405514101284701,
          -2.2088329541767044,
          -2.7156651907474543,
          -2.537573371013506,
          -2.8403212968270086,
          -2.5426857570770474,
          -2.7039123148636497
         ],
         "y": [
          0.32660731476438853,
          -0.1695568475560258,
          -0.13734560960502745,
          -0.31112431575199134,
          0.33392456356845457,
          0.747782713225133,
          -0.08210451102468057,
          0.1704053489602899,
          -0.5707980263315909,
          -0.1066917037527384,
          0.6519350136725713,
          0.021520631960258073,
          -0.227740188871106,
          -0.5032799094854251,
          1.1861948994134481,
          1.3447543445598613,
          0.8180896745965945,
          0.3191366677508845,
          0.8792440880917359,
          0.5204736388059675,
          0.3978678215888916,
          0.4400317546598151,
          0.14161557162558375,
          0.10552267842998227,
          -0.03120958906833817,
          -0.13905633991317395,
          0.13788731459041778,
          0.37468456275010587,
          0.3192900659603216,
          -0.19007583063362377,
          -0.1973930794376906,
          0.4180800082476157,
          0.8199826325595064,
          1.1000219280072678,
          -0.1066917037527384,
          0.07719309572358718,
          0.6068000084215858,
          -0.1066917037527384,
          -0.48025004885607603,
          0.23605933728887274,
          0.27105941976516695,
          -0.9328653674695436,
          -0.33430757459077665,
          0.19591725769606078,
          0.4426960304210026,
          -0.24268148289811264,
          0.5103675454766056,
          -0.22057633827647624,
          0.5862810253439881,
          0.11501085217050563
         ],
         "z": [
          -0.021511837001963484,
          -0.2035214250054911,
          0.024709240998957042,
          0.03767197528530115,
          0.09622969977460923,
          0.17432561901640267,
          0.2642510851906961,
          -0.0158015102643151,
          0.027335406114507403,
          -0.19153329973564465,
          -0.06927499581393112,
          0.10765035324990464,
          -0.20032778809538918,
          0.06841362917233045,
          -0.1445057040096357,
          0.2837306639397767,
          0.14531598882161778,
          0.03339425407069801,
          -0.114521464798353,
          0.21957208800082484,
          -0.23369560709796958,
          0.2148363702796753,
          0.29961898151087113,
          0.04568004127448713,
          0.12940757589599342,
          -0.2471163378908597,
          0.1012630794297022,
          -0.07235915743602825,
          -0.13925337377853483,
          0.04646646364504582,
          -0.07127507313152594,
          -0.13838824005004102,
          0.23058560425417257,
          0.16358191262366242,
          -0.19153329973564465,
          -0.15684235049802417,
          -0.2611631564817056,
          -0.19153329973564465,
          0.07972480735962148,
          -0.07390123824707655,
          0.08424157450476323,
          -0.34096149110715135,
          0.19900842494724202,
          0.2707170703688334,
          0.30348780926827035,
          -0.09051560595006822,
          0.17191840447686058,
          0.09006137653041521,
          -0.01117526783116916,
          -0.08269572660682167
         ]
        },
        {
         "hovertemplate": "color=versicolor<br>PC 1=%{x}<br>PC 2=%{y}<br>PC 3=%{z}<extra></extra>",
         "legendgroup": "versicolor",
         "marker": {
          "color": "#EF553B",
          "symbol": "circle"
         },
         "mode": "markers",
         "name": "versicolor",
         "scene": "scene",
         "showlegend": true,
         "type": "scatter3d",
         "x": [
          1.2847945878450717,
          0.9324107529829179,
          1.4640613227790755,
          0.1809672063476985,
          1.0871344872070008,
          0.6404367495231453,
          1.0952237099384785,
          -0.7514671406482273,
          1.0432977807062813,
          -0.010190070727853598,
          -0.5110861958950913,
          0.5110980606834774,
          0.2623357561531802,
          0.9840445451694309,
          -0.17486400196569615,
          0.9275729420327,
          0.6595927890562003,
          0.23454058625983557,
          0.942361707398842,
          0.04324640032870457,
          1.1162407237538157,
          0.3567865678304614,
          1.2964688502855337,
          0.9205026489090095,
          0.7140082136428335,
          0.8996408632837765,
          1.3310414188547202,
          1.5573962720707024,
          0.8124555489980018,
          -0.3073347556634043,
          -0.07034288894927175,
          -0.19188449210314584,
          0.13499495045137333,
          1.3787369827755827,
          0.5872748535799104,
          0.8072054966767166,
          1.22042896624468,
          0.8128677903690695,
          0.24519516169034597,
          0.1645134283692555,
          0.463030988871424,
          0.8901604456511564,
          0.22887904996964753,
          -0.7070812839208609,
          0.3555330391870634,
          0.33112694733272274,
          0.3752382289467656,
          0.6416902781665432,
          -0.9084633331234953,
          0.2978079074069339
         ],
         "y": [
          0.6854391861329192,
          0.3191980898336484,
          0.5041898329724525,
          -0.8256039435761127,
          0.07539038928876722,
          -0.4173234829700253,
          0.2838912109384801,
          -1.0011075129743932,
          0.22895690877700642,
          -0.7205748667019007,
          -1.2624919538621393,
          -0.1022841050459701,
          -0.5478932980253366,
          -0.12436042022227785,
          -0.25181557108017033,
          0.4682362050431165,
          -0.3519762910603161,
          -0.33192182936212006,
          -0.5418222581500137,
          -0.5814894466123582,
          -0.08421401387837323,
          -0.06682382794136622,
          -0.3275615197949441,
          -0.18239036332792088,
          0.15037915314843692,
          0.3296109795818835,
          0.2446695206022888,
          0.2673925848127644,
          -0.16233157487863314,
          -0.36508661276616006,
          -0.7025379317307254,
          -0.6774905443743567,
          -0.31170964270339596,
          -0.42120513821462796,
          -0.4832842677174818,
          0.19505396377111148,
          0.40803533700101696,
          -0.37067899831890955,
          -0.26672803566184766,
          -0.6796614693108131,
          -0.6695265465361219,
          -0.03381244274676267,
          -0.40225762017891104,
          -1.00842476177846,
          -0.5032184874026618,
          -0.21118014066262641,
          -0.2916220248087794,
          0.01907117649127067,
          -0.7515687251694847,
          -0.34701652159856355
         ],
         "z": [
          -0.4061295530769633,
          -0.017129909205125336,
          -0.338260727717959,
          -0.1770828563933646,
          -0.3065444648144318,
          0.041188769353644406,
          0.1700225337414997,
          0.01567219423816046,
          -0.4148145661487039,
          0.2834372462541257,
          -0.26648995382244944,
          0.1323278904749737,
          -0.6919415783189646,
          -0.062157427613538804,
          0.09365863819195044,
          -0.3132294005685773,
          0.3283842970693479,
          -0.2702806708356936,
          -0.49734854117770433,
          -0.23296355648252265,
          0.4598442265727533,
          -0.22747218032088326,
          -0.3475132125842501,
          -0.23161141855266998,
          -0.3203723328292697,
          -0.3147714813796257,
          -0.5212449247379847,
          -0.16463849085222865,
          0.03634357634449072,
          -0.31533719693891993,
          -0.24175804484226776,
          -0.30391654346362457,
          -0.17497330378776516,
          0.01548049512170836,
          0.4445837530348708,
          0.3894587113862024,
          -0.23656608684982802,
          -0.612871050060673,
          0.18956248472924203,
          -0.05779923880574398,
          -0.02405389088980918,
          -0.009768026368424764,
          -0.22736270503287917,
          -0.10206934253841142,
          0.017889465896507622,
          0.08380907322251577,
          0.07907335550136595,
          -0.20417287686374622,
          -0.007736584506980475,
          0.012179139158859369
         ]
        },
        {
         "hovertemplate": "color=virginica<br>PC 1=%{x}<br>PC 2=%{y}<br>PC 3=%{z}<extra></extra>",
         "legendgroup": "virginica",
         "marker": {
          "color": "#00cc96",
          "symbol": "circle"
         },
         "mode": "markers",
         "name": "virginica",
         "scene": "scene",
         "showlegend": true,
         "type": "scatter3d",
         "x": [
          2.531726980439558,
          1.414072225173757,
          2.616484608284044,
          1.9708149459064817,
          2.3497579839509424,
          3.3968799206781384,
          0.5193832450849353,
          2.9320050969913014,
          2.319672793874053,
          2.9181342336442517,
          1.6619349470194869,
          1.8023404526607332,
          2.1653788629533977,
          1.3445942175098242,
          1.5852672993086434,
          1.9047435782139124,
          1.949248781864498,
          3.4887653796563867,
          3.79468686120997,
          1.2983298245678159,
          2.4281672590208485,
          1.1980973722749622,
          3.4992654842989572,
          1.3876682501815556,
          2.275853649305694,
          2.6141938306983343,
          1.2576251829251361,
          1.2906696477376014,
          2.1228539805083133,
          2.3875644023690277,
          2.840960925285384,
          3.2323428982958755,
          2.1587383731331347,
          1.4431026043759745,
          1.77964010689857,
          3.076521621020662,
          2.1449868567093033,
          1.9048629251371318,
          1.1688534694704034,
          2.1076537311732686,
          2.3143033946295484,
          1.9224508848357524,
          1.414072225173757,
          2.5633227123408093,
          2.41939121980498,
          1.9440170488777375,
          1.5256636313138723,
          1.764045935526983,
          1.9016290752882326,
          1.3896661333194162
         ],
         "y": [
          -0.011842236640300232,
          -0.5749250559123041,
          0.34193528698729425,
          -0.18112569470491358,
          -0.0418825496548418,
          0.547168046230152,
          -1.191351689050652,
          0.35237700618085915,
          -0.24554817060691025,
          0.7803806293720316,
          0.24203840103752217,
          -0.2161546066265362,
          0.21528028337300686,
          -0.7764154251768243,
          -0.5393070538471715,
          0.11881899098269848,
          0.040730259427767715,
          1.171544544263563,
          0.2532655709725339,
          -0.7610139365215074,
          0.37678197125415214,
          -0.6055789617645937,
          0.4567734669640737,
          -0.20403098657015467,
          0.33338652575664185,
          0.5583669502788217,
          -0.17913699742322267,
          -0.11642525182937237,
          -0.21085488454948972,
          0.4625192507262598,
          0.37274259104902063,
          1.3705240359763322,
          -0.21832553156299309,
          -0.14380128908272613,
          -0.5014647947060153,
          0.6857644422460558,
          0.13890660887731465,
          0.04804750823183455,
          -0.16450249981508971,
          0.3714822491771053,
          0.18260885079369835,
          0.40927117617869513,
          -0.5749250559123041,
          0.2759745022398378,
          0.3035039377026285,
          0.18741522204601363,
          -0.3750208481918227,
          0.07851918642935729,
          0.1158767482479657,
          -0.28288670917226877
         ],
         "z": [
          0.7584586515284951,
          0.2963982243052132,
          -0.11214137055436679,
          0.106539148649846,
          0.2841106808661673,
          -0.35187315762730154,
          0.546685531124949,
          -0.42369127833689707,
          -0.34992218335904934,
          0.421738933613767,
          0.2428152634675931,
          -0.03769532849396464,
          0.03314818319913316,
          0.2828680182243185,
          0.6305704884623258,
          0.48013807976572853,
          0.04272909392943658,
          0.1293200833617752,
          -0.5169707159938947,
          -0.3448870474686996,
          0.21864907004670503,
          0.5126407650398148,
          -0.5769101867216484,
          -0.06351132177864804,
          0.2846781526607178,
          -0.20842334661879347,
          0.04697780744922716,
          0.23161356056830606,
          0.15351588509125516,
          -0.45202396144912754,
          -0.5010315391382015,
          -0.11844877739515805,
          0.2084219761639157,
          -0.15408297110542707,
          -0.17581118605670318,
          -0.3364227412082239,
          0.7341847390548599,
          0.1604706307060084,
          0.2824608810023712,
          0.027437856461485232,
          0.32286040074238254,
          0.11549281596071723,
          0.2963982243052132,
          0.2912536131268596,
          0.5043025169513597,
          0.1793028706811267,
          -0.120636440744912,
          0.1307840534286688,
          0.7228735608675684,
          0.3623178316312214
         ]
        }
       ],
       "layout": {
        "legend": {
         "title": {
          "text": "color"
         },
         "tracegroupgap": 0
        },
        "scene": {
         "domain": {
          "x": [
           0,
           1
          ],
          "y": [
           0,
           1
          ]
         },
         "xaxis": {
          "title": {
           "text": "PC 1"
          }
         },
         "yaxis": {
          "title": {
           "text": "PC 2"
          }
         },
         "zaxis": {
          "title": {
           "text": "PC 3"
          }
         }
        },
        "template": {
         "data": {
          "bar": [
           {
            "error_x": {
             "color": "#2a3f5f"
            },
            "error_y": {
             "color": "#2a3f5f"
            },
            "marker": {
             "line": {
              "color": "#E5ECF6",
              "width": 0.5
             },
             "pattern": {
              "fillmode": "overlay",
              "size": 10,
              "solidity": 0.2
             }
            },
            "type": "bar"
           }
          ],
          "barpolar": [
           {
            "marker": {
             "line": {
              "color": "#E5ECF6",
              "width": 0.5
             },
             "pattern": {
              "fillmode": "overlay",
              "size": 10,
              "solidity": 0.2
             }
            },
            "type": "barpolar"
           }
          ],
          "carpet": [
           {
            "aaxis": {
             "endlinecolor": "#2a3f5f",
             "gridcolor": "white",
             "linecolor": "white",
             "minorgridcolor": "white",
             "startlinecolor": "#2a3f5f"
            },
            "baxis": {
             "endlinecolor": "#2a3f5f",
             "gridcolor": "white",
             "linecolor": "white",
             "minorgridcolor": "white",
             "startlinecolor": "#2a3f5f"
            },
            "type": "carpet"
           }
          ],
          "choropleth": [
           {
            "colorbar": {
             "outlinewidth": 0,
             "ticks": ""
            },
            "type": "choropleth"
           }
          ],
          "contour": [
           {
            "colorbar": {
             "outlinewidth": 0,
             "ticks": ""
            },
            "colorscale": [
             [
              0,
              "#0d0887"
             ],
             [
              0.1111111111111111,
              "#46039f"
             ],
             [
              0.2222222222222222,
              "#7201a8"
             ],
             [
              0.3333333333333333,
              "#9c179e"
             ],
             [
              0.4444444444444444,
              "#bd3786"
             ],
             [
              0.5555555555555556,
              "#d8576b"
             ],
             [
              0.6666666666666666,
              "#ed7953"
             ],
             [
              0.7777777777777778,
              "#fb9f3a"
             ],
             [
              0.8888888888888888,
              "#fdca26"
             ],
             [
              1,
              "#f0f921"
             ]
            ],
            "type": "contour"
           }
          ],
          "contourcarpet": [
           {
            "colorbar": {
             "outlinewidth": 0,
             "ticks": ""
            },
            "type": "contourcarpet"
           }
          ],
          "heatmap": [
           {
            "colorbar": {
             "outlinewidth": 0,
             "ticks": ""
            },
            "colorscale": [
             [
              0,
              "#0d0887"
             ],
             [
              0.1111111111111111,
              "#46039f"
             ],
             [
              0.2222222222222222,
              "#7201a8"
             ],
             [
              0.3333333333333333,
              "#9c179e"
             ],
             [
              0.4444444444444444,
              "#bd3786"
             ],
             [
              0.5555555555555556,
              "#d8576b"
             ],
             [
              0.6666666666666666,
              "#ed7953"
             ],
             [
              0.7777777777777778,
              "#fb9f3a"
             ],
             [
              0.8888888888888888,
              "#fdca26"
             ],
             [
              1,
              "#f0f921"
             ]
            ],
            "type": "heatmap"
           }
          ],
          "heatmapgl": [
           {
            "colorbar": {
             "outlinewidth": 0,
             "ticks": ""
            },
            "colorscale": [
             [
              0,
              "#0d0887"
             ],
             [
              0.1111111111111111,
              "#46039f"
             ],
             [
              0.2222222222222222,
              "#7201a8"
             ],
             [
              0.3333333333333333,
              "#9c179e"
             ],
             [
              0.4444444444444444,
              "#bd3786"
             ],
             [
              0.5555555555555556,
              "#d8576b"
             ],
             [
              0.6666666666666666,
              "#ed7953"
             ],
             [
              0.7777777777777778,
              "#fb9f3a"
             ],
             [
              0.8888888888888888,
              "#fdca26"
             ],
             [
              1,
              "#f0f921"
             ]
            ],
            "type": "heatmapgl"
           }
          ],
          "histogram": [
           {
            "marker": {
             "pattern": {
              "fillmode": "overlay",
              "size": 10,
              "solidity": 0.2
             }
            },
            "type": "histogram"
           }
          ],
          "histogram2d": [
           {
            "colorbar": {
             "outlinewidth": 0,
             "ticks": ""
            },
            "colorscale": [
             [
              0,
              "#0d0887"
             ],
             [
              0.1111111111111111,
              "#46039f"
             ],
             [
              0.2222222222222222,
              "#7201a8"
             ],
             [
              0.3333333333333333,
              "#9c179e"
             ],
             [
              0.4444444444444444,
              "#bd3786"
             ],
             [
              0.5555555555555556,
              "#d8576b"
             ],
             [
              0.6666666666666666,
              "#ed7953"
             ],
             [
              0.7777777777777778,
              "#fb9f3a"
             ],
             [
              0.8888888888888888,
              "#fdca26"
             ],
             [
              1,
              "#f0f921"
             ]
            ],
            "type": "histogram2d"
           }
          ],
          "histogram2dcontour": [
           {
            "colorbar": {
             "outlinewidth": 0,
             "ticks": ""
            },
            "colorscale": [
             [
              0,
              "#0d0887"
             ],
             [
              0.1111111111111111,
              "#46039f"
             ],
             [
              0.2222222222222222,
              "#7201a8"
             ],
             [
              0.3333333333333333,
              "#9c179e"
             ],
             [
              0.4444444444444444,
              "#bd3786"
             ],
             [
              0.5555555555555556,
              "#d8576b"
             ],
             [
              0.6666666666666666,
              "#ed7953"
             ],
             [
              0.7777777777777778,
              "#fb9f3a"
             ],
             [
              0.8888888888888888,
              "#fdca26"
             ],
             [
              1,
              "#f0f921"
             ]
            ],
            "type": "histogram2dcontour"
           }
          ],
          "mesh3d": [
           {
            "colorbar": {
             "outlinewidth": 0,
             "ticks": ""
            },
            "type": "mesh3d"
           }
          ],
          "parcoords": [
           {
            "line": {
             "colorbar": {
              "outlinewidth": 0,
              "ticks": ""
             }
            },
            "type": "parcoords"
           }
          ],
          "pie": [
           {
            "automargin": true,
            "type": "pie"
           }
          ],
          "scatter": [
           {
            "fillpattern": {
             "fillmode": "overlay",
             "size": 10,
             "solidity": 0.2
            },
            "type": "scatter"
           }
          ],
          "scatter3d": [
           {
            "line": {
             "colorbar": {
              "outlinewidth": 0,
              "ticks": ""
             }
            },
            "marker": {
             "colorbar": {
              "outlinewidth": 0,
              "ticks": ""
             }
            },
            "type": "scatter3d"
           }
          ],
          "scattercarpet": [
           {
            "marker": {
             "colorbar": {
              "outlinewidth": 0,
              "ticks": ""
             }
            },
            "type": "scattercarpet"
           }
          ],
          "scattergeo": [
           {
            "marker": {
             "colorbar": {
              "outlinewidth": 0,
              "ticks": ""
             }
            },
            "type": "scattergeo"
           }
          ],
          "scattergl": [
           {
            "marker": {
             "colorbar": {
              "outlinewidth": 0,
              "ticks": ""
             }
            },
            "type": "scattergl"
           }
          ],
          "scattermapbox": [
           {
            "marker": {
             "colorbar": {
              "outlinewidth": 0,
              "ticks": ""
             }
            },
            "type": "scattermapbox"
           }
          ],
          "scatterpolar": [
           {
            "marker": {
             "colorbar": {
              "outlinewidth": 0,
              "ticks": ""
             }
            },
            "type": "scatterpolar"
           }
          ],
          "scatterpolargl": [
           {
            "marker": {
             "colorbar": {
              "outlinewidth": 0,
              "ticks": ""
             }
            },
            "type": "scatterpolargl"
           }
          ],
          "scatterternary": [
           {
            "marker": {
             "colorbar": {
              "outlinewidth": 0,
              "ticks": ""
             }
            },
            "type": "scatterternary"
           }
          ],
          "surface": [
           {
            "colorbar": {
             "outlinewidth": 0,
             "ticks": ""
            },
            "colorscale": [
             [
              0,
              "#0d0887"
             ],
             [
              0.1111111111111111,
              "#46039f"
             ],
             [
              0.2222222222222222,
              "#7201a8"
             ],
             [
              0.3333333333333333,
              "#9c179e"
             ],
             [
              0.4444444444444444,
              "#bd3786"
             ],
             [
              0.5555555555555556,
              "#d8576b"
             ],
             [
              0.6666666666666666,
              "#ed7953"
             ],
             [
              0.7777777777777778,
              "#fb9f3a"
             ],
             [
              0.8888888888888888,
              "#fdca26"
             ],
             [
              1,
              "#f0f921"
             ]
            ],
            "type": "surface"
           }
          ],
          "table": [
           {
            "cells": {
             "fill": {
              "color": "#EBF0F8"
             },
             "line": {
              "color": "white"
             }
            },
            "header": {
             "fill": {
              "color": "#C8D4E3"
             },
             "line": {
              "color": "white"
             }
            },
            "type": "table"
           }
          ]
         },
         "layout": {
          "annotationdefaults": {
           "arrowcolor": "#2a3f5f",
           "arrowhead": 0,
           "arrowwidth": 1
          },
          "autotypenumbers": "strict",
          "coloraxis": {
           "colorbar": {
            "outlinewidth": 0,
            "ticks": ""
           }
          },
          "colorscale": {
           "diverging": [
            [
             0,
             "#8e0152"
            ],
            [
             0.1,
             "#c51b7d"
            ],
            [
             0.2,
             "#de77ae"
            ],
            [
             0.3,
             "#f1b6da"
            ],
            [
             0.4,
             "#fde0ef"
            ],
            [
             0.5,
             "#f7f7f7"
            ],
            [
             0.6,
             "#e6f5d0"
            ],
            [
             0.7,
             "#b8e186"
            ],
            [
             0.8,
             "#7fbc41"
            ],
            [
             0.9,
             "#4d9221"
            ],
            [
             1,
             "#276419"
            ]
           ],
           "sequential": [
            [
             0,
             "#0d0887"
            ],
            [
             0.1111111111111111,
             "#46039f"
            ],
            [
             0.2222222222222222,
             "#7201a8"
            ],
            [
             0.3333333333333333,
             "#9c179e"
            ],
            [
             0.4444444444444444,
             "#bd3786"
            ],
            [
             0.5555555555555556,
             "#d8576b"
            ],
            [
             0.6666666666666666,
             "#ed7953"
            ],
            [
             0.7777777777777778,
             "#fb9f3a"
            ],
            [
             0.8888888888888888,
             "#fdca26"
            ],
            [
             1,
             "#f0f921"
            ]
           ],
           "sequentialminus": [
            [
             0,
             "#0d0887"
            ],
            [
             0.1111111111111111,
             "#46039f"
            ],
            [
             0.2222222222222222,
             "#7201a8"
            ],
            [
             0.3333333333333333,
             "#9c179e"
            ],
            [
             0.4444444444444444,
             "#bd3786"
            ],
            [
             0.5555555555555556,
             "#d8576b"
            ],
            [
             0.6666666666666666,
             "#ed7953"
            ],
            [
             0.7777777777777778,
             "#fb9f3a"
            ],
            [
             0.8888888888888888,
             "#fdca26"
            ],
            [
             1,
             "#f0f921"
            ]
           ]
          },
          "colorway": [
           "#636efa",
           "#EF553B",
           "#00cc96",
           "#ab63fa",
           "#FFA15A",
           "#19d3f3",
           "#FF6692",
           "#B6E880",
           "#FF97FF",
           "#FECB52"
          ],
          "font": {
           "color": "#2a3f5f"
          },
          "geo": {
           "bgcolor": "white",
           "lakecolor": "white",
           "landcolor": "#E5ECF6",
           "showlakes": true,
           "showland": true,
           "subunitcolor": "white"
          },
          "hoverlabel": {
           "align": "left"
          },
          "hovermode": "closest",
          "mapbox": {
           "style": "light"
          },
          "paper_bgcolor": "white",
          "plot_bgcolor": "#E5ECF6",
          "polar": {
           "angularaxis": {
            "gridcolor": "white",
            "linecolor": "white",
            "ticks": ""
           },
           "bgcolor": "#E5ECF6",
           "radialaxis": {
            "gridcolor": "white",
            "linecolor": "white",
            "ticks": ""
           }
          },
          "scene": {
           "xaxis": {
            "backgroundcolor": "#E5ECF6",
            "gridcolor": "white",
            "gridwidth": 2,
            "linecolor": "white",
            "showbackground": true,
            "ticks": "",
            "zerolinecolor": "white"
           },
           "yaxis": {
            "backgroundcolor": "#E5ECF6",
            "gridcolor": "white",
            "gridwidth": 2,
            "linecolor": "white",
            "showbackground": true,
            "ticks": "",
            "zerolinecolor": "white"
           },
           "zaxis": {
            "backgroundcolor": "#E5ECF6",
            "gridcolor": "white",
            "gridwidth": 2,
            "linecolor": "white",
            "showbackground": true,
            "ticks": "",
            "zerolinecolor": "white"
           }
          },
          "shapedefaults": {
           "line": {
            "color": "#2a3f5f"
           }
          },
          "ternary": {
           "aaxis": {
            "gridcolor": "white",
            "linecolor": "white",
            "ticks": ""
           },
           "baxis": {
            "gridcolor": "white",
            "linecolor": "white",
            "ticks": ""
           },
           "bgcolor": "#E5ECF6",
           "caxis": {
            "gridcolor": "white",
            "linecolor": "white",
            "ticks": ""
           }
          },
          "title": {
           "x": 0.05
          },
          "xaxis": {
           "automargin": true,
           "gridcolor": "white",
           "linecolor": "white",
           "ticks": "",
           "title": {
            "standoff": 15
           },
           "zerolinecolor": "white",
           "zerolinewidth": 2
          },
          "yaxis": {
           "automargin": true,
           "gridcolor": "white",
           "linecolor": "white",
           "ticks": "",
           "title": {
            "standoff": 15
           },
           "zerolinecolor": "white",
           "zerolinewidth": 2
          }
         }
        },
        "title": {
         "text": "Total Explained Variance: 99.48%"
        }
       }
      }
     },
     "metadata": {},
     "output_type": "display_data"
    }
   ],
   "source": [
    "pca = PCA(n_components=3)\n",
    "components = pca.fit_transform(X)\n",
    "\n",
    "total_var = pca.explained_variance_ratio_.sum() * 100\n",
    "\n",
    "fig = px.scatter_3d(\n",
    "    components, x=0, y=1, z=2, color=df['species'],\n",
    "    title=f'Total Explained Variance: {total_var:.2f}%',\n",
    "    labels={'0': 'PC 1', '1': 'PC 2', '2': 'PC 3'}\n",
    ")\n",
    "fig.show()"
   ]
  },
  {
   "cell_type": "code",
   "execution_count": null,
   "metadata": {},
   "outputs": [],
   "source": []
  }
 ],
 "metadata": {
  "interpreter": {
   "hash": "0606053452435824a427f0ea93d6ae20786397642025bcc66bfe96b66155d44b"
  },
  "kernelspec": {
   "display_name": "Python 3 (ipykernel)",
   "language": "python",
   "name": "python3"
  },
  "language_info": {
   "codemirror_mode": {
    "name": "ipython",
    "version": 3
   },
   "file_extension": ".py",
   "mimetype": "text/x-python",
   "name": "python",
   "nbconvert_exporter": "python",
   "pygments_lexer": "ipython3",
   "version": "3.9.7"
  }
 },
 "nbformat": 4,
 "nbformat_minor": 2
}
