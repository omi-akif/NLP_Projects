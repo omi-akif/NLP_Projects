{
 "cells": [
  {
   "cell_type": "code",
   "execution_count": 152,
   "metadata": {},
   "outputs": [],
   "source": [
    "from langdetect import detect\n",
    "import pandas as pd\n",
    "from googletrans import Translator\n",
    "import re"
   ]
  },
  {
   "cell_type": "code",
   "execution_count": 9,
   "metadata": {},
   "outputs": [],
   "source": [
    "chat_df = pd.read_csv(r'ChatDetailsDataset\\2022_08030809_CD.csv')"
   ]
  },
  {
   "cell_type": "code",
   "execution_count": 10,
   "metadata": {},
   "outputs": [],
   "source": [
    "question_type = ['KBS', 'SOP', 'AIML_BIZ', 'Garbage']\n",
    "\n",
    "chat_df1 = chat_df[chat_df['Enter Type'] == 'keyboard']\n",
    "\n",
    "chat_df2 = chat_df1[chat_df1['Question Type'].isin(question_type)]"
   ]
  },
  {
   "cell_type": "code",
   "execution_count": 11,
   "metadata": {},
   "outputs": [
    {
     "name": "stderr",
     "output_type": "stream",
     "text": [
      "C:\\Users\\Daraz\\AppData\\Local\\Temp/ipykernel_18172/3826755246.py:2: SettingWithCopyWarning: \n",
      "A value is trying to be set on a copy of a slice from a DataFrame\n",
      "\n",
      "See the caveats in the documentation: https://pandas.pydata.org/pandas-docs/stable/user_guide/indexing.html#returning-a-view-versus-a-copy\n",
      "  chat_df2.drop(labels = 'index', axis = 1, inplace=True)\n"
     ]
    }
   ],
   "source": [
    "chat_df2.reset_index(inplace=True)\n",
    "chat_df2.drop(labels = 'index', axis = 1, inplace=True)"
   ]
  },
  {
   "cell_type": "code",
   "execution_count": 12,
   "metadata": {},
   "outputs": [],
   "source": [
    "chat_df2_en = chat_df2[chat_df2['robot_name'] == 'BD-Daz-EN']\n",
    "chat_df2_lc = chat_df2[chat_df2['robot_name'] == 'BD-Daz-LC']"
   ]
  },
  {
   "cell_type": "code",
   "execution_count": 13,
   "metadata": {},
   "outputs": [
    {
     "data": {
      "text/plain": [
       "(11854, 42)"
      ]
     },
     "execution_count": 13,
     "metadata": {},
     "output_type": "execute_result"
    }
   ],
   "source": [
    "chat_df2_en.shape"
   ]
  },
  {
   "cell_type": "code",
   "execution_count": 14,
   "metadata": {},
   "outputs": [
    {
     "data": {
      "text/plain": [
       "(4307, 42)"
      ]
     },
     "execution_count": 14,
     "metadata": {},
     "output_type": "execute_result"
    }
   ],
   "source": [
    "chat_df2_lc.shape"
   ]
  },
  {
   "cell_type": "code",
   "execution_count": 28,
   "metadata": {},
   "outputs": [],
   "source": [
    "# no_answeer_df_en = chat_df2_en[chat_df2_en['is_session_last_no answer'] == 'Y']\n",
    "# no_answeer_df_lc = chat_df2_lc[chat_df2_lc['is_session_last_no answer'] == 'Y']\n",
    "no_answeer_df_en = chat_df2_en\n",
    "no_answeer_df_lc = chat_df2_lc"
   ]
  },
  {
   "cell_type": "code",
   "execution_count": 16,
   "metadata": {},
   "outputs": [
    {
     "data": {
      "text/plain": [
       "True"
      ]
     },
     "execution_count": 16,
     "metadata": {},
     "output_type": "execute_result"
    }
   ],
   "source": [
    "no_answeer_df_en['query'][1].isascii()"
   ]
  },
  {
   "cell_type": "code",
   "execution_count": 17,
   "metadata": {},
   "outputs": [
    {
     "name": "stderr",
     "output_type": "stream",
     "text": [
      "C:\\Users\\Daraz\\AppData\\Local\\Temp/ipykernel_18172/392042201.py:1: SettingWithCopyWarning: \n",
      "A value is trying to be set on a copy of a slice from a DataFrame.\n",
      "Try using .loc[row_indexer,col_indexer] = value instead\n",
      "\n",
      "See the caveats in the documentation: https://pandas.pydata.org/pandas-docs/stable/user_guide/indexing.html#returning-a-view-versus-a-copy\n",
      "  no_answeer_df_en['is_ascii'] = no_answeer_df_en['query'].apply(lambda x: x.isascii())\n",
      "C:\\Users\\Daraz\\AppData\\Local\\Temp/ipykernel_18172/392042201.py:2: SettingWithCopyWarning: \n",
      "A value is trying to be set on a copy of a slice from a DataFrame.\n",
      "Try using .loc[row_indexer,col_indexer] = value instead\n",
      "\n",
      "See the caveats in the documentation: https://pandas.pydata.org/pandas-docs/stable/user_guide/indexing.html#returning-a-view-versus-a-copy\n",
      "  no_answeer_df_lc['is_ascii'] = no_answeer_df_lc['query'].apply(lambda x: x.isascii())\n"
     ]
    }
   ],
   "source": [
    "no_answeer_df_en['is_ascii'] = no_answeer_df_en['query'].apply(lambda x: x.isascii())\n",
    "no_answeer_df_lc['is_ascii'] = no_answeer_df_lc['query'].apply(lambda x: x.isascii())"
   ]
  },
  {
   "cell_type": "markdown",
   "metadata": {},
   "source": [
    "#### Percentage of Local langauge in English Chatbot"
   ]
  },
  {
   "cell_type": "code",
   "execution_count": 18,
   "metadata": {},
   "outputs": [
    {
     "data": {
      "text/plain": [
       "18.921882908722797"
      ]
     },
     "execution_count": 18,
     "metadata": {},
     "output_type": "execute_result"
    }
   ],
   "source": [
    "lc_in_en = no_answeer_df_en[no_answeer_df_en['is_ascii'] == 0]['query'].count()\n",
    "(lc_in_en / chat_df2_en.shape[0]) * 100"
   ]
  },
  {
   "cell_type": "markdown",
   "metadata": {},
   "source": [
    "#### Percentage of English language in Local Chatbot"
   ]
  },
  {
   "cell_type": "code",
   "execution_count": 19,
   "metadata": {},
   "outputs": [
    {
     "data": {
      "text/plain": [
       "26.723937775713953"
      ]
     },
     "execution_count": 19,
     "metadata": {},
     "output_type": "execute_result"
    }
   ],
   "source": [
    "en_in_lc = no_answeer_df_lc[no_answeer_df_lc['is_ascii'] == 1]['query'].count()\n",
    "(en_in_lc / chat_df2_lc.shape[0]) * 100"
   ]
  },
  {
   "cell_type": "code",
   "execution_count": 153,
   "metadata": {},
   "outputs": [],
   "source": [
    "def trans_lang(text):\n",
    "\n",
    "    try: \n",
    "\n",
    "        trans_source = detect(text)\n",
    "\n",
    "        return trans_source\n",
    "\n",
    "    except:\n",
    "\n",
    "        translator = Translator()\n",
    "\n",
    "        trans_text = translator.translate(text)\n",
    "\n",
    "        trans_src = trans_text.src\n",
    "\n",
    "        return\n",
    "\n",
    "\n",
    "# try:\n",
    "    \n",
    "\n",
    "def trans(text):\n",
    "\n",
    "    translator = Translator()\n",
    "\n",
    "    trans_text = translator.translate(text)\n",
    "\n",
    "    trans_src = trans_text.src\n",
    "\n",
    "    return trans_src"
   ]
  },
  {
   "cell_type": "code",
   "execution_count": 21,
   "metadata": {},
   "outputs": [
    {
     "name": "stderr",
     "output_type": "stream",
     "text": [
      "C:\\Users\\Daraz\\AppData\\Local\\Temp/ipykernel_18172/3661203772.py:1: SettingWithCopyWarning: \n",
      "A value is trying to be set on a copy of a slice from a DataFrame.\n",
      "Try using .loc[row_indexer,col_indexer] = value instead\n",
      "\n",
      "See the caveats in the documentation: https://pandas.pydata.org/pandas-docs/stable/user_guide/indexing.html#returning-a-view-versus-a-copy\n",
      "  no_answeer_df_en['lang'] = no_answeer_df_en[no_answeer_df_en['is_ascii'] == 1]['query'].apply(lambda x : trans_lang(x))\n"
     ]
    }
   ],
   "source": [
    "no_answeer_df_en['lang'] = no_answeer_df_en[no_answeer_df_en['is_ascii'] == 1]['query'].apply(lambda x : trans_lang(x))"
   ]
  },
  {
   "cell_type": "code",
   "execution_count": 130,
   "metadata": {},
   "outputs": [
    {
     "data": {
      "text/plain": [
       "bn    176\n",
       "id      1\n",
       "Name: lang, dtype: int64"
      ]
     },
     "execution_count": 130,
     "metadata": {},
     "output_type": "execute_result"
    }
   ],
   "source": [
    "no_answeer_df_lc['lang'].value_counts()"
   ]
  },
  {
   "cell_type": "code",
   "execution_count": 178,
   "metadata": {},
   "outputs": [],
   "source": [
    "no_answeer_df_en_sample = no_answeer_df_lc.sample(n = 250, replace=True, random_state=10)\n"
   ]
  },
  {
   "cell_type": "code",
   "execution_count": 179,
   "metadata": {},
   "outputs": [
    {
     "data": {
      "text/plain": [
       "bn    176\n",
       "id      1\n",
       "Name: lang, dtype: int64"
      ]
     },
     "execution_count": 179,
     "metadata": {},
     "output_type": "execute_result"
    }
   ],
   "source": [
    "no_answeer_df_en_sample['lang'].value_counts()"
   ]
  },
  {
   "cell_type": "code",
   "execution_count": 180,
   "metadata": {},
   "outputs": [
    {
     "data": {
      "text/html": [
       "<div>\n",
       "<style scoped>\n",
       "    .dataframe tbody tr th:only-of-type {\n",
       "        vertical-align: middle;\n",
       "    }\n",
       "\n",
       "    .dataframe tbody tr th {\n",
       "        vertical-align: top;\n",
       "    }\n",
       "\n",
       "    .dataframe thead th {\n",
       "        text-align: right;\n",
       "    }\n",
       "</style>\n",
       "<table border=\"1\" class=\"dataframe\">\n",
       "  <thead>\n",
       "    <tr style=\"text-align: right;\">\n",
       "      <th></th>\n",
       "      <th>Create Date</th>\n",
       "      <th>tenant_name</th>\n",
       "      <th>robot_code</th>\n",
       "      <th>robot_name</th>\n",
       "      <th>from_id</th>\n",
       "      <th>from_name</th>\n",
       "      <th>Session_id</th>\n",
       "      <th>Intention</th>\n",
       "      <th>user_id</th>\n",
       "      <th>Seller id (X-space)</th>\n",
       "      <th>...</th>\n",
       "      <th>is_chat_pre/post match</th>\n",
       "      <th>live agent_session_id</th>\n",
       "      <th>Last Query Before Live Agent Session</th>\n",
       "      <th>Live Agent User Query</th>\n",
       "      <th>Live Agent Response</th>\n",
       "      <th>Feedback Type</th>\n",
       "      <th>Unsatisfied Reason</th>\n",
       "      <th>is_ascii</th>\n",
       "      <th>lang</th>\n",
       "      <th>lang_2</th>\n",
       "    </tr>\n",
       "  </thead>\n",
       "  <tbody>\n",
       "    <tr>\n",
       "      <th>12161</th>\n",
       "      <td>2022-08-04 00:00:00</td>\n",
       "      <td>Alime-DRZ-CC-BD</td>\n",
       "      <td>03thkMNkQ3</td>\n",
       "      <td>BD-Daz-LC</td>\n",
       "      <td>zpojXywwrn</td>\n",
       "      <td>BD-Daz-LC-DD-App</td>\n",
       "      <td>76b2efd87f7542a3ab8e12c57bccb44d</td>\n",
       "      <td>route_daraz_others</td>\n",
       "      <td>2101100086183690</td>\n",
       "      <td>7.005134e+11</td>\n",
       "      <td>...</td>\n",
       "      <td>N</td>\n",
       "      <td>NaN</td>\n",
       "      <td>NaN</td>\n",
       "      <td>NaN</td>\n",
       "      <td>NaN</td>\n",
       "      <td>NaN</td>\n",
       "      <td>NaN</td>\n",
       "      <td>False</td>\n",
       "      <td>bn</td>\n",
       "      <td>bn</td>\n",
       "    </tr>\n",
       "    <tr>\n",
       "      <th>3618</th>\n",
       "      <td>2022-08-06 00:00:00</td>\n",
       "      <td>Alime-DRZ-CC-BD</td>\n",
       "      <td>03thkMNkQ3</td>\n",
       "      <td>BD-Daz-LC</td>\n",
       "      <td>T0Bc8Nk94E</td>\n",
       "      <td>BD-Daz-LC-HC-App</td>\n",
       "      <td>49d828c8c2b74ae09b73cff72f5bd7d3</td>\n",
       "      <td>route_daraz_others</td>\n",
       "      <td>2101100085970139</td>\n",
       "      <td>7.005161e+11</td>\n",
       "      <td>...</td>\n",
       "      <td>N</td>\n",
       "      <td>NaN</td>\n",
       "      <td>NaN</td>\n",
       "      <td>NaN</td>\n",
       "      <td>NaN</td>\n",
       "      <td>NaN</td>\n",
       "      <td>NaN</td>\n",
       "      <td>False</td>\n",
       "      <td>bn</td>\n",
       "      <td>bn</td>\n",
       "    </tr>\n",
       "  </tbody>\n",
       "</table>\n",
       "<p>2 rows × 45 columns</p>\n",
       "</div>"
      ],
      "text/plain": [
       "               Create Date      tenant_name  robot_code robot_name  \\\n",
       "12161  2022-08-04 00:00:00  Alime-DRZ-CC-BD  03thkMNkQ3  BD-Daz-LC   \n",
       "3618   2022-08-06 00:00:00  Alime-DRZ-CC-BD  03thkMNkQ3  BD-Daz-LC   \n",
       "\n",
       "          from_id         from_name                        Session_id  \\\n",
       "12161  zpojXywwrn  BD-Daz-LC-DD-App  76b2efd87f7542a3ab8e12c57bccb44d   \n",
       "3618   T0Bc8Nk94E  BD-Daz-LC-HC-App  49d828c8c2b74ae09b73cff72f5bd7d3   \n",
       "\n",
       "                Intention           user_id  Seller id (X-space)  ...  \\\n",
       "12161  route_daraz_others  2101100086183690         7.005134e+11  ...   \n",
       "3618   route_daraz_others  2101100085970139         7.005161e+11  ...   \n",
       "\n",
       "      is_chat_pre/post match live agent_session_id  \\\n",
       "12161                      N                   NaN   \n",
       "3618                       N                   NaN   \n",
       "\n",
       "      Last Query Before Live Agent Session Live Agent User Query  \\\n",
       "12161                                  NaN                   NaN   \n",
       "3618                                   NaN                   NaN   \n",
       "\n",
       "      Live Agent Response Feedback Type Unsatisfied Reason is_ascii  lang  \\\n",
       "12161                 NaN           NaN                NaN    False    bn   \n",
       "3618                  NaN           NaN                NaN    False    bn   \n",
       "\n",
       "      lang_2  \n",
       "12161     bn  \n",
       "3618      bn  \n",
       "\n",
       "[2 rows x 45 columns]"
      ]
     },
     "execution_count": 180,
     "metadata": {},
     "output_type": "execute_result"
    }
   ],
   "source": [
    "no_answeer_df_en_sample.head(2)"
   ]
  },
  {
   "cell_type": "code",
   "execution_count": 181,
   "metadata": {},
   "outputs": [],
   "source": [
    "no_answeer_df_en_sample['lang'] = no_answeer_df_en_sample['query'].apply(lambda x : trans(x))"
   ]
  },
  {
   "cell_type": "code",
   "execution_count": 183,
   "metadata": {},
   "outputs": [
    {
     "data": {
      "text/plain": [
       "bn     224\n",
       "en      18\n",
       "mt       2\n",
       "ja       1\n",
       "tl       1\n",
       "sv       1\n",
       "kri      1\n",
       "is       1\n",
       "as       1\n",
       "Name: lang, dtype: int64"
      ]
     },
     "execution_count": 183,
     "metadata": {},
     "output_type": "execute_result"
    }
   ],
   "source": [
    "no_answeer_df_en_sample['lang'].value_counts()"
   ]
  },
  {
   "cell_type": "code",
   "execution_count": 184,
   "metadata": {},
   "outputs": [],
   "source": [
    "no_answeer_df_en_sample_lc = no_answeer_df_en_sample[no_answeer_df_en_sample['lang'] == 'bn']"
   ]
  },
  {
   "cell_type": "code",
   "execution_count": 185,
   "metadata": {},
   "outputs": [
    {
     "name": "stderr",
     "output_type": "stream",
     "text": [
      "C:\\Users\\Daraz\\AppData\\Local\\Temp/ipykernel_18172/1962898896.py:1: SettingWithCopyWarning: \n",
      "A value is trying to be set on a copy of a slice from a DataFrame.\n",
      "Try using .loc[row_indexer,col_indexer] = value instead\n",
      "\n",
      "See the caveats in the documentation: https://pandas.pydata.org/pandas-docs/stable/user_guide/indexing.html#returning-a-view-versus-a-copy\n",
      "  no_answeer_df_en_sample_lc['is_ascii'] = no_answeer_df_en_sample_lc['query'].apply(lambda x: x.isascii())\n"
     ]
    }
   ],
   "source": [
    "no_answeer_df_en_sample_lc['is_ascii'] = no_answeer_df_en_sample_lc['query'].apply(lambda x: x.isascii())"
   ]
  },
  {
   "cell_type": "code",
   "execution_count": 186,
   "metadata": {},
   "outputs": [
    {
     "data": {
      "text/plain": [
       "False    175\n",
       "True      49\n",
       "Name: is_ascii, dtype: int64"
      ]
     },
     "execution_count": 186,
     "metadata": {},
     "output_type": "execute_result"
    }
   ],
   "source": [
    "no_answeer_df_en_sample_lc['is_ascii'].value_counts()"
   ]
  },
  {
   "cell_type": "code",
   "execution_count": 116,
   "metadata": {},
   "outputs": [],
   "source": [
    "no_answeer_df_lc_sample = no_answeer_df_lc.sample(n = 250, replace=True, random_state=50)"
   ]
  },
  {
   "cell_type": "code",
   "execution_count": 117,
   "metadata": {},
   "outputs": [],
   "source": [
    "no_answeer_df_lc_sample['lang'] = no_answeer_df_lc_sample['query'].apply(lambda x : trans(x))"
   ]
  },
  {
   "cell_type": "code",
   "execution_count": 118,
   "metadata": {},
   "outputs": [
    {
     "data": {
      "text/html": [
       "<div>\n",
       "<style scoped>\n",
       "    .dataframe tbody tr th:only-of-type {\n",
       "        vertical-align: middle;\n",
       "    }\n",
       "\n",
       "    .dataframe tbody tr th {\n",
       "        vertical-align: top;\n",
       "    }\n",
       "\n",
       "    .dataframe thead th {\n",
       "        text-align: right;\n",
       "    }\n",
       "</style>\n",
       "<table border=\"1\" class=\"dataframe\">\n",
       "  <thead>\n",
       "    <tr style=\"text-align: right;\">\n",
       "      <th></th>\n",
       "      <th>Create Date</th>\n",
       "      <th>tenant_name</th>\n",
       "      <th>robot_code</th>\n",
       "      <th>robot_name</th>\n",
       "      <th>from_id</th>\n",
       "      <th>from_name</th>\n",
       "      <th>Session_id</th>\n",
       "      <th>Intention</th>\n",
       "      <th>user_id</th>\n",
       "      <th>Seller id (X-space)</th>\n",
       "      <th>...</th>\n",
       "      <th>is_chat_pre/post match</th>\n",
       "      <th>live agent_session_id</th>\n",
       "      <th>Last Query Before Live Agent Session</th>\n",
       "      <th>Live Agent User Query</th>\n",
       "      <th>Live Agent Response</th>\n",
       "      <th>Feedback Type</th>\n",
       "      <th>Unsatisfied Reason</th>\n",
       "      <th>is_ascii</th>\n",
       "      <th>lang</th>\n",
       "      <th>lang_2</th>\n",
       "    </tr>\n",
       "  </thead>\n",
       "  <tbody>\n",
       "    <tr>\n",
       "      <th>3229</th>\n",
       "      <td>2022-08-07 00:00:00</td>\n",
       "      <td>Alime-DRZ-CC-BD</td>\n",
       "      <td>03thkMNkQ3</td>\n",
       "      <td>BD-Daz-LC</td>\n",
       "      <td>zpojXywwrn</td>\n",
       "      <td>BD-Daz-LC-DD-App</td>\n",
       "      <td>90b916c14d114bff86162fbbad3f583b</td>\n",
       "      <td>route_daraz_others</td>\n",
       "      <td>2101100084221289</td>\n",
       "      <td>7.000413e+11</td>\n",
       "      <td>...</td>\n",
       "      <td>N</td>\n",
       "      <td>NaN</td>\n",
       "      <td>NaN</td>\n",
       "      <td>NaN</td>\n",
       "      <td>NaN</td>\n",
       "      <td>SATISFIED</td>\n",
       "      <td>NaN</td>\n",
       "      <td>False</td>\n",
       "      <td>bn</td>\n",
       "      <td>bn</td>\n",
       "    </tr>\n",
       "    <tr>\n",
       "      <th>13656</th>\n",
       "      <td>2022-08-05 00:00:00</td>\n",
       "      <td>Alime-DRZ-CC-BD</td>\n",
       "      <td>03thkMNkQ3</td>\n",
       "      <td>BD-Daz-LC</td>\n",
       "      <td>zpojXywwrn</td>\n",
       "      <td>BD-Daz-LC-DD-App</td>\n",
       "      <td>3052a42b230c4a6f8bd7e26d6f62c1eb</td>\n",
       "      <td>route_daraz_others</td>\n",
       "      <td>2101100081629050</td>\n",
       "      <td>7.005152e+11</td>\n",
       "      <td>...</td>\n",
       "      <td>N</td>\n",
       "      <td>NaN</td>\n",
       "      <td>NaN</td>\n",
       "      <td>NaN</td>\n",
       "      <td>NaN</td>\n",
       "      <td>NaN</td>\n",
       "      <td>NaN</td>\n",
       "      <td>True</td>\n",
       "      <td>bn</td>\n",
       "      <td>NaN</td>\n",
       "    </tr>\n",
       "  </tbody>\n",
       "</table>\n",
       "<p>2 rows × 45 columns</p>\n",
       "</div>"
      ],
      "text/plain": [
       "               Create Date      tenant_name  robot_code robot_name  \\\n",
       "3229   2022-08-07 00:00:00  Alime-DRZ-CC-BD  03thkMNkQ3  BD-Daz-LC   \n",
       "13656  2022-08-05 00:00:00  Alime-DRZ-CC-BD  03thkMNkQ3  BD-Daz-LC   \n",
       "\n",
       "          from_id         from_name                        Session_id  \\\n",
       "3229   zpojXywwrn  BD-Daz-LC-DD-App  90b916c14d114bff86162fbbad3f583b   \n",
       "13656  zpojXywwrn  BD-Daz-LC-DD-App  3052a42b230c4a6f8bd7e26d6f62c1eb   \n",
       "\n",
       "                Intention           user_id  Seller id (X-space)  ...  \\\n",
       "3229   route_daraz_others  2101100084221289         7.000413e+11  ...   \n",
       "13656  route_daraz_others  2101100081629050         7.005152e+11  ...   \n",
       "\n",
       "      is_chat_pre/post match live agent_session_id  \\\n",
       "3229                       N                   NaN   \n",
       "13656                      N                   NaN   \n",
       "\n",
       "      Last Query Before Live Agent Session Live Agent User Query  \\\n",
       "3229                                   NaN                   NaN   \n",
       "13656                                  NaN                   NaN   \n",
       "\n",
       "      Live Agent Response Feedback Type Unsatisfied Reason is_ascii  lang  \\\n",
       "3229                  NaN     SATISFIED                NaN    False    bn   \n",
       "13656                 NaN           NaN                NaN     True    bn   \n",
       "\n",
       "      lang_2  \n",
       "3229      bn  \n",
       "13656    NaN  \n",
       "\n",
       "[2 rows x 45 columns]"
      ]
     },
     "execution_count": 118,
     "metadata": {},
     "output_type": "execute_result"
    }
   ],
   "source": [
    "no_answeer_df_lc_sample.head(2)"
   ]
  },
  {
   "cell_type": "code",
   "execution_count": 121,
   "metadata": {},
   "outputs": [
    {
     "data": {
      "text/plain": [
       "bn     215\n",
       "en      20\n",
       "sv       3\n",
       "tl       3\n",
       "gu       2\n",
       "de       2\n",
       "is       1\n",
       "as       1\n",
       "ja       1\n",
       "mt       1\n",
       "kri      1\n",
       "Name: lang, dtype: int64"
      ]
     },
     "execution_count": 121,
     "metadata": {},
     "output_type": "execute_result"
    }
   ],
   "source": [
    "no_answeer_df_lc_sample['lang'].value_counts()"
   ]
  },
  {
   "cell_type": "code",
   "execution_count": 124,
   "metadata": {},
   "outputs": [],
   "source": [
    "no_answeer_df_lc_sample_en = no_answeer_df_lc_sample[no_answeer_df_lc_sample['lang'] == 'bn']"
   ]
  },
  {
   "cell_type": "code",
   "execution_count": 125,
   "metadata": {},
   "outputs": [
    {
     "name": "stderr",
     "output_type": "stream",
     "text": [
      "C:\\Users\\Daraz\\AppData\\Local\\Temp/ipykernel_18172/1086151027.py:1: SettingWithCopyWarning: \n",
      "A value is trying to be set on a copy of a slice from a DataFrame.\n",
      "Try using .loc[row_indexer,col_indexer] = value instead\n",
      "\n",
      "See the caveats in the documentation: https://pandas.pydata.org/pandas-docs/stable/user_guide/indexing.html#returning-a-view-versus-a-copy\n",
      "  no_answeer_df_lc_sample_en['is_ascii'] = no_answeer_df_lc_sample_en['query'].apply(lambda x: x.isascii())\n"
     ]
    }
   ],
   "source": [
    "no_answeer_df_lc_sample_en['is_ascii'] = no_answeer_df_lc_sample_en['query'].apply(lambda x: x.isascii())\n",
    "\n",
    "# no_answeer_df_lc_sample_en"
   ]
  },
  {
   "cell_type": "code",
   "execution_count": 126,
   "metadata": {},
   "outputs": [
    {
     "data": {
      "text/plain": [
       "False    173\n",
       "True      42\n",
       "Name: is_ascii, dtype: int64"
      ]
     },
     "execution_count": 126,
     "metadata": {},
     "output_type": "execute_result"
    }
   ],
   "source": [
    "no_answeer_df_lc_sample_en['is_ascii'].value_counts()"
   ]
  },
  {
   "cell_type": "code",
   "execution_count": null,
   "metadata": {},
   "outputs": [],
   "source": [
    "no_answeer_df_lc['lang_2'] = no_answeer_df_lc['query'].apply(lambda x : trans(x))"
   ]
  },
  {
   "cell_type": "code",
   "execution_count": null,
   "metadata": {},
   "outputs": [],
   "source": [
    "no_answeer_df_en['lang_2'] = no_answeer_df_en['']"
   ]
  },
  {
   "cell_type": "code",
   "execution_count": null,
   "metadata": {},
   "outputs": [],
   "source": []
  },
  {
   "cell_type": "code",
   "execution_count": 23,
   "metadata": {},
   "outputs": [],
   "source": [
    "no_answeer_df_en.to_csv('EN_Chatbot_lang_detect.csv')"
   ]
  },
  {
   "cell_type": "code",
   "execution_count": 30,
   "metadata": {},
   "outputs": [],
   "source": [
    "df2 = pd.read_csv('EN_Chatbot_lang_detect.csv')"
   ]
  },
  {
   "cell_type": "code",
   "execution_count": 34,
   "metadata": {},
   "outputs": [
    {
     "data": {
      "text/plain": [
       "en    4562\n",
       "de     672\n",
       "so     479\n",
       "sl     279\n",
       "da     278\n",
       "id     275\n",
       "it     245\n",
       "nl     218\n",
       "tl     193\n",
       "no     183\n",
       "sw     166\n",
       "fr     138\n",
       "ro     135\n",
       "sq     133\n",
       "hr     128\n",
       "sv     114\n",
       "cy     108\n",
       "tr     107\n",
       "ca     106\n",
       "es      92\n",
       "et      90\n",
       "fi      85\n",
       "af      78\n",
       "vi      66\n",
       "hu      63\n",
       "pt      61\n",
       "sk      55\n",
       "pl      50\n",
       "lt      26\n",
       "cs      24\n",
       "lv      17\n",
       "Name: lang, dtype: int64"
      ]
     },
     "execution_count": 34,
     "metadata": {},
     "output_type": "execute_result"
    }
   ],
   "source": [
    "df2['lang'].value_counts()\n"
   ]
  },
  {
   "cell_type": "code",
   "execution_count": 24,
   "metadata": {},
   "outputs": [
    {
     "name": "stderr",
     "output_type": "stream",
     "text": [
      "C:\\Users\\Daraz\\AppData\\Local\\Temp/ipykernel_18172/3149809055.py:1: SettingWithCopyWarning: \n",
      "A value is trying to be set on a copy of a slice from a DataFrame.\n",
      "Try using .loc[row_indexer,col_indexer] = value instead\n",
      "\n",
      "See the caveats in the documentation: https://pandas.pydata.org/pandas-docs/stable/user_guide/indexing.html#returning-a-view-versus-a-copy\n",
      "  no_answeer_df_lc['lang'] = no_answeer_df_lc[no_answeer_df_lc['is_ascii'] == 0]['query'].apply(lambda x : trans_lang(x))\n"
     ]
    }
   ],
   "source": [
    "no_answeer_df_lc['lang'] = no_answeer_df_lc[no_answeer_df_lc['is_ascii'] == 0]['query'].apply(lambda x : trans_lang(x))"
   ]
  },
  {
   "cell_type": "code",
   "execution_count": 25,
   "metadata": {},
   "outputs": [
    {
     "name": "stderr",
     "output_type": "stream",
     "text": [
      "C:\\Users\\Daraz\\AppData\\Local\\Temp/ipykernel_18172/2993996170.py:1: SettingWithCopyWarning: \n",
      "A value is trying to be set on a copy of a slice from a DataFrame.\n",
      "Try using .loc[row_indexer,col_indexer] = value instead\n",
      "\n",
      "See the caveats in the documentation: https://pandas.pydata.org/pandas-docs/stable/user_guide/indexing.html#returning-a-view-versus-a-copy\n",
      "  no_answeer_df_lc['lang_2'] = no_answeer_df_lc[no_answeer_df_lc['is_ascii'] == 0]['query'].apply(lambda x : trans_lang(x))\n"
     ]
    }
   ],
   "source": [
    "no_answeer_df_lc['lang_2'] = no_answeer_df_lc[no_answeer_df_lc['is_ascii'] == 0]['query'].apply(lambda x : trans_lang(x))"
   ]
  },
  {
   "cell_type": "code",
   "execution_count": 26,
   "metadata": {},
   "outputs": [],
   "source": [
    "no_answeer_df_lc.to_csv('LC_Chatbot_lang_detect.csv')"
   ]
  },
  {
   "cell_type": "code",
   "execution_count": null,
   "metadata": {},
   "outputs": [
    {
     "name": "stderr",
     "output_type": "stream",
     "text": [
      "C:\\Users\\Daraz\\AppData\\Local\\Temp/ipykernel_828/2484925040.py:1: SettingWithCopyWarning: \n",
      "A value is trying to be set on a copy of a slice from a DataFrame.\n",
      "Try using .loc[row_indexer,col_indexer] = value instead\n",
      "\n",
      "See the caveats in the documentation: https://pandas.pydata.org/pandas-docs/stable/user_guide/indexing.html#returning-a-view-versus-a-copy\n",
      "  no_answeer_df_en['lang'] = no_answeer_df_en['query'].apply(lambda x : trans_lang(x))\n",
      "C:\\Users\\Daraz\\AppData\\Local\\Temp/ipykernel_828/2484925040.py:3: SettingWithCopyWarning: \n",
      "A value is trying to be set on a copy of a slice from a DataFrame.\n",
      "Try using .loc[row_indexer,col_indexer] = value instead\n",
      "\n",
      "See the caveats in the documentation: https://pandas.pydata.org/pandas-docs/stable/user_guide/indexing.html#returning-a-view-versus-a-copy\n",
      "  no_answeer_df_lc['lang'] = no_answeer_df_lc['query'].apply(lambda x : trans_lang(x))\n"
     ]
    }
   ],
   "source": [
    "no_answeer_df_en['lang'] = no_answeer_df_en['query'].apply(lambda x : trans_lang(x))\n",
    "\n",
    "no_answeer_df_lc['lang'] = no_answeer_df_lc['query'].apply(lambda x : trans_lang(x))"
   ]
  },
  {
   "cell_type": "code",
   "execution_count": null,
   "metadata": {},
   "outputs": [
    {
     "data": {
      "text/plain": [
       "en    4694\n",
       "bn    1873\n",
       "de     661\n",
       "so     470\n",
       "sl     294\n",
       "da     283\n",
       "id     280\n",
       "it     256\n",
       "nl     224\n",
       "no     196\n",
       "tl     196\n",
       "sw     165\n",
       "fr     143\n",
       "ro     137\n",
       "sq     129\n",
       "hr     127\n",
       "sv     112\n",
       "ca     112\n",
       "cy     109\n",
       "es     101\n",
       "tr     101\n",
       "et      85\n",
       "fi      84\n",
       "af      82\n",
       "hu      66\n",
       "vi      63\n",
       "sk      58\n",
       "pt      58\n",
       "pl      57\n",
       "cs      32\n",
       "lt      25\n",
       "lv      19\n",
       "ne       3\n",
       "ar       1\n",
       "ru       1\n",
       "bg       1\n",
       "ko       1\n",
       "Name: lang, dtype: int64"
      ]
     },
     "execution_count": 12,
     "metadata": {},
     "output_type": "execute_result"
    }
   ],
   "source": [
    "no_answeer_df_en['lang'].value_counts()"
   ]
  },
  {
   "cell_type": "code",
   "execution_count": null,
   "metadata": {},
   "outputs": [
    {
     "data": {
      "text/plain": [
       "bn    3087\n",
       "en     244\n",
       "sl     103\n",
       "de     102\n",
       "id      99\n",
       "da      71\n",
       "no      50\n",
       "tl      46\n",
       "it      38\n",
       "sv      37\n",
       "tr      36\n",
       "so      30\n",
       "et      26\n",
       "sw      23\n",
       "sq      23\n",
       "af      20\n",
       "sk      17\n",
       "ro      17\n",
       "hr      15\n",
       "fi      14\n",
       "cy      13\n",
       "pt      12\n",
       "nl      12\n",
       "lt      11\n",
       "vi       9\n",
       "hu       9\n",
       "ca       8\n",
       "pl       6\n",
       "es       6\n",
       "fr       4\n",
       "cs       3\n",
       "lv       3\n",
       "Name: lang, dtype: int64"
      ]
     },
     "execution_count": 15,
     "metadata": {},
     "output_type": "execute_result"
    }
   ],
   "source": [
    "no_answeer_df_lc['lang'].value_counts()"
   ]
  },
  {
   "cell_type": "code",
   "execution_count": null,
   "metadata": {},
   "outputs": [],
   "source": [
    "# no_answeer_df_en['lang'] = no_answeer_df_en['query'].apply(lambda x : detect(x))\n",
    "\n",
    "# no_answeer_df_lc['lang'] = no_answeer_df_lc['query'].apply(lambda x : detect(x))\n"
   ]
  },
  {
   "cell_type": "code",
   "execution_count": null,
   "metadata": {},
   "outputs": [
    {
     "data": {
      "text/plain": [
       "Series([], dtype: float64)"
      ]
     },
     "execution_count": 11,
     "metadata": {},
     "output_type": "execute_result"
    }
   ],
   "source": [
    "no_answeer_df_en.value_counts(normalize = True)"
   ]
  },
  {
   "cell_type": "code",
   "execution_count": null,
   "metadata": {},
   "outputs": [
    {
     "data": {
      "text/plain": [
       "Series([], dtype: float64)"
      ]
     },
     "execution_count": 12,
     "metadata": {},
     "output_type": "execute_result"
    }
   ],
   "source": [
    "no_answeer_df_lc.value_counts(normalize = True)"
   ]
  },
  {
   "cell_type": "code",
   "execution_count": null,
   "metadata": {},
   "outputs": [],
   "source": []
  }
 ],
 "metadata": {
  "kernelspec": {
   "display_name": "Python 3.9.7 ('base')",
   "language": "python",
   "name": "python3"
  },
  "language_info": {
   "codemirror_mode": {
    "name": "ipython",
    "version": 3
   },
   "file_extension": ".py",
   "mimetype": "text/x-python",
   "name": "python",
   "nbconvert_exporter": "python",
   "pygments_lexer": "ipython3",
   "version": "3.9.7"
  },
  "orig_nbformat": 4,
  "vscode": {
   "interpreter": {
    "hash": "0606053452435824a427f0ea93d6ae20786397642025bcc66bfe96b66155d44b"
   }
  }
 },
 "nbformat": 4,
 "nbformat_minor": 2
}
