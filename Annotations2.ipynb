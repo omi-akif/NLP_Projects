{
 "cells": [
  {
   "cell_type": "code",
   "execution_count": 1,
   "metadata": {},
   "outputs": [],
   "source": [
    "import ipywidgets as widgets\n",
    "import pandas as pd"
   ]
  },
  {
   "cell_type": "code",
   "execution_count": 2,
   "metadata": {},
   "outputs": [],
   "source": [
    "AnnotationsDF = pd.read_csv(r'C:\\Users\\Daraz\\Downloads\\Testing_widgets.csv')"
   ]
  },
  {
   "cell_type": "code",
   "execution_count": 3,
   "metadata": {},
   "outputs": [
    {
     "data": {
      "text/html": [
       "<div>\n",
       "<style scoped>\n",
       "    .dataframe tbody tr th:only-of-type {\n",
       "        vertical-align: middle;\n",
       "    }\n",
       "\n",
       "    .dataframe tbody tr th {\n",
       "        vertical-align: top;\n",
       "    }\n",
       "\n",
       "    .dataframe thead th {\n",
       "        text-align: right;\n",
       "    }\n",
       "</style>\n",
       "<table border=\"1\" class=\"dataframe\">\n",
       "  <thead>\n",
       "    <tr style=\"text-align: right;\">\n",
       "      <th></th>\n",
       "      <th>question</th>\n",
       "      <th>knowledge_title</th>\n",
       "      <th>IsCorrect</th>\n",
       "      <th>standard_knowledge_title</th>\n",
       "      <th>error_type</th>\n",
       "    </tr>\n",
       "  </thead>\n",
       "  <tbody>\n",
       "    <tr>\n",
       "      <th>0</th>\n",
       "      <td>jokhon amar ordar kora jinis nia asben ...</td>\n",
       "      <td>Delivery dewer jonno phn korecilo but kothay g...</td>\n",
       "      <td>NaN</td>\n",
       "      <td>Delivery purbe ki jogajog kora hobe</td>\n",
       "      <td>NaN</td>\n",
       "    </tr>\n",
       "  </tbody>\n",
       "</table>\n",
       "</div>"
      ],
      "text/plain": [
       "                                            question  \\\n",
       "0         jokhon amar ordar kora jinis nia asben ...   \n",
       "\n",
       "                                     knowledge_title IsCorrect  \\\n",
       "0  Delivery dewer jonno phn korecilo but kothay g...       NaN   \n",
       "\n",
       "              standard_knowledge_title error_type  \n",
       "0  Delivery purbe ki jogajog kora hobe        NaN  "
      ]
     },
     "execution_count": 3,
     "metadata": {},
     "output_type": "execute_result"
    }
   ],
   "source": [
    "AnnotationsDF.head(1)"
   ]
  },
  {
   "cell_type": "code",
   "execution_count": 4,
   "metadata": {},
   "outputs": [],
   "source": [
    "AnnotationsDF = AnnotationsDF.rename(columns={'question': 'query','knowledge_title' : 'similar question'})"
   ]
  },
  {
   "cell_type": "code",
   "execution_count": 5,
   "metadata": {},
   "outputs": [],
   "source": [
    "Query = AnnotationsDF[['query', 'similar question', 'standard_knowledge_title']]"
   ]
  },
  {
   "cell_type": "code",
   "execution_count": 6,
   "metadata": {},
   "outputs": [
    {
     "data": {
      "text/html": [
       "<div>\n",
       "<style scoped>\n",
       "    .dataframe tbody tr th:only-of-type {\n",
       "        vertical-align: middle;\n",
       "    }\n",
       "\n",
       "    .dataframe tbody tr th {\n",
       "        vertical-align: top;\n",
       "    }\n",
       "\n",
       "    .dataframe thead th {\n",
       "        text-align: right;\n",
       "    }\n",
       "</style>\n",
       "<table border=\"1\" class=\"dataframe\">\n",
       "  <thead>\n",
       "    <tr style=\"text-align: right;\">\n",
       "      <th></th>\n",
       "      <th>query</th>\n",
       "      <th>similar question</th>\n",
       "      <th>standard_knowledge_title</th>\n",
       "    </tr>\n",
       "  </thead>\n",
       "  <tbody>\n",
       "    <tr>\n",
       "      <th>0</th>\n",
       "      <td>jokhon amar ordar kora jinis nia asben ...</td>\n",
       "      <td>Delivery dewer jonno phn korecilo but kothay g...</td>\n",
       "      <td>Delivery purbe ki jogajog kora hobe</td>\n",
       "    </tr>\n",
       "    <tr>\n",
       "      <th>1</th>\n",
       "      <td>পূনের চেয়ে যদি ডেলিভারি চাজ এ বেশি হয় ত...</td>\n",
       "      <td>sir amr sofa ti khub drkar chilo apni ektu try...</td>\n",
       "      <td>Daraz ki home delivery kore</td>\n",
       "    </tr>\n",
       "    <tr>\n",
       "      <th>2</th>\n",
       "      <td>আমার টাকা এখনো জমা করেন নাই</td>\n",
       "      <td>Amar product ta track kora jaccena kno</td>\n",
       "      <td>Amar order kibhabe track korte parbo</td>\n",
       "    </tr>\n",
       "  </tbody>\n",
       "</table>\n",
       "</div>"
      ],
      "text/plain": [
       "                                               query  \\\n",
       "0         jokhon amar ordar kora jinis nia asben ...   \n",
       "1         পূনের চেয়ে যদি ডেলিভারি চাজ এ বেশি হয় ত...   \n",
       "2                       আমার টাকা এখনো জমা করেন নাই    \n",
       "\n",
       "                                    similar question  \\\n",
       "0  Delivery dewer jonno phn korecilo but kothay g...   \n",
       "1  sir amr sofa ti khub drkar chilo apni ektu try...   \n",
       "2             Amar product ta track kora jaccena kno   \n",
       "\n",
       "               standard_knowledge_title  \n",
       "0   Delivery purbe ki jogajog kora hobe  \n",
       "1           Daraz ki home delivery kore  \n",
       "2  Amar order kibhabe track korte parbo  "
      ]
     },
     "execution_count": 6,
     "metadata": {},
     "output_type": "execute_result"
    }
   ],
   "source": [
    "Query.head(3)"
   ]
  },
  {
   "cell_type": "code",
   "execution_count": 7,
   "metadata": {},
   "outputs": [],
   "source": [
    "QueryN = Query.iloc[0]"
   ]
  },
  {
   "cell_type": "code",
   "execution_count": 8,
   "metadata": {},
   "outputs": [],
   "source": [
    "items = [widgets.Label(i) for i in QueryN]\n",
    "single_row =  widgets.VBox([items[0], items[1], items[2]])\n"
   ]
  },
  {
   "cell_type": "code",
   "execution_count": 9,
   "metadata": {},
   "outputs": [
    {
     "data": {
      "application/vnd.jupyter.widget-view+json": {
       "model_id": "ca30b4da5ca5447daf5d092097f8ed3d",
       "version_major": 2,
       "version_minor": 0
      },
      "text/plain": [
       "VBox(children=(Label(value='       jokhon amar ordar kora jinis nia asben tokhon 01720473203 ay number a phn d…"
      ]
     },
     "metadata": {},
     "output_type": "display_data"
    }
   ],
   "source": [
    "display(single_row)"
   ]
  },
  {
   "cell_type": "code",
   "execution_count": 10,
   "metadata": {},
   "outputs": [
    {
     "data": {
      "application/vnd.jupyter.widget-view+json": {
       "model_id": "fdb23087f000465e9d0ba90a5a306913",
       "version_major": 2,
       "version_minor": 0
      },
      "text/plain": [
       "ToggleButtons(description='Speed:', options=('Slow', 'Regular', 'Fast'), tooltips=('Description of slow', 'Des…"
      ]
     },
     "metadata": {},
     "output_type": "display_data"
    }
   ],
   "source": [
    "widgets.ToggleButtons(\n",
    "    options=['Slow', 'Regular', 'Fast'],\n",
    "    description='Speed:',\n",
    "    disabled=False,\n",
    "    button_style='', # 'success', 'info', 'warning', 'danger' or ''\n",
    "    tooltips=['Description of slow', 'Description of regular', 'Description of fast'],\n",
    "#     icons=['check'] * 3\n",
    ")"
   ]
  },
  {
   "cell_type": "code",
   "execution_count": 11,
   "metadata": {},
   "outputs": [],
   "source": [
    "def disp(x) :\n",
    "\n",
    "    QueryN = Query.iloc[x]\n",
    "    items = [widgets.Label(i) for i in QueryN]\n",
    "    single_row  = widgets.VBox([items[0], items[1], items[2]])\n",
    "    display(single_row)"
   ]
  },
  {
   "cell_type": "code",
   "execution_count": null,
   "metadata": {},
   "outputs": [],
   "source": []
  },
  {
   "cell_type": "code",
   "execution_count": 12,
   "metadata": {},
   "outputs": [
    {
     "data": {
      "application/vnd.jupyter.widget-view+json": {
       "model_id": "06c998222d4d4a8694675aa43faec2b7",
       "version_major": 2,
       "version_minor": 0
      },
      "text/plain": [
       "HTML(value=\"<h1>Welcome to the <font color='maroon'> Sentence Annotator</font></h1>\\n    <p>It's an in-line an…"
      ]
     },
     "metadata": {},
     "output_type": "display_data"
    },
    {
     "data": {
      "application/vnd.jupyter.widget-view+json": {
       "model_id": "78246700de4e46b79e259d81794bbf0b",
       "version_major": 2,
       "version_minor": 0
      },
      "text/plain": [
       "SelectMultiple(description='Sentences', layout=Layout(width='50%'), options=('Description of slow', 'Descripti…"
      ]
     },
     "metadata": {},
     "output_type": "display_data"
    },
    {
     "ename": "TypeError",
     "evalue": "'VBox' object is not iterable",
     "output_type": "error",
     "traceback": [
      "\u001b[1;31m---------------------------------------------------------------------------\u001b[0m",
      "\u001b[1;31mTypeError\u001b[0m                                 Traceback (most recent call last)",
      "\u001b[1;32m~\\AppData\\Local\\Temp/ipykernel_31888/2041210507.py\u001b[0m in \u001b[0;36m<module>\u001b[1;34m\u001b[0m\n\u001b[0;32m     43\u001b[0m \u001b[0msingle_row\u001b[0m \u001b[1;33m=\u001b[0m  \u001b[0mwidgets\u001b[0m\u001b[1;33m.\u001b[0m\u001b[0mVBox\u001b[0m\u001b[1;33m(\u001b[0m\u001b[1;33m[\u001b[0m\u001b[0mitems\u001b[0m\u001b[1;33m[\u001b[0m\u001b[1;36m0\u001b[0m\u001b[1;33m]\u001b[0m\u001b[1;33m,\u001b[0m \u001b[0mitems\u001b[0m\u001b[1;33m[\u001b[0m\u001b[1;36m1\u001b[0m\u001b[1;33m]\u001b[0m\u001b[1;33m,\u001b[0m \u001b[0mitems\u001b[0m\u001b[1;33m[\u001b[0m\u001b[1;36m2\u001b[0m\u001b[1;33m]\u001b[0m\u001b[1;33m]\u001b[0m\u001b[1;33m)\u001b[0m\u001b[1;33m\u001b[0m\u001b[1;33m\u001b[0m\u001b[0m\n\u001b[0;32m     44\u001b[0m \u001b[1;33m\u001b[0m\u001b[0m\n\u001b[1;32m---> 45\u001b[1;33m the_data = widgets.Select(\n\u001b[0m\u001b[0;32m     46\u001b[0m                 \u001b[0moptions\u001b[0m\u001b[1;33m=\u001b[0m \u001b[0msingle_row\u001b[0m\u001b[1;33m,\u001b[0m\u001b[1;33m\u001b[0m\u001b[1;33m\u001b[0m\u001b[0m\n\u001b[0;32m     47\u001b[0m                 \u001b[1;31m# value='macOS',\u001b[0m\u001b[1;33m\u001b[0m\u001b[1;33m\u001b[0m\u001b[0m\n",
      "\u001b[1;32mc:\\Users\\Daraz\\anaconda3\\lib\\site-packages\\ipywidgets\\widgets\\widget_selection.py\u001b[0m in \u001b[0;36m__init__\u001b[1;34m(self, *args, **kwargs)\u001b[0m\n\u001b[0;32m    177\u001b[0m         \u001b[1;31m# so we don't have errors the first time validators run\u001b[0m\u001b[1;33m\u001b[0m\u001b[1;33m\u001b[0m\u001b[0m\n\u001b[0;32m    178\u001b[0m         \u001b[0mself\u001b[0m\u001b[1;33m.\u001b[0m\u001b[0m_initializing_traits_\u001b[0m \u001b[1;33m=\u001b[0m \u001b[1;32mTrue\u001b[0m\u001b[1;33m\u001b[0m\u001b[1;33m\u001b[0m\u001b[0m\n\u001b[1;32m--> 179\u001b[1;33m         \u001b[0moptions\u001b[0m \u001b[1;33m=\u001b[0m \u001b[0m_make_options\u001b[0m\u001b[1;33m(\u001b[0m\u001b[0mkwargs\u001b[0m\u001b[1;33m.\u001b[0m\u001b[0mget\u001b[0m\u001b[1;33m(\u001b[0m\u001b[1;34m'options'\u001b[0m\u001b[1;33m,\u001b[0m \u001b[1;33m(\u001b[0m\u001b[1;33m)\u001b[0m\u001b[1;33m)\u001b[0m\u001b[1;33m)\u001b[0m\u001b[1;33m\u001b[0m\u001b[1;33m\u001b[0m\u001b[0m\n\u001b[0m\u001b[0;32m    180\u001b[0m         \u001b[0mself\u001b[0m\u001b[1;33m.\u001b[0m\u001b[0m_options_full\u001b[0m \u001b[1;33m=\u001b[0m \u001b[0moptions\u001b[0m\u001b[1;33m\u001b[0m\u001b[1;33m\u001b[0m\u001b[0m\n\u001b[0;32m    181\u001b[0m         \u001b[0mself\u001b[0m\u001b[1;33m.\u001b[0m\u001b[0mset_trait\u001b[0m\u001b[1;33m(\u001b[0m\u001b[1;34m'_options_labels'\u001b[0m\u001b[1;33m,\u001b[0m \u001b[0mtuple\u001b[0m\u001b[1;33m(\u001b[0m\u001b[0mi\u001b[0m\u001b[1;33m[\u001b[0m\u001b[1;36m0\u001b[0m\u001b[1;33m]\u001b[0m \u001b[1;32mfor\u001b[0m \u001b[0mi\u001b[0m \u001b[1;32min\u001b[0m \u001b[0moptions\u001b[0m\u001b[1;33m)\u001b[0m\u001b[1;33m)\u001b[0m\u001b[1;33m\u001b[0m\u001b[1;33m\u001b[0m\u001b[0m\n",
      "\u001b[1;32mc:\\Users\\Daraz\\anaconda3\\lib\\site-packages\\ipywidgets\\widgets\\widget_selection.py\u001b[0m in \u001b[0;36m_make_options\u001b[1;34m(x)\u001b[0m\n\u001b[0;32m    123\u001b[0m \u001b[1;33m\u001b[0m\u001b[0m\n\u001b[0;32m    124\u001b[0m     \u001b[1;31m# only iterate once through the options.\u001b[0m\u001b[1;33m\u001b[0m\u001b[1;33m\u001b[0m\u001b[0m\n\u001b[1;32m--> 125\u001b[1;33m     \u001b[0mxlist\u001b[0m \u001b[1;33m=\u001b[0m \u001b[0mtuple\u001b[0m\u001b[1;33m(\u001b[0m\u001b[0mx\u001b[0m\u001b[1;33m)\u001b[0m\u001b[1;33m\u001b[0m\u001b[1;33m\u001b[0m\u001b[0m\n\u001b[0m\u001b[0;32m    126\u001b[0m \u001b[1;33m\u001b[0m\u001b[0m\n\u001b[0;32m    127\u001b[0m     \u001b[1;31m# Check if x is an iterable of (label, value) pairs\u001b[0m\u001b[1;33m\u001b[0m\u001b[1;33m\u001b[0m\u001b[0m\n",
      "\u001b[1;31mTypeError\u001b[0m: 'VBox' object is not iterable"
     ]
    }
   ],
   "source": [
    "counter = 0 #keep count of progress in dataframe\n",
    "\n",
    "# data for text classification annotation\n",
    "sentences = ['Description of slow', 'Description of regular', 'Description of fast']\n",
    "####################################################################################################\n",
    "# Instead of list you can take input from your LFS or Drive and transform data in the list format\n",
    "####################################################################################################\n",
    "\n",
    "#to be shown at a time\n",
    "BATCH = 10\n",
    "\n",
    "# output datafram\n",
    "cols = ['sentence', 'label']\n",
    "df = pd.DataFrame(columns=cols, index=range(len(sentences)))\n",
    "\n",
    "title_widget = widgets.HTML(\n",
    "    value=\"\"\"<h1>Welcome to the <font color='maroon'> Sentence Annotator</font></h1>\n",
    "    <p>It's an in-line annotation tool that let's you annotate sentences with their respective tags</p>\n",
    "    <p>Below are the set of instructions for the annotator to follow - </p>\n",
    "    <ol>\n",
    "      <li>Select sentence from the <b>sentences</b> area shown in the annotation area</li>\n",
    "      <li>You can select multiple sentences by pressing ctl+mouseclick</li>\n",
    "      <li><b>Label</b> area where you type the tags that are relevant for the given sentence</li>\n",
    "      <li>Progress let's you track the progress made so far in the annotation cycle</li>\n",
    "    </ol>\n",
    "    <p><font color='green'>P.S. Incase of multiple labels for any sentence. Use comma (,) as a seperator</font></p>\"\"\",\n",
    ")\n",
    "display(title_widget)\n",
    "\n",
    "# sentence placeholder\n",
    "sentence_widget = widgets.SelectMultiple(\n",
    "    options=sentences,\n",
    "    rows=BATCH,\n",
    "    description='Sentences',\n",
    "    disabled=False,\n",
    "    layout= widgets.Layout(width='50%')\n",
    ")\n",
    "display(sentence_widget)\n",
    "\n",
    "QueryN = Query.iloc[counter]\n",
    "\n",
    "items = [widgets.Label(i) for i in QueryN]\n",
    "single_row =  widgets.VBox([items[0], items[1], items[2]])\n",
    "\n",
    "the_data = widgets.Select(\n",
    "                options= single_row,\n",
    "                # value='macOS',\n",
    "                # rows=10,\n",
    "                # description='OS:',\n",
    "                disabled=False\n",
    "            )\n",
    "\n",
    "display(the_data)\n",
    "\n",
    "# class placeholder\n",
    "label = widgets.Text(description=\"Label\", value='')\n",
    "display(label)\n",
    "\n",
    "# button placeholder\n",
    "button = widgets.Button(description=\"Annotate\", disabled=False, button_style=\"success\", tooltip=\"Annotate\")\n",
    "output = widgets.Output()\n",
    "# display(button, output)\n",
    "\n",
    "display(button)\n",
    "\n",
    "# progress bar placeholder\n",
    "progress = widgets.IntProgress(\n",
    "    min=0,\n",
    "    max=len(sentences),\n",
    "    step=1,\n",
    "    description='Progress:',\n",
    "    orientation='horizontal',\n",
    "    layout= widgets.Layout(width='20%')\n",
    ")\n",
    "display(progress)\n",
    "\n",
    "\n",
    "# def disp(x) :\n",
    "\n",
    "#     QueryN = Query.iloc[x]\n",
    "#     items = [widgets.Label(i) for i in QueryN]\n",
    "#     single_row  = widgets.VBox([items[0], items[1], items[2]])\n",
    "#     return single_row\n",
    "\n",
    "\n",
    "def annotate(_):  #This function does not take any parameter. The underscores ignores parameter.\n",
    "    \n",
    "    global counter\n",
    "\n",
    "    with output:\n",
    "        label_value = label.value\n",
    "        selected_sentence = sentence_widget.value\n",
    "        \n",
    "        if not len(selected_sentence):\n",
    "            print(\"Error: You haven't selected any sentence\")\n",
    "            return\n",
    "        if not label_value:\n",
    "            print(\"Error: Please enter the classs name under which these messages should be categorized.\")\n",
    "            return\n",
    "        \n",
    "        progress.value += len(selected_sentence)\n",
    "\n",
    "        for i in selected_sentence:\n",
    "            df.loc[counter].sentence = i\n",
    "            df.loc[counter].label = label_value\n",
    "            counter += 1\n",
    "\n",
    "\n",
    "button.on_click(annotate)"
   ]
  },
  {
   "cell_type": "code",
   "execution_count": 67,
   "metadata": {},
   "outputs": [
    {
     "data": {
      "text/html": [
       "<div>\n",
       "<style scoped>\n",
       "    .dataframe tbody tr th:only-of-type {\n",
       "        vertical-align: middle;\n",
       "    }\n",
       "\n",
       "    .dataframe tbody tr th {\n",
       "        vertical-align: top;\n",
       "    }\n",
       "\n",
       "    .dataframe thead th {\n",
       "        text-align: right;\n",
       "    }\n",
       "</style>\n",
       "<table border=\"1\" class=\"dataframe\">\n",
       "  <thead>\n",
       "    <tr style=\"text-align: right;\">\n",
       "      <th></th>\n",
       "      <th>sentence</th>\n",
       "      <th>label</th>\n",
       "    </tr>\n",
       "  </thead>\n",
       "  <tbody>\n",
       "    <tr>\n",
       "      <th>0</th>\n",
       "      <td>Description of regular</td>\n",
       "      <td>1</td>\n",
       "    </tr>\n",
       "    <tr>\n",
       "      <th>1</th>\n",
       "      <td>Description of regular</td>\n",
       "      <td>3</td>\n",
       "    </tr>\n",
       "    <tr>\n",
       "      <th>2</th>\n",
       "      <td>Description of regular</td>\n",
       "      <td>4</td>\n",
       "    </tr>\n",
       "  </tbody>\n",
       "</table>\n",
       "</div>"
      ],
      "text/plain": [
       "                 sentence label\n",
       "0  Description of regular     1\n",
       "1  Description of regular     3\n",
       "2  Description of regular     4"
      ]
     },
     "execution_count": 67,
     "metadata": {},
     "output_type": "execute_result"
    }
   ],
   "source": [
    "df"
   ]
  },
  {
   "cell_type": "code",
   "execution_count": 25,
   "metadata": {},
   "outputs": [
    {
     "data": {
      "text/plain": [
       "9"
      ]
     },
     "execution_count": 25,
     "metadata": {},
     "output_type": "execute_result"
    }
   ],
   "source": [
    "5 + 4"
   ]
  },
  {
   "cell_type": "code",
   "execution_count": 27,
   "metadata": {},
   "outputs": [
    {
     "name": "stdout",
     "output_type": "stream",
     "text": [
      "0\n",
      "1\n",
      "2\n",
      "3\n",
      "4\n"
     ]
    }
   ],
   "source": [
    "for _ in range(5):\n",
    "    print(_)"
   ]
  },
  {
   "cell_type": "code",
   "execution_count": null,
   "metadata": {},
   "outputs": [],
   "source": [
    "import numpy as np\n",
    "import pandas as pd\n",
    "import streamlit as st \n",
    "\n",
    "df =pd.DataFrame({\n",
    "            \"source_number\":\n",
    "             [11199,11328,11287,32345,12342,1232,13456,123244,13456],\n",
    "             \"location\":          \n",
    "             [\"loc2\",\"loc1\",\"loc3\",\"loc1\",\"loc2\",\"loc2\",\"loc3\",\"loc2\",\"loc1\"],\n",
    "              \"category\": \n",
    "             [\"cat1\",\"cat2\",\"cat1\",\"cat3\",\"cat3\",\"cat3\",\"cat2\",\"cat3\",\"cat2\"],\n",
    "             })  \n",
    "\n",
    "is_check = st.checkbox(\"Display Data\")\n",
    "if is_check:\n",
    "    st.table(df)\n",
    "\n",
    "\n",
    "columns = st.sidebar.multiselect(\"Enter the variables\", df.columns)\n",
    "\n",
    "sidebars = {}\n",
    "for y in columns:\n",
    "    ucolumns=list(df[y].unique())\n",
    "    print (ucolumns)\n",
    "\n",
    "    sidebars[y]=st.sidebar.multiselect('Filter '+y, ucolumns)   \n",
    "\n",
    "if bool(sidebars):\n",
    "    L = [df[k].isin(v) if isinstance(v, list) \n",
    "         else df[k].eq(v) \n",
    "         for k, v in sidebars.items() if k in df.columns]\n",
    "    \n",
    "    df1 = df[np.logical_and.reduce(L)]\n",
    "    st.table(df1)"
   ]
  },
  {
   "cell_type": "code",
   "execution_count": 69,
   "metadata": {},
   "outputs": [
    {
     "ename": "ModuleNotFoundError",
     "evalue": "No module named 'dash'",
     "output_type": "error",
     "traceback": [
      "\u001b[1;31m---------------------------------------------------------------------------\u001b[0m",
      "\u001b[1;31mModuleNotFoundError\u001b[0m                       Traceback (most recent call last)",
      "\u001b[1;32m~\\AppData\\Local\\Temp/ipykernel_26400/1119156030.py\u001b[0m in \u001b[0;36m<module>\u001b[1;34m\u001b[0m\n\u001b[1;32m----> 1\u001b[1;33m \u001b[1;32mfrom\u001b[0m \u001b[0mdash\u001b[0m \u001b[1;32mimport\u001b[0m \u001b[0mDash\u001b[0m\u001b[1;33m,\u001b[0m \u001b[0mdash_table\u001b[0m\u001b[1;33m,\u001b[0m \u001b[0mhtml\u001b[0m\u001b[1;33m\u001b[0m\u001b[1;33m\u001b[0m\u001b[0m\n\u001b[0m\u001b[0;32m      2\u001b[0m \u001b[1;32mimport\u001b[0m \u001b[0mpandas\u001b[0m \u001b[1;32mas\u001b[0m \u001b[0mpd\u001b[0m\u001b[1;33m\u001b[0m\u001b[1;33m\u001b[0m\u001b[0m\n\u001b[0;32m      3\u001b[0m \u001b[1;32mfrom\u001b[0m \u001b[0mcollections\u001b[0m \u001b[1;32mimport\u001b[0m \u001b[0mOrderedDict\u001b[0m\u001b[1;33m\u001b[0m\u001b[1;33m\u001b[0m\u001b[0m\n\u001b[0;32m      4\u001b[0m \u001b[1;33m\u001b[0m\u001b[0m\n\u001b[0;32m      5\u001b[0m \u001b[1;33m\u001b[0m\u001b[0m\n",
      "\u001b[1;31mModuleNotFoundError\u001b[0m: No module named 'dash'"
     ]
    }
   ],
   "source": [
    "from dash import Dash, dash_table, html\n",
    "import pandas as pd\n",
    "from collections import OrderedDict\n",
    "\n",
    "\n",
    "app = Dash(__name__)\n",
    "\n",
    "df = pd.DataFrame(OrderedDict([\n",
    "    ('climate', ['Sunny', 'Snowy', 'Sunny', 'Rainy']),\n",
    "    ('temperature', [13, 43, 50, 30]),\n",
    "    ('city', ['NYC', 'Montreal', 'Miami', 'NYC'])\n",
    "]))\n",
    "\n",
    "\n",
    "app.layout = html.Div([\n",
    "    dash_table.DataTable(\n",
    "        id='table-dropdown',\n",
    "        data=df.to_dict('records'),\n",
    "        columns=[\n",
    "            {'id': 'climate', 'name': 'climate', 'presentation': 'dropdown'},\n",
    "            {'id': 'temperature', 'name': 'temperature'},\n",
    "            {'id': 'city', 'name': 'city', 'presentation': 'dropdown'},\n",
    "        ],\n",
    "\n",
    "        editable=True,\n",
    "        dropdown={\n",
    "            'climate': {\n",
    "                'options': [\n",
    "                    {'label': i, 'value': i}\n",
    "                    for i in df['climate'].unique()\n",
    "                ]\n",
    "            },\n",
    "            'city': {\n",
    "                 'options': [\n",
    "                    {'label': i, 'value': i}\n",
    "                    for i in df['city'].unique()\n",
    "                ]\n",
    "            }\n",
    "        }\n",
    "    ),\n",
    "    html.Div(id='table-dropdown-container')\n",
    "])\n",
    "\n",
    "\n",
    "if __name__ == '__main__':\n",
    "    app.run_server(debug=True)\n"
   ]
  },
  {
   "cell_type": "code",
   "execution_count": null,
   "metadata": {},
   "outputs": [],
   "source": [
    "#https://stackoverflow.com/questions/59587439/plotly-dash-application-not-running\n",
    "#https://community.plotly.com/t/download-raw-data/4700/8?u=ola"
   ]
  },
  {
   "cell_type": "code",
   "execution_count": null,
   "metadata": {},
   "outputs": [],
   "source": [
    "import dash\n",
    "import pandas as pd\n",
    "from dash.dependencies import Input, Output, State\n",
    "import dash_core_components as dcc\n",
    "import dash_html_components as html\n",
    "import dash_table\n",
    "from dash.exceptions import PreventUpdate\n",
    "\n",
    "# 1) this is needed to use emojis:\n",
    "# -*- coding: utf-8 -*-\n",
    "\n",
    "# # table with task and employees\n",
    "# df_selection = pd.DataFrame(columns = ['Row','Column'])\n",
    "# \n",
    "# df_selection.to_csv('last_selected.csv')\n",
    "\n",
    "# 2) table with task and employees with unselected boxes\n",
    "df = pd.DataFrame(columns = ['Task', 'Employee 1', 'Employee 2', 'Employee 3', 'Employee 4', 'Employee 5', 'Employee 6', 'Employee 7',\n",
    "                             'Employee 8'])\n",
    "df['Task']= [\"Task 1 \", \"Task 2\", \"Task 3\", \"Task 4\"]\n",
    "df['Employee 1'] = ['⬜','⬜','⬜','⬜']\n",
    "df['Employee 2'] = ['⬜','⬜','⬜','⬜']\n",
    "df['Employee 3'] = ['⬜','⬜','⬜','⬜']\n",
    "df['Employee 4'] = ['⬜','⬜','⬜','⬜']\n",
    "df['Employee 5'] = ['⬜','⬜','⬜','⬜']\n",
    "df['Employee 6'] = ['⬜','⬜','⬜','⬜']\n",
    "df['Employee 7'] = ['⬜','⬜','⬜','⬜']\n",
    "df['Employee 8'] = ['⬜','⬜','⬜','⬜']\n",
    "\n",
    "# create the tables to show the inforamtion:\n",
    "table = html.Div([\n",
    "    dash_table.DataTable(\n",
    "        columns=[{\"name\": i, \"id\": i} for i in df.columns],\n",
    "        data=df.to_dict('records'),\n",
    "        editable=False,\n",
    "        style_data_conditional=[\n",
    "        {'if': {'state': 'active'},'backgroundColor': 'white', 'border': '1px solid white'},\n",
    "        ],\n",
    "        style_as_list_view= True,\n",
    "        column_selectable= 'single',\n",
    "        id='table',\n",
    "        style_data={\"font-size\" : \"14px\", 'width': 15, \"background\":\"white\", 'text-align': 'center'},\n",
    "    )\n",
    "])\n",
    "\n",
    "app = dash.Dash(__name__)\n",
    "\n",
    "# Layout of the page:\n",
    "app.layout = html.Div([\n",
    "    html.H2(\"Employees Tasks\"),\n",
    "    html.H4(\"All Tasks are empty\", id=\"Message1\"),\n",
    "    html.Div(table, style={'width':'60%'}),\n",
    "])\n",
    "\n",
    "# Callbacks\n",
    "@app.callback(Output(\"Message1\", \"children\"),\n",
    "              Output(\"table\", \"data\"),\n",
    "              [Input('table', 'active_cell'),\n",
    "               State('table', 'data')])\n",
    "def update_loosers(cell, data):\n",
    "    # If there is not selection:\n",
    "    if not cell:\n",
    "        raise PreventUpdate\n",
    "    else:\n",
    "        # If the user select a box:\n",
    "        # 3) takes the info for the row and column selected\n",
    "        row_selected = cell[\"row\"]\n",
    "        row_name = data[row_selected][\"Task\"]\n",
    "        column_selected =cell[\"column\"]\n",
    "        column_name =cell[\"column_id\"]\n",
    "        message = \"Check a box\"\n",
    "        \n",
    "        # 4) Change the figure of the box selected\n",
    "        if data[row_selected][column_name] == '✅':\n",
    "                data[row_selected][column_name] = '⬜'\n",
    "                message = \"The \"+row_name+\" of the \"+column_name+\" has been unselected\"\n",
    "                 \n",
    "        elif data[row_selected][column_name] == '⬜':\n",
    "                  data[row_selected][column_name] = '✅'\n",
    "                  message = \"The \"+row_name+\" of the \"+column_name+\" has been completed\"\n",
    "\n",
    "        return message, data\n",
    "   \n",
    "\n",
    "if __name__ == \"__main__\":\n",
    "    app.run_server(debug=True)"
   ]
  },
  {
   "cell_type": "code",
   "execution_count": null,
   "metadata": {},
   "outputs": [],
   "source": [
    "#https://community.plotly.com/t/add-checkbox-in-a-dash-datatable/52600"
   ]
  }
 ],
 "metadata": {
  "interpreter": {
   "hash": "0606053452435824a427f0ea93d6ae20786397642025bcc66bfe96b66155d44b"
  },
  "kernelspec": {
   "display_name": "Python 3.9.7 ('base')",
   "language": "python",
   "name": "python3"
  },
  "language_info": {
   "codemirror_mode": {
    "name": "ipython",
    "version": 3
   },
   "file_extension": ".py",
   "mimetype": "text/x-python",
   "name": "python",
   "nbconvert_exporter": "python",
   "pygments_lexer": "ipython3",
   "version": "3.9.7"
  },
  "orig_nbformat": 4
 },
 "nbformat": 4,
 "nbformat_minor": 2
}
