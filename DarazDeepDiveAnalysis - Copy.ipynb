{
 "cells": [
  {
   "cell_type": "code",
   "execution_count": null,
   "id": "b604bdeb",
   "metadata": {},
   "outputs": [],
   "source": [
    "# conda install pytorch torchvision torchaudio cpuonly -c pytorch\n",
    "# !pip install laserembeddings\n",
    "# python -m laserembeddings download-models /to/your/directory/\n",
    "# !pip install \"tensorflow>=2.0.0\"\n",
    "# !pip install --upgrade tensorflow-hub\n",
    "# !pip install googletrans==3.1.0a0\n",
    "\n",
    "# *Anaconda Installation is a must"
   ]
  },
  {
   "cell_type": "code",
   "execution_count": 1,
   "id": "0bdd3bde-5259-443b-a1af-d2eb270e350f",
   "metadata": {},
   "outputs": [],
   "source": [
    "#C#1\n",
    "\n",
    "#Import necessary libraries for the analysis\n",
    "import pandas as pd\n",
    "import numpy as np\n",
    "import seaborn as sns\n",
    "import matplotlib.pyplot as plt\n",
    "from googletrans import Translator\n",
    "from IPython.display import display\n",
    "#import tensorflow_hub as hub\n",
    "from laserembeddings import Laser\n",
    "from scipy.spatial import distance  \n",
    "from sklearn.metrics.pairwise import cosine_similarity\n",
    "\n",
    "#Call and write: classes, objects, and functions\n",
    "\n",
    "#Googletrans\n",
    "translator = Translator()\n",
    "\n",
    "#Percentage Function\n",
    "def percentage(part, whole):\n",
    "    \n",
    "    percentage = 100 * float(part)/float(whole)\n",
    "\n",
    "    return str(percentage) + \"%\"\n",
    "\n",
    "#Laserembeddings\n",
    "path_to_bpe_codes = \"93langs.fcodes\"\n",
    "path_to_bpe_vocab = \"93langs.fvocab\"\n",
    "path_to_encoder = \"bilstm.93langs.2018-12-26.pt\"\n",
    "\n",
    "laser = Laser(path_to_bpe_codes, path_to_bpe_vocab, path_to_encoder)\n",
    "\n",
    "#Tensorflow\n",
    "#embed = hub.load('4')\n"
   ]
  },
  {
   "cell_type": "code",
   "execution_count": 2,
   "id": "b2803c73",
   "metadata": {},
   "outputs": [],
   "source": [
    "#Testing\n",
    "\n",
    "embeddings = laser.embed_sentences(\n",
    "    [\"Why this much delay\",\n",
    "     'What are the most common reasons for delivery delays'],\n",
    "    lang=['en', 'en'])"
   ]
  },
  {
   "cell_type": "code",
   "execution_count": 3,
   "id": "c943b24e",
   "metadata": {},
   "outputs": [
    {
     "name": "stdout",
     "output_type": "stream",
     "text": [
      "0.6492337584495544\n"
     ]
    }
   ],
   "source": [
    "#Testing\n",
    "\n",
    "print(1 - distance.cosine(embeddings[0], embeddings[1]))\n",
    "# print(cosine_similarity(embeddings[0].reshape(1,-1), embeddings[1].reshape(1,-1)))"
   ]
  },
  {
   "cell_type": "markdown",
   "id": "a9f37297-4dec-414c-a693-329ffe07555b",
   "metadata": {
    "tags": []
   },
   "source": [
    "<!-- C#2 -->\n",
    "\n",
    "# Deep Dive Analysis\n",
    "### Focus Area 1 Objectives: \n",
    "\n",
    "1) Classify the number of customers whose answers were replied or not replied\n",
    "2) See the language (EN/BN/BNE) via which the customers made the query"
   ]
  },
  {
   "cell_type": "markdown",
   "id": "f1087157",
   "metadata": {},
   "source": [
    "### Classifying the number of customers whose queries were replied:"
   ]
  },
  {
   "cell_type": "markdown",
   "id": "51828371",
   "metadata": {},
   "source": [
    "#### Load data and Determine the language of the queries."
   ]
  },
  {
   "cell_type": "code",
   "execution_count": 15,
   "id": "2d54c2ff",
   "metadata": {},
   "outputs": [],
   "source": [
    "df = pd.read_csv(r\"C:\\Users\\Daraz\\Documents\\ddda\\ChatDetailsDataset\\2022_09140914_CD.csv\")"
   ]
  },
  {
   "cell_type": "code",
   "execution_count": 16,
   "id": "44a6ca5a",
   "metadata": {},
   "outputs": [
    {
     "data": {
      "text/plain": [
       "Index(['Create Date', 'tenant_name', 'robot_code', 'robot_name', 'from_id',\n",
       "       'from_name', 'Session_id', 'Intention', 'user_id',\n",
       "       'Seller id (X-space)', 'user_nick', 'create_time', 'chat_uuid',\n",
       "       'Enter Type', 'query', 'Question Type', 'sopname', 'answer_type',\n",
       "       'SOP_Solution_id', 'SOP_Solution_Name', 'Standard Knowledge Title',\n",
       "       'Knowledge_id', 'knowledge_cate_1_name', 'knowledge_cate_2_name',\n",
       "       'knowledge_cate_3_name', 'is_session_unsatisfied',\n",
       "       'is_session_last_no answer', 'call_agent_by_click_shortcut',\n",
       "       'is_session_last_recommend no click', 'call_agent_by_intention',\n",
       "       'is_session_direct_liveagent', 'Contacted live agent on same day',\n",
       "       'Feedback Card Response', 'is_chat_recommend', 'is_chat_no answer',\n",
       "       'is_chat_pre/post match', 'live agent_session_id',\n",
       "       'Last Query Before Live Agent Session', 'Live Agent User Query',\n",
       "       'Live Agent Response', 'Feedback Type', 'Unsatisfied Reason'],\n",
       "      dtype='object')"
      ]
     },
     "execution_count": 16,
     "metadata": {},
     "output_type": "execute_result"
    }
   ],
   "source": [
    "df.columns"
   ]
  },
  {
   "cell_type": "code",
   "execution_count": 17,
   "id": "01a34c06",
   "metadata": {},
   "outputs": [
    {
     "data": {
      "text/plain": [
       "(40383, 42)"
      ]
     },
     "execution_count": 17,
     "metadata": {},
     "output_type": "execute_result"
    }
   ],
   "source": [
    "df.shape"
   ]
  },
  {
   "cell_type": "code",
   "execution_count": 5,
   "id": "4fb8e35f",
   "metadata": {},
   "outputs": [],
   "source": [
    "df = pd.read_csv(r\"C:\\Users\\Daraz\\Documents\\ddda\\ChatDetailsDataset\\2022_09190925_CD_LC.csv\")"
   ]
  },
  {
   "cell_type": "code",
   "execution_count": 9,
   "id": "b63c10aa",
   "metadata": {},
   "outputs": [
    {
     "data": {
      "text/plain": [
       "(72949, 42)"
      ]
     },
     "execution_count": 9,
     "metadata": {},
     "output_type": "execute_result"
    }
   ],
   "source": [
    "df.shape"
   ]
  },
  {
   "cell_type": "code",
   "execution_count": 7,
   "id": "fe405074",
   "metadata": {},
   "outputs": [
    {
     "data": {
      "text/plain": [
       "Index(['Create Date', 'tenant_name', 'robot_code', 'robot_name', 'from_id',\n",
       "       'from_name', 'Session_id', 'Intention', 'user_id',\n",
       "       'Seller id (X-space)', 'user_nick', 'create_time', 'chat_uuid',\n",
       "       'Enter Type', 'query', 'Question Type', 'sopname', 'answer_type',\n",
       "       'SOP_Solution_id', 'SOP_Solution_Name', 'Standard Knowledge Title',\n",
       "       'Knowledge_id', 'knowledge_cate_1_name', 'knowledge_cate_2_name',\n",
       "       'knowledge_cate_3_name', 'is_session_unsatisfied',\n",
       "       'is_session_last_no answer', 'call_agent_by_click_shortcut',\n",
       "       'is_session_last_recommend no click', 'call_agent_by_intention',\n",
       "       'is_session_direct_liveagent', 'Contacted live agent on same day',\n",
       "       'Feedback Card Response', 'is_chat_recommend', 'is_chat_no answer',\n",
       "       'is_chat_pre/post match', 'live agent_session_id',\n",
       "       'Last Query Before Live Agent Session', 'Live Agent User Query',\n",
       "       'Live Agent Response', 'Feedback Type', 'Unsatisfied Reason'],\n",
       "      dtype='object')"
      ]
     },
     "execution_count": 7,
     "metadata": {},
     "output_type": "execute_result"
    }
   ],
   "source": [
    "df.columns"
   ]
  },
  {
   "cell_type": "code",
   "execution_count": null,
   "id": "d3fd1f6c",
   "metadata": {},
   "outputs": [],
   "source": []
  },
  {
   "cell_type": "markdown",
   "id": "8fd8e852",
   "metadata": {},
   "source": [
    "call_agent_by_intention == is_session_intention_to_agent\n",
    "call_agent_by_click_shortcut == is_session_click_to_agent\n"
   ]
  },
  {
   "cell_type": "code",
   "execution_count": 14,
   "id": "e8d14d9d",
   "metadata": {},
   "outputs": [
    {
     "data": {
      "text/html": [
       "<div>\n",
       "<style scoped>\n",
       "    .dataframe tbody tr th:only-of-type {\n",
       "        vertical-align: middle;\n",
       "    }\n",
       "\n",
       "    .dataframe tbody tr th {\n",
       "        vertical-align: top;\n",
       "    }\n",
       "\n",
       "    .dataframe thead th {\n",
       "        text-align: right;\n",
       "    }\n",
       "</style>\n",
       "<table border=\"1\" class=\"dataframe\">\n",
       "  <thead>\n",
       "    <tr style=\"text-align: right;\">\n",
       "      <th></th>\n",
       "      <th>Create Date</th>\n",
       "      <th>tenant_name</th>\n",
       "      <th>robot_code</th>\n",
       "      <th>robot_name</th>\n",
       "      <th>from_id</th>\n",
       "      <th>from_name</th>\n",
       "      <th>Session_id</th>\n",
       "      <th>Intention</th>\n",
       "      <th>user_id</th>\n",
       "      <th>Seller id (X-space)</th>\n",
       "      <th>...</th>\n",
       "      <th>Feedback Card Response</th>\n",
       "      <th>is_chat_recommend</th>\n",
       "      <th>is_chat_no answer</th>\n",
       "      <th>is_chat_pre/post match</th>\n",
       "      <th>live agent_session_id</th>\n",
       "      <th>Last Query Before Live Agent Session</th>\n",
       "      <th>Live Agent User Query</th>\n",
       "      <th>Live Agent Response</th>\n",
       "      <th>Feedback Type</th>\n",
       "      <th>Unsatisfied Reason</th>\n",
       "    </tr>\n",
       "  </thead>\n",
       "  <tbody>\n",
       "    <tr>\n",
       "      <th>0</th>\n",
       "      <td>2022-09-25 00:00:00</td>\n",
       "      <td>Alime-DRZ-CC-BD</td>\n",
       "      <td>03thkMNkQ3</td>\n",
       "      <td>BD-Daz-LC</td>\n",
       "      <td>T0Bc8Nk94E</td>\n",
       "      <td>BD-Daz-LC-HC-App</td>\n",
       "      <td>16c4d82f348b48d79ea6575fd2b90a36</td>\n",
       "      <td>NaN</td>\n",
       "      <td>2101100086625906</td>\n",
       "      <td>7.005200e+11</td>\n",
       "      <td>...</td>\n",
       "      <td>NaN</td>\n",
       "      <td>N</td>\n",
       "      <td>N</td>\n",
       "      <td>Y</td>\n",
       "      <td>NaN</td>\n",
       "      <td>NaN</td>\n",
       "      <td>NaN</td>\n",
       "      <td>NaN</td>\n",
       "      <td>NaN</td>\n",
       "      <td>NaN</td>\n",
       "    </tr>\n",
       "    <tr>\n",
       "      <th>1</th>\n",
       "      <td>2022-09-25 00:00:00</td>\n",
       "      <td>Alime-DRZ-CC-BD</td>\n",
       "      <td>03thkMNkQ3</td>\n",
       "      <td>BD-Daz-LC</td>\n",
       "      <td>T0Bc8Nk94E</td>\n",
       "      <td>BD-Daz-LC-HC-App</td>\n",
       "      <td>16c4d82f348b48d79ea6575fd2b90a36</td>\n",
       "      <td>NaN</td>\n",
       "      <td>2101100086625906</td>\n",
       "      <td>7.005200e+11</td>\n",
       "      <td>...</td>\n",
       "      <td>NaN</td>\n",
       "      <td>N</td>\n",
       "      <td>N</td>\n",
       "      <td>N</td>\n",
       "      <td>NaN</td>\n",
       "      <td>NaN</td>\n",
       "      <td>NaN</td>\n",
       "      <td>NaN</td>\n",
       "      <td>NaN</td>\n",
       "      <td>NaN</td>\n",
       "    </tr>\n",
       "    <tr>\n",
       "      <th>2</th>\n",
       "      <td>2022-09-25 00:00:00</td>\n",
       "      <td>Alime-DRZ-CC-BD</td>\n",
       "      <td>03thkMNkQ3</td>\n",
       "      <td>BD-Daz-LC</td>\n",
       "      <td>T0Bc8Nk94E</td>\n",
       "      <td>BD-Daz-LC-HC-App</td>\n",
       "      <td>16c4d82f348b48d79ea6575fd2b90a36</td>\n",
       "      <td>NaN</td>\n",
       "      <td>2101100086625906</td>\n",
       "      <td>7.005200e+11</td>\n",
       "      <td>...</td>\n",
       "      <td>NaN</td>\n",
       "      <td>N</td>\n",
       "      <td>N</td>\n",
       "      <td>Y</td>\n",
       "      <td>NaN</td>\n",
       "      <td>NaN</td>\n",
       "      <td>NaN</td>\n",
       "      <td>NaN</td>\n",
       "      <td>NaN</td>\n",
       "      <td>NaN</td>\n",
       "    </tr>\n",
       "    <tr>\n",
       "      <th>3</th>\n",
       "      <td>2022-09-25 00:00:00</td>\n",
       "      <td>Alime-DRZ-CC-BD</td>\n",
       "      <td>03thkMNkQ3</td>\n",
       "      <td>BD-Daz-LC</td>\n",
       "      <td>T0Bc8Nk94E</td>\n",
       "      <td>BD-Daz-LC-HC-App</td>\n",
       "      <td>16c4d82f348b48d79ea6575fd2b90a36</td>\n",
       "      <td>route_daraz_others</td>\n",
       "      <td>2101100086625906</td>\n",
       "      <td>7.005200e+11</td>\n",
       "      <td>...</td>\n",
       "      <td>NaN</td>\n",
       "      <td>N</td>\n",
       "      <td>N</td>\n",
       "      <td>N</td>\n",
       "      <td>NaN</td>\n",
       "      <td>NaN</td>\n",
       "      <td>NaN</td>\n",
       "      <td>NaN</td>\n",
       "      <td>NaN</td>\n",
       "      <td>NaN</td>\n",
       "    </tr>\n",
       "    <tr>\n",
       "      <th>4</th>\n",
       "      <td>2022-09-25 00:00:00</td>\n",
       "      <td>Alime-DRZ-CC-BD</td>\n",
       "      <td>03thkMNkQ3</td>\n",
       "      <td>BD-Daz-LC</td>\n",
       "      <td>T0Bc8Nk94E</td>\n",
       "      <td>BD-Daz-LC-HC-App</td>\n",
       "      <td>16c4d82f348b48d79ea6575fd2b90a36</td>\n",
       "      <td>NaN</td>\n",
       "      <td>2101100086625906</td>\n",
       "      <td>7.005200e+11</td>\n",
       "      <td>...</td>\n",
       "      <td>NaN</td>\n",
       "      <td>N</td>\n",
       "      <td>N</td>\n",
       "      <td>Y</td>\n",
       "      <td>NaN</td>\n",
       "      <td>NaN</td>\n",
       "      <td>NaN</td>\n",
       "      <td>NaN</td>\n",
       "      <td>NaN</td>\n",
       "      <td>NaN</td>\n",
       "    </tr>\n",
       "    <tr>\n",
       "      <th>...</th>\n",
       "      <td>...</td>\n",
       "      <td>...</td>\n",
       "      <td>...</td>\n",
       "      <td>...</td>\n",
       "      <td>...</td>\n",
       "      <td>...</td>\n",
       "      <td>...</td>\n",
       "      <td>...</td>\n",
       "      <td>...</td>\n",
       "      <td>...</td>\n",
       "      <td>...</td>\n",
       "      <td>...</td>\n",
       "      <td>...</td>\n",
       "      <td>...</td>\n",
       "      <td>...</td>\n",
       "      <td>...</td>\n",
       "      <td>...</td>\n",
       "      <td>...</td>\n",
       "      <td>...</td>\n",
       "      <td>...</td>\n",
       "      <td>...</td>\n",
       "    </tr>\n",
       "    <tr>\n",
       "      <th>72944</th>\n",
       "      <td>2022-09-21 00:00:00</td>\n",
       "      <td>Alime-DRZ-CC-BD</td>\n",
       "      <td>03thkMNkQ3</td>\n",
       "      <td>BD-Daz-LC</td>\n",
       "      <td>zpojXywwrn</td>\n",
       "      <td>BD-Daz-LC-DD-App</td>\n",
       "      <td>c156ba1f71654771b82431f331217f28</td>\n",
       "      <td>route_daraz_others</td>\n",
       "      <td>2101100056887656</td>\n",
       "      <td>7.000258e+11</td>\n",
       "      <td>...</td>\n",
       "      <td>NaN</td>\n",
       "      <td>N</td>\n",
       "      <td>N</td>\n",
       "      <td>N</td>\n",
       "      <td>817bf312b4f64968a8b7e05705a87604</td>\n",
       "      <td>আমার একটি অডার সাতে মিল নাই</td>\n",
       "      <td>অর্ডার কিভাবে বাতিল করব?</td>\n",
       "      <td>Good day! Welcome to Daraz Live chat support. ...</td>\n",
       "      <td>NaN</td>\n",
       "      <td>NaN</td>\n",
       "    </tr>\n",
       "    <tr>\n",
       "      <th>72945</th>\n",
       "      <td>2022-09-21 00:00:00</td>\n",
       "      <td>Alime-DRZ-CC-BD</td>\n",
       "      <td>03thkMNkQ3</td>\n",
       "      <td>BD-Daz-LC</td>\n",
       "      <td>zpojXywwrn</td>\n",
       "      <td>BD-Daz-LC-DD-App</td>\n",
       "      <td>c156ba1f71654771b82431f331217f28</td>\n",
       "      <td>route_daraz_others</td>\n",
       "      <td>2101100056887656</td>\n",
       "      <td>7.000258e+11</td>\n",
       "      <td>...</td>\n",
       "      <td>NaN</td>\n",
       "      <td>N</td>\n",
       "      <td>N</td>\n",
       "      <td>N</td>\n",
       "      <td>817bf312b4f64968a8b7e05705a87604</td>\n",
       "      <td>আমার একটি অডার সাতে মিল নাই</td>\n",
       "      <td>অর্ডার কিভাবে বাতিল করব?</td>\n",
       "      <td>Good day! Welcome to Daraz Live chat support. ...</td>\n",
       "      <td>NaN</td>\n",
       "      <td>NaN</td>\n",
       "    </tr>\n",
       "    <tr>\n",
       "      <th>72946</th>\n",
       "      <td>2022-09-21 00:00:00</td>\n",
       "      <td>Alime-DRZ-CC-BD</td>\n",
       "      <td>03thkMNkQ3</td>\n",
       "      <td>BD-Daz-LC</td>\n",
       "      <td>zpojXywwrn</td>\n",
       "      <td>BD-Daz-LC-DD-App</td>\n",
       "      <td>c156ba1f71654771b82431f331217f28</td>\n",
       "      <td>NaN</td>\n",
       "      <td>2101100056887656</td>\n",
       "      <td>7.000258e+11</td>\n",
       "      <td>...</td>\n",
       "      <td>NaN</td>\n",
       "      <td>N</td>\n",
       "      <td>N</td>\n",
       "      <td>Y</td>\n",
       "      <td>817bf312b4f64968a8b7e05705a87604</td>\n",
       "      <td>আমার একটি অডার সাতে মিল নাই</td>\n",
       "      <td>অর্ডার কিভাবে বাতিল করব?</td>\n",
       "      <td>Good day! Welcome to Daraz Live chat support. ...</td>\n",
       "      <td>NaN</td>\n",
       "      <td>NaN</td>\n",
       "    </tr>\n",
       "    <tr>\n",
       "      <th>72947</th>\n",
       "      <td>2022-09-21 00:00:00</td>\n",
       "      <td>Alime-DRZ-CC-BD</td>\n",
       "      <td>03thkMNkQ3</td>\n",
       "      <td>BD-Daz-LC</td>\n",
       "      <td>zpojXywwrn</td>\n",
       "      <td>BD-Daz-LC-DD-App</td>\n",
       "      <td>c156ba1f71654771b82431f331217f28</td>\n",
       "      <td>route_daraz_others</td>\n",
       "      <td>2101100056887656</td>\n",
       "      <td>7.000258e+11</td>\n",
       "      <td>...</td>\n",
       "      <td>NaN</td>\n",
       "      <td>N</td>\n",
       "      <td>N</td>\n",
       "      <td>N</td>\n",
       "      <td>817bf312b4f64968a8b7e05705a87604</td>\n",
       "      <td>আমার একটি অডার সাতে মিল নাই</td>\n",
       "      <td>অর্ডার কিভাবে বাতিল করব?</td>\n",
       "      <td>Good day! Welcome to Daraz Live chat support. ...</td>\n",
       "      <td>NaN</td>\n",
       "      <td>NaN</td>\n",
       "    </tr>\n",
       "    <tr>\n",
       "      <th>72948</th>\n",
       "      <td>2022-09-21 00:00:00</td>\n",
       "      <td>Alime-DRZ-CC-BD</td>\n",
       "      <td>03thkMNkQ3</td>\n",
       "      <td>BD-Daz-LC</td>\n",
       "      <td>zpojXywwrn</td>\n",
       "      <td>BD-Daz-LC-DD-App</td>\n",
       "      <td>c156ba1f71654771b82431f331217f28</td>\n",
       "      <td>NaN</td>\n",
       "      <td>2101100056887656</td>\n",
       "      <td>7.000258e+11</td>\n",
       "      <td>...</td>\n",
       "      <td>NaN</td>\n",
       "      <td>N</td>\n",
       "      <td>N</td>\n",
       "      <td>Y</td>\n",
       "      <td>817bf312b4f64968a8b7e05705a87604</td>\n",
       "      <td>আমার একটি অডার সাতে মিল নাই</td>\n",
       "      <td>অর্ডার কিভাবে বাতিল করব?</td>\n",
       "      <td>Good day! Welcome to Daraz Live chat support. ...</td>\n",
       "      <td>NaN</td>\n",
       "      <td>NaN</td>\n",
       "    </tr>\n",
       "  </tbody>\n",
       "</table>\n",
       "<p>68003 rows × 42 columns</p>\n",
       "</div>"
      ],
      "text/plain": [
       "               Create Date      tenant_name  robot_code robot_name  \\\n",
       "0      2022-09-25 00:00:00  Alime-DRZ-CC-BD  03thkMNkQ3  BD-Daz-LC   \n",
       "1      2022-09-25 00:00:00  Alime-DRZ-CC-BD  03thkMNkQ3  BD-Daz-LC   \n",
       "2      2022-09-25 00:00:00  Alime-DRZ-CC-BD  03thkMNkQ3  BD-Daz-LC   \n",
       "3      2022-09-25 00:00:00  Alime-DRZ-CC-BD  03thkMNkQ3  BD-Daz-LC   \n",
       "4      2022-09-25 00:00:00  Alime-DRZ-CC-BD  03thkMNkQ3  BD-Daz-LC   \n",
       "...                    ...              ...         ...        ...   \n",
       "72944  2022-09-21 00:00:00  Alime-DRZ-CC-BD  03thkMNkQ3  BD-Daz-LC   \n",
       "72945  2022-09-21 00:00:00  Alime-DRZ-CC-BD  03thkMNkQ3  BD-Daz-LC   \n",
       "72946  2022-09-21 00:00:00  Alime-DRZ-CC-BD  03thkMNkQ3  BD-Daz-LC   \n",
       "72947  2022-09-21 00:00:00  Alime-DRZ-CC-BD  03thkMNkQ3  BD-Daz-LC   \n",
       "72948  2022-09-21 00:00:00  Alime-DRZ-CC-BD  03thkMNkQ3  BD-Daz-LC   \n",
       "\n",
       "          from_id         from_name                        Session_id  \\\n",
       "0      T0Bc8Nk94E  BD-Daz-LC-HC-App  16c4d82f348b48d79ea6575fd2b90a36   \n",
       "1      T0Bc8Nk94E  BD-Daz-LC-HC-App  16c4d82f348b48d79ea6575fd2b90a36   \n",
       "2      T0Bc8Nk94E  BD-Daz-LC-HC-App  16c4d82f348b48d79ea6575fd2b90a36   \n",
       "3      T0Bc8Nk94E  BD-Daz-LC-HC-App  16c4d82f348b48d79ea6575fd2b90a36   \n",
       "4      T0Bc8Nk94E  BD-Daz-LC-HC-App  16c4d82f348b48d79ea6575fd2b90a36   \n",
       "...           ...               ...                               ...   \n",
       "72944  zpojXywwrn  BD-Daz-LC-DD-App  c156ba1f71654771b82431f331217f28   \n",
       "72945  zpojXywwrn  BD-Daz-LC-DD-App  c156ba1f71654771b82431f331217f28   \n",
       "72946  zpojXywwrn  BD-Daz-LC-DD-App  c156ba1f71654771b82431f331217f28   \n",
       "72947  zpojXywwrn  BD-Daz-LC-DD-App  c156ba1f71654771b82431f331217f28   \n",
       "72948  zpojXywwrn  BD-Daz-LC-DD-App  c156ba1f71654771b82431f331217f28   \n",
       "\n",
       "                Intention           user_id  Seller id (X-space)  ...  \\\n",
       "0                     NaN  2101100086625906         7.005200e+11  ...   \n",
       "1                     NaN  2101100086625906         7.005200e+11  ...   \n",
       "2                     NaN  2101100086625906         7.005200e+11  ...   \n",
       "3      route_daraz_others  2101100086625906         7.005200e+11  ...   \n",
       "4                     NaN  2101100086625906         7.005200e+11  ...   \n",
       "...                   ...               ...                  ...  ...   \n",
       "72944  route_daraz_others  2101100056887656         7.000258e+11  ...   \n",
       "72945  route_daraz_others  2101100056887656         7.000258e+11  ...   \n",
       "72946                 NaN  2101100056887656         7.000258e+11  ...   \n",
       "72947  route_daraz_others  2101100056887656         7.000258e+11  ...   \n",
       "72948                 NaN  2101100056887656         7.000258e+11  ...   \n",
       "\n",
       "      Feedback Card Response is_chat_recommend is_chat_no answer  \\\n",
       "0                        NaN                 N                 N   \n",
       "1                        NaN                 N                 N   \n",
       "2                        NaN                 N                 N   \n",
       "3                        NaN                 N                 N   \n",
       "4                        NaN                 N                 N   \n",
       "...                      ...               ...               ...   \n",
       "72944                    NaN                 N                 N   \n",
       "72945                    NaN                 N                 N   \n",
       "72946                    NaN                 N                 N   \n",
       "72947                    NaN                 N                 N   \n",
       "72948                    NaN                 N                 N   \n",
       "\n",
       "      is_chat_pre/post match             live agent_session_id  \\\n",
       "0                          Y                               NaN   \n",
       "1                          N                               NaN   \n",
       "2                          Y                               NaN   \n",
       "3                          N                               NaN   \n",
       "4                          Y                               NaN   \n",
       "...                      ...                               ...   \n",
       "72944                      N  817bf312b4f64968a8b7e05705a87604   \n",
       "72945                      N  817bf312b4f64968a8b7e05705a87604   \n",
       "72946                      Y  817bf312b4f64968a8b7e05705a87604   \n",
       "72947                      N  817bf312b4f64968a8b7e05705a87604   \n",
       "72948                      Y  817bf312b4f64968a8b7e05705a87604   \n",
       "\n",
       "      Last Query Before Live Agent Session     Live Agent User Query  \\\n",
       "0                                      NaN                       NaN   \n",
       "1                                      NaN                       NaN   \n",
       "2                                      NaN                       NaN   \n",
       "3                                      NaN                       NaN   \n",
       "4                                      NaN                       NaN   \n",
       "...                                    ...                       ...   \n",
       "72944          আমার একটি অডার সাতে মিল নাই  অর্ডার কিভাবে বাতিল করব?   \n",
       "72945          আমার একটি অডার সাতে মিল নাই  অর্ডার কিভাবে বাতিল করব?   \n",
       "72946          আমার একটি অডার সাতে মিল নাই  অর্ডার কিভাবে বাতিল করব?   \n",
       "72947          আমার একটি অডার সাতে মিল নাই  অর্ডার কিভাবে বাতিল করব?   \n",
       "72948          আমার একটি অডার সাতে মিল নাই  অর্ডার কিভাবে বাতিল করব?   \n",
       "\n",
       "                                     Live Agent Response  Feedback Type  \\\n",
       "0                                                    NaN            NaN   \n",
       "1                                                    NaN            NaN   \n",
       "2                                                    NaN            NaN   \n",
       "3                                                    NaN            NaN   \n",
       "4                                                    NaN            NaN   \n",
       "...                                                  ...            ...   \n",
       "72944  Good day! Welcome to Daraz Live chat support. ...            NaN   \n",
       "72945  Good day! Welcome to Daraz Live chat support. ...            NaN   \n",
       "72946  Good day! Welcome to Daraz Live chat support. ...            NaN   \n",
       "72947  Good day! Welcome to Daraz Live chat support. ...            NaN   \n",
       "72948  Good day! Welcome to Daraz Live chat support. ...            NaN   \n",
       "\n",
       "      Unsatisfied Reason  \n",
       "0                    NaN  \n",
       "1                    NaN  \n",
       "2                    NaN  \n",
       "3                    NaN  \n",
       "4                    NaN  \n",
       "...                  ...  \n",
       "72944                NaN  \n",
       "72945                NaN  \n",
       "72946                NaN  \n",
       "72947                NaN  \n",
       "72948                NaN  \n",
       "\n",
       "[68003 rows x 42 columns]"
      ]
     },
     "execution_count": 14,
     "metadata": {},
     "output_type": "execute_result"
    }
   ],
   "source": [
    "df[(df['is_session_unsatisfied'] == 'N') & (df['is_session_direct_liveagent'] == 'N') & (df[''])]"
   ]
  },
  {
   "cell_type": "code",
   "execution_count": 6,
   "id": "27983208",
   "metadata": {},
   "outputs": [
    {
     "data": {
      "text/html": [
       "<div>\n",
       "<style scoped>\n",
       "    .dataframe tbody tr th:only-of-type {\n",
       "        vertical-align: middle;\n",
       "    }\n",
       "\n",
       "    .dataframe tbody tr th {\n",
       "        vertical-align: top;\n",
       "    }\n",
       "\n",
       "    .dataframe thead th {\n",
       "        text-align: right;\n",
       "    }\n",
       "</style>\n",
       "<table border=\"1\" class=\"dataframe\">\n",
       "  <thead>\n",
       "    <tr style=\"text-align: right;\">\n",
       "      <th></th>\n",
       "      <th>Create Date</th>\n",
       "      <th>tenant_name</th>\n",
       "      <th>robot_code</th>\n",
       "      <th>robot_name</th>\n",
       "      <th>from_id</th>\n",
       "      <th>from_name</th>\n",
       "      <th>Session_id</th>\n",
       "      <th>Intention</th>\n",
       "      <th>user_id</th>\n",
       "      <th>Seller id (X-space)</th>\n",
       "      <th>...</th>\n",
       "      <th>Feedback Card Response</th>\n",
       "      <th>is_chat_recommend</th>\n",
       "      <th>is_chat_no answer</th>\n",
       "      <th>is_chat_pre/post match</th>\n",
       "      <th>live agent_session_id</th>\n",
       "      <th>Last Query Before Live Agent Session</th>\n",
       "      <th>Live Agent User Query</th>\n",
       "      <th>Live Agent Response</th>\n",
       "      <th>Feedback Type</th>\n",
       "      <th>Unsatisfied Reason</th>\n",
       "    </tr>\n",
       "  </thead>\n",
       "  <tbody>\n",
       "    <tr>\n",
       "      <th>0</th>\n",
       "      <td>2022-09-25 00:00:00</td>\n",
       "      <td>Alime-DRZ-CC-BD</td>\n",
       "      <td>03thkMNkQ3</td>\n",
       "      <td>BD-Daz-LC</td>\n",
       "      <td>T0Bc8Nk94E</td>\n",
       "      <td>BD-Daz-LC-HC-App</td>\n",
       "      <td>16c4d82f348b48d79ea6575fd2b90a36</td>\n",
       "      <td>NaN</td>\n",
       "      <td>2101100086625906</td>\n",
       "      <td>7.005200e+11</td>\n",
       "      <td>...</td>\n",
       "      <td>NaN</td>\n",
       "      <td>N</td>\n",
       "      <td>N</td>\n",
       "      <td>Y</td>\n",
       "      <td>NaN</td>\n",
       "      <td>NaN</td>\n",
       "      <td>NaN</td>\n",
       "      <td>NaN</td>\n",
       "      <td>NaN</td>\n",
       "      <td>NaN</td>\n",
       "    </tr>\n",
       "    <tr>\n",
       "      <th>1</th>\n",
       "      <td>2022-09-25 00:00:00</td>\n",
       "      <td>Alime-DRZ-CC-BD</td>\n",
       "      <td>03thkMNkQ3</td>\n",
       "      <td>BD-Daz-LC</td>\n",
       "      <td>T0Bc8Nk94E</td>\n",
       "      <td>BD-Daz-LC-HC-App</td>\n",
       "      <td>16c4d82f348b48d79ea6575fd2b90a36</td>\n",
       "      <td>NaN</td>\n",
       "      <td>2101100086625906</td>\n",
       "      <td>7.005200e+11</td>\n",
       "      <td>...</td>\n",
       "      <td>NaN</td>\n",
       "      <td>N</td>\n",
       "      <td>N</td>\n",
       "      <td>N</td>\n",
       "      <td>NaN</td>\n",
       "      <td>NaN</td>\n",
       "      <td>NaN</td>\n",
       "      <td>NaN</td>\n",
       "      <td>NaN</td>\n",
       "      <td>NaN</td>\n",
       "    </tr>\n",
       "  </tbody>\n",
       "</table>\n",
       "<p>2 rows × 42 columns</p>\n",
       "</div>"
      ],
      "text/plain": [
       "           Create Date      tenant_name  robot_code robot_name     from_id  \\\n",
       "0  2022-09-25 00:00:00  Alime-DRZ-CC-BD  03thkMNkQ3  BD-Daz-LC  T0Bc8Nk94E   \n",
       "1  2022-09-25 00:00:00  Alime-DRZ-CC-BD  03thkMNkQ3  BD-Daz-LC  T0Bc8Nk94E   \n",
       "\n",
       "          from_name                        Session_id Intention  \\\n",
       "0  BD-Daz-LC-HC-App  16c4d82f348b48d79ea6575fd2b90a36       NaN   \n",
       "1  BD-Daz-LC-HC-App  16c4d82f348b48d79ea6575fd2b90a36       NaN   \n",
       "\n",
       "            user_id  Seller id (X-space)  ... Feedback Card Response  \\\n",
       "0  2101100086625906         7.005200e+11  ...                    NaN   \n",
       "1  2101100086625906         7.005200e+11  ...                    NaN   \n",
       "\n",
       "  is_chat_recommend is_chat_no answer is_chat_pre/post match  \\\n",
       "0                 N                 N                      Y   \n",
       "1                 N                 N                      N   \n",
       "\n",
       "  live agent_session_id Last Query Before Live Agent Session  \\\n",
       "0                   NaN                                  NaN   \n",
       "1                   NaN                                  NaN   \n",
       "\n",
       "  Live Agent User Query Live Agent Response  Feedback Type Unsatisfied Reason  \n",
       "0                   NaN                 NaN            NaN                NaN  \n",
       "1                   NaN                 NaN            NaN                NaN  \n",
       "\n",
       "[2 rows x 42 columns]"
      ]
     },
     "execution_count": 6,
     "metadata": {},
     "output_type": "execute_result"
    }
   ],
   "source": [
    "df.head(2)"
   ]
  },
  {
   "cell_type": "code",
   "execution_count": 8,
   "id": "a871eb36",
   "metadata": {},
   "outputs": [
    {
     "data": {
      "text/html": [
       "<div>\n",
       "<style scoped>\n",
       "    .dataframe tbody tr th:only-of-type {\n",
       "        vertical-align: middle;\n",
       "    }\n",
       "\n",
       "    .dataframe tbody tr th {\n",
       "        vertical-align: top;\n",
       "    }\n",
       "\n",
       "    .dataframe thead th {\n",
       "        text-align: right;\n",
       "    }\n",
       "</style>\n",
       "<table border=\"1\" class=\"dataframe\">\n",
       "  <thead>\n",
       "    <tr style=\"text-align: right;\">\n",
       "      <th></th>\n",
       "      <th>Create Date</th>\n",
       "      <th>tenant_name</th>\n",
       "      <th>robot_code</th>\n",
       "      <th>robot_name</th>\n",
       "      <th>from_id</th>\n",
       "      <th>from_name</th>\n",
       "      <th>Session_id</th>\n",
       "      <th>Intention</th>\n",
       "      <th>user_id</th>\n",
       "      <th>Seller id (X-space)</th>\n",
       "      <th>...</th>\n",
       "      <th>Feedback Card Response</th>\n",
       "      <th>is_chat_recommend</th>\n",
       "      <th>is_chat_no answer</th>\n",
       "      <th>is_chat_pre/post match</th>\n",
       "      <th>live agent_session_id</th>\n",
       "      <th>Last Query Before Live Agent Session</th>\n",
       "      <th>Live Agent User Query</th>\n",
       "      <th>Live Agent Response</th>\n",
       "      <th>Feedback Type</th>\n",
       "      <th>Unsatisfied Reason</th>\n",
       "    </tr>\n",
       "  </thead>\n",
       "  <tbody>\n",
       "    <tr>\n",
       "      <th>72947</th>\n",
       "      <td>2022-09-21 00:00:00</td>\n",
       "      <td>Alime-DRZ-CC-BD</td>\n",
       "      <td>03thkMNkQ3</td>\n",
       "      <td>BD-Daz-LC</td>\n",
       "      <td>zpojXywwrn</td>\n",
       "      <td>BD-Daz-LC-DD-App</td>\n",
       "      <td>c156ba1f71654771b82431f331217f28</td>\n",
       "      <td>route_daraz_others</td>\n",
       "      <td>2101100056887656</td>\n",
       "      <td>7.000258e+11</td>\n",
       "      <td>...</td>\n",
       "      <td>NaN</td>\n",
       "      <td>N</td>\n",
       "      <td>N</td>\n",
       "      <td>N</td>\n",
       "      <td>817bf312b4f64968a8b7e05705a87604</td>\n",
       "      <td>আমার একটি অডার সাতে মিল নাই</td>\n",
       "      <td>অর্ডার কিভাবে বাতিল করব?</td>\n",
       "      <td>Good day! Welcome to Daraz Live chat support. ...</td>\n",
       "      <td>NaN</td>\n",
       "      <td>NaN</td>\n",
       "    </tr>\n",
       "    <tr>\n",
       "      <th>72948</th>\n",
       "      <td>2022-09-21 00:00:00</td>\n",
       "      <td>Alime-DRZ-CC-BD</td>\n",
       "      <td>03thkMNkQ3</td>\n",
       "      <td>BD-Daz-LC</td>\n",
       "      <td>zpojXywwrn</td>\n",
       "      <td>BD-Daz-LC-DD-App</td>\n",
       "      <td>c156ba1f71654771b82431f331217f28</td>\n",
       "      <td>NaN</td>\n",
       "      <td>2101100056887656</td>\n",
       "      <td>7.000258e+11</td>\n",
       "      <td>...</td>\n",
       "      <td>NaN</td>\n",
       "      <td>N</td>\n",
       "      <td>N</td>\n",
       "      <td>Y</td>\n",
       "      <td>817bf312b4f64968a8b7e05705a87604</td>\n",
       "      <td>আমার একটি অডার সাতে মিল নাই</td>\n",
       "      <td>অর্ডার কিভাবে বাতিল করব?</td>\n",
       "      <td>Good day! Welcome to Daraz Live chat support. ...</td>\n",
       "      <td>NaN</td>\n",
       "      <td>NaN</td>\n",
       "    </tr>\n",
       "  </tbody>\n",
       "</table>\n",
       "<p>2 rows × 42 columns</p>\n",
       "</div>"
      ],
      "text/plain": [
       "               Create Date      tenant_name  robot_code robot_name  \\\n",
       "72947  2022-09-21 00:00:00  Alime-DRZ-CC-BD  03thkMNkQ3  BD-Daz-LC   \n",
       "72948  2022-09-21 00:00:00  Alime-DRZ-CC-BD  03thkMNkQ3  BD-Daz-LC   \n",
       "\n",
       "          from_id         from_name                        Session_id  \\\n",
       "72947  zpojXywwrn  BD-Daz-LC-DD-App  c156ba1f71654771b82431f331217f28   \n",
       "72948  zpojXywwrn  BD-Daz-LC-DD-App  c156ba1f71654771b82431f331217f28   \n",
       "\n",
       "                Intention           user_id  Seller id (X-space)  ...  \\\n",
       "72947  route_daraz_others  2101100056887656         7.000258e+11  ...   \n",
       "72948                 NaN  2101100056887656         7.000258e+11  ...   \n",
       "\n",
       "      Feedback Card Response is_chat_recommend is_chat_no answer  \\\n",
       "72947                    NaN                 N                 N   \n",
       "72948                    NaN                 N                 N   \n",
       "\n",
       "      is_chat_pre/post match             live agent_session_id  \\\n",
       "72947                      N  817bf312b4f64968a8b7e05705a87604   \n",
       "72948                      Y  817bf312b4f64968a8b7e05705a87604   \n",
       "\n",
       "      Last Query Before Live Agent Session     Live Agent User Query  \\\n",
       "72947          আমার একটি অডার সাতে মিল নাই  অর্ডার কিভাবে বাতিল করব?   \n",
       "72948          আমার একটি অডার সাতে মিল নাই  অর্ডার কিভাবে বাতিল করব?   \n",
       "\n",
       "                                     Live Agent Response  Feedback Type  \\\n",
       "72947  Good day! Welcome to Daraz Live chat support. ...            NaN   \n",
       "72948  Good day! Welcome to Daraz Live chat support. ...            NaN   \n",
       "\n",
       "      Unsatisfied Reason  \n",
       "72947                NaN  \n",
       "72948                NaN  \n",
       "\n",
       "[2 rows x 42 columns]"
      ]
     },
     "execution_count": 8,
     "metadata": {},
     "output_type": "execute_result"
    }
   ],
   "source": [
    "df.tail(2)"
   ]
  },
  {
   "cell_type": "code",
   "execution_count": null,
   "id": "2841b6de",
   "metadata": {},
   "outputs": [],
   "source": [
    "df"
   ]
  },
  {
   "cell_type": "code",
   "execution_count": 77,
   "id": "4b876486-d207-4b67-b6bc-50906912de0d",
   "metadata": {},
   "outputs": [
    {
     "name": "stderr",
     "output_type": "stream",
     "text": [
      "/tmp/ipykernel_7567/1935503997.py:11: SettingWithCopyWarning: \n",
      "A value is trying to be set on a copy of a slice from a DataFrame\n",
      "\n",
      "See the caveats in the documentation: https://pandas.pydata.org/pandas-docs/stable/user_guide/indexing.html#returning-a-view-versus-a-copy\n",
      "  FA1[\"lang\"][i] = ln_source.src\n",
      "/mnt/d/Anaconda/Anaconda2021/lib/python3.9/site-packages/pandas/core/indexing.py:1732: SettingWithCopyWarning: \n",
      "A value is trying to be set on a copy of a slice from a DataFrame\n",
      "\n",
      "See the caveats in the documentation: https://pandas.pydata.org/pandas-docs/stable/user_guide/indexing.html#returning-a-view-versus-a-copy\n",
      "  self._setitem_single_block(indexer, value, name)\n"
     ]
    }
   ],
   "source": [
    "#C#2\n",
    "\n",
    "#Load Data and save as a dataframe\n",
    "FA1 = pd.read_csv(\"April 19-24 - raw.csv\")\n",
    "\n",
    "FA1['lang'] = 0\n",
    "\n",
    "for i in range(len(FA1)):\n",
    "  text = FA1[\"query\"][i]\n",
    "  ln_source = translator.translate(text)\n",
    "  FA1[\"lang\"][i] = ln_source.src"
   ]
  },
  {
   "cell_type": "code",
   "execution_count": 78,
   "id": "a4e926b7",
   "metadata": {},
   "outputs": [],
   "source": [
    "#C#3\n",
    "\n",
    "# Classification of data\n",
    "FA1_is_chat_no_answerY = FA1[FA1['is_chat_no answer'] == \"Y\"] #filtering out the people whose chats had no answer\n",
    "FA1_is_chat_no_answerN = FA1[FA1['is_chat_no answer'] == \"N\"] #filtering out the people whose chats had an answer"
   ]
  },
  {
   "cell_type": "code",
   "execution_count": 79,
   "id": "0cb3505f-1748-420d-ae30-070fd7d22ea7",
   "metadata": {},
   "outputs": [
    {
     "name": "stdout",
     "output_type": "stream",
     "text": [
      "Number of people whose chat were not answered: 221\n",
      "Number of people whose numbers were answered: 779\n",
      "Number of current rows: 45\n"
     ]
    }
   ],
   "source": [
    "#C#4\n",
    "\n",
    "#Classify the number of people whose chats answered and not answered\n",
    "print(\"Number of people whose chat were not answered:\", FA1['is_chat_no answer'].value_counts()['Y']) \n",
    "print(\"Number of people whose numbers were answered:\",FA1['is_chat_no answer'].value_counts()['N']) \n",
    "\n",
    "print(\"Number of current rows:\", FA1.shape[1])"
   ]
  },
  {
   "cell_type": "markdown",
   "id": "c2846bd3",
   "metadata": {},
   "source": [
    "\n",
    "#### Classification of the number of people whose chats were answered or not"
   ]
  },
  {
   "cell_type": "code",
   "execution_count": 80,
   "id": "7bf17b12",
   "metadata": {},
   "outputs": [
    {
     "data": {
      "image/png": "[encoded data removed]",
      "text/plain": [
       "<Figure size 432x288 with 1 Axes>"
      ]
     },
     "metadata": {
      "needs_background": "light"
     },
     "output_type": "display_data"
    }
   ],
   "source": [
    "#C#5\n",
    "\n",
    "ax = sns.countplot(data = FA1, x = 'is_chat_no answer')"
   ]
  },
  {
   "cell_type": "code",
   "execution_count": 81,
   "id": "2e86bbd3",
   "metadata": {},
   "outputs": [
    {
     "data": {
      "image/png": "[encoded data removed]",
      "text/plain": [
       "<Figure size 432x288 with 1 Axes>"
      ]
     },
     "metadata": {
      "needs_background": "light"
     },
     "output_type": "display_data"
    }
   ],
   "source": [
    "#C#6\n",
    "\n",
    "FA1_lang = FA1['lang'].unique().tolist()[0:2]\n",
    "\n",
    "FA1_anomaly_lang_filtered = FA1[FA1['lang'].isin(FA1_lang)]\n",
    "\n",
    "ax = sns.countplot(data = FA1_anomaly_lang_filtered, x = 'is_chat_no answer', hue = 'lang')"
   ]
  },
  {
   "cell_type": "code",
   "execution_count": 82,
   "id": "b2ad5951",
   "metadata": {},
   "outputs": [
    {
     "name": "stdout",
     "output_type": "stream",
     "text": [
      "Queries not answered and query language English 5.7% Count: 57\n",
      "Queries not answered and query language Bangla 14.0% Count: 140\n",
      "Queries answered and query language English 28.5% Count: 285\n",
      "Queries answered and query language Bangla 47.8% Count: 478\n",
      "Anomaly detected during language detection: 4.0% Count: 40\n"
     ]
    }
   ],
   "source": [
    "#C#7\n",
    "\n",
    "FA1ENCountY = FA1_is_chat_no_answerY['lang'].value_counts()['en']\n",
    "FA1LCCountY = FA1_is_chat_no_answerY['lang'].value_counts()['bn']\n",
    "FA1ENCountN = FA1_is_chat_no_answerN['lang'].value_counts()['en']\n",
    "FA1LCCountN = FA1_is_chat_no_answerN['lang'].value_counts()['bn']\n",
    "FA1CountAnomalyLang = FA1['lang'].count() - (FA1ENCountY + FA1LCCountY + FA1ENCountN + FA1LCCountN)\n",
    "\n",
    "\n",
    "print(\"Queries not answered and query language English\", percentage(FA1ENCountY,  FA1.shape[0]), \"Count:\", FA1ENCountY)\n",
    "print(\"Queries not answered and query language Bangla\", percentage(FA1LCCountY, FA1.shape[0]), \"Count:\", FA1LCCountY)\n",
    "print(\"Queries answered and query language English\", percentage(FA1ENCountN, FA1.shape[0]), \"Count:\",FA1ENCountN)\n",
    "print(\"Queries answered and query language Bangla\", percentage(FA1LCCountN, FA1.shape[0]), \"Count:\",FA1LCCountN)\n",
    "print(\"Anomaly detected during language detection:\", percentage(FA1CountAnomalyLang, FA1.shape[0]), \"Count:\",FA1CountAnomalyLang)\n",
    "\n"
   ]
  },
  {
   "cell_type": "code",
   "execution_count": 83,
   "id": "f0613f9c-4a0f-43d0-919b-e6f32589cf55",
   "metadata": {},
   "outputs": [],
   "source": [
    "#C#8\n",
    "\n",
    "FA1_is_chat_no_answerY = FA1_is_chat_no_answerY.reset_index()  #reset index to ensure array number consistency\n",
    "FA1_is_chat_no_answerY = FA1_is_chat_no_answerY.drop(FA1_is_chat_no_answerY.columns[[0, 1]], axis = 1) #Drop redundant columns (DatC)\n",
    "#FA1_is_chat_no_answerY = phase1_is_chat_no_answer"
   ]
  },
  {
   "cell_type": "code",
   "execution_count": 84,
   "id": "7376b741",
   "metadata": {},
   "outputs": [],
   "source": [
    "#C#9\n",
    "\n",
    "FA1_is_chat_no_answerN = FA1_is_chat_no_answerN.reset_index()  ##reset index to ensure array number consistency\n",
    "FA1_is_chat_no_answerN = FA1_is_chat_no_answerN.drop(FA1_is_chat_no_answerN.columns[[0, 1]], axis = 1)  #Drop redundant columns (DatC)"
   ]
  },
  {
   "cell_type": "code",
   "execution_count": 85,
   "id": "47c5dc4b-bf25-4217-b311-dee1bd5cbcd2",
   "metadata": {},
   "outputs": [
    {
     "name": "stdout",
     "output_type": "stream",
     "text": [
      "Queries that were not answered\n"
     ]
    },
    {
     "data": {
      "text/plain": [
       "0                                          এখন কি করবো\n",
       "1                 Sir amar order conform hocce na kano\n",
       "2                                         kono.kajer a\n",
       "3                                  amr ekta order selo\n",
       "4    Amar basa parbotipur kintu parbotipur jaygata ...\n",
       "5                     Mystery box surprise offer takbe\n",
       "6                               27 tarik ar modde asbe\n",
       "7                                       Ekta qsnchilow\n",
       "8                                      এখন আমি কি করবো\n",
       "9                  ami pono ordar koresi ata cobe pabo\n",
       "Name: query, dtype: object"
      ]
     },
     "metadata": {},
     "output_type": "display_data"
    },
    {
     "name": "stdout",
     "output_type": "stream",
     "text": [
      "Queries that were answered \n"
     ]
    },
    {
     "data": {
      "text/plain": [
       "0                how to buy mystery box..?\n",
       "1                       আমার অর্ডার কোথায়?\n",
       "2                       আমার অর্ডার কোথায়?\n",
       "3                                        0\n",
       "4                       আমার অর্ডার কোথায়?\n",
       "5                                        ও\n",
       "6       কালেকশন পয়েন্ট কোন সময়ে খোলা থাকবে\n",
       "7    আমি কি আমার অর্ডারটি বাতিল করতে পারি?\n",
       "8                      Taka detail parbona\n",
       "9                                      Hlw\n",
       "Name: query, dtype: object"
      ]
     },
     "metadata": {},
     "output_type": "display_data"
    }
   ],
   "source": [
    "#C#10\n",
    "\n",
    "#This cell requires further editing to print the top KTs or SOPs instead of the top 10 quries\n",
    "print(\"Queries that were not answered\")\n",
    "display(FA1_is_chat_no_answerY[\"query\"][0:10])\n",
    "print(\"Queries that were answered \")\n",
    "display(FA1_is_chat_no_answerN[\"query\"][0:10])"
   ]
  },
  {
   "cell_type": "markdown",
   "id": "274b7a24",
   "metadata": {},
   "source": [
    "#### Granular Details of the language"
   ]
  },
  {
   "cell_type": "code",
   "execution_count": 86,
   "id": "42abe0e0",
   "metadata": {},
   "outputs": [
    {
     "name": "stderr",
     "output_type": "stream",
     "text": [
      "/mnt/d/Anaconda/Anaconda2021/lib/python3.9/site-packages/seaborn/_decorators.py:36: FutureWarning: Pass the following variable as a keyword arg: x. From version 0.12, the only valid positional argument will be `data`, and passing other arguments without an explicit keyword will result in an error or misinterpretation.\n",
      "  warnings.warn(\n",
      "/mnt/d/Anaconda/Anaconda2021/lib/python3.9/site-packages/seaborn/_decorators.py:36: FutureWarning: Pass the following variable as a keyword arg: x. From version 0.12, the only valid positional argument will be `data`, and passing other arguments without an explicit keyword will result in an error or misinterpretation.\n",
      "  warnings.warn(\n",
      "/tmp/ipykernel_7567/1487030758.py:6: UserWarning: Matplotlib is currently using module://matplotlib_inline.backend_inline, which is a non-GUI backend, so cannot show the figure.\n",
      "  fig.show()\n"
     ]
    },
    {
     "data": {
      "image/png": "[encoded data removed]",
      "text/plain": [
       "<Figure size 432x288 with 2 Axes>"
      ]
     },
     "metadata": {
      "needs_background": "light"
     },
     "output_type": "display_data"
    }
   ],
   "source": [
    "#C#11\n",
    "\n",
    "fig, ax = plt.subplots(1,2)\n",
    "sns.countplot(FA1_is_chat_no_answerN['lang'], ax=ax[0]).set(title=\"Answered\")\n",
    "sns.countplot(FA1_is_chat_no_answerY['lang'], ax=ax[1]).set(title=\"Not answered\")\n",
    "fig.show()\n"
   ]
  },
  {
   "cell_type": "code",
   "execution_count": 87,
   "id": "6df83b59",
   "metadata": {},
   "outputs": [
    {
     "name": "stdout",
     "output_type": "stream",
     "text": [
      "Breakdown of language of queries that were answered by the chatbot\n"
     ]
    },
    {
     "data": {
      "text/plain": [
       "bn    478\n",
       "en    285\n",
       "de      5\n",
       "hi      3\n",
       "tl      1\n",
       "et      1\n",
       "gd      1\n",
       "es      1\n",
       "no      1\n",
       "ja      1\n",
       "cs      1\n",
       "lv      1\n",
       "Name: lang, dtype: int64"
      ]
     },
     "metadata": {},
     "output_type": "display_data"
    },
    {
     "name": "stdout",
     "output_type": "stream",
     "text": [
      "Breakdown of language of queries that were not answered by the chatbot\n"
     ]
    },
    {
     "data": {
      "text/plain": [
       "bn       140\n",
       "en        57\n",
       "hi         5\n",
       "ja         3\n",
       "tl         2\n",
       "mr         2\n",
       "gu         2\n",
       "hr         1\n",
       "ro         1\n",
       "el         1\n",
       "de         1\n",
       "it         1\n",
       "kri        1\n",
       "zh-CN      1\n",
       "hu         1\n",
       "bm         1\n",
       "sk         1\n",
       "Name: lang, dtype: int64"
      ]
     },
     "metadata": {},
     "output_type": "display_data"
    }
   ],
   "source": [
    "#C#12\n",
    "\n",
    "print(\"Breakdown of language of queries that were answered by the chatbot\")\n",
    "display(FA1_is_chat_no_answerN['lang'].value_counts())\n",
    "print(\"Breakdown of language of queries that were not answered by the chatbot\")\n",
    "display(FA1_is_chat_no_answerY['lang'].value_counts())"
   ]
  },
  {
   "cell_type": "code",
   "execution_count": 90,
   "id": "72a7dff0-85c6-4a2a-8bc9-e6400cfb6797",
   "metadata": {},
   "outputs": [],
   "source": [
    "#C#13\n",
    "\n",
    "#Anomaly datframe creation for future reference\n",
    "\n",
    "FA1_lang = FA1['lang'].unique().tolist()[2:-1]\n",
    "\n",
    "FA1_anomaly_langDF = FA1.loc[FA1['lang'].isin(FA1_lang)]   #Find all the rows \n",
    "\n",
    "FA1_anomaly_langDF = FA1_anomaly_langDF.reset_index()  #Reset index\n",
    "\n",
    "FA1_anomaly_langDF = FA1_anomaly_langDF.drop(FA1_anomaly_langDF.columns[[0, 1]], axis = 1)  #Drop the redundant Index column\n",
    "\n",
    "# FA1_anomaly_langDF  #Prepared dataframe for data manipulation"
   ]
  },
  {
   "cell_type": "code",
   "execution_count": 89,
   "id": "b969f83c-663c-4d05-bcbd-bd5a5c0aa5cb",
   "metadata": {},
   "outputs": [
    {
     "data": {
      "text/plain": [
       "13    Proceed to pay te jeye r odr dwa jashe nah\n",
       "30                         Order bocce name keno\n",
       "Name: query, dtype: object"
      ]
     },
     "execution_count": 89,
     "metadata": {},
     "output_type": "execute_result"
    }
   ],
   "source": [
    "#C#14\n",
    "\n",
    "#Samples to check in the language anomaly detection \n",
    "\n",
    "FA1_anomaly_langDF[FA1_anomaly_langDF['lang'] == \"gu\"][\"query\"]    #To check the queries that are being considered as anomaly"
   ]
  },
  {
   "cell_type": "markdown",
   "id": "9dc86d99-d5ad-4d71-960a-467f300c6ce6",
   "metadata": {},
   "source": [
    "### Focus Area One (FA2)"
   ]
  },
  {
   "cell_type": "markdown",
   "id": "20034c27-f408-4170-8061-bccbbb30a795",
   "metadata": {},
   "source": [
    "#### The rows that needs to be selected\n",
    "\n",
    "Focus area objectives:\n",
    "\n",
    "1) Find if the queries mathces with the Standard Knowledge Title\n",
    "\n",
    "The following columns are required:\n",
    "\n",
    "is_session_unsatisfied <br>\n",
    "call_agent_by_click_shortcut <br>\n",
    "call_agent_by_intention <br>\n",
    "is_chat_no answer <br>\n",
    "switch <br>\n",
    "Correct Answer Yes/No <br>"
   ]
  },
  {
   "cell_type": "markdown",
   "id": "b1c4950b",
   "metadata": {},
   "source": [
    "##### Similarities between the queries and the Standar Knowledge Title"
   ]
  },
  {
   "cell_type": "code",
   "execution_count": 100,
   "id": "71838a0b-4958-4462-9cba-c015fdc8518c",
   "metadata": {},
   "outputs": [
    {
     "data": {
      "text/plain": [
       "No Answer Routing    221\n",
       "Name: Question Type, dtype: int64"
      ]
     },
     "metadata": {},
     "output_type": "display_data"
    },
    {
     "data": {
      "text/plain": [
       "SOP                       303\n",
       "KBS                       208\n",
       "Instruct to Live Agent     89\n",
       "Recommendation             85\n",
       "Chitchat                   41\n",
       "Garbage                    37\n",
       "订单号反问(正向)                   8\n",
       "Image                       5\n",
       "Pre-Match                   3\n",
       "Name: Question Type, dtype: int64"
      ]
     },
     "metadata": {},
     "output_type": "display_data"
    }
   ],
   "source": [
    "#Testing\n",
    "\n",
    "#if is_session_unsatisfied == \"N\": there is an answer\n",
    "# if is_session_unsatisfied == \"Y\": there is no answer\n",
    "#FA1_is_chat_no_answerY     #check answers\n",
    "#FA1['Question Type'].unique()\n",
    "display(FA1_is_chat_no_answerY['Question Type'].value_counts())\n",
    "\n",
    "display(FA1_is_chat_no_answerN['Question Type'].value_counts())"
   ]
  },
  {
   "cell_type": "code",
   "execution_count": 2,
   "id": "5d4c1de7",
   "metadata": {},
   "outputs": [],
   "source": [
    "#Testing\n",
    "\n",
    "embeddings = laser.embed_sentences(\n",
    "    ['What is the price of this product?',\n",
    "     'আমার অর্ডার কোথায়?'],\n",
    "    lang=['en', 'be'])"
   ]
  },
  {
   "cell_type": "code",
   "execution_count": 11,
   "id": "88ed335f",
   "metadata": {},
   "outputs": [
    {
     "data": {
      "text/plain": [
       "1024"
      ]
     },
     "execution_count": 11,
     "metadata": {},
     "output_type": "execute_result"
    }
   ],
   "source": [
    "len(embeddings[0])"
   ]
  },
  {
   "cell_type": "code",
   "execution_count": 14,
   "id": "bfe23df8",
   "metadata": {},
   "outputs": [
    {
     "data": {
      "text/plain": [
       "array([[ 3.7370098e-03, -4.7304547e-05, -1.5329365e-03, ...,\n",
       "        -1.6499510e-03, -5.3946152e-03,  2.8023852e-02]], dtype=float32)"
      ]
     },
     "execution_count": 14,
     "metadata": {},
     "output_type": "execute_result"
    }
   ],
   "source": [
    "embeddings[0].reshape(1,-1)"
   ]
  },
  {
   "cell_type": "code",
   "execution_count": 13,
   "id": "6a28ca5e",
   "metadata": {},
   "outputs": [
    {
     "name": "stdout",
     "output_type": "stream",
     "text": [
      "0.46110889315605164\n",
      "[[0.4611089]]\n"
     ]
    }
   ],
   "source": [
    "#Testing\n",
    "\n",
    "print(1 - distance.cosine(embeddings[0], embeddings[1]))\n",
    "print(cosine_similarity(embeddings[0].reshape(1,-1), embeddings[1].reshape(1,-1)))"
   ]
  },
  {
   "cell_type": "code",
   "execution_count": 5,
   "id": "4fe19c5c",
   "metadata": {},
   "outputs": [
    {
     "ename": "NameError",
     "evalue": "name 'FA1_is_chat_no_answerY' is not defined",
     "output_type": "error",
     "traceback": [
      "\u001b[1;31m---------------------------------------------------------------------------\u001b[0m",
      "\u001b[1;31mNameError\u001b[0m                                 Traceback (most recent call last)",
      "\u001b[1;32m~\\AppData\\Local\\Temp/ipykernel_15976/588380037.py\u001b[0m in \u001b[0;36m<module>\u001b[1;34m\u001b[0m\n\u001b[0;32m      1\u001b[0m \u001b[1;31m#Testing\u001b[0m\u001b[1;33m\u001b[0m\u001b[1;33m\u001b[0m\u001b[0m\n\u001b[0;32m      2\u001b[0m \u001b[1;33m\u001b[0m\u001b[0m\n\u001b[1;32m----> 3\u001b[1;33m \u001b[1;32mfor\u001b[0m \u001b[0mi\u001b[0m \u001b[1;32min\u001b[0m \u001b[0mrange\u001b[0m\u001b[1;33m(\u001b[0m\u001b[0mlen\u001b[0m\u001b[1;33m(\u001b[0m\u001b[0mFA1_is_chat_no_answerY\u001b[0m\u001b[1;33m)\u001b[0m\u001b[1;33m)\u001b[0m\u001b[1;33m:\u001b[0m\u001b[1;33m\u001b[0m\u001b[1;33m\u001b[0m\u001b[0m\n\u001b[0m\u001b[0;32m      4\u001b[0m   \u001b[0mtext\u001b[0m \u001b[1;33m=\u001b[0m \u001b[0mFA1_is_chat_no_answerY\u001b[0m\u001b[1;33m[\u001b[0m\u001b[1;34m\"query\"\u001b[0m\u001b[1;33m]\u001b[0m\u001b[1;33m[\u001b[0m\u001b[0mi\u001b[0m\u001b[1;33m]\u001b[0m\u001b[1;33m\u001b[0m\u001b[1;33m\u001b[0m\u001b[0m\n\u001b[0;32m      5\u001b[0m   \u001b[0mln_source\u001b[0m \u001b[1;33m=\u001b[0m \u001b[0mtranslator\u001b[0m\u001b[1;33m.\u001b[0m\u001b[0mtranslate\u001b[0m\u001b[1;33m(\u001b[0m\u001b[0mtext\u001b[0m\u001b[1;33m)\u001b[0m\u001b[1;33m\u001b[0m\u001b[1;33m\u001b[0m\u001b[0m\n",
      "\u001b[1;31mNameError\u001b[0m: name 'FA1_is_chat_no_answerY' is not defined"
     ]
    }
   ],
   "source": [
    "# #Testing\n",
    "\n",
    "# for i in range(len(FA1_is_chat_no_answerY)):\n",
    "#   text = FA1_is_chat_no_answerY[\"query\"][i] \n",
    "#   ln_source = translator.translate(text)\n",
    "#   FA1[\"lang\"][i] = ln_source.src"
   ]
  },
  {
   "cell_type": "code",
   "execution_count": null,
   "id": "d07f18db",
   "metadata": {},
   "outputs": [],
   "source": []
  }
 ],
 "metadata": {
  "interpreter": {
   "hash": "0606053452435824a427f0ea93d6ae20786397642025bcc66bfe96b66155d44b"
  },
  "kernelspec": {
   "display_name": "Python 3.9.7 ('base')",
   "language": "python",
   "name": "python3"
  },
  "language_info": {
   "codemirror_mode": {
    "name": "ipython",
    "version": 3
   },
   "file_extension": ".py",
   "mimetype": "text/x-python",
   "name": "python",
   "nbconvert_exporter": "python",
   "pygments_lexer": "ipython3",
   "version": "3.9.7"
  },
  "toc-autonumbering": false,
  "toc-showcode": true,
  "toc-showmarkdowntxt": false
 },
 "nbformat": 4,
 "nbformat_minor": 5
}
