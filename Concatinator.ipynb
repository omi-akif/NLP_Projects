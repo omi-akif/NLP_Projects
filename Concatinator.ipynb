{
 "cells": [
  {
   "cell_type": "code",
   "execution_count": 99,
   "metadata": {},
   "outputs": [],
   "source": [
    "df = pd.DataFrame(np.random.randint(0, 2, (10, 4)), columns=list('abcd'))"
   ]
  },
  {
   "cell_type": "code",
   "execution_count": null,
   "metadata": {},
   "outputs": [],
   "source": []
  },
  {
   "cell_type": "code",
   "execution_count": 101,
   "metadata": {},
   "outputs": [
    {
     "data": {
      "text/html": [
       "<div>\n",
       "<style scoped>\n",
       "    .dataframe tbody tr th:only-of-type {\n",
       "        vertical-align: middle;\n",
       "    }\n",
       "\n",
       "    .dataframe tbody tr th {\n",
       "        vertical-align: top;\n",
       "    }\n",
       "\n",
       "    .dataframe thead th {\n",
       "        text-align: right;\n",
       "    }\n",
       "</style>\n",
       "<table border=\"1\" class=\"dataframe\">\n",
       "  <thead>\n",
       "    <tr style=\"text-align: right;\">\n",
       "      <th></th>\n",
       "      <th>a</th>\n",
       "      <th>b</th>\n",
       "      <th>c</th>\n",
       "      <th>d</th>\n",
       "    </tr>\n",
       "  </thead>\n",
       "  <tbody>\n",
       "    <tr>\n",
       "      <th>0</th>\n",
       "      <td>4</td>\n",
       "      <td>3</td>\n",
       "      <td>7</td>\n",
       "      <td>7</td>\n",
       "    </tr>\n",
       "    <tr>\n",
       "      <th>1</th>\n",
       "      <td>6</td>\n",
       "      <td>7</td>\n",
       "      <td>3</td>\n",
       "      <td>3</td>\n",
       "    </tr>\n",
       "  </tbody>\n",
       "</table>\n",
       "</div>"
      ],
      "text/plain": [
       "   a  b  c  d\n",
       "0  4  3  7  7\n",
       "1  6  7  3  3"
      ]
     },
     "execution_count": 101,
     "metadata": {},
     "output_type": "execute_result"
    }
   ],
   "source": [
    "df.apply(pd.Series.value_counts)"
   ]
  },
  {
   "cell_type": "code",
   "execution_count": 102,
   "metadata": {},
   "outputs": [],
   "source": [
    "df = pd.DataFrame({'a': ['table', 'chair', 'chair', 'lamp', 'bed'],\n",
    "                   'b': ['lamp', 'candle', 'chair', 'lamp', 'bed'],\n",
    "                   'c': ['mirror', 'mirror', 'mirror', 'mirror', 'mirror']})"
   ]
  },
  {
   "cell_type": "code",
   "execution_count": 103,
   "metadata": {},
   "outputs": [
    {
     "data": {
      "text/html": [
       "<div>\n",
       "<style scoped>\n",
       "    .dataframe tbody tr th:only-of-type {\n",
       "        vertical-align: middle;\n",
       "    }\n",
       "\n",
       "    .dataframe tbody tr th {\n",
       "        vertical-align: top;\n",
       "    }\n",
       "\n",
       "    .dataframe thead th {\n",
       "        text-align: right;\n",
       "    }\n",
       "</style>\n",
       "<table border=\"1\" class=\"dataframe\">\n",
       "  <thead>\n",
       "    <tr style=\"text-align: right;\">\n",
       "      <th></th>\n",
       "      <th>a</th>\n",
       "      <th>b</th>\n",
       "      <th>c</th>\n",
       "    </tr>\n",
       "  </thead>\n",
       "  <tbody>\n",
       "    <tr>\n",
       "      <th>bed</th>\n",
       "      <td>1.0</td>\n",
       "      <td>1.0</td>\n",
       "      <td>NaN</td>\n",
       "    </tr>\n",
       "    <tr>\n",
       "      <th>candle</th>\n",
       "      <td>NaN</td>\n",
       "      <td>1.0</td>\n",
       "      <td>NaN</td>\n",
       "    </tr>\n",
       "    <tr>\n",
       "      <th>chair</th>\n",
       "      <td>2.0</td>\n",
       "      <td>1.0</td>\n",
       "      <td>NaN</td>\n",
       "    </tr>\n",
       "    <tr>\n",
       "      <th>lamp</th>\n",
       "      <td>1.0</td>\n",
       "      <td>2.0</td>\n",
       "      <td>NaN</td>\n",
       "    </tr>\n",
       "    <tr>\n",
       "      <th>mirror</th>\n",
       "      <td>NaN</td>\n",
       "      <td>NaN</td>\n",
       "      <td>5.0</td>\n",
       "    </tr>\n",
       "    <tr>\n",
       "      <th>table</th>\n",
       "      <td>1.0</td>\n",
       "      <td>NaN</td>\n",
       "      <td>NaN</td>\n",
       "    </tr>\n",
       "  </tbody>\n",
       "</table>\n",
       "</div>"
      ],
      "text/plain": [
       "          a    b    c\n",
       "bed     1.0  1.0  NaN\n",
       "candle  NaN  1.0  NaN\n",
       "chair   2.0  1.0  NaN\n",
       "lamp    1.0  2.0  NaN\n",
       "mirror  NaN  NaN  5.0\n",
       "table   1.0  NaN  NaN"
      ]
     },
     "execution_count": 103,
     "metadata": {},
     "output_type": "execute_result"
    }
   ],
   "source": [
    "df.apply(pd.value_counts)"
   ]
  },
  {
   "cell_type": "code",
   "execution_count": 104,
   "metadata": {},
   "outputs": [],
   "source": [
    "df = pd.DataFrame({\n",
    "'fruits': ['apple', 'mango', 'apple', 'mango', 'mango', 'pear', 'mango'],\n",
    "'vegetables': ['cucumber', 'eggplant', 'tomato', 'tomato', 'tomato', 'tomato', 'pumpkin'],\n",
    "'sauces': ['chili', 'chili', 'ketchup', 'ketchup', 'chili', '1000 islands', 'chili']})"
   ]
  },
  {
   "cell_type": "code",
   "execution_count": 106,
   "metadata": {},
   "outputs": [
    {
     "data": {
      "text/html": [
       "<div>\n",
       "<style scoped>\n",
       "    .dataframe tbody tr th:only-of-type {\n",
       "        vertical-align: middle;\n",
       "    }\n",
       "\n",
       "    .dataframe tbody tr th {\n",
       "        vertical-align: top;\n",
       "    }\n",
       "\n",
       "    .dataframe thead th {\n",
       "        text-align: right;\n",
       "    }\n",
       "</style>\n",
       "<table border=\"1\" class=\"dataframe\">\n",
       "  <thead>\n",
       "    <tr style=\"text-align: right;\">\n",
       "      <th></th>\n",
       "      <th>fruits</th>\n",
       "      <th>vegetables</th>\n",
       "      <th>sauces</th>\n",
       "    </tr>\n",
       "  </thead>\n",
       "  <tbody>\n",
       "    <tr>\n",
       "      <th>0</th>\n",
       "      <td>apple</td>\n",
       "      <td>cucumber</td>\n",
       "      <td>chili</td>\n",
       "    </tr>\n",
       "    <tr>\n",
       "      <th>1</th>\n",
       "      <td>mango</td>\n",
       "      <td>eggplant</td>\n",
       "      <td>chili</td>\n",
       "    </tr>\n",
       "    <tr>\n",
       "      <th>2</th>\n",
       "      <td>apple</td>\n",
       "      <td>tomato</td>\n",
       "      <td>ketchup</td>\n",
       "    </tr>\n",
       "    <tr>\n",
       "      <th>3</th>\n",
       "      <td>mango</td>\n",
       "      <td>tomato</td>\n",
       "      <td>ketchup</td>\n",
       "    </tr>\n",
       "    <tr>\n",
       "      <th>4</th>\n",
       "      <td>mango</td>\n",
       "      <td>tomato</td>\n",
       "      <td>chili</td>\n",
       "    </tr>\n",
       "    <tr>\n",
       "      <th>5</th>\n",
       "      <td>pear</td>\n",
       "      <td>tomato</td>\n",
       "      <td>1000 islands</td>\n",
       "    </tr>\n",
       "    <tr>\n",
       "      <th>6</th>\n",
       "      <td>mango</td>\n",
       "      <td>pumpkin</td>\n",
       "      <td>chili</td>\n",
       "    </tr>\n",
       "  </tbody>\n",
       "</table>\n",
       "</div>"
      ],
      "text/plain": [
       "  fruits vegetables        sauces\n",
       "0  apple   cucumber         chili\n",
       "1  mango   eggplant         chili\n",
       "2  apple     tomato       ketchup\n",
       "3  mango     tomato       ketchup\n",
       "4  mango     tomato         chili\n",
       "5   pear     tomato  1000 islands\n",
       "6  mango    pumpkin         chili"
      ]
     },
     "execution_count": 106,
     "metadata": {},
     "output_type": "execute_result"
    }
   ],
   "source": [
    "df"
   ]
  },
  {
   "cell_type": "code",
   "execution_count": 105,
   "metadata": {},
   "outputs": [
    {
     "data": {
      "text/html": [
       "<div>\n",
       "<style scoped>\n",
       "    .dataframe tbody tr th:only-of-type {\n",
       "        vertical-align: middle;\n",
       "    }\n",
       "\n",
       "    .dataframe tbody tr th {\n",
       "        vertical-align: top;\n",
       "    }\n",
       "\n",
       "    .dataframe thead th {\n",
       "        text-align: right;\n",
       "    }\n",
       "</style>\n",
       "<table border=\"1\" class=\"dataframe\">\n",
       "  <thead>\n",
       "    <tr style=\"text-align: right;\">\n",
       "      <th></th>\n",
       "      <th></th>\n",
       "      <th>counts</th>\n",
       "    </tr>\n",
       "    <tr>\n",
       "      <th>column</th>\n",
       "      <th>value</th>\n",
       "      <th></th>\n",
       "    </tr>\n",
       "  </thead>\n",
       "  <tbody>\n",
       "    <tr>\n",
       "      <th rowspan=\"3\" valign=\"top\">fruits</th>\n",
       "      <th>pear</th>\n",
       "      <td>1</td>\n",
       "    </tr>\n",
       "    <tr>\n",
       "      <th>apple</th>\n",
       "      <td>2</td>\n",
       "    </tr>\n",
       "    <tr>\n",
       "      <th>mango</th>\n",
       "      <td>4</td>\n",
       "    </tr>\n",
       "    <tr>\n",
       "      <th rowspan=\"3\" valign=\"top\">sauces</th>\n",
       "      <th>1000 islands</th>\n",
       "      <td>1</td>\n",
       "    </tr>\n",
       "    <tr>\n",
       "      <th>ketchup</th>\n",
       "      <td>2</td>\n",
       "    </tr>\n",
       "    <tr>\n",
       "      <th>chili</th>\n",
       "      <td>4</td>\n",
       "    </tr>\n",
       "    <tr>\n",
       "      <th rowspan=\"4\" valign=\"top\">vegetables</th>\n",
       "      <th>cucumber</th>\n",
       "      <td>1</td>\n",
       "    </tr>\n",
       "    <tr>\n",
       "      <th>eggplant</th>\n",
       "      <td>1</td>\n",
       "    </tr>\n",
       "    <tr>\n",
       "      <th>pumpkin</th>\n",
       "      <td>1</td>\n",
       "    </tr>\n",
       "    <tr>\n",
       "      <th>tomato</th>\n",
       "      <td>4</td>\n",
       "    </tr>\n",
       "  </tbody>\n",
       "</table>\n",
       "</div>"
      ],
      "text/plain": [
       "                         counts\n",
       "column     value               \n",
       "fruits     pear               1\n",
       "           apple              2\n",
       "           mango              4\n",
       "sauces     1000 islands       1\n",
       "           ketchup            2\n",
       "           chili              4\n",
       "vegetables cucumber           1\n",
       "           eggplant           1\n",
       "           pumpkin            1\n",
       "           tomato             4"
      ]
     },
     "execution_count": 105,
     "metadata": {},
     "output_type": "execute_result"
    }
   ],
   "source": [
    "cat_cols = df.select_dtypes(include=object).columns.tolist()\n",
    "(pd.DataFrame(\n",
    "    df[cat_cols]\n",
    "    .melt(var_name='column', value_name='value')\n",
    "    .value_counts())\n",
    ".rename(columns={0: 'counts'})\n",
    ".sort_values(by=['column', 'counts']))"
   ]
  },
  {
   "cell_type": "code",
   "execution_count": 71,
   "metadata": {},
   "outputs": [],
   "source": [
    "import pandas as pd\n",
    "import numpy as np"
   ]
  },
  {
   "cell_type": "code",
   "execution_count": 2,
   "metadata": {},
   "outputs": [],
   "source": [
    "CD_07040710 = pd.read_csv(r'C:\\Users\\Daraz\\Documents\\ddda\\ChatDetailsDataset\\CD_july 4_july 10(1).csv')\n",
    "CD_06270703 = pd.read_csv(r'C:\\Users\\Daraz\\Documents\\ddda\\ChatDetailsDataset\\CD_jun 27_july 3(1).csv')\n",
    "CD_07130719 = pd.read_csv(r'C:\\Users\\Daraz\\Documents\\ddda\\ChatDetailsDataset\\july 13-19_CD(1).csv')\n",
    "CD_07180724 = pd.read_csv(r'C:\\Users\\Daraz\\Documents\\ddda\\ChatDetailsDataset\\july 18-24_CD(1).csv')"
   ]
  },
  {
   "cell_type": "code",
   "execution_count": 12,
   "metadata": {},
   "outputs": [],
   "source": [
    "frames = [CD_07040710, CD_06270703, CD_07130719, CD_07180724]"
   ]
  },
  {
   "cell_type": "code",
   "execution_count": 13,
   "metadata": {},
   "outputs": [],
   "source": [
    "concat_df = pd.concat(frames)"
   ]
  },
  {
   "cell_type": "code",
   "execution_count": 14,
   "metadata": {},
   "outputs": [
    {
     "data": {
      "text/html": [
       "<div>\n",
       "<style scoped>\n",
       "    .dataframe tbody tr th:only-of-type {\n",
       "        vertical-align: middle;\n",
       "    }\n",
       "\n",
       "    .dataframe tbody tr th {\n",
       "        vertical-align: top;\n",
       "    }\n",
       "\n",
       "    .dataframe thead th {\n",
       "        text-align: right;\n",
       "    }\n",
       "</style>\n",
       "<table border=\"1\" class=\"dataframe\">\n",
       "  <thead>\n",
       "    <tr style=\"text-align: right;\">\n",
       "      <th></th>\n",
       "      <th>Create Date</th>\n",
       "      <th>tenant_name</th>\n",
       "      <th>robot_code</th>\n",
       "      <th>robot_name</th>\n",
       "      <th>from_id</th>\n",
       "      <th>from_name</th>\n",
       "      <th>Session_id</th>\n",
       "      <th>Intention</th>\n",
       "      <th>user_id</th>\n",
       "      <th>Seller id (X-space)</th>\n",
       "      <th>...</th>\n",
       "      <th>Feedback Card Response</th>\n",
       "      <th>is_chat_recommend</th>\n",
       "      <th>is_chat_no answer</th>\n",
       "      <th>is_chat_pre/post match</th>\n",
       "      <th>live agent_session_id</th>\n",
       "      <th>Last Query Before Live Agent Session</th>\n",
       "      <th>Live Agent User Query</th>\n",
       "      <th>Live Agent Response</th>\n",
       "      <th>Feedback Type</th>\n",
       "      <th>Unsatisfied Reason</th>\n",
       "    </tr>\n",
       "  </thead>\n",
       "  <tbody>\n",
       "    <tr>\n",
       "      <th>0</th>\n",
       "      <td>2022-07-04 00:00:00</td>\n",
       "      <td>Alime-DRZ-CC-BD</td>\n",
       "      <td>l2Cgc9psxK</td>\n",
       "      <td>BD-Daz-EN</td>\n",
       "      <td>0zKpjMUW7x</td>\n",
       "      <td>BD-Daz-EN-HC-Web</td>\n",
       "      <td>d371eacb697344cf9e9c4b7ff39ab996</td>\n",
       "      <td>NaN</td>\n",
       "      <td>2101100084439329</td>\n",
       "      <td>7.000093e+11</td>\n",
       "      <td>...</td>\n",
       "      <td>NaN</td>\n",
       "      <td>N</td>\n",
       "      <td>N</td>\n",
       "      <td>Y</td>\n",
       "      <td>NaN</td>\n",
       "      <td>NaN</td>\n",
       "      <td>NaN</td>\n",
       "      <td>NaN</td>\n",
       "      <td>NaN</td>\n",
       "      <td>NaN</td>\n",
       "    </tr>\n",
       "    <tr>\n",
       "      <th>1</th>\n",
       "      <td>2022-07-04 00:00:00</td>\n",
       "      <td>Alime-DRZ-CC-BD</td>\n",
       "      <td>l2Cgc9psxK</td>\n",
       "      <td>BD-Daz-EN</td>\n",
       "      <td>2QpojyCHcD</td>\n",
       "      <td>BD-Daz-EN-DD-App</td>\n",
       "      <td>9e3824a414ba4c1fb19440901e66f87b</td>\n",
       "      <td>route_daraz_others</td>\n",
       "      <td>2101100084409325</td>\n",
       "      <td>7.000185e+11</td>\n",
       "      <td>...</td>\n",
       "      <td>NaN</td>\n",
       "      <td>N</td>\n",
       "      <td>N</td>\n",
       "      <td>N</td>\n",
       "      <td>NaN</td>\n",
       "      <td>NaN</td>\n",
       "      <td>NaN</td>\n",
       "      <td>NaN</td>\n",
       "      <td>NaN</td>\n",
       "      <td>NaN</td>\n",
       "    </tr>\n",
       "  </tbody>\n",
       "</table>\n",
       "<p>2 rows × 42 columns</p>\n",
       "</div>"
      ],
      "text/plain": [
       "           Create Date      tenant_name  robot_code robot_name     from_id  \\\n",
       "0  2022-07-04 00:00:00  Alime-DRZ-CC-BD  l2Cgc9psxK  BD-Daz-EN  0zKpjMUW7x   \n",
       "1  2022-07-04 00:00:00  Alime-DRZ-CC-BD  l2Cgc9psxK  BD-Daz-EN  2QpojyCHcD   \n",
       "\n",
       "          from_name                        Session_id           Intention  \\\n",
       "0  BD-Daz-EN-HC-Web  d371eacb697344cf9e9c4b7ff39ab996                 NaN   \n",
       "1  BD-Daz-EN-DD-App  9e3824a414ba4c1fb19440901e66f87b  route_daraz_others   \n",
       "\n",
       "            user_id  Seller id (X-space)  ... Feedback Card Response  \\\n",
       "0  2101100084439329         7.000093e+11  ...                    NaN   \n",
       "1  2101100084409325         7.000185e+11  ...                    NaN   \n",
       "\n",
       "  is_chat_recommend is_chat_no answer is_chat_pre/post match  \\\n",
       "0                 N                 N                      Y   \n",
       "1                 N                 N                      N   \n",
       "\n",
       "  live agent_session_id Last Query Before Live Agent Session  \\\n",
       "0                   NaN                                  NaN   \n",
       "1                   NaN                                  NaN   \n",
       "\n",
       "  Live Agent User Query Live Agent Response  Feedback Type Unsatisfied Reason  \n",
       "0                   NaN                 NaN            NaN                NaN  \n",
       "1                   NaN                 NaN            NaN                NaN  \n",
       "\n",
       "[2 rows x 42 columns]"
      ]
     },
     "execution_count": 14,
     "metadata": {},
     "output_type": "execute_result"
    }
   ],
   "source": [
    "concat_df.head(2)"
   ]
  },
  {
   "cell_type": "code",
   "execution_count": 98,
   "metadata": {},
   "outputs": [],
   "source": [
    "concat_df.to_csv('concatenated_cpr.csv')"
   ]
  },
  {
   "cell_type": "code",
   "execution_count": 15,
   "metadata": {},
   "outputs": [
    {
     "data": {
      "text/html": [
       "<div>\n",
       "<style scoped>\n",
       "    .dataframe tbody tr th:only-of-type {\n",
       "        vertical-align: middle;\n",
       "    }\n",
       "\n",
       "    .dataframe tbody tr th {\n",
       "        vertical-align: top;\n",
       "    }\n",
       "\n",
       "    .dataframe thead th {\n",
       "        text-align: right;\n",
       "    }\n",
       "</style>\n",
       "<table border=\"1\" class=\"dataframe\">\n",
       "  <thead>\n",
       "    <tr style=\"text-align: right;\">\n",
       "      <th></th>\n",
       "      <th>Create Date</th>\n",
       "      <th>tenant_name</th>\n",
       "      <th>robot_code</th>\n",
       "      <th>robot_name</th>\n",
       "      <th>from_id</th>\n",
       "      <th>from_name</th>\n",
       "      <th>Session_id</th>\n",
       "      <th>Intention</th>\n",
       "      <th>user_id</th>\n",
       "      <th>Seller id (X-space)</th>\n",
       "      <th>...</th>\n",
       "      <th>Feedback Card Response</th>\n",
       "      <th>is_chat_recommend</th>\n",
       "      <th>is_chat_no answer</th>\n",
       "      <th>is_chat_pre/post match</th>\n",
       "      <th>live agent_session_id</th>\n",
       "      <th>Last Query Before Live Agent Session</th>\n",
       "      <th>Live Agent User Query</th>\n",
       "      <th>Live Agent Response</th>\n",
       "      <th>Feedback Type</th>\n",
       "      <th>Unsatisfied Reason</th>\n",
       "    </tr>\n",
       "  </thead>\n",
       "  <tbody>\n",
       "    <tr>\n",
       "      <th>99998</th>\n",
       "      <td>2022-07-23 00:00:00</td>\n",
       "      <td>Alime-DRZ-CC-BD</td>\n",
       "      <td>l2Cgc9psxK</td>\n",
       "      <td>BD-Daz-EN</td>\n",
       "      <td>0zKpjMUW7x</td>\n",
       "      <td>BD-Daz-EN-HC-Web</td>\n",
       "      <td>ea800cc2a9af4e1cae50f41e96eba20f</td>\n",
       "      <td>route_daraz_others</td>\n",
       "      <td>2101100018510184</td>\n",
       "      <td>256111.0</td>\n",
       "      <td>...</td>\n",
       "      <td>NaN</td>\n",
       "      <td>N</td>\n",
       "      <td>N</td>\n",
       "      <td>N</td>\n",
       "      <td>62d4ff9e2b214c06844588b105613ead</td>\n",
       "      <td>How long is the refund process</td>\n",
       "      <td>এটা সার্ভিস হতে পারেনা |||আমি চাইনা এটা নিয়ে এ...</td>\n",
       "      <td>আমি ক্ষমা চেয়ে নিচ্ছি।|||আমি সম্পূর্ণরূপে আপনা...</td>\n",
       "      <td>NaN</td>\n",
       "      <td>NaN</td>\n",
       "    </tr>\n",
       "    <tr>\n",
       "      <th>99999</th>\n",
       "      <td>2022-07-23 00:00:00</td>\n",
       "      <td>Alime-DRZ-CC-BD</td>\n",
       "      <td>l2Cgc9psxK</td>\n",
       "      <td>BD-Daz-EN</td>\n",
       "      <td>0zKpjMUW7x</td>\n",
       "      <td>BD-Daz-EN-HC-Web</td>\n",
       "      <td>ea800cc2a9af4e1cae50f41e96eba20f</td>\n",
       "      <td>NaN</td>\n",
       "      <td>2101100018510184</td>\n",
       "      <td>256111.0</td>\n",
       "      <td>...</td>\n",
       "      <td>Unsatisfied</td>\n",
       "      <td>N</td>\n",
       "      <td>N</td>\n",
       "      <td>N</td>\n",
       "      <td>62d4ff9e2b214c06844588b105613ead</td>\n",
       "      <td>How long is the refund process</td>\n",
       "      <td>এটা সার্ভিস হতে পারেনা |||আমি চাইনা এটা নিয়ে এ...</td>\n",
       "      <td>আমি ক্ষমা চেয়ে নিচ্ছি।|||আমি সম্পূর্ণরূপে আপনা...</td>\n",
       "      <td>UNSATISFIED</td>\n",
       "      <td>Useless and wrong answer</td>\n",
       "    </tr>\n",
       "  </tbody>\n",
       "</table>\n",
       "<p>2 rows × 42 columns</p>\n",
       "</div>"
      ],
      "text/plain": [
       "               Create Date      tenant_name  robot_code robot_name  \\\n",
       "99998  2022-07-23 00:00:00  Alime-DRZ-CC-BD  l2Cgc9psxK  BD-Daz-EN   \n",
       "99999  2022-07-23 00:00:00  Alime-DRZ-CC-BD  l2Cgc9psxK  BD-Daz-EN   \n",
       "\n",
       "          from_id         from_name                        Session_id  \\\n",
       "99998  0zKpjMUW7x  BD-Daz-EN-HC-Web  ea800cc2a9af4e1cae50f41e96eba20f   \n",
       "99999  0zKpjMUW7x  BD-Daz-EN-HC-Web  ea800cc2a9af4e1cae50f41e96eba20f   \n",
       "\n",
       "                Intention           user_id  Seller id (X-space)  ...  \\\n",
       "99998  route_daraz_others  2101100018510184             256111.0  ...   \n",
       "99999                 NaN  2101100018510184             256111.0  ...   \n",
       "\n",
       "      Feedback Card Response is_chat_recommend is_chat_no answer  \\\n",
       "99998                    NaN                 N                 N   \n",
       "99999            Unsatisfied                 N                 N   \n",
       "\n",
       "      is_chat_pre/post match             live agent_session_id  \\\n",
       "99998                      N  62d4ff9e2b214c06844588b105613ead   \n",
       "99999                      N  62d4ff9e2b214c06844588b105613ead   \n",
       "\n",
       "      Last Query Before Live Agent Session  \\\n",
       "99998       How long is the refund process   \n",
       "99999       How long is the refund process   \n",
       "\n",
       "                                   Live Agent User Query  \\\n",
       "99998  এটা সার্ভিস হতে পারেনা |||আমি চাইনা এটা নিয়ে এ...   \n",
       "99999  এটা সার্ভিস হতে পারেনা |||আমি চাইনা এটা নিয়ে এ...   \n",
       "\n",
       "                                     Live Agent Response  Feedback Type  \\\n",
       "99998  আমি ক্ষমা চেয়ে নিচ্ছি।|||আমি সম্পূর্ণরূপে আপনা...            NaN   \n",
       "99999  আমি ক্ষমা চেয়ে নিচ্ছি।|||আমি সম্পূর্ণরূপে আপনা...    UNSATISFIED   \n",
       "\n",
       "             Unsatisfied Reason  \n",
       "99998                       NaN  \n",
       "99999  Useless and wrong answer  \n",
       "\n",
       "[2 rows x 42 columns]"
      ]
     },
     "execution_count": 15,
     "metadata": {},
     "output_type": "execute_result"
    }
   ],
   "source": [
    "concat_df.tail(2)"
   ]
  },
  {
   "cell_type": "code",
   "execution_count": 17,
   "metadata": {},
   "outputs": [
    {
     "data": {
      "text/plain": [
       "(365027, 42)"
      ]
     },
     "execution_count": 17,
     "metadata": {},
     "output_type": "execute_result"
    }
   ],
   "source": [
    "concat_df.shape"
   ]
  },
  {
   "cell_type": "code",
   "execution_count": 18,
   "metadata": {},
   "outputs": [
    {
     "data": {
      "text/plain": [
       "Index(['Create Date', 'tenant_name', 'robot_code', 'robot_name', 'from_id',\n",
       "       'from_name', 'Session_id', 'Intention', 'user_id',\n",
       "       'Seller id (X-space)', 'user_nick', 'create_time', 'chat_uuid',\n",
       "       'Enter Type', 'query', 'Question Type', 'sopname', 'answer_type',\n",
       "       'SOP_Solution_id', 'SOP_Solution_Name', 'Standard Knowledge Title',\n",
       "       'Knowledge_id', 'knowledge_cate_1_name', 'knowledge_cate_2_name',\n",
       "       'knowledge_cate_3_name', 'is_session_unsatisfied',\n",
       "       'is_session_last_no answer', 'call_agent_by_click_shortcut',\n",
       "       'is_session_last_recommend no click', 'call_agent_by_intention',\n",
       "       'is_session_direct_liveagent', 'Contacted live agent on same day',\n",
       "       'Feedback Card Response', 'is_chat_recommend', 'is_chat_no answer',\n",
       "       'is_chat_pre/post match', 'live agent_session_id',\n",
       "       'Last Query Before Live Agent Session', 'Live Agent User Query',\n",
       "       'Live Agent Response', 'Feedback Type', 'Unsatisfied Reason'],\n",
       "      dtype='object')"
      ]
     },
     "execution_count": 18,
     "metadata": {},
     "output_type": "execute_result"
    }
   ],
   "source": [
    "concat_df.columns"
   ]
  },
  {
   "cell_type": "code",
   "execution_count": 23,
   "metadata": {},
   "outputs": [],
   "source": [
    "no_duplicates_df = concat_df.drop_duplicates(subset='Session_id')"
   ]
  },
  {
   "cell_type": "code",
   "execution_count": null,
   "metadata": {},
   "outputs": [],
   "source": []
  },
  {
   "cell_type": "code",
   "execution_count": 27,
   "metadata": {},
   "outputs": [],
   "source": [
    "no_duplicates_df.reset_index(inplace=True)"
   ]
  },
  {
   "cell_type": "code",
   "execution_count": 174,
   "metadata": {},
   "outputs": [],
   "source": [
    "filtered_df = concat_df[(concat_df['is_session_unsatisfied'] == 'Y') & (concat_df['call_agent_by_click_shortcut'] == 'Y') & (concat_df['call_agent_by_intention'] == 'Y')]"
   ]
  },
  {
   "cell_type": "code",
   "execution_count": null,
   "metadata": {},
   "outputs": [],
   "source": [
    "filtered_df"
   ]
  },
  {
   "cell_type": "code",
   "execution_count": 175,
   "metadata": {},
   "outputs": [],
   "source": [
    "unsatisfied_df = filtered_df[filtered_df['is_session_unsatisfied'] == 'Y']"
   ]
  },
  {
   "cell_type": "code",
   "execution_count": 176,
   "metadata": {},
   "outputs": [],
   "source": [
    "unsatisfied_df_en = unsatisfied_df[unsatisfied_df['robot_name'] == 'BD-Daz-EN']\n",
    "unsatisfied_df_lc = unsatisfied_df[unsatisfied_df['robot_name'] == 'BD-Daz-LC']"
   ]
  },
  {
   "cell_type": "code",
   "execution_count": 177,
   "metadata": {},
   "outputs": [],
   "source": [
    "unsatisfied_df_en_filtered = unsatisfied_df_en[['Standard Knowledge Title', 'Unsatisfied Reason', 'call_agent_by_click_shortcut', 'call_agent_by_intention']]"
   ]
  },
  {
   "cell_type": "code",
   "execution_count": 178,
   "metadata": {},
   "outputs": [],
   "source": [
    "unsatisfied_df_en_filtered.reset_index(inplace=True)"
   ]
  },
  {
   "cell_type": "code",
   "execution_count": 183,
   "metadata": {},
   "outputs": [
    {
     "data": {
      "text/plain": [
       "Useless and wrong answer    7\n",
       "Name: Unsatisfied Reason, dtype: int64"
      ]
     },
     "execution_count": 183,
     "metadata": {},
     "output_type": "execute_result"
    }
   ],
   "source": [
    "unsatisfied_df_en_filtered['Unsatisfied Reason'].value_counts()"
   ]
  },
  {
   "cell_type": "code",
   "execution_count": 146,
   "metadata": {},
   "outputs": [
    {
     "data": {
      "text/html": [
       "<div>\n",
       "<style scoped>\n",
       "    .dataframe tbody tr th:only-of-type {\n",
       "        vertical-align: middle;\n",
       "    }\n",
       "\n",
       "    .dataframe tbody tr th {\n",
       "        vertical-align: top;\n",
       "    }\n",
       "\n",
       "    .dataframe thead th {\n",
       "        text-align: right;\n",
       "    }\n",
       "</style>\n",
       "<table border=\"1\" class=\"dataframe\">\n",
       "  <thead>\n",
       "    <tr style=\"text-align: right;\">\n",
       "      <th></th>\n",
       "      <th>Unsatisfied Reason</th>\n",
       "      <th>call_agent_by_click_shortcut</th>\n",
       "      <th>call_agent_by_intention</th>\n",
       "    </tr>\n",
       "    <tr>\n",
       "      <th>Standard Knowledge Title</th>\n",
       "      <th></th>\n",
       "      <th></th>\n",
       "      <th></th>\n",
       "    </tr>\n",
       "  </thead>\n",
       "  <tbody>\n",
       "    <tr>\n",
       "      <th>Account management related query</th>\n",
       "      <td>[]</td>\n",
       "      <td>5</td>\n",
       "      <td>5</td>\n",
       "    </tr>\n",
       "    <tr>\n",
       "      <th>Account management shongkranto query</th>\n",
       "      <td>[]</td>\n",
       "      <td>1</td>\n",
       "      <td>1</td>\n",
       "    </tr>\n",
       "    <tr>\n",
       "      <th>Alada delivery charge keno neya hoy shob ponner jonno</th>\n",
       "      <td>1</td>\n",
       "      <td>[2, 1]</td>\n",
       "      <td>3</td>\n",
       "    </tr>\n",
       "    <tr>\n",
       "      <th>All about Qurbanir Haat</th>\n",
       "      <td>[]</td>\n",
       "      <td>[5, 4]</td>\n",
       "      <td>9</td>\n",
       "    </tr>\n",
       "    <tr>\n",
       "      <th>Amar bKash er cashback akhono paini</th>\n",
       "      <td>[1, 1]</td>\n",
       "      <td>[2, 2]</td>\n",
       "      <td>4</td>\n",
       "    </tr>\n",
       "    <tr>\n",
       "      <th>...</th>\n",
       "      <td>...</td>\n",
       "      <td>...</td>\n",
       "      <td>...</td>\n",
       "    </tr>\n",
       "    <tr>\n",
       "      <th>Will someone contact me before delivering the package</th>\n",
       "      <td>3</td>\n",
       "      <td>[3, 1]</td>\n",
       "      <td>4</td>\n",
       "    </tr>\n",
       "    <tr>\n",
       "      <th>Will you notify me after my order gets confirmed</th>\n",
       "      <td>[]</td>\n",
       "      <td>2</td>\n",
       "      <td>2</td>\n",
       "    </tr>\n",
       "    <tr>\n",
       "      <th>bKash e kono cashback ache ki</th>\n",
       "      <td>[4, 3, 2]</td>\n",
       "      <td>[11, 4]</td>\n",
       "      <td>15</td>\n",
       "    </tr>\n",
       "    <tr>\n",
       "      <th>bkash er maddhome refund kibhabe nibo</th>\n",
       "      <td>[]</td>\n",
       "      <td>1</td>\n",
       "      <td>1</td>\n",
       "    </tr>\n",
       "    <tr>\n",
       "      <th>dMart er kono product delivery kibhabe pabo</th>\n",
       "      <td>[]</td>\n",
       "      <td>1</td>\n",
       "      <td>1</td>\n",
       "    </tr>\n",
       "  </tbody>\n",
       "</table>\n",
       "<p>249 rows × 3 columns</p>\n",
       "</div>"
      ],
      "text/plain": [
       "                                                   Unsatisfied Reason  \\\n",
       "Standard Knowledge Title                                                \n",
       "Account management related query                                   []   \n",
       "Account management shongkranto query                               []   \n",
       "Alada delivery charge keno neya hoy shob ponner...                  1   \n",
       "All about Qurbanir Haat                                            []   \n",
       "Amar bKash er cashback akhono paini                            [1, 1]   \n",
       "...                                                               ...   \n",
       "Will someone contact me before delivering the p...                  3   \n",
       "Will you notify me after my order gets confirmed                   []   \n",
       "bKash e kono cashback ache ki                               [4, 3, 2]   \n",
       "bkash er maddhome refund kibhabe nibo                              []   \n",
       "dMart er kono product delivery kibhabe pabo                        []   \n",
       "\n",
       "                                                   call_agent_by_click_shortcut  \\\n",
       "Standard Knowledge Title                                                          \n",
       "Account management related query                                              5   \n",
       "Account management shongkranto query                                          1   \n",
       "Alada delivery charge keno neya hoy shob ponner...                       [2, 1]   \n",
       "All about Qurbanir Haat                                                  [5, 4]   \n",
       "Amar bKash er cashback akhono paini                                      [2, 2]   \n",
       "...                                                                         ...   \n",
       "Will someone contact me before delivering the p...                       [3, 1]   \n",
       "Will you notify me after my order gets confirmed                              2   \n",
       "bKash e kono cashback ache ki                                           [11, 4]   \n",
       "bkash er maddhome refund kibhabe nibo                                         1   \n",
       "dMart er kono product delivery kibhabe pabo                                   1   \n",
       "\n",
       "                                                   call_agent_by_intention  \n",
       "Standard Knowledge Title                                                    \n",
       "Account management related query                                         5  \n",
       "Account management shongkranto query                                     1  \n",
       "Alada delivery charge keno neya hoy shob ponner...                       3  \n",
       "All about Qurbanir Haat                                                  9  \n",
       "Amar bKash er cashback akhono paini                                      4  \n",
       "...                                                                    ...  \n",
       "Will someone contact me before delivering the p...                       4  \n",
       "Will you notify me after my order gets confirmed                         2  \n",
       "bKash e kono cashback ache ki                                           15  \n",
       "bkash er maddhome refund kibhabe nibo                                    1  \n",
       "dMart er kono product delivery kibhabe pabo                              1  \n",
       "\n",
       "[249 rows x 3 columns]"
      ]
     },
     "execution_count": 146,
     "metadata": {},
     "output_type": "execute_result"
    }
   ],
   "source": [
    "unsatisfied_df_en_filtered.pivot_table(index='Standard Knowledge Title', values = ['Unsatisfied Reason', 'call_agent_by_click_shortcut', 'call_agent_by_intention'], aggfunc=pd.Series.value_counts)"
   ]
  },
  {
   "cell_type": "code",
   "execution_count": 171,
   "metadata": {},
   "outputs": [],
   "source": [
    "df_test = unsatisfied_df_en_filtered[unsatisfied_df_en_filtered['Standard Knowledge Title'] == 'How can I track my order']"
   ]
  },
  {
   "cell_type": "code",
   "execution_count": 172,
   "metadata": {},
   "outputs": [
    {
     "data": {
      "text/html": [
       "<div>\n",
       "<style scoped>\n",
       "    .dataframe tbody tr th:only-of-type {\n",
       "        vertical-align: middle;\n",
       "    }\n",
       "\n",
       "    .dataframe tbody tr th {\n",
       "        vertical-align: top;\n",
       "    }\n",
       "\n",
       "    .dataframe thead th {\n",
       "        text-align: right;\n",
       "    }\n",
       "</style>\n",
       "<table border=\"1\" class=\"dataframe\">\n",
       "  <thead>\n",
       "    <tr style=\"text-align: right;\">\n",
       "      <th></th>\n",
       "      <th>index</th>\n",
       "      <th>Standard Knowledge Title</th>\n",
       "      <th>Unsatisfied Reason</th>\n",
       "      <th>call_agent_by_click_shortcut</th>\n",
       "      <th>call_agent_by_intention</th>\n",
       "    </tr>\n",
       "  </thead>\n",
       "  <tbody>\n",
       "    <tr>\n",
       "      <th>20</th>\n",
       "      <td>268</td>\n",
       "      <td>How can I track my order</td>\n",
       "      <td>NaN</td>\n",
       "      <td>N</td>\n",
       "      <td>N</td>\n",
       "    </tr>\n",
       "    <tr>\n",
       "      <th>34</th>\n",
       "      <td>427</td>\n",
       "      <td>How can I track my order</td>\n",
       "      <td>NaN</td>\n",
       "      <td>Y</td>\n",
       "      <td>N</td>\n",
       "    </tr>\n",
       "    <tr>\n",
       "      <th>66</th>\n",
       "      <td>769</td>\n",
       "      <td>How can I track my order</td>\n",
       "      <td>NaN</td>\n",
       "      <td>Y</td>\n",
       "      <td>N</td>\n",
       "    </tr>\n",
       "    <tr>\n",
       "      <th>77</th>\n",
       "      <td>972</td>\n",
       "      <td>How can I track my order</td>\n",
       "      <td>NaN</td>\n",
       "      <td>N</td>\n",
       "      <td>N</td>\n",
       "    </tr>\n",
       "    <tr>\n",
       "      <th>83</th>\n",
       "      <td>1128</td>\n",
       "      <td>How can I track my order</td>\n",
       "      <td>NaN</td>\n",
       "      <td>Y</td>\n",
       "      <td>N</td>\n",
       "    </tr>\n",
       "    <tr>\n",
       "      <th>...</th>\n",
       "      <td>...</td>\n",
       "      <td>...</td>\n",
       "      <td>...</td>\n",
       "      <td>...</td>\n",
       "      <td>...</td>\n",
       "    </tr>\n",
       "    <tr>\n",
       "      <th>5511</th>\n",
       "      <td>125383</td>\n",
       "      <td>How can I track my order</td>\n",
       "      <td>NaN</td>\n",
       "      <td>N</td>\n",
       "      <td>N</td>\n",
       "    </tr>\n",
       "    <tr>\n",
       "      <th>5518</th>\n",
       "      <td>125623</td>\n",
       "      <td>How can I track my order</td>\n",
       "      <td>NaN</td>\n",
       "      <td>N</td>\n",
       "      <td>N</td>\n",
       "    </tr>\n",
       "    <tr>\n",
       "      <th>5523</th>\n",
       "      <td>125746</td>\n",
       "      <td>How can I track my order</td>\n",
       "      <td>NaN</td>\n",
       "      <td>N</td>\n",
       "      <td>N</td>\n",
       "    </tr>\n",
       "    <tr>\n",
       "      <th>5535</th>\n",
       "      <td>126157</td>\n",
       "      <td>How can I track my order</td>\n",
       "      <td>NaN</td>\n",
       "      <td>N</td>\n",
       "      <td>N</td>\n",
       "    </tr>\n",
       "    <tr>\n",
       "      <th>5536</th>\n",
       "      <td>126184</td>\n",
       "      <td>How can I track my order</td>\n",
       "      <td>NaN</td>\n",
       "      <td>N</td>\n",
       "      <td>N</td>\n",
       "    </tr>\n",
       "  </tbody>\n",
       "</table>\n",
       "<p>558 rows × 5 columns</p>\n",
       "</div>"
      ],
      "text/plain": [
       "       index  Standard Knowledge Title Unsatisfied Reason  \\\n",
       "20       268  How can I track my order                NaN   \n",
       "34       427  How can I track my order                NaN   \n",
       "66       769  How can I track my order                NaN   \n",
       "77       972  How can I track my order                NaN   \n",
       "83      1128  How can I track my order                NaN   \n",
       "...      ...                       ...                ...   \n",
       "5511  125383  How can I track my order                NaN   \n",
       "5518  125623  How can I track my order                NaN   \n",
       "5523  125746  How can I track my order                NaN   \n",
       "5535  126157  How can I track my order                NaN   \n",
       "5536  126184  How can I track my order                NaN   \n",
       "\n",
       "     call_agent_by_click_shortcut call_agent_by_intention  \n",
       "20                              N                       N  \n",
       "34                              Y                       N  \n",
       "66                              Y                       N  \n",
       "77                              N                       N  \n",
       "83                              Y                       N  \n",
       "...                           ...                     ...  \n",
       "5511                            N                       N  \n",
       "5518                            N                       N  \n",
       "5523                            N                       N  \n",
       "5535                            N                       N  \n",
       "5536                            N                       N  \n",
       "\n",
       "[558 rows x 5 columns]"
      ]
     },
     "execution_count": 172,
     "metadata": {},
     "output_type": "execute_result"
    }
   ],
   "source": [
    "df_test"
   ]
  },
  {
   "cell_type": "code",
   "execution_count": 173,
   "metadata": {},
   "outputs": [
    {
     "data": {
      "text/plain": [
       "Series([], Name: Unsatisfied Reason, dtype: int64)"
      ]
     },
     "execution_count": 173,
     "metadata": {},
     "output_type": "execute_result"
    }
   ],
   "source": [
    "df_test['Unsatisfied Reason'].value_counts()"
   ]
  },
  {
   "cell_type": "code",
   "execution_count": 142,
   "metadata": {},
   "outputs": [
    {
     "data": {
      "text/html": [
       "<div>\n",
       "<style scoped>\n",
       "    .dataframe tbody tr th:only-of-type {\n",
       "        vertical-align: middle;\n",
       "    }\n",
       "\n",
       "    .dataframe tbody tr th {\n",
       "        vertical-align: top;\n",
       "    }\n",
       "\n",
       "    .dataframe thead th {\n",
       "        text-align: right;\n",
       "    }\n",
       "</style>\n",
       "<table border=\"1\" class=\"dataframe\">\n",
       "  <thead>\n",
       "    <tr style=\"text-align: right;\">\n",
       "      <th></th>\n",
       "      <th>Unsatisfied Reason</th>\n",
       "    </tr>\n",
       "    <tr>\n",
       "      <th>Standard Knowledge Title</th>\n",
       "      <th></th>\n",
       "    </tr>\n",
       "  </thead>\n",
       "  <tbody>\n",
       "    <tr>\n",
       "      <th>bKash e kono cashback ache ki</th>\n",
       "      <td>[4, 3, 2]</td>\n",
       "    </tr>\n",
       "  </tbody>\n",
       "</table>\n",
       "</div>"
      ],
      "text/plain": [
       "                              Unsatisfied Reason\n",
       "Standard Knowledge Title                        \n",
       "bKash e kono cashback ache ki          [4, 3, 2]"
      ]
     },
     "execution_count": 142,
     "metadata": {},
     "output_type": "execute_result"
    }
   ],
   "source": [
    "df_test.pivot_table(index='Standard Knowledge Title', values = ['Unsatisfied Reason'], aggfunc=pd.Series.value_counts)\n",
    "\n",
    "# df_sc_en_pivot = pd.pivot_table(df_sc_en, values=['Sessions','Resolved_Sessions', 'SLAR'], index = ['Function Text'], aggfunc = np.sum)"
   ]
  },
  {
   "cell_type": "code",
   "execution_count": 136,
   "metadata": {},
   "outputs": [
    {
     "data": {
      "text/html": [
       "<div>\n",
       "<style scoped>\n",
       "    .dataframe tbody tr th:only-of-type {\n",
       "        vertical-align: middle;\n",
       "    }\n",
       "\n",
       "    .dataframe tbody tr th {\n",
       "        vertical-align: top;\n",
       "    }\n",
       "\n",
       "    .dataframe thead th {\n",
       "        text-align: right;\n",
       "    }\n",
       "</style>\n",
       "<table border=\"1\" class=\"dataframe\">\n",
       "  <thead>\n",
       "    <tr style=\"text-align: right;\">\n",
       "      <th>Unsatisfied Reason</th>\n",
       "      <th>The descriptions are complicated and not comprehensible</th>\n",
       "      <th>Too many words to read</th>\n",
       "      <th>Useless and wrong answer</th>\n",
       "      <th>অকেজো এবং ভুল উত্তর</th>\n",
       "      <th>অনেক শব্দ আছে পড়ার জন্য</th>\n",
       "      <th>বর্ণনাগুলি জটিল এবং বোধগম্য নয়</th>\n",
       "    </tr>\n",
       "    <tr>\n",
       "      <th>Standard Knowledge Title</th>\n",
       "      <th></th>\n",
       "      <th></th>\n",
       "      <th></th>\n",
       "      <th></th>\n",
       "      <th></th>\n",
       "      <th></th>\n",
       "    </tr>\n",
       "  </thead>\n",
       "  <tbody>\n",
       "    <tr>\n",
       "      <th>Alada delivery charge keno neya hoy shob ponner jonno</th>\n",
       "      <td>0</td>\n",
       "      <td>0</td>\n",
       "      <td>1</td>\n",
       "      <td>0</td>\n",
       "      <td>0</td>\n",
       "      <td>0</td>\n",
       "    </tr>\n",
       "    <tr>\n",
       "      <th>Amar bKash er cashback akhono paini</th>\n",
       "      <td>1</td>\n",
       "      <td>0</td>\n",
       "      <td>1</td>\n",
       "      <td>0</td>\n",
       "      <td>0</td>\n",
       "      <td>0</td>\n",
       "    </tr>\n",
       "    <tr>\n",
       "      <th>Amar delivery ti miss kore felle ki koroniyo</th>\n",
       "      <td>1</td>\n",
       "      <td>0</td>\n",
       "      <td>0</td>\n",
       "      <td>0</td>\n",
       "      <td>0</td>\n",
       "      <td>0</td>\n",
       "    </tr>\n",
       "    <tr>\n",
       "      <th>Amar location e delivery ashe na keno</th>\n",
       "      <td>0</td>\n",
       "      <td>0</td>\n",
       "      <td>1</td>\n",
       "      <td>0</td>\n",
       "      <td>0</td>\n",
       "      <td>0</td>\n",
       "    </tr>\n",
       "    <tr>\n",
       "      <th>Amar order ashte deri hocche keno</th>\n",
       "      <td>0</td>\n",
       "      <td>0</td>\n",
       "      <td>2</td>\n",
       "      <td>0</td>\n",
       "      <td>1</td>\n",
       "      <td>0</td>\n",
       "    </tr>\n",
       "    <tr>\n",
       "      <th>...</th>\n",
       "      <td>...</td>\n",
       "      <td>...</td>\n",
       "      <td>...</td>\n",
       "      <td>...</td>\n",
       "      <td>...</td>\n",
       "      <td>...</td>\n",
       "    </tr>\n",
       "    <tr>\n",
       "      <th>Why is the status Refunded when its not credited</th>\n",
       "      <td>0</td>\n",
       "      <td>0</td>\n",
       "      <td>2</td>\n",
       "      <td>0</td>\n",
       "      <td>0</td>\n",
       "      <td>0</td>\n",
       "    </tr>\n",
       "    <tr>\n",
       "      <th>Why my return request is cancelled</th>\n",
       "      <td>0</td>\n",
       "      <td>0</td>\n",
       "      <td>2</td>\n",
       "      <td>0</td>\n",
       "      <td>0</td>\n",
       "      <td>0</td>\n",
       "    </tr>\n",
       "    <tr>\n",
       "      <th>Why was my Card declined</th>\n",
       "      <td>0</td>\n",
       "      <td>0</td>\n",
       "      <td>1</td>\n",
       "      <td>0</td>\n",
       "      <td>0</td>\n",
       "      <td>0</td>\n",
       "    </tr>\n",
       "    <tr>\n",
       "      <th>Will someone contact me before delivering the package</th>\n",
       "      <td>0</td>\n",
       "      <td>0</td>\n",
       "      <td>3</td>\n",
       "      <td>0</td>\n",
       "      <td>0</td>\n",
       "      <td>0</td>\n",
       "    </tr>\n",
       "    <tr>\n",
       "      <th>bKash e kono cashback ache ki</th>\n",
       "      <td>2</td>\n",
       "      <td>4</td>\n",
       "      <td>3</td>\n",
       "      <td>0</td>\n",
       "      <td>0</td>\n",
       "      <td>0</td>\n",
       "    </tr>\n",
       "  </tbody>\n",
       "</table>\n",
       "<p>137 rows × 6 columns</p>\n",
       "</div>"
      ],
      "text/plain": [
       "Unsatisfied Reason                                  The descriptions are complicated and not comprehensible  \\\n",
       "Standard Knowledge Title                                                                                      \n",
       "Alada delivery charge keno neya hoy shob ponner...                                                  0         \n",
       "Amar bKash er cashback akhono paini                                                                 1         \n",
       "Amar delivery ti miss kore felle ki koroniyo                                                        1         \n",
       "Amar location e delivery ashe na keno                                                               0         \n",
       "Amar order ashte deri hocche keno                                                                   0         \n",
       "...                                                                                               ...         \n",
       "Why is the status Refunded when its not credited                                                    0         \n",
       "Why my return request is cancelled                                                                  0         \n",
       "Why was my Card declined                                                                            0         \n",
       "Will someone contact me before delivering the p...                                                  0         \n",
       "bKash e kono cashback ache ki                                                                       2         \n",
       "\n",
       "Unsatisfied Reason                                  Too many words to read  \\\n",
       "Standard Knowledge Title                                                     \n",
       "Alada delivery charge keno neya hoy shob ponner...                       0   \n",
       "Amar bKash er cashback akhono paini                                      0   \n",
       "Amar delivery ti miss kore felle ki koroniyo                             0   \n",
       "Amar location e delivery ashe na keno                                    0   \n",
       "Amar order ashte deri hocche keno                                        0   \n",
       "...                                                                    ...   \n",
       "Why is the status Refunded when its not credited                         0   \n",
       "Why my return request is cancelled                                       0   \n",
       "Why was my Card declined                                                 0   \n",
       "Will someone contact me before delivering the p...                       0   \n",
       "bKash e kono cashback ache ki                                            4   \n",
       "\n",
       "Unsatisfied Reason                                  Useless and wrong answer  \\\n",
       "Standard Knowledge Title                                                       \n",
       "Alada delivery charge keno neya hoy shob ponner...                         1   \n",
       "Amar bKash er cashback akhono paini                                        1   \n",
       "Amar delivery ti miss kore felle ki koroniyo                               0   \n",
       "Amar location e delivery ashe na keno                                      1   \n",
       "Amar order ashte deri hocche keno                                          2   \n",
       "...                                                                      ...   \n",
       "Why is the status Refunded when its not credited                           2   \n",
       "Why my return request is cancelled                                         2   \n",
       "Why was my Card declined                                                   1   \n",
       "Will someone contact me before delivering the p...                         3   \n",
       "bKash e kono cashback ache ki                                              3   \n",
       "\n",
       "Unsatisfied Reason                                  অকেজো এবং ভুল উত্তর  \\\n",
       "Standard Knowledge Title                                                  \n",
       "Alada delivery charge keno neya hoy shob ponner...                    0   \n",
       "Amar bKash er cashback akhono paini                                   0   \n",
       "Amar delivery ti miss kore felle ki koroniyo                          0   \n",
       "Amar location e delivery ashe na keno                                 0   \n",
       "Amar order ashte deri hocche keno                                     0   \n",
       "...                                                                 ...   \n",
       "Why is the status Refunded when its not credited                      0   \n",
       "Why my return request is cancelled                                    0   \n",
       "Why was my Card declined                                              0   \n",
       "Will someone contact me before delivering the p...                    0   \n",
       "bKash e kono cashback ache ki                                         0   \n",
       "\n",
       "Unsatisfied Reason                                  অনেক শব্দ আছে পড়ার জন্য  \\\n",
       "Standard Knowledge Title                                                      \n",
       "Alada delivery charge keno neya hoy shob ponner...                        0   \n",
       "Amar bKash er cashback akhono paini                                       0   \n",
       "Amar delivery ti miss kore felle ki koroniyo                              0   \n",
       "Amar location e delivery ashe na keno                                     0   \n",
       "Amar order ashte deri hocche keno                                         1   \n",
       "...                                                                     ...   \n",
       "Why is the status Refunded when its not credited                          0   \n",
       "Why my return request is cancelled                                        0   \n",
       "Why was my Card declined                                                  0   \n",
       "Will someone contact me before delivering the p...                        0   \n",
       "bKash e kono cashback ache ki                                             0   \n",
       "\n",
       "Unsatisfied Reason                                  বর্ণনাগুলি জটিল এবং বোধগম্য নয়  \n",
       "Standard Knowledge Title                                                             \n",
       "Alada delivery charge keno neya hoy shob ponner...                                0  \n",
       "Amar bKash er cashback akhono paini                                               0  \n",
       "Amar delivery ti miss kore felle ki koroniyo                                      0  \n",
       "Amar location e delivery ashe na keno                                             0  \n",
       "Amar order ashte deri hocche keno                                                 0  \n",
       "...                                                                             ...  \n",
       "Why is the status Refunded when its not credited                                  0  \n",
       "Why my return request is cancelled                                                0  \n",
       "Why was my Card declined                                                          0  \n",
       "Will someone contact me before delivering the p...                                0  \n",
       "bKash e kono cashback ache ki                                                     0  \n",
       "\n",
       "[137 rows x 6 columns]"
      ]
     },
     "execution_count": 136,
     "metadata": {},
     "output_type": "execute_result"
    }
   ],
   "source": [
    "pd.crosstab(unsatisfied_df_en_filtered['Standard Knowledge Title'], unsatisfied_df_en_filtered['Unsatisfied Reason'])"
   ]
  },
  {
   "cell_type": "code",
   "execution_count": 181,
   "metadata": {},
   "outputs": [
    {
     "data": {
      "text/plain": [
       "Talk to Agent                                            7\n",
       "Greeting                                                 7\n",
       "How can I track my order                                 5\n",
       "How long does it take to receive my product              3\n",
       "My order is delayed. What should I do                    2\n",
       "What payment partner discounts are available             2\n",
       "Daraz account kibhabe deactivate korbo                   2\n",
       "Return related query                                     2\n",
       "Need more help                                           2\n",
       "Delivery delay issue                                     2\n",
       "How can I get my OTP for collection point                2\n",
       "What are the operational timings for collection point    1\n",
       "Amar ponno delivery hote kotodin lagbe                   1\n",
       "Daraz er monthly installment plan ki                     1\n",
       "Can I return an Item                                     1\n",
       "Amar order kibhabe track korte parbo                     1\n",
       "WIMO_GuidedFlow_EN                                       1\n",
       "How long is the refund process                           1\n",
       "Name: Standard Knowledge Title, dtype: int64"
      ]
     },
     "execution_count": 181,
     "metadata": {},
     "output_type": "execute_result"
    }
   ],
   "source": [
    "unsatisfied_df_en_filtered['Standard Knowledge Title'].value_counts()"
   ]
  },
  {
   "cell_type": "code",
   "execution_count": 180,
   "metadata": {},
   "outputs": [
    {
     "data": {
      "text/plain": [
       "Talk to Agent                                            7\n",
       "Greeting                                                 7\n",
       "How can I track my order                                 5\n",
       "How long does it take to receive my product              3\n",
       "My order is delayed. What should I do                    2\n",
       "What payment partner discounts are available             2\n",
       "Daraz account kibhabe deactivate korbo                   2\n",
       "Return related query                                     2\n",
       "Need more help                                           2\n",
       "Delivery delay issue                                     2\n",
       "How can I get my OTP for collection point                2\n",
       "What are the operational timings for collection point    1\n",
       "Amar ponno delivery hote kotodin lagbe                   1\n",
       "Daraz er monthly installment plan ki                     1\n",
       "Can I return an Item                                     1\n",
       "Amar order kibhabe track korte parbo                     1\n",
       "WIMO_GuidedFlow_EN                                       1\n",
       "How long is the refund process                           1\n",
       "Name: Standard Knowledge Title, dtype: int64"
      ]
     },
     "execution_count": 180,
     "metadata": {},
     "output_type": "execute_result"
    }
   ],
   "source": [
    "unsatisfied_df_en['Standard Knowledge Title'].value_counts()"
   ]
  },
  {
   "cell_type": "code",
   "execution_count": 116,
   "metadata": {},
   "outputs": [
    {
     "data": {
      "text/plain": [
       "['Standard Knowledge Title',\n",
       " 'Unsatisfied Reason',\n",
       " 'call_agent_by_click_shortcut',\n",
       " 'call_agent_by_intention']"
      ]
     },
     "execution_count": 116,
     "metadata": {},
     "output_type": "execute_result"
    }
   ],
   "source": [
    "cat_cols"
   ]
  },
  {
   "cell_type": "code",
   "execution_count": 115,
   "metadata": {},
   "outputs": [
    {
     "data": {
      "text/html": [
       "<div>\n",
       "<style scoped>\n",
       "    .dataframe tbody tr th:only-of-type {\n",
       "        vertical-align: middle;\n",
       "    }\n",
       "\n",
       "    .dataframe tbody tr th {\n",
       "        vertical-align: top;\n",
       "    }\n",
       "\n",
       "    .dataframe thead th {\n",
       "        text-align: right;\n",
       "    }\n",
       "</style>\n",
       "<table border=\"1\" class=\"dataframe\">\n",
       "  <thead>\n",
       "    <tr style=\"text-align: right;\">\n",
       "      <th></th>\n",
       "      <th></th>\n",
       "      <th>counts</th>\n",
       "    </tr>\n",
       "    <tr>\n",
       "      <th>column</th>\n",
       "      <th>value</th>\n",
       "      <th></th>\n",
       "    </tr>\n",
       "  </thead>\n",
       "  <tbody>\n",
       "    <tr>\n",
       "      <th rowspan=\"5\" valign=\"top\">Standard Knowledge Title</th>\n",
       "      <th>Why is my total amount not refunded</th>\n",
       "      <td>1</td>\n",
       "    </tr>\n",
       "    <tr>\n",
       "      <th>Amar location e delivery ashe na keno</th>\n",
       "      <td>1</td>\n",
       "    </tr>\n",
       "    <tr>\n",
       "      <th>Amar hoye order ta place kore den</th>\n",
       "      <td>1</td>\n",
       "    </tr>\n",
       "    <tr>\n",
       "      <th>Ami shomoy moto amar delivery ti receive korte parini</th>\n",
       "      <td>1</td>\n",
       "    </tr>\n",
       "    <tr>\n",
       "      <th>Amar ponno bhul thikanay chole giyeche. Ki koroniyo</th>\n",
       "      <td>1</td>\n",
       "    </tr>\n",
       "    <tr>\n",
       "      <th>...</th>\n",
       "      <th>...</th>\n",
       "      <td>...</td>\n",
       "    </tr>\n",
       "    <tr>\n",
       "      <th>Unsatisfied Reason</th>\n",
       "      <th>Useless and wrong answer</th>\n",
       "      <td>668</td>\n",
       "    </tr>\n",
       "    <tr>\n",
       "      <th rowspan=\"2\" valign=\"top\">call_agent_by_click_shortcut</th>\n",
       "      <th>Y</th>\n",
       "      <td>2173</td>\n",
       "    </tr>\n",
       "    <tr>\n",
       "      <th>N</th>\n",
       "      <td>3374</td>\n",
       "    </tr>\n",
       "    <tr>\n",
       "      <th rowspan=\"2\" valign=\"top\">call_agent_by_intention</th>\n",
       "      <th>Y</th>\n",
       "      <td>136</td>\n",
       "    </tr>\n",
       "    <tr>\n",
       "      <th>N</th>\n",
       "      <td>5411</td>\n",
       "    </tr>\n",
       "  </tbody>\n",
       "</table>\n",
       "<p>259 rows × 1 columns</p>\n",
       "</div>"
      ],
      "text/plain": [
       "                                                                                 counts\n",
       "column                       value                                                     \n",
       "Standard Knowledge Title     Why is my total amount not refunded                      1\n",
       "                             Amar location e delivery ashe na keno                    1\n",
       "                             Amar hoye order ta place kore den                        1\n",
       "                             Ami shomoy moto amar delivery ti receive korte ...       1\n",
       "                             Amar ponno bhul thikanay chole giyeche. Ki koro...       1\n",
       "...                                                                                 ...\n",
       "Unsatisfied Reason           Useless and wrong answer                               668\n",
       "call_agent_by_click_shortcut Y                                                     2173\n",
       "                             N                                                     3374\n",
       "call_agent_by_intention      Y                                                      136\n",
       "                             N                                                     5411\n",
       "\n",
       "[259 rows x 1 columns]"
      ]
     },
     "execution_count": 115,
     "metadata": {},
     "output_type": "execute_result"
    }
   ],
   "source": [
    "cat_cols = unsatisfied_df_en_filtered.select_dtypes(include=object).columns.tolist()\n",
    "(pd.DataFrame(\n",
    "    unsatisfied_df_en_filtered[cat_cols]\n",
    "    .melt(var_name='column', value_name='value')\n",
    "    .value_counts())\n",
    ".rename(columns={0: 'counts'})\n",
    "\n",
    ".sort_values(by=['column', 'counts']))"
   ]
  },
  {
   "cell_type": "code",
   "execution_count": 127,
   "metadata": {},
   "outputs": [
    {
     "data": {
      "text/plain": [
       "Index(['index', 'Standard Knowledge Title', 'Unsatisfied Reason',\n",
       "       'call_agent_by_click_shortcut', 'call_agent_by_intention'],\n",
       "      dtype='object')"
      ]
     },
     "execution_count": 127,
     "metadata": {},
     "output_type": "execute_result"
    }
   ],
   "source": [
    "unsatisfied_df_en_filtered.columns"
   ]
  },
  {
   "cell_type": "code",
   "execution_count": 130,
   "metadata": {},
   "outputs": [
    {
     "data": {
      "text/plain": [
       "Standard Knowledge Title                               Unsatisfied Reason                                     \n",
       "Alada delivery charge keno neya hoy shob ponner jonno  Useless and wrong answer                                   1\n",
       "Amar bKash er cashback akhono paini                    The descriptions are complicated and not comprehensible    1\n",
       "                                                       Useless and wrong answer                                   1\n",
       "Amar delivery ti miss kore felle ki koroniyo           The descriptions are complicated and not comprehensible    1\n",
       "Amar location e delivery ashe na keno                  Useless and wrong answer                                   1\n",
       "                                                                                                                 ..\n",
       "Why was my Card declined                               Useless and wrong answer                                   1\n",
       "Will someone contact me before delivering the package  Useless and wrong answer                                   3\n",
       "bKash e kono cashback ache ki                          The descriptions are complicated and not comprehensible    2\n",
       "                                                       Too many words to read                                     4\n",
       "                                                       Useless and wrong answer                                   3\n",
       "Length: 198, dtype: int64"
      ]
     },
     "execution_count": 130,
     "metadata": {},
     "output_type": "execute_result"
    }
   ],
   "source": [
    "unsatisfied_df_en_filtered.groupby(['Standard Knowledge Title', 'Unsatisfied Reason']).size()"
   ]
  },
  {
   "cell_type": "code",
   "execution_count": 117,
   "metadata": {},
   "outputs": [
    {
     "data": {
      "text/html": [
       "<div>\n",
       "<style scoped>\n",
       "    .dataframe tbody tr th:only-of-type {\n",
       "        vertical-align: middle;\n",
       "    }\n",
       "\n",
       "    .dataframe tbody tr th {\n",
       "        vertical-align: top;\n",
       "    }\n",
       "\n",
       "    .dataframe thead th {\n",
       "        text-align: right;\n",
       "    }\n",
       "</style>\n",
       "<table border=\"1\" class=\"dataframe\">\n",
       "  <thead>\n",
       "    <tr style=\"text-align: right;\">\n",
       "      <th></th>\n",
       "      <th></th>\n",
       "      <th>counts</th>\n",
       "    </tr>\n",
       "    <tr>\n",
       "      <th>column</th>\n",
       "      <th>value</th>\n",
       "      <th></th>\n",
       "    </tr>\n",
       "  </thead>\n",
       "  <tbody>\n",
       "    <tr>\n",
       "      <th rowspan=\"5\" valign=\"top\">Standard Knowledge Title</th>\n",
       "      <th>Why is my total amount not refunded</th>\n",
       "      <td>1</td>\n",
       "    </tr>\n",
       "    <tr>\n",
       "      <th>Amar location e delivery ashe na keno</th>\n",
       "      <td>1</td>\n",
       "    </tr>\n",
       "    <tr>\n",
       "      <th>Amar hoye order ta place kore den</th>\n",
       "      <td>1</td>\n",
       "    </tr>\n",
       "    <tr>\n",
       "      <th>Ami shomoy moto amar delivery ti receive korte parini</th>\n",
       "      <td>1</td>\n",
       "    </tr>\n",
       "    <tr>\n",
       "      <th>Amar ponno bhul thikanay chole giyeche. Ki koroniyo</th>\n",
       "      <td>1</td>\n",
       "    </tr>\n",
       "    <tr>\n",
       "      <th>...</th>\n",
       "      <th>...</th>\n",
       "      <td>...</td>\n",
       "    </tr>\n",
       "    <tr>\n",
       "      <th>Unsatisfied Reason</th>\n",
       "      <th>Useless and wrong answer</th>\n",
       "      <td>668</td>\n",
       "    </tr>\n",
       "    <tr>\n",
       "      <th rowspan=\"2\" valign=\"top\">call_agent_by_click_shortcut</th>\n",
       "      <th>Y</th>\n",
       "      <td>2173</td>\n",
       "    </tr>\n",
       "    <tr>\n",
       "      <th>N</th>\n",
       "      <td>3374</td>\n",
       "    </tr>\n",
       "    <tr>\n",
       "      <th rowspan=\"2\" valign=\"top\">call_agent_by_intention</th>\n",
       "      <th>Y</th>\n",
       "      <td>136</td>\n",
       "    </tr>\n",
       "    <tr>\n",
       "      <th>N</th>\n",
       "      <td>5411</td>\n",
       "    </tr>\n",
       "  </tbody>\n",
       "</table>\n",
       "<p>259 rows × 1 columns</p>\n",
       "</div>"
      ],
      "text/plain": [
       "                                                                                 counts\n",
       "column                       value                                                     \n",
       "Standard Knowledge Title     Why is my total amount not refunded                      1\n",
       "                             Amar location e delivery ashe na keno                    1\n",
       "                             Amar hoye order ta place kore den                        1\n",
       "                             Ami shomoy moto amar delivery ti receive korte ...       1\n",
       "                             Amar ponno bhul thikanay chole giyeche. Ki koro...       1\n",
       "...                                                                                 ...\n",
       "Unsatisfied Reason           Useless and wrong answer                               668\n",
       "call_agent_by_click_shortcut Y                                                     2173\n",
       "                             N                                                     3374\n",
       "call_agent_by_intention      Y                                                      136\n",
       "                             N                                                     5411\n",
       "\n",
       "[259 rows x 1 columns]"
      ]
     },
     "execution_count": 117,
     "metadata": {},
     "output_type": "execute_result"
    }
   ],
   "source": [
    "pd.DataFrame(unsatisfied_df_en_filtered[cat_cols].melt(var_name='column', value_name='value').value_counts()).rename(columns={0: 'counts'}).sort_values(by=['column', 'counts'])"
   ]
  },
  {
   "cell_type": "code",
   "execution_count": null,
   "metadata": {},
   "outputs": [],
   "source": [
    "unsatisfied_df_en['Standard Knowledge Title']"
   ]
  },
  {
   "cell_type": "code",
   "execution_count": 94,
   "metadata": {},
   "outputs": [
    {
     "data": {
      "text/html": [
       "<div>\n",
       "<style scoped>\n",
       "    .dataframe tbody tr th:only-of-type {\n",
       "        vertical-align: middle;\n",
       "    }\n",
       "\n",
       "    .dataframe tbody tr th {\n",
       "        vertical-align: top;\n",
       "    }\n",
       "\n",
       "    .dataframe thead th {\n",
       "        text-align: right;\n",
       "    }\n",
       "</style>\n",
       "<table border=\"1\" class=\"dataframe\">\n",
       "  <thead>\n",
       "    <tr style=\"text-align: right;\">\n",
       "      <th></th>\n",
       "      <th></th>\n",
       "      <th></th>\n",
       "      <th></th>\n",
       "      <th>0</th>\n",
       "    </tr>\n",
       "    <tr>\n",
       "      <th>Standard Knowledge Title</th>\n",
       "      <th>Unsatisfied Reason</th>\n",
       "      <th>call_agent_by_click_shortcut</th>\n",
       "      <th>call_agent_by_intention</th>\n",
       "      <th></th>\n",
       "    </tr>\n",
       "  </thead>\n",
       "  <tbody>\n",
       "    <tr>\n",
       "      <th>My order is delayed. What should I do</th>\n",
       "      <th>Useless and wrong answer</th>\n",
       "      <th>Y</th>\n",
       "      <th>N</th>\n",
       "      <td>34</td>\n",
       "    </tr>\n",
       "    <tr>\n",
       "      <th rowspan=\"2\" valign=\"top\">How long does it take to receive my product</th>\n",
       "      <th rowspan=\"2\" valign=\"top\">Useless and wrong answer</th>\n",
       "      <th>N</th>\n",
       "      <th>N</th>\n",
       "      <td>24</td>\n",
       "    </tr>\n",
       "    <tr>\n",
       "      <th>Y</th>\n",
       "      <th>N</th>\n",
       "      <td>20</td>\n",
       "    </tr>\n",
       "    <tr>\n",
       "      <th>Why do I see failed delivery attempt</th>\n",
       "      <th>Useless and wrong answer</th>\n",
       "      <th>Y</th>\n",
       "      <th>N</th>\n",
       "      <td>18</td>\n",
       "    </tr>\n",
       "    <tr>\n",
       "      <th>My order is delayed. What should I do</th>\n",
       "      <th>Too many words to read</th>\n",
       "      <th>Y</th>\n",
       "      <th>N</th>\n",
       "      <td>14</td>\n",
       "    </tr>\n",
       "    <tr>\n",
       "      <th>...</th>\n",
       "      <th>...</th>\n",
       "      <th>...</th>\n",
       "      <th>...</th>\n",
       "      <td>...</td>\n",
       "    </tr>\n",
       "    <tr>\n",
       "      <th>How do I label my package for return</th>\n",
       "      <th>Useless and wrong answer</th>\n",
       "      <th>Y</th>\n",
       "      <th>N</th>\n",
       "      <td>1</td>\n",
       "    </tr>\n",
       "    <tr>\n",
       "      <th rowspan=\"2\" valign=\"top\">How do I pay on Daraz</th>\n",
       "      <th>The descriptions are complicated and not comprehensible</th>\n",
       "      <th>Y</th>\n",
       "      <th>N</th>\n",
       "      <td>1</td>\n",
       "    </tr>\n",
       "    <tr>\n",
       "      <th>Useless and wrong answer</th>\n",
       "      <th>N</th>\n",
       "      <th>N</th>\n",
       "      <td>1</td>\n",
       "    </tr>\n",
       "    <tr>\n",
       "      <th>How do I pay with my Card</th>\n",
       "      <th>Useless and wrong answer</th>\n",
       "      <th>N</th>\n",
       "      <th>N</th>\n",
       "      <td>1</td>\n",
       "    </tr>\n",
       "    <tr>\n",
       "      <th>How much delivery charge you take for one order</th>\n",
       "      <th>Too many words to read</th>\n",
       "      <th>N</th>\n",
       "      <th>N</th>\n",
       "      <td>1</td>\n",
       "    </tr>\n",
       "  </tbody>\n",
       "</table>\n",
       "<p>255 rows × 1 columns</p>\n",
       "</div>"
      ],
      "text/plain": [
       "                                                                                                                                                          0\n",
       "Standard Knowledge Title                        Unsatisfied Reason                                 call_agent_by_click_shortcut call_agent_by_intention    \n",
       "My order is delayed. What should I do           Useless and wrong answer                           Y                            N                        34\n",
       "How long does it take to receive my product     Useless and wrong answer                           N                            N                        24\n",
       "                                                                                                   Y                            N                        20\n",
       "Why do I see failed delivery attempt            Useless and wrong answer                           Y                            N                        18\n",
       "My order is delayed. What should I do           Too many words to read                             Y                            N                        14\n",
       "...                                                                                                                                                      ..\n",
       "How do I label my package for return            Useless and wrong answer                           Y                            N                         1\n",
       "How do I pay on Daraz                           The descriptions are complicated and not compre... Y                            N                         1\n",
       "                                                Useless and wrong answer                           N                            N                         1\n",
       "How do I pay with my Card                       Useless and wrong answer                           N                            N                         1\n",
       "How much delivery charge you take for one order Too many words to read                             N                            N                         1\n",
       "\n",
       "[255 rows x 1 columns]"
      ]
     },
     "execution_count": 94,
     "metadata": {},
     "output_type": "execute_result"
    }
   ],
   "source": [
    "df_count"
   ]
  },
  {
   "cell_type": "code",
   "execution_count": 87,
   "metadata": {},
   "outputs": [],
   "source": [
    "df_count = unsatisfied_df_en[['Standard Knowledge Title', 'Unsatisfied Reason', 'call_agent_by_click_shortcut', 'call_agent_by_intention']].value_counts().to_frame()"
   ]
  },
  {
   "cell_type": "code",
   "execution_count": 93,
   "metadata": {},
   "outputs": [
    {
     "data": {
      "text/plain": [
       "(255, 1)"
      ]
     },
     "execution_count": 93,
     "metadata": {},
     "output_type": "execute_result"
    }
   ],
   "source": [
    "df_count"
   ]
  },
  {
   "cell_type": "code",
   "execution_count": 89,
   "metadata": {},
   "outputs": [
    {
     "ename": "KeyError",
     "evalue": "'Standard Knowledge Title'",
     "output_type": "error",
     "traceback": [
      "\u001b[1;31m---------------------------------------------------------------------------\u001b[0m",
      "\u001b[1;31mKeyError\u001b[0m                                  Traceback (most recent call last)",
      "\u001b[1;32m~\\AppData\\Local\\Temp/ipykernel_24136/3744377334.py\u001b[0m in \u001b[0;36m<module>\u001b[1;34m\u001b[0m\n\u001b[1;32m----> 1\u001b[1;33m \u001b[0mdf_count\u001b[0m\u001b[1;33m[\u001b[0m\u001b[1;34m'Standard Knowledge Title'\u001b[0m\u001b[1;33m]\u001b[0m\u001b[1;33m\u001b[0m\u001b[1;33m\u001b[0m\u001b[0m\n\u001b[0m",
      "\u001b[1;32mc:\\Users\\Daraz\\anaconda3\\lib\\site-packages\\pandas\\core\\frame.py\u001b[0m in \u001b[0;36m__getitem__\u001b[1;34m(self, key)\u001b[0m\n\u001b[0;32m   3503\u001b[0m             \u001b[1;32mif\u001b[0m \u001b[0mself\u001b[0m\u001b[1;33m.\u001b[0m\u001b[0mcolumns\u001b[0m\u001b[1;33m.\u001b[0m\u001b[0mnlevels\u001b[0m \u001b[1;33m>\u001b[0m \u001b[1;36m1\u001b[0m\u001b[1;33m:\u001b[0m\u001b[1;33m\u001b[0m\u001b[1;33m\u001b[0m\u001b[0m\n\u001b[0;32m   3504\u001b[0m                 \u001b[1;32mreturn\u001b[0m \u001b[0mself\u001b[0m\u001b[1;33m.\u001b[0m\u001b[0m_getitem_multilevel\u001b[0m\u001b[1;33m(\u001b[0m\u001b[0mkey\u001b[0m\u001b[1;33m)\u001b[0m\u001b[1;33m\u001b[0m\u001b[1;33m\u001b[0m\u001b[0m\n\u001b[1;32m-> 3505\u001b[1;33m             \u001b[0mindexer\u001b[0m \u001b[1;33m=\u001b[0m \u001b[0mself\u001b[0m\u001b[1;33m.\u001b[0m\u001b[0mcolumns\u001b[0m\u001b[1;33m.\u001b[0m\u001b[0mget_loc\u001b[0m\u001b[1;33m(\u001b[0m\u001b[0mkey\u001b[0m\u001b[1;33m)\u001b[0m\u001b[1;33m\u001b[0m\u001b[1;33m\u001b[0m\u001b[0m\n\u001b[0m\u001b[0;32m   3506\u001b[0m             \u001b[1;32mif\u001b[0m \u001b[0mis_integer\u001b[0m\u001b[1;33m(\u001b[0m\u001b[0mindexer\u001b[0m\u001b[1;33m)\u001b[0m\u001b[1;33m:\u001b[0m\u001b[1;33m\u001b[0m\u001b[1;33m\u001b[0m\u001b[0m\n\u001b[0;32m   3507\u001b[0m                 \u001b[0mindexer\u001b[0m \u001b[1;33m=\u001b[0m \u001b[1;33m[\u001b[0m\u001b[0mindexer\u001b[0m\u001b[1;33m]\u001b[0m\u001b[1;33m\u001b[0m\u001b[1;33m\u001b[0m\u001b[0m\n",
      "\u001b[1;32mc:\\Users\\Daraz\\anaconda3\\lib\\site-packages\\pandas\\core\\indexes\\range.py\u001b[0m in \u001b[0;36mget_loc\u001b[1;34m(self, key, method, tolerance)\u001b[0m\n\u001b[0;32m    387\u001b[0m                     \u001b[1;32mraise\u001b[0m \u001b[0mKeyError\u001b[0m\u001b[1;33m(\u001b[0m\u001b[0mkey\u001b[0m\u001b[1;33m)\u001b[0m \u001b[1;32mfrom\u001b[0m \u001b[0merr\u001b[0m\u001b[1;33m\u001b[0m\u001b[1;33m\u001b[0m\u001b[0m\n\u001b[0;32m    388\u001b[0m             \u001b[0mself\u001b[0m\u001b[1;33m.\u001b[0m\u001b[0m_check_indexing_error\u001b[0m\u001b[1;33m(\u001b[0m\u001b[0mkey\u001b[0m\u001b[1;33m)\u001b[0m\u001b[1;33m\u001b[0m\u001b[1;33m\u001b[0m\u001b[0m\n\u001b[1;32m--> 389\u001b[1;33m             \u001b[1;32mraise\u001b[0m \u001b[0mKeyError\u001b[0m\u001b[1;33m(\u001b[0m\u001b[0mkey\u001b[0m\u001b[1;33m)\u001b[0m\u001b[1;33m\u001b[0m\u001b[1;33m\u001b[0m\u001b[0m\n\u001b[0m\u001b[0;32m    390\u001b[0m         \u001b[1;32mreturn\u001b[0m \u001b[0msuper\u001b[0m\u001b[1;33m(\u001b[0m\u001b[1;33m)\u001b[0m\u001b[1;33m.\u001b[0m\u001b[0mget_loc\u001b[0m\u001b[1;33m(\u001b[0m\u001b[0mkey\u001b[0m\u001b[1;33m,\u001b[0m \u001b[0mmethod\u001b[0m\u001b[1;33m=\u001b[0m\u001b[0mmethod\u001b[0m\u001b[1;33m,\u001b[0m \u001b[0mtolerance\u001b[0m\u001b[1;33m=\u001b[0m\u001b[0mtolerance\u001b[0m\u001b[1;33m)\u001b[0m\u001b[1;33m\u001b[0m\u001b[1;33m\u001b[0m\u001b[0m\n\u001b[0;32m    391\u001b[0m \u001b[1;33m\u001b[0m\u001b[0m\n",
      "\u001b[1;31mKeyError\u001b[0m: 'Standard Knowledge Title'"
     ]
    }
   ],
   "source": [
    "df_count['Standard Knowledge Title']"
   ]
  },
  {
   "cell_type": "code",
   "execution_count": 73,
   "metadata": {},
   "outputs": [
    {
     "data": {
      "text/plain": [
       "pandas.core.series.Series"
      ]
     },
     "execution_count": 73,
     "metadata": {},
     "output_type": "execute_result"
    }
   ],
   "source": [
    "type(df_count)"
   ]
  },
  {
   "cell_type": "code",
   "execution_count": 81,
   "metadata": {},
   "outputs": [
    {
     "data": {
      "text/plain": [
       "24"
      ]
     },
     "execution_count": 81,
     "metadata": {},
     "output_type": "execute_result"
    }
   ],
   "source": [
    "df_count[1]"
   ]
  },
  {
   "cell_type": "code",
   "execution_count": 69,
   "metadata": {},
   "outputs": [],
   "source": [
    "df_count_df = pd.DataFrame(df_count)"
   ]
  },
  {
   "cell_type": "code",
   "execution_count": 90,
   "metadata": {},
   "outputs": [
    {
     "data": {
      "text/plain": [
       "Standard Knowledge Title                         Unsatisfied Reason                                       call_agent_by_click_shortcut  call_agent_by_intention\n",
       "My order is delayed. What should I do            Useless and wrong answer                                 Y                             N                          34\n",
       "How long does it take to receive my product      Useless and wrong answer                                 N                             N                          24\n",
       "                                                                                                          Y                             N                          20\n",
       "Why do I see failed delivery attempt             Useless and wrong answer                                 Y                             N                          18\n",
       "My order is delayed. What should I do            Too many words to read                                   Y                             N                          14\n",
       "                                                                                                                                                                   ..\n",
       "How do I label my package for return             Useless and wrong answer                                 Y                             N                           1\n",
       "How do I pay on Daraz                            The descriptions are complicated and not comprehensible  Y                             N                           1\n",
       "                                                 Useless and wrong answer                                 N                             N                           1\n",
       "How do I pay with my Card                        Useless and wrong answer                                 N                             N                           1\n",
       "How much delivery charge you take for one order  Too many words to read                                   N                             N                           1\n",
       "Name: 0, Length: 255, dtype: int64"
      ]
     },
     "execution_count": 90,
     "metadata": {},
     "output_type": "execute_result"
    }
   ],
   "source": [
    "df_count_d"
   ]
  },
  {
   "cell_type": "code",
   "execution_count": null,
   "metadata": {},
   "outputs": [],
   "source": [
    "df_sc_en_pivot = pd.pivot_table(df_count_df, values=['Sessions','Resolved_Sessions', 'SLAR'], index = ['Function Text'], aggfunc = np.sum)"
   ]
  },
  {
   "cell_type": "code",
   "execution_count": 47,
   "metadata": {},
   "outputs": [
    {
     "data": {
      "text/plain": [
       "Standard Knowledge Title                           Unsatisfied Reason      \n",
       "আমার অর্ডার কিভাবে ট্র্যাক করতে পারবো?             অকেজো এবং ভুল উত্তর         72\n",
       "My order is delayed. What should I do              Useless and wrong answer    46\n",
       "How long does it take to receive my product        Useless and wrong answer    44\n",
       "Why do I see failed delivery attempt               Useless and wrong answer    30\n",
       "কার্ট থেকে অর্ডার করবো কিভাবে?                     অকেজো এবং ভুল উত্তর         25\n",
       "                                                                               ..\n",
       "I have filed a return but haven't received update  Useless and wrong answer     1\n",
       "I have lost my invoice paper                       Useless and wrong answer     1\n",
       "I have not received any bKash cashback yet         Useless and wrong answer     1\n",
       "I want seller's phone number                       Too many words to read       1\n",
       "সেলারের নামে কমপ্লেইন করবো কিভাবে ?                অকেজো এবং ভুল উত্তর          1\n",
       "Length: 262, dtype: int64"
      ]
     },
     "execution_count": 47,
     "metadata": {},
     "output_type": "execute_result"
    }
   ],
   "source": [
    "unsatisfied_df[['Standard Knowledge Title', 'Unsatisfied Reason']].value_counts()"
   ]
  },
  {
   "cell_type": "code",
   "execution_count": 40,
   "metadata": {},
   "outputs": [
    {
     "data": {
      "text/plain": [
       "Standard Knowledge Title                     Unsatisfied Reason      \n",
       "আমার অর্ডার কিভাবে ট্র্যাক করতে পারবো?       অকেজো এবং ভুল উত্তর         72\n",
       "My order is delayed. What should I do        Useless and wrong answer    46\n",
       "How long does it take to receive my product  Useless and wrong answer    44\n",
       "Why do I see failed delivery attempt         Useless and wrong answer    30\n",
       "কার্ট থেকে অর্ডার করবো কিভাবে?               অকেজো এবং ভুল উত্তর         25\n",
       "dtype: int64"
      ]
     },
     "execution_count": 40,
     "metadata": {},
     "output_type": "execute_result"
    }
   ],
   "source": [
    "no_duplicates_df[['Standard Knowledge Title','Unsatisfied Reason']].value_counts().head(5)"
   ]
  },
  {
   "cell_type": "code",
   "execution_count": 34,
   "metadata": {},
   "outputs": [
    {
     "data": {
      "text/plain": [
       "(20, 43)"
      ]
     },
     "execution_count": 34,
     "metadata": {},
     "output_type": "execute_result"
    }
   ],
   "source": [
    "filtered_df.shape"
   ]
  },
  {
   "cell_type": "code",
   "execution_count": 8,
   "metadata": {},
   "outputs": [
    {
     "data": {
      "text/plain": [
       "42"
      ]
     },
     "execution_count": 8,
     "metadata": {},
     "output_type": "execute_result"
    }
   ],
   "source": [
    "len(CD_07040710.columns)"
   ]
  },
  {
   "cell_type": "code",
   "execution_count": 9,
   "metadata": {},
   "outputs": [
    {
     "data": {
      "text/plain": [
       "42"
      ]
     },
     "execution_count": 9,
     "metadata": {},
     "output_type": "execute_result"
    }
   ],
   "source": [
    "len(CD_06270703.columns)"
   ]
  },
  {
   "cell_type": "code",
   "execution_count": 10,
   "metadata": {},
   "outputs": [
    {
     "data": {
      "text/plain": [
       "42"
      ]
     },
     "execution_count": 10,
     "metadata": {},
     "output_type": "execute_result"
    }
   ],
   "source": [
    "len(CD_07130719.columns)"
   ]
  },
  {
   "cell_type": "code",
   "execution_count": 11,
   "metadata": {},
   "outputs": [
    {
     "data": {
      "text/plain": [
       "42"
      ]
     },
     "execution_count": 11,
     "metadata": {},
     "output_type": "execute_result"
    }
   ],
   "source": [
    "len(CD_07180724.columns)"
   ]
  },
  {
   "cell_type": "code",
   "execution_count": null,
   "metadata": {},
   "outputs": [],
   "source": []
  }
 ],
 "metadata": {
  "kernelspec": {
   "display_name": "Python 3.9.7 ('base')",
   "language": "python",
   "name": "python3"
  },
  "language_info": {
   "codemirror_mode": {
    "name": "ipython",
    "version": 3
   },
   "file_extension": ".py",
   "mimetype": "text/x-python",
   "name": "python",
   "nbconvert_exporter": "python",
   "pygments_lexer": "ipython3",
   "version": "3.9.7"
  },
  "orig_nbformat": 4,
  "vscode": {
   "interpreter": {
    "hash": "0606053452435824a427f0ea93d6ae20786397642025bcc66bfe96b66155d44b"
   }
  }
 },
 "nbformat": 4,
 "nbformat_minor": 2
}
