{
 "cells": [
  {
   "cell_type": "code",
   "execution_count": 52,
   "id": "d787b075",
   "metadata": {},
   "outputs": [],
   "source": [
    "import pandas as pd\n",
    "import numpy as np\n",
    "from IPython.display import display"
   ]
  },
  {
   "cell_type": "markdown",
   "id": "5d2edb7e",
   "metadata": {},
   "source": [
    "### Enter the file path here"
   ]
  },
  {
   "cell_type": "code",
   "execution_count": 53,
   "id": "4c1c36aa",
   "metadata": {},
   "outputs": [],
   "source": [
    "# Enter the entire file path\n",
    "published_KT_file = r'C:\\Users\\Daraz\\Documents\\ddda\\KB\\2022_06290629_P_SKT.xlsx'\n",
    "# disabled_KT_file = r'C:\\Users\\Daraz\\Documents\\ddda\\KB\\2022_06290629_P_SKT.xlsx'"
   ]
  },
  {
   "cell_type": "code",
   "execution_count": 54,
   "id": "18b34459",
   "metadata": {},
   "outputs": [
    {
     "name": "stderr",
     "output_type": "stream",
     "text": [
      "c:\\Users\\Daraz\\anaconda3\\lib\\site-packages\\openpyxl\\styles\\stylesheet.py:226: UserWarning: Workbook contains no default style, apply openpyxl's default\n",
      "  warn(\"Workbook contains no default style, apply openpyxl's default\")\n"
     ]
    }
   ],
   "source": [
    "df_published_entire = pd.read_excel(published_KT_file, sheet_name = \"entire version\",header=0,engine =\"openpyxl\")\n",
    "# df_disabled_entire = pd.read_excel(disabled_KT_file, sheet_name = \"entire version\",header=0,engine =\"openpyxl\")"
   ]
  },
  {
   "cell_type": "code",
   "execution_count": 55,
   "id": "ffa8acf8",
   "metadata": {},
   "outputs": [
    {
     "data": {
      "text/html": [
       "<div>\n",
       "<style scoped>\n",
       "    .dataframe tbody tr th:only-of-type {\n",
       "        vertical-align: middle;\n",
       "    }\n",
       "\n",
       "    .dataframe tbody tr th {\n",
       "        vertical-align: top;\n",
       "    }\n",
       "\n",
       "    .dataframe thead th {\n",
       "        text-align: right;\n",
       "    }\n",
       "</style>\n",
       "<table border=\"1\" class=\"dataframe\">\n",
       "  <thead>\n",
       "    <tr style=\"text-align: right;\">\n",
       "      <th></th>\n",
       "      <th>Category id</th>\n",
       "      <th>Category</th>\n",
       "      <th>Knowledge id</th>\n",
       "      <th>Knowledge title</th>\n",
       "      <th>Knowledge type</th>\n",
       "      <th>Create time</th>\n",
       "      <th>Edit time</th>\n",
       "      <th>Editor</th>\n",
       "      <th>Similar question</th>\n",
       "      <th>机器人</th>\n",
       "      <th>AIML&amp;Android问题&amp;IOS问题&amp;会员帮助&amp;无线知识&amp;机器人</th>\n",
       "    </tr>\n",
       "  </thead>\n",
       "  <tbody>\n",
       "    <tr>\n",
       "      <th>0</th>\n",
       "      <td>1000002193</td>\n",
       "      <td>English/Payment/Payment</td>\n",
       "      <td>1000015107</td>\n",
       "      <td>How do I pay on Daraz</td>\n",
       "      <td>普通知识</td>\n",
       "      <td>2020-03-26 19:32:18</td>\n",
       "      <td>2022-06-23 18:25:28</td>\n",
       "      <td>md.abid.hassan</td>\n",
       "      <td>How do I make payment on Daraz\\nPlease let me ...</td>\n",
       "      <td>How do I pay on Daraz?Daraz supports multiple ...</td>\n",
       "      <td>NaN</td>\n",
       "    </tr>\n",
       "    <tr>\n",
       "      <th>1</th>\n",
       "      <td>1000002193</td>\n",
       "      <td>English/Payment/Payment</td>\n",
       "      <td>1000015113</td>\n",
       "      <td>How do I pay with my Card</td>\n",
       "      <td>普通知识</td>\n",
       "      <td>2020-03-26 20:06:13</td>\n",
       "      <td>2022-01-05 20:08:37</td>\n",
       "      <td>md.abid.hassan</td>\n",
       "      <td>How can I make payment with my Debit card\\nHow...</td>\n",
       "      <td>After Checkout, when customers click on Procee...</td>\n",
       "      <td>NaN</td>\n",
       "    </tr>\n",
       "  </tbody>\n",
       "</table>\n",
       "</div>"
      ],
      "text/plain": [
       "   Category id                 Category  Knowledge id  \\\n",
       "0   1000002193  English/Payment/Payment    1000015107   \n",
       "1   1000002193  English/Payment/Payment    1000015113   \n",
       "\n",
       "             Knowledge title Knowledge type          Create time  \\\n",
       "0      How do I pay on Daraz           普通知识  2020-03-26 19:32:18   \n",
       "1  How do I pay with my Card           普通知识  2020-03-26 20:06:13   \n",
       "\n",
       "             Edit time          Editor  \\\n",
       "0  2022-06-23 18:25:28  md.abid.hassan   \n",
       "1  2022-01-05 20:08:37  md.abid.hassan   \n",
       "\n",
       "                                    Similar question  \\\n",
       "0  How do I make payment on Daraz\\nPlease let me ...   \n",
       "1  How can I make payment with my Debit card\\nHow...   \n",
       "\n",
       "                                                 机器人  \\\n",
       "0  How do I pay on Daraz?Daraz supports multiple ...   \n",
       "1  After Checkout, when customers click on Procee...   \n",
       "\n",
       "  AIML&Android问题&IOS问题&会员帮助&无线知识&机器人  \n",
       "0                                NaN  \n",
       "1                                NaN  "
      ]
     },
     "metadata": {},
     "output_type": "display_data"
    }
   ],
   "source": [
    "display(df_published_entire.head(2))\n",
    "# display(df_disabled_entire.head(2))"
   ]
  },
  {
   "cell_type": "code",
   "execution_count": 56,
   "id": "c4329a72",
   "metadata": {},
   "outputs": [
    {
     "data": {
      "text/html": [
       "<div>\n",
       "<style scoped>\n",
       "    .dataframe tbody tr th:only-of-type {\n",
       "        vertical-align: middle;\n",
       "    }\n",
       "\n",
       "    .dataframe tbody tr th {\n",
       "        vertical-align: top;\n",
       "    }\n",
       "\n",
       "    .dataframe thead th {\n",
       "        text-align: right;\n",
       "    }\n",
       "</style>\n",
       "<table border=\"1\" class=\"dataframe\">\n",
       "  <thead>\n",
       "    <tr style=\"text-align: right;\">\n",
       "      <th></th>\n",
       "      <th>Category id</th>\n",
       "      <th>Category</th>\n",
       "      <th>Knowledge id</th>\n",
       "      <th>Knowledge title</th>\n",
       "      <th>Knowledge type</th>\n",
       "      <th>Create time</th>\n",
       "      <th>Edit time</th>\n",
       "      <th>Editor</th>\n",
       "      <th>Similar question</th>\n",
       "      <th>机器人</th>\n",
       "      <th>AIML&amp;Android问题&amp;IOS问题&amp;会员帮助&amp;无线知识&amp;机器人</th>\n",
       "    </tr>\n",
       "  </thead>\n",
       "  <tbody>\n",
       "    <tr>\n",
       "      <th>524</th>\n",
       "      <td>1000005714</td>\n",
       "      <td>English/Pre match</td>\n",
       "      <td>1000068611</td>\n",
       "      <td>Need more help</td>\n",
       "      <td>普通知识</td>\n",
       "      <td>2022-03-22 18:26:37</td>\n",
       "      <td>2022-03-23 17:21:43</td>\n",
       "      <td>md.abid.hassan</td>\n",
       "      <td>need more help</td>\n",
       "      <td>id  - 8346:2.0.0</td>\n",
       "      <td>NaN</td>\n",
       "    </tr>\n",
       "    <tr>\n",
       "      <th>525</th>\n",
       "      <td>1000005714</td>\n",
       "      <td>English/Pre match</td>\n",
       "      <td>1000070868</td>\n",
       "      <td>Aro shahajjo chai</td>\n",
       "      <td>普通知识</td>\n",
       "      <td>2022-04-17 16:24:08</td>\n",
       "      <td>2022-04-17 16:24:09</td>\n",
       "      <td>md.abid.hassan</td>\n",
       "      <td>aro shahajjo chai</td>\n",
       "      <td>id - 8603:2.0.0</td>\n",
       "      <td>NaN</td>\n",
       "    </tr>\n",
       "  </tbody>\n",
       "</table>\n",
       "</div>"
      ],
      "text/plain": [
       "     Category id           Category  Knowledge id    Knowledge title  \\\n",
       "524   1000005714  English/Pre match    1000068611     Need more help   \n",
       "525   1000005714  English/Pre match    1000070868  Aro shahajjo chai   \n",
       "\n",
       "    Knowledge type          Create time            Edit time          Editor  \\\n",
       "524           普通知识  2022-03-22 18:26:37  2022-03-23 17:21:43  md.abid.hassan   \n",
       "525           普通知识  2022-04-17 16:24:08  2022-04-17 16:24:09  md.abid.hassan   \n",
       "\n",
       "      Similar question               机器人 AIML&Android问题&IOS问题&会员帮助&无线知识&机器人  \n",
       "524     need more help  id  - 8346:2.0.0                                NaN  \n",
       "525  aro shahajjo chai   id - 8603:2.0.0                                NaN  "
      ]
     },
     "metadata": {},
     "output_type": "display_data"
    }
   ],
   "source": [
    "display(df_published_entire.tail(2))\n",
    "# display(df_disabled_entire.tail(2))"
   ]
  },
  {
   "cell_type": "code",
   "execution_count": 57,
   "id": "741429f1",
   "metadata": {},
   "outputs": [],
   "source": [
    "df_published_entire['State'] = 'Published'\n",
    "# df_disabled_entire['State'] = 'Disabled'"
   ]
  },
  {
   "cell_type": "code",
   "execution_count": 58,
   "id": "d6163491",
   "metadata": {},
   "outputs": [],
   "source": [
    "# entire_version_updated = pd.concat([df_published_entire,df_disabled_entire], axis=0)\n",
    "entire_version_updated = df_published_entire"
   ]
  },
  {
   "cell_type": "code",
   "execution_count": 59,
   "id": "00ae6dcb",
   "metadata": {},
   "outputs": [],
   "source": [
    "entire_version_updated['Language'] = entire_version_updated['Category'].apply(lambda x: x.split('-')[0].strip())"
   ]
  },
  {
   "cell_type": "code",
   "execution_count": 60,
   "id": "ec8c4808",
   "metadata": {},
   "outputs": [
    {
     "name": "stdout",
     "output_type": "stream",
     "text": [
      "No SQ Found: \n"
     ]
    },
    {
     "data": {
      "text/plain": [
       "522    1000068572\n",
       "Name: Knowledge id, dtype: int64"
      ]
     },
     "execution_count": 60,
     "metadata": {},
     "output_type": "execute_result"
    }
   ],
   "source": [
    "print('No SQ Found: ')\n",
    "entire_version_updated[entire_version_updated['Similar question'].isna()]['Knowledge id']"
   ]
  },
  {
   "cell_type": "code",
   "execution_count": 61,
   "id": "6bbf3ef4",
   "metadata": {},
   "outputs": [],
   "source": [
    "entire_version_updated['Similar question'].fillna('No SQ', inplace = True)"
   ]
  },
  {
   "cell_type": "code",
   "execution_count": 62,
   "id": "83addfa1",
   "metadata": {},
   "outputs": [
    {
     "data": {
      "text/plain": [
       "0"
      ]
     },
     "execution_count": 62,
     "metadata": {},
     "output_type": "execute_result"
    }
   ],
   "source": [
    "entire_version_updated['Similar question'].isna().sum()"
   ]
  },
  {
   "cell_type": "code",
   "execution_count": 63,
   "id": "2ff929c7",
   "metadata": {},
   "outputs": [],
   "source": [
    "similar_questions=[]\n",
    "\n",
    "for i in range(len(entire_version_updated)):\n",
    "        \n",
    "        similar_questions.append(entire_version_updated[\"Similar question\"].to_list()[i].split('\\n')) #Create a list with SQs\n"
   ]
  },
  {
   "cell_type": "code",
   "execution_count": 64,
   "id": "1e907065",
   "metadata": {},
   "outputs": [],
   "source": [
    "knowledge_id_list = entire_version_updated[\"Knowledge id\"].to_list()"
   ]
  },
  {
   "cell_type": "code",
   "execution_count": 65,
   "id": "19b4593d",
   "metadata": {},
   "outputs": [],
   "source": [
    "df_SQ = pd.DataFrame(list(zip(similar_questions,knowledge_id_list)), columns=['SQ','KT_id'])"
   ]
  },
  {
   "cell_type": "code",
   "execution_count": 66,
   "id": "a1c1643e",
   "metadata": {},
   "outputs": [
    {
     "data": {
      "text/html": [
       "<div>\n",
       "<style scoped>\n",
       "    .dataframe tbody tr th:only-of-type {\n",
       "        vertical-align: middle;\n",
       "    }\n",
       "\n",
       "    .dataframe tbody tr th {\n",
       "        vertical-align: top;\n",
       "    }\n",
       "\n",
       "    .dataframe thead th {\n",
       "        text-align: right;\n",
       "    }\n",
       "</style>\n",
       "<table border=\"1\" class=\"dataframe\">\n",
       "  <thead>\n",
       "    <tr style=\"text-align: right;\">\n",
       "      <th></th>\n",
       "      <th>SQ</th>\n",
       "      <th>KT_id</th>\n",
       "    </tr>\n",
       "  </thead>\n",
       "  <tbody>\n",
       "    <tr>\n",
       "      <th>521</th>\n",
       "      <td>[need to solve order error, resolve order plac...</td>\n",
       "      <td>1000067895</td>\n",
       "    </tr>\n",
       "    <tr>\n",
       "      <th>522</th>\n",
       "      <td>[No SQ]</td>\n",
       "      <td>1000068572</td>\n",
       "    </tr>\n",
       "    <tr>\n",
       "      <th>523</th>\n",
       "      <td>[common reasons for delivery delay, reason for...</td>\n",
       "      <td>1000068576</td>\n",
       "    </tr>\n",
       "    <tr>\n",
       "      <th>524</th>\n",
       "      <td>[need more help]</td>\n",
       "      <td>1000068611</td>\n",
       "    </tr>\n",
       "    <tr>\n",
       "      <th>525</th>\n",
       "      <td>[aro shahajjo chai]</td>\n",
       "      <td>1000070868</td>\n",
       "    </tr>\n",
       "  </tbody>\n",
       "</table>\n",
       "</div>"
      ],
      "text/plain": [
       "                                                    SQ       KT_id\n",
       "521  [need to solve order error, resolve order plac...  1000067895\n",
       "522                                            [No SQ]  1000068572\n",
       "523  [common reasons for delivery delay, reason for...  1000068576\n",
       "524                                   [need more help]  1000068611\n",
       "525                                [aro shahajjo chai]  1000070868"
      ]
     },
     "execution_count": 66,
     "metadata": {},
     "output_type": "execute_result"
    }
   ],
   "source": [
    "df_SQ.tail()"
   ]
  },
  {
   "cell_type": "code",
   "execution_count": 67,
   "id": "2d28ab7c",
   "metadata": {},
   "outputs": [],
   "source": [
    "df_SQ_all = df_SQ.explode('SQ') ## Seperate all the SQs according to the KT ID"
   ]
  },
  {
   "cell_type": "code",
   "execution_count": 68,
   "id": "d6b5c5ff",
   "metadata": {},
   "outputs": [
    {
     "data": {
      "text/html": [
       "<div>\n",
       "<style scoped>\n",
       "    .dataframe tbody tr th:only-of-type {\n",
       "        vertical-align: middle;\n",
       "    }\n",
       "\n",
       "    .dataframe tbody tr th {\n",
       "        vertical-align: top;\n",
       "    }\n",
       "\n",
       "    .dataframe thead th {\n",
       "        text-align: right;\n",
       "    }\n",
       "</style>\n",
       "<table border=\"1\" class=\"dataframe\">\n",
       "  <thead>\n",
       "    <tr style=\"text-align: right;\">\n",
       "      <th></th>\n",
       "      <th>SQ</th>\n",
       "      <th>KT_id</th>\n",
       "    </tr>\n",
       "  </thead>\n",
       "  <tbody>\n",
       "    <tr>\n",
       "      <th>0</th>\n",
       "      <td>How do I make payment on Daraz</td>\n",
       "      <td>1000015107</td>\n",
       "    </tr>\n",
       "    <tr>\n",
       "      <th>0</th>\n",
       "      <td>Please let me know the payment procedure on Daraz</td>\n",
       "      <td>1000015107</td>\n",
       "    </tr>\n",
       "    <tr>\n",
       "      <th>0</th>\n",
       "      <td>Kindly let me know the payment process on Daraz</td>\n",
       "      <td>1000015107</td>\n",
       "    </tr>\n",
       "    <tr>\n",
       "      <th>0</th>\n",
       "      <td>Please tell me the payment system on Daraz.</td>\n",
       "      <td>1000015107</td>\n",
       "    </tr>\n",
       "    <tr>\n",
       "      <th>0</th>\n",
       "      <td>What is the system to make payment on Daraz</td>\n",
       "      <td>1000015107</td>\n",
       "    </tr>\n",
       "    <tr>\n",
       "      <th>...</th>\n",
       "      <td>...</td>\n",
       "      <td>...</td>\n",
       "    </tr>\n",
       "    <tr>\n",
       "      <th>523</th>\n",
       "      <td>Tell me why delivery gets delay usually</td>\n",
       "      <td>1000068576</td>\n",
       "    </tr>\n",
       "    <tr>\n",
       "      <th>523</th>\n",
       "      <td>Tell me the reason of delay delivery</td>\n",
       "      <td>1000068576</td>\n",
       "    </tr>\n",
       "    <tr>\n",
       "      <th>523</th>\n",
       "      <td>What are the foremost common reasons for delay...</td>\n",
       "      <td>1000068576</td>\n",
       "    </tr>\n",
       "    <tr>\n",
       "      <th>524</th>\n",
       "      <td>need more help</td>\n",
       "      <td>1000068611</td>\n",
       "    </tr>\n",
       "    <tr>\n",
       "      <th>525</th>\n",
       "      <td>aro shahajjo chai</td>\n",
       "      <td>1000070868</td>\n",
       "    </tr>\n",
       "  </tbody>\n",
       "</table>\n",
       "<p>7892 rows × 2 columns</p>\n",
       "</div>"
      ],
      "text/plain": [
       "                                                    SQ       KT_id\n",
       "0                       How do I make payment on Daraz  1000015107\n",
       "0    Please let me know the payment procedure on Daraz  1000015107\n",
       "0      Kindly let me know the payment process on Daraz  1000015107\n",
       "0          Please tell me the payment system on Daraz.  1000015107\n",
       "0          What is the system to make payment on Daraz  1000015107\n",
       "..                                                 ...         ...\n",
       "523            Tell me why delivery gets delay usually  1000068576\n",
       "523               Tell me the reason of delay delivery  1000068576\n",
       "523  What are the foremost common reasons for delay...  1000068576\n",
       "524                                     need more help  1000068611\n",
       "525                                  aro shahajjo chai  1000070868\n",
       "\n",
       "[7892 rows x 2 columns]"
      ]
     },
     "execution_count": 68,
     "metadata": {},
     "output_type": "execute_result"
    }
   ],
   "source": [
    "df_SQ_all"
   ]
  },
  {
   "cell_type": "code",
   "execution_count": 69,
   "id": "d9d26f8c",
   "metadata": {},
   "outputs": [],
   "source": [
    "df_ = df_SQ_all.groupby(by='SQ').agg({'KT_id': lambda x: x.tolist()}).reset_index() ## Implode the dataframe by the SQs."
   ]
  },
  {
   "cell_type": "code",
   "execution_count": 70,
   "id": "189c45cc",
   "metadata": {},
   "outputs": [
    {
     "data": {
      "text/html": [
       "<div>\n",
       "<style scoped>\n",
       "    .dataframe tbody tr th:only-of-type {\n",
       "        vertical-align: middle;\n",
       "    }\n",
       "\n",
       "    .dataframe tbody tr th {\n",
       "        vertical-align: top;\n",
       "    }\n",
       "\n",
       "    .dataframe thead th {\n",
       "        text-align: right;\n",
       "    }\n",
       "</style>\n",
       "<table border=\"1\" class=\"dataframe\">\n",
       "  <thead>\n",
       "    <tr style=\"text-align: right;\">\n",
       "      <th></th>\n",
       "      <th>SQ</th>\n",
       "      <th>KT_id</th>\n",
       "    </tr>\n",
       "  </thead>\n",
       "  <tbody>\n",
       "    <tr>\n",
       "      <th>0</th>\n",
       "      <td></td>\n",
       "      <td>[1000017470, 1000017485, 1000017496, 100001751...</td>\n",
       "    </tr>\n",
       "    <tr>\n",
       "      <th>1</th>\n",
       "      <td>Any Home shifting services on Daraz</td>\n",
       "      <td>[1000017637]</td>\n",
       "    </tr>\n",
       "    <tr>\n",
       "      <th>2</th>\n",
       "      <td>Any Tatto service on Daraz</td>\n",
       "      <td>[1000017662]</td>\n",
       "    </tr>\n",
       "    <tr>\n",
       "      <th>3</th>\n",
       "      <td>Are you guys providing Home shifting service</td>\n",
       "      <td>[1000017637]</td>\n",
       "    </tr>\n",
       "    <tr>\n",
       "      <th>4</th>\n",
       "      <td>EMI payment method which Visa Debit Card is  ...</td>\n",
       "      <td>[1000015635]</td>\n",
       "    </tr>\n",
       "    <tr>\n",
       "      <th>...</th>\n",
       "      <td>...</td>\n",
       "      <td>...</td>\n",
       "    </tr>\n",
       "    <tr>\n",
       "      <th>7803</th>\n",
       "      <td>your delivery man intentionally delaying the d...</td>\n",
       "      <td>[1000015453]</td>\n",
       "    </tr>\n",
       "    <tr>\n",
       "      <th>7804</th>\n",
       "      <td>your hub time</td>\n",
       "      <td>[1000015535]</td>\n",
       "    </tr>\n",
       "    <tr>\n",
       "      <th>7805</th>\n",
       "      <td>your return policy what</td>\n",
       "      <td>[1000016013]</td>\n",
       "    </tr>\n",
       "    <tr>\n",
       "      <th>7806</th>\n",
       "      <td>your worst service earned a review in e commer...</td>\n",
       "      <td>[1000020671]</td>\n",
       "    </tr>\n",
       "    <tr>\n",
       "      <th>7807</th>\n",
       "      <td>​Item shows as delivered status, but is not re...</td>\n",
       "      <td>[1000027305]</td>\n",
       "    </tr>\n",
       "  </tbody>\n",
       "</table>\n",
       "<p>7808 rows × 2 columns</p>\n",
       "</div>"
      ],
      "text/plain": [
       "                                                     SQ  \\\n",
       "0                                                         \n",
       "1                   Any Home shifting services on Daraz   \n",
       "2                            Any Tatto service on Daraz   \n",
       "3          Are you guys providing Home shifting service   \n",
       "4      EMI payment method which Visa Debit Card is  ...   \n",
       "...                                                 ...   \n",
       "7803  your delivery man intentionally delaying the d...   \n",
       "7804                                      your hub time   \n",
       "7805                            your return policy what   \n",
       "7806  your worst service earned a review in e commer...   \n",
       "7807  ​Item shows as delivered status, but is not re...   \n",
       "\n",
       "                                                  KT_id  \n",
       "0     [1000017470, 1000017485, 1000017496, 100001751...  \n",
       "1                                          [1000017637]  \n",
       "2                                          [1000017662]  \n",
       "3                                          [1000017637]  \n",
       "4                                          [1000015635]  \n",
       "...                                                 ...  \n",
       "7803                                       [1000015453]  \n",
       "7804                                       [1000015535]  \n",
       "7805                                       [1000016013]  \n",
       "7806                                       [1000020671]  \n",
       "7807                                       [1000027305]  \n",
       "\n",
       "[7808 rows x 2 columns]"
      ]
     },
     "execution_count": 70,
     "metadata": {},
     "output_type": "execute_result"
    }
   ],
   "source": [
    "df_"
   ]
  },
  {
   "cell_type": "code",
   "execution_count": 71,
   "id": "b1346c83",
   "metadata": {},
   "outputs": [],
   "source": [
    "df_['Count'] = df_['KT_id'].apply(lambda x : len(x))"
   ]
  },
  {
   "cell_type": "code",
   "execution_count": 72,
   "id": "10ffb93d",
   "metadata": {},
   "outputs": [],
   "source": [
    "df_sq_duplicates =  df_[df_['Count'] > 1]"
   ]
  },
  {
   "cell_type": "code",
   "execution_count": 73,
   "id": "c87da9d5",
   "metadata": {},
   "outputs": [],
   "source": [
    "df_sq_ = df_sq_duplicates.reset_index()"
   ]
  },
  {
   "cell_type": "code",
   "execution_count": 74,
   "id": "9ec2e312",
   "metadata": {},
   "outputs": [
    {
     "data": {
      "text/html": [
       "<div>\n",
       "<style scoped>\n",
       "    .dataframe tbody tr th:only-of-type {\n",
       "        vertical-align: middle;\n",
       "    }\n",
       "\n",
       "    .dataframe tbody tr th {\n",
       "        vertical-align: top;\n",
       "    }\n",
       "\n",
       "    .dataframe thead th {\n",
       "        text-align: right;\n",
       "    }\n",
       "</style>\n",
       "<table border=\"1\" class=\"dataframe\">\n",
       "  <thead>\n",
       "    <tr style=\"text-align: right;\">\n",
       "      <th></th>\n",
       "      <th>index</th>\n",
       "      <th>SQ</th>\n",
       "      <th>KT_id</th>\n",
       "      <th>Count</th>\n",
       "    </tr>\n",
       "  </thead>\n",
       "  <tbody>\n",
       "    <tr>\n",
       "      <th>0</th>\n",
       "      <td>0</td>\n",
       "      <td></td>\n",
       "      <td>[1000017470, 1000017485, 1000017496, 100001751...</td>\n",
       "      <td>9</td>\n",
       "    </tr>\n",
       "    <tr>\n",
       "      <th>1</th>\n",
       "      <td>98</td>\n",
       "      <td>3rd item from top in the screenshot isn’t deli...</td>\n",
       "      <td>[1000015482, 1000017233]</td>\n",
       "      <td>2</td>\n",
       "    </tr>\n",
       "    <tr>\n",
       "      <th>2</th>\n",
       "      <td>221</td>\n",
       "      <td>Any chance to change my phone number of my giv...</td>\n",
       "      <td>[1000015446, 1000021471]</td>\n",
       "      <td>2</td>\n",
       "    </tr>\n",
       "    <tr>\n",
       "      <th>3</th>\n",
       "      <td>283</td>\n",
       "      <td>Any update about my order delivery</td>\n",
       "      <td>[1000015451, 1000017233]</td>\n",
       "      <td>2</td>\n",
       "    </tr>\n",
       "    <tr>\n",
       "      <th>4</th>\n",
       "      <td>350</td>\n",
       "      <td>At present in which areas are you offering  Sp...</td>\n",
       "      <td>[1000017508, 1000017513]</td>\n",
       "      <td>2</td>\n",
       "    </tr>\n",
       "    <tr>\n",
       "      <th>...</th>\n",
       "      <td>...</td>\n",
       "      <td>...</td>\n",
       "      <td>...</td>\n",
       "      <td>...</td>\n",
       "    </tr>\n",
       "    <tr>\n",
       "      <th>72</th>\n",
       "      <td>7415</td>\n",
       "      <td>there I've place an order but I've got no resp...</td>\n",
       "      <td>[1000015246, 1000015249]</td>\n",
       "      <td>2</td>\n",
       "    </tr>\n",
       "    <tr>\n",
       "      <th>73</th>\n",
       "      <td>7727</td>\n",
       "      <td>why delivery fail</td>\n",
       "      <td>[1000017218, 1000017220]</td>\n",
       "      <td>2</td>\n",
       "    </tr>\n",
       "    <tr>\n",
       "      <th>74</th>\n",
       "      <td>7730</td>\n",
       "      <td>why didn’t you inform that you are unable to d...</td>\n",
       "      <td>[1000017218, 1000017220]</td>\n",
       "      <td>2</td>\n",
       "    </tr>\n",
       "    <tr>\n",
       "      <th>75</th>\n",
       "      <td>7745</td>\n",
       "      <td>why my delivery is cancelled</td>\n",
       "      <td>[1000017218, 1000017220]</td>\n",
       "      <td>2</td>\n",
       "    </tr>\n",
       "    <tr>\n",
       "      <th>76</th>\n",
       "      <td>7750</td>\n",
       "      <td>why my package delivery failed</td>\n",
       "      <td>[1000017218, 1000017220]</td>\n",
       "      <td>2</td>\n",
       "    </tr>\n",
       "  </tbody>\n",
       "</table>\n",
       "<p>77 rows × 4 columns</p>\n",
       "</div>"
      ],
      "text/plain": [
       "    index                                                 SQ  \\\n",
       "0       0                                                      \n",
       "1      98  3rd item from top in the screenshot isn’t deli...   \n",
       "2     221  Any chance to change my phone number of my giv...   \n",
       "3     283                 Any update about my order delivery   \n",
       "4     350  At present in which areas are you offering  Sp...   \n",
       "..    ...                                                ...   \n",
       "72   7415  there I've place an order but I've got no resp...   \n",
       "73   7727                                  why delivery fail   \n",
       "74   7730  why didn’t you inform that you are unable to d...   \n",
       "75   7745                       why my delivery is cancelled   \n",
       "76   7750                     why my package delivery failed   \n",
       "\n",
       "                                                KT_id  Count  \n",
       "0   [1000017470, 1000017485, 1000017496, 100001751...      9  \n",
       "1                            [1000015482, 1000017233]      2  \n",
       "2                            [1000015446, 1000021471]      2  \n",
       "3                            [1000015451, 1000017233]      2  \n",
       "4                            [1000017508, 1000017513]      2  \n",
       "..                                                ...    ...  \n",
       "72                           [1000015246, 1000015249]      2  \n",
       "73                           [1000017218, 1000017220]      2  \n",
       "74                           [1000017218, 1000017220]      2  \n",
       "75                           [1000017218, 1000017220]      2  \n",
       "76                           [1000017218, 1000017220]      2  \n",
       "\n",
       "[77 rows x 4 columns]"
      ]
     },
     "execution_count": 74,
     "metadata": {},
     "output_type": "execute_result"
    }
   ],
   "source": [
    "df_sq_"
   ]
  },
  {
   "cell_type": "code",
   "execution_count": 75,
   "id": "06f8616e",
   "metadata": {},
   "outputs": [],
   "source": [
    "df_sq_[['Status', 'Comment']] = np.nan"
   ]
  },
  {
   "cell_type": "code",
   "execution_count": 76,
   "id": "6c06a3c0",
   "metadata": {},
   "outputs": [],
   "source": [
    "df_sq_.drop(labels='index', axis = 1, inplace = True)"
   ]
  },
  {
   "cell_type": "code",
   "execution_count": 77,
   "id": "900c0851",
   "metadata": {},
   "outputs": [],
   "source": [
    "df_sq_.to_clipboard()"
   ]
  },
  {
   "cell_type": "code",
   "execution_count": 78,
   "id": "195b59d7",
   "metadata": {},
   "outputs": [],
   "source": [
    "df_sq_.to_excel('SQ_repetition_check_results.xlsx')"
   ]
  },
  {
   "cell_type": "markdown",
   "id": "68147453",
   "metadata": {},
   "source": [
    "## Previous code"
   ]
  },
  {
   "cell_type": "code",
   "execution_count": 79,
   "id": "ef573630",
   "metadata": {},
   "outputs": [],
   "source": [
    "\n",
    "# def check_for_duplicate_SQ(entire_version_updated):\n",
    "#     knowledge_id_list = entire_version_updated[\"Knowledge id\"].to_list()\n",
    "#     similar_questions=[]\n",
    "#     for i in range(0,len(entire_version_updated)):\n",
    "#         try:\n",
    "#             similar_questions.append(entire_version_updated[\"Similar question\"].to_list()[i].split('\\n'))\n",
    "#         except:\n",
    "#             print(\"Empty SQ field detected for \" + str(entire_version_updated[\"Knowledge id\"].to_list()[i]))\n",
    "#             #print(entire_version_updated[\"Similar question\"].to_list()[i])\n",
    "#             #print(entire_version_updated[\"Knowledge id\"].to_list()[i])\n",
    "#     df_SQ = pd.DataFrame(list(zip(similar_questions,knowledge_id_list)), columns=['Query','Label'])\n",
    "#     df_SQ_all = df_SQ.explode('Query')\n",
    "#     df_SQ_count = df_SQ_all[\"Query\"].value_counts().to_frame().reset_index().rename(columns={\"index\":\"Query\",\"Query\":\"Count\"})\n",
    "#     df_merged = pd.merge(df_SQ_count, df_SQ_all, how='left', on = 'Query')\n",
    "#     df_merged.drop_duplicates(\"Query\",inplace=True)\n",
    "#     df_duplicate_SQ = df_merged[df_merged['Count']>1]/\n",
    "#     return df_SQ_all, df_duplicate_SQ\n",
    "\n",
    "# def files_to_dataframe(published_KT_file,disabled_KT_file):\n",
    "    \n",
    "#     with warnings.catch_warnings(record=True):\n",
    "#         warnings.simplefilter(\"always\")\n",
    "#         df_published_entire = pd.read_excel(published_KT_file,sheet_name = \"entire version\",header=0,engine =\"openpyxl\")\n",
    "#         df_disabled_entire = pd.read_excel(disabled_KT_file,sheet_name = \"entire version\",header=0,engine =\"openpyxl\")  \n",
    "    \n",
    "#     df_published_entire['State'] = 'Published'\n",
    "#     df_disabled_entire['State'] = 'Disabled'\n",
    "#     entire_version_updated = pd.concat([df_published_entire,df_disabled_entire], axis=0) ##Need to change\n",
    "#     entire_version_updated['Language'] = entire_version_updated['Category'].apply(lambda x: x.split('-')[0].strip())\n",
    "    \n",
    "#     return entire_version_updated\n"
   ]
  },
  {
   "cell_type": "code",
   "execution_count": 80,
   "id": "4030125d",
   "metadata": {},
   "outputs": [],
   "source": [
    "# ## Change the file name here\"\n",
    "# published_KT_file = r'KB\\2022_06290629_P_PM.xlsx'\n",
    "# disabled_KT_file = r'KB\\2022_06290629_D_SKT.xlsx'\n",
    "# # Change the file name here\n",
    "\n",
    "# entire_version_updated = files_to_dataframe(published_KT_file,disabled_KT_file)\n",
    "# df_SQ_all,df_duplicate_SQ = check_for_duplicate_SQ(entire_version_updated)\n",
    "# df_duplicate_SQ.to_excel('Repeated_SQ_List.xlsx')\n",
    "# print(\"File for repeated SQs created.\")"
   ]
  },
  {
   "cell_type": "code",
   "execution_count": null,
   "id": "e5ff3b03",
   "metadata": {},
   "outputs": [],
   "source": []
  }
 ],
 "metadata": {
  "kernelspec": {
   "display_name": "Python 3.9.7 ('base')",
   "language": "python",
   "name": "python3"
  },
  "language_info": {
   "codemirror_mode": {
    "name": "ipython",
    "version": 3
   },
   "file_extension": ".py",
   "mimetype": "text/x-python",
   "name": "python",
   "nbconvert_exporter": "python",
   "pygments_lexer": "ipython3",
   "version": "3.9.7"
  },
  "vscode": {
   "interpreter": {
    "hash": "0606053452435824a427f0ea93d6ae20786397642025bcc66bfe96b66155d44b"
   }
  }
 },
 "nbformat": 4,
 "nbformat_minor": 5
}
