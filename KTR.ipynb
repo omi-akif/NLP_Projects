{
 "cells": [
  {
   "cell_type": "code",
   "execution_count": 53,
   "metadata": {},
   "outputs": [],
   "source": [
    "\n",
    "import pandas as pd\n",
    "import numpy as np\n",
    "import matplotlib.pyplot as plt\n",
    "import plotly.graph_objects as go\n",
    "from IPython.display import display, display_html"
   ]
  },
  {
   "cell_type": "markdown",
   "metadata": {},
   "source": [
    "### Upload CD acccording to the week"
   ]
  },
  {
   "cell_type": "code",
   "execution_count": 54,
   "metadata": {},
   "outputs": [],
   "source": [
    "df = pd.read_csv('2022_05300605_KTR.csv') \n"
   ]
  },
  {
   "cell_type": "code",
   "execution_count": 55,
   "metadata": {},
   "outputs": [
    {
     "data": {
      "text/html": [
       "<div>\n",
       "<style scoped>\n",
       "    .dataframe tbody tr th:only-of-type {\n",
       "        vertical-align: middle;\n",
       "    }\n",
       "\n",
       "    .dataframe tbody tr th {\n",
       "        vertical-align: top;\n",
       "    }\n",
       "\n",
       "    .dataframe thead th {\n",
       "        text-align: right;\n",
       "    }\n",
       "</style>\n",
       "<table border=\"1\" class=\"dataframe\">\n",
       "  <thead>\n",
       "    <tr style=\"text-align: right;\">\n",
       "      <th></th>\n",
       "      <th>date_id</th>\n",
       "      <th>tenant_name</th>\n",
       "      <th>robot_code_name</th>\n",
       "      <th>from_name</th>\n",
       "      <th>Knowledge Type</th>\n",
       "      <th>Knowledge Id</th>\n",
       "      <th>Knowledge Name</th>\n",
       "      <th>Solution Id</th>\n",
       "      <th>Solution Name</th>\n",
       "      <th>Chats</th>\n",
       "      <th>sid_cnt</th>\n",
       "      <th>Session_Resolved_Rate</th>\n",
       "      <th>Switch_to_Live_Agent_Rate</th>\n",
       "      <th>Survey_Response_Rate</th>\n",
       "      <th>Chat_Unsatisfied_Rate</th>\n",
       "    </tr>\n",
       "  </thead>\n",
       "  <tbody>\n",
       "    <tr>\n",
       "      <th>0</th>\n",
       "      <td>20220531</td>\n",
       "      <td>Alime-DRZ-CC-BD</td>\n",
       "      <td>BD-Daz-EN</td>\n",
       "      <td>BD-Daz-EN-HC-App</td>\n",
       "      <td>FAQ</td>\n",
       "      <td>1000015459</td>\n",
       "      <td>How can I track my order</td>\n",
       "      <td>NaN</td>\n",
       "      <td>NaN</td>\n",
       "      <td>1358</td>\n",
       "      <td>791</td>\n",
       "      <td>0.662025</td>\n",
       "      <td>0.201266</td>\n",
       "      <td>0.0</td>\n",
       "      <td>NaN</td>\n",
       "    </tr>\n",
       "    <tr>\n",
       "      <th>1</th>\n",
       "      <td>20220531</td>\n",
       "      <td>Alime-DRZ-CC-BD</td>\n",
       "      <td>BD-Daz-EN</td>\n",
       "      <td>BD-Daz-EN-HC-App</td>\n",
       "      <td>大招</td>\n",
       "      <td>1000063199</td>\n",
       "      <td>Talk to Agent</td>\n",
       "      <td>NaN</td>\n",
       "      <td>NaN</td>\n",
       "      <td>1290</td>\n",
       "      <td>646</td>\n",
       "      <td>0.665116</td>\n",
       "      <td>0.226357</td>\n",
       "      <td>0.0</td>\n",
       "      <td>NaN</td>\n",
       "    </tr>\n",
       "    <tr>\n",
       "      <th>2</th>\n",
       "      <td>20220531</td>\n",
       "      <td>Alime-DRZ-CC-BD</td>\n",
       "      <td>BD-Daz-EN</td>\n",
       "      <td>BD-Daz-EN-HC-App</td>\n",
       "      <td>小招</td>\n",
       "      <td>1000055995</td>\n",
       "      <td>Greeting</td>\n",
       "      <td>NaN</td>\n",
       "      <td>NaN</td>\n",
       "      <td>1228</td>\n",
       "      <td>632</td>\n",
       "      <td>0.745628</td>\n",
       "      <td>0.165342</td>\n",
       "      <td>0.0</td>\n",
       "      <td>NaN</td>\n",
       "    </tr>\n",
       "    <tr>\n",
       "      <th>3</th>\n",
       "      <td>20220530</td>\n",
       "      <td>Alime-DRZ-CC-BD</td>\n",
       "      <td>BD-Daz-EN</td>\n",
       "      <td>BD-Daz-EN-HC-App</td>\n",
       "      <td>大招</td>\n",
       "      <td>1000063199</td>\n",
       "      <td>Talk to Agent</td>\n",
       "      <td>NaN</td>\n",
       "      <td>NaN</td>\n",
       "      <td>919</td>\n",
       "      <td>311</td>\n",
       "      <td>0.450161</td>\n",
       "      <td>0.504823</td>\n",
       "      <td>0.0</td>\n",
       "      <td>NaN</td>\n",
       "    </tr>\n",
       "    <tr>\n",
       "      <th>4</th>\n",
       "      <td>20220530</td>\n",
       "      <td>Alime-DRZ-CC-BD</td>\n",
       "      <td>BD-Daz-EN</td>\n",
       "      <td>BD-Daz-EN-HC-App</td>\n",
       "      <td>FAQ</td>\n",
       "      <td>1000015459</td>\n",
       "      <td>How can I track my order</td>\n",
       "      <td>NaN</td>\n",
       "      <td>NaN</td>\n",
       "      <td>889</td>\n",
       "      <td>612</td>\n",
       "      <td>0.596405</td>\n",
       "      <td>0.341503</td>\n",
       "      <td>0.0</td>\n",
       "      <td>NaN</td>\n",
       "    </tr>\n",
       "  </tbody>\n",
       "</table>\n",
       "</div>"
      ],
      "text/plain": [
       "    date_id      tenant_name robot_code_name         from_name Knowledge Type  \\\n",
       "0  20220531  Alime-DRZ-CC-BD       BD-Daz-EN  BD-Daz-EN-HC-App            FAQ   \n",
       "1  20220531  Alime-DRZ-CC-BD       BD-Daz-EN  BD-Daz-EN-HC-App             大招   \n",
       "2  20220531  Alime-DRZ-CC-BD       BD-Daz-EN  BD-Daz-EN-HC-App             小招   \n",
       "3  20220530  Alime-DRZ-CC-BD       BD-Daz-EN  BD-Daz-EN-HC-App             大招   \n",
       "4  20220530  Alime-DRZ-CC-BD       BD-Daz-EN  BD-Daz-EN-HC-App            FAQ   \n",
       "\n",
       "   Knowledge Id            Knowledge Name  Solution Id Solution Name  Chats  \\\n",
       "0    1000015459  How can I track my order          NaN           NaN   1358   \n",
       "1    1000063199             Talk to Agent          NaN           NaN   1290   \n",
       "2    1000055995                  Greeting          NaN           NaN   1228   \n",
       "3    1000063199             Talk to Agent          NaN           NaN    919   \n",
       "4    1000015459  How can I track my order          NaN           NaN    889   \n",
       "\n",
       "   sid_cnt  Session_Resolved_Rate  Switch_to_Live_Agent_Rate  \\\n",
       "0      791               0.662025                   0.201266   \n",
       "1      646               0.665116                   0.226357   \n",
       "2      632               0.745628                   0.165342   \n",
       "3      311               0.450161                   0.504823   \n",
       "4      612               0.596405                   0.341503   \n",
       "\n",
       "   Survey_Response_Rate  Chat_Unsatisfied_Rate  \n",
       "0                   0.0                    NaN  \n",
       "1                   0.0                    NaN  \n",
       "2                   0.0                    NaN  \n",
       "3                   0.0                    NaN  \n",
       "4                   0.0                    NaN  "
      ]
     },
     "metadata": {},
     "output_type": "display_data"
    }
   ],
   "source": [
    "display(df.head())\n"
   ]
  },
  {
   "cell_type": "code",
   "execution_count": 56,
   "metadata": {},
   "outputs": [],
   "source": [
    "#Week22\n",
    "df_LC = df[df['robot_code_name'] == 'BD-Daz-LC']\n",
    "df_EN = df[df['robot_code_name'] == 'BD-Daz-EN']"
   ]
  },
  {
   "cell_type": "code",
   "execution_count": 57,
   "metadata": {},
   "outputs": [
    {
     "data": {
      "text/plain": [
       "(2594, 15)"
      ]
     },
     "execution_count": 57,
     "metadata": {},
     "output_type": "execute_result"
    }
   ],
   "source": [
    "df_LC.shape"
   ]
  },
  {
   "cell_type": "code",
   "execution_count": 58,
   "metadata": {},
   "outputs": [
    {
     "data": {
      "text/plain": [
       "(6009, 15)"
      ]
     },
     "execution_count": 58,
     "metadata": {},
     "output_type": "execute_result"
    }
   ],
   "source": [
    "df_EN.shape"
   ]
  },
  {
   "cell_type": "code",
   "execution_count": 59,
   "metadata": {},
   "outputs": [],
   "source": [
    "#Week22\n",
    "df_LC = df_LC.reset_index()\n",
    "df_EN = df_EN.reset_index()"
   ]
  },
  {
   "cell_type": "code",
   "execution_count": 60,
   "metadata": {},
   "outputs": [],
   "source": [
    "#Week22\n",
    "df_LC = df_LC.drop('index', axis=1)\n",
    "df_EN = df_EN.drop('index', axis=1)"
   ]
  },
  {
   "cell_type": "markdown",
   "metadata": {},
   "source": [
    "#### Total Session Resolved"
   ]
  },
  {
   "cell_type": "markdown",
   "metadata": {},
   "source": [
    "##### Week 22"
   ]
  },
  {
   "cell_type": "markdown",
   "metadata": {},
   "source": [
    "##### LC"
   ]
  },
  {
   "cell_type": "code",
   "execution_count": 61,
   "metadata": {},
   "outputs": [
    {
     "name": "stderr",
     "output_type": "stream",
     "text": [
      "C:\\Users\\Daraz\\AppData\\Local\\Temp/ipykernel_14776/1685490228.py:3: SettingWithCopyWarning: \n",
      "A value is trying to be set on a copy of a slice from a DataFrame\n",
      "\n",
      "See the caveats in the documentation: https://pandas.pydata.org/pandas-docs/stable/user_guide/indexing.html#returning-a-view-versus-a-copy\n",
      "  df_LC['total_session_resolved'][i] = df_LC['sid_cnt'][i]*df_LC['Session_Resolved_Rate'][i]\n",
      "c:\\Users\\Daraz\\anaconda3\\lib\\site-packages\\pandas\\core\\indexing.py:1732: SettingWithCopyWarning: \n",
      "A value is trying to be set on a copy of a slice from a DataFrame\n",
      "\n",
      "See the caveats in the documentation: https://pandas.pydata.org/pandas-docs/stable/user_guide/indexing.html#returning-a-view-versus-a-copy\n",
      "  self._setitem_single_block(indexer, value, name)\n"
     ]
    }
   ],
   "source": [
    "df_LC['total_session_resolved'] = 0\n",
    "for i in range(len(df_LC)):\n",
    "    df_LC['total_session_resolved'][i] = df_LC['sid_cnt'][i]*df_LC['Session_Resolved_Rate'][i]"
   ]
  },
  {
   "cell_type": "markdown",
   "metadata": {},
   "source": [
    "##### EN"
   ]
  },
  {
   "cell_type": "code",
   "execution_count": 62,
   "metadata": {},
   "outputs": [
    {
     "name": "stderr",
     "output_type": "stream",
     "text": [
      "C:\\Users\\Daraz\\AppData\\Local\\Temp/ipykernel_14776/2215925244.py:3: SettingWithCopyWarning: \n",
      "A value is trying to be set on a copy of a slice from a DataFrame\n",
      "\n",
      "See the caveats in the documentation: https://pandas.pydata.org/pandas-docs/stable/user_guide/indexing.html#returning-a-view-versus-a-copy\n",
      "  df_EN['total_session_resolved'][i] = df_EN['sid_cnt'][i]*df_EN['Session_Resolved_Rate'][i]\n"
     ]
    }
   ],
   "source": [
    "df_EN['total_session_resolved'] = 0\n",
    "for i in range(len(df_EN)):\n",
    "    df_EN['total_session_resolved'][i] = df_EN['sid_cnt'][i]*df_EN['Session_Resolved_Rate'][i]"
   ]
  },
  {
   "cell_type": "markdown",
   "metadata": {},
   "source": [
    "#### Total Count for Switch_to_LiveAgent"
   ]
  },
  {
   "cell_type": "markdown",
   "metadata": {},
   "source": [
    "##### Week 22"
   ]
  },
  {
   "cell_type": "markdown",
   "metadata": {},
   "source": [
    "##### LC"
   ]
  },
  {
   "cell_type": "code",
   "execution_count": 63,
   "metadata": {},
   "outputs": [
    {
     "name": "stderr",
     "output_type": "stream",
     "text": [
      "C:\\Users\\Daraz\\AppData\\Local\\Temp/ipykernel_14776/619910848.py:3: SettingWithCopyWarning: \n",
      "A value is trying to be set on a copy of a slice from a DataFrame\n",
      "\n",
      "See the caveats in the documentation: https://pandas.pydata.org/pandas-docs/stable/user_guide/indexing.html#returning-a-view-versus-a-copy\n",
      "  df_LC['total_switch_agent'][i] = df_LC['sid_cnt'][i]*df_LC['Switch_to_Live_Agent_Rate'][i]\n"
     ]
    }
   ],
   "source": [
    "df_LC['total_switch_agent'] = 0 \n",
    "for i in range(len(df_LC)):\n",
    "    df_LC['total_switch_agent'][i] = df_LC['sid_cnt'][i]*df_LC['Switch_to_Live_Agent_Rate'][i]"
   ]
  },
  {
   "cell_type": "markdown",
   "metadata": {},
   "source": [
    "##### EN"
   ]
  },
  {
   "cell_type": "code",
   "execution_count": 64,
   "metadata": {},
   "outputs": [
    {
     "name": "stderr",
     "output_type": "stream",
     "text": [
      "C:\\Users\\Daraz\\AppData\\Local\\Temp/ipykernel_14776/2834748607.py:3: SettingWithCopyWarning: \n",
      "A value is trying to be set on a copy of a slice from a DataFrame\n",
      "\n",
      "See the caveats in the documentation: https://pandas.pydata.org/pandas-docs/stable/user_guide/indexing.html#returning-a-view-versus-a-copy\n",
      "  df_EN['total_switch_agent'][i] = df_EN['sid_cnt'][i]*df_EN['Switch_to_Live_Agent_Rate'][i]\n"
     ]
    }
   ],
   "source": [
    "df_EN['total_switch_agent'] = 0\n",
    "for i in range(len(df_EN)):\n",
    "    df_EN['total_switch_agent'][i] = df_EN['sid_cnt'][i]*df_EN['Switch_to_Live_Agent_Rate'][i]"
   ]
  },
  {
   "cell_type": "markdown",
   "metadata": {},
   "source": [
    "#### Response Count (Chat Level)"
   ]
  },
  {
   "cell_type": "markdown",
   "metadata": {},
   "source": [
    "##### Week 22"
   ]
  },
  {
   "cell_type": "markdown",
   "metadata": {},
   "source": [
    "##### LC"
   ]
  },
  {
   "cell_type": "code",
   "execution_count": 65,
   "metadata": {},
   "outputs": [
    {
     "name": "stderr",
     "output_type": "stream",
     "text": [
      "C:\\Users\\Daraz\\AppData\\Local\\Temp/ipykernel_14776/1936547415.py:3: SettingWithCopyWarning: \n",
      "A value is trying to be set on a copy of a slice from a DataFrame\n",
      "\n",
      "See the caveats in the documentation: https://pandas.pydata.org/pandas-docs/stable/user_guide/indexing.html#returning-a-view-versus-a-copy\n",
      "  df_LC['response_count'][i] = df_LC['Chats'][i]*df_LC['Survey_Response_Rate'][i]\n"
     ]
    }
   ],
   "source": [
    "df_LC['response_count'] = 0\n",
    "for i in range(len(df_LC)):\n",
    "    df_LC['response_count'][i] = df_LC['Chats'][i]*df_LC['Survey_Response_Rate'][i]"
   ]
  },
  {
   "cell_type": "markdown",
   "metadata": {},
   "source": [
    "##### EN"
   ]
  },
  {
   "cell_type": "code",
   "execution_count": 66,
   "metadata": {},
   "outputs": [
    {
     "name": "stderr",
     "output_type": "stream",
     "text": [
      "C:\\Users\\Daraz\\AppData\\Local\\Temp/ipykernel_14776/1695218964.py:3: SettingWithCopyWarning: \n",
      "A value is trying to be set on a copy of a slice from a DataFrame\n",
      "\n",
      "See the caveats in the documentation: https://pandas.pydata.org/pandas-docs/stable/user_guide/indexing.html#returning-a-view-versus-a-copy\n",
      "  df_EN['response_count'][i] = df_EN['Chats'][i]*df_EN['Survey_Response_Rate'][i]\n"
     ]
    }
   ],
   "source": [
    "df_EN['response_count'] = 0\n",
    "for i in range(len(df_EN)):\n",
    "    df_EN['response_count'][i] = df_EN['Chats'][i]*df_EN['Survey_Response_Rate'][i]"
   ]
  },
  {
   "cell_type": "markdown",
   "metadata": {},
   "source": [
    "#### Unsatisfied Count (Chat Level)"
   ]
  },
  {
   "cell_type": "markdown",
   "metadata": {},
   "source": [
    "##### Week 22"
   ]
  },
  {
   "cell_type": "markdown",
   "metadata": {},
   "source": [
    "##### LC"
   ]
  },
  {
   "cell_type": "code",
   "execution_count": 67,
   "metadata": {},
   "outputs": [
    {
     "name": "stderr",
     "output_type": "stream",
     "text": [
      "C:\\Users\\Daraz\\AppData\\Local\\Temp/ipykernel_14776/2530673422.py:3: SettingWithCopyWarning: \n",
      "A value is trying to be set on a copy of a slice from a DataFrame\n",
      "\n",
      "See the caveats in the documentation: https://pandas.pydata.org/pandas-docs/stable/user_guide/indexing.html#returning-a-view-versus-a-copy\n",
      "  df_LC['unsatisfied_count'][i] = df_LC['response_count'][i]*df_LC['Chat_Unsatisfied_Rate'][i]\n"
     ]
    }
   ],
   "source": [
    "df_LC['unsatisfied_count'] = 0\n",
    "for i in range(len(df_LC)):\n",
    "    df_LC['unsatisfied_count'][i] = df_LC['response_count'][i]*df_LC['Chat_Unsatisfied_Rate'][i]"
   ]
  },
  {
   "cell_type": "markdown",
   "metadata": {},
   "source": [
    "##### EN"
   ]
  },
  {
   "cell_type": "code",
   "execution_count": 68,
   "metadata": {},
   "outputs": [
    {
     "name": "stderr",
     "output_type": "stream",
     "text": [
      "C:\\Users\\Daraz\\AppData\\Local\\Temp/ipykernel_14776/3719463774.py:3: SettingWithCopyWarning: \n",
      "A value is trying to be set on a copy of a slice from a DataFrame\n",
      "\n",
      "See the caveats in the documentation: https://pandas.pydata.org/pandas-docs/stable/user_guide/indexing.html#returning-a-view-versus-a-copy\n",
      "  df_EN['unsatisfied_count'][i] = df_EN['response_count'][i]*df_EN['Chat_Unsatisfied_Rate'][i]\n"
     ]
    }
   ],
   "source": [
    "df_EN['unsatisfied_count'] = 0\n",
    "for i in range(len(df_EN)):\n",
    "    df_EN['unsatisfied_count'][i] = df_EN['response_count'][i]*df_EN['Chat_Unsatisfied_Rate'][i]"
   ]
  },
  {
   "cell_type": "markdown",
   "metadata": {},
   "source": [
    "##### Week 22"
   ]
  },
  {
   "cell_type": "markdown",
   "metadata": {},
   "source": [
    "##### LC"
   ]
  },
  {
   "cell_type": "code",
   "execution_count": 69,
   "metadata": {},
   "outputs": [
    {
     "data": {
      "text/html": [
       "<div>\n",
       "<style scoped>\n",
       "    .dataframe tbody tr th:only-of-type {\n",
       "        vertical-align: middle;\n",
       "    }\n",
       "\n",
       "    .dataframe tbody tr th {\n",
       "        vertical-align: top;\n",
       "    }\n",
       "\n",
       "    .dataframe thead th {\n",
       "        text-align: right;\n",
       "    }\n",
       "</style>\n",
       "<table border=\"1\" class=\"dataframe\">\n",
       "  <thead>\n",
       "    <tr style=\"text-align: right;\">\n",
       "      <th></th>\n",
       "      <th>total_session_resolved</th>\n",
       "      <th>total_switch_agent</th>\n",
       "      <th>response_count</th>\n",
       "      <th>unsatisfied_count</th>\n",
       "    </tr>\n",
       "  </thead>\n",
       "  <tbody>\n",
       "    <tr>\n",
       "      <th>0</th>\n",
       "      <td>539.0</td>\n",
       "      <td>15.0</td>\n",
       "      <td>94</td>\n",
       "      <td>25.0</td>\n",
       "    </tr>\n",
       "    <tr>\n",
       "      <th>1</th>\n",
       "      <td>487.0</td>\n",
       "      <td>37.0</td>\n",
       "      <td>98</td>\n",
       "      <td>20.0</td>\n",
       "    </tr>\n",
       "  </tbody>\n",
       "</table>\n",
       "</div>"
      ],
      "text/plain": [
       "   total_session_resolved  total_switch_agent  response_count  \\\n",
       "0                   539.0                15.0              94   \n",
       "1                   487.0                37.0              98   \n",
       "\n",
       "   unsatisfied_count  \n",
       "0               25.0  \n",
       "1               20.0  "
      ]
     },
     "execution_count": 69,
     "metadata": {},
     "output_type": "execute_result"
    }
   ],
   "source": [
    "df_LC[['total_session_resolved','total_switch_agent','response_count','unsatisfied_count']].head(2)"
   ]
  },
  {
   "cell_type": "markdown",
   "metadata": {},
   "source": [
    "##### EN"
   ]
  },
  {
   "cell_type": "code",
   "execution_count": 70,
   "metadata": {},
   "outputs": [
    {
     "data": {
      "text/html": [
       "<div>\n",
       "<style scoped>\n",
       "    .dataframe tbody tr th:only-of-type {\n",
       "        vertical-align: middle;\n",
       "    }\n",
       "\n",
       "    .dataframe tbody tr th {\n",
       "        vertical-align: top;\n",
       "    }\n",
       "\n",
       "    .dataframe thead th {\n",
       "        text-align: right;\n",
       "    }\n",
       "</style>\n",
       "<table border=\"1\" class=\"dataframe\">\n",
       "  <thead>\n",
       "    <tr style=\"text-align: right;\">\n",
       "      <th></th>\n",
       "      <th>total_session_resolved</th>\n",
       "      <th>total_switch_agent</th>\n",
       "      <th>response_count</th>\n",
       "      <th>unsatisfied_count</th>\n",
       "    </tr>\n",
       "  </thead>\n",
       "  <tbody>\n",
       "    <tr>\n",
       "      <th>0</th>\n",
       "      <td>523.0</td>\n",
       "      <td>159.0</td>\n",
       "      <td>0</td>\n",
       "      <td>NaN</td>\n",
       "    </tr>\n",
       "    <tr>\n",
       "      <th>1</th>\n",
       "      <td>429.0</td>\n",
       "      <td>146.0</td>\n",
       "      <td>0</td>\n",
       "      <td>NaN</td>\n",
       "    </tr>\n",
       "  </tbody>\n",
       "</table>\n",
       "</div>"
      ],
      "text/plain": [
       "   total_session_resolved  total_switch_agent  response_count  \\\n",
       "0                   523.0               159.0               0   \n",
       "1                   429.0               146.0               0   \n",
       "\n",
       "   unsatisfied_count  \n",
       "0                NaN  \n",
       "1                NaN  "
      ]
     },
     "execution_count": 70,
     "metadata": {},
     "output_type": "execute_result"
    }
   ],
   "source": [
    "df_EN[['total_session_resolved','total_switch_agent','response_count','unsatisfied_count']].head(2)"
   ]
  },
  {
   "cell_type": "markdown",
   "metadata": {},
   "source": [
    "##### Week 22"
   ]
  },
  {
   "cell_type": "markdown",
   "metadata": {},
   "source": [
    "##### LC"
   ]
  },
  {
   "cell_type": "code",
   "execution_count": 71,
   "metadata": {},
   "outputs": [],
   "source": [
    "df_LC['unsatisfied_count'] = df_LC['unsatisfied_count'].fillna(0)"
   ]
  },
  {
   "cell_type": "markdown",
   "metadata": {},
   "source": [
    "##### EN"
   ]
  },
  {
   "cell_type": "code",
   "execution_count": 72,
   "metadata": {},
   "outputs": [],
   "source": [
    "df_EN['unsatisfied_count'] = df_EN['unsatisfied_count'].fillna(0)"
   ]
  },
  {
   "cell_type": "markdown",
   "metadata": {},
   "source": [
    "##### Week 22"
   ]
  },
  {
   "cell_type": "markdown",
   "metadata": {},
   "source": [
    "##### LC"
   ]
  },
  {
   "cell_type": "code",
   "execution_count": 73,
   "metadata": {},
   "outputs": [
    {
     "data": {
      "text/html": [
       "<div>\n",
       "<style scoped>\n",
       "    .dataframe tbody tr th:only-of-type {\n",
       "        vertical-align: middle;\n",
       "    }\n",
       "\n",
       "    .dataframe tbody tr th {\n",
       "        vertical-align: top;\n",
       "    }\n",
       "\n",
       "    .dataframe thead th {\n",
       "        text-align: right;\n",
       "    }\n",
       "</style>\n",
       "<table border=\"1\" class=\"dataframe\">\n",
       "  <thead>\n",
       "    <tr style=\"text-align: right;\">\n",
       "      <th></th>\n",
       "      <th>total_session_resolved</th>\n",
       "      <th>total_switch_agent</th>\n",
       "      <th>response_count</th>\n",
       "      <th>unsatisfied_count</th>\n",
       "    </tr>\n",
       "  </thead>\n",
       "  <tbody>\n",
       "    <tr>\n",
       "      <th>0</th>\n",
       "      <td>539.0</td>\n",
       "      <td>15.0</td>\n",
       "      <td>94</td>\n",
       "      <td>25.0</td>\n",
       "    </tr>\n",
       "    <tr>\n",
       "      <th>1</th>\n",
       "      <td>487.0</td>\n",
       "      <td>37.0</td>\n",
       "      <td>98</td>\n",
       "      <td>20.0</td>\n",
       "    </tr>\n",
       "    <tr>\n",
       "      <th>2</th>\n",
       "      <td>455.0</td>\n",
       "      <td>22.0</td>\n",
       "      <td>81</td>\n",
       "      <td>15.0</td>\n",
       "    </tr>\n",
       "    <tr>\n",
       "      <th>3</th>\n",
       "      <td>462.0</td>\n",
       "      <td>29.0</td>\n",
       "      <td>72</td>\n",
       "      <td>9.0</td>\n",
       "    </tr>\n",
       "    <tr>\n",
       "      <th>4</th>\n",
       "      <td>451.0</td>\n",
       "      <td>33.0</td>\n",
       "      <td>79</td>\n",
       "      <td>14.0</td>\n",
       "    </tr>\n",
       "    <tr>\n",
       "      <th>...</th>\n",
       "      <td>...</td>\n",
       "      <td>...</td>\n",
       "      <td>...</td>\n",
       "      <td>...</td>\n",
       "    </tr>\n",
       "    <tr>\n",
       "      <th>2589</th>\n",
       "      <td>1.0</td>\n",
       "      <td>0.0</td>\n",
       "      <td>0</td>\n",
       "      <td>0.0</td>\n",
       "    </tr>\n",
       "    <tr>\n",
       "      <th>2590</th>\n",
       "      <td>1.0</td>\n",
       "      <td>0.0</td>\n",
       "      <td>0</td>\n",
       "      <td>0.0</td>\n",
       "    </tr>\n",
       "    <tr>\n",
       "      <th>2591</th>\n",
       "      <td>1.0</td>\n",
       "      <td>0.0</td>\n",
       "      <td>0</td>\n",
       "      <td>0.0</td>\n",
       "    </tr>\n",
       "    <tr>\n",
       "      <th>2592</th>\n",
       "      <td>0.0</td>\n",
       "      <td>0.0</td>\n",
       "      <td>0</td>\n",
       "      <td>0.0</td>\n",
       "    </tr>\n",
       "    <tr>\n",
       "      <th>2593</th>\n",
       "      <td>1.0</td>\n",
       "      <td>0.0</td>\n",
       "      <td>1</td>\n",
       "      <td>0.0</td>\n",
       "    </tr>\n",
       "  </tbody>\n",
       "</table>\n",
       "<p>2594 rows × 4 columns</p>\n",
       "</div>"
      ],
      "text/plain": [
       "      total_session_resolved  total_switch_agent  response_count  \\\n",
       "0                      539.0                15.0              94   \n",
       "1                      487.0                37.0              98   \n",
       "2                      455.0                22.0              81   \n",
       "3                      462.0                29.0              72   \n",
       "4                      451.0                33.0              79   \n",
       "...                      ...                 ...             ...   \n",
       "2589                     1.0                 0.0               0   \n",
       "2590                     1.0                 0.0               0   \n",
       "2591                     1.0                 0.0               0   \n",
       "2592                     0.0                 0.0               0   \n",
       "2593                     1.0                 0.0               1   \n",
       "\n",
       "      unsatisfied_count  \n",
       "0                  25.0  \n",
       "1                  20.0  \n",
       "2                  15.0  \n",
       "3                   9.0  \n",
       "4                  14.0  \n",
       "...                 ...  \n",
       "2589                0.0  \n",
       "2590                0.0  \n",
       "2591                0.0  \n",
       "2592                0.0  \n",
       "2593                0.0  \n",
       "\n",
       "[2594 rows x 4 columns]"
      ]
     },
     "execution_count": 73,
     "metadata": {},
     "output_type": "execute_result"
    }
   ],
   "source": [
    "df_LC[['total_session_resolved','total_switch_agent','response_count','unsatisfied_count']]"
   ]
  },
  {
   "cell_type": "markdown",
   "metadata": {},
   "source": [
    "##### EN"
   ]
  },
  {
   "cell_type": "code",
   "execution_count": 74,
   "metadata": {},
   "outputs": [
    {
     "data": {
      "text/html": [
       "<div>\n",
       "<style scoped>\n",
       "    .dataframe tbody tr th:only-of-type {\n",
       "        vertical-align: middle;\n",
       "    }\n",
       "\n",
       "    .dataframe tbody tr th {\n",
       "        vertical-align: top;\n",
       "    }\n",
       "\n",
       "    .dataframe thead th {\n",
       "        text-align: right;\n",
       "    }\n",
       "</style>\n",
       "<table border=\"1\" class=\"dataframe\">\n",
       "  <thead>\n",
       "    <tr style=\"text-align: right;\">\n",
       "      <th></th>\n",
       "      <th>total_session_resolved</th>\n",
       "      <th>total_switch_agent</th>\n",
       "      <th>response_count</th>\n",
       "      <th>unsatisfied_count</th>\n",
       "    </tr>\n",
       "  </thead>\n",
       "  <tbody>\n",
       "    <tr>\n",
       "      <th>0</th>\n",
       "      <td>523.0</td>\n",
       "      <td>159.0</td>\n",
       "      <td>0</td>\n",
       "      <td>0.0</td>\n",
       "    </tr>\n",
       "    <tr>\n",
       "      <th>1</th>\n",
       "      <td>429.0</td>\n",
       "      <td>146.0</td>\n",
       "      <td>0</td>\n",
       "      <td>0.0</td>\n",
       "    </tr>\n",
       "    <tr>\n",
       "      <th>2</th>\n",
       "      <td>471.0</td>\n",
       "      <td>104.0</td>\n",
       "      <td>0</td>\n",
       "      <td>0.0</td>\n",
       "    </tr>\n",
       "    <tr>\n",
       "      <th>3</th>\n",
       "      <td>140.0</td>\n",
       "      <td>156.0</td>\n",
       "      <td>0</td>\n",
       "      <td>0.0</td>\n",
       "    </tr>\n",
       "    <tr>\n",
       "      <th>4</th>\n",
       "      <td>365.0</td>\n",
       "      <td>209.0</td>\n",
       "      <td>0</td>\n",
       "      <td>0.0</td>\n",
       "    </tr>\n",
       "    <tr>\n",
       "      <th>...</th>\n",
       "      <td>...</td>\n",
       "      <td>...</td>\n",
       "      <td>...</td>\n",
       "      <td>...</td>\n",
       "    </tr>\n",
       "    <tr>\n",
       "      <th>6004</th>\n",
       "      <td>0.0</td>\n",
       "      <td>1.0</td>\n",
       "      <td>1</td>\n",
       "      <td>1.0</td>\n",
       "    </tr>\n",
       "    <tr>\n",
       "      <th>6005</th>\n",
       "      <td>1.0</td>\n",
       "      <td>0.0</td>\n",
       "      <td>0</td>\n",
       "      <td>0.0</td>\n",
       "    </tr>\n",
       "    <tr>\n",
       "      <th>6006</th>\n",
       "      <td>1.0</td>\n",
       "      <td>0.0</td>\n",
       "      <td>0</td>\n",
       "      <td>0.0</td>\n",
       "    </tr>\n",
       "    <tr>\n",
       "      <th>6007</th>\n",
       "      <td>1.0</td>\n",
       "      <td>0.0</td>\n",
       "      <td>0</td>\n",
       "      <td>0.0</td>\n",
       "    </tr>\n",
       "    <tr>\n",
       "      <th>6008</th>\n",
       "      <td>1.0</td>\n",
       "      <td>0.0</td>\n",
       "      <td>0</td>\n",
       "      <td>0.0</td>\n",
       "    </tr>\n",
       "  </tbody>\n",
       "</table>\n",
       "<p>6009 rows × 4 columns</p>\n",
       "</div>"
      ],
      "text/plain": [
       "      total_session_resolved  total_switch_agent  response_count  \\\n",
       "0                      523.0               159.0               0   \n",
       "1                      429.0               146.0               0   \n",
       "2                      471.0               104.0               0   \n",
       "3                      140.0               156.0               0   \n",
       "4                      365.0               209.0               0   \n",
       "...                      ...                 ...             ...   \n",
       "6004                     0.0                 1.0               1   \n",
       "6005                     1.0                 0.0               0   \n",
       "6006                     1.0                 0.0               0   \n",
       "6007                     1.0                 0.0               0   \n",
       "6008                     1.0                 0.0               0   \n",
       "\n",
       "      unsatisfied_count  \n",
       "0                   0.0  \n",
       "1                   0.0  \n",
       "2                   0.0  \n",
       "3                   0.0  \n",
       "4                   0.0  \n",
       "...                 ...  \n",
       "6004                1.0  \n",
       "6005                0.0  \n",
       "6006                0.0  \n",
       "6007                0.0  \n",
       "6008                0.0  \n",
       "\n",
       "[6009 rows x 4 columns]"
      ]
     },
     "execution_count": 74,
     "metadata": {},
     "output_type": "execute_result"
    }
   ],
   "source": [
    "df_EN[['total_session_resolved','total_switch_agent','response_count','unsatisfied_count']]"
   ]
  },
  {
   "cell_type": "markdown",
   "metadata": {},
   "source": [
    "### Creating a Pivot Table"
   ]
  },
  {
   "cell_type": "markdown",
   "metadata": {},
   "source": [
    "##### Week 22"
   ]
  },
  {
   "cell_type": "markdown",
   "metadata": {},
   "source": [
    "##### LC"
   ]
  },
  {
   "cell_type": "code",
   "execution_count": 75,
   "metadata": {},
   "outputs": [],
   "source": [
    "df_LC_pivottable = pd.pivot_table(df_LC, values = ['Chats','sid_cnt','total_session_resolved','total_switch_agent','unsatisfied_count'],\n",
    "                       index= ['Knowledge Name'], aggfunc = np.sum)"
   ]
  },
  {
   "cell_type": "markdown",
   "metadata": {},
   "source": [
    "##### EN"
   ]
  },
  {
   "cell_type": "code",
   "execution_count": 76,
   "metadata": {},
   "outputs": [],
   "source": [
    "df_EN_pivottable = pd.pivot_table(df_EN, values = ['Chats','sid_cnt','total_session_resolved','total_switch_agent','unsatisfied_count'],\n",
    "                       index= ['Knowledge Name'], aggfunc = np.sum)"
   ]
  },
  {
   "cell_type": "code",
   "execution_count": 77,
   "metadata": {},
   "outputs": [
    {
     "data": {
      "text/html": [
       "<div>\n",
       "<style scoped>\n",
       "    .dataframe tbody tr th:only-of-type {\n",
       "        vertical-align: middle;\n",
       "    }\n",
       "\n",
       "    .dataframe tbody tr th {\n",
       "        vertical-align: top;\n",
       "    }\n",
       "\n",
       "    .dataframe thead th {\n",
       "        text-align: right;\n",
       "    }\n",
       "</style>\n",
       "<table border=\"1\" class=\"dataframe\">\n",
       "  <thead>\n",
       "    <tr style=\"text-align: right;\">\n",
       "      <th></th>\n",
       "      <th>Chats</th>\n",
       "      <th>sid_cnt</th>\n",
       "      <th>total_session_resolved</th>\n",
       "      <th>total_switch_agent</th>\n",
       "      <th>unsatisfied_count</th>\n",
       "    </tr>\n",
       "    <tr>\n",
       "      <th>Knowledge Name</th>\n",
       "      <th></th>\n",
       "      <th></th>\n",
       "      <th></th>\n",
       "      <th></th>\n",
       "      <th></th>\n",
       "    </tr>\n",
       "  </thead>\n",
       "  <tbody>\n",
       "    <tr>\n",
       "      <th>Ai tar taka ferot chai</th>\n",
       "      <td>1</td>\n",
       "      <td>1</td>\n",
       "      <td>1.0</td>\n",
       "      <td>0.0</td>\n",
       "      <td>0.0</td>\n",
       "    </tr>\n",
       "    <tr>\n",
       "      <th>Ata refund pete koto din lagbe</th>\n",
       "      <td>19</td>\n",
       "      <td>16</td>\n",
       "      <td>10.0</td>\n",
       "      <td>4.0</td>\n",
       "      <td>0.0</td>\n",
       "    </tr>\n",
       "    <tr>\n",
       "      <th>অনলাইন রিটার্ন ফর্ম কিভাবে পূরণ করবো ?</th>\n",
       "      <td>3</td>\n",
       "      <td>3</td>\n",
       "      <td>2.0</td>\n",
       "      <td>0.0</td>\n",
       "      <td>0.0</td>\n",
       "    </tr>\n",
       "    <tr>\n",
       "      <th>অনেক আগে আমি একটা প্রোডাক্ট রিটার্ন করছি তার টাকা এখনো ফেরত পাইনি কবে পাবো</th>\n",
       "      <td>1</td>\n",
       "      <td>1</td>\n",
       "      <td>1.0</td>\n",
       "      <td>0.0</td>\n",
       "      <td>0.0</td>\n",
       "    </tr>\n",
       "    <tr>\n",
       "      <th>অর্ডার কনফার্মড হওয়ার পর কি নোটিফাই করবেন?</th>\n",
       "      <td>56</td>\n",
       "      <td>54</td>\n",
       "      <td>44.0</td>\n",
       "      <td>7.0</td>\n",
       "      <td>1.0</td>\n",
       "    </tr>\n",
       "    <tr>\n",
       "      <th>...</th>\n",
       "      <td>...</td>\n",
       "      <td>...</td>\n",
       "      <td>...</td>\n",
       "      <td>...</td>\n",
       "      <td>...</td>\n",
       "    </tr>\n",
       "    <tr>\n",
       "      <th>১ টাকার গেম কিভাবে খেলবো ?</th>\n",
       "      <td>3</td>\n",
       "      <td>3</td>\n",
       "      <td>2.0</td>\n",
       "      <td>0.0</td>\n",
       "      <td>0.0</td>\n",
       "    </tr>\n",
       "    <tr>\n",
       "      <th>১১ ও ক্লক ডিলস কী?</th>\n",
       "      <td>10</td>\n",
       "      <td>10</td>\n",
       "      <td>9.0</td>\n",
       "      <td>0.0</td>\n",
       "      <td>1.0</td>\n",
       "    </tr>\n",
       "    <tr>\n",
       "      <th>৩ মাস হয়ে গেলো ব্যাট এখনো রিফান্ড পেলাম না</th>\n",
       "      <td>1</td>\n",
       "      <td>1</td>\n",
       "      <td>1.0</td>\n",
       "      <td>0.0</td>\n",
       "      <td>0.0</td>\n",
       "    </tr>\n",
       "    <tr>\n",
       "      <th>৭ দিন হয়ে গেছে এখনো আমার টাকা পাচ্ছি না রিফান্ড কবে পাবো</th>\n",
       "      <td>1</td>\n",
       "      <td>1</td>\n",
       "      <td>1.0</td>\n",
       "      <td>0.0</td>\n",
       "      <td>0.0</td>\n",
       "    </tr>\n",
       "    <tr>\n",
       "      <th>৮ দিন হয়ে গেছে এখনো ব্যাংক এ টাকা এড হয় নি কেন</th>\n",
       "      <td>2</td>\n",
       "      <td>1</td>\n",
       "      <td>1.0</td>\n",
       "      <td>0.0</td>\n",
       "      <td>0.0</td>\n",
       "    </tr>\n",
       "  </tbody>\n",
       "</table>\n",
       "<p>331 rows × 5 columns</p>\n",
       "</div>"
      ],
      "text/plain": [
       "                                                    Chats  sid_cnt  \\\n",
       "Knowledge Name                                                       \n",
       "Ai tar taka ferot chai                                  1        1   \n",
       "Ata refund pete koto din lagbe                         19       16   \n",
       "অনলাইন রিটার্ন ফর্ম কিভাবে পূরণ করবো ?                  3        3   \n",
       "অনেক আগে আমি একটা প্রোডাক্ট রিটার্ন করছি তার টা...      1        1   \n",
       "অর্ডার কনফার্মড হওয়ার পর কি নোটিফাই করবেন?             56       54   \n",
       "...                                                   ...      ...   \n",
       "১ টাকার গেম কিভাবে খেলবো ?                              3        3   \n",
       "১১ ও ক্লক ডিলস কী?                                     10       10   \n",
       "৩ মাস হয়ে গেলো ব্যাট এখনো রিফান্ড পেলাম না              1        1   \n",
       "৭ দিন হয়ে গেছে এখনো আমার টাকা পাচ্ছি না রিফান্ড...      1        1   \n",
       "৮ দিন হয়ে গেছে এখনো ব্যাংক এ টাকা এড হয় নি কেন          2        1   \n",
       "\n",
       "                                                    total_session_resolved  \\\n",
       "Knowledge Name                                                               \n",
       "Ai tar taka ferot chai                                                 1.0   \n",
       "Ata refund pete koto din lagbe                                        10.0   \n",
       "অনলাইন রিটার্ন ফর্ম কিভাবে পূরণ করবো ?                                 2.0   \n",
       "অনেক আগে আমি একটা প্রোডাক্ট রিটার্ন করছি তার টা...                     1.0   \n",
       "অর্ডার কনফার্মড হওয়ার পর কি নোটিফাই করবেন?                            44.0   \n",
       "...                                                                    ...   \n",
       "১ টাকার গেম কিভাবে খেলবো ?                                             2.0   \n",
       "১১ ও ক্লক ডিলস কী?                                                     9.0   \n",
       "৩ মাস হয়ে গেলো ব্যাট এখনো রিফান্ড পেলাম না                             1.0   \n",
       "৭ দিন হয়ে গেছে এখনো আমার টাকা পাচ্ছি না রিফান্ড...                     1.0   \n",
       "৮ দিন হয়ে গেছে এখনো ব্যাংক এ টাকা এড হয় নি কেন                         1.0   \n",
       "\n",
       "                                                    total_switch_agent  \\\n",
       "Knowledge Name                                                           \n",
       "Ai tar taka ferot chai                                             0.0   \n",
       "Ata refund pete koto din lagbe                                     4.0   \n",
       "অনলাইন রিটার্ন ফর্ম কিভাবে পূরণ করবো ?                             0.0   \n",
       "অনেক আগে আমি একটা প্রোডাক্ট রিটার্ন করছি তার টা...                 0.0   \n",
       "অর্ডার কনফার্মড হওয়ার পর কি নোটিফাই করবেন?                         7.0   \n",
       "...                                                                ...   \n",
       "১ টাকার গেম কিভাবে খেলবো ?                                         0.0   \n",
       "১১ ও ক্লক ডিলস কী?                                                 0.0   \n",
       "৩ মাস হয়ে গেলো ব্যাট এখনো রিফান্ড পেলাম না                         0.0   \n",
       "৭ দিন হয়ে গেছে এখনো আমার টাকা পাচ্ছি না রিফান্ড...                 0.0   \n",
       "৮ দিন হয়ে গেছে এখনো ব্যাংক এ টাকা এড হয় নি কেন                     0.0   \n",
       "\n",
       "                                                    unsatisfied_count  \n",
       "Knowledge Name                                                         \n",
       "Ai tar taka ferot chai                                            0.0  \n",
       "Ata refund pete koto din lagbe                                    0.0  \n",
       "অনলাইন রিটার্ন ফর্ম কিভাবে পূরণ করবো ?                            0.0  \n",
       "অনেক আগে আমি একটা প্রোডাক্ট রিটার্ন করছি তার টা...                0.0  \n",
       "অর্ডার কনফার্মড হওয়ার পর কি নোটিফাই করবেন?                        1.0  \n",
       "...                                                               ...  \n",
       "১ টাকার গেম কিভাবে খেলবো ?                                        0.0  \n",
       "১১ ও ক্লক ডিলস কী?                                                1.0  \n",
       "৩ মাস হয়ে গেলো ব্যাট এখনো রিফান্ড পেলাম না                        0.0  \n",
       "৭ দিন হয়ে গেছে এখনো আমার টাকা পাচ্ছি না রিফান্ড...                0.0  \n",
       "৮ দিন হয়ে গেছে এখনো ব্যাংক এ টাকা এড হয় নি কেন                    0.0  \n",
       "\n",
       "[331 rows x 5 columns]"
      ]
     },
     "metadata": {},
     "output_type": "display_data"
    },
    {
     "data": {
      "text/html": [
       "<div>\n",
       "<style scoped>\n",
       "    .dataframe tbody tr th:only-of-type {\n",
       "        vertical-align: middle;\n",
       "    }\n",
       "\n",
       "    .dataframe tbody tr th {\n",
       "        vertical-align: top;\n",
       "    }\n",
       "\n",
       "    .dataframe thead th {\n",
       "        text-align: right;\n",
       "    }\n",
       "</style>\n",
       "<table border=\"1\" class=\"dataframe\">\n",
       "  <thead>\n",
       "    <tr style=\"text-align: right;\">\n",
       "      <th></th>\n",
       "      <th>Chats</th>\n",
       "      <th>sid_cnt</th>\n",
       "      <th>total_session_resolved</th>\n",
       "      <th>total_switch_agent</th>\n",
       "      <th>unsatisfied_count</th>\n",
       "    </tr>\n",
       "    <tr>\n",
       "      <th>Knowledge Name</th>\n",
       "      <th></th>\n",
       "      <th></th>\n",
       "      <th></th>\n",
       "      <th></th>\n",
       "      <th></th>\n",
       "    </tr>\n",
       "  </thead>\n",
       "  <tbody>\n",
       "    <tr>\n",
       "      <th>Account management related query</th>\n",
       "      <td>57</td>\n",
       "      <td>55</td>\n",
       "      <td>20.0</td>\n",
       "      <td>32.0</td>\n",
       "      <td>0.0</td>\n",
       "    </tr>\n",
       "    <tr>\n",
       "      <th>Account management shongkranto query</th>\n",
       "      <td>12</td>\n",
       "      <td>11</td>\n",
       "      <td>4.0</td>\n",
       "      <td>6.0</td>\n",
       "      <td>0.0</td>\n",
       "    </tr>\n",
       "    <tr>\n",
       "      <th>Add to Cart offer ti kibhabe pabo</th>\n",
       "      <td>2</td>\n",
       "      <td>1</td>\n",
       "      <td>0.0</td>\n",
       "      <td>1.0</td>\n",
       "      <td>0.0</td>\n",
       "    </tr>\n",
       "    <tr>\n",
       "      <th>Alada delivery charge keno neya hoy shob ponner jonno</th>\n",
       "      <td>25</td>\n",
       "      <td>22</td>\n",
       "      <td>20.0</td>\n",
       "      <td>0.0</td>\n",
       "      <td>3.0</td>\n",
       "    </tr>\n",
       "    <tr>\n",
       "      <th>All about DarazMall</th>\n",
       "      <td>1</td>\n",
       "      <td>1</td>\n",
       "      <td>0.0</td>\n",
       "      <td>0.0</td>\n",
       "      <td>0.0</td>\n",
       "    </tr>\n",
       "    <tr>\n",
       "      <th>...</th>\n",
       "      <td>...</td>\n",
       "      <td>...</td>\n",
       "      <td>...</td>\n",
       "      <td>...</td>\n",
       "      <td>...</td>\n",
       "    </tr>\n",
       "    <tr>\n",
       "      <th>order cancel korle ki kono charge kete rakhen</th>\n",
       "      <td>1</td>\n",
       "      <td>1</td>\n",
       "      <td>1.0</td>\n",
       "      <td>0.0</td>\n",
       "      <td>0.0</td>\n",
       "    </tr>\n",
       "    <tr>\n",
       "      <th>refund via voucher mane ki</th>\n",
       "      <td>2</td>\n",
       "      <td>2</td>\n",
       "      <td>2.0</td>\n",
       "      <td>0.0</td>\n",
       "      <td>0.0</td>\n",
       "    </tr>\n",
       "    <tr>\n",
       "      <th>refund voucher er timeline koto</th>\n",
       "      <td>13</td>\n",
       "      <td>13</td>\n",
       "      <td>10.0</td>\n",
       "      <td>2.0</td>\n",
       "      <td>0.0</td>\n",
       "    </tr>\n",
       "    <tr>\n",
       "      <th>return er karonti jodi valid na hoy tokhon ki hobe</th>\n",
       "      <td>8</td>\n",
       "      <td>8</td>\n",
       "      <td>5.0</td>\n",
       "      <td>3.0</td>\n",
       "      <td>1.0</td>\n",
       "    </tr>\n",
       "    <tr>\n",
       "      <th>when will i get my refund</th>\n",
       "      <td>2</td>\n",
       "      <td>1</td>\n",
       "      <td>1.0</td>\n",
       "      <td>0.0</td>\n",
       "      <td>0.0</td>\n",
       "    </tr>\n",
       "  </tbody>\n",
       "</table>\n",
       "<p>621 rows × 5 columns</p>\n",
       "</div>"
      ],
      "text/plain": [
       "                                                    Chats  sid_cnt  \\\n",
       "Knowledge Name                                                       \n",
       "Account management related query                       57       55   \n",
       "Account management shongkranto query                   12       11   \n",
       "Add to Cart offer ti kibhabe pabo                       2        1   \n",
       "Alada delivery charge keno neya hoy shob ponner...     25       22   \n",
       "All about DarazMall                                     1        1   \n",
       "...                                                   ...      ...   \n",
       "order cancel korle ki kono charge kete rakhen           1        1   \n",
       "refund via voucher mane ki                              2        2   \n",
       "refund voucher er timeline koto                        13       13   \n",
       "return er karonti jodi valid na hoy tokhon ki hobe      8        8   \n",
       "when will i get my refund                               2        1   \n",
       "\n",
       "                                                    total_session_resolved  \\\n",
       "Knowledge Name                                                               \n",
       "Account management related query                                      20.0   \n",
       "Account management shongkranto query                                   4.0   \n",
       "Add to Cart offer ti kibhabe pabo                                      0.0   \n",
       "Alada delivery charge keno neya hoy shob ponner...                    20.0   \n",
       "All about DarazMall                                                    0.0   \n",
       "...                                                                    ...   \n",
       "order cancel korle ki kono charge kete rakhen                          1.0   \n",
       "refund via voucher mane ki                                             2.0   \n",
       "refund voucher er timeline koto                                       10.0   \n",
       "return er karonti jodi valid na hoy tokhon ki hobe                     5.0   \n",
       "when will i get my refund                                              1.0   \n",
       "\n",
       "                                                    total_switch_agent  \\\n",
       "Knowledge Name                                                           \n",
       "Account management related query                                  32.0   \n",
       "Account management shongkranto query                               6.0   \n",
       "Add to Cart offer ti kibhabe pabo                                  1.0   \n",
       "Alada delivery charge keno neya hoy shob ponner...                 0.0   \n",
       "All about DarazMall                                                0.0   \n",
       "...                                                                ...   \n",
       "order cancel korle ki kono charge kete rakhen                      0.0   \n",
       "refund via voucher mane ki                                         0.0   \n",
       "refund voucher er timeline koto                                    2.0   \n",
       "return er karonti jodi valid na hoy tokhon ki hobe                 3.0   \n",
       "when will i get my refund                                          0.0   \n",
       "\n",
       "                                                    unsatisfied_count  \n",
       "Knowledge Name                                                         \n",
       "Account management related query                                  0.0  \n",
       "Account management shongkranto query                              0.0  \n",
       "Add to Cart offer ti kibhabe pabo                                 0.0  \n",
       "Alada delivery charge keno neya hoy shob ponner...                3.0  \n",
       "All about DarazMall                                               0.0  \n",
       "...                                                               ...  \n",
       "order cancel korle ki kono charge kete rakhen                     0.0  \n",
       "refund via voucher mane ki                                        0.0  \n",
       "refund voucher er timeline koto                                   0.0  \n",
       "return er karonti jodi valid na hoy tokhon ki hobe                1.0  \n",
       "when will i get my refund                                         0.0  \n",
       "\n",
       "[621 rows x 5 columns]"
      ]
     },
     "metadata": {},
     "output_type": "display_data"
    }
   ],
   "source": [
    "display(df_LC_pivottable)\n",
    "display(df_EN_pivottable)\n",
    "\n"
   ]
  },
  {
   "cell_type": "markdown",
   "metadata": {},
   "source": [
    "##### Week 16"
   ]
  },
  {
   "cell_type": "code",
   "execution_count": 78,
   "metadata": {},
   "outputs": [],
   "source": [
    "df_LC_pivottable = df_LC_pivottable.sort_values('sid_cnt', ascending = False) # For LC\n",
    "df_EN_pivottable = df_EN_pivottable.sort_values('sid_cnt', ascending = False) # For EN"
   ]
  },
  {
   "cell_type": "code",
   "execution_count": 79,
   "metadata": {},
   "outputs": [
    {
     "data": {
      "text/html": [
       "<div>\n",
       "<style scoped>\n",
       "    .dataframe tbody tr th:only-of-type {\n",
       "        vertical-align: middle;\n",
       "    }\n",
       "\n",
       "    .dataframe tbody tr th {\n",
       "        vertical-align: top;\n",
       "    }\n",
       "\n",
       "    .dataframe thead th {\n",
       "        text-align: right;\n",
       "    }\n",
       "</style>\n",
       "<table border=\"1\" class=\"dataframe\">\n",
       "  <thead>\n",
       "    <tr style=\"text-align: right;\">\n",
       "      <th></th>\n",
       "      <th>Chats</th>\n",
       "      <th>sid_cnt</th>\n",
       "      <th>total_session_resolved</th>\n",
       "      <th>total_switch_agent</th>\n",
       "      <th>unsatisfied_count</th>\n",
       "    </tr>\n",
       "    <tr>\n",
       "      <th>Knowledge Name</th>\n",
       "      <th></th>\n",
       "      <th></th>\n",
       "      <th></th>\n",
       "      <th></th>\n",
       "      <th></th>\n",
       "    </tr>\n",
       "  </thead>\n",
       "  <tbody>\n",
       "    <tr>\n",
       "      <th>আমার অর্ডার কিভাবে ট্র্যাক করতে পারবো?</th>\n",
       "      <td>12578</td>\n",
       "      <td>9138</td>\n",
       "      <td>7516.0</td>\n",
       "      <td>861.0</td>\n",
       "      <td>383.774207</td>\n",
       "    </tr>\n",
       "    <tr>\n",
       "      <th>অর্ডার কিভাবে ক্যান্সেল করব?</th>\n",
       "      <td>4750</td>\n",
       "      <td>3022</td>\n",
       "      <td>2335.0</td>\n",
       "      <td>362.0</td>\n",
       "      <td>164.199099</td>\n",
       "    </tr>\n",
       "    <tr>\n",
       "      <th>আমি কি আইটেমটি রিটার্ন করতে পারবো</th>\n",
       "      <td>4166</td>\n",
       "      <td>2921</td>\n",
       "      <td>2287.0</td>\n",
       "      <td>337.0</td>\n",
       "      <td>48.980556</td>\n",
       "    </tr>\n",
       "    <tr>\n",
       "      <th>আমার সাহায্য লাগবে</th>\n",
       "      <td>3255</td>\n",
       "      <td>2869</td>\n",
       "      <td>1927.0</td>\n",
       "      <td>750.0</td>\n",
       "      <td>0.000000</td>\n",
       "    </tr>\n",
       "    <tr>\n",
       "      <th>অর্ডার প্লেস করতে পারছি না কেন?</th>\n",
       "      <td>2700</td>\n",
       "      <td>2533</td>\n",
       "      <td>2209.0</td>\n",
       "      <td>144.0</td>\n",
       "      <td>67.946970</td>\n",
       "    </tr>\n",
       "    <tr>\n",
       "      <th>...</th>\n",
       "      <td>...</td>\n",
       "      <td>...</td>\n",
       "      <td>...</td>\n",
       "      <td>...</td>\n",
       "      <td>...</td>\n",
       "    </tr>\n",
       "    <tr>\n",
       "      <th>কিভাবে ফ্রি তে কন্ট্যাক্ট করতে পারবো?</th>\n",
       "      <td>1</td>\n",
       "      <td>1</td>\n",
       "      <td>1.0</td>\n",
       "      <td>0.0</td>\n",
       "      <td>0.000000</td>\n",
       "    </tr>\n",
       "    <tr>\n",
       "      <th>কিভাবে দারাজ একাউন্ট থেকে লগআউট করবো?</th>\n",
       "      <td>1</td>\n",
       "      <td>1</td>\n",
       "      <td>1.0</td>\n",
       "      <td>0.0</td>\n",
       "      <td>0.000000</td>\n",
       "    </tr>\n",
       "    <tr>\n",
       "      <th>কিভাবে আমরা ভাউচার্সের ডিটেলস দেখতে পাবো ?</th>\n",
       "      <td>1</td>\n",
       "      <td>1</td>\n",
       "      <td>1.0</td>\n",
       "      <td>0.0</td>\n",
       "      <td>0.000000</td>\n",
       "    </tr>\n",
       "    <tr>\n",
       "      <th>কালেক্টেবল ভাউচার বলতে কি বুঝায়?</th>\n",
       "      <td>1</td>\n",
       "      <td>1</td>\n",
       "      <td>1.0</td>\n",
       "      <td>0.0</td>\n",
       "      <td>0.000000</td>\n",
       "    </tr>\n",
       "    <tr>\n",
       "      <th>৮ দিন হয়ে গেছে এখনো ব্যাংক এ টাকা এড হয় নি কেন</th>\n",
       "      <td>2</td>\n",
       "      <td>1</td>\n",
       "      <td>1.0</td>\n",
       "      <td>0.0</td>\n",
       "      <td>0.000000</td>\n",
       "    </tr>\n",
       "  </tbody>\n",
       "</table>\n",
       "<p>331 rows × 5 columns</p>\n",
       "</div>"
      ],
      "text/plain": [
       "                                                Chats  sid_cnt  \\\n",
       "Knowledge Name                                                   \n",
       "আমার অর্ডার কিভাবে ট্র্যাক করতে পারবো?          12578     9138   \n",
       "অর্ডার কিভাবে ক্যান্সেল করব?                     4750     3022   \n",
       "আমি কি আইটেমটি রিটার্ন করতে পারবো                4166     2921   \n",
       "আমার সাহায্য লাগবে                               3255     2869   \n",
       "অর্ডার প্লেস করতে পারছি না কেন?                  2700     2533   \n",
       "...                                               ...      ...   \n",
       "কিভাবে ফ্রি তে কন্ট্যাক্ট করতে পারবো?               1        1   \n",
       "কিভাবে দারাজ একাউন্ট থেকে লগআউট করবো?               1        1   \n",
       "কিভাবে আমরা ভাউচার্সের ডিটেলস দেখতে পাবো ?          1        1   \n",
       "কালেক্টেবল ভাউচার বলতে কি বুঝায়?                    1        1   \n",
       "৮ দিন হয়ে গেছে এখনো ব্যাংক এ টাকা এড হয় নি কেন      2        1   \n",
       "\n",
       "                                                total_session_resolved  \\\n",
       "Knowledge Name                                                           \n",
       "আমার অর্ডার কিভাবে ট্র্যাক করতে পারবো?                          7516.0   \n",
       "অর্ডার কিভাবে ক্যান্সেল করব?                                    2335.0   \n",
       "আমি কি আইটেমটি রিটার্ন করতে পারবো                               2287.0   \n",
       "আমার সাহায্য লাগবে                                              1927.0   \n",
       "অর্ডার প্লেস করতে পারছি না কেন?                                 2209.0   \n",
       "...                                                                ...   \n",
       "কিভাবে ফ্রি তে কন্ট্যাক্ট করতে পারবো?                              1.0   \n",
       "কিভাবে দারাজ একাউন্ট থেকে লগআউট করবো?                              1.0   \n",
       "কিভাবে আমরা ভাউচার্সের ডিটেলস দেখতে পাবো ?                         1.0   \n",
       "কালেক্টেবল ভাউচার বলতে কি বুঝায়?                                   1.0   \n",
       "৮ দিন হয়ে গেছে এখনো ব্যাংক এ টাকা এড হয় নি কেন                     1.0   \n",
       "\n",
       "                                                total_switch_agent  \\\n",
       "Knowledge Name                                                       \n",
       "আমার অর্ডার কিভাবে ট্র্যাক করতে পারবো?                       861.0   \n",
       "অর্ডার কিভাবে ক্যান্সেল করব?                                 362.0   \n",
       "আমি কি আইটেমটি রিটার্ন করতে পারবো                            337.0   \n",
       "আমার সাহায্য লাগবে                                           750.0   \n",
       "অর্ডার প্লেস করতে পারছি না কেন?                              144.0   \n",
       "...                                                            ...   \n",
       "কিভাবে ফ্রি তে কন্ট্যাক্ট করতে পারবো?                          0.0   \n",
       "কিভাবে দারাজ একাউন্ট থেকে লগআউট করবো?                          0.0   \n",
       "কিভাবে আমরা ভাউচার্সের ডিটেলস দেখতে পাবো ?                     0.0   \n",
       "কালেক্টেবল ভাউচার বলতে কি বুঝায়?                               0.0   \n",
       "৮ দিন হয়ে গেছে এখনো ব্যাংক এ টাকা এড হয় নি কেন                 0.0   \n",
       "\n",
       "                                                unsatisfied_count  \n",
       "Knowledge Name                                                     \n",
       "আমার অর্ডার কিভাবে ট্র্যাক করতে পারবো?                 383.774207  \n",
       "অর্ডার কিভাবে ক্যান্সেল করব?                           164.199099  \n",
       "আমি কি আইটেমটি রিটার্ন করতে পারবো                       48.980556  \n",
       "আমার সাহায্য লাগবে                                       0.000000  \n",
       "অর্ডার প্লেস করতে পারছি না কেন?                         67.946970  \n",
       "...                                                           ...  \n",
       "কিভাবে ফ্রি তে কন্ট্যাক্ট করতে পারবো?                    0.000000  \n",
       "কিভাবে দারাজ একাউন্ট থেকে লগআউট করবো?                    0.000000  \n",
       "কিভাবে আমরা ভাউচার্সের ডিটেলস দেখতে পাবো ?               0.000000  \n",
       "কালেক্টেবল ভাউচার বলতে কি বুঝায়?                         0.000000  \n",
       "৮ দিন হয়ে গেছে এখনো ব্যাংক এ টাকা এড হয় নি কেন           0.000000  \n",
       "\n",
       "[331 rows x 5 columns]"
      ]
     },
     "metadata": {},
     "output_type": "display_data"
    },
    {
     "data": {
      "text/html": [
       "<div>\n",
       "<style scoped>\n",
       "    .dataframe tbody tr th:only-of-type {\n",
       "        vertical-align: middle;\n",
       "    }\n",
       "\n",
       "    .dataframe tbody tr th {\n",
       "        vertical-align: top;\n",
       "    }\n",
       "\n",
       "    .dataframe thead th {\n",
       "        text-align: right;\n",
       "    }\n",
       "</style>\n",
       "<table border=\"1\" class=\"dataframe\">\n",
       "  <thead>\n",
       "    <tr style=\"text-align: right;\">\n",
       "      <th></th>\n",
       "      <th>Chats</th>\n",
       "      <th>sid_cnt</th>\n",
       "      <th>total_session_resolved</th>\n",
       "      <th>total_switch_agent</th>\n",
       "      <th>unsatisfied_count</th>\n",
       "    </tr>\n",
       "    <tr>\n",
       "      <th>Knowledge Name</th>\n",
       "      <th></th>\n",
       "      <th></th>\n",
       "      <th></th>\n",
       "      <th></th>\n",
       "      <th></th>\n",
       "    </tr>\n",
       "  </thead>\n",
       "  <tbody>\n",
       "    <tr>\n",
       "      <th>How can I track my order</th>\n",
       "      <td>13957</td>\n",
       "      <td>11071</td>\n",
       "      <td>8225.0</td>\n",
       "      <td>2183.0</td>\n",
       "      <td>0.000000</td>\n",
       "    </tr>\n",
       "    <tr>\n",
       "      <th>Greeting</th>\n",
       "      <td>14929</td>\n",
       "      <td>9771</td>\n",
       "      <td>7267.0</td>\n",
       "      <td>1921.0</td>\n",
       "      <td>0.000000</td>\n",
       "    </tr>\n",
       "    <tr>\n",
       "      <th>How long does it take to receive my product</th>\n",
       "      <td>13163</td>\n",
       "      <td>9754</td>\n",
       "      <td>7494.0</td>\n",
       "      <td>1539.0</td>\n",
       "      <td>241.757185</td>\n",
       "    </tr>\n",
       "    <tr>\n",
       "      <th>How to cancel my order</th>\n",
       "      <td>7840</td>\n",
       "      <td>5363</td>\n",
       "      <td>4332.0</td>\n",
       "      <td>596.0</td>\n",
       "      <td>0.000000</td>\n",
       "    </tr>\n",
       "    <tr>\n",
       "      <th>Can I return an Item</th>\n",
       "      <td>6800</td>\n",
       "      <td>4608</td>\n",
       "      <td>3450.0</td>\n",
       "      <td>797.0</td>\n",
       "      <td>64.702381</td>\n",
       "    </tr>\n",
       "    <tr>\n",
       "      <th>...</th>\n",
       "      <td>...</td>\n",
       "      <td>...</td>\n",
       "      <td>...</td>\n",
       "      <td>...</td>\n",
       "      <td>...</td>\n",
       "    </tr>\n",
       "    <tr>\n",
       "      <th>Google Play cards Kinte chai</th>\n",
       "      <td>1</td>\n",
       "      <td>1</td>\n",
       "      <td>1.0</td>\n",
       "      <td>0.0</td>\n",
       "      <td>0.000000</td>\n",
       "    </tr>\n",
       "    <tr>\n",
       "      <th>From when is the warranty for my product applicable</th>\n",
       "      <td>1</td>\n",
       "      <td>1</td>\n",
       "      <td>0.0</td>\n",
       "      <td>1.0</td>\n",
       "      <td>1.000000</td>\n",
       "    </tr>\n",
       "    <tr>\n",
       "      <th>What is Buy More Save More voucher</th>\n",
       "      <td>1</td>\n",
       "      <td>1</td>\n",
       "      <td>1.0</td>\n",
       "      <td>0.0</td>\n",
       "      <td>0.000000</td>\n",
       "    </tr>\n",
       "    <tr>\n",
       "      <th>EMI er category restrictions ki</th>\n",
       "      <td>1</td>\n",
       "      <td>1</td>\n",
       "      <td>1.0</td>\n",
       "      <td>0.0</td>\n",
       "      <td>0.000000</td>\n",
       "    </tr>\n",
       "    <tr>\n",
       "      <th>when will i get my refund</th>\n",
       "      <td>2</td>\n",
       "      <td>1</td>\n",
       "      <td>1.0</td>\n",
       "      <td>0.0</td>\n",
       "      <td>0.000000</td>\n",
       "    </tr>\n",
       "  </tbody>\n",
       "</table>\n",
       "<p>621 rows × 5 columns</p>\n",
       "</div>"
      ],
      "text/plain": [
       "                                                    Chats  sid_cnt  \\\n",
       "Knowledge Name                                                       \n",
       "How can I track my order                            13957    11071   \n",
       "Greeting                                            14929     9771   \n",
       "How long does it take to receive my product         13163     9754   \n",
       "How to cancel my order                               7840     5363   \n",
       "Can I return an Item                                 6800     4608   \n",
       "...                                                   ...      ...   \n",
       "Google Play cards Kinte chai                            1        1   \n",
       "From when is the warranty for my product applic...      1        1   \n",
       "What is Buy More Save More voucher                      1        1   \n",
       "EMI er category restrictions ki                         1        1   \n",
       "when will i get my refund                               2        1   \n",
       "\n",
       "                                                    total_session_resolved  \\\n",
       "Knowledge Name                                                               \n",
       "How can I track my order                                            8225.0   \n",
       "Greeting                                                            7267.0   \n",
       "How long does it take to receive my product                         7494.0   \n",
       "How to cancel my order                                              4332.0   \n",
       "Can I return an Item                                                3450.0   \n",
       "...                                                                    ...   \n",
       "Google Play cards Kinte chai                                           1.0   \n",
       "From when is the warranty for my product applic...                     0.0   \n",
       "What is Buy More Save More voucher                                     1.0   \n",
       "EMI er category restrictions ki                                        1.0   \n",
       "when will i get my refund                                              1.0   \n",
       "\n",
       "                                                    total_switch_agent  \\\n",
       "Knowledge Name                                                           \n",
       "How can I track my order                                        2183.0   \n",
       "Greeting                                                        1921.0   \n",
       "How long does it take to receive my product                     1539.0   \n",
       "How to cancel my order                                           596.0   \n",
       "Can I return an Item                                             797.0   \n",
       "...                                                                ...   \n",
       "Google Play cards Kinte chai                                       0.0   \n",
       "From when is the warranty for my product applic...                 1.0   \n",
       "What is Buy More Save More voucher                                 0.0   \n",
       "EMI er category restrictions ki                                    0.0   \n",
       "when will i get my refund                                          0.0   \n",
       "\n",
       "                                                    unsatisfied_count  \n",
       "Knowledge Name                                                         \n",
       "How can I track my order                                     0.000000  \n",
       "Greeting                                                     0.000000  \n",
       "How long does it take to receive my product                241.757185  \n",
       "How to cancel my order                                       0.000000  \n",
       "Can I return an Item                                        64.702381  \n",
       "...                                                               ...  \n",
       "Google Play cards Kinte chai                                 0.000000  \n",
       "From when is the warranty for my product applic...           1.000000  \n",
       "What is Buy More Save More voucher                           0.000000  \n",
       "EMI er category restrictions ki                              0.000000  \n",
       "when will i get my refund                                    0.000000  \n",
       "\n",
       "[621 rows x 5 columns]"
      ]
     },
     "metadata": {},
     "output_type": "display_data"
    }
   ],
   "source": [
    "display(df_LC_pivottable)\n",
    "display(df_EN_pivottable)"
   ]
  },
  {
   "cell_type": "markdown",
   "metadata": {},
   "source": [
    "#### RR Calculation"
   ]
  },
  {
   "cell_type": "markdown",
   "metadata": {},
   "source": [
    "##### Week 22"
   ]
  },
  {
   "cell_type": "markdown",
   "metadata": {},
   "source": [
    "##### LC"
   ]
  },
  {
   "cell_type": "code",
   "execution_count": 80,
   "metadata": {},
   "outputs": [
    {
     "name": "stderr",
     "output_type": "stream",
     "text": [
      "C:\\Users\\Daraz\\AppData\\Local\\Temp/ipykernel_14776/1874746768.py:3: SettingWithCopyWarning: \n",
      "A value is trying to be set on a copy of a slice from a DataFrame\n",
      "\n",
      "See the caveats in the documentation: https://pandas.pydata.org/pandas-docs/stable/user_guide/indexing.html#returning-a-view-versus-a-copy\n",
      "  df_LC_pivottable['RR'][i] = (df_LC_pivottable['total_session_resolved'][i]/df_LC_pivottable['sid_cnt'][i])*100\n"
     ]
    }
   ],
   "source": [
    "df_LC_pivottable['RR'] = 0\n",
    "for i in range(len(df_LC_pivottable)):\n",
    "    df_LC_pivottable['RR'][i] = (df_LC_pivottable['total_session_resolved'][i]/df_LC_pivottable['sid_cnt'][i])*100"
   ]
  },
  {
   "cell_type": "markdown",
   "metadata": {},
   "source": [
    "##### EN"
   ]
  },
  {
   "cell_type": "code",
   "execution_count": 81,
   "metadata": {},
   "outputs": [
    {
     "name": "stderr",
     "output_type": "stream",
     "text": [
      "C:\\Users\\Daraz\\AppData\\Local\\Temp/ipykernel_14776/1245825383.py:3: SettingWithCopyWarning: \n",
      "A value is trying to be set on a copy of a slice from a DataFrame\n",
      "\n",
      "See the caveats in the documentation: https://pandas.pydata.org/pandas-docs/stable/user_guide/indexing.html#returning-a-view-versus-a-copy\n",
      "  df_EN_pivottable['RR'][i] = (df_EN_pivottable['total_session_resolved'][i]/df_EN_pivottable['sid_cnt'][i])*100\n"
     ]
    }
   ],
   "source": [
    "df_EN_pivottable['RR'] = 0\n",
    "for i in range(len(df_EN_pivottable)):\n",
    "    df_EN_pivottable['RR'][i] = (df_EN_pivottable['total_session_resolved'][i]/df_EN_pivottable['sid_cnt'][i])*100"
   ]
  },
  {
   "cell_type": "markdown",
   "metadata": {},
   "source": [
    "#### STA Calculation"
   ]
  },
  {
   "cell_type": "markdown",
   "metadata": {},
   "source": [
    "##### Week 22"
   ]
  },
  {
   "cell_type": "markdown",
   "metadata": {},
   "source": [
    "##### LC"
   ]
  },
  {
   "cell_type": "code",
   "execution_count": 82,
   "metadata": {},
   "outputs": [
    {
     "name": "stderr",
     "output_type": "stream",
     "text": [
      "C:\\Users\\Daraz\\AppData\\Local\\Temp/ipykernel_14776/970885681.py:3: SettingWithCopyWarning: \n",
      "A value is trying to be set on a copy of a slice from a DataFrame\n",
      "\n",
      "See the caveats in the documentation: https://pandas.pydata.org/pandas-docs/stable/user_guide/indexing.html#returning-a-view-versus-a-copy\n",
      "  df_LC_pivottable['STA'][i] = (df_LC_pivottable['total_switch_agent'][i]/df_LC_pivottable['sid_cnt'][i])*100\n"
     ]
    }
   ],
   "source": [
    "df_LC_pivottable['STA'] = 0\n",
    "for i in range(len(df_LC_pivottable)):\n",
    "    df_LC_pivottable['STA'][i] = (df_LC_pivottable['total_switch_agent'][i]/df_LC_pivottable['sid_cnt'][i])*100"
   ]
  },
  {
   "cell_type": "markdown",
   "metadata": {},
   "source": [
    "##### EN"
   ]
  },
  {
   "cell_type": "code",
   "execution_count": 83,
   "metadata": {},
   "outputs": [
    {
     "name": "stderr",
     "output_type": "stream",
     "text": [
      "C:\\Users\\Daraz\\AppData\\Local\\Temp/ipykernel_14776/3172783108.py:3: SettingWithCopyWarning: \n",
      "A value is trying to be set on a copy of a slice from a DataFrame\n",
      "\n",
      "See the caveats in the documentation: https://pandas.pydata.org/pandas-docs/stable/user_guide/indexing.html#returning-a-view-versus-a-copy\n",
      "  df_EN_pivottable['STA'][i] = (df_EN_pivottable['total_switch_agent'][i]/df_EN_pivottable['sid_cnt'][i])*100\n"
     ]
    }
   ],
   "source": [
    "df_EN_pivottable['STA'] = 0\n",
    "for i in range(len(df_EN_pivottable)):\n",
    "    df_EN_pivottable['STA'][i] = (df_EN_pivottable['total_switch_agent'][i]/df_EN_pivottable['sid_cnt'][i])*100"
   ]
  },
  {
   "cell_type": "markdown",
   "metadata": {},
   "source": [
    "#### UR calculation"
   ]
  },
  {
   "cell_type": "markdown",
   "metadata": {},
   "source": [
    "##### Week 22"
   ]
  },
  {
   "cell_type": "markdown",
   "metadata": {},
   "source": [
    "##### LC"
   ]
  },
  {
   "cell_type": "code",
   "execution_count": 84,
   "metadata": {},
   "outputs": [
    {
     "name": "stderr",
     "output_type": "stream",
     "text": [
      "C:\\Users\\Daraz\\AppData\\Local\\Temp/ipykernel_14776/4293662625.py:3: SettingWithCopyWarning: \n",
      "A value is trying to be set on a copy of a slice from a DataFrame\n",
      "\n",
      "See the caveats in the documentation: https://pandas.pydata.org/pandas-docs/stable/user_guide/indexing.html#returning-a-view-versus-a-copy\n",
      "  df_LC_pivottable['UR'][i] = (df_LC_pivottable['unsatisfied_count'][i]/df_LC_pivottable['Chats'][i])*100\n"
     ]
    }
   ],
   "source": [
    "df_LC_pivottable['UR'] = 0\n",
    "for i in range(len(df_LC_pivottable)):\n",
    "    df_LC_pivottable['UR'][i] = (df_LC_pivottable['unsatisfied_count'][i]/df_LC_pivottable['Chats'][i])*100"
   ]
  },
  {
   "cell_type": "markdown",
   "metadata": {},
   "source": [
    "##### EN"
   ]
  },
  {
   "cell_type": "code",
   "execution_count": 85,
   "metadata": {},
   "outputs": [
    {
     "name": "stderr",
     "output_type": "stream",
     "text": [
      "C:\\Users\\Daraz\\AppData\\Local\\Temp/ipykernel_14776/555822753.py:3: SettingWithCopyWarning: \n",
      "A value is trying to be set on a copy of a slice from a DataFrame\n",
      "\n",
      "See the caveats in the documentation: https://pandas.pydata.org/pandas-docs/stable/user_guide/indexing.html#returning-a-view-versus-a-copy\n",
      "  df_EN_pivottable['UR'][i] = (df_EN_pivottable['unsatisfied_count'][i]/df_EN_pivottable['Chats'][i])*100\n"
     ]
    }
   ],
   "source": [
    "df_EN_pivottable['UR'] = 0\n",
    "for i in range(len(df_EN_pivottable)):\n",
    "    df_EN_pivottable['UR'][i] = (df_EN_pivottable['unsatisfied_count'][i]/df_EN_pivottable['Chats'][i])*100"
   ]
  },
  {
   "cell_type": "code",
   "execution_count": 86,
   "metadata": {},
   "outputs": [
    {
     "data": {
      "text/html": [
       "<div>\n",
       "<style scoped>\n",
       "    .dataframe tbody tr th:only-of-type {\n",
       "        vertical-align: middle;\n",
       "    }\n",
       "\n",
       "    .dataframe tbody tr th {\n",
       "        vertical-align: top;\n",
       "    }\n",
       "\n",
       "    .dataframe thead th {\n",
       "        text-align: right;\n",
       "    }\n",
       "</style>\n",
       "<table border=\"1\" class=\"dataframe\">\n",
       "  <thead>\n",
       "    <tr style=\"text-align: right;\">\n",
       "      <th></th>\n",
       "      <th>Chats</th>\n",
       "      <th>sid_cnt</th>\n",
       "      <th>total_session_resolved</th>\n",
       "      <th>total_switch_agent</th>\n",
       "      <th>unsatisfied_count</th>\n",
       "      <th>RR</th>\n",
       "      <th>STA</th>\n",
       "      <th>UR</th>\n",
       "    </tr>\n",
       "    <tr>\n",
       "      <th>Knowledge Name</th>\n",
       "      <th></th>\n",
       "      <th></th>\n",
       "      <th></th>\n",
       "      <th></th>\n",
       "      <th></th>\n",
       "      <th></th>\n",
       "      <th></th>\n",
       "      <th></th>\n",
       "    </tr>\n",
       "  </thead>\n",
       "  <tbody>\n",
       "    <tr>\n",
       "      <th>আমার অর্ডার কিভাবে ট্র্যাক করতে পারবো?</th>\n",
       "      <td>12578</td>\n",
       "      <td>9138</td>\n",
       "      <td>7516.0</td>\n",
       "      <td>861.0</td>\n",
       "      <td>383.774207</td>\n",
       "      <td>82</td>\n",
       "      <td>9</td>\n",
       "      <td>3</td>\n",
       "    </tr>\n",
       "    <tr>\n",
       "      <th>অর্ডার কিভাবে ক্যান্সেল করব?</th>\n",
       "      <td>4750</td>\n",
       "      <td>3022</td>\n",
       "      <td>2335.0</td>\n",
       "      <td>362.0</td>\n",
       "      <td>164.199099</td>\n",
       "      <td>77</td>\n",
       "      <td>11</td>\n",
       "      <td>3</td>\n",
       "    </tr>\n",
       "    <tr>\n",
       "      <th>আমি কি আইটেমটি রিটার্ন করতে পারবো</th>\n",
       "      <td>4166</td>\n",
       "      <td>2921</td>\n",
       "      <td>2287.0</td>\n",
       "      <td>337.0</td>\n",
       "      <td>48.980556</td>\n",
       "      <td>78</td>\n",
       "      <td>11</td>\n",
       "      <td>1</td>\n",
       "    </tr>\n",
       "    <tr>\n",
       "      <th>আমার সাহায্য লাগবে</th>\n",
       "      <td>3255</td>\n",
       "      <td>2869</td>\n",
       "      <td>1927.0</td>\n",
       "      <td>750.0</td>\n",
       "      <td>0.000000</td>\n",
       "      <td>67</td>\n",
       "      <td>26</td>\n",
       "      <td>0</td>\n",
       "    </tr>\n",
       "    <tr>\n",
       "      <th>অর্ডার প্লেস করতে পারছি না কেন?</th>\n",
       "      <td>2700</td>\n",
       "      <td>2533</td>\n",
       "      <td>2209.0</td>\n",
       "      <td>144.0</td>\n",
       "      <td>67.946970</td>\n",
       "      <td>87</td>\n",
       "      <td>5</td>\n",
       "      <td>2</td>\n",
       "    </tr>\n",
       "  </tbody>\n",
       "</table>\n",
       "</div>"
      ],
      "text/plain": [
       "                                        Chats  sid_cnt  \\\n",
       "Knowledge Name                                           \n",
       "আমার অর্ডার কিভাবে ট্র্যাক করতে পারবো?  12578     9138   \n",
       "অর্ডার কিভাবে ক্যান্সেল করব?             4750     3022   \n",
       "আমি কি আইটেমটি রিটার্ন করতে পারবো        4166     2921   \n",
       "আমার সাহায্য লাগবে                       3255     2869   \n",
       "অর্ডার প্লেস করতে পারছি না কেন?          2700     2533   \n",
       "\n",
       "                                        total_session_resolved  \\\n",
       "Knowledge Name                                                   \n",
       "আমার অর্ডার কিভাবে ট্র্যাক করতে পারবো?                  7516.0   \n",
       "অর্ডার কিভাবে ক্যান্সেল করব?                            2335.0   \n",
       "আমি কি আইটেমটি রিটার্ন করতে পারবো                       2287.0   \n",
       "আমার সাহায্য লাগবে                                      1927.0   \n",
       "অর্ডার প্লেস করতে পারছি না কেন?                         2209.0   \n",
       "\n",
       "                                        total_switch_agent  unsatisfied_count  \\\n",
       "Knowledge Name                                                                  \n",
       "আমার অর্ডার কিভাবে ট্র্যাক করতে পারবো?               861.0         383.774207   \n",
       "অর্ডার কিভাবে ক্যান্সেল করব?                         362.0         164.199099   \n",
       "আমি কি আইটেমটি রিটার্ন করতে পারবো                    337.0          48.980556   \n",
       "আমার সাহায্য লাগবে                                   750.0           0.000000   \n",
       "অর্ডার প্লেস করতে পারছি না কেন?                      144.0          67.946970   \n",
       "\n",
       "                                        RR  STA  UR  \n",
       "Knowledge Name                                       \n",
       "আমার অর্ডার কিভাবে ট্র্যাক করতে পারবো?  82    9   3  \n",
       "অর্ডার কিভাবে ক্যান্সেল করব?            77   11   3  \n",
       "আমি কি আইটেমটি রিটার্ন করতে পারবো       78   11   1  \n",
       "আমার সাহায্য লাগবে                      67   26   0  \n",
       "অর্ডার প্লেস করতে পারছি না কেন?         87    5   2  "
      ]
     },
     "metadata": {},
     "output_type": "display_data"
    },
    {
     "data": {
      "text/html": [
       "<div>\n",
       "<style scoped>\n",
       "    .dataframe tbody tr th:only-of-type {\n",
       "        vertical-align: middle;\n",
       "    }\n",
       "\n",
       "    .dataframe tbody tr th {\n",
       "        vertical-align: top;\n",
       "    }\n",
       "\n",
       "    .dataframe thead th {\n",
       "        text-align: right;\n",
       "    }\n",
       "</style>\n",
       "<table border=\"1\" class=\"dataframe\">\n",
       "  <thead>\n",
       "    <tr style=\"text-align: right;\">\n",
       "      <th></th>\n",
       "      <th>Chats</th>\n",
       "      <th>sid_cnt</th>\n",
       "      <th>total_session_resolved</th>\n",
       "      <th>total_switch_agent</th>\n",
       "      <th>unsatisfied_count</th>\n",
       "      <th>RR</th>\n",
       "      <th>STA</th>\n",
       "      <th>UR</th>\n",
       "    </tr>\n",
       "    <tr>\n",
       "      <th>Knowledge Name</th>\n",
       "      <th></th>\n",
       "      <th></th>\n",
       "      <th></th>\n",
       "      <th></th>\n",
       "      <th></th>\n",
       "      <th></th>\n",
       "      <th></th>\n",
       "      <th></th>\n",
       "    </tr>\n",
       "  </thead>\n",
       "  <tbody>\n",
       "    <tr>\n",
       "      <th>How can I track my order</th>\n",
       "      <td>13957</td>\n",
       "      <td>11071</td>\n",
       "      <td>8225.0</td>\n",
       "      <td>2183.0</td>\n",
       "      <td>0.000000</td>\n",
       "      <td>74</td>\n",
       "      <td>19</td>\n",
       "      <td>0</td>\n",
       "    </tr>\n",
       "    <tr>\n",
       "      <th>Greeting</th>\n",
       "      <td>14929</td>\n",
       "      <td>9771</td>\n",
       "      <td>7267.0</td>\n",
       "      <td>1921.0</td>\n",
       "      <td>0.000000</td>\n",
       "      <td>74</td>\n",
       "      <td>19</td>\n",
       "      <td>0</td>\n",
       "    </tr>\n",
       "    <tr>\n",
       "      <th>How long does it take to receive my product</th>\n",
       "      <td>13163</td>\n",
       "      <td>9754</td>\n",
       "      <td>7494.0</td>\n",
       "      <td>1539.0</td>\n",
       "      <td>241.757185</td>\n",
       "      <td>76</td>\n",
       "      <td>15</td>\n",
       "      <td>1</td>\n",
       "    </tr>\n",
       "    <tr>\n",
       "      <th>How to cancel my order</th>\n",
       "      <td>7840</td>\n",
       "      <td>5363</td>\n",
       "      <td>4332.0</td>\n",
       "      <td>596.0</td>\n",
       "      <td>0.000000</td>\n",
       "      <td>80</td>\n",
       "      <td>11</td>\n",
       "      <td>0</td>\n",
       "    </tr>\n",
       "    <tr>\n",
       "      <th>Can I return an Item</th>\n",
       "      <td>6800</td>\n",
       "      <td>4608</td>\n",
       "      <td>3450.0</td>\n",
       "      <td>797.0</td>\n",
       "      <td>64.702381</td>\n",
       "      <td>74</td>\n",
       "      <td>17</td>\n",
       "      <td>0</td>\n",
       "    </tr>\n",
       "  </tbody>\n",
       "</table>\n",
       "</div>"
      ],
      "text/plain": [
       "                                             Chats  sid_cnt  \\\n",
       "Knowledge Name                                                \n",
       "How can I track my order                     13957    11071   \n",
       "Greeting                                     14929     9771   \n",
       "How long does it take to receive my product  13163     9754   \n",
       "How to cancel my order                        7840     5363   \n",
       "Can I return an Item                          6800     4608   \n",
       "\n",
       "                                             total_session_resolved  \\\n",
       "Knowledge Name                                                        \n",
       "How can I track my order                                     8225.0   \n",
       "Greeting                                                     7267.0   \n",
       "How long does it take to receive my product                  7494.0   \n",
       "How to cancel my order                                       4332.0   \n",
       "Can I return an Item                                         3450.0   \n",
       "\n",
       "                                             total_switch_agent  \\\n",
       "Knowledge Name                                                    \n",
       "How can I track my order                                 2183.0   \n",
       "Greeting                                                 1921.0   \n",
       "How long does it take to receive my product              1539.0   \n",
       "How to cancel my order                                    596.0   \n",
       "Can I return an Item                                      797.0   \n",
       "\n",
       "                                             unsatisfied_count  RR  STA  UR  \n",
       "Knowledge Name                                                               \n",
       "How can I track my order                              0.000000  74   19   0  \n",
       "Greeting                                              0.000000  74   19   0  \n",
       "How long does it take to receive my product         241.757185  76   15   1  \n",
       "How to cancel my order                                0.000000  80   11   0  \n",
       "Can I return an Item                                 64.702381  74   17   0  "
      ]
     },
     "metadata": {},
     "output_type": "display_data"
    }
   ],
   "source": [
    "display(df_LC_pivottable.head())\n",
    "display(df_EN_pivottable.head())\n"
   ]
  },
  {
   "cell_type": "markdown",
   "metadata": {},
   "source": [
    "#### RR, STA, UR numbers"
   ]
  },
  {
   "cell_type": "markdown",
   "metadata": {},
   "source": [
    "##### LC"
   ]
  },
  {
   "cell_type": "markdown",
   "metadata": {},
   "source": [
    "##### Week 22"
   ]
  },
  {
   "cell_type": "code",
   "execution_count": 87,
   "metadata": {},
   "outputs": [],
   "source": [
    "df_LC_pivottable_top = df_LC_pivottable[['sid_cnt','RR','STA','UR']].sort_values('sid_cnt', ascending = False).head(20)\n",
    "df_EN_pivottable_top = df_EN_pivottable[['sid_cnt','RR','STA','UR']].sort_values('sid_cnt', ascending = False).head(20)"
   ]
  },
  {
   "cell_type": "code",
   "execution_count": 88,
   "metadata": {},
   "outputs": [
    {
     "data": {
      "text/html": [
       "<div>\n",
       "<style scoped>\n",
       "    .dataframe tbody tr th:only-of-type {\n",
       "        vertical-align: middle;\n",
       "    }\n",
       "\n",
       "    .dataframe tbody tr th {\n",
       "        vertical-align: top;\n",
       "    }\n",
       "\n",
       "    .dataframe thead th {\n",
       "        text-align: right;\n",
       "    }\n",
       "</style>\n",
       "<table border=\"1\" class=\"dataframe\">\n",
       "  <thead>\n",
       "    <tr style=\"text-align: right;\">\n",
       "      <th></th>\n",
       "      <th>sid_cnt</th>\n",
       "      <th>RR</th>\n",
       "      <th>STA</th>\n",
       "      <th>UR</th>\n",
       "    </tr>\n",
       "    <tr>\n",
       "      <th>Knowledge Name</th>\n",
       "      <th></th>\n",
       "      <th></th>\n",
       "      <th></th>\n",
       "      <th></th>\n",
       "    </tr>\n",
       "  </thead>\n",
       "  <tbody>\n",
       "    <tr>\n",
       "      <th>How can I track my order</th>\n",
       "      <td>11071</td>\n",
       "      <td>74</td>\n",
       "      <td>19</td>\n",
       "      <td>0</td>\n",
       "    </tr>\n",
       "    <tr>\n",
       "      <th>Greeting</th>\n",
       "      <td>9771</td>\n",
       "      <td>74</td>\n",
       "      <td>19</td>\n",
       "      <td>0</td>\n",
       "    </tr>\n",
       "    <tr>\n",
       "      <th>How long does it take to receive my product</th>\n",
       "      <td>9754</td>\n",
       "      <td>76</td>\n",
       "      <td>15</td>\n",
       "      <td>1</td>\n",
       "    </tr>\n",
       "    <tr>\n",
       "      <th>How to cancel my order</th>\n",
       "      <td>5363</td>\n",
       "      <td>80</td>\n",
       "      <td>11</td>\n",
       "      <td>0</td>\n",
       "    </tr>\n",
       "    <tr>\n",
       "      <th>Can I return an Item</th>\n",
       "      <td>4608</td>\n",
       "      <td>74</td>\n",
       "      <td>17</td>\n",
       "      <td>0</td>\n",
       "    </tr>\n",
       "    <tr>\n",
       "      <th>Talk to Agent</th>\n",
       "      <td>3906</td>\n",
       "      <td>57</td>\n",
       "      <td>35</td>\n",
       "      <td>0</td>\n",
       "    </tr>\n",
       "    <tr>\n",
       "      <th>My order is delayed. What should I do</th>\n",
       "      <td>3106</td>\n",
       "      <td>71</td>\n",
       "      <td>21</td>\n",
       "      <td>4</td>\n",
       "    </tr>\n",
       "    <tr>\n",
       "      <th>How long is the refund process</th>\n",
       "      <td>3042</td>\n",
       "      <td>68</td>\n",
       "      <td>22</td>\n",
       "      <td>0</td>\n",
       "    </tr>\n",
       "    <tr>\n",
       "      <th>Amar ponno delivery hote kotodin lagbe</th>\n",
       "      <td>2544</td>\n",
       "      <td>85</td>\n",
       "      <td>9</td>\n",
       "      <td>1</td>\n",
       "    </tr>\n",
       "    <tr>\n",
       "      <th>Delivery delay issue</th>\n",
       "      <td>2378</td>\n",
       "      <td>64</td>\n",
       "      <td>26</td>\n",
       "      <td>0</td>\n",
       "    </tr>\n",
       "    <tr>\n",
       "      <th>Is there any bKash cashback</th>\n",
       "      <td>2255</td>\n",
       "      <td>83</td>\n",
       "      <td>11</td>\n",
       "      <td>3</td>\n",
       "    </tr>\n",
       "    <tr>\n",
       "      <th>Why do I see failed delivery attempt</th>\n",
       "      <td>2099</td>\n",
       "      <td>75</td>\n",
       "      <td>16</td>\n",
       "      <td>5</td>\n",
       "    </tr>\n",
       "    <tr>\n",
       "      <th>Order-postmatch</th>\n",
       "      <td>1937</td>\n",
       "      <td>79</td>\n",
       "      <td>12</td>\n",
       "      <td>1</td>\n",
       "    </tr>\n",
       "    <tr>\n",
       "      <th>bKash e kono cashback ache ki</th>\n",
       "      <td>1148</td>\n",
       "      <td>88</td>\n",
       "      <td>7</td>\n",
       "      <td>1</td>\n",
       "    </tr>\n",
       "    <tr>\n",
       "      <th>Garbage queries</th>\n",
       "      <td>1029</td>\n",
       "      <td>66</td>\n",
       "      <td>24</td>\n",
       "      <td>0</td>\n",
       "    </tr>\n",
       "    <tr>\n",
       "      <th>Collection point address please</th>\n",
       "      <td>1028</td>\n",
       "      <td>72</td>\n",
       "      <td>17</td>\n",
       "      <td>1</td>\n",
       "    </tr>\n",
       "    <tr>\n",
       "      <th>How can I avail mystery box</th>\n",
       "      <td>769</td>\n",
       "      <td>80</td>\n",
       "      <td>16</td>\n",
       "      <td>0</td>\n",
       "    </tr>\n",
       "    <tr>\n",
       "      <th>Overseas items delivery delay</th>\n",
       "      <td>765</td>\n",
       "      <td>68</td>\n",
       "      <td>21</td>\n",
       "      <td>0</td>\n",
       "    </tr>\n",
       "    <tr>\n",
       "      <th>What payment partner discounts are available</th>\n",
       "      <td>741</td>\n",
       "      <td>79</td>\n",
       "      <td>13</td>\n",
       "      <td>3</td>\n",
       "    </tr>\n",
       "    <tr>\n",
       "      <th>Amar order ashte deri hocche keno</th>\n",
       "      <td>717</td>\n",
       "      <td>75</td>\n",
       "      <td>16</td>\n",
       "      <td>1</td>\n",
       "    </tr>\n",
       "  </tbody>\n",
       "</table>\n",
       "</div>"
      ],
      "text/plain": [
       "                                              sid_cnt  RR  STA  UR\n",
       "Knowledge Name                                                    \n",
       "How can I track my order                        11071  74   19   0\n",
       "Greeting                                         9771  74   19   0\n",
       "How long does it take to receive my product      9754  76   15   1\n",
       "How to cancel my order                           5363  80   11   0\n",
       "Can I return an Item                             4608  74   17   0\n",
       "Talk to Agent                                    3906  57   35   0\n",
       "My order is delayed. What should I do            3106  71   21   4\n",
       "How long is the refund process                   3042  68   22   0\n",
       "Amar ponno delivery hote kotodin lagbe           2544  85    9   1\n",
       "Delivery delay issue                             2378  64   26   0\n",
       "Is there any bKash cashback                      2255  83   11   3\n",
       "Why do I see failed delivery attempt             2099  75   16   5\n",
       "Order-postmatch                                  1937  79   12   1\n",
       "bKash e kono cashback ache ki                    1148  88    7   1\n",
       "Garbage queries                                  1029  66   24   0\n",
       "Collection point address please                  1028  72   17   1\n",
       "How can I avail mystery box                       769  80   16   0\n",
       "Overseas items delivery delay                     765  68   21   0\n",
       "What payment partner discounts are available      741  79   13   3\n",
       "Amar order ashte deri hocche keno                 717  75   16   1"
      ]
     },
     "execution_count": 88,
     "metadata": {},
     "output_type": "execute_result"
    }
   ],
   "source": [
    "\n",
    "df_EN_pivottable_top.head(20)"
   ]
  },
  {
   "cell_type": "code",
   "execution_count": 89,
   "metadata": {},
   "outputs": [
    {
     "data": {
      "text/html": [
       "<div>\n",
       "<style scoped>\n",
       "    .dataframe tbody tr th:only-of-type {\n",
       "        vertical-align: middle;\n",
       "    }\n",
       "\n",
       "    .dataframe tbody tr th {\n",
       "        vertical-align: top;\n",
       "    }\n",
       "\n",
       "    .dataframe thead th {\n",
       "        text-align: right;\n",
       "    }\n",
       "</style>\n",
       "<table border=\"1\" class=\"dataframe\">\n",
       "  <thead>\n",
       "    <tr style=\"text-align: right;\">\n",
       "      <th></th>\n",
       "      <th>sid_cnt</th>\n",
       "      <th>RR</th>\n",
       "      <th>STA</th>\n",
       "      <th>UR</th>\n",
       "    </tr>\n",
       "    <tr>\n",
       "      <th>Knowledge Name</th>\n",
       "      <th></th>\n",
       "      <th></th>\n",
       "      <th></th>\n",
       "      <th></th>\n",
       "    </tr>\n",
       "  </thead>\n",
       "  <tbody>\n",
       "    <tr>\n",
       "      <th>আমার অর্ডার কিভাবে ট্র্যাক করতে পারবো?</th>\n",
       "      <td>9138</td>\n",
       "      <td>82</td>\n",
       "      <td>9</td>\n",
       "      <td>3</td>\n",
       "    </tr>\n",
       "    <tr>\n",
       "      <th>অর্ডার কিভাবে ক্যান্সেল করব?</th>\n",
       "      <td>3022</td>\n",
       "      <td>77</td>\n",
       "      <td>11</td>\n",
       "      <td>3</td>\n",
       "    </tr>\n",
       "    <tr>\n",
       "      <th>আমি কি আইটেমটি রিটার্ন করতে পারবো</th>\n",
       "      <td>2921</td>\n",
       "      <td>78</td>\n",
       "      <td>11</td>\n",
       "      <td>1</td>\n",
       "    </tr>\n",
       "    <tr>\n",
       "      <th>আমার সাহায্য লাগবে</th>\n",
       "      <td>2869</td>\n",
       "      <td>67</td>\n",
       "      <td>26</td>\n",
       "      <td>0</td>\n",
       "    </tr>\n",
       "    <tr>\n",
       "      <th>অর্ডার প্লেস করতে পারছি না কেন?</th>\n",
       "      <td>2533</td>\n",
       "      <td>87</td>\n",
       "      <td>5</td>\n",
       "      <td>2</td>\n",
       "    </tr>\n",
       "    <tr>\n",
       "      <th>কত দ্রুত আমি আমার অর্ডার পেতে পারি?</th>\n",
       "      <td>1221</td>\n",
       "      <td>87</td>\n",
       "      <td>6</td>\n",
       "      <td>1</td>\n",
       "    </tr>\n",
       "    <tr>\n",
       "      <th>রিফান্ড প্রসেস শেষ হতে কতদিন লাগবে?</th>\n",
       "      <td>1165</td>\n",
       "      <td>72</td>\n",
       "      <td>15</td>\n",
       "      <td>0</td>\n",
       "    </tr>\n",
       "    <tr>\n",
       "      <th>আমার অর্ডার আসতে দেরি হচ্ছে কেন ?</th>\n",
       "      <td>1078</td>\n",
       "      <td>78</td>\n",
       "      <td>12</td>\n",
       "      <td>2</td>\n",
       "    </tr>\n",
       "    <tr>\n",
       "      <th>আরো সাহায্য প্রয়োজন (Need more help)</th>\n",
       "      <td>973</td>\n",
       "      <td>51</td>\n",
       "      <td>42</td>\n",
       "      <td>0</td>\n",
       "    </tr>\n",
       "    <tr>\n",
       "      <th>অর্ডার সক্রান্ত প্রশ্ন</th>\n",
       "      <td>786</td>\n",
       "      <td>68</td>\n",
       "      <td>22</td>\n",
       "      <td>0</td>\n",
       "    </tr>\n",
       "    <tr>\n",
       "      <th>ডেলিভারি ডিলে</th>\n",
       "      <td>637</td>\n",
       "      <td>67</td>\n",
       "      <td>20</td>\n",
       "      <td>0</td>\n",
       "    </tr>\n",
       "    <tr>\n",
       "      <th>ভিন্ন বিষয় সংক্রান্ত প্রশ্ন</th>\n",
       "      <td>591</td>\n",
       "      <td>50</td>\n",
       "      <td>40</td>\n",
       "      <td>0</td>\n",
       "    </tr>\n",
       "    <tr>\n",
       "      <th>আমার অর্ডারটি কবে ডেলিভারি পেতে পারি?</th>\n",
       "      <td>553</td>\n",
       "      <td>79</td>\n",
       "      <td>10</td>\n",
       "      <td>5</td>\n",
       "    </tr>\n",
       "    <tr>\n",
       "      <th>শিপিং এবং ডেলিভেরি সক্রান্ত প্রশ্ন</th>\n",
       "      <td>546</td>\n",
       "      <td>64</td>\n",
       "      <td>29</td>\n",
       "      <td>0</td>\n",
       "    </tr>\n",
       "    <tr>\n",
       "      <th>আমার পণ্য ডেলিভারি হতে কতদিন লাগবে ?</th>\n",
       "      <td>543</td>\n",
       "      <td>82</td>\n",
       "      <td>8</td>\n",
       "      <td>2</td>\n",
       "    </tr>\n",
       "    <tr>\n",
       "      <th>কালেকশন পয়েন্টের ওটিপি কিভাবে পাবো ?</th>\n",
       "      <td>372</td>\n",
       "      <td>77</td>\n",
       "      <td>11</td>\n",
       "      <td>3</td>\n",
       "    </tr>\n",
       "    <tr>\n",
       "      <th>বিকাশে কোনো ক্যাশব্যাক আছে কি ?</th>\n",
       "      <td>321</td>\n",
       "      <td>79</td>\n",
       "      <td>10</td>\n",
       "      <td>7</td>\n",
       "    </tr>\n",
       "    <tr>\n",
       "      <th>আর্জেন্ট ডেলিভারি দেয়া যাবে কি ?</th>\n",
       "      <td>319</td>\n",
       "      <td>82</td>\n",
       "      <td>5</td>\n",
       "      <td>1</td>\n",
       "    </tr>\n",
       "    <tr>\n",
       "      <th>কালেকশন পয়েন্ট কোন সময়ে খোলা থাকবে?</th>\n",
       "      <td>314</td>\n",
       "      <td>80</td>\n",
       "      <td>9</td>\n",
       "      <td>1</td>\n",
       "    </tr>\n",
       "    <tr>\n",
       "      <th>রিটার্ন সংক্রান্ত প্রশ্ন</th>\n",
       "      <td>297</td>\n",
       "      <td>70</td>\n",
       "      <td>18</td>\n",
       "      <td>0</td>\n",
       "    </tr>\n",
       "  </tbody>\n",
       "</table>\n",
       "</div>"
      ],
      "text/plain": [
       "                                        sid_cnt  RR  STA  UR\n",
       "Knowledge Name                                              \n",
       "আমার অর্ডার কিভাবে ট্র্যাক করতে পারবো?     9138  82    9   3\n",
       "অর্ডার কিভাবে ক্যান্সেল করব?               3022  77   11   3\n",
       "আমি কি আইটেমটি রিটার্ন করতে পারবো          2921  78   11   1\n",
       "আমার সাহায্য লাগবে                         2869  67   26   0\n",
       "অর্ডার প্লেস করতে পারছি না কেন?            2533  87    5   2\n",
       "কত দ্রুত আমি আমার অর্ডার পেতে পারি?        1221  87    6   1\n",
       "রিফান্ড প্রসেস শেষ হতে কতদিন লাগবে?        1165  72   15   0\n",
       "আমার অর্ডার আসতে দেরি হচ্ছে কেন ?          1078  78   12   2\n",
       "আরো সাহায্য প্রয়োজন (Need more help)       973  51   42   0\n",
       "অর্ডার সক্রান্ত প্রশ্ন                      786  68   22   0\n",
       "ডেলিভারি ডিলে                               637  67   20   0\n",
       "ভিন্ন বিষয় সংক্রান্ত প্রশ্ন                 591  50   40   0\n",
       "আমার অর্ডারটি কবে ডেলিভারি পেতে পারি?       553  79   10   5\n",
       "শিপিং এবং ডেলিভেরি সক্রান্ত প্রশ্ন          546  64   29   0\n",
       "আমার পণ্য ডেলিভারি হতে কতদিন লাগবে ?        543  82    8   2\n",
       "কালেকশন পয়েন্টের ওটিপি কিভাবে পাবো ?        372  77   11   3\n",
       "বিকাশে কোনো ক্যাশব্যাক আছে কি ?             321  79   10   7\n",
       "আর্জেন্ট ডেলিভারি দেয়া যাবে কি ?            319  82    5   1\n",
       "কালেকশন পয়েন্ট কোন সময়ে খোলা থাকবে?         314  80    9   1\n",
       "রিটার্ন সংক্রান্ত প্রশ্ন                    297  70   18   0"
      ]
     },
     "execution_count": 89,
     "metadata": {},
     "output_type": "execute_result"
    }
   ],
   "source": [
    "df_LC_pivottable_top.head(20)"
   ]
  },
  {
   "cell_type": "code",
   "execution_count": 90,
   "metadata": {},
   "outputs": [],
   "source": [
    "df_LC_pivottable_top.to_clipboard()"
   ]
  },
  {
   "cell_type": "code",
   "execution_count": 91,
   "metadata": {},
   "outputs": [],
   "source": [
    "df_EN_pivottable_top.to_clipboard()"
   ]
  },
  {
   "cell_type": "markdown",
   "metadata": {},
   "source": [
    "### Low KT Evaluation"
   ]
  },
  {
   "cell_type": "code",
   "execution_count": 92,
   "metadata": {},
   "outputs": [],
   "source": [
    "df_kt = pd.read_csv('2022_05300605_CD.csv')"
   ]
  },
  {
   "cell_type": "code",
   "execution_count": 93,
   "metadata": {},
   "outputs": [
    {
     "data": {
      "text/plain": [
       "(4628, 42)"
      ]
     },
     "execution_count": 93,
     "metadata": {},
     "output_type": "execute_result"
    }
   ],
   "source": [
    "df_kt.shape"
   ]
  },
  {
   "cell_type": "code",
   "execution_count": 94,
   "metadata": {},
   "outputs": [
    {
     "data": {
      "text/html": [
       "<div>\n",
       "<style scoped>\n",
       "    .dataframe tbody tr th:only-of-type {\n",
       "        vertical-align: middle;\n",
       "    }\n",
       "\n",
       "    .dataframe tbody tr th {\n",
       "        vertical-align: top;\n",
       "    }\n",
       "\n",
       "    .dataframe thead th {\n",
       "        text-align: right;\n",
       "    }\n",
       "</style>\n",
       "<table border=\"1\" class=\"dataframe\">\n",
       "  <thead>\n",
       "    <tr style=\"text-align: right;\">\n",
       "      <th></th>\n",
       "      <th>Create Date</th>\n",
       "      <th>tenant_name</th>\n",
       "      <th>robot_code</th>\n",
       "      <th>robot_name</th>\n",
       "      <th>from_id</th>\n",
       "      <th>from_name</th>\n",
       "      <th>Session_id</th>\n",
       "      <th>Intention</th>\n",
       "      <th>user_id</th>\n",
       "      <th>Seller id (X-space)</th>\n",
       "      <th>...</th>\n",
       "      <th>Feedback Card Response</th>\n",
       "      <th>is_chat_recommend</th>\n",
       "      <th>is_chat_no answer</th>\n",
       "      <th>is_chat_pre/post match</th>\n",
       "      <th>live agent_session_id</th>\n",
       "      <th>Last Query Before Live Agent Session</th>\n",
       "      <th>Live Agent User Query</th>\n",
       "      <th>Live Agent Response</th>\n",
       "      <th>Feedback Type</th>\n",
       "      <th>Unsatisfied Reason</th>\n",
       "    </tr>\n",
       "  </thead>\n",
       "  <tbody>\n",
       "    <tr>\n",
       "      <th>0</th>\n",
       "      <td>2022-06-02 00:00:00</td>\n",
       "      <td>Alime-DRZ-CC-BD</td>\n",
       "      <td>03thkMNkQ3</td>\n",
       "      <td>BD-Daz-LC</td>\n",
       "      <td>zpojXywwrn</td>\n",
       "      <td>BD-Daz-LC-DD-App</td>\n",
       "      <td>80bf69a685804b3fad40ecfd11024190</td>\n",
       "      <td>route_daraz_others</td>\n",
       "      <td>2101100081950786</td>\n",
       "      <td>700050717706</td>\n",
       "      <td>...</td>\n",
       "      <td>Unsatisfied</td>\n",
       "      <td>N</td>\n",
       "      <td>N</td>\n",
       "      <td>N</td>\n",
       "      <td>NaN</td>\n",
       "      <td>NaN</td>\n",
       "      <td>NaN</td>\n",
       "      <td>NaN</td>\n",
       "      <td>UNSATISFIED</td>\n",
       "      <td>NaN</td>\n",
       "    </tr>\n",
       "    <tr>\n",
       "      <th>1</th>\n",
       "      <td>2022-06-03 00:00:00</td>\n",
       "      <td>Alime-DRZ-CC-BD</td>\n",
       "      <td>l2Cgc9psxK</td>\n",
       "      <td>BD-Daz-EN</td>\n",
       "      <td>V3EasrtOgs</td>\n",
       "      <td>BD-Daz-EN-HC-App</td>\n",
       "      <td>691565354c0e4ccaaa4afb7a6d8c3676</td>\n",
       "      <td>route_daraz_others</td>\n",
       "      <td>2101100082615294</td>\n",
       "      <td>700045623947</td>\n",
       "      <td>...</td>\n",
       "      <td>Unsatisfied</td>\n",
       "      <td>N</td>\n",
       "      <td>N</td>\n",
       "      <td>N</td>\n",
       "      <td>NaN</td>\n",
       "      <td>NaN</td>\n",
       "      <td>NaN</td>\n",
       "      <td>NaN</td>\n",
       "      <td>UNSATISFIED</td>\n",
       "      <td>Useless and wrong answer</td>\n",
       "    </tr>\n",
       "  </tbody>\n",
       "</table>\n",
       "<p>2 rows × 42 columns</p>\n",
       "</div>"
      ],
      "text/plain": [
       "           Create Date      tenant_name  robot_code robot_name     from_id  \\\n",
       "0  2022-06-02 00:00:00  Alime-DRZ-CC-BD  03thkMNkQ3  BD-Daz-LC  zpojXywwrn   \n",
       "1  2022-06-03 00:00:00  Alime-DRZ-CC-BD  l2Cgc9psxK  BD-Daz-EN  V3EasrtOgs   \n",
       "\n",
       "          from_name                        Session_id           Intention  \\\n",
       "0  BD-Daz-LC-DD-App  80bf69a685804b3fad40ecfd11024190  route_daraz_others   \n",
       "1  BD-Daz-EN-HC-App  691565354c0e4ccaaa4afb7a6d8c3676  route_daraz_others   \n",
       "\n",
       "            user_id  Seller id (X-space)  ... Feedback Card Response  \\\n",
       "0  2101100081950786         700050717706  ...            Unsatisfied   \n",
       "1  2101100082615294         700045623947  ...            Unsatisfied   \n",
       "\n",
       "  is_chat_recommend is_chat_no answer is_chat_pre/post match  \\\n",
       "0                 N                 N                      N   \n",
       "1                 N                 N                      N   \n",
       "\n",
       "  live agent_session_id Last Query Before Live Agent Session  \\\n",
       "0                   NaN                                  NaN   \n",
       "1                   NaN                                  NaN   \n",
       "\n",
       "  Live Agent User Query Live Agent Response  Feedback Type  \\\n",
       "0                   NaN                 NaN    UNSATISFIED   \n",
       "1                   NaN                 NaN    UNSATISFIED   \n",
       "\n",
       "         Unsatisfied Reason  \n",
       "0                       NaN  \n",
       "1  Useless and wrong answer  \n",
       "\n",
       "[2 rows x 42 columns]"
      ]
     },
     "execution_count": 94,
     "metadata": {},
     "output_type": "execute_result"
    }
   ],
   "source": [
    "df_kt.head(2)"
   ]
  },
  {
   "cell_type": "code",
   "execution_count": 95,
   "metadata": {},
   "outputs": [],
   "source": [
    "df_LCKT = df_kt[df_kt['robot_name'] == 'BD-Daz-LC']\n",
    "df_ENKT = df_kt[df_kt['robot_name'] == 'BD-Daz-EN']"
   ]
  },
  {
   "cell_type": "code",
   "execution_count": 96,
   "metadata": {},
   "outputs": [],
   "source": [
    "df_LCKT = df_LCKT.reset_index()\n",
    "df_ENKT = df_ENKT.reset_index()"
   ]
  },
  {
   "cell_type": "code",
   "execution_count": 97,
   "metadata": {},
   "outputs": [
    {
     "data": {
      "text/plain": [
       "(3132, 43)"
      ]
     },
     "execution_count": 97,
     "metadata": {},
     "output_type": "execute_result"
    }
   ],
   "source": [
    "df_ENKT.shape"
   ]
  },
  {
   "cell_type": "code",
   "execution_count": 98,
   "metadata": {},
   "outputs": [
    {
     "data": {
      "text/plain": [
       "(1496, 43)"
      ]
     },
     "execution_count": 98,
     "metadata": {},
     "output_type": "execute_result"
    }
   ],
   "source": [
    "df_LCKT.shape"
   ]
  },
  {
   "cell_type": "code",
   "execution_count": 99,
   "metadata": {},
   "outputs": [
    {
     "data": {
      "text/plain": [
       "Index(['index', 'Create Date', 'tenant_name', 'robot_code', 'robot_name',\n",
       "       'from_id', 'from_name', 'Session_id', 'Intention', 'user_id',\n",
       "       'Seller id (X-space)', 'user_nick', 'create_time', 'chat_uuid',\n",
       "       'Enter Type', 'query', 'Question Type', 'sopname', 'answer_type',\n",
       "       'SOP_Solution_id', 'SOP_Solution_Name', 'Standard Knowledge Title',\n",
       "       'Knowledge_id', 'knowledge_cate_1_name', 'knowledge_cate_2_name',\n",
       "       'knowledge_cate_3_name', 'is_session_unsatisfied',\n",
       "       'is_session_last_no answer', 'call_agent_by_click_shortcut',\n",
       "       'is_session_last_recommend no click', 'call_agent_by_intention',\n",
       "       'is_session_direct_liveagent', 'Contacted live agent on same day',\n",
       "       'Feedback Card Response', 'is_chat_recommend', 'is_chat_no answer',\n",
       "       'is_chat_pre/post match', 'live agent_session_id',\n",
       "       'Last Query Before Live Agent Session', 'Live Agent User Query',\n",
       "       'Live Agent Response', 'Feedback Type', 'Unsatisfied Reason'],\n",
       "      dtype='object')"
      ]
     },
     "execution_count": 99,
     "metadata": {},
     "output_type": "execute_result"
    }
   ],
   "source": [
    "df_ENKT.columns"
   ]
  },
  {
   "cell_type": "code",
   "execution_count": 100,
   "metadata": {},
   "outputs": [],
   "source": [
    "df_HLRP = df_ENKT[df_ENKT['Standard Knowledge Title'] == 'How long is the refund process']\n",
    "df_LCRP = df_LCKT[df_LCKT['Standard Knowledge Title'] == 'রিফান্ড প্রসেস শেষ হতে কতদিন লাগবে?']"
   ]
  },
  {
   "cell_type": "code",
   "execution_count": 101,
   "metadata": {},
   "outputs": [
    {
     "data": {
      "text/plain": [
       "(21, 43)"
      ]
     },
     "execution_count": 101,
     "metadata": {},
     "output_type": "execute_result"
    }
   ],
   "source": [
    "df_HLRP.shape"
   ]
  },
  {
   "cell_type": "code",
   "execution_count": 102,
   "metadata": {},
   "outputs": [
    {
     "data": {
      "text/plain": [
       "(7, 43)"
      ]
     },
     "execution_count": 102,
     "metadata": {},
     "output_type": "execute_result"
    }
   ],
   "source": [
    "df_LCRP.shape"
   ]
  },
  {
   "cell_type": "code",
   "execution_count": 103,
   "metadata": {},
   "outputs": [],
   "source": [
    "# EN_RD = df_ENKT[df_ENKT['Standard Knowledge Title'] == 'My refund is delayed. What should I do']"
   ]
  },
  {
   "cell_type": "markdown",
   "metadata": {},
   "source": [
    "##### English "
   ]
  },
  {
   "cell_type": "code",
   "execution_count": 104,
   "metadata": {},
   "outputs": [
    {
     "data": {
      "text/html": [
       "<div>\n",
       "<style scoped>\n",
       "    .dataframe tbody tr th:only-of-type {\n",
       "        vertical-align: middle;\n",
       "    }\n",
       "\n",
       "    .dataframe tbody tr th {\n",
       "        vertical-align: top;\n",
       "    }\n",
       "\n",
       "    .dataframe thead th {\n",
       "        text-align: right;\n",
       "    }\n",
       "</style>\n",
       "<table border=\"1\" class=\"dataframe\">\n",
       "  <thead>\n",
       "    <tr style=\"text-align: right;\">\n",
       "      <th></th>\n",
       "      <th>Standard Knowledge Title</th>\n",
       "      <th>Unsatisfied Reason</th>\n",
       "    </tr>\n",
       "  </thead>\n",
       "  <tbody>\n",
       "    <tr>\n",
       "      <th>30</th>\n",
       "      <td>How long is the refund process</td>\n",
       "      <td>NaN</td>\n",
       "    </tr>\n",
       "    <tr>\n",
       "      <th>78</th>\n",
       "      <td>How long is the refund process</td>\n",
       "      <td>NaN</td>\n",
       "    </tr>\n",
       "    <tr>\n",
       "      <th>196</th>\n",
       "      <td>How long is the refund process</td>\n",
       "      <td>NaN</td>\n",
       "    </tr>\n",
       "    <tr>\n",
       "      <th>394</th>\n",
       "      <td>How long is the refund process</td>\n",
       "      <td>Too many words to read</td>\n",
       "    </tr>\n",
       "    <tr>\n",
       "      <th>427</th>\n",
       "      <td>How long is the refund process</td>\n",
       "      <td>Useless and wrong answer</td>\n",
       "    </tr>\n",
       "    <tr>\n",
       "      <th>490</th>\n",
       "      <td>How long is the refund process</td>\n",
       "      <td>NaN</td>\n",
       "    </tr>\n",
       "    <tr>\n",
       "      <th>609</th>\n",
       "      <td>How long is the refund process</td>\n",
       "      <td>Useless and wrong answer</td>\n",
       "    </tr>\n",
       "    <tr>\n",
       "      <th>831</th>\n",
       "      <td>How long is the refund process</td>\n",
       "      <td>Useless and wrong answer</td>\n",
       "    </tr>\n",
       "    <tr>\n",
       "      <th>975</th>\n",
       "      <td>How long is the refund process</td>\n",
       "      <td>NaN</td>\n",
       "    </tr>\n",
       "    <tr>\n",
       "      <th>1260</th>\n",
       "      <td>How long is the refund process</td>\n",
       "      <td>NaN</td>\n",
       "    </tr>\n",
       "    <tr>\n",
       "      <th>1436</th>\n",
       "      <td>How long is the refund process</td>\n",
       "      <td>Too many words to read</td>\n",
       "    </tr>\n",
       "    <tr>\n",
       "      <th>1442</th>\n",
       "      <td>How long is the refund process</td>\n",
       "      <td>Useless and wrong answer</td>\n",
       "    </tr>\n",
       "    <tr>\n",
       "      <th>1497</th>\n",
       "      <td>How long is the refund process</td>\n",
       "      <td>Too many words to read</td>\n",
       "    </tr>\n",
       "    <tr>\n",
       "      <th>1522</th>\n",
       "      <td>How long is the refund process</td>\n",
       "      <td>The descriptions are complicated and not compr...</td>\n",
       "    </tr>\n",
       "    <tr>\n",
       "      <th>2039</th>\n",
       "      <td>How long is the refund process</td>\n",
       "      <td>Too many words to read</td>\n",
       "    </tr>\n",
       "    <tr>\n",
       "      <th>2057</th>\n",
       "      <td>How long is the refund process</td>\n",
       "      <td>Useless and wrong answer</td>\n",
       "    </tr>\n",
       "    <tr>\n",
       "      <th>2199</th>\n",
       "      <td>How long is the refund process</td>\n",
       "      <td>The descriptions are complicated and not compr...</td>\n",
       "    </tr>\n",
       "    <tr>\n",
       "      <th>2588</th>\n",
       "      <td>How long is the refund process</td>\n",
       "      <td>Too many words to read</td>\n",
       "    </tr>\n",
       "    <tr>\n",
       "      <th>2643</th>\n",
       "      <td>How long is the refund process</td>\n",
       "      <td>Useless and wrong answer</td>\n",
       "    </tr>\n",
       "    <tr>\n",
       "      <th>3079</th>\n",
       "      <td>How long is the refund process</td>\n",
       "      <td>The descriptions are complicated and not compr...</td>\n",
       "    </tr>\n",
       "    <tr>\n",
       "      <th>3111</th>\n",
       "      <td>How long is the refund process</td>\n",
       "      <td>Useless and wrong answer</td>\n",
       "    </tr>\n",
       "  </tbody>\n",
       "</table>\n",
       "</div>"
      ],
      "text/plain": [
       "            Standard Knowledge Title  \\\n",
       "30    How long is the refund process   \n",
       "78    How long is the refund process   \n",
       "196   How long is the refund process   \n",
       "394   How long is the refund process   \n",
       "427   How long is the refund process   \n",
       "490   How long is the refund process   \n",
       "609   How long is the refund process   \n",
       "831   How long is the refund process   \n",
       "975   How long is the refund process   \n",
       "1260  How long is the refund process   \n",
       "1436  How long is the refund process   \n",
       "1442  How long is the refund process   \n",
       "1497  How long is the refund process   \n",
       "1522  How long is the refund process   \n",
       "2039  How long is the refund process   \n",
       "2057  How long is the refund process   \n",
       "2199  How long is the refund process   \n",
       "2588  How long is the refund process   \n",
       "2643  How long is the refund process   \n",
       "3079  How long is the refund process   \n",
       "3111  How long is the refund process   \n",
       "\n",
       "                                     Unsatisfied Reason  \n",
       "30                                                  NaN  \n",
       "78                                                  NaN  \n",
       "196                                                 NaN  \n",
       "394                              Too many words to read  \n",
       "427                            Useless and wrong answer  \n",
       "490                                                 NaN  \n",
       "609                            Useless and wrong answer  \n",
       "831                            Useless and wrong answer  \n",
       "975                                                 NaN  \n",
       "1260                                                NaN  \n",
       "1436                             Too many words to read  \n",
       "1442                           Useless and wrong answer  \n",
       "1497                             Too many words to read  \n",
       "1522  The descriptions are complicated and not compr...  \n",
       "2039                             Too many words to read  \n",
       "2057                           Useless and wrong answer  \n",
       "2199  The descriptions are complicated and not compr...  \n",
       "2588                             Too many words to read  \n",
       "2643                           Useless and wrong answer  \n",
       "3079  The descriptions are complicated and not compr...  \n",
       "3111                           Useless and wrong answer  "
      ]
     },
     "execution_count": 104,
     "metadata": {},
     "output_type": "execute_result"
    }
   ],
   "source": [
    "df_HLRP[['Standard Knowledge Title','Unsatisfied Reason']]"
   ]
  },
  {
   "cell_type": "code",
   "execution_count": 105,
   "metadata": {},
   "outputs": [
    {
     "data": {
      "text/plain": [
       "Standard Knowledge Title        Unsatisfied Reason                                     \n",
       "How long is the refund process  Useless and wrong answer                                   7\n",
       "                                Too many words to read                                     5\n",
       "                                The descriptions are complicated and not comprehensible    3\n",
       "dtype: int64"
      ]
     },
     "execution_count": 105,
     "metadata": {},
     "output_type": "execute_result"
    }
   ],
   "source": [
    "df_HLRP[['Standard Knowledge Title','Unsatisfied Reason']].value_counts()"
   ]
  },
  {
   "cell_type": "code",
   "execution_count": 106,
   "metadata": {},
   "outputs": [],
   "source": [
    "df_HLRP = df_HLRP[df_HLRP['Live Agent User Query'].notna()] #How long is the refund process queries\n",
    "df_Q = df_HLRP['Live Agent User Query']"
   ]
  },
  {
   "cell_type": "code",
   "execution_count": 114,
   "metadata": {},
   "outputs": [],
   "source": [
    "df_Q.to_clipboard()"
   ]
  },
  {
   "cell_type": "markdown",
   "metadata": {},
   "source": [
    "Customers are switching to agents to know the exact date for refund process/when their money will be refunded. They also wanted to know the return process in order to get the refund. There were also complains of return request being canceled. "
   ]
  },
  {
   "cell_type": "markdown",
   "metadata": {},
   "source": [
    "#### Bangla "
   ]
  },
  {
   "cell_type": "code",
   "execution_count": 108,
   "metadata": {},
   "outputs": [
    {
     "data": {
      "text/html": [
       "<div>\n",
       "<style scoped>\n",
       "    .dataframe tbody tr th:only-of-type {\n",
       "        vertical-align: middle;\n",
       "    }\n",
       "\n",
       "    .dataframe tbody tr th {\n",
       "        vertical-align: top;\n",
       "    }\n",
       "\n",
       "    .dataframe thead th {\n",
       "        text-align: right;\n",
       "    }\n",
       "</style>\n",
       "<table border=\"1\" class=\"dataframe\">\n",
       "  <thead>\n",
       "    <tr style=\"text-align: right;\">\n",
       "      <th></th>\n",
       "      <th>Standard Knowledge Title</th>\n",
       "      <th>Unsatisfied Reason</th>\n",
       "    </tr>\n",
       "  </thead>\n",
       "  <tbody>\n",
       "    <tr>\n",
       "      <th>196</th>\n",
       "      <td>রিফান্ড প্রসেস শেষ হতে কতদিন লাগবে?</td>\n",
       "      <td>অকেজো এবং ভুল উত্তর</td>\n",
       "    </tr>\n",
       "    <tr>\n",
       "      <th>432</th>\n",
       "      <td>রিফান্ড প্রসেস শেষ হতে কতদিন লাগবে?</td>\n",
       "      <td>অনেক শব্দ আছে পড়ার জন্য</td>\n",
       "    </tr>\n",
       "    <tr>\n",
       "      <th>585</th>\n",
       "      <td>রিফান্ড প্রসেস শেষ হতে কতদিন লাগবে?</td>\n",
       "      <td>বর্ণনাগুলি জটিল এবং বোধগম্য নয়</td>\n",
       "    </tr>\n",
       "    <tr>\n",
       "      <th>589</th>\n",
       "      <td>রিফান্ড প্রসেস শেষ হতে কতদিন লাগবে?</td>\n",
       "      <td>বর্ণনাগুলি জটিল এবং বোধগম্য নয়</td>\n",
       "    </tr>\n",
       "    <tr>\n",
       "      <th>596</th>\n",
       "      <td>রিফান্ড প্রসেস শেষ হতে কতদিন লাগবে?</td>\n",
       "      <td>অকেজো এবং ভুল উত্তর</td>\n",
       "    </tr>\n",
       "    <tr>\n",
       "      <th>886</th>\n",
       "      <td>রিফান্ড প্রসেস শেষ হতে কতদিন লাগবে?</td>\n",
       "      <td>অকেজো এবং ভুল উত্তর</td>\n",
       "    </tr>\n",
       "    <tr>\n",
       "      <th>918</th>\n",
       "      <td>রিফান্ড প্রসেস শেষ হতে কতদিন লাগবে?</td>\n",
       "      <td>অনেক শব্দ আছে পড়ার জন্য</td>\n",
       "    </tr>\n",
       "  </tbody>\n",
       "</table>\n",
       "</div>"
      ],
      "text/plain": [
       "                Standard Knowledge Title               Unsatisfied Reason\n",
       "196  রিফান্ড প্রসেস শেষ হতে কতদিন লাগবে?              অকেজো এবং ভুল উত্তর\n",
       "432  রিফান্ড প্রসেস শেষ হতে কতদিন লাগবে?          অনেক শব্দ আছে পড়ার জন্য\n",
       "585  রিফান্ড প্রসেস শেষ হতে কতদিন লাগবে?  বর্ণনাগুলি জটিল এবং বোধগম্য নয়\n",
       "589  রিফান্ড প্রসেস শেষ হতে কতদিন লাগবে?  বর্ণনাগুলি জটিল এবং বোধগম্য নয়\n",
       "596  রিফান্ড প্রসেস শেষ হতে কতদিন লাগবে?              অকেজো এবং ভুল উত্তর\n",
       "886  রিফান্ড প্রসেস শেষ হতে কতদিন লাগবে?              অকেজো এবং ভুল উত্তর\n",
       "918  রিফান্ড প্রসেস শেষ হতে কতদিন লাগবে?          অনেক শব্দ আছে পড়ার জন্য"
      ]
     },
     "execution_count": 108,
     "metadata": {},
     "output_type": "execute_result"
    }
   ],
   "source": [
    "df_LCRP[['Standard Knowledge Title','Unsatisfied Reason']]"
   ]
  },
  {
   "cell_type": "code",
   "execution_count": 109,
   "metadata": {},
   "outputs": [
    {
     "data": {
      "text/plain": [
       "Standard Knowledge Title             Unsatisfied Reason             \n",
       "রিফান্ড প্রসেস শেষ হতে কতদিন লাগবে?  অকেজো এবং ভুল উত্তর                3\n",
       "                                     অনেক শব্দ আছে পড়ার জন্য            2\n",
       "                                     বর্ণনাগুলি জটিল এবং বোধগম্য নয়    2\n",
       "dtype: int64"
      ]
     },
     "execution_count": 109,
     "metadata": {},
     "output_type": "execute_result"
    }
   ],
   "source": [
    "df_LCRP[['Standard Knowledge Title','Unsatisfied Reason']].value_counts()"
   ]
  },
  {
   "cell_type": "code",
   "execution_count": 110,
   "metadata": {},
   "outputs": [],
   "source": [
    "df_LCRP = df_LCRP[df_LCRP['Live Agent User Query'].notna()]\n",
    "df_LCRP_Q = df_LCRP['Live Agent User Query']"
   ]
  },
  {
   "cell_type": "code",
   "execution_count": 113,
   "metadata": {},
   "outputs": [],
   "source": [
    "df_LCRP_Q.to_clipboard()"
   ]
  },
  {
   "cell_type": "markdown",
   "metadata": {},
   "source": [
    "After going through the chat details, we could not find substantial reasons for pain points for set KT (specifically KTs with low RR). There were insignificant chat details with accordance to the step mentioned. Not everyone switched to a live agent after rating the Chatbot. "
   ]
  },
  {
   "cell_type": "markdown",
   "metadata": {},
   "source": [
    "As we are using refund SOP, in order to change the content or the graphics we need to consult the product team. "
   ]
  },
  {
   "cell_type": "code",
   "execution_count": null,
   "metadata": {},
   "outputs": [],
   "source": []
  },
  {
   "cell_type": "markdown",
   "metadata": {},
   "source": []
  }
 ],
 "metadata": {
  "interpreter": {
   "hash": "0606053452435824a427f0ea93d6ae20786397642025bcc66bfe96b66155d44b"
  },
  "kernelspec": {
   "display_name": "Python 3.9.7 ('base')",
   "language": "python",
   "name": "python3"
  },
  "language_info": {
   "codemirror_mode": {
    "name": "ipython",
    "version": 3
   },
   "file_extension": ".py",
   "mimetype": "text/x-python",
   "name": "python",
   "nbconvert_exporter": "python",
   "pygments_lexer": "ipython3",
   "version": "3.9.7"
  }
 },
 "nbformat": 4,
 "nbformat_minor": 2
}
