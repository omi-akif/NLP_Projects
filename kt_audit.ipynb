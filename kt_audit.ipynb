{
 "cells": [
  {
   "cell_type": "code",
   "execution_count": 42,
   "metadata": {},
   "outputs": [],
   "source": [
    "import pandas as pd\n",
    "import numpy as np\n",
    "import re"
   ]
  },
  {
   "cell_type": "code",
   "execution_count": 2,
   "metadata": {},
   "outputs": [],
   "source": [
    "df = pd.read_excel(r'KnowledgeBase\\English_Knowledge_Base.xlsx')"
   ]
  },
  {
   "cell_type": "code",
   "execution_count": 3,
   "metadata": {},
   "outputs": [
    {
     "data": {
      "text/html": [
       "<div>\n",
       "<style scoped>\n",
       "    .dataframe tbody tr th:only-of-type {\n",
       "        vertical-align: middle;\n",
       "    }\n",
       "\n",
       "    .dataframe tbody tr th {\n",
       "        vertical-align: top;\n",
       "    }\n",
       "\n",
       "    .dataframe thead th {\n",
       "        text-align: right;\n",
       "    }\n",
       "</style>\n",
       "<table border=\"1\" class=\"dataframe\">\n",
       "  <thead>\n",
       "    <tr style=\"text-align: right;\">\n",
       "      <th></th>\n",
       "      <th>Category id</th>\n",
       "      <th>Category</th>\n",
       "      <th>Knowledge id</th>\n",
       "      <th>Knowledge title</th>\n",
       "      <th>Knowledge type</th>\n",
       "      <th>Create time</th>\n",
       "      <th>Edit time</th>\n",
       "      <th>Editor</th>\n",
       "      <th>Similar question</th>\n",
       "      <th>机器人</th>\n",
       "      <th>AIML&amp;Android问题&amp;IOS问题&amp;会员帮助&amp;无线知识&amp;机器人</th>\n",
       "      <th>AIML</th>\n",
       "    </tr>\n",
       "  </thead>\n",
       "  <tbody>\n",
       "    <tr>\n",
       "      <th>0</th>\n",
       "      <td>1000002193</td>\n",
       "      <td>English/Payment/Payment</td>\n",
       "      <td>1000015107</td>\n",
       "      <td>How do I pay on Daraz</td>\n",
       "      <td>普通知识</td>\n",
       "      <td>2020-03-26 19:32:18</td>\n",
       "      <td>2022-06-23 18:25:28</td>\n",
       "      <td>md.abid.hassan</td>\n",
       "      <td>How do I make payment on Daraz\\nPlease let me ...</td>\n",
       "      <td>How do I pay on Daraz?Daraz supports multiple ...</td>\n",
       "      <td>NaN</td>\n",
       "      <td>NaN</td>\n",
       "    </tr>\n",
       "    <tr>\n",
       "      <th>1</th>\n",
       "      <td>1000002193</td>\n",
       "      <td>English/Payment/Payment</td>\n",
       "      <td>1000015113</td>\n",
       "      <td>How do I pay with my Card</td>\n",
       "      <td>普通知识</td>\n",
       "      <td>2020-03-26 20:06:13</td>\n",
       "      <td>2022-01-05 20:08:37</td>\n",
       "      <td>md.abid.hassan</td>\n",
       "      <td>How can I make payment with my Debit card\\nHow...</td>\n",
       "      <td>After Checkout, when customers click on Procee...</td>\n",
       "      <td>NaN</td>\n",
       "      <td>NaN</td>\n",
       "    </tr>\n",
       "    <tr>\n",
       "      <th>2</th>\n",
       "      <td>1000002189</td>\n",
       "      <td>English/Ordering/Order Placement</td>\n",
       "      <td>1000015114</td>\n",
       "      <td>How can I get an invoice for my order</td>\n",
       "      <td>普通知识</td>\n",
       "      <td>2020-03-26 20:06:34</td>\n",
       "      <td>2022-01-13 14:18:19</td>\n",
       "      <td>md.abid.hassan</td>\n",
       "      <td>How can I collect my invoice paper\\nWhat is th...</td>\n",
       "      <td>For Marketplace items a hard copy of invoice i...</td>\n",
       "      <td>NaN</td>\n",
       "      <td>NaN</td>\n",
       "    </tr>\n",
       "    <tr>\n",
       "      <th>3</th>\n",
       "      <td>1000002189</td>\n",
       "      <td>English/Ordering/Order Placement</td>\n",
       "      <td>1000015121</td>\n",
       "      <td>When will I receive the invoice of my order</td>\n",
       "      <td>普通知识</td>\n",
       "      <td>2020-03-26 20:17:39</td>\n",
       "      <td>2021-02-09 19:57:46</td>\n",
       "      <td>nagib.mahfuz</td>\n",
       "      <td>When will you send the invoice for my order\\nH...</td>\n",
       "      <td>For marketplace items, invoice paper is sent t...</td>\n",
       "      <td>NaN</td>\n",
       "      <td>NaN</td>\n",
       "    </tr>\n",
       "  </tbody>\n",
       "</table>\n",
       "</div>"
      ],
      "text/plain": [
       "   Category id                          Category  Knowledge id  \\\n",
       "0   1000002193           English/Payment/Payment    1000015107   \n",
       "1   1000002193           English/Payment/Payment    1000015113   \n",
       "2   1000002189  English/Ordering/Order Placement    1000015114   \n",
       "3   1000002189  English/Ordering/Order Placement    1000015121   \n",
       "\n",
       "                               Knowledge title Knowledge type  \\\n",
       "0                        How do I pay on Daraz           普通知识   \n",
       "1                    How do I pay with my Card           普通知识   \n",
       "2        How can I get an invoice for my order           普通知识   \n",
       "3  When will I receive the invoice of my order           普通知识   \n",
       "\n",
       "           Create time            Edit time          Editor  \\\n",
       "0  2020-03-26 19:32:18  2022-06-23 18:25:28  md.abid.hassan   \n",
       "1  2020-03-26 20:06:13  2022-01-05 20:08:37  md.abid.hassan   \n",
       "2  2020-03-26 20:06:34  2022-01-13 14:18:19  md.abid.hassan   \n",
       "3  2020-03-26 20:17:39  2021-02-09 19:57:46    nagib.mahfuz   \n",
       "\n",
       "                                    Similar question  \\\n",
       "0  How do I make payment on Daraz\\nPlease let me ...   \n",
       "1  How can I make payment with my Debit card\\nHow...   \n",
       "2  How can I collect my invoice paper\\nWhat is th...   \n",
       "3  When will you send the invoice for my order\\nH...   \n",
       "\n",
       "                                                 机器人  \\\n",
       "0  How do I pay on Daraz?Daraz supports multiple ...   \n",
       "1  After Checkout, when customers click on Procee...   \n",
       "2  For Marketplace items a hard copy of invoice i...   \n",
       "3  For marketplace items, invoice paper is sent t...   \n",
       "\n",
       "  AIML&Android问题&IOS问题&会员帮助&无线知识&机器人 AIML  \n",
       "0                                NaN  NaN  \n",
       "1                                NaN  NaN  \n",
       "2                                NaN  NaN  \n",
       "3                                NaN  NaN  "
      ]
     },
     "execution_count": 3,
     "metadata": {},
     "output_type": "execute_result"
    }
   ],
   "source": [
    "df.head(4)"
   ]
  },
  {
   "cell_type": "code",
   "execution_count": 4,
   "metadata": {},
   "outputs": [
    {
     "data": {
      "text/plain": [
       "English/Digital Goods/Services                      85\n",
       "English/Shipping & Delivery/Delivery                63\n",
       "English/Returns & Refunds/Returns                   42\n",
       "English/Ordering/Order Placement                    34\n",
       "English/Pre match                                   33\n",
       "English/Digital Goods/Digital Goods                 31\n",
       "English/Campaign/Campaign general                   24\n",
       "English/Payment/Payment                             23\n",
       "English/Campaign/dMart                              21\n",
       "English/Returns & Refunds/Refunds                   21\n",
       "English/My Account/Account Management               18\n",
       "English/Voucher & Promotions/Collectible Voucher    18\n",
       "English/Other Topics/About Daraz                    17\n",
       "English/Ordering/Product Information                15\n",
       "English/Other Topics/Selling on Daraz               15\n",
       "English/Shipping & Delivery/Collection Point        11\n",
       "English/Payment/EMI                                 10\n",
       "English/Ordering/Covid-19 Measures                  10\n",
       "English/Ordering/Order Cancellation                 10\n",
       "English/Digital Goods/Top-Up                         8\n",
       "English/Ordering/Product Warranty                    8\n",
       "English/DarazMall/What is DarazMall                  7\n",
       "English/post match                                   5\n",
       "English/DarazMall/DarazMall Returns                  4\n",
       "English/Other Topics/Privacy & Consumer Rights       4\n",
       "English/Ordering/Product Price                       4\n",
       "English/Shipping & Delivery/Daraz Express            3\n",
       "English/Campaign/Pre-payment offer                   3\n",
       "English/DarazMall/DarazMall Shipping                 3\n",
       "English/Ordering/Reviews                             2\n",
       "English/Ordering/Product Installation                2\n",
       "English/Other Topics/Career                          2\n",
       "English/Ordering/Rating                              2\n",
       "English/DarazMall/DarazMall For Sellers              1\n",
       "English/DarazMall/DarazMall Refunds                  1\n",
       "English/Campaign/Free Shipping                       1\n",
       "English/Campaign/Daraz Bondhu Program                1\n",
       "Name: Category, dtype: int64"
      ]
     },
     "execution_count": 4,
     "metadata": {},
     "output_type": "execute_result"
    }
   ],
   "source": [
    "df['Cateogry'].value_counts()"
   ]
  },
  {
   "cell_type": "code",
   "execution_count": 10,
   "metadata": {},
   "outputs": [],
   "source": [
    "df[['1', '2', '3']] = 0"
   ]
  },
  {
   "cell_type": "code",
   "execution_count": 11,
   "metadata": {},
   "outputs": [
    {
     "ename": "ValueError",
     "evalue": "Columns must be same length as key",
     "output_type": "error",
     "traceback": [
      "\u001b[1;31m---------------------------------------------------------------------------\u001b[0m",
      "\u001b[1;31mValueError\u001b[0m                                Traceback (most recent call last)",
      "\u001b[1;32m~\\AppData\\Local\\Temp/ipykernel_31752/1263797306.py\u001b[0m in \u001b[0;36m<module>\u001b[1;34m\u001b[0m\n\u001b[1;32m----> 1\u001b[1;33m \u001b[0mdf\u001b[0m\u001b[1;33m[\u001b[0m\u001b[1;33m[\u001b[0m\u001b[1;34m'1'\u001b[0m\u001b[1;33m,\u001b[0m \u001b[1;34m'2'\u001b[0m\u001b[1;33m,\u001b[0m \u001b[1;34m'3'\u001b[0m\u001b[1;33m]\u001b[0m\u001b[1;33m]\u001b[0m \u001b[1;33m=\u001b[0m \u001b[0mdf\u001b[0m\u001b[1;33m[\u001b[0m\u001b[1;34m'Category'\u001b[0m\u001b[1;33m]\u001b[0m\u001b[1;33m.\u001b[0m\u001b[0mstr\u001b[0m\u001b[1;33m.\u001b[0m\u001b[0msplit\u001b[0m\u001b[1;33m(\u001b[0m\u001b[1;34m'/'\u001b[0m\u001b[1;33m)\u001b[0m\u001b[1;33m\u001b[0m\u001b[1;33m\u001b[0m\u001b[0m\n\u001b[0m",
      "\u001b[1;32mc:\\Users\\Daraz\\anaconda3\\lib\\site-packages\\pandas\\core\\frame.py\u001b[0m in \u001b[0;36m__setitem__\u001b[1;34m(self, key, value)\u001b[0m\n\u001b[0;32m   3641\u001b[0m             \u001b[0mself\u001b[0m\u001b[1;33m.\u001b[0m\u001b[0m_setitem_frame\u001b[0m\u001b[1;33m(\u001b[0m\u001b[0mkey\u001b[0m\u001b[1;33m,\u001b[0m \u001b[0mvalue\u001b[0m\u001b[1;33m)\u001b[0m\u001b[1;33m\u001b[0m\u001b[1;33m\u001b[0m\u001b[0m\n\u001b[0;32m   3642\u001b[0m         \u001b[1;32melif\u001b[0m \u001b[0misinstance\u001b[0m\u001b[1;33m(\u001b[0m\u001b[0mkey\u001b[0m\u001b[1;33m,\u001b[0m \u001b[1;33m(\u001b[0m\u001b[0mSeries\u001b[0m\u001b[1;33m,\u001b[0m \u001b[0mnp\u001b[0m\u001b[1;33m.\u001b[0m\u001b[0mndarray\u001b[0m\u001b[1;33m,\u001b[0m \u001b[0mlist\u001b[0m\u001b[1;33m,\u001b[0m \u001b[0mIndex\u001b[0m\u001b[1;33m)\u001b[0m\u001b[1;33m)\u001b[0m\u001b[1;33m:\u001b[0m\u001b[1;33m\u001b[0m\u001b[1;33m\u001b[0m\u001b[0m\n\u001b[1;32m-> 3643\u001b[1;33m             \u001b[0mself\u001b[0m\u001b[1;33m.\u001b[0m\u001b[0m_setitem_array\u001b[0m\u001b[1;33m(\u001b[0m\u001b[0mkey\u001b[0m\u001b[1;33m,\u001b[0m \u001b[0mvalue\u001b[0m\u001b[1;33m)\u001b[0m\u001b[1;33m\u001b[0m\u001b[1;33m\u001b[0m\u001b[0m\n\u001b[0m\u001b[0;32m   3644\u001b[0m         \u001b[1;32melif\u001b[0m \u001b[0misinstance\u001b[0m\u001b[1;33m(\u001b[0m\u001b[0mvalue\u001b[0m\u001b[1;33m,\u001b[0m \u001b[0mDataFrame\u001b[0m\u001b[1;33m)\u001b[0m\u001b[1;33m:\u001b[0m\u001b[1;33m\u001b[0m\u001b[1;33m\u001b[0m\u001b[0m\n\u001b[0;32m   3645\u001b[0m             \u001b[0mself\u001b[0m\u001b[1;33m.\u001b[0m\u001b[0m_set_item_frame_value\u001b[0m\u001b[1;33m(\u001b[0m\u001b[0mkey\u001b[0m\u001b[1;33m,\u001b[0m \u001b[0mvalue\u001b[0m\u001b[1;33m)\u001b[0m\u001b[1;33m\u001b[0m\u001b[1;33m\u001b[0m\u001b[0m\n",
      "\u001b[1;32mc:\\Users\\Daraz\\anaconda3\\lib\\site-packages\\pandas\\core\\frame.py\u001b[0m in \u001b[0;36m_setitem_array\u001b[1;34m(self, key, value)\u001b[0m\n\u001b[0;32m   3700\u001b[0m \u001b[1;33m\u001b[0m\u001b[0m\n\u001b[0;32m   3701\u001b[0m             \u001b[1;32melse\u001b[0m\u001b[1;33m:\u001b[0m\u001b[1;33m\u001b[0m\u001b[1;33m\u001b[0m\u001b[0m\n\u001b[1;32m-> 3702\u001b[1;33m                 \u001b[0mself\u001b[0m\u001b[1;33m.\u001b[0m\u001b[0m_iset_not_inplace\u001b[0m\u001b[1;33m(\u001b[0m\u001b[0mkey\u001b[0m\u001b[1;33m,\u001b[0m \u001b[0mvalue\u001b[0m\u001b[1;33m)\u001b[0m\u001b[1;33m\u001b[0m\u001b[1;33m\u001b[0m\u001b[0m\n\u001b[0m\u001b[0;32m   3703\u001b[0m \u001b[1;33m\u001b[0m\u001b[0m\n\u001b[0;32m   3704\u001b[0m     \u001b[1;32mdef\u001b[0m \u001b[0m_iset_not_inplace\u001b[0m\u001b[1;33m(\u001b[0m\u001b[0mself\u001b[0m\u001b[1;33m,\u001b[0m \u001b[0mkey\u001b[0m\u001b[1;33m,\u001b[0m \u001b[0mvalue\u001b[0m\u001b[1;33m)\u001b[0m\u001b[1;33m:\u001b[0m\u001b[1;33m\u001b[0m\u001b[1;33m\u001b[0m\u001b[0m\n",
      "\u001b[1;32mc:\\Users\\Daraz\\anaconda3\\lib\\site-packages\\pandas\\core\\frame.py\u001b[0m in \u001b[0;36m_iset_not_inplace\u001b[1;34m(self, key, value)\u001b[0m\n\u001b[0;32m   3719\u001b[0m         \u001b[1;32mif\u001b[0m \u001b[0mself\u001b[0m\u001b[1;33m.\u001b[0m\u001b[0mcolumns\u001b[0m\u001b[1;33m.\u001b[0m\u001b[0mis_unique\u001b[0m\u001b[1;33m:\u001b[0m\u001b[1;33m\u001b[0m\u001b[1;33m\u001b[0m\u001b[0m\n\u001b[0;32m   3720\u001b[0m             \u001b[1;32mif\u001b[0m \u001b[0mnp\u001b[0m\u001b[1;33m.\u001b[0m\u001b[0mshape\u001b[0m\u001b[1;33m(\u001b[0m\u001b[0mvalue\u001b[0m\u001b[1;33m)\u001b[0m\u001b[1;33m[\u001b[0m\u001b[1;33m-\u001b[0m\u001b[1;36m1\u001b[0m\u001b[1;33m]\u001b[0m \u001b[1;33m!=\u001b[0m \u001b[0mlen\u001b[0m\u001b[1;33m(\u001b[0m\u001b[0mkey\u001b[0m\u001b[1;33m)\u001b[0m\u001b[1;33m:\u001b[0m\u001b[1;33m\u001b[0m\u001b[1;33m\u001b[0m\u001b[0m\n\u001b[1;32m-> 3721\u001b[1;33m                 \u001b[1;32mraise\u001b[0m \u001b[0mValueError\u001b[0m\u001b[1;33m(\u001b[0m\u001b[1;34m\"Columns must be same length as key\"\u001b[0m\u001b[1;33m)\u001b[0m\u001b[1;33m\u001b[0m\u001b[1;33m\u001b[0m\u001b[0m\n\u001b[0m\u001b[0;32m   3722\u001b[0m \u001b[1;33m\u001b[0m\u001b[0m\n\u001b[0;32m   3723\u001b[0m             \u001b[1;32mfor\u001b[0m \u001b[0mi\u001b[0m\u001b[1;33m,\u001b[0m \u001b[0mcol\u001b[0m \u001b[1;32min\u001b[0m \u001b[0menumerate\u001b[0m\u001b[1;33m(\u001b[0m\u001b[0mkey\u001b[0m\u001b[1;33m)\u001b[0m\u001b[1;33m:\u001b[0m\u001b[1;33m\u001b[0m\u001b[1;33m\u001b[0m\u001b[0m\n",
      "\u001b[1;31mValueError\u001b[0m: Columns must be same length as key"
     ]
    }
   ],
   "source": [
    "df[['1', '2', '3']] = df['Category'].str.split('/')[0]"
   ]
  },
  {
   "cell_type": "code",
   "execution_count": 12,
   "metadata": {},
   "outputs": [
    {
     "ename": "ValueError",
     "evalue": "Length of values (3) does not match length of index (562)",
     "output_type": "error",
     "traceback": [
      "\u001b[1;31m---------------------------------------------------------------------------\u001b[0m",
      "\u001b[1;31mValueError\u001b[0m                                Traceback (most recent call last)",
      "\u001b[1;32m~\\AppData\\Local\\Temp/ipykernel_31752/4036621095.py\u001b[0m in \u001b[0;36m<module>\u001b[1;34m\u001b[0m\n\u001b[1;32m----> 1\u001b[1;33m \u001b[0mdf\u001b[0m\u001b[1;33m[\u001b[0m\u001b[1;34m'1'\u001b[0m\u001b[1;33m]\u001b[0m \u001b[1;33m=\u001b[0m \u001b[0mdf\u001b[0m\u001b[1;33m[\u001b[0m\u001b[1;34m'Category'\u001b[0m\u001b[1;33m]\u001b[0m\u001b[1;33m.\u001b[0m\u001b[0mstr\u001b[0m\u001b[1;33m.\u001b[0m\u001b[0msplit\u001b[0m\u001b[1;33m(\u001b[0m\u001b[1;34m'/'\u001b[0m\u001b[1;33m)\u001b[0m\u001b[1;33m[\u001b[0m\u001b[1;36m0\u001b[0m\u001b[1;33m]\u001b[0m\u001b[1;33m\u001b[0m\u001b[1;33m\u001b[0m\u001b[0m\n\u001b[0m",
      "\u001b[1;32mc:\\Users\\Daraz\\anaconda3\\lib\\site-packages\\pandas\\core\\frame.py\u001b[0m in \u001b[0;36m__setitem__\u001b[1;34m(self, key, value)\u001b[0m\n\u001b[0;32m   3653\u001b[0m         \u001b[1;32melse\u001b[0m\u001b[1;33m:\u001b[0m\u001b[1;33m\u001b[0m\u001b[1;33m\u001b[0m\u001b[0m\n\u001b[0;32m   3654\u001b[0m             \u001b[1;31m# set column\u001b[0m\u001b[1;33m\u001b[0m\u001b[1;33m\u001b[0m\u001b[0m\n\u001b[1;32m-> 3655\u001b[1;33m             \u001b[0mself\u001b[0m\u001b[1;33m.\u001b[0m\u001b[0m_set_item\u001b[0m\u001b[1;33m(\u001b[0m\u001b[0mkey\u001b[0m\u001b[1;33m,\u001b[0m \u001b[0mvalue\u001b[0m\u001b[1;33m)\u001b[0m\u001b[1;33m\u001b[0m\u001b[1;33m\u001b[0m\u001b[0m\n\u001b[0m\u001b[0;32m   3656\u001b[0m \u001b[1;33m\u001b[0m\u001b[0m\n\u001b[0;32m   3657\u001b[0m     \u001b[1;32mdef\u001b[0m \u001b[0m_setitem_slice\u001b[0m\u001b[1;33m(\u001b[0m\u001b[0mself\u001b[0m\u001b[1;33m,\u001b[0m \u001b[0mkey\u001b[0m\u001b[1;33m:\u001b[0m \u001b[0mslice\u001b[0m\u001b[1;33m,\u001b[0m \u001b[0mvalue\u001b[0m\u001b[1;33m)\u001b[0m\u001b[1;33m:\u001b[0m\u001b[1;33m\u001b[0m\u001b[1;33m\u001b[0m\u001b[0m\n",
      "\u001b[1;32mc:\\Users\\Daraz\\anaconda3\\lib\\site-packages\\pandas\\core\\frame.py\u001b[0m in \u001b[0;36m_set_item\u001b[1;34m(self, key, value)\u001b[0m\n\u001b[0;32m   3830\u001b[0m         \u001b[0mensure\u001b[0m \u001b[0mhomogeneity\u001b[0m\u001b[1;33m.\u001b[0m\u001b[1;33m\u001b[0m\u001b[1;33m\u001b[0m\u001b[0m\n\u001b[0;32m   3831\u001b[0m         \"\"\"\n\u001b[1;32m-> 3832\u001b[1;33m         \u001b[0mvalue\u001b[0m \u001b[1;33m=\u001b[0m \u001b[0mself\u001b[0m\u001b[1;33m.\u001b[0m\u001b[0m_sanitize_column\u001b[0m\u001b[1;33m(\u001b[0m\u001b[0mvalue\u001b[0m\u001b[1;33m)\u001b[0m\u001b[1;33m\u001b[0m\u001b[1;33m\u001b[0m\u001b[0m\n\u001b[0m\u001b[0;32m   3833\u001b[0m \u001b[1;33m\u001b[0m\u001b[0m\n\u001b[0;32m   3834\u001b[0m         if (\n",
      "\u001b[1;32mc:\\Users\\Daraz\\anaconda3\\lib\\site-packages\\pandas\\core\\frame.py\u001b[0m in \u001b[0;36m_sanitize_column\u001b[1;34m(self, value)\u001b[0m\n\u001b[0;32m   4533\u001b[0m \u001b[1;33m\u001b[0m\u001b[0m\n\u001b[0;32m   4534\u001b[0m         \u001b[1;32mif\u001b[0m \u001b[0mis_list_like\u001b[0m\u001b[1;33m(\u001b[0m\u001b[0mvalue\u001b[0m\u001b[1;33m)\u001b[0m\u001b[1;33m:\u001b[0m\u001b[1;33m\u001b[0m\u001b[1;33m\u001b[0m\u001b[0m\n\u001b[1;32m-> 4535\u001b[1;33m             \u001b[0mcom\u001b[0m\u001b[1;33m.\u001b[0m\u001b[0mrequire_length_match\u001b[0m\u001b[1;33m(\u001b[0m\u001b[0mvalue\u001b[0m\u001b[1;33m,\u001b[0m \u001b[0mself\u001b[0m\u001b[1;33m.\u001b[0m\u001b[0mindex\u001b[0m\u001b[1;33m)\u001b[0m\u001b[1;33m\u001b[0m\u001b[1;33m\u001b[0m\u001b[0m\n\u001b[0m\u001b[0;32m   4536\u001b[0m         \u001b[1;32mreturn\u001b[0m \u001b[0msanitize_array\u001b[0m\u001b[1;33m(\u001b[0m\u001b[0mvalue\u001b[0m\u001b[1;33m,\u001b[0m \u001b[0mself\u001b[0m\u001b[1;33m.\u001b[0m\u001b[0mindex\u001b[0m\u001b[1;33m,\u001b[0m \u001b[0mcopy\u001b[0m\u001b[1;33m=\u001b[0m\u001b[1;32mTrue\u001b[0m\u001b[1;33m,\u001b[0m \u001b[0mallow_2d\u001b[0m\u001b[1;33m=\u001b[0m\u001b[1;32mTrue\u001b[0m\u001b[1;33m)\u001b[0m\u001b[1;33m\u001b[0m\u001b[1;33m\u001b[0m\u001b[0m\n\u001b[0;32m   4537\u001b[0m \u001b[1;33m\u001b[0m\u001b[0m\n",
      "\u001b[1;32mc:\\Users\\Daraz\\anaconda3\\lib\\site-packages\\pandas\\core\\common.py\u001b[0m in \u001b[0;36mrequire_length_match\u001b[1;34m(data, index)\u001b[0m\n\u001b[0;32m    555\u001b[0m     \"\"\"\n\u001b[0;32m    556\u001b[0m     \u001b[1;32mif\u001b[0m \u001b[0mlen\u001b[0m\u001b[1;33m(\u001b[0m\u001b[0mdata\u001b[0m\u001b[1;33m)\u001b[0m \u001b[1;33m!=\u001b[0m \u001b[0mlen\u001b[0m\u001b[1;33m(\u001b[0m\u001b[0mindex\u001b[0m\u001b[1;33m)\u001b[0m\u001b[1;33m:\u001b[0m\u001b[1;33m\u001b[0m\u001b[1;33m\u001b[0m\u001b[0m\n\u001b[1;32m--> 557\u001b[1;33m         raise ValueError(\n\u001b[0m\u001b[0;32m    558\u001b[0m             \u001b[1;34m\"Length of values \"\u001b[0m\u001b[1;33m\u001b[0m\u001b[1;33m\u001b[0m\u001b[0m\n\u001b[0;32m    559\u001b[0m             \u001b[1;34mf\"({len(data)}) \"\u001b[0m\u001b[1;33m\u001b[0m\u001b[1;33m\u001b[0m\u001b[0m\n",
      "\u001b[1;31mValueError\u001b[0m: Length of values (3) does not match length of index (562)"
     ]
    }
   ],
   "source": [
    "df['1'] = df['Category'].str.split('/')[0]"
   ]
  },
  {
   "cell_type": "code",
   "execution_count": 23,
   "metadata": {},
   "outputs": [
    {
     "data": {
      "text/plain": [
       "['English', 'Payment', 'Payment']"
      ]
     },
     "execution_count": 23,
     "metadata": {},
     "output_type": "execute_result"
    }
   ],
   "source": [
    "df['Category'][0].split('/')"
   ]
  },
  {
   "cell_type": "code",
   "execution_count": 18,
   "metadata": {},
   "outputs": [],
   "source": [
    "df['Primary'] = 0"
   ]
  },
  {
   "cell_type": "code",
   "execution_count": 19,
   "metadata": {},
   "outputs": [
    {
     "name": "stderr",
     "output_type": "stream",
     "text": [
      "C:\\Users\\Daraz\\AppData\\Local\\Temp/ipykernel_31752/2107127560.py:2: SettingWithCopyWarning: \n",
      "A value is trying to be set on a copy of a slice from a DataFrame\n",
      "\n",
      "See the caveats in the documentation: https://pandas.pydata.org/pandas-docs/stable/user_guide/indexing.html#returning-a-view-versus-a-copy\n",
      "  df['Primary'][i] = df['Category'][i].split('/')[1]\n"
     ]
    }
   ],
   "source": [
    "for i in range(len(df)):\n",
    "    df['Primary'][i] = df['Category'][i].split('/')[1]"
   ]
  },
  {
   "cell_type": "code",
   "execution_count": 20,
   "metadata": {},
   "outputs": [
    {
     "data": {
      "text/plain": [
       "0        Payment\n",
       "1        Payment\n",
       "2       Ordering\n",
       "3       Ordering\n",
       "4        Payment\n",
       "         ...    \n",
       "557    Pre match\n",
       "558    Pre match\n",
       "559    Pre match\n",
       "560    Pre match\n",
       "561    Pre match\n",
       "Name: Primary, Length: 562, dtype: object"
      ]
     },
     "execution_count": 20,
     "metadata": {},
     "output_type": "execute_result"
    }
   ],
   "source": [
    "df['Primary']"
   ]
  },
  {
   "cell_type": "code",
   "execution_count": 34,
   "metadata": {},
   "outputs": [
    {
     "ename": "AttributeError",
     "evalue": "'str' object has no attribute 'contains'",
     "output_type": "error",
     "traceback": [
      "\u001b[1;31m---------------------------------------------------------------------------\u001b[0m",
      "\u001b[1;31mAttributeError\u001b[0m                            Traceback (most recent call last)",
      "\u001b[1;32m~\\AppData\\Local\\Temp/ipykernel_31752/959011048.py\u001b[0m in \u001b[0;36m<module>\u001b[1;34m\u001b[0m\n\u001b[1;32m----> 1\u001b[1;33m \u001b[0mdf\u001b[0m\u001b[1;33m[\u001b[0m\u001b[1;34m'Category'\u001b[0m\u001b[1;33m]\u001b[0m\u001b[1;33m[\u001b[0m\u001b[1;36m0\u001b[0m\u001b[1;33m]\u001b[0m\u001b[1;33m.\u001b[0m\u001b[0mcontains\u001b[0m\u001b[1;33m(\u001b[0m\u001b[1;34m'/'\u001b[0m\u001b[1;33m)\u001b[0m\u001b[1;33m\u001b[0m\u001b[1;33m\u001b[0m\u001b[0m\n\u001b[0m",
      "\u001b[1;31mAttributeError\u001b[0m: 'str' object has no attribute 'contains'"
     ]
    }
   ],
   "source": [
    "df['Category'][0].contains('/')"
   ]
  },
  {
   "cell_type": "code",
   "execution_count": 40,
   "metadata": {},
   "outputs": [],
   "source": [
    "special_characters = \"/\""
   ]
  },
  {
   "cell_type": "code",
   "execution_count": 39,
   "metadata": {},
   "outputs": [],
   "source": [
    "if any(c in special_characters for c in df['Category'][0]):\n",
    "    print('Yes')"
   ]
  },
  {
   "cell_type": "code",
   "execution_count": 21,
   "metadata": {},
   "outputs": [],
   "source": [
    "df['Secondary'] = 0"
   ]
  },
  {
   "cell_type": "code",
   "execution_count": 43,
   "metadata": {},
   "outputs": [
    {
     "name": "stderr",
     "output_type": "stream",
     "text": [
      "C:\\Users\\Daraz\\AppData\\Local\\Temp/ipykernel_31752/4102237817.py:5: SettingWithCopyWarning: \n",
      "A value is trying to be set on a copy of a slice from a DataFrame\n",
      "\n",
      "See the caveats in the documentation: https://pandas.pydata.org/pandas-docs/stable/user_guide/indexing.html#returning-a-view-versus-a-copy\n",
      "  df['Secondary'][i] = df['Category'][i].split('/')[1]\n",
      "C:\\Users\\Daraz\\AppData\\Local\\Temp/ipykernel_31752/4102237817.py:9: SettingWithCopyWarning: \n",
      "A value is trying to be set on a copy of a slice from a DataFrame\n",
      "\n",
      "See the caveats in the documentation: https://pandas.pydata.org/pandas-docs/stable/user_guide/indexing.html#returning-a-view-versus-a-copy\n",
      "  df['Secondary'][i] = np.nan\n"
     ]
    }
   ],
   "source": [
    "for i in range(len(df)):\n",
    "\n",
    "    if any(c in special_characters for c in df['Category'][i]):\n",
    "\n",
    "        df['Secondary'][i] = df['Category'][i].split('/')[1]\n",
    "\n",
    "    else:\n",
    "\n",
    "        df['Secondary'][i] = np.nan"
   ]
  },
  {
   "cell_type": "code",
   "execution_count": 47,
   "metadata": {},
   "outputs": [
    {
     "data": {
      "text/plain": [
       "Digital Goods           124\n",
       "Ordering                 87\n",
       "Shipping & Delivery      77\n",
       "Returns & Refunds        63\n",
       "Campaign                 50\n",
       "Other Topics             38\n",
       "Payment                  33\n",
       "Pre match                33\n",
       "My Account               18\n",
       "Voucher & Promotions     18\n",
       "DarazMall                16\n",
       "post match                5\n",
       "Name: Primary, dtype: int64"
      ]
     },
     "execution_count": 47,
     "metadata": {},
     "output_type": "execute_result"
    }
   ],
   "source": [
    "df['Primary'].value_counts()"
   ]
  },
  {
   "cell_type": "code",
   "execution_count": 48,
   "metadata": {},
   "outputs": [
    {
     "data": {
      "text/plain": [
       "Services                     85\n",
       "Delivery                     63\n",
       "Returns                      42\n",
       "Order Placement              34\n",
       "Digital Goods                31\n",
       "Campaign general             24\n",
       "Payment                      23\n",
       "Refunds                      21\n",
       "dMart                        21\n",
       "Account Management           18\n",
       "Collectible Voucher          18\n",
       "About Daraz                  17\n",
       "Selling on Daraz             15\n",
       "Product Information          15\n",
       "Collection Point             11\n",
       "Covid-19 Measures            10\n",
       "Order Cancellation           10\n",
       "EMI                          10\n",
       "Top-Up                        8\n",
       "Product Warranty              8\n",
       "What is DarazMall             7\n",
       "Product Price                 4\n",
       "Privacy & Consumer Rights     4\n",
       "DarazMall Returns             4\n",
       "Daraz Express                 3\n",
       "Pre-payment offer             3\n",
       "DarazMall Shipping            3\n",
       "Rating                        2\n",
       "Product Installation          2\n",
       "Career                        2\n",
       "Reviews                       2\n",
       "DarazMall For Sellers         1\n",
       "DarazMall Refunds             1\n",
       "Free Shipping                 1\n",
       "Daraz Bondhu Program          1\n",
       "Name: Secondary, dtype: int64"
      ]
     },
     "execution_count": 48,
     "metadata": {},
     "output_type": "execute_result"
    }
   ],
   "source": [
    "df['Secondary'].value_counts()"
   ]
  },
  {
   "cell_type": "code",
   "execution_count": 25,
   "metadata": {},
   "outputs": [],
   "source": [
    "df['Category'] = df['Category'].apply(lambda x: re.sub(r'English\\W+', '', x))"
   ]
  },
  {
   "cell_type": "code",
   "execution_count": 28,
   "metadata": {},
   "outputs": [
    {
     "ename": "ValueError",
     "evalue": "Columns must be same length as key",
     "output_type": "error",
     "traceback": [
      "\u001b[1;31m---------------------------------------------------------------------------\u001b[0m",
      "\u001b[1;31mValueError\u001b[0m                                Traceback (most recent call last)",
      "\u001b[1;32m~\\AppData\\Local\\Temp/ipykernel_31752/1622243732.py\u001b[0m in \u001b[0;36m<module>\u001b[1;34m\u001b[0m\n\u001b[1;32m----> 1\u001b[1;33m \u001b[0mdf\u001b[0m\u001b[1;33m[\u001b[0m\u001b[1;33m[\u001b[0m\u001b[1;34m'Primary'\u001b[0m\u001b[1;33m,\u001b[0m \u001b[1;34m'Secondary'\u001b[0m\u001b[1;33m]\u001b[0m\u001b[1;33m]\u001b[0m \u001b[1;33m=\u001b[0m \u001b[0mdf\u001b[0m\u001b[1;33m[\u001b[0m\u001b[1;34m'Category'\u001b[0m\u001b[1;33m]\u001b[0m\u001b[1;33m.\u001b[0m\u001b[0mapply\u001b[0m\u001b[1;33m(\u001b[0m\u001b[1;32mlambda\u001b[0m \u001b[0mx\u001b[0m\u001b[1;33m:\u001b[0m \u001b[0mx\u001b[0m\u001b[1;33m.\u001b[0m\u001b[0msplit\u001b[0m\u001b[1;33m(\u001b[0m\u001b[1;34m'/'\u001b[0m\u001b[1;33m)\u001b[0m\u001b[1;33m)\u001b[0m\u001b[1;33m\u001b[0m\u001b[1;33m\u001b[0m\u001b[0m\n\u001b[0m",
      "\u001b[1;32mc:\\Users\\Daraz\\anaconda3\\lib\\site-packages\\pandas\\core\\frame.py\u001b[0m in \u001b[0;36m__setitem__\u001b[1;34m(self, key, value)\u001b[0m\n\u001b[0;32m   3641\u001b[0m             \u001b[0mself\u001b[0m\u001b[1;33m.\u001b[0m\u001b[0m_setitem_frame\u001b[0m\u001b[1;33m(\u001b[0m\u001b[0mkey\u001b[0m\u001b[1;33m,\u001b[0m \u001b[0mvalue\u001b[0m\u001b[1;33m)\u001b[0m\u001b[1;33m\u001b[0m\u001b[1;33m\u001b[0m\u001b[0m\n\u001b[0;32m   3642\u001b[0m         \u001b[1;32melif\u001b[0m \u001b[0misinstance\u001b[0m\u001b[1;33m(\u001b[0m\u001b[0mkey\u001b[0m\u001b[1;33m,\u001b[0m \u001b[1;33m(\u001b[0m\u001b[0mSeries\u001b[0m\u001b[1;33m,\u001b[0m \u001b[0mnp\u001b[0m\u001b[1;33m.\u001b[0m\u001b[0mndarray\u001b[0m\u001b[1;33m,\u001b[0m \u001b[0mlist\u001b[0m\u001b[1;33m,\u001b[0m \u001b[0mIndex\u001b[0m\u001b[1;33m)\u001b[0m\u001b[1;33m)\u001b[0m\u001b[1;33m:\u001b[0m\u001b[1;33m\u001b[0m\u001b[1;33m\u001b[0m\u001b[0m\n\u001b[1;32m-> 3643\u001b[1;33m             \u001b[0mself\u001b[0m\u001b[1;33m.\u001b[0m\u001b[0m_setitem_array\u001b[0m\u001b[1;33m(\u001b[0m\u001b[0mkey\u001b[0m\u001b[1;33m,\u001b[0m \u001b[0mvalue\u001b[0m\u001b[1;33m)\u001b[0m\u001b[1;33m\u001b[0m\u001b[1;33m\u001b[0m\u001b[0m\n\u001b[0m\u001b[0;32m   3644\u001b[0m         \u001b[1;32melif\u001b[0m \u001b[0misinstance\u001b[0m\u001b[1;33m(\u001b[0m\u001b[0mvalue\u001b[0m\u001b[1;33m,\u001b[0m \u001b[0mDataFrame\u001b[0m\u001b[1;33m)\u001b[0m\u001b[1;33m:\u001b[0m\u001b[1;33m\u001b[0m\u001b[1;33m\u001b[0m\u001b[0m\n\u001b[0;32m   3645\u001b[0m             \u001b[0mself\u001b[0m\u001b[1;33m.\u001b[0m\u001b[0m_set_item_frame_value\u001b[0m\u001b[1;33m(\u001b[0m\u001b[0mkey\u001b[0m\u001b[1;33m,\u001b[0m \u001b[0mvalue\u001b[0m\u001b[1;33m)\u001b[0m\u001b[1;33m\u001b[0m\u001b[1;33m\u001b[0m\u001b[0m\n",
      "\u001b[1;32mc:\\Users\\Daraz\\anaconda3\\lib\\site-packages\\pandas\\core\\frame.py\u001b[0m in \u001b[0;36m_setitem_array\u001b[1;34m(self, key, value)\u001b[0m\n\u001b[0;32m   3700\u001b[0m \u001b[1;33m\u001b[0m\u001b[0m\n\u001b[0;32m   3701\u001b[0m             \u001b[1;32melse\u001b[0m\u001b[1;33m:\u001b[0m\u001b[1;33m\u001b[0m\u001b[1;33m\u001b[0m\u001b[0m\n\u001b[1;32m-> 3702\u001b[1;33m                 \u001b[0mself\u001b[0m\u001b[1;33m.\u001b[0m\u001b[0m_iset_not_inplace\u001b[0m\u001b[1;33m(\u001b[0m\u001b[0mkey\u001b[0m\u001b[1;33m,\u001b[0m \u001b[0mvalue\u001b[0m\u001b[1;33m)\u001b[0m\u001b[1;33m\u001b[0m\u001b[1;33m\u001b[0m\u001b[0m\n\u001b[0m\u001b[0;32m   3703\u001b[0m \u001b[1;33m\u001b[0m\u001b[0m\n\u001b[0;32m   3704\u001b[0m     \u001b[1;32mdef\u001b[0m \u001b[0m_iset_not_inplace\u001b[0m\u001b[1;33m(\u001b[0m\u001b[0mself\u001b[0m\u001b[1;33m,\u001b[0m \u001b[0mkey\u001b[0m\u001b[1;33m,\u001b[0m \u001b[0mvalue\u001b[0m\u001b[1;33m)\u001b[0m\u001b[1;33m:\u001b[0m\u001b[1;33m\u001b[0m\u001b[1;33m\u001b[0m\u001b[0m\n",
      "\u001b[1;32mc:\\Users\\Daraz\\anaconda3\\lib\\site-packages\\pandas\\core\\frame.py\u001b[0m in \u001b[0;36m_iset_not_inplace\u001b[1;34m(self, key, value)\u001b[0m\n\u001b[0;32m   3719\u001b[0m         \u001b[1;32mif\u001b[0m \u001b[0mself\u001b[0m\u001b[1;33m.\u001b[0m\u001b[0mcolumns\u001b[0m\u001b[1;33m.\u001b[0m\u001b[0mis_unique\u001b[0m\u001b[1;33m:\u001b[0m\u001b[1;33m\u001b[0m\u001b[1;33m\u001b[0m\u001b[0m\n\u001b[0;32m   3720\u001b[0m             \u001b[1;32mif\u001b[0m \u001b[0mnp\u001b[0m\u001b[1;33m.\u001b[0m\u001b[0mshape\u001b[0m\u001b[1;33m(\u001b[0m\u001b[0mvalue\u001b[0m\u001b[1;33m)\u001b[0m\u001b[1;33m[\u001b[0m\u001b[1;33m-\u001b[0m\u001b[1;36m1\u001b[0m\u001b[1;33m]\u001b[0m \u001b[1;33m!=\u001b[0m \u001b[0mlen\u001b[0m\u001b[1;33m(\u001b[0m\u001b[0mkey\u001b[0m\u001b[1;33m)\u001b[0m\u001b[1;33m:\u001b[0m\u001b[1;33m\u001b[0m\u001b[1;33m\u001b[0m\u001b[0m\n\u001b[1;32m-> 3721\u001b[1;33m                 \u001b[1;32mraise\u001b[0m \u001b[0mValueError\u001b[0m\u001b[1;33m(\u001b[0m\u001b[1;34m\"Columns must be same length as key\"\u001b[0m\u001b[1;33m)\u001b[0m\u001b[1;33m\u001b[0m\u001b[1;33m\u001b[0m\u001b[0m\n\u001b[0m\u001b[0;32m   3722\u001b[0m \u001b[1;33m\u001b[0m\u001b[0m\n\u001b[0;32m   3723\u001b[0m             \u001b[1;32mfor\u001b[0m \u001b[0mi\u001b[0m\u001b[1;33m,\u001b[0m \u001b[0mcol\u001b[0m \u001b[1;32min\u001b[0m \u001b[0menumerate\u001b[0m\u001b[1;33m(\u001b[0m\u001b[0mkey\u001b[0m\u001b[1;33m)\u001b[0m\u001b[1;33m:\u001b[0m\u001b[1;33m\u001b[0m\u001b[1;33m\u001b[0m\u001b[0m\n",
      "\u001b[1;31mValueError\u001b[0m: Columns must be same length as key"
     ]
    }
   ],
   "source": [
    "df[['Primary', 'Secondary']] = df['Category'].apply(lambda x: x.split('/'))"
   ]
  },
  {
   "cell_type": "code",
   "execution_count": 52,
   "metadata": {},
   "outputs": [],
   "source": [
    "df.drop(labels=['1', '2', '3'], axis = 1, inplace=True)"
   ]
  },
  {
   "cell_type": "code",
   "execution_count": 53,
   "metadata": {},
   "outputs": [
    {
     "data": {
      "text/html": [
       "<div>\n",
       "<style scoped>\n",
       "    .dataframe tbody tr th:only-of-type {\n",
       "        vertical-align: middle;\n",
       "    }\n",
       "\n",
       "    .dataframe tbody tr th {\n",
       "        vertical-align: top;\n",
       "    }\n",
       "\n",
       "    .dataframe thead th {\n",
       "        text-align: right;\n",
       "    }\n",
       "</style>\n",
       "<table border=\"1\" class=\"dataframe\">\n",
       "  <thead>\n",
       "    <tr style=\"text-align: right;\">\n",
       "      <th></th>\n",
       "      <th>Category id</th>\n",
       "      <th>Category</th>\n",
       "      <th>Knowledge id</th>\n",
       "      <th>Knowledge title</th>\n",
       "      <th>Knowledge type</th>\n",
       "      <th>Create time</th>\n",
       "      <th>Edit time</th>\n",
       "      <th>Editor</th>\n",
       "      <th>Similar question</th>\n",
       "      <th>机器人</th>\n",
       "      <th>AIML&amp;Android问题&amp;IOS问题&amp;会员帮助&amp;无线知识&amp;机器人</th>\n",
       "      <th>AIML</th>\n",
       "      <th>Primary</th>\n",
       "      <th>Secondary</th>\n",
       "    </tr>\n",
       "  </thead>\n",
       "  <tbody>\n",
       "    <tr>\n",
       "      <th>0</th>\n",
       "      <td>1000002193</td>\n",
       "      <td>Payment/Payment</td>\n",
       "      <td>1000015107</td>\n",
       "      <td>How do I pay on Daraz</td>\n",
       "      <td>普通知识</td>\n",
       "      <td>2020-03-26 19:32:18</td>\n",
       "      <td>2022-06-23 18:25:28</td>\n",
       "      <td>md.abid.hassan</td>\n",
       "      <td>How do I make payment on Daraz\\nPlease let me ...</td>\n",
       "      <td>How do I pay on Daraz?Daraz supports multiple ...</td>\n",
       "      <td>NaN</td>\n",
       "      <td>NaN</td>\n",
       "      <td>Payment</td>\n",
       "      <td>Payment</td>\n",
       "    </tr>\n",
       "    <tr>\n",
       "      <th>1</th>\n",
       "      <td>1000002193</td>\n",
       "      <td>Payment/Payment</td>\n",
       "      <td>1000015113</td>\n",
       "      <td>How do I pay with my Card</td>\n",
       "      <td>普通知识</td>\n",
       "      <td>2020-03-26 20:06:13</td>\n",
       "      <td>2022-01-05 20:08:37</td>\n",
       "      <td>md.abid.hassan</td>\n",
       "      <td>How can I make payment with my Debit card\\nHow...</td>\n",
       "      <td>After Checkout, when customers click on Procee...</td>\n",
       "      <td>NaN</td>\n",
       "      <td>NaN</td>\n",
       "      <td>Payment</td>\n",
       "      <td>Payment</td>\n",
       "    </tr>\n",
       "    <tr>\n",
       "      <th>2</th>\n",
       "      <td>1000002189</td>\n",
       "      <td>Ordering/Order Placement</td>\n",
       "      <td>1000015114</td>\n",
       "      <td>How can I get an invoice for my order</td>\n",
       "      <td>普通知识</td>\n",
       "      <td>2020-03-26 20:06:34</td>\n",
       "      <td>2022-01-13 14:18:19</td>\n",
       "      <td>md.abid.hassan</td>\n",
       "      <td>How can I collect my invoice paper\\nWhat is th...</td>\n",
       "      <td>For Marketplace items a hard copy of invoice i...</td>\n",
       "      <td>NaN</td>\n",
       "      <td>NaN</td>\n",
       "      <td>Ordering</td>\n",
       "      <td>Order Placement</td>\n",
       "    </tr>\n",
       "    <tr>\n",
       "      <th>3</th>\n",
       "      <td>1000002189</td>\n",
       "      <td>Ordering/Order Placement</td>\n",
       "      <td>1000015121</td>\n",
       "      <td>When will I receive the invoice of my order</td>\n",
       "      <td>普通知识</td>\n",
       "      <td>2020-03-26 20:17:39</td>\n",
       "      <td>2021-02-09 19:57:46</td>\n",
       "      <td>nagib.mahfuz</td>\n",
       "      <td>When will you send the invoice for my order\\nH...</td>\n",
       "      <td>For marketplace items, invoice paper is sent t...</td>\n",
       "      <td>NaN</td>\n",
       "      <td>NaN</td>\n",
       "      <td>Ordering</td>\n",
       "      <td>Order Placement</td>\n",
       "    </tr>\n",
       "    <tr>\n",
       "      <th>4</th>\n",
       "      <td>1000002193</td>\n",
       "      <td>Payment/Payment</td>\n",
       "      <td>1000015124</td>\n",
       "      <td>How to make bKash Payment on Daraz</td>\n",
       "      <td>普通知识</td>\n",
       "      <td>2020-03-26 20:21:28</td>\n",
       "      <td>2021-12-26 12:00:07</td>\n",
       "      <td>md.abid.hassan</td>\n",
       "      <td>What is the payment process with bkash on Dara...</td>\n",
       "      <td>How to make bKash Payment on Daraz?Paying thro...</td>\n",
       "      <td>NaN</td>\n",
       "      <td>NaN</td>\n",
       "      <td>Payment</td>\n",
       "      <td>Payment</td>\n",
       "    </tr>\n",
       "    <tr>\n",
       "      <th>...</th>\n",
       "      <td>...</td>\n",
       "      <td>...</td>\n",
       "      <td>...</td>\n",
       "      <td>...</td>\n",
       "      <td>...</td>\n",
       "      <td>...</td>\n",
       "      <td>...</td>\n",
       "      <td>...</td>\n",
       "      <td>...</td>\n",
       "      <td>...</td>\n",
       "      <td>...</td>\n",
       "      <td>...</td>\n",
       "      <td>...</td>\n",
       "      <td>...</td>\n",
       "    </tr>\n",
       "    <tr>\n",
       "      <th>557</th>\n",
       "      <td>1000005714</td>\n",
       "      <td>Pre match</td>\n",
       "      <td>1000072870</td>\n",
       "      <td>Cancellation_GuidedFlow_EN</td>\n",
       "      <td>大招</td>\n",
       "      <td>2022-06-28 20:31:32</td>\n",
       "      <td>2022-06-29 17:59:28</td>\n",
       "      <td>md.abid.hassan</td>\n",
       "      <td>NaN</td>\n",
       "      <td>NaN</td>\n",
       "      <td>NaN</td>\n",
       "      <td>Cancellation_GuidedFlow_EN</td>\n",
       "      <td>Pre match</td>\n",
       "      <td>NaN</td>\n",
       "    </tr>\n",
       "    <tr>\n",
       "      <th>558</th>\n",
       "      <td>1000005714</td>\n",
       "      <td>Pre match</td>\n",
       "      <td>1000072871</td>\n",
       "      <td>Return_GuidedFlow_EN</td>\n",
       "      <td>大招</td>\n",
       "      <td>2022-06-28 20:32:17</td>\n",
       "      <td>2022-06-29 17:59:30</td>\n",
       "      <td>md.abid.hassan</td>\n",
       "      <td>NaN</td>\n",
       "      <td>NaN</td>\n",
       "      <td>NaN</td>\n",
       "      <td>Return_GuidedFlow_EN</td>\n",
       "      <td>Pre match</td>\n",
       "      <td>NaN</td>\n",
       "    </tr>\n",
       "    <tr>\n",
       "      <th>559</th>\n",
       "      <td>1000005714</td>\n",
       "      <td>Pre match</td>\n",
       "      <td>1000072872</td>\n",
       "      <td>Refund_GuidedFlow_EN</td>\n",
       "      <td>大招</td>\n",
       "      <td>2022-06-28 20:32:48</td>\n",
       "      <td>2022-06-29 17:59:31</td>\n",
       "      <td>md.abid.hassan</td>\n",
       "      <td>NaN</td>\n",
       "      <td>NaN</td>\n",
       "      <td>NaN</td>\n",
       "      <td>Refund_GuidedFlow_EN</td>\n",
       "      <td>Pre match</td>\n",
       "      <td>NaN</td>\n",
       "    </tr>\n",
       "    <tr>\n",
       "      <th>560</th>\n",
       "      <td>1000005714</td>\n",
       "      <td>Pre match</td>\n",
       "      <td>1000072873</td>\n",
       "      <td>Payment_GuidedFlow_EN</td>\n",
       "      <td>大招</td>\n",
       "      <td>2022-06-28 20:33:13</td>\n",
       "      <td>2022-06-29 17:59:32</td>\n",
       "      <td>md.abid.hassan</td>\n",
       "      <td>NaN</td>\n",
       "      <td>NaN</td>\n",
       "      <td>NaN</td>\n",
       "      <td>Payment_GuidedFlow_EN</td>\n",
       "      <td>Pre match</td>\n",
       "      <td>NaN</td>\n",
       "    </tr>\n",
       "    <tr>\n",
       "      <th>561</th>\n",
       "      <td>1000005714</td>\n",
       "      <td>Pre match</td>\n",
       "      <td>1000072930</td>\n",
       "      <td>GuidedFlow_EN</td>\n",
       "      <td>大招</td>\n",
       "      <td>2022-06-29 18:14:08</td>\n",
       "      <td>2022-06-29 18:14:38</td>\n",
       "      <td>md.abid.hassan</td>\n",
       "      <td>GuidedFlow_EN</td>\n",
       "      <td>NaN</td>\n",
       "      <td>NaN</td>\n",
       "      <td>9291:2.0.0</td>\n",
       "      <td>Pre match</td>\n",
       "      <td>NaN</td>\n",
       "    </tr>\n",
       "  </tbody>\n",
       "</table>\n",
       "<p>562 rows × 14 columns</p>\n",
       "</div>"
      ],
      "text/plain": [
       "     Category id                  Category  Knowledge id  \\\n",
       "0     1000002193           Payment/Payment    1000015107   \n",
       "1     1000002193           Payment/Payment    1000015113   \n",
       "2     1000002189  Ordering/Order Placement    1000015114   \n",
       "3     1000002189  Ordering/Order Placement    1000015121   \n",
       "4     1000002193           Payment/Payment    1000015124   \n",
       "..           ...                       ...           ...   \n",
       "557   1000005714                 Pre match    1000072870   \n",
       "558   1000005714                 Pre match    1000072871   \n",
       "559   1000005714                 Pre match    1000072872   \n",
       "560   1000005714                 Pre match    1000072873   \n",
       "561   1000005714                 Pre match    1000072930   \n",
       "\n",
       "                                 Knowledge title Knowledge type  \\\n",
       "0                          How do I pay on Daraz           普通知识   \n",
       "1                      How do I pay with my Card           普通知识   \n",
       "2          How can I get an invoice for my order           普通知识   \n",
       "3    When will I receive the invoice of my order           普通知识   \n",
       "4             How to make bKash Payment on Daraz           普通知识   \n",
       "..                                           ...            ...   \n",
       "557                   Cancellation_GuidedFlow_EN             大招   \n",
       "558                         Return_GuidedFlow_EN             大招   \n",
       "559                         Refund_GuidedFlow_EN             大招   \n",
       "560                        Payment_GuidedFlow_EN             大招   \n",
       "561                                GuidedFlow_EN             大招   \n",
       "\n",
       "             Create time            Edit time          Editor  \\\n",
       "0    2020-03-26 19:32:18  2022-06-23 18:25:28  md.abid.hassan   \n",
       "1    2020-03-26 20:06:13  2022-01-05 20:08:37  md.abid.hassan   \n",
       "2    2020-03-26 20:06:34  2022-01-13 14:18:19  md.abid.hassan   \n",
       "3    2020-03-26 20:17:39  2021-02-09 19:57:46    nagib.mahfuz   \n",
       "4    2020-03-26 20:21:28  2021-12-26 12:00:07  md.abid.hassan   \n",
       "..                   ...                  ...             ...   \n",
       "557  2022-06-28 20:31:32  2022-06-29 17:59:28  md.abid.hassan   \n",
       "558  2022-06-28 20:32:17  2022-06-29 17:59:30  md.abid.hassan   \n",
       "559  2022-06-28 20:32:48  2022-06-29 17:59:31  md.abid.hassan   \n",
       "560  2022-06-28 20:33:13  2022-06-29 17:59:32  md.abid.hassan   \n",
       "561  2022-06-29 18:14:08  2022-06-29 18:14:38  md.abid.hassan   \n",
       "\n",
       "                                      Similar question  \\\n",
       "0    How do I make payment on Daraz\\nPlease let me ...   \n",
       "1    How can I make payment with my Debit card\\nHow...   \n",
       "2    How can I collect my invoice paper\\nWhat is th...   \n",
       "3    When will you send the invoice for my order\\nH...   \n",
       "4    What is the payment process with bkash on Dara...   \n",
       "..                                                 ...   \n",
       "557                                                NaN   \n",
       "558                                                NaN   \n",
       "559                                                NaN   \n",
       "560                                                NaN   \n",
       "561                                      GuidedFlow_EN   \n",
       "\n",
       "                                                   机器人  \\\n",
       "0    How do I pay on Daraz?Daraz supports multiple ...   \n",
       "1    After Checkout, when customers click on Procee...   \n",
       "2    For Marketplace items a hard copy of invoice i...   \n",
       "3    For marketplace items, invoice paper is sent t...   \n",
       "4    How to make bKash Payment on Daraz?Paying thro...   \n",
       "..                                                 ...   \n",
       "557                                                NaN   \n",
       "558                                                NaN   \n",
       "559                                                NaN   \n",
       "560                                                NaN   \n",
       "561                                                NaN   \n",
       "\n",
       "    AIML&Android问题&IOS问题&会员帮助&无线知识&机器人                        AIML    Primary  \\\n",
       "0                                  NaN                         NaN    Payment   \n",
       "1                                  NaN                         NaN    Payment   \n",
       "2                                  NaN                         NaN   Ordering   \n",
       "3                                  NaN                         NaN   Ordering   \n",
       "4                                  NaN                         NaN    Payment   \n",
       "..                                 ...                         ...        ...   \n",
       "557                                NaN  Cancellation_GuidedFlow_EN  Pre match   \n",
       "558                                NaN        Return_GuidedFlow_EN  Pre match   \n",
       "559                                NaN        Refund_GuidedFlow_EN  Pre match   \n",
       "560                                NaN       Payment_GuidedFlow_EN  Pre match   \n",
       "561                                NaN                  9291:2.0.0  Pre match   \n",
       "\n",
       "           Secondary  \n",
       "0            Payment  \n",
       "1            Payment  \n",
       "2    Order Placement  \n",
       "3    Order Placement  \n",
       "4            Payment  \n",
       "..               ...  \n",
       "557              NaN  \n",
       "558              NaN  \n",
       "559              NaN  \n",
       "560              NaN  \n",
       "561              NaN  \n",
       "\n",
       "[562 rows x 14 columns]"
      ]
     },
     "execution_count": 53,
     "metadata": {},
     "output_type": "execute_result"
    }
   ],
   "source": [
    "df"
   ]
  },
  {
   "cell_type": "code",
   "execution_count": null,
   "metadata": {},
   "outputs": [],
   "source": [
    "df['Primary'] == 'Payment'"
   ]
  }
 ],
 "metadata": {
  "kernelspec": {
   "display_name": "Python 3.9.7 ('base')",
   "language": "python",
   "name": "python3"
  },
  "language_info": {
   "codemirror_mode": {
    "name": "ipython",
    "version": 3
   },
   "file_extension": ".py",
   "mimetype": "text/x-python",
   "name": "python",
   "nbconvert_exporter": "python",
   "pygments_lexer": "ipython3",
   "version": "3.9.7"
  },
  "orig_nbformat": 4,
  "vscode": {
   "interpreter": {
    "hash": "0606053452435824a427f0ea93d6ae20786397642025bcc66bfe96b66155d44b"
   }
  }
 },
 "nbformat": 4,
 "nbformat_minor": 2
}
